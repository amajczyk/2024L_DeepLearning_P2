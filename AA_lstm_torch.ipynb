{
 "cells": [
  {
   "cell_type": "code",
   "execution_count": 20,
   "metadata": {},
   "outputs": [],
   "source": [
    "from src.utils import *"
   ]
  },
  {
   "cell_type": "code",
   "execution_count": 21,
   "metadata": {},
   "outputs": [],
   "source": [
    "# delete 75% of files in the directory\n",
    "import os\n",
    "import random\n",
    "\n",
    "def delete_files(directory, percentage=0.75):\n",
    "    files = os.listdir(directory)\n",
    "    files = random.sample(files, int(len(files) * percentage))\n",
    "    for file in files:\n",
    "        os.remove(os.path.join(directory, file))\n",
    "\n",
    "# delete_files('data/train/audio_yes_no/no', 0.5)\n",
    "# delete_files('data/train/audio_yes_no/yes', 0.5)"
   ]
  },
  {
   "cell_type": "code",
   "execution_count": 22,
   "metadata": {},
   "outputs": [],
   "source": [
    "model_name = \"LSTM/custom_LSTM\"\n"
   ]
  },
  {
   "cell_type": "code",
   "execution_count": 23,
   "metadata": {},
   "outputs": [],
   "source": [
    "import torch\n",
    "import torchaudio\n",
    "import torchaudio.transforms as transforms\n",
    "\n",
    "class MFCC(torch.nn.Module):\n",
    "    def __init__(self, sample_rate=16000, n_mfcc=13, melkwargs=None):\n",
    "        super(MFCC, self).__init__()\n",
    "        self.sample_rate = sample_rate\n",
    "        self.n_mfcc = n_mfcc\n",
    "        self.melkwargs = melkwargs if melkwargs else {}\n",
    "\n",
    "        self.mfcc_transform = transforms.MFCC(\n",
    "            sample_rate=self.sample_rate,\n",
    "            n_mfcc=self.n_mfcc,\n",
    "            melkwargs=self.melkwargs\n",
    "        )\n",
    "\n",
    "    def forward(self, waveform):\n",
    "        \"\"\"\n",
    "        Args:\n",
    "            waveform (torch.Tensor): Tensor of audio of shape (channel, time)\n",
    "\n",
    "        Returns:\n",
    "            torch.Tensor: MFCC of audio of shape (channel, n_mfcc, time).\n",
    "        \"\"\"\n",
    "        mfcc = self.mfcc_transform(waveform)\n",
    "        # MFCC transformation yields (channel, n_mfcc, time) tensor\n",
    "        return mfcc[0]\n",
    "\n",
    "# Example Usage:\n",
    "sample_rate = 16000\n",
    "n_mfcc = 13\n",
    "melkwargs = {'n_fft': 400, 'hop_length': 160, 'n_mels': 23}\n",
    "feature_extractor = MFCC(sample_rate=sample_rate, n_mfcc=n_mfcc, melkwargs=melkwargs)\n",
    "\n",
    "\n"
   ]
  },
  {
   "cell_type": "code",
   "execution_count": 24,
   "metadata": {},
   "outputs": [
    {
     "data": {
      "text/plain": [
       "torch.Size([4, 13, 101])"
      ]
     },
     "execution_count": 24,
     "metadata": {},
     "output_type": "execute_result"
    }
   ],
   "source": [
    "import torch\n",
    "import torchaudio\n",
    "from torch.utils.data import Dataset, DataLoader\n",
    "import os\n",
    "\n",
    "class CustomAudioDataset(Dataset):\n",
    "    def __init__(self, data_dir, transform=None, fixed_length=None):\n",
    "        self.data_dir = data_dir\n",
    "        self.file_list, self.labels = self._get_file_list_and_labels()\n",
    "        self.transform = transform\n",
    "        self.fixed_length = fixed_length\n",
    "\n",
    "    def _get_file_list_and_labels(self):\n",
    "        file_list = []\n",
    "        labels = []\n",
    "        for root, dirs, files in os.walk(self.data_dir):\n",
    "            for file in files:\n",
    "                if file.endswith(\".wav\"):  # Adjust file extension if needed\n",
    "                    file_list.append(root + \"/\" + file)\n",
    "                    labels.append(os.path.basename(root))  # Extract label from directory name\n",
    "        return file_list, labels\n",
    "\n",
    "    def __len__(self):\n",
    "        return len(self.file_list)\n",
    "\n",
    "    def __getitem__(self, idx):\n",
    "        file_path = self.file_list[idx]\n",
    "        waveform, sample_rate = torchaudio.load(file_path)\n",
    "        \n",
    "        \n",
    "        \n",
    "        if self.fixed_length:\n",
    "            waveform = self._pad_waveform(waveform, self.fixed_length)\n",
    "\n",
    "        label = self.labels[idx]\n",
    "\n",
    "        \n",
    "\n",
    "        if self.transform:\n",
    "            waveform = self.transform(waveform)\n",
    "\n",
    "        return waveform, sample_rate, label\n",
    "\n",
    "    def _pad_waveform(self, waveform, target_length):\n",
    "        length_diff = target_length - waveform.size(1)\n",
    "        if length_diff > 0:\n",
    "            padding = torch.zeros((1, length_diff))\n",
    "            waveform = torch.cat([waveform, padding], dim=1)\n",
    "        return waveform\n",
    "\n",
    "# Example usage\n",
    "data_dir = \"data/train/audio_small/\"\n",
    "# data_dir = \"data/train/audio_yes_no/\"\n",
    "transform = feature_extractor  # You can define transformations if needed\n",
    "fixed_length = 16000  # Assuming you want to fix the length to 16000 samples\n",
    "sampling_rate = fixed_length  # Assuming you want to fix the sampling rate to 16000 Hz\n",
    "\n",
    "\n",
    "\n",
    "\n",
    "batch_size = 4\n",
    "\n",
    "\n",
    "data_loader = DataLoader(\n",
    "    CustomAudioDataset(data_dir, transform=transform, fixed_length=fixed_length),\n",
    "    batch_size=batch_size,\n",
    "    shuffle=True\n",
    ")\n",
    "\n",
    "next(iter(data_loader))[0].shape"
   ]
  },
  {
   "cell_type": "code",
   "execution_count": 25,
   "metadata": {},
   "outputs": [],
   "source": [
    "import torch\n",
    "import torch.nn as nn\n",
    "\n",
    "class LSTMClassifier(nn.Module):\n",
    "    def __init__(self, input_size, hidden_size, num_layers, num_classes, use_conv=False):\n",
    "        super(LSTMClassifier, self).__init__()\n",
    "        self.use_conv = use_conv\n",
    "\n",
    "        lstm_input_size = 101\n",
    "        if use_conv:\n",
    "            self.conv_layers = nn.Sequential(\n",
    "                nn.Conv1d(in_channels=input_size, out_channels=32, kernel_size=3, padding=1),\n",
    "                nn.ReLU(),\n",
    "                nn.MaxPool1d(kernel_size=2, stride=2),\n",
    "                nn.Conv1d(in_channels=32, out_channels=64, kernel_size=3, padding=1),\n",
    "                nn.ReLU(),\n",
    "                nn.MaxPool1d(kernel_size=2, stride=2)\n",
    "            )\n",
    "            # Calculate the input size for the LSTM based on the output size of the last conv layer\n",
    "            input_size = lstm_input_size//4\n",
    "\n",
    "        self.lstm = nn.LSTM(input_size=input_size, hidden_size=hidden_size, num_layers=num_layers, batch_first=True)\n",
    "        self.fc = nn.Linear(hidden_size, num_classes)\n",
    "\n",
    "    def forward(self, x):\n",
    "        if self.use_conv:\n",
    "            x = self.conv_layers(x)\n",
    "\n",
    "        # print(x.shape)\n",
    "\n",
    "        lstm_out, _ = self.lstm(x)\n",
    "        lstm_out = lstm_out[:, -1, :]  # Take the last output of the sequence\n",
    "        out = self.fc(lstm_out)\n",
    "        return out\n",
    "\n",
    "def create_lstm_classifier(input_size, hidden_size, num_layers, num_classes, use_conv=False):\n",
    "    model = LSTMClassifier(input_size=input_size, hidden_size=hidden_size, num_layers=num_layers, num_classes=num_classes, use_conv=use_conv)\n",
    "    return model"
   ]
  },
  {
   "cell_type": "code",
   "execution_count": 26,
   "metadata": {},
   "outputs": [],
   "source": [
    "def count_trainable_parameters(model):\n",
    "    return sum(p.numel() for p in model.parameters() if p.requires_grad)\n",
    "\n",
    "\n",
    "def freeze_layers_except_last_n(model, n):\n",
    "    # Get all parameters\n",
    "    parameters = list(model.parameters())\n",
    "    total_layers = len(parameters)\n",
    "\n",
    "    # Freeze all layers except the last n\n",
    "    for i, param in enumerate(parameters):\n",
    "        if i < total_layers - n:\n",
    "            param.requires_grad = False\n",
    "\n",
    "\n"
   ]
  },
  {
   "cell_type": "code",
   "execution_count": 27,
   "metadata": {},
   "outputs": [],
   "source": [
    "num_epochs = 10\n",
    "perc = 0.05\n",
    "num_classes = 2 if data_dir == \"data/train/audio_yes_no/\" else 11"
   ]
  },
  {
   "cell_type": "code",
   "execution_count": 28,
   "metadata": {},
   "outputs": [
    {
     "data": {
      "application/vnd.jupyter.widget-view+json": {
       "model_id": "88d3a5af0157447ba9b0369cebfb5ba2",
       "version_major": 2,
       "version_minor": 0
      },
      "text/plain": [
       "use_conv loop:   0%|          | 0/2 [00:00<?, ?it/s]"
      ]
     },
     "metadata": {},
     "output_type": "display_data"
    },
    {
     "data": {
      "application/vnd.jupyter.widget-view+json": {
       "model_id": "b93a5f550db44c909e22c4aef6362148",
       "version_major": 2,
       "version_minor": 0
      },
      "text/plain": [
       "num_layers loop:   0%|          | 0/4 [00:00<?, ?it/s]"
      ]
     },
     "metadata": {},
     "output_type": "display_data"
    },
    {
     "data": {
      "application/vnd.jupyter.widget-view+json": {
       "model_id": "b1d6e3c08f5a4fa3b6f567b6a722368f",
       "version_major": 2,
       "version_minor": 0
      },
      "text/plain": [
       "hidden_sizes loop:   0%|          | 0/3 [00:00<?, ?it/s]"
      ]
     },
     "metadata": {},
     "output_type": "display_data"
    },
    {
     "data": {
      "application/vnd.jupyter.widget-view+json": {
       "model_id": "18d038413bc24a3890704792b87582fb",
       "version_major": 2,
       "version_minor": 0
      },
      "text/plain": [
       "Training loop (5 times):   0%|          | 0/5 [00:00<?, ?it/s]"
      ]
     },
     "metadata": {},
     "output_type": "display_data"
    },
    {
     "data": {
      "application/vnd.jupyter.widget-view+json": {
       "model_id": "19014e64cc5a4272a27a0c89cf3f8aee",
       "version_major": 2,
       "version_minor": 0
      },
      "text/plain": [
       "Epoch 1/10:   0%|          | 0/6187 [00:00<?, ?it/s]"
      ]
     },
     "metadata": {},
     "output_type": "display_data"
    },
    {
     "name": "stdout",
     "output_type": "stream",
     "text": [
      "Epoch 1/10, Train Loss: 1.263838587377262\n"
     ]
    },
    {
     "data": {
      "application/vnd.jupyter.widget-view+json": {
       "model_id": "4c97c2f011b54319b16c419c98b9fbe4",
       "version_major": 2,
       "version_minor": 0
      },
      "text/plain": [
       "Validation:   0%|          | 0/163 [00:00<?, ?it/s]"
      ]
     },
     "metadata": {},
     "output_type": "display_data"
    },
    {
     "name": "stdout",
     "output_type": "stream",
     "text": [
      "Epoch 1/10, Validation Loss: 0.826222360819761, Validation Accuracy: 0.7235023041474654\n"
     ]
    },
    {
     "data": {
      "application/vnd.jupyter.widget-view+json": {
       "model_id": "ee4dba37e093467db6f86bf38221eeac",
       "version_major": 2,
       "version_minor": 0
      },
      "text/plain": [
       "Epoch 2/10:   0%|          | 0/6187 [00:00<?, ?it/s]"
      ]
     },
     "metadata": {},
     "output_type": "display_data"
    }
   ],
   "source": [
    "import random\n",
    "import numpy as np\n",
    "\n",
    "use_convs_ = [False, True]\n",
    "num_layers_ = [2, 4, 6, 10]\n",
    "hidden_sizes_ = [32, 64, 128]\n",
    "\n",
    "for use_conv in tqdm(use_convs_, desc='use_conv loop'):\n",
    "    for num_layers in tqdm(num_layers_, desc= 'num_layers loop'):\n",
    "        for hidden_size in tqdm(hidden_sizes_, desc= 'hidden_sizes loop'):\n",
    "\n",
    "\n",
    "            for i in tqdm(np.arange (0, 5, 1), desc='Training loop (5 times)'):\n",
    "            \n",
    "                random.seed(int(i))\n",
    "                torch.manual_seed(i)\n",
    "                torch.cuda.manual_seed(i)\n",
    "                torch.cuda.manual_seed_all(i)\n",
    "\n",
    "                \n",
    "            \n",
    "                model = create_lstm_classifier(input_size=13, hidden_size=128, num_layers=2, num_classes=num_classes, use_conv=True)\n",
    "\n",
    "                only_name = model_name.split(\"/\")[-1]   \n",
    "\n",
    "\n",
    "                optimizer = torch.optim.Adam(model.parameters(), lr=0.001)\n",
    "                criterion = torch.nn.CrossEntropyLoss()\n",
    "\n",
    "                device = torch.device('cuda')\n",
    "                # Assuming your model is named ast_model\n",
    "                \n",
    "\n",
    "                model.to(device)\n",
    "\n",
    "                train_dataset = CustomAudioDataset(data_dir, fixed_length=16000, transform=feature_extractor)\n",
    "                                                \n",
    "\n",
    "\n",
    "                n_train = len(train_dataset)\n",
    "                n_val = int(perc * n_train)\n",
    "                n_test = n_val//2\n",
    "                n_train = n_train - n_val\n",
    "\n",
    "                train_dataset, val_dataset = torch.utils.data.random_split(train_dataset, [n_train, n_val], generator=torch.Generator().manual_seed(42))\n",
    "                val_dataset, test_dataset = torch.utils.data.random_split(val_dataset, [n_val-n_test, n_test], generator=torch.Generator().manual_seed(42))\n",
    "\n",
    "                train_loader = DataLoader(train_dataset, batch_size=batch_size, shuffle=True)\n",
    "                val_loader = DataLoader(val_dataset, batch_size=batch_size, shuffle=False)\n",
    "                test_loader = DataLoader(test_dataset, batch_size=batch_size, shuffle=False)\n",
    "                \n",
    "\n",
    "                labels = set(train_dataset.dataset.labels)\n",
    "                label_to_index = dict((label, i) for i, label in enumerate(sorted(labels)))\n",
    "                name = data_dir.split(\"/\")[-2]\n",
    "                # print(name)\n",
    "                log_dir = train(model, train_loader, val_loader, num_epochs, optimizer, criterion, device, label_to_index, only_name, log=True, description=f\"test_{name}_useConv_{str(use_conv)}_numLstmLayers_{num_layers}_hidden_sizes_{hidden_size}_{i}\", lstm=True)\n",
    "                test(model, test_loader, criterion, device, label_to_index, only_name, log_dir, lstm=True)\n",
    "\n"
   ]
  }
 ],
 "metadata": {
  "kernelspec": {
   "display_name": "py310",
   "language": "python",
   "name": "python3"
  },
  "language_info": {
   "codemirror_mode": {
    "name": "ipython",
    "version": 3
   },
   "file_extension": ".py",
   "mimetype": "text/x-python",
   "name": "python",
   "nbconvert_exporter": "python",
   "pygments_lexer": "ipython3",
   "version": "3.9.19"
  }
 },
 "nbformat": 4,
 "nbformat_minor": 2
}
