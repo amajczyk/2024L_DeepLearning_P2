{
 "cells": [
  {
   "cell_type": "code",
   "execution_count": 1,
   "metadata": {},
   "outputs": [],
   "source": [
    "from src.utils import *"
   ]
  },
  {
   "cell_type": "code",
   "execution_count": 2,
   "metadata": {},
   "outputs": [],
   "source": [
    "# delete 75% of files in the directory\n",
    "import os\n",
    "import random\n",
    "\n",
    "def delete_files(directory, percentage=0.75):\n",
    "    files = os.listdir(directory)\n",
    "    files = random.sample(files, int(len(files) * percentage))\n",
    "    for file in files:\n",
    "        os.remove(os.path.join(directory, file))\n",
    "\n",
    "# delete_files('data/train/audio_yes_no/no', 0.5)\n",
    "# delete_files('data/train/audio_yes_no/yes', 0.5)"
   ]
  },
  {
   "cell_type": "code",
   "execution_count": 3,
   "metadata": {},
   "outputs": [],
   "source": [
    "model_name = \"LSTM/custom_LSTM\"\n"
   ]
  },
  {
   "cell_type": "code",
   "execution_count": 4,
   "metadata": {},
   "outputs": [],
   "source": [
    "import torch\n",
    "import torchaudio\n",
    "import torchaudio.transforms as transforms\n",
    "\n",
    "class MFCC(torch.nn.Module):\n",
    "    def __init__(self, sample_rate=16000, n_mfcc=13, melkwargs=None):\n",
    "        super(MFCC, self).__init__()\n",
    "        self.sample_rate = sample_rate\n",
    "        self.n_mfcc = n_mfcc\n",
    "        self.melkwargs = melkwargs if melkwargs else {}\n",
    "\n",
    "        self.mfcc_transform = transforms.MFCC(\n",
    "            sample_rate=self.sample_rate,\n",
    "            n_mfcc=self.n_mfcc,\n",
    "            melkwargs=self.melkwargs\n",
    "        )\n",
    "\n",
    "    def forward(self, waveform):\n",
    "        \"\"\"\n",
    "        Args:\n",
    "            waveform (torch.Tensor): Tensor of audio of shape (channel, time)\n",
    "\n",
    "        Returns:\n",
    "            torch.Tensor: MFCC of audio of shape (channel, n_mfcc, time).\n",
    "        \"\"\"\n",
    "        mfcc = self.mfcc_transform(waveform)\n",
    "        # MFCC transformation yields (channel, n_mfcc, time) tensor\n",
    "        return mfcc[0]\n",
    "\n",
    "# Example Usage:\n",
    "sample_rate = 16000\n",
    "n_mfcc = 13\n",
    "melkwargs = {'n_fft': 400, 'hop_length': 160, 'n_mels': 23}\n",
    "feature_extractor = MFCC(sample_rate=sample_rate, n_mfcc=n_mfcc, melkwargs=melkwargs)\n",
    "\n",
    "\n"
   ]
  },
  {
   "cell_type": "code",
   "execution_count": 5,
   "metadata": {},
   "outputs": [
    {
     "data": {
      "text/plain": [
       "torch.Size([4, 13, 101])"
      ]
     },
     "execution_count": 5,
     "metadata": {},
     "output_type": "execute_result"
    }
   ],
   "source": [
    "import torch\n",
    "import torchaudio\n",
    "from torch.utils.data import Dataset, DataLoader\n",
    "import os\n",
    "\n",
    "class CustomAudioDataset(Dataset):\n",
    "    def __init__(self, data_dir, transform=None, fixed_length=None):\n",
    "        self.data_dir = data_dir\n",
    "        self.file_list, self.labels = self._get_file_list_and_labels()\n",
    "        self.transform = transform\n",
    "        self.fixed_length = fixed_length\n",
    "\n",
    "    def _get_file_list_and_labels(self):\n",
    "        file_list = []\n",
    "        labels = []\n",
    "        for root, dirs, files in os.walk(self.data_dir):\n",
    "            for file in files:\n",
    "                if file.endswith(\".wav\"):  # Adjust file extension if needed\n",
    "                    file_list.append(root + \"/\" + file)\n",
    "                    labels.append(os.path.basename(root))  # Extract label from directory name\n",
    "        return file_list, labels\n",
    "\n",
    "    def __len__(self):\n",
    "        return len(self.file_list)\n",
    "\n",
    "    def __getitem__(self, idx):\n",
    "        file_path = self.file_list[idx]\n",
    "        waveform, sample_rate = torchaudio.load(file_path)\n",
    "        \n",
    "        \n",
    "        \n",
    "        if self.fixed_length:\n",
    "            waveform = self._pad_waveform(waveform, self.fixed_length)\n",
    "\n",
    "        label = self.labels[idx]\n",
    "\n",
    "        \n",
    "\n",
    "        if self.transform:\n",
    "            waveform = self.transform(waveform)\n",
    "\n",
    "        return waveform, sample_rate, label\n",
    "\n",
    "    def _pad_waveform(self, waveform, target_length):\n",
    "        length_diff = target_length - waveform.size(1)\n",
    "        if length_diff > 0:\n",
    "            padding = torch.zeros((1, length_diff))\n",
    "            waveform = torch.cat([waveform, padding], dim=1)\n",
    "        return waveform\n",
    "\n",
    "# Example usage\n",
    "data_dir = \"data/train/audio_small/\"\n",
    "# data_dir = \"data/train/audio_yes_no/\"\n",
    "transform = feature_extractor  # You can define transformations if needed\n",
    "fixed_length = 16000  # Assuming you want to fix the length to 16000 samples\n",
    "sampling_rate = fixed_length  # Assuming you want to fix the sampling rate to 16000 Hz\n",
    "\n",
    "\n",
    "\n",
    "\n",
    "batch_size = 4\n",
    "\n",
    "\n",
    "data_loader = DataLoader(\n",
    "    CustomAudioDataset(data_dir, transform=transform, fixed_length=fixed_length),\n",
    "    batch_size=batch_size,\n",
    "    shuffle=True\n",
    ")\n",
    "\n",
    "next(iter(data_loader))[0].shape"
   ]
  },
  {
   "cell_type": "code",
   "execution_count": 6,
   "metadata": {},
   "outputs": [],
   "source": [
    "import torch\n",
    "import torch.nn as nn\n",
    "\n",
    "class LSTMClassifier(nn.Module):\n",
    "    def __init__(self, input_size, hidden_size, num_layers, num_classes, use_conv=False):\n",
    "        super(LSTMClassifier, self).__init__()\n",
    "        self.use_conv = use_conv\n",
    "\n",
    "        lstm_input_size = 101\n",
    "        if use_conv:\n",
    "            self.conv_layers = nn.Sequential(\n",
    "                nn.Conv1d(in_channels=input_size, out_channels=32, kernel_size=3, padding=1),\n",
    "                nn.ReLU(),\n",
    "                nn.MaxPool1d(kernel_size=2, stride=2),\n",
    "                nn.Conv1d(in_channels=32, out_channels=64, kernel_size=3, padding=1),\n",
    "                nn.ReLU(),\n",
    "                nn.MaxPool1d(kernel_size=2, stride=2)\n",
    "            )\n",
    "            # Calculate the input size for the LSTM based on the output size of the last conv layer\n",
    "            input_size = lstm_input_size//4\n",
    "\n",
    "        self.lstm = nn.LSTM(input_size=input_size, hidden_size=hidden_size, num_layers=num_layers, batch_first=True)\n",
    "        self.fc = nn.Linear(hidden_size, num_classes)\n",
    "\n",
    "    def forward(self, x):\n",
    "        if self.use_conv:\n",
    "            x = self.conv_layers(x)\n",
    "\n",
    "        # print(x.shape)\n",
    "\n",
    "        lstm_out, _ = self.lstm(x)\n",
    "        lstm_out = lstm_out[:, -1, :]  # Take the last output of the sequence\n",
    "        out = self.fc(lstm_out)\n",
    "        return out\n",
    "\n",
    "def create_lstm_classifier(input_size, hidden_size, num_layers, num_classes, use_conv=False):\n",
    "    model = LSTMClassifier(input_size=input_size, hidden_size=hidden_size, num_layers=num_layers, num_classes=num_classes, use_conv=use_conv)\n",
    "    return model"
   ]
  },
  {
   "cell_type": "code",
   "execution_count": 7,
   "metadata": {},
   "outputs": [],
   "source": [
    "def count_trainable_parameters(model):\n",
    "    return sum(p.numel() for p in model.parameters() if p.requires_grad)\n",
    "\n",
    "\n",
    "def freeze_layers_except_last_n(model, n):\n",
    "    # Get all parameters\n",
    "    parameters = list(model.parameters())\n",
    "    total_layers = len(parameters)\n",
    "\n",
    "    # Freeze all layers except the last n\n",
    "    for i, param in enumerate(parameters):\n",
    "        if i < total_layers - n:\n",
    "            param.requires_grad = False\n",
    "\n",
    "\n"
   ]
  },
  {
   "cell_type": "code",
   "execution_count": 8,
   "metadata": {},
   "outputs": [],
   "source": [
    "num_epochs = 10\n",
    "perc = 0.05\n",
    "num_classes = 2 if data_dir == \"data/train/audio_yes_no/\" else 11"
   ]
  },
  {
   "cell_type": "code",
   "execution_count": 9,
   "metadata": {},
   "outputs": [
    {
     "data": {
      "application/vnd.jupyter.widget-view+json": {
       "model_id": "b7d49e9eb52d40ea99abb84311bcdc1b",
       "version_major": 2,
       "version_minor": 0
      },
      "text/plain": [
       "use_conv loop:   0%|          | 0/1 [00:00<?, ?it/s]"
      ]
     },
     "metadata": {},
     "output_type": "display_data"
    },
    {
     "data": {
      "application/vnd.jupyter.widget-view+json": {
       "model_id": "058755c4c467485f8f90df522d94e72f",
       "version_major": 2,
       "version_minor": 0
      },
      "text/plain": [
       "num_layers loop:   0%|          | 0/4 [00:00<?, ?it/s]"
      ]
     },
     "metadata": {},
     "output_type": "display_data"
    },
    {
     "data": {
      "application/vnd.jupyter.widget-view+json": {
       "model_id": "60366bb8408a4df7b5d950fc4efcc545",
       "version_major": 2,
       "version_minor": 0
      },
      "text/plain": [
       "hidden_sizes loop:   0%|          | 0/3 [00:00<?, ?it/s]"
      ]
     },
     "metadata": {},
     "output_type": "display_data"
    },
    {
     "data": {
      "application/vnd.jupyter.widget-view+json": {
       "model_id": "3be0033e296a49248f59d5ca3224acf2",
       "version_major": 2,
       "version_minor": 0
      },
      "text/plain": [
       "Training loop (5 times):   0%|          | 0/5 [00:00<?, ?it/s]"
      ]
     },
     "metadata": {},
     "output_type": "display_data"
    },
    {
     "data": {
      "application/vnd.jupyter.widget-view+json": {
       "model_id": "739ecd8aff62459bb9b0826d7fcd4d5d",
       "version_major": 2,
       "version_minor": 0
      },
      "text/plain": [
       "Epoch 1/10:   0%|          | 0/6187 [00:00<?, ?it/s]"
      ]
     },
     "metadata": {},
     "output_type": "display_data"
    },
    {
     "name": "stdout",
     "output_type": "stream",
     "text": [
      "Epoch 1/10, Train Loss: 1.5568042265876576\n"
     ]
    },
    {
     "data": {
      "application/vnd.jupyter.widget-view+json": {
       "model_id": "17a2fa02f9424130b128ddb5ce5f9092",
       "version_major": 2,
       "version_minor": 0
      },
      "text/plain": [
       "Validation:   0%|          | 0/163 [00:00<?, ?it/s]"
      ]
     },
     "metadata": {},
     "output_type": "display_data"
    },
    {
     "name": "stdout",
     "output_type": "stream",
     "text": [
      "Epoch 1/10, Validation Loss: 1.1824983893179455, Validation Accuracy: 0.5775729646697388\n"
     ]
    },
    {
     "data": {
      "application/vnd.jupyter.widget-view+json": {
       "model_id": "cac3f8cac41d448b8d3fd4c89b18c545",
       "version_major": 2,
       "version_minor": 0
      },
      "text/plain": [
       "Epoch 2/10:   0%|          | 0/6187 [00:00<?, ?it/s]"
      ]
     },
     "metadata": {},
     "output_type": "display_data"
    },
    {
     "name": "stdout",
     "output_type": "stream",
     "text": [
      "Epoch 2/10, Train Loss: 1.0759294959592312\n"
     ]
    },
    {
     "data": {
      "application/vnd.jupyter.widget-view+json": {
       "model_id": "d8e147f349134e27ba34fd6f1fa97e01",
       "version_major": 2,
       "version_minor": 0
      },
      "text/plain": [
       "Validation:   0%|          | 0/163 [00:00<?, ?it/s]"
      ]
     },
     "metadata": {},
     "output_type": "display_data"
    },
    {
     "name": "stdout",
     "output_type": "stream",
     "text": [
      "Epoch 2/10, Validation Loss: 0.9381188667990679, Validation Accuracy: 0.6682027649769585\n"
     ]
    },
    {
     "data": {
      "application/vnd.jupyter.widget-view+json": {
       "model_id": "d501e8e49aab4593b8bc3128e00bf835",
       "version_major": 2,
       "version_minor": 0
      },
      "text/plain": [
       "Epoch 3/10:   0%|          | 0/6187 [00:00<?, ?it/s]"
      ]
     },
     "metadata": {},
     "output_type": "display_data"
    },
    {
     "name": "stdout",
     "output_type": "stream",
     "text": [
      "Epoch 3/10, Train Loss: 0.8828273536717206\n"
     ]
    },
    {
     "data": {
      "application/vnd.jupyter.widget-view+json": {
       "model_id": "54e7339c775e437aa2608f3e399cef9d",
       "version_major": 2,
       "version_minor": 0
      },
      "text/plain": [
       "Validation:   0%|          | 0/163 [00:00<?, ?it/s]"
      ]
     },
     "metadata": {},
     "output_type": "display_data"
    },
    {
     "name": "stdout",
     "output_type": "stream",
     "text": [
      "Epoch 3/10, Validation Loss: 0.8425337261537467, Validation Accuracy: 0.6943164362519201\n"
     ]
    },
    {
     "data": {
      "application/vnd.jupyter.widget-view+json": {
       "model_id": "7a3d5dc482564f9f928f3b4ce4ab770a",
       "version_major": 2,
       "version_minor": 0
      },
      "text/plain": [
       "Epoch 4/10:   0%|          | 0/6187 [00:00<?, ?it/s]"
      ]
     },
     "metadata": {},
     "output_type": "display_data"
    },
    {
     "name": "stdout",
     "output_type": "stream",
     "text": [
      "Epoch 4/10, Train Loss: 0.7697423364508296\n"
     ]
    },
    {
     "data": {
      "application/vnd.jupyter.widget-view+json": {
       "model_id": "00a733eb86944473a6c999d405dc5287",
       "version_major": 2,
       "version_minor": 0
      },
      "text/plain": [
       "Validation:   0%|          | 0/163 [00:00<?, ?it/s]"
      ]
     },
     "metadata": {},
     "output_type": "display_data"
    },
    {
     "name": "stdout",
     "output_type": "stream",
     "text": [
      "Epoch 4/10, Validation Loss: 0.7351991080341895, Validation Accuracy: 0.7480798771121352\n"
     ]
    },
    {
     "data": {
      "application/vnd.jupyter.widget-view+json": {
       "model_id": "e7f66bd40b374e4e9dd307b5acd3e6e7",
       "version_major": 2,
       "version_minor": 0
      },
      "text/plain": [
       "Epoch 5/10:   0%|          | 0/6187 [00:00<?, ?it/s]"
      ]
     },
     "metadata": {},
     "output_type": "display_data"
    },
    {
     "name": "stdout",
     "output_type": "stream",
     "text": [
      "Epoch 5/10, Train Loss: 0.708264572638913\n"
     ]
    },
    {
     "data": {
      "application/vnd.jupyter.widget-view+json": {
       "model_id": "fa176aba53f94bca9e788bff7891f8c1",
       "version_major": 2,
       "version_minor": 0
      },
      "text/plain": [
       "Validation:   0%|          | 0/163 [00:00<?, ?it/s]"
      ]
     },
     "metadata": {},
     "output_type": "display_data"
    },
    {
     "name": "stdout",
     "output_type": "stream",
     "text": [
      "Epoch 5/10, Validation Loss: 0.706791118244452, Validation Accuracy: 0.7818740399385561\n"
     ]
    },
    {
     "data": {
      "application/vnd.jupyter.widget-view+json": {
       "model_id": "33336950801e4434a7bac1490495ba7b",
       "version_major": 2,
       "version_minor": 0
      },
      "text/plain": [
       "Epoch 6/10:   0%|          | 0/6187 [00:00<?, ?it/s]"
      ]
     },
     "metadata": {},
     "output_type": "display_data"
    },
    {
     "name": "stdout",
     "output_type": "stream",
     "text": [
      "Epoch 6/10, Train Loss: 0.6726982073418234\n"
     ]
    },
    {
     "data": {
      "application/vnd.jupyter.widget-view+json": {
       "model_id": "927a6f41e4c342539e09f1fbeec11fd8",
       "version_major": 2,
       "version_minor": 0
      },
      "text/plain": [
       "Validation:   0%|          | 0/163 [00:00<?, ?it/s]"
      ]
     },
     "metadata": {},
     "output_type": "display_data"
    },
    {
     "name": "stdout",
     "output_type": "stream",
     "text": [
      "Epoch 6/10, Validation Loss: 0.7781862277149058, Validation Accuracy: 0.7403993855606759\n"
     ]
    },
    {
     "data": {
      "application/vnd.jupyter.widget-view+json": {
       "model_id": "d1acdb80b0654b27b0b2e407b3268da7",
       "version_major": 2,
       "version_minor": 0
      },
      "text/plain": [
       "Epoch 7/10:   0%|          | 0/6187 [00:00<?, ?it/s]"
      ]
     },
     "metadata": {},
     "output_type": "display_data"
    },
    {
     "name": "stdout",
     "output_type": "stream",
     "text": [
      "Epoch 7/10, Train Loss: 0.6300520655332236\n"
     ]
    },
    {
     "data": {
      "application/vnd.jupyter.widget-view+json": {
       "model_id": "b82477bdeeaf43c593ebfddb4db20aca",
       "version_major": 2,
       "version_minor": 0
      },
      "text/plain": [
       "Validation:   0%|          | 0/163 [00:00<?, ?it/s]"
      ]
     },
     "metadata": {},
     "output_type": "display_data"
    },
    {
     "name": "stdout",
     "output_type": "stream",
     "text": [
      "Epoch 7/10, Validation Loss: 0.6536034334428106, Validation Accuracy: 0.7788018433179723\n"
     ]
    },
    {
     "data": {
      "application/vnd.jupyter.widget-view+json": {
       "model_id": "88cb6544c8334cc19ee298f9cfac18b5",
       "version_major": 2,
       "version_minor": 0
      },
      "text/plain": [
       "Epoch 8/10:   0%|          | 0/6187 [00:00<?, ?it/s]"
      ]
     },
     "metadata": {},
     "output_type": "display_data"
    },
    {
     "name": "stdout",
     "output_type": "stream",
     "text": [
      "Epoch 8/10, Train Loss: 0.6150377432403131\n"
     ]
    },
    {
     "data": {
      "application/vnd.jupyter.widget-view+json": {
       "model_id": "f7489e64432040069e7929176e34cc61",
       "version_major": 2,
       "version_minor": 0
      },
      "text/plain": [
       "Validation:   0%|          | 0/163 [00:00<?, ?it/s]"
      ]
     },
     "metadata": {},
     "output_type": "display_data"
    },
    {
     "name": "stdout",
     "output_type": "stream",
     "text": [
      "Epoch 8/10, Validation Loss: 0.5988319527723489, Validation Accuracy: 0.7788018433179723\n"
     ]
    },
    {
     "data": {
      "application/vnd.jupyter.widget-view+json": {
       "model_id": "530787186f3f4105858b802ff395b344",
       "version_major": 2,
       "version_minor": 0
      },
      "text/plain": [
       "Epoch 9/10:   0%|          | 0/6187 [00:00<?, ?it/s]"
      ]
     },
     "metadata": {},
     "output_type": "display_data"
    },
    {
     "name": "stdout",
     "output_type": "stream",
     "text": [
      "Epoch 9/10, Train Loss: 0.5950704420551252\n"
     ]
    },
    {
     "data": {
      "application/vnd.jupyter.widget-view+json": {
       "model_id": "c02b4c24a40c4f0b8b7cf1ca526e24ac",
       "version_major": 2,
       "version_minor": 0
      },
      "text/plain": [
       "Validation:   0%|          | 0/163 [00:00<?, ?it/s]"
      ]
     },
     "metadata": {},
     "output_type": "display_data"
    },
    {
     "name": "stdout",
     "output_type": "stream",
     "text": [
      "Epoch 9/10, Validation Loss: 0.583022528336572, Validation Accuracy: 0.8033794162826421\n"
     ]
    },
    {
     "data": {
      "application/vnd.jupyter.widget-view+json": {
       "model_id": "20b56faff439456b825546792b99b616",
       "version_major": 2,
       "version_minor": 0
      },
      "text/plain": [
       "Epoch 10/10:   0%|          | 0/6187 [00:00<?, ?it/s]"
      ]
     },
     "metadata": {},
     "output_type": "display_data"
    },
    {
     "name": "stdout",
     "output_type": "stream",
     "text": [
      "Epoch 10/10, Train Loss: 0.5837342635096875\n"
     ]
    },
    {
     "data": {
      "application/vnd.jupyter.widget-view+json": {
       "model_id": "4c5c46a65eaf47368f7a08c4bf8c8135",
       "version_major": 2,
       "version_minor": 0
      },
      "text/plain": [
       "Validation:   0%|          | 0/163 [00:00<?, ?it/s]"
      ]
     },
     "metadata": {},
     "output_type": "display_data"
    },
    {
     "name": "stdout",
     "output_type": "stream",
     "text": [
      "Epoch 10/10, Validation Loss: 0.5827676659461363, Validation Accuracy: 0.7987711213517665\n"
     ]
    },
    {
     "data": {
      "application/vnd.jupyter.widget-view+json": {
       "model_id": "f4e3c9363a3c4032821e89cd424ed6c8",
       "version_major": 2,
       "version_minor": 0
      },
      "text/plain": [
       "Testing:   0%|          | 0/163 [00:00<?, ?it/s]"
      ]
     },
     "metadata": {},
     "output_type": "display_data"
    },
    {
     "name": "stdout",
     "output_type": "stream",
     "text": [
      "{'val_acc': [0.5775729646697388, 0.6682027649769585, 0.6943164362519201, 0.7480798771121352, 0.7818740399385561, 0.7403993855606759, 0.7788018433179723, 0.7788018433179723, 0.8033794162826421, 0.7987711213517665], 'val_loss': [1.1824983893179455, 0.9381188667990679, 0.8425337261537467, 0.7351991080341895, 0.706791118244452, 0.7781862277149058, 0.6536034334428106, 0.5988319527723489, 0.583022528336572, 0.5827676659461363], 'train_loss': [1.5568042265876576, 1.0759294959592312, 0.8828273536717206, 0.7697423364508296, 0.708264572638913, 0.6726982073418234, 0.6300520655332236, 0.6150377432403131, 0.5950704420551252, 0.5837342635096875], 'test_correct_in_batch': [4.0, 4.0, 2.0, 1.0, 4.0, 3.0, 2.0, 3.0, 3.0, 4.0, 4.0, 4.0, 2.0, 4.0, 4.0, 3.0, 3.0, 2.0, 0.0, 3.0, 3.0, 3.0, 3.0, 3.0, 2.0, 3.0, 4.0, 3.0, 3.0, 3.0, 2.0, 4.0, 4.0, 4.0, 3.0, 3.0, 4.0, 4.0, 4.0, 4.0, 3.0, 4.0, 3.0, 4.0, 3.0, 4.0, 3.0, 2.0, 4.0, 3.0, 3.0, 1.0, 4.0, 3.0, 2.0, 4.0, 4.0, 4.0, 3.0, 3.0, 4.0, 4.0, 4.0, 4.0, 2.0, 3.0, 3.0, 3.0, 4.0, 3.0, 1.0, 4.0, 3.0, 3.0, 4.0, 4.0, 4.0, 3.0, 4.0, 4.0, 3.0, 4.0, 4.0, 3.0, 2.0, 2.0, 4.0, 3.0, 4.0, 2.0, 4.0, 3.0, 1.0, 3.0, 4.0, 2.0, 4.0, 2.0, 2.0, 4.0, 1.0, 4.0, 3.0, 3.0, 3.0, 3.0, 3.0, 3.0, 4.0, 4.0, 4.0, 3.0, 4.0, 4.0, 4.0, 3.0, 2.0, 4.0, 4.0, 3.0, 4.0, 3.0, 4.0, 4.0, 3.0, 3.0, 3.0, 3.0, 4.0, 2.0, 3.0, 4.0, 3.0, 2.0, 3.0, 2.0, 4.0, 4.0, 3.0, 3.0, 4.0, 2.0, 3.0, 4.0, 3.0, 4.0, 3.0, 1.0, 3.0, 4.0, 4.0, 3.0, 4.0, 4.0, 3.0, 4.0, 4.0, 2.0, 3.0, 2.0, 4.0, 3.0, 3.0], 'test_losses': [0.030743928626179695, 0.21802431344985962, 1.1108057498931885, 1.4707252979278564, 0.10618286579847336, 0.42843273282051086, 1.0683059692382812, 0.887265682220459, 0.7585724592208862, 0.059841033071279526, 0.05077505484223366, 0.14699795842170715, 2.3509061336517334, 0.30718284845352173, 0.08660037070512772, 0.7984572649002075, 0.7269721627235413, 1.3037890195846558, 1.8995985984802246, 0.6143660545349121, 0.7975670099258423, 0.40880903601646423, 0.8611960411071777, 0.5886176228523254, 1.1374924182891846, 0.5714603662490845, 0.4256894588470459, 0.6724703311920166, 1.0515645742416382, 0.31693750619888306, 1.8075437545776367, 0.1467808037996292, 0.12541761994361877, 0.19606781005859375, 0.4063287079334259, 0.48325115442276, 0.12211205065250397, 0.025393476709723473, 0.2165360003709793, 0.045266132801771164, 0.7466790080070496, 0.16828404366970062, 1.0840067863464355, 0.03518178313970566, 0.608839750289917, 0.0679749995470047, 0.6900678873062134, 1.3099348545074463, 0.4298272132873535, 0.9010873436927795, 1.2411959171295166, 1.6686757802963257, 0.4241088330745697, 1.3101215362548828, 1.054839015007019, 0.03313634544610977, 0.2445695996284485, 0.14841970801353455, 0.633033812046051, 0.66331946849823, 0.48769503831863403, 0.21965834498405457, 0.30461713671684265, 0.053179189562797546, 1.086823582649231, 0.6330612897872925, 1.131027340888977, 0.5799342393875122, 0.582080602645874, 0.7395291328430176, 1.760965347290039, 0.17820222675800323, 0.46671438217163086, 0.7014003396034241, 0.22609663009643555, 0.09704983234405518, 0.3429182171821594, 0.3614172339439392, 0.252593070268631, 0.25433748960494995, 0.40919405221939087, 0.32869553565979004, 0.1903626173734665, 1.0135719776153564, 1.335546851158142, 1.22310209274292, 0.2178698629140854, 0.4032718241214752, 0.07348740100860596, 1.3182964324951172, 0.17423446476459503, 0.6398270130157471, 1.7396670579910278, 0.4903021454811096, 0.23676623404026031, 1.424222707748413, 0.2052539438009262, 1.7592897415161133, 1.3420294523239136, 0.04948420077562332, 2.307088851928711, 0.16199125349521637, 0.5651090145111084, 0.8196759819984436, 0.9154435396194458, 0.48589324951171875, 1.0839426517486572, 1.4237329959869385, 0.3890131413936615, 0.1692727655172348, 0.11479069292545319, 0.7167351245880127, 0.29575368762016296, 0.07748677581548691, 0.3692227005958557, 0.29337286949157715, 1.5171400308609009, 0.10888752341270447, 0.0656004399061203, 0.6756949424743652, 0.211771160364151, 0.7255464196205139, 0.4400499761104584, 0.1675863415002823, 0.618559718132019, 0.8756113052368164, 0.7135167717933655, 1.0507146120071411, 0.15225519239902496, 0.5052567720413208, 0.9717976450920105, 0.023687727749347687, 0.3667116165161133, 1.6041338443756104, 1.2593284845352173, 1.384796380996704, 0.033104099333286285, 0.17022442817687988, 0.7030593156814575, 0.8735242486000061, 0.17401060461997986, 1.199872612953186, 0.7404384016990662, 0.07095761597156525, 0.6552537083625793, 0.634456992149353, 0.8239791989326477, 1.4267079830169678, 0.4786281883716583, 0.3052889108657837, 0.26586100459098816, 0.502524733543396, 0.1038016825914383, 0.17639786005020142, 0.9579461812973022, 0.18373532593250275, 0.08583372831344604, 0.8722573518753052, 0.43019068241119385, 0.8673852682113647, 0.01340561080724001, 1.3533596992492676, 0.14093904197216034], 'test_loss': 0.6208493497988289, 'test_batch_lens': [4, 4, 4, 4, 4, 4, 4, 4, 4, 4, 4, 4, 4, 4, 4, 4, 4, 4, 4, 4, 4, 4, 4, 4, 4, 4, 4, 4, 4, 4, 4, 4, 4, 4, 4, 4, 4, 4, 4, 4, 4, 4, 4, 4, 4, 4, 4, 4, 4, 4, 4, 4, 4, 4, 4, 4, 4, 4, 4, 4, 4, 4, 4, 4, 4, 4, 4, 4, 4, 4, 4, 4, 4, 4, 4, 4, 4, 4, 4, 4, 4, 4, 4, 4, 4, 4, 4, 4, 4, 4, 4, 4, 4, 4, 4, 4, 4, 4, 4, 4, 4, 4, 4, 4, 4, 4, 4, 4, 4, 4, 4, 4, 4, 4, 4, 4, 4, 4, 4, 4, 4, 4, 4, 4, 4, 4, 4, 4, 4, 4, 4, 4, 4, 4, 4, 4, 4, 4, 4, 4, 4, 4, 4, 4, 4, 4, 4, 4, 4, 4, 4, 4, 4, 4, 4, 4, 4, 4, 4, 4, 4, 4, 3], 'test_accuracy': 0.8003072196620584, 'predictions': [7, 4, 1, 10, 7, 1, 8, 8, 1, 3, 4, 7, 9, 9, 8, 8, 9, 6, 4, 9, 8, 10, 0, 4, 8, 8, 5, 6, 2, 8, 2, 1, 1, 6, 6, 3, 10, 5, 5, 0, 10, 3, 2, 10, 7, 8, 4, 3, 8, 8, 8, 4, 3, 4, 6, 1, 1, 9, 1, 10, 10, 6, 4, 6, 5, 9, 8, 5, 8, 10, 0, 1, 8, 1, 5, 6, 6, 2, 9, 2, 1, 1, 3, 1, 5, 5, 1, 2, 8, 4, 9, 10, 10, 7, 0, 5, 9, 6, 2, 7, 5, 0, 10, 6, 10, 8, 3, 9, 10, 4, 7, 4, 0, 3, 7, 8, 0, 10, 0, 0, 4, 8, 5, 10, 5, 1, 7, 9, 6, 7, 4, 0, 10, 10, 7, 9, 4, 1, 9, 1, 10, 3, 1, 9, 4, 7, 4, 7, 2, 10, 2, 4, 10, 10, 1, 0, 10, 5, 4, 7, 4, 9, 10, 4, 2, 3, 10, 5, 5, 0, 9, 0, 10, 7, 6, 8, 0, 8, 1, 10, 6, 3, 5, 3, 4, 3, 4, 8, 3, 2, 8, 6, 0, 9, 9, 8, 1, 8, 5, 9, 9, 1, 6, 1, 4, 1, 9, 5, 3, 9, 5, 6, 5, 5, 4, 5, 10, 10, 5, 4, 7, 3, 0, 6, 7, 0, 5, 7, 1, 0, 1, 6, 1, 7, 7, 2, 10, 9, 3, 10, 9, 4, 3, 3, 1, 7, 8, 5, 2, 4, 10, 1, 1, 2, 3, 10, 10, 4, 5, 3, 3, 10, 7, 0, 5, 1, 8, 7, 3, 7, 3, 10, 3, 5, 2, 2, 7, 4, 9, 7, 8, 1, 5, 10, 2, 4, 2, 5, 5, 3, 5, 0, 6, 6, 0, 1, 2, 7, 3, 2, 4, 10, 8, 6, 6, 0, 2, 7, 10, 1, 8, 6, 9, 2, 5, 2, 0, 9, 4, 3, 2, 6, 7, 7, 1, 8, 8, 5, 2, 9, 4, 1, 3, 8, 4, 7, 1, 8, 9, 2, 5, 1, 9, 10, 5, 0, 5, 7, 3, 6, 9, 6, 4, 9, 5, 1, 0, 3, 9, 7, 4, 4, 6, 10, 8, 9, 10, 5, 2, 9, 4, 4, 5, 0, 1, 10, 5, 0, 3, 7, 3, 8, 8, 4, 2, 4, 4, 9, 3, 7, 8, 4, 7, 4, 8, 0, 5, 6, 9, 9, 7, 9, 8, 1, 1, 10, 10, 5, 5, 1, 3, 3, 5, 10, 2, 7, 2, 3, 1, 9, 0, 5, 4, 0, 2, 0, 1, 7, 8, 4, 7, 3, 8, 0, 3, 2, 2, 3, 7, 10, 10, 4, 10, 6, 6, 5, 0, 8, 8, 2, 1, 9, 9, 5, 9, 9, 1, 3, 5, 7, 4, 10, 1, 8, 0, 6, 3, 9, 2, 4, 10, 1, 1, 2, 8, 2, 4, 8, 2, 8, 9, 9, 0, 7, 6, 9, 4, 0, 2, 8, 6, 9, 3, 7, 2, 4, 2, 0, 1, 3, 1, 6, 3, 4, 6, 3, 1, 5, 0, 7, 7, 10, 4, 10, 2, 5, 5, 7, 4, 3, 4, 5, 8, 4, 5, 4, 9, 5, 9, 7, 8, 2, 0, 2, 5, 8, 2, 6, 1, 8, 9, 1, 6, 0, 2, 0, 9, 7, 6, 9, 6, 9, 0, 10, 8, 9, 2, 1, 7, 3, 2, 7, 9, 6, 8, 2, 9, 0, 8, 2, 7, 5, 2, 10, 8, 7, 9, 6, 10, 6, 6, 4, 7, 9, 7, 1, 4, 9, 10, 8, 7, 5, 1, 7, 5, 2, 0, 7, 8, 0, 7, 4, 5, 5, 4, 8, 8, 6, 1, 5, 3, 0, 1, 4, 7, 1, 9, 5, 6, 6, 10, 7, 1, 0, 3, 9, 1, 4, 2, 8, 7, 8, 9, 4, 4, 0, 6, 3, 9, 8, 6, 8, 1, 7, 4, 9, 2, 0, 8, 6, 7], 'real_labels': [7, 4, 1, 10, 7, 1, 8, 8, 0, 8, 4, 7, 1, 9, 3, 0, 9, 6, 4, 9, 8, 10, 1, 4, 6, 8, 8, 6, 6, 8, 2, 1, 1, 9, 6, 3, 10, 5, 5, 0, 10, 3, 2, 10, 7, 8, 4, 3, 3, 8, 9, 4, 3, 4, 6, 1, 1, 9, 1, 10, 10, 6, 1, 6, 5, 5, 8, 5, 8, 1, 3, 1, 1, 3, 1, 8, 6, 8, 9, 2, 3, 1, 3, 1, 5, 5, 1, 8, 0, 4, 9, 10, 10, 7, 1, 5, 1, 8, 2, 7, 5, 1, 10, 6, 10, 8, 3, 9, 10, 4, 7, 1, 0, 3, 7, 6, 0, 8, 0, 0, 4, 8, 7, 6, 5, 1, 7, 9, 6, 7, 4, 0, 10, 10, 7, 9, 4, 1, 9, 0, 10, 3, 3, 9, 4, 7, 4, 7, 2, 10, 2, 4, 10, 10, 1, 0, 10, 5, 4, 7, 8, 9, 10, 4, 2, 3, 10, 5, 8, 0, 9, 0, 10, 7, 6, 8, 0, 8, 1, 2, 6, 3, 5, 3, 9, 3, 4, 8, 3, 2, 0, 2, 0, 9, 9, 8, 1, 3, 5, 9, 8, 1, 6, 1, 4, 3, 4, 8, 3, 9, 5, 6, 2, 5, 4, 5, 2, 10, 8, 4, 7, 3, 0, 6, 7, 0, 5, 7, 1, 0, 1, 6, 3, 7, 7, 2, 10, 4, 3, 10, 9, 4, 3, 3, 1, 7, 8, 5, 2, 4, 10, 1, 1, 2, 3, 10, 6, 9, 5, 3, 3, 10, 7, 1, 5, 1, 8, 1, 8, 7, 3, 10, 3, 5, 2, 2, 7, 3, 9, 7, 6, 8, 8, 10, 2, 4, 2, 5, 5, 3, 8, 0, 8, 6, 0, 1, 2, 7, 3, 2, 4, 10, 8, 6, 6, 0, 2, 7, 10, 1, 7, 6, 9, 2, 5, 2, 0, 9, 4, 3, 2, 6, 7, 9, 1, 8, 8, 5, 2, 9, 4, 1, 1, 8, 4, 7, 1, 2, 7, 2, 5, 0, 7, 10, 5, 0, 5, 7, 3, 6, 4, 6, 4, 9, 5, 1, 8, 3, 7, 7, 4, 4, 6, 10, 8, 9, 8, 5, 6, 7, 4, 0, 5, 0, 9, 10, 5, 0, 3, 7, 3, 1, 8, 2, 2, 4, 4, 9, 3, 7, 9, 9, 9, 4, 0, 0, 5, 6, 9, 9, 7, 7, 6, 9, 1, 10, 10, 5, 5, 7, 3, 3, 5, 10, 9, 7, 2, 3, 1, 1, 0, 5, 4, 1, 2, 0, 1, 8, 8, 4, 8, 3, 8, 0, 3, 2, 2, 3, 7, 10, 10, 4, 10, 6, 6, 5, 0, 9, 8, 2, 1, 9, 9, 5, 9, 9, 1, 3, 5, 7, 9, 10, 1, 8, 1, 6, 3, 8, 2, 4, 10, 1, 1, 2, 8, 2, 4, 8, 2, 5, 9, 9, 0, 7, 6, 9, 2, 0, 2, 8, 6, 9, 3, 7, 2, 4, 3, 0, 1, 3, 9, 6, 3, 4, 6, 3, 3, 5, 0, 1, 7, 10, 4, 10, 2, 5, 5, 7, 5, 1, 4, 5, 0, 4, 5, 4, 9, 5, 9, 7, 7, 2, 0, 2, 4, 3, 2, 9, 1, 8, 9, 1, 8, 8, 2, 0, 9, 7, 6, 9, 6, 9, 0, 10, 8, 8, 4, 1, 7, 3, 2, 7, 9, 6, 7, 8, 9, 0, 8, 2, 10, 5, 2, 10, 8, 7, 9, 6, 8, 6, 6, 4, 7, 9, 7, 8, 4, 9, 3, 3, 7, 4, 1, 7, 5, 4, 0, 7, 8, 0, 7, 4, 5, 5, 4, 8, 6, 6, 1, 5, 3, 0, 1, 4, 7, 1, 9, 4, 6, 6, 10, 7, 1, 0, 3, 9, 1, 4, 3, 10, 7, 8, 9, 9, 4, 0, 2, 3, 7, 8, 6, 8, 1, 7, 4, 0, 2, 0, 8, 6, 7], 'label_to_index': {'down': 0, 'go': 1, 'left': 2, 'no': 3, 'off': 4, 'on': 5, 'right': 6, 'stop': 7, 'unknown': 8, 'up': 9, 'yes': 10}}\n",
      "Test Loss: 0.6208493497988289, Test Accuracy: 0.8003072196620584\n"
     ]
    },
    {
     "data": {
      "application/vnd.jupyter.widget-view+json": {
       "model_id": "27f3e05d861e4b20a35cc145bf9cdd5e",
       "version_major": 2,
       "version_minor": 0
      },
      "text/plain": [
       "Epoch 1/10:   0%|          | 0/6187 [00:00<?, ?it/s]"
      ]
     },
     "metadata": {},
     "output_type": "display_data"
    },
    {
     "name": "stdout",
     "output_type": "stream",
     "text": [
      "Epoch 1/10, Train Loss: 1.6045050492733886\n"
     ]
    },
    {
     "data": {
      "application/vnd.jupyter.widget-view+json": {
       "model_id": "fa75a79d45f94ecaaaaa65ef0e366ec1",
       "version_major": 2,
       "version_minor": 0
      },
      "text/plain": [
       "Validation:   0%|          | 0/163 [00:00<?, ?it/s]"
      ]
     },
     "metadata": {},
     "output_type": "display_data"
    },
    {
     "name": "stdout",
     "output_type": "stream",
     "text": [
      "Epoch 1/10, Validation Loss: 1.1745634243532193, Validation Accuracy: 0.5729646697388633\n"
     ]
    },
    {
     "data": {
      "application/vnd.jupyter.widget-view+json": {
       "model_id": "1e92df0d8554485d88bf92d7a41f1ffa",
       "version_major": 2,
       "version_minor": 0
      },
      "text/plain": [
       "Epoch 2/10:   0%|          | 0/6187 [00:00<?, ?it/s]"
      ]
     },
     "metadata": {},
     "output_type": "display_data"
    },
    {
     "name": "stdout",
     "output_type": "stream",
     "text": [
      "Epoch 2/10, Train Loss: 1.0429956542163321\n"
     ]
    },
    {
     "data": {
      "application/vnd.jupyter.widget-view+json": {
       "model_id": "66b53a4659cb4001981a7963166730b2",
       "version_major": 2,
       "version_minor": 0
      },
      "text/plain": [
       "Validation:   0%|          | 0/163 [00:00<?, ?it/s]"
      ]
     },
     "metadata": {},
     "output_type": "display_data"
    },
    {
     "name": "stdout",
     "output_type": "stream",
     "text": [
      "Epoch 2/10, Validation Loss: 0.8972245288178599, Validation Accuracy: 0.6881720430107527\n"
     ]
    },
    {
     "data": {
      "application/vnd.jupyter.widget-view+json": {
       "model_id": "117243305b8a45018e40ce611a6359ef",
       "version_major": 2,
       "version_minor": 0
      },
      "text/plain": [
       "Epoch 3/10:   0%|          | 0/6187 [00:00<?, ?it/s]"
      ]
     },
     "metadata": {},
     "output_type": "display_data"
    },
    {
     "name": "stdout",
     "output_type": "stream",
     "text": [
      "Epoch 3/10, Train Loss: 0.8396115038042378\n"
     ]
    },
    {
     "data": {
      "application/vnd.jupyter.widget-view+json": {
       "model_id": "8a9bcedc2bee491e8e69b5d7e09a3c07",
       "version_major": 2,
       "version_minor": 0
      },
      "text/plain": [
       "Validation:   0%|          | 0/163 [00:00<?, ?it/s]"
      ]
     },
     "metadata": {},
     "output_type": "display_data"
    },
    {
     "name": "stdout",
     "output_type": "stream",
     "text": [
      "Epoch 3/10, Validation Loss: 0.7790299182289218, Validation Accuracy: 0.7342549923195084\n"
     ]
    },
    {
     "data": {
      "application/vnd.jupyter.widget-view+json": {
       "model_id": "5823fd53d5ce4172aac3f0f9e231ce30",
       "version_major": 2,
       "version_minor": 0
      },
      "text/plain": [
       "Epoch 4/10:   0%|          | 0/6187 [00:00<?, ?it/s]"
      ]
     },
     "metadata": {},
     "output_type": "display_data"
    },
    {
     "name": "stdout",
     "output_type": "stream",
     "text": [
      "Epoch 4/10, Train Loss: 0.7736065202057409\n"
     ]
    },
    {
     "data": {
      "application/vnd.jupyter.widget-view+json": {
       "model_id": "399c627306c6477ab969b72a584e77ba",
       "version_major": 2,
       "version_minor": 0
      },
      "text/plain": [
       "Validation:   0%|          | 0/163 [00:00<?, ?it/s]"
      ]
     },
     "metadata": {},
     "output_type": "display_data"
    },
    {
     "name": "stdout",
     "output_type": "stream",
     "text": [
      "Epoch 4/10, Validation Loss: 0.7093211690112491, Validation Accuracy: 0.7634408602150538\n"
     ]
    },
    {
     "data": {
      "application/vnd.jupyter.widget-view+json": {
       "model_id": "5c36e89f35c0441cb94ac93e00f01acc",
       "version_major": 2,
       "version_minor": 0
      },
      "text/plain": [
       "Epoch 5/10:   0%|          | 0/6187 [00:00<?, ?it/s]"
      ]
     },
     "metadata": {},
     "output_type": "display_data"
    },
    {
     "name": "stdout",
     "output_type": "stream",
     "text": [
      "Epoch 5/10, Train Loss: 0.7031159358427557\n"
     ]
    },
    {
     "data": {
      "application/vnd.jupyter.widget-view+json": {
       "model_id": "08f9d58250bc44e7bdb01a0e1b0bfa22",
       "version_major": 2,
       "version_minor": 0
      },
      "text/plain": [
       "Validation:   0%|          | 0/163 [00:00<?, ?it/s]"
      ]
     },
     "metadata": {},
     "output_type": "display_data"
    },
    {
     "name": "stdout",
     "output_type": "stream",
     "text": [
      "Epoch 5/10, Validation Loss: 0.6984466263235896, Validation Accuracy: 0.7572964669738863\n"
     ]
    },
    {
     "data": {
      "application/vnd.jupyter.widget-view+json": {
       "model_id": "b609dabceed448659de09b60935a50c7",
       "version_major": 2,
       "version_minor": 0
      },
      "text/plain": [
       "Epoch 6/10:   0%|          | 0/6187 [00:00<?, ?it/s]"
      ]
     },
     "metadata": {},
     "output_type": "display_data"
    },
    {
     "name": "stdout",
     "output_type": "stream",
     "text": [
      "Epoch 6/10, Train Loss: 0.6673980629224682\n"
     ]
    },
    {
     "data": {
      "application/vnd.jupyter.widget-view+json": {
       "model_id": "1f680a91acea481fa8957d503166ec7a",
       "version_major": 2,
       "version_minor": 0
      },
      "text/plain": [
       "Validation:   0%|          | 0/163 [00:00<?, ?it/s]"
      ]
     },
     "metadata": {},
     "output_type": "display_data"
    },
    {
     "name": "stdout",
     "output_type": "stream",
     "text": [
      "Epoch 6/10, Validation Loss: 0.5729906836330342, Validation Accuracy: 0.8095238095238095\n"
     ]
    },
    {
     "data": {
      "application/vnd.jupyter.widget-view+json": {
       "model_id": "8f21eb3118334817b32870bb00c84be1",
       "version_major": 2,
       "version_minor": 0
      },
      "text/plain": [
       "Epoch 7/10:   0%|          | 0/6187 [00:00<?, ?it/s]"
      ]
     },
     "metadata": {},
     "output_type": "display_data"
    },
    {
     "name": "stdout",
     "output_type": "stream",
     "text": [
      "Epoch 7/10, Train Loss: 0.6067055596506242\n"
     ]
    },
    {
     "data": {
      "application/vnd.jupyter.widget-view+json": {
       "model_id": "ece9f84707364d6094daee47302579f1",
       "version_major": 2,
       "version_minor": 0
      },
      "text/plain": [
       "Validation:   0%|          | 0/163 [00:00<?, ?it/s]"
      ]
     },
     "metadata": {},
     "output_type": "display_data"
    },
    {
     "name": "stdout",
     "output_type": "stream",
     "text": [
      "Epoch 7/10, Validation Loss: 0.6645883766054376, Validation Accuracy: 0.7864823348694316\n"
     ]
    },
    {
     "data": {
      "application/vnd.jupyter.widget-view+json": {
       "model_id": "bcfa995f60ac432bb6583783abe94c4d",
       "version_major": 2,
       "version_minor": 0
      },
      "text/plain": [
       "Epoch 8/10:   0%|          | 0/6187 [00:00<?, ?it/s]"
      ]
     },
     "metadata": {},
     "output_type": "display_data"
    },
    {
     "name": "stdout",
     "output_type": "stream",
     "text": [
      "Epoch 8/10, Train Loss: 0.5959139851541205\n"
     ]
    },
    {
     "data": {
      "application/vnd.jupyter.widget-view+json": {
       "model_id": "7453700144474b5fb858f526147a6e73",
       "version_major": 2,
       "version_minor": 0
      },
      "text/plain": [
       "Validation:   0%|          | 0/163 [00:00<?, ?it/s]"
      ]
     },
     "metadata": {},
     "output_type": "display_data"
    },
    {
     "name": "stdout",
     "output_type": "stream",
     "text": [
      "Epoch 8/10, Validation Loss: 0.5581711487890295, Validation Accuracy: 0.8110599078341014\n"
     ]
    },
    {
     "data": {
      "application/vnd.jupyter.widget-view+json": {
       "model_id": "c4d001be4f4e4d62a6218db5b026f201",
       "version_major": 2,
       "version_minor": 0
      },
      "text/plain": [
       "Epoch 9/10:   0%|          | 0/6187 [00:00<?, ?it/s]"
      ]
     },
     "metadata": {},
     "output_type": "display_data"
    },
    {
     "name": "stdout",
     "output_type": "stream",
     "text": [
      "Epoch 9/10, Train Loss: 0.5809251864061632\n"
     ]
    },
    {
     "data": {
      "application/vnd.jupyter.widget-view+json": {
       "model_id": "126bf2e198df4c62a4e7a228b03628f8",
       "version_major": 2,
       "version_minor": 0
      },
      "text/plain": [
       "Validation:   0%|          | 0/163 [00:00<?, ?it/s]"
      ]
     },
     "metadata": {},
     "output_type": "display_data"
    },
    {
     "name": "stdout",
     "output_type": "stream",
     "text": [
      "Epoch 9/10, Validation Loss: 0.5676213074532663, Validation Accuracy: 0.804915514592934\n"
     ]
    },
    {
     "data": {
      "application/vnd.jupyter.widget-view+json": {
       "model_id": "547fa701469d4e9d8492f736c7b01fed",
       "version_major": 2,
       "version_minor": 0
      },
      "text/plain": [
       "Epoch 10/10:   0%|          | 0/6187 [00:00<?, ?it/s]"
      ]
     },
     "metadata": {},
     "output_type": "display_data"
    },
    {
     "name": "stdout",
     "output_type": "stream",
     "text": [
      "Epoch 10/10, Train Loss: 0.5752306016119438\n"
     ]
    },
    {
     "data": {
      "application/vnd.jupyter.widget-view+json": {
       "model_id": "c08084aa3bb44d3aa5174415b7c1bab2",
       "version_major": 2,
       "version_minor": 0
      },
      "text/plain": [
       "Validation:   0%|          | 0/163 [00:00<?, ?it/s]"
      ]
     },
     "metadata": {},
     "output_type": "display_data"
    },
    {
     "name": "stdout",
     "output_type": "stream",
     "text": [
      "Epoch 10/10, Validation Loss: 0.5418595388086022, Validation Accuracy: 0.8218125960061444\n"
     ]
    },
    {
     "data": {
      "application/vnd.jupyter.widget-view+json": {
       "model_id": "884ac536dbe14a42821a77dab2b6a294",
       "version_major": 2,
       "version_minor": 0
      },
      "text/plain": [
       "Testing:   0%|          | 0/163 [00:00<?, ?it/s]"
      ]
     },
     "metadata": {},
     "output_type": "display_data"
    },
    {
     "name": "stdout",
     "output_type": "stream",
     "text": [
      "{'val_acc': [0.5729646697388633, 0.6881720430107527, 0.7342549923195084, 0.7634408602150538, 0.7572964669738863, 0.8095238095238095, 0.7864823348694316, 0.8110599078341014, 0.804915514592934, 0.8218125960061444], 'val_loss': [1.1745634243532193, 0.8972245288178599, 0.7790299182289218, 0.7093211690112491, 0.6984466263235896, 0.5729906836330342, 0.6645883766054376, 0.5581711487890295, 0.5676213074532663, 0.5418595388086022], 'train_loss': [1.6045050492733886, 1.0429956542163321, 0.8396115038042378, 0.7736065202057409, 0.7031159358427557, 0.6673980629224682, 0.6067055596506242, 0.5959139851541205, 0.5809251864061632, 0.5752306016119438], 'test_correct_in_batch': [4.0, 3.0, 2.0, 2.0, 4.0, 4.0, 2.0, 2.0, 2.0, 4.0, 4.0, 3.0, 3.0, 4.0, 4.0, 3.0, 2.0, 4.0, 2.0, 4.0, 4.0, 3.0, 3.0, 4.0, 3.0, 4.0, 3.0, 3.0, 3.0, 4.0, 1.0, 2.0, 4.0, 4.0, 3.0, 4.0, 4.0, 4.0, 3.0, 3.0, 3.0, 3.0, 4.0, 4.0, 3.0, 4.0, 3.0, 3.0, 3.0, 4.0, 3.0, 2.0, 4.0, 3.0, 2.0, 4.0, 3.0, 4.0, 4.0, 4.0, 4.0, 4.0, 3.0, 4.0, 4.0, 2.0, 2.0, 3.0, 3.0, 3.0, 2.0, 3.0, 4.0, 3.0, 4.0, 3.0, 4.0, 4.0, 2.0, 4.0, 3.0, 3.0, 2.0, 3.0, 3.0, 3.0, 3.0, 3.0, 3.0, 2.0, 4.0, 3.0, 1.0, 4.0, 4.0, 4.0, 3.0, 3.0, 3.0, 4.0, 1.0, 3.0, 4.0, 3.0, 2.0, 3.0, 3.0, 3.0, 3.0, 4.0, 4.0, 3.0, 4.0, 4.0, 3.0, 4.0, 2.0, 3.0, 4.0, 1.0, 3.0, 2.0, 4.0, 4.0, 2.0, 3.0, 4.0, 2.0, 2.0, 3.0, 3.0, 3.0, 4.0, 2.0, 3.0, 1.0, 4.0, 3.0, 3.0, 3.0, 4.0, 2.0, 1.0, 4.0, 4.0, 3.0, 3.0, 2.0, 4.0, 4.0, 4.0, 4.0, 4.0, 4.0, 4.0, 3.0, 3.0, 3.0, 3.0, 3.0, 4.0, 3.0, 3.0], 'test_losses': [0.16187644004821777, 0.4678236246109009, 0.7620300650596619, 1.2767823934555054, 0.01147598959505558, 0.11218827217817307, 1.1250563859939575, 1.4069880247116089, 0.6499149799346924, 0.014229584485292435, 0.052259210497140884, 0.6306967735290527, 2.347977876663208, 0.09620209038257599, 0.04348987340927124, 0.475208044052124, 0.9977068305015564, 0.1587541103363037, 1.5800507068634033, 0.27990487217903137, 0.22489555180072784, 0.605543851852417, 0.4426778554916382, 0.07071451842784882, 0.36692407727241516, 0.04139586165547371, 1.6247899532318115, 0.5441836714744568, 0.7697685360908508, 0.09655538946390152, 2.8837785720825195, 0.9836798906326294, 0.11273588240146637, 0.1435820758342743, 0.3483159840106964, 0.20646290481090546, 0.13248541951179504, 0.11809737980365753, 0.3482601046562195, 0.3953268826007843, 1.016541600227356, 0.35302048921585083, 0.6062564253807068, 0.20629805326461792, 1.0116863250732422, 0.04236661642789841, 0.5448004603385925, 1.3066149950027466, 0.7069425582885742, 0.28815045952796936, 0.9700174331665039, 1.9777358770370483, 0.18414007127285004, 1.4548835754394531, 1.2711665630340576, 0.18576639890670776, 0.3777044713497162, 0.12170284986495972, 0.16663388907909393, 0.30749472975730896, 0.2704404294490814, 0.04042666777968407, 0.38333240151405334, 0.031584784388542175, 0.12608516216278076, 1.0177427530288696, 0.6461969614028931, 1.2715752124786377, 0.8559314012527466, 0.6552075147628784, 1.5318595170974731, 0.2568932771682739, 0.44895780086517334, 0.8358259201049805, 0.2106987088918686, 0.289181113243103, 0.04154887795448303, 0.17202863097190857, 1.9631457328796387, 0.22476501762866974, 0.48643019795417786, 0.4312874376773834, 1.6370378732681274, 0.4432178735733032, 0.9152801632881165, 0.8779544234275818, 0.46412393450737, 0.4049387574195862, 0.42440181970596313, 1.6218743324279785, 0.1222604289650917, 0.3901061415672302, 2.8286759853363037, 0.07047533988952637, 0.042360223829746246, 0.13152387738227844, 0.5392224788665771, 1.5939459800720215, 0.4759547710418701, 0.1351226419210434, 1.7638766765594482, 0.6574670076370239, 0.10508415102958679, 0.6704932451248169, 1.0249687433242798, 0.6105753779411316, 0.922843873500824, 0.8428857326507568, 0.32144251465797424, 0.05658141151070595, 0.20920246839523315, 0.5977481007575989, 0.07300905883312225, 0.14575126767158508, 0.6421616077423096, 0.27325230836868286, 1.1388734579086304, 0.6985479593276978, 0.08549875766038895, 1.3640456199645996, 0.9768854379653931, 1.3746718168258667, 0.3599550724029541, 0.10498880594968796, 1.6769495010375977, 0.6524841785430908, 0.07519274204969406, 1.3079686164855957, 0.8718904256820679, 0.44116243720054626, 0.6517216563224792, 0.747061014175415, 0.18953901529312134, 1.3683406114578247, 0.887684166431427, 1.707881212234497, 0.04916528984904289, 0.3559120297431946, 0.5887455940246582, 0.8805850744247437, 0.23887516558170319, 1.1071913242340088, 1.9633138179779053, 0.31850534677505493, 0.16042985022068024, 0.6877918243408203, 0.804838240146637, 1.6618139743804932, 0.23221610486507416, 0.03238801658153534, 0.09499635547399521, 0.20310120284557343, 0.24214909970760345, 0.06886649131774902, 0.3734346926212311, 0.3507702648639679, 0.41886991262435913, 0.886512041091919, 1.3279826641082764, 0.8711323738098145, 0.20554406940937042, 0.8998000025749207, 0.2824596166610718], 'test_loss': 0.6283829043636475, 'test_batch_lens': [4, 4, 4, 4, 4, 4, 4, 4, 4, 4, 4, 4, 4, 4, 4, 4, 4, 4, 4, 4, 4, 4, 4, 4, 4, 4, 4, 4, 4, 4, 4, 4, 4, 4, 4, 4, 4, 4, 4, 4, 4, 4, 4, 4, 4, 4, 4, 4, 4, 4, 4, 4, 4, 4, 4, 4, 4, 4, 4, 4, 4, 4, 4, 4, 4, 4, 4, 4, 4, 4, 4, 4, 4, 4, 4, 4, 4, 4, 4, 4, 4, 4, 4, 4, 4, 4, 4, 4, 4, 4, 4, 4, 4, 4, 4, 4, 4, 4, 4, 4, 4, 4, 4, 4, 4, 4, 4, 4, 4, 4, 4, 4, 4, 4, 4, 4, 4, 4, 4, 4, 4, 4, 4, 4, 4, 4, 4, 4, 4, 4, 4, 4, 4, 4, 4, 4, 4, 4, 4, 4, 4, 4, 4, 4, 4, 4, 4, 4, 4, 4, 4, 4, 4, 4, 4, 4, 4, 4, 4, 4, 4, 4, 3], 'test_accuracy': 0.7926267281105991, 'predictions': [7, 4, 1, 10, 7, 1, 8, 6, 1, 2, 4, 7, 1, 4, 8, 0, 9, 6, 4, 9, 8, 10, 1, 4, 6, 7, 4, 6, 6, 10, 7, 1, 3, 1, 6, 3, 10, 5, 5, 0, 10, 3, 2, 10, 7, 8, 9, 3, 3, 8, 2, 4, 3, 4, 6, 1, 1, 9, 1, 10, 10, 6, 7, 6, 5, 9, 8, 8, 8, 1, 3, 1, 8, 3, 1, 6, 6, 8, 9, 2, 3, 1, 3, 1, 5, 5, 1, 0, 0, 4, 9, 2, 10, 7, 1, 5, 0, 8, 2, 7, 5, 1, 10, 6, 10, 7, 3, 9, 10, 4, 7, 9, 0, 3, 7, 8, 0, 8, 0, 0, 4, 3, 0, 8, 5, 7, 1, 9, 6, 7, 4, 0, 10, 10, 7, 9, 4, 3, 9, 0, 10, 3, 3, 9, 4, 7, 4, 7, 2, 10, 2, 4, 2, 10, 1, 0, 10, 4, 4, 7, 4, 9, 10, 4, 2, 3, 10, 4, 8, 0, 9, 0, 10, 7, 6, 8, 3, 8, 1, 2, 6, 3, 5, 3, 4, 3, 4, 8, 3, 2, 7, 2, 0, 7, 9, 8, 1, 3, 5, 9, 7, 1, 6, 1, 4, 0, 9, 8, 3, 9, 5, 6, 8, 5, 4, 5, 7, 10, 4, 4, 7, 3, 0, 6, 7, 1, 5, 7, 1, 0, 1, 6, 3, 7, 7, 2, 10, 4, 3, 10, 9, 4, 3, 3, 1, 7, 8, 5, 2, 9, 10, 1, 1, 2, 3, 10, 6, 9, 5, 3, 3, 7, 7, 0, 5, 1, 0, 7, 4, 7, 3, 10, 3, 5, 1, 2, 7, 9, 9, 7, 1, 1, 8, 10, 2, 4, 2, 4, 5, 3, 8, 0, 4, 6, 0, 1, 2, 7, 3, 2, 4, 10, 0, 6, 6, 0, 2, 7, 10, 1, 7, 6, 4, 2, 5, 0, 0, 9, 4, 3, 9, 6, 7, 9, 1, 8, 0, 5, 2, 4, 4, 4, 3, 8, 4, 7, 1, 3, 7, 2, 5, 0, 9, 10, 5, 3, 5, 7, 1, 6, 4, 6, 9, 9, 5, 1, 8, 3, 5, 9, 4, 4, 6, 10, 8, 9, 10, 5, 3, 7, 5, 3, 5, 0, 9, 10, 5, 0, 3, 7, 3, 1, 8, 2, 2, 4, 4, 4, 3, 7, 0, 9, 9, 5, 0, 0, 5, 6, 9, 9, 7, 1, 8, 1, 1, 10, 10, 4, 5, 7, 3, 3, 5, 10, 8, 7, 2, 3, 0, 3, 3, 5, 4, 1, 2, 0, 1, 7, 8, 4, 7, 3, 8, 0, 1, 2, 2, 3, 7, 10, 10, 4, 10, 6, 6, 5, 0, 1, 8, 2, 1, 9, 9, 5, 9, 9, 7, 3, 5, 7, 9, 10, 1, 8, 3, 6, 3, 4, 2, 4, 10, 3, 1, 2, 8, 2, 5, 0, 2, 8, 4, 9, 0, 7, 6, 4, 9, 0, 2, 8, 6, 9, 3, 7, 2, 4, 10, 0, 0, 3, 7, 6, 3, 4, 6, 3, 3, 5, 1, 7, 7, 10, 4, 10, 4, 8, 4, 7, 5, 1, 4, 5, 1, 4, 5, 4, 4, 5, 9, 7, 7, 2, 0, 2, 5, 1, 2, 8, 1, 8, 5, 3, 8, 0, 2, 0, 9, 7, 6, 9, 6, 4, 0, 10, 8, 2, 1, 1, 7, 3, 2, 7, 9, 6, 2, 2, 9, 0, 0, 2, 1, 8, 2, 10, 8, 7, 9, 6, 8, 6, 6, 9, 7, 9, 7, 4, 4, 9, 3, 10, 7, 5, 1, 7, 5, 4, 0, 7, 8, 0, 7, 4, 5, 5, 4, 8, 6, 6, 1, 5, 3, 0, 1, 4, 7, 1, 9, 4, 6, 6, 10, 7, 1, 3, 3, 7, 1, 4, 3, 8, 7, 8, 9, 9, 2, 0, 2, 3, 7, 0, 6, 8, 1, 7, 4, 1, 2, 0, 8, 6, 7], 'real_labels': [7, 4, 1, 10, 7, 1, 8, 8, 0, 8, 4, 7, 1, 9, 3, 0, 9, 6, 4, 9, 8, 10, 1, 4, 6, 8, 8, 6, 6, 8, 2, 1, 1, 9, 6, 3, 10, 5, 5, 0, 10, 3, 2, 10, 7, 8, 4, 3, 3, 8, 9, 4, 3, 4, 6, 1, 1, 9, 1, 10, 10, 6, 1, 6, 5, 5, 8, 5, 8, 1, 3, 1, 1, 3, 1, 8, 6, 8, 9, 2, 3, 1, 3, 1, 5, 5, 1, 8, 0, 4, 9, 10, 10, 7, 1, 5, 1, 8, 2, 7, 5, 1, 10, 6, 10, 8, 3, 9, 10, 4, 7, 1, 0, 3, 7, 6, 0, 8, 0, 0, 4, 8, 7, 6, 5, 1, 7, 9, 6, 7, 4, 0, 10, 10, 7, 9, 4, 1, 9, 0, 10, 3, 3, 9, 4, 7, 4, 7, 2, 10, 2, 4, 10, 10, 1, 0, 10, 5, 4, 7, 8, 9, 10, 4, 2, 3, 10, 5, 8, 0, 9, 0, 10, 7, 6, 8, 0, 8, 1, 2, 6, 3, 5, 3, 9, 3, 4, 8, 3, 2, 0, 2, 0, 9, 9, 8, 1, 3, 5, 9, 8, 1, 6, 1, 4, 3, 4, 8, 3, 9, 5, 6, 2, 5, 4, 5, 2, 10, 8, 4, 7, 3, 0, 6, 7, 0, 5, 7, 1, 0, 1, 6, 3, 7, 7, 2, 10, 4, 3, 10, 9, 4, 3, 3, 1, 7, 8, 5, 2, 4, 10, 1, 1, 2, 3, 10, 6, 9, 5, 3, 3, 10, 7, 1, 5, 1, 8, 1, 8, 7, 3, 10, 3, 5, 2, 2, 7, 3, 9, 7, 6, 8, 8, 10, 2, 4, 2, 5, 5, 3, 8, 0, 8, 6, 0, 1, 2, 7, 3, 2, 4, 10, 8, 6, 6, 0, 2, 7, 10, 1, 7, 6, 9, 2, 5, 2, 0, 9, 4, 3, 2, 6, 7, 9, 1, 8, 8, 5, 2, 9, 4, 1, 1, 8, 4, 7, 1, 2, 7, 2, 5, 0, 7, 10, 5, 0, 5, 7, 3, 6, 4, 6, 4, 9, 5, 1, 8, 3, 7, 7, 4, 4, 6, 10, 8, 9, 8, 5, 6, 7, 4, 0, 5, 0, 9, 10, 5, 0, 3, 7, 3, 1, 8, 2, 2, 4, 4, 9, 3, 7, 9, 9, 9, 4, 0, 0, 5, 6, 9, 9, 7, 7, 6, 9, 1, 10, 10, 5, 5, 7, 3, 3, 5, 10, 9, 7, 2, 3, 1, 1, 0, 5, 4, 1, 2, 0, 1, 8, 8, 4, 8, 3, 8, 0, 3, 2, 2, 3, 7, 10, 10, 4, 10, 6, 6, 5, 0, 9, 8, 2, 1, 9, 9, 5, 9, 9, 1, 3, 5, 7, 9, 10, 1, 8, 1, 6, 3, 8, 2, 4, 10, 1, 1, 2, 8, 2, 4, 8, 2, 5, 9, 9, 0, 7, 6, 9, 2, 0, 2, 8, 6, 9, 3, 7, 2, 4, 3, 0, 1, 3, 9, 6, 3, 4, 6, 3, 3, 5, 0, 1, 7, 10, 4, 10, 2, 5, 5, 7, 5, 1, 4, 5, 0, 4, 5, 4, 9, 5, 9, 7, 7, 2, 0, 2, 4, 3, 2, 9, 1, 8, 9, 1, 8, 8, 2, 0, 9, 7, 6, 9, 6, 9, 0, 10, 8, 8, 4, 1, 7, 3, 2, 7, 9, 6, 7, 8, 9, 0, 8, 2, 10, 5, 2, 10, 8, 7, 9, 6, 8, 6, 6, 4, 7, 9, 7, 8, 4, 9, 3, 3, 7, 4, 1, 7, 5, 4, 0, 7, 8, 0, 7, 4, 5, 5, 4, 8, 6, 6, 1, 5, 3, 0, 1, 4, 7, 1, 9, 4, 6, 6, 10, 7, 1, 0, 3, 9, 1, 4, 3, 10, 7, 8, 9, 9, 4, 0, 2, 3, 7, 8, 6, 8, 1, 7, 4, 0, 2, 0, 8, 6, 7], 'label_to_index': {'down': 0, 'go': 1, 'left': 2, 'no': 3, 'off': 4, 'on': 5, 'right': 6, 'stop': 7, 'unknown': 8, 'up': 9, 'yes': 10}}\n",
      "Test Loss: 0.6283829043636475, Test Accuracy: 0.7926267281105991\n"
     ]
    },
    {
     "data": {
      "application/vnd.jupyter.widget-view+json": {
       "model_id": "727b4a0f3f2a4e25a122f1e7d23f8349",
       "version_major": 2,
       "version_minor": 0
      },
      "text/plain": [
       "Epoch 1/10:   0%|          | 0/6187 [00:00<?, ?it/s]"
      ]
     },
     "metadata": {},
     "output_type": "display_data"
    },
    {
     "name": "stdout",
     "output_type": "stream",
     "text": [
      "Epoch 1/10, Train Loss: 1.7255995190064588\n"
     ]
    },
    {
     "data": {
      "application/vnd.jupyter.widget-view+json": {
       "model_id": "b43f8adb99c94eb5a97216c1c1ca38e9",
       "version_major": 2,
       "version_minor": 0
      },
      "text/plain": [
       "Validation:   0%|          | 0/163 [00:00<?, ?it/s]"
      ]
     },
     "metadata": {},
     "output_type": "display_data"
    },
    {
     "name": "stdout",
     "output_type": "stream",
     "text": [
      "Epoch 1/10, Validation Loss: 1.4606552498837921, Validation Accuracy: 0.46390168970814133\n"
     ]
    },
    {
     "data": {
      "application/vnd.jupyter.widget-view+json": {
       "model_id": "b4f710bc75d54cc89ec514958ededf00",
       "version_major": 2,
       "version_minor": 0
      },
      "text/plain": [
       "Epoch 2/10:   0%|          | 0/6187 [00:00<?, ?it/s]"
      ]
     },
     "metadata": {},
     "output_type": "display_data"
    },
    {
     "name": "stdout",
     "output_type": "stream",
     "text": [
      "Epoch 2/10, Train Loss: 1.2959833554652582\n"
     ]
    },
    {
     "data": {
      "application/vnd.jupyter.widget-view+json": {
       "model_id": "2ae289b5050e45a9aa2e5d15bfa6e0b8",
       "version_major": 2,
       "version_minor": 0
      },
      "text/plain": [
       "Validation:   0%|          | 0/163 [00:00<?, ?it/s]"
      ]
     },
     "metadata": {},
     "output_type": "display_data"
    },
    {
     "name": "stdout",
     "output_type": "stream",
     "text": [
      "Epoch 2/10, Validation Loss: 1.1263155919368282, Validation Accuracy: 0.5729646697388633\n"
     ]
    },
    {
     "data": {
      "application/vnd.jupyter.widget-view+json": {
       "model_id": "7b094e1294344f1a86d75f93ea58f60c",
       "version_major": 2,
       "version_minor": 0
      },
      "text/plain": [
       "Epoch 3/10:   0%|          | 0/6187 [00:00<?, ?it/s]"
      ]
     },
     "metadata": {},
     "output_type": "display_data"
    },
    {
     "name": "stdout",
     "output_type": "stream",
     "text": [
      "Epoch 3/10, Train Loss: 1.100156366925657\n"
     ]
    },
    {
     "data": {
      "application/vnd.jupyter.widget-view+json": {
       "model_id": "e82b2a832309497db288f006095e4d1d",
       "version_major": 2,
       "version_minor": 0
      },
      "text/plain": [
       "Validation:   0%|          | 0/163 [00:00<?, ?it/s]"
      ]
     },
     "metadata": {},
     "output_type": "display_data"
    },
    {
     "name": "stdout",
     "output_type": "stream",
     "text": [
      "Epoch 3/10, Validation Loss: 0.9360891398659513, Validation Accuracy: 0.6682027649769585\n"
     ]
    },
    {
     "data": {
      "application/vnd.jupyter.widget-view+json": {
       "model_id": "b0211ee4d7c74639af41f76f54853e90",
       "version_major": 2,
       "version_minor": 0
      },
      "text/plain": [
       "Epoch 4/10:   0%|          | 0/6187 [00:00<?, ?it/s]"
      ]
     },
     "metadata": {},
     "output_type": "display_data"
    },
    {
     "name": "stdout",
     "output_type": "stream",
     "text": [
      "Epoch 4/10, Train Loss: 1.0078548791158854\n"
     ]
    },
    {
     "data": {
      "application/vnd.jupyter.widget-view+json": {
       "model_id": "02607987e569412e96b42915ac78ab68",
       "version_major": 2,
       "version_minor": 0
      },
      "text/plain": [
       "Validation:   0%|          | 0/163 [00:00<?, ?it/s]"
      ]
     },
     "metadata": {},
     "output_type": "display_data"
    },
    {
     "name": "stdout",
     "output_type": "stream",
     "text": [
      "Epoch 4/10, Validation Loss: 1.0245909317870814, Validation Accuracy: 0.631336405529954\n"
     ]
    },
    {
     "data": {
      "application/vnd.jupyter.widget-view+json": {
       "model_id": "3f92cc1ba0c145a28a06c4dae1e616c7",
       "version_major": 2,
       "version_minor": 0
      },
      "text/plain": [
       "Epoch 5/10:   0%|          | 0/6187 [00:00<?, ?it/s]"
      ]
     },
     "metadata": {},
     "output_type": "display_data"
    },
    {
     "name": "stdout",
     "output_type": "stream",
     "text": [
      "Epoch 5/10, Train Loss: 0.953488737636768\n"
     ]
    },
    {
     "data": {
      "application/vnd.jupyter.widget-view+json": {
       "model_id": "5e6552f7ae4046eb974b3b521fb0cf57",
       "version_major": 2,
       "version_minor": 0
      },
      "text/plain": [
       "Validation:   0%|          | 0/163 [00:00<?, ?it/s]"
      ]
     },
     "metadata": {},
     "output_type": "display_data"
    },
    {
     "name": "stdout",
     "output_type": "stream",
     "text": [
      "Epoch 5/10, Validation Loss: 0.8639760061732831, Validation Accuracy: 0.6989247311827957\n"
     ]
    },
    {
     "data": {
      "application/vnd.jupyter.widget-view+json": {
       "model_id": "e3fcafc56cca42d28db59bd79822abb4",
       "version_major": 2,
       "version_minor": 0
      },
      "text/plain": [
       "Epoch 6/10:   0%|          | 0/6187 [00:00<?, ?it/s]"
      ]
     },
     "metadata": {},
     "output_type": "display_data"
    },
    {
     "name": "stdout",
     "output_type": "stream",
     "text": [
      "Epoch 6/10, Train Loss: 0.8964357309239697\n"
     ]
    },
    {
     "data": {
      "application/vnd.jupyter.widget-view+json": {
       "model_id": "4230cc65247846ce8baf80c637c723b8",
       "version_major": 2,
       "version_minor": 0
      },
      "text/plain": [
       "Validation:   0%|          | 0/163 [00:00<?, ?it/s]"
      ]
     },
     "metadata": {},
     "output_type": "display_data"
    },
    {
     "name": "stdout",
     "output_type": "stream",
     "text": [
      "Epoch 6/10, Validation Loss: 0.8722367202463143, Validation Accuracy: 0.685099846390169\n"
     ]
    },
    {
     "data": {
      "application/vnd.jupyter.widget-view+json": {
       "model_id": "dc8f95efe15149d9a5bf7d59b7212acf",
       "version_major": 2,
       "version_minor": 0
      },
      "text/plain": [
       "Epoch 7/10:   0%|          | 0/6187 [00:00<?, ?it/s]"
      ]
     },
     "metadata": {},
     "output_type": "display_data"
    },
    {
     "name": "stdout",
     "output_type": "stream",
     "text": [
      "Epoch 7/10, Train Loss: 0.8613913490083077\n"
     ]
    },
    {
     "data": {
      "application/vnd.jupyter.widget-view+json": {
       "model_id": "3772574c5cbb4db78877bf7fb3340604",
       "version_major": 2,
       "version_minor": 0
      },
      "text/plain": [
       "Validation:   0%|          | 0/163 [00:00<?, ?it/s]"
      ]
     },
     "metadata": {},
     "output_type": "display_data"
    },
    {
     "name": "stdout",
     "output_type": "stream",
     "text": [
      "Epoch 7/10, Validation Loss: 0.7919230651498937, Validation Accuracy: 0.7096774193548387\n"
     ]
    },
    {
     "data": {
      "application/vnd.jupyter.widget-view+json": {
       "model_id": "5d6eef8237604e06ab7f5b83fac59852",
       "version_major": 2,
       "version_minor": 0
      },
      "text/plain": [
       "Epoch 8/10:   0%|          | 0/6187 [00:00<?, ?it/s]"
      ]
     },
     "metadata": {},
     "output_type": "display_data"
    },
    {
     "name": "stdout",
     "output_type": "stream",
     "text": [
      "Epoch 8/10, Train Loss: 0.8405970076292618\n"
     ]
    },
    {
     "data": {
      "application/vnd.jupyter.widget-view+json": {
       "model_id": "5576f90213a744fcbef9f641e649e926",
       "version_major": 2,
       "version_minor": 0
      },
      "text/plain": [
       "Validation:   0%|          | 0/163 [00:00<?, ?it/s]"
      ]
     },
     "metadata": {},
     "output_type": "display_data"
    },
    {
     "name": "stdout",
     "output_type": "stream",
     "text": [
      "Epoch 8/10, Validation Loss: 0.8231128540998496, Validation Accuracy: 0.7158218125960062\n"
     ]
    },
    {
     "data": {
      "application/vnd.jupyter.widget-view+json": {
       "model_id": "1873f7d4c52c4d81b567cd9a9b4c6ddf",
       "version_major": 2,
       "version_minor": 0
      },
      "text/plain": [
       "Epoch 9/10:   0%|          | 0/6187 [00:00<?, ?it/s]"
      ]
     },
     "metadata": {},
     "output_type": "display_data"
    },
    {
     "name": "stdout",
     "output_type": "stream",
     "text": [
      "Epoch 9/10, Train Loss: 0.8023452693167474\n"
     ]
    },
    {
     "data": {
      "application/vnd.jupyter.widget-view+json": {
       "model_id": "045b0b62b0b24c32be7ae9505f410038",
       "version_major": 2,
       "version_minor": 0
      },
      "text/plain": [
       "Validation:   0%|          | 0/163 [00:00<?, ?it/s]"
      ]
     },
     "metadata": {},
     "output_type": "display_data"
    },
    {
     "name": "stdout",
     "output_type": "stream",
     "text": [
      "Epoch 9/10, Validation Loss: 0.8332144372119494, Validation Accuracy: 0.7142857142857143\n"
     ]
    },
    {
     "data": {
      "application/vnd.jupyter.widget-view+json": {
       "model_id": "6c53b27ba9c942798e985ad34e220454",
       "version_major": 2,
       "version_minor": 0
      },
      "text/plain": [
       "Epoch 10/10:   0%|          | 0/6187 [00:00<?, ?it/s]"
      ]
     },
     "metadata": {},
     "output_type": "display_data"
    },
    {
     "name": "stdout",
     "output_type": "stream",
     "text": [
      "Epoch 10/10, Train Loss: 0.7874857643960881\n"
     ]
    },
    {
     "data": {
      "application/vnd.jupyter.widget-view+json": {
       "model_id": "b7286ab26ae6491a801bdd9e2fdd0e56",
       "version_major": 2,
       "version_minor": 0
      },
      "text/plain": [
       "Validation:   0%|          | 0/163 [00:00<?, ?it/s]"
      ]
     },
     "metadata": {},
     "output_type": "display_data"
    },
    {
     "name": "stdout",
     "output_type": "stream",
     "text": [
      "Epoch 10/10, Validation Loss: 0.7372842405985561, Validation Accuracy: 0.7465437788018433\n"
     ]
    },
    {
     "data": {
      "application/vnd.jupyter.widget-view+json": {
       "model_id": "178fd221966c4f27aba4ca75cbb39ed1",
       "version_major": 2,
       "version_minor": 0
      },
      "text/plain": [
       "Testing:   0%|          | 0/163 [00:00<?, ?it/s]"
      ]
     },
     "metadata": {},
     "output_type": "display_data"
    },
    {
     "name": "stdout",
     "output_type": "stream",
     "text": [
      "{'val_acc': [0.46390168970814133, 0.5729646697388633, 0.6682027649769585, 0.631336405529954, 0.6989247311827957, 0.685099846390169, 0.7096774193548387, 0.7158218125960062, 0.7142857142857143, 0.7465437788018433], 'val_loss': [1.4606552498837921, 1.1263155919368282, 0.9360891398659513, 1.0245909317870814, 0.8639760061732831, 0.8722367202463143, 0.7919230651498937, 0.8231128540998496, 0.8332144372119494, 0.7372842405985561], 'train_loss': [1.7255995190064588, 1.2959833554652582, 1.100156366925657, 1.0078548791158854, 0.953488737636768, 0.8964357309239697, 0.8613913490083077, 0.8405970076292618, 0.8023452693167474, 0.7874857643960881], 'test_correct_in_batch': [4.0, 3.0, 2.0, 1.0, 4.0, 3.0, 2.0, 3.0, 2.0, 4.0, 3.0, 2.0, 3.0, 4.0, 4.0, 3.0, 3.0, 2.0, 1.0, 1.0, 1.0, 3.0, 2.0, 3.0, 2.0, 3.0, 4.0, 3.0, 4.0, 3.0, 2.0, 3.0, 4.0, 4.0, 2.0, 3.0, 3.0, 3.0, 3.0, 4.0, 3.0, 4.0, 3.0, 3.0, 2.0, 2.0, 2.0, 3.0, 3.0, 2.0, 2.0, 2.0, 3.0, 3.0, 3.0, 4.0, 3.0, 4.0, 3.0, 4.0, 3.0, 3.0, 3.0, 4.0, 3.0, 4.0, 2.0, 4.0, 3.0, 3.0, 1.0, 3.0, 3.0, 2.0, 3.0, 4.0, 4.0, 4.0, 1.0, 3.0, 3.0, 3.0, 2.0, 2.0, 3.0, 3.0, 3.0, 2.0, 3.0, 2.0, 3.0, 4.0, 1.0, 2.0, 4.0, 4.0, 3.0, 1.0, 2.0, 4.0, 1.0, 3.0, 3.0, 3.0, 3.0, 3.0, 2.0, 4.0, 3.0, 4.0, 4.0, 4.0, 3.0, 3.0, 3.0, 3.0, 2.0, 2.0, 3.0, 2.0, 2.0, 2.0, 3.0, 3.0, 2.0, 3.0, 2.0, 2.0, 4.0, 3.0, 2.0, 3.0, 4.0, 3.0, 1.0, 1.0, 4.0, 4.0, 3.0, 3.0, 4.0, 2.0, 3.0, 3.0, 4.0, 3.0, 3.0, 2.0, 2.0, 4.0, 3.0, 3.0, 3.0, 3.0, 3.0, 3.0, 2.0, 4.0, 1.0, 3.0, 4.0, 3.0, 3.0], 'test_losses': [0.09508971869945526, 0.5876628160476685, 1.372003436088562, 2.0550849437713623, 0.22113458812236786, 0.4356798529624939, 1.2572031021118164, 0.8821893930435181, 1.177055835723877, 0.09253522753715515, 0.5121234655380249, 0.8615079522132874, 1.6995642185211182, 0.34590405225753784, 0.306030809879303, 1.621385097503662, 0.7995126247406006, 1.0310982465744019, 1.788191795349121, 1.741381287574768, 1.3322967290878296, 0.8455784916877747, 1.9489078521728516, 0.4212753176689148, 1.569557785987854, 0.6330531239509583, 0.11504032462835312, 0.6423348188400269, 0.43999215960502625, 0.5230196714401245, 2.264472484588623, 1.4947917461395264, 0.08285859227180481, 0.3717914819717407, 0.8563171625137329, 0.5602051019668579, 0.6778525114059448, 0.46421873569488525, 0.654267430305481, 0.07826445996761322, 1.0314180850982666, 0.3064630329608917, 0.8860042095184326, 0.4456150531768799, 1.5406150817871094, 0.7328794598579407, 0.8160432577133179, 1.3624093532562256, 0.6809465289115906, 1.1310429573059082, 1.7854945659637451, 2.2170557975769043, 0.8604021072387695, 0.9764120578765869, 0.7805765867233276, 0.19782453775405884, 0.6317653059959412, 0.38065406680107117, 0.3638432025909424, 0.5842148661613464, 0.6333408355712891, 0.6764024496078491, 0.4087763726711273, 0.3079553246498108, 0.7588815689086914, 0.45135247707366943, 1.0434184074401855, 0.6373879909515381, 1.4086413383483887, 0.7500451803207397, 2.373008966445923, 0.41742610931396484, 0.9723654985427856, 0.7551648616790771, 0.584889829158783, 0.32292941212654114, 0.2669053077697754, 0.14701518416404724, 1.5432796478271484, 0.479961097240448, 0.5703517198562622, 0.7111307382583618, 1.1762193441390991, 0.8921846747398376, 0.781781792640686, 0.826032280921936, 0.49517446756362915, 1.1110060214996338, 0.43784910440444946, 1.673535704612732, 0.4491478204727173, 0.3267980217933655, 1.4465031623840332, 0.9169278144836426, 0.15987950563430786, 0.6441273093223572, 1.4472414255142212, 2.3953163623809814, 0.47751766443252563, 0.10877226293087006, 2.8136227130889893, 0.697240948677063, 0.36018991470336914, 0.755792498588562, 0.5876193642616272, 0.8811671137809753, 1.1070579290390015, 0.3724876344203949, 0.7363324165344238, 0.3780488669872284, 0.10205701738595963, 0.37779760360717773, 0.5414485931396484, 0.5564014911651611, 0.5827288627624512, 0.5532872080802917, 2.078223466873169, 1.1040527820587158, 0.5777269601821899, 0.9461492300033569, 0.9394189715385437, 1.2231351137161255, 1.435912847518921, 0.8047184348106384, 1.3008100986480713, 0.8899322152137756, 1.0228248834609985, 0.9606195092201233, 0.2274402230978012, 0.6326040625572205, 1.1097774505615234, 0.7536662220954895, 0.22008129954338074, 1.089737892150879, 1.3312326669692993, 1.51725172996521, 0.3059886395931244, 0.45138150453567505, 0.770125150680542, 1.0761209726333618, 0.18707464635372162, 2.345341444015503, 1.0524653196334839, 0.7889142036437988, 0.11775986850261688, 0.7149404287338257, 0.4557769298553467, 2.143073081970215, 1.0669159889221191, 0.3945298194885254, 0.569141685962677, 1.3965871334075928, 0.34600114822387695, 0.3558198809623718, 0.8800699710845947, 1.1522433757781982, 0.8014156222343445, 0.53323894739151, 1.1893398761749268, 0.7387966513633728, 0.21236340701580048, 1.1853901147842407, 0.4661889970302582], 'test_loss': 0.8455359549975834, 'test_batch_lens': [4, 4, 4, 4, 4, 4, 4, 4, 4, 4, 4, 4, 4, 4, 4, 4, 4, 4, 4, 4, 4, 4, 4, 4, 4, 4, 4, 4, 4, 4, 4, 4, 4, 4, 4, 4, 4, 4, 4, 4, 4, 4, 4, 4, 4, 4, 4, 4, 4, 4, 4, 4, 4, 4, 4, 4, 4, 4, 4, 4, 4, 4, 4, 4, 4, 4, 4, 4, 4, 4, 4, 4, 4, 4, 4, 4, 4, 4, 4, 4, 4, 4, 4, 4, 4, 4, 4, 4, 4, 4, 4, 4, 4, 4, 4, 4, 4, 4, 4, 4, 4, 4, 4, 4, 4, 4, 4, 4, 4, 4, 4, 4, 4, 4, 4, 4, 4, 4, 4, 4, 4, 4, 4, 4, 4, 4, 4, 4, 4, 4, 4, 4, 4, 4, 4, 4, 4, 4, 4, 4, 4, 4, 4, 4, 4, 4, 4, 4, 4, 4, 4, 4, 4, 4, 4, 4, 4, 4, 4, 4, 4, 4, 3], 'test_accuracy': 0.7142857142857143, 'predictions': [7, 4, 1, 10, 7, 1, 8, 9, 1, 1, 4, 7, 3, 9, 0, 2, 9, 6, 4, 9, 8, 10, 0, 4, 6, 8, 4, 8, 6, 10, 2, 1, 3, 1, 6, 3, 10, 5, 5, 0, 10, 3, 6, 10, 7, 7, 9, 3, 3, 8, 8, 4, 3, 4, 6, 1, 1, 9, 1, 10, 10, 6, 8, 6, 5, 6, 8, 5, 8, 8, 3, 3, 7, 1, 1, 0, 8, 6, 2, 2, 1, 1, 6, 0, 5, 5, 1, 3, 3, 0, 9, 10, 10, 7, 0, 5, 1, 6, 4, 7, 5, 0, 10, 6, 10, 8, 3, 9, 10, 4, 7, 6, 0, 3, 7, 6, 0, 10, 0, 0, 4, 3, 7, 8, 5, 1, 7, 0, 6, 7, 4, 0, 10, 10, 7, 9, 4, 3, 9, 1, 10, 3, 2, 9, 4, 7, 9, 7, 2, 10, 6, 4, 10, 10, 3, 0, 10, 5, 4, 7, 4, 9, 10, 4, 2, 3, 10, 5, 8, 0, 1, 0, 2, 7, 6, 8, 8, 5, 1, 2, 5, 1, 5, 3, 4, 10, 4, 8, 3, 4, 0, 2, 0, 9, 9, 5, 9, 1, 5, 9, 9, 1, 6, 0, 4, 0, 7, 8, 3, 9, 5, 0, 6, 5, 4, 5, 6, 10, 8, 4, 7, 3, 0, 6, 7, 1, 5, 7, 1, 0, 1, 6, 1, 7, 7, 2, 10, 4, 3, 10, 9, 9, 3, 3, 1, 7, 5, 5, 2, 5, 10, 1, 1, 2, 3, 10, 6, 2, 5, 3, 3, 10, 7, 1, 5, 0, 5, 1, 8, 7, 3, 10, 3, 5, 1, 2, 7, 6, 9, 7, 1, 1, 5, 10, 2, 4, 2, 8, 5, 3, 8, 8, 8, 2, 1, 1, 2, 9, 3, 2, 4, 10, 8, 6, 6, 0, 2, 7, 10, 1, 7, 6, 4, 2, 4, 3, 0, 9, 4, 8, 4, 6, 7, 9, 3, 8, 8, 5, 2, 4, 4, 9, 3, 3, 4, 7, 1, 3, 7, 2, 5, 0, 5, 10, 5, 1, 5, 7, 3, 6, 9, 2, 4, 9, 5, 3, 8, 3, 0, 8, 5, 4, 6, 10, 8, 9, 8, 5, 8, 9, 4, 1, 5, 1, 8, 10, 5, 0, 3, 7, 3, 1, 8, 2, 3, 4, 4, 9, 3, 1, 0, 6, 7, 4, 1, 0, 5, 6, 9, 9, 7, 1, 1, 6, 1, 10, 10, 4, 5, 7, 1, 3, 5, 10, 7, 7, 2, 3, 1, 3, 1, 5, 4, 1, 2, 0, 3, 7, 8, 4, 8, 3, 8, 1, 3, 2, 2, 3, 7, 10, 10, 4, 10, 6, 6, 5, 0, 9, 8, 2, 3, 9, 9, 5, 9, 7, 3, 3, 5, 7, 9, 10, 3, 8, 1, 5, 3, 9, 10, 4, 10, 3, 1, 8, 8, 2, 4, 1, 2, 8, 4, 9, 1, 7, 6, 9, 1, 1, 9, 8, 6, 9, 3, 1, 2, 4, 10, 0, 8, 3, 9, 6, 8, 4, 5, 2, 3, 5, 1, 7, 7, 10, 4, 10, 2, 5, 5, 7, 5, 3, 9, 5, 8, 4, 5, 4, 4, 5, 9, 7, 7, 2, 0, 2, 5, 3, 2, 8, 0, 6, 9, 3, 5, 0, 2, 0, 9, 7, 6, 9, 6, 9, 1, 10, 8, 8, 8, 1, 7, 3, 2, 7, 9, 6, 8, 2, 9, 0, 8, 2, 1, 5, 10, 10, 8, 7, 9, 6, 8, 6, 6, 5, 7, 9, 7, 9, 4, 9, 3, 8, 7, 9, 1, 10, 5, 2, 0, 7, 8, 0, 7, 4, 6, 5, 4, 8, 4, 6, 1, 5, 3, 1, 3, 4, 7, 1, 9, 4, 8, 6, 10, 7, 1, 3, 3, 1, 0, 4, 3, 10, 7, 8, 9, 4, 2, 1, 2, 3, 7, 5, 6, 8, 1, 7, 4, 8, 2, 0, 8, 6, 7], 'real_labels': [7, 4, 1, 10, 7, 1, 8, 8, 0, 8, 4, 7, 1, 9, 3, 0, 9, 6, 4, 9, 8, 10, 1, 4, 6, 8, 8, 6, 6, 8, 2, 1, 1, 9, 6, 3, 10, 5, 5, 0, 10, 3, 2, 10, 7, 8, 4, 3, 3, 8, 9, 4, 3, 4, 6, 1, 1, 9, 1, 10, 10, 6, 1, 6, 5, 5, 8, 5, 8, 1, 3, 1, 1, 3, 1, 8, 6, 8, 9, 2, 3, 1, 3, 1, 5, 5, 1, 8, 0, 4, 9, 10, 10, 7, 1, 5, 1, 8, 2, 7, 5, 1, 10, 6, 10, 8, 3, 9, 10, 4, 7, 1, 0, 3, 7, 6, 0, 8, 0, 0, 4, 8, 7, 6, 5, 1, 7, 9, 6, 7, 4, 0, 10, 10, 7, 9, 4, 1, 9, 0, 10, 3, 3, 9, 4, 7, 4, 7, 2, 10, 2, 4, 10, 10, 1, 0, 10, 5, 4, 7, 8, 9, 10, 4, 2, 3, 10, 5, 8, 0, 9, 0, 10, 7, 6, 8, 0, 8, 1, 2, 6, 3, 5, 3, 9, 3, 4, 8, 3, 2, 0, 2, 0, 9, 9, 8, 1, 3, 5, 9, 8, 1, 6, 1, 4, 3, 4, 8, 3, 9, 5, 6, 2, 5, 4, 5, 2, 10, 8, 4, 7, 3, 0, 6, 7, 0, 5, 7, 1, 0, 1, 6, 3, 7, 7, 2, 10, 4, 3, 10, 9, 4, 3, 3, 1, 7, 8, 5, 2, 4, 10, 1, 1, 2, 3, 10, 6, 9, 5, 3, 3, 10, 7, 1, 5, 1, 8, 1, 8, 7, 3, 10, 3, 5, 2, 2, 7, 3, 9, 7, 6, 8, 8, 10, 2, 4, 2, 5, 5, 3, 8, 0, 8, 6, 0, 1, 2, 7, 3, 2, 4, 10, 8, 6, 6, 0, 2, 7, 10, 1, 7, 6, 9, 2, 5, 2, 0, 9, 4, 3, 2, 6, 7, 9, 1, 8, 8, 5, 2, 9, 4, 1, 1, 8, 4, 7, 1, 2, 7, 2, 5, 0, 7, 10, 5, 0, 5, 7, 3, 6, 4, 6, 4, 9, 5, 1, 8, 3, 7, 7, 4, 4, 6, 10, 8, 9, 8, 5, 6, 7, 4, 0, 5, 0, 9, 10, 5, 0, 3, 7, 3, 1, 8, 2, 2, 4, 4, 9, 3, 7, 9, 9, 9, 4, 0, 0, 5, 6, 9, 9, 7, 7, 6, 9, 1, 10, 10, 5, 5, 7, 3, 3, 5, 10, 9, 7, 2, 3, 1, 1, 0, 5, 4, 1, 2, 0, 1, 8, 8, 4, 8, 3, 8, 0, 3, 2, 2, 3, 7, 10, 10, 4, 10, 6, 6, 5, 0, 9, 8, 2, 1, 9, 9, 5, 9, 9, 1, 3, 5, 7, 9, 10, 1, 8, 1, 6, 3, 8, 2, 4, 10, 1, 1, 2, 8, 2, 4, 8, 2, 5, 9, 9, 0, 7, 6, 9, 2, 0, 2, 8, 6, 9, 3, 7, 2, 4, 3, 0, 1, 3, 9, 6, 3, 4, 6, 3, 3, 5, 0, 1, 7, 10, 4, 10, 2, 5, 5, 7, 5, 1, 4, 5, 0, 4, 5, 4, 9, 5, 9, 7, 7, 2, 0, 2, 4, 3, 2, 9, 1, 8, 9, 1, 8, 8, 2, 0, 9, 7, 6, 9, 6, 9, 0, 10, 8, 8, 4, 1, 7, 3, 2, 7, 9, 6, 7, 8, 9, 0, 8, 2, 10, 5, 2, 10, 8, 7, 9, 6, 8, 6, 6, 4, 7, 9, 7, 8, 4, 9, 3, 3, 7, 4, 1, 7, 5, 4, 0, 7, 8, 0, 7, 4, 5, 5, 4, 8, 6, 6, 1, 5, 3, 0, 1, 4, 7, 1, 9, 4, 6, 6, 10, 7, 1, 0, 3, 9, 1, 4, 3, 10, 7, 8, 9, 9, 4, 0, 2, 3, 7, 8, 6, 8, 1, 7, 4, 0, 2, 0, 8, 6, 7], 'label_to_index': {'down': 0, 'go': 1, 'left': 2, 'no': 3, 'off': 4, 'on': 5, 'right': 6, 'stop': 7, 'unknown': 8, 'up': 9, 'yes': 10}}\n",
      "Test Loss: 0.8455359549975834, Test Accuracy: 0.7142857142857143\n"
     ]
    },
    {
     "data": {
      "application/vnd.jupyter.widget-view+json": {
       "model_id": "7ab47068a262404da55017434d270db1",
       "version_major": 2,
       "version_minor": 0
      },
      "text/plain": [
       "Epoch 1/10:   0%|          | 0/6187 [00:00<?, ?it/s]"
      ]
     },
     "metadata": {},
     "output_type": "display_data"
    },
    {
     "name": "stdout",
     "output_type": "stream",
     "text": [
      "Epoch 1/10, Train Loss: 1.880006980352647\n"
     ]
    },
    {
     "data": {
      "application/vnd.jupyter.widget-view+json": {
       "model_id": "f2aae9ce136f4219bf9f2e08f2cd374d",
       "version_major": 2,
       "version_minor": 0
      },
      "text/plain": [
       "Validation:   0%|          | 0/163 [00:00<?, ?it/s]"
      ]
     },
     "metadata": {},
     "output_type": "display_data"
    },
    {
     "name": "stdout",
     "output_type": "stream",
     "text": [
      "Epoch 1/10, Validation Loss: 1.5082526803016663, Validation Accuracy: 0.4254992319508449\n"
     ]
    },
    {
     "data": {
      "application/vnd.jupyter.widget-view+json": {
       "model_id": "f84877f11bf14549af8f1e458d86efb1",
       "version_major": 2,
       "version_minor": 0
      },
      "text/plain": [
       "Epoch 2/10:   0%|          | 0/6187 [00:00<?, ?it/s]"
      ]
     },
     "metadata": {},
     "output_type": "display_data"
    },
    {
     "name": "stdout",
     "output_type": "stream",
     "text": [
      "Epoch 2/10, Train Loss: 1.2479063102366448\n"
     ]
    },
    {
     "data": {
      "application/vnd.jupyter.widget-view+json": {
       "model_id": "4872782a736d46fd9d53b3d8efe2a5e6",
       "version_major": 2,
       "version_minor": 0
      },
      "text/plain": [
       "Validation:   0%|          | 0/163 [00:00<?, ?it/s]"
      ]
     },
     "metadata": {},
     "output_type": "display_data"
    },
    {
     "name": "stdout",
     "output_type": "stream",
     "text": [
      "Epoch 2/10, Validation Loss: 1.0270471628641058, Validation Accuracy: 0.6482334869431644\n"
     ]
    },
    {
     "data": {
      "application/vnd.jupyter.widget-view+json": {
       "model_id": "edd617ec2b7b48f0877c8825994c4aed",
       "version_major": 2,
       "version_minor": 0
      },
      "text/plain": [
       "Epoch 3/10:   0%|          | 0/6187 [00:00<?, ?it/s]"
      ]
     },
     "metadata": {},
     "output_type": "display_data"
    },
    {
     "name": "stdout",
     "output_type": "stream",
     "text": [
      "Epoch 3/10, Train Loss: 0.9890941335049405\n"
     ]
    },
    {
     "data": {
      "application/vnd.jupyter.widget-view+json": {
       "model_id": "cc6c7eb0075546898fb68b34bed21610",
       "version_major": 2,
       "version_minor": 0
      },
      "text/plain": [
       "Validation:   0%|          | 0/163 [00:00<?, ?it/s]"
      ]
     },
     "metadata": {},
     "output_type": "display_data"
    },
    {
     "name": "stdout",
     "output_type": "stream",
     "text": [
      "Epoch 3/10, Validation Loss: 0.8531901656758566, Validation Accuracy: 0.6912442396313364\n"
     ]
    },
    {
     "data": {
      "application/vnd.jupyter.widget-view+json": {
       "model_id": "6c616c1454cf4496bcdd02822ca3605b",
       "version_major": 2,
       "version_minor": 0
      },
      "text/plain": [
       "Epoch 4/10:   0%|          | 0/6187 [00:00<?, ?it/s]"
      ]
     },
     "metadata": {},
     "output_type": "display_data"
    },
    {
     "name": "stdout",
     "output_type": "stream",
     "text": [
      "Epoch 4/10, Train Loss: 0.871925737594104\n"
     ]
    },
    {
     "data": {
      "application/vnd.jupyter.widget-view+json": {
       "model_id": "56f414ca2ddf41fc8bb3822dba0fb071",
       "version_major": 2,
       "version_minor": 0
      },
      "text/plain": [
       "Validation:   0%|          | 0/163 [00:00<?, ?it/s]"
      ]
     },
     "metadata": {},
     "output_type": "display_data"
    },
    {
     "name": "stdout",
     "output_type": "stream",
     "text": [
      "Epoch 4/10, Validation Loss: 0.7592489465591183, Validation Accuracy: 0.7250384024577573\n"
     ]
    },
    {
     "data": {
      "application/vnd.jupyter.widget-view+json": {
       "model_id": "9d3a3670a5384c81bad34f1a33151a2f",
       "version_major": 2,
       "version_minor": 0
      },
      "text/plain": [
       "Epoch 5/10:   0%|          | 0/6187 [00:00<?, ?it/s]"
      ]
     },
     "metadata": {},
     "output_type": "display_data"
    },
    {
     "name": "stdout",
     "output_type": "stream",
     "text": [
      "Epoch 5/10, Train Loss: 0.7813716785464733\n"
     ]
    },
    {
     "data": {
      "application/vnd.jupyter.widget-view+json": {
       "model_id": "c9267c9e491a40a4962407ed9d86458e",
       "version_major": 2,
       "version_minor": 0
      },
      "text/plain": [
       "Validation:   0%|          | 0/163 [00:00<?, ?it/s]"
      ]
     },
     "metadata": {},
     "output_type": "display_data"
    },
    {
     "name": "stdout",
     "output_type": "stream",
     "text": [
      "Epoch 5/10, Validation Loss: 0.7066081731917302, Validation Accuracy: 0.7634408602150538\n"
     ]
    },
    {
     "data": {
      "application/vnd.jupyter.widget-view+json": {
       "model_id": "4388762c5762457b9ad2e17e9285e801",
       "version_major": 2,
       "version_minor": 0
      },
      "text/plain": [
       "Epoch 6/10:   0%|          | 0/6187 [00:00<?, ?it/s]"
      ]
     },
     "metadata": {},
     "output_type": "display_data"
    },
    {
     "name": "stdout",
     "output_type": "stream",
     "text": [
      "Epoch 6/10, Train Loss: 0.7102919515652523\n"
     ]
    },
    {
     "data": {
      "application/vnd.jupyter.widget-view+json": {
       "model_id": "67c376dc8a3f4ee9bd74bff1a7b037f8",
       "version_major": 2,
       "version_minor": 0
      },
      "text/plain": [
       "Validation:   0%|          | 0/163 [00:00<?, ?it/s]"
      ]
     },
     "metadata": {},
     "output_type": "display_data"
    },
    {
     "name": "stdout",
     "output_type": "stream",
     "text": [
      "Epoch 6/10, Validation Loss: 0.6517002869603092, Validation Accuracy: 0.783410138248848\n"
     ]
    },
    {
     "data": {
      "application/vnd.jupyter.widget-view+json": {
       "model_id": "7d2662cc17c2462daaab2b58a4f29b9c",
       "version_major": 2,
       "version_minor": 0
      },
      "text/plain": [
       "Epoch 7/10:   0%|          | 0/6187 [00:00<?, ?it/s]"
      ]
     },
     "metadata": {},
     "output_type": "display_data"
    },
    {
     "name": "stdout",
     "output_type": "stream",
     "text": [
      "Epoch 7/10, Train Loss: 0.6639510482040578\n"
     ]
    },
    {
     "data": {
      "application/vnd.jupyter.widget-view+json": {
       "model_id": "6826f6c278f843e8afa23d8b53aa3d87",
       "version_major": 2,
       "version_minor": 0
      },
      "text/plain": [
       "Validation:   0%|          | 0/163 [00:00<?, ?it/s]"
      ]
     },
     "metadata": {},
     "output_type": "display_data"
    },
    {
     "name": "stdout",
     "output_type": "stream",
     "text": [
      "Epoch 7/10, Validation Loss: 0.606527174120209, Validation Accuracy: 0.7803379416282642\n"
     ]
    },
    {
     "data": {
      "application/vnd.jupyter.widget-view+json": {
       "model_id": "7bcf2f0f2bc9478b8b04ea8f9ba29fd6",
       "version_major": 2,
       "version_minor": 0
      },
      "text/plain": [
       "Epoch 8/10:   0%|          | 0/6187 [00:00<?, ?it/s]"
      ]
     },
     "metadata": {},
     "output_type": "display_data"
    },
    {
     "name": "stdout",
     "output_type": "stream",
     "text": [
      "Epoch 8/10, Train Loss: 0.6253522141397491\n"
     ]
    },
    {
     "data": {
      "application/vnd.jupyter.widget-view+json": {
       "model_id": "f8fa8013a1c24bc4933ce0f27f9ecf38",
       "version_major": 2,
       "version_minor": 0
      },
      "text/plain": [
       "Validation:   0%|          | 0/163 [00:00<?, ?it/s]"
      ]
     },
     "metadata": {},
     "output_type": "display_data"
    },
    {
     "name": "stdout",
     "output_type": "stream",
     "text": [
      "Epoch 8/10, Validation Loss: 0.6006048415656104, Validation Accuracy: 0.8125960061443932\n"
     ]
    },
    {
     "data": {
      "application/vnd.jupyter.widget-view+json": {
       "model_id": "59db578a57444c4baa12988a7f2830a4",
       "version_major": 2,
       "version_minor": 0
      },
      "text/plain": [
       "Epoch 9/10:   0%|          | 0/6187 [00:00<?, ?it/s]"
      ]
     },
     "metadata": {},
     "output_type": "display_data"
    },
    {
     "name": "stdout",
     "output_type": "stream",
     "text": [
      "Epoch 9/10, Train Loss: 0.6011387668352821\n"
     ]
    },
    {
     "data": {
      "application/vnd.jupyter.widget-view+json": {
       "model_id": "eb3c752b938e4dac8e3a3dfcf120eb3c",
       "version_major": 2,
       "version_minor": 0
      },
      "text/plain": [
       "Validation:   0%|          | 0/163 [00:00<?, ?it/s]"
      ]
     },
     "metadata": {},
     "output_type": "display_data"
    },
    {
     "name": "stdout",
     "output_type": "stream",
     "text": [
      "Epoch 9/10, Validation Loss: 0.5938878374094246, Validation Accuracy: 0.8018433179723502\n"
     ]
    },
    {
     "data": {
      "application/vnd.jupyter.widget-view+json": {
       "model_id": "ee89dd224d3e4ef89a548c02f796c608",
       "version_major": 2,
       "version_minor": 0
      },
      "text/plain": [
       "Epoch 10/10:   0%|          | 0/6187 [00:00<?, ?it/s]"
      ]
     },
     "metadata": {},
     "output_type": "display_data"
    },
    {
     "name": "stdout",
     "output_type": "stream",
     "text": [
      "Epoch 10/10, Train Loss: 0.5784887442114959\n"
     ]
    },
    {
     "data": {
      "application/vnd.jupyter.widget-view+json": {
       "model_id": "37f83953a67c4d68b92315acae84fafa",
       "version_major": 2,
       "version_minor": 0
      },
      "text/plain": [
       "Validation:   0%|          | 0/163 [00:00<?, ?it/s]"
      ]
     },
     "metadata": {},
     "output_type": "display_data"
    },
    {
     "name": "stdout",
     "output_type": "stream",
     "text": [
      "Epoch 10/10, Validation Loss: 0.5652427413383716, Validation Accuracy: 0.804915514592934\n"
     ]
    },
    {
     "data": {
      "application/vnd.jupyter.widget-view+json": {
       "model_id": "27a4d567588f4695b6caece9894c7930",
       "version_major": 2,
       "version_minor": 0
      },
      "text/plain": [
       "Testing:   0%|          | 0/163 [00:00<?, ?it/s]"
      ]
     },
     "metadata": {},
     "output_type": "display_data"
    },
    {
     "name": "stdout",
     "output_type": "stream",
     "text": [
      "{'val_acc': [0.4254992319508449, 0.6482334869431644, 0.6912442396313364, 0.7250384024577573, 0.7634408602150538, 0.783410138248848, 0.7803379416282642, 0.8125960061443932, 0.8018433179723502, 0.804915514592934], 'val_loss': [1.5082526803016663, 1.0270471628641058, 0.8531901656758566, 0.7592489465591183, 0.7066081731917302, 0.6517002869603092, 0.606527174120209, 0.6006048415656104, 0.5938878374094246, 0.5652427413383716], 'train_loss': [1.880006980352647, 1.2479063102366448, 0.9890941335049405, 0.871925737594104, 0.7813716785464733, 0.7102919515652523, 0.6639510482040578, 0.6253522141397491, 0.6011387668352821, 0.5784887442114959], 'test_correct_in_batch': [4.0, 3.0, 3.0, 1.0, 4.0, 4.0, 3.0, 2.0, 3.0, 3.0, 4.0, 3.0, 2.0, 4.0, 4.0, 3.0, 3.0, 4.0, 4.0, 2.0, 4.0, 3.0, 3.0, 4.0, 4.0, 4.0, 4.0, 3.0, 3.0, 3.0, 1.0, 4.0, 3.0, 4.0, 3.0, 4.0, 4.0, 3.0, 4.0, 4.0, 3.0, 4.0, 4.0, 3.0, 2.0, 4.0, 4.0, 4.0, 3.0, 3.0, 3.0, 2.0, 3.0, 2.0, 2.0, 3.0, 4.0, 4.0, 4.0, 3.0, 4.0, 4.0, 4.0, 4.0, 4.0, 3.0, 4.0, 3.0, 3.0, 3.0, 1.0, 4.0, 3.0, 2.0, 4.0, 3.0, 3.0, 4.0, 4.0, 4.0, 3.0, 4.0, 4.0, 2.0, 2.0, 2.0, 2.0, 3.0, 3.0, 2.0, 3.0, 3.0, 1.0, 3.0, 3.0, 4.0, 2.0, 2.0, 3.0, 4.0, 1.0, 3.0, 4.0, 2.0, 3.0, 3.0, 4.0, 3.0, 3.0, 4.0, 4.0, 2.0, 4.0, 4.0, 4.0, 4.0, 3.0, 3.0, 4.0, 3.0, 3.0, 2.0, 4.0, 3.0, 3.0, 3.0, 3.0, 2.0, 4.0, 2.0, 3.0, 4.0, 4.0, 1.0, 2.0, 3.0, 4.0, 3.0, 4.0, 3.0, 4.0, 3.0, 3.0, 3.0, 3.0, 3.0, 4.0, 2.0, 3.0, 4.0, 3.0, 3.0, 4.0, 4.0, 3.0, 4.0, 4.0, 2.0, 3.0, 2.0, 4.0, 4.0, 3.0], 'test_losses': [0.01234485860913992, 0.6186240315437317, 1.3061422109603882, 1.4943649768829346, 0.05603791028261185, 0.2866220474243164, 0.915830671787262, 1.8455060720443726, 0.6416313052177429, 0.2716946005821228, 0.22695215046405792, 0.39864328503608704, 1.9786471128463745, 0.2075444906949997, 0.05392295494675636, 1.140676498413086, 0.6890109777450562, 0.399200975894928, 0.3848413825035095, 1.7390551567077637, 0.2731323540210724, 0.31159162521362305, 0.3786027729511261, 0.024531563743948936, 0.06534609198570251, 0.149093359708786, 0.06294015794992447, 0.7737404108047485, 0.6584330201148987, 0.530443549156189, 2.478992223739624, 0.2201915681362152, 0.266647070646286, 0.031906887888908386, 1.2021499872207642, 0.2863772213459015, 0.18958835303783417, 1.007429599761963, 0.09385707229375839, 0.2210083305835724, 0.682543158531189, 0.14451724290847778, 0.5505061745643616, 1.0564244985580444, 0.942044198513031, 0.10109123587608337, 0.31315264105796814, 0.117363840341568, 0.5591877102851868, 0.5797277092933655, 0.7054515480995178, 1.8272545337677002, 0.6610039472579956, 1.5860521793365479, 0.9801889061927795, 1.1159714460372925, 0.23505130410194397, 0.0438847541809082, 0.035966116935014725, 0.24826771020889282, 0.1499980390071869, 0.1072978600859642, 0.29799264669418335, 0.08100894093513489, 0.16761735081672668, 0.5993507504463196, 0.19191981852054596, 0.7790707945823669, 0.6741510629653931, 0.7687128186225891, 1.177339792251587, 0.09196112304925919, 0.5969090461730957, 1.7307254076004028, 0.023630641400814056, 0.4463837146759033, 0.9498847723007202, 0.051751263439655304, 0.3645961284637451, 0.07188050448894501, 0.7568280696868896, 0.31959348917007446, 0.08025410026311874, 1.1218668222427368, 0.9928596615791321, 2.248990297317505, 1.137118935585022, 0.8897780179977417, 0.7071044445037842, 0.8357996344566345, 0.4927782118320465, 0.6555161476135254, 2.323460817337036, 0.6473694443702698, 0.31197232007980347, 0.28967973589897156, 1.2513595819473267, 1.8777568340301514, 0.8824234008789062, 0.10631189495325089, 1.4449011087417603, 0.2555602788925171, 0.06870602071285248, 1.1391748189926147, 0.43953707814216614, 0.6570257544517517, 0.11135806888341904, 0.6366997957229614, 0.8568320274353027, 0.03892825171351433, 0.021834909915924072, 1.1905715465545654, 0.23023879528045654, 0.08247817307710648, 0.4087230861186981, 0.07872575521469116, 1.5063133239746094, 0.5047472715377808, 0.30903932452201843, 0.9737359881401062, 0.3543859124183655, 1.4455251693725586, 0.43724676966667175, 0.6906935572624207, 0.6718354225158691, 0.566997230052948, 0.9518527984619141, 2.0483016967773438, 0.25014132261276245, 0.9826915860176086, 0.7215448617935181, 0.1273629367351532, 0.17835023999214172, 1.0136654376983643, 1.4291329383850098, 0.6342008113861084, 0.055501654744148254, 0.4548182785511017, 0.2730332911014557, 1.2271085977554321, 0.02645391970872879, 1.0758988857269287, 0.9096249938011169, 0.3297197222709656, 0.6872816681861877, 0.6612488031387329, 0.4088119566440582, 1.0232179164886475, 0.835042417049408, 0.12284328043460846, 0.5111983418464661, 0.27509328722953796, 0.18136215209960938, 0.3295130729675293, 0.5242397785186768, 0.2121894359588623, 0.0888274759054184, 0.923267662525177, 1.3047780990600586, 1.117436408996582, 0.022881364449858665, 0.3581206798553467, 0.27518269419670105], 'test_loss': 0.6214951410649653, 'test_batch_lens': [4, 4, 4, 4, 4, 4, 4, 4, 4, 4, 4, 4, 4, 4, 4, 4, 4, 4, 4, 4, 4, 4, 4, 4, 4, 4, 4, 4, 4, 4, 4, 4, 4, 4, 4, 4, 4, 4, 4, 4, 4, 4, 4, 4, 4, 4, 4, 4, 4, 4, 4, 4, 4, 4, 4, 4, 4, 4, 4, 4, 4, 4, 4, 4, 4, 4, 4, 4, 4, 4, 4, 4, 4, 4, 4, 4, 4, 4, 4, 4, 4, 4, 4, 4, 4, 4, 4, 4, 4, 4, 4, 4, 4, 4, 4, 4, 4, 4, 4, 4, 4, 4, 4, 4, 4, 4, 4, 4, 4, 4, 4, 4, 4, 4, 4, 4, 4, 4, 4, 4, 4, 4, 4, 4, 4, 4, 4, 4, 4, 4, 4, 4, 4, 4, 4, 4, 4, 4, 4, 4, 4, 4, 4, 4, 4, 4, 4, 4, 4, 4, 4, 4, 4, 4, 4, 4, 4, 4, 4, 4, 4, 4, 3], 'test_accuracy': 0.7972350230414746, 'predictions': [7, 4, 1, 10, 7, 1, 8, 2, 1, 8, 4, 7, 3, 9, 8, 1, 9, 6, 4, 9, 8, 10, 1, 4, 6, 8, 5, 6, 6, 10, 2, 0, 1, 3, 6, 3, 10, 5, 5, 1, 10, 3, 2, 10, 7, 8, 9, 3, 8, 8, 0, 4, 3, 4, 6, 1, 1, 9, 1, 10, 10, 6, 9, 6, 5, 9, 8, 5, 8, 1, 3, 1, 1, 3, 1, 8, 8, 8, 9, 3, 3, 1, 3, 1, 5, 5, 1, 3, 0, 5, 9, 10, 10, 7, 1, 5, 1, 8, 2, 7, 5, 1, 10, 6, 10, 8, 3, 9, 10, 4, 7, 9, 0, 3, 7, 8, 0, 8, 1, 0, 4, 3, 1, 2, 5, 1, 7, 9, 6, 7, 4, 1, 10, 10, 7, 9, 4, 1, 9, 1, 10, 3, 3, 9, 4, 7, 4, 7, 2, 10, 8, 4, 10, 10, 1, 0, 10, 5, 4, 7, 4, 9, 10, 4, 2, 3, 10, 5, 8, 0, 9, 0, 10, 7, 6, 10, 1, 8, 1, 3, 6, 3, 5, 3, 9, 3, 4, 8, 3, 2, 0, 2, 1, 9, 9, 8, 0, 3, 5, 9, 9, 1, 6, 1, 4, 0, 9, 8, 3, 9, 5, 2, 5, 5, 4, 4, 10, 10, 5, 4, 7, 3, 3, 6, 7, 0, 5, 7, 1, 0, 1, 6, 3, 7, 7, 2, 10, 9, 3, 10, 9, 4, 3, 3, 1, 7, 8, 5, 2, 4, 10, 1, 1, 2, 3, 10, 6, 9, 5, 3, 3, 10, 7, 3, 5, 1, 8, 1, 3, 7, 3, 10, 3, 5, 9, 2, 7, 9, 9, 7, 5, 1, 3, 10, 2, 4, 2, 5, 5, 8, 8, 0, 3, 6, 3, 1, 2, 7, 3, 2, 9, 10, 8, 6, 6, 3, 2, 7, 10, 1, 7, 6, 9, 2, 5, 2, 0, 9, 4, 3, 6, 6, 7, 9, 1, 8, 8, 5, 2, 9, 4, 1, 3, 3, 4, 7, 1, 8, 0, 2, 5, 3, 9, 10, 5, 3, 8, 7, 3, 6, 9, 6, 9, 9, 5, 1, 0, 3, 9, 7, 9, 4, 6, 10, 8, 9, 10, 5, 8, 9, 4, 1, 5, 0, 1, 10, 5, 1, 3, 7, 3, 1, 8, 2, 7, 4, 4, 4, 3, 1, 5, 9, 9, 4, 1, 0, 5, 6, 9, 9, 7, 1, 8, 2, 1, 10, 10, 4, 5, 7, 3, 3, 5, 10, 4, 4, 2, 3, 1, 3, 0, 5, 5, 1, 2, 0, 1, 8, 8, 9, 8, 3, 8, 3, 3, 2, 2, 3, 7, 10, 10, 4, 10, 6, 6, 5, 3, 8, 8, 2, 1, 9, 9, 5, 9, 9, 1, 3, 5, 7, 9, 10, 1, 8, 1, 6, 3, 9, 10, 4, 10, 1, 1, 2, 8, 2, 5, 8, 2, 5, 9, 9, 1, 7, 6, 9, 9, 3, 2, 8, 6, 9, 3, 4, 2, 4, 3, 0, 0, 3, 5, 6, 3, 4, 9, 3, 3, 5, 1, 7, 7, 10, 4, 10, 2, 5, 5, 7, 4, 3, 4, 5, 1, 4, 5, 4, 9, 5, 9, 7, 7, 2, 1, 6, 5, 3, 2, 8, 1, 6, 9, 1, 8, 1, 2, 0, 9, 7, 6, 3, 6, 9, 0, 10, 8, 8, 8, 1, 7, 3, 2, 7, 9, 6, 0, 8, 9, 0, 8, 2, 2, 5, 2, 10, 10, 7, 9, 6, 10, 6, 6, 9, 7, 9, 7, 8, 4, 9, 3, 0, 7, 5, 1, 7, 5, 2, 0, 7, 8, 0, 7, 5, 5, 5, 4, 8, 2, 6, 1, 5, 3, 0, 1, 4, 7, 1, 4, 4, 6, 6, 10, 7, 1, 0, 3, 9, 1, 4, 3, 8, 7, 6, 9, 9, 4, 3, 2, 3, 0, 2, 6, 8, 1, 7, 4, 0, 2, 0, 8, 6, 7], 'real_labels': [7, 4, 1, 10, 7, 1, 8, 8, 0, 8, 4, 7, 1, 9, 3, 0, 9, 6, 4, 9, 8, 10, 1, 4, 6, 8, 8, 6, 6, 8, 2, 1, 1, 9, 6, 3, 10, 5, 5, 0, 10, 3, 2, 10, 7, 8, 4, 3, 3, 8, 9, 4, 3, 4, 6, 1, 1, 9, 1, 10, 10, 6, 1, 6, 5, 5, 8, 5, 8, 1, 3, 1, 1, 3, 1, 8, 6, 8, 9, 2, 3, 1, 3, 1, 5, 5, 1, 8, 0, 4, 9, 10, 10, 7, 1, 5, 1, 8, 2, 7, 5, 1, 10, 6, 10, 8, 3, 9, 10, 4, 7, 1, 0, 3, 7, 6, 0, 8, 0, 0, 4, 8, 7, 6, 5, 1, 7, 9, 6, 7, 4, 0, 10, 10, 7, 9, 4, 1, 9, 0, 10, 3, 3, 9, 4, 7, 4, 7, 2, 10, 2, 4, 10, 10, 1, 0, 10, 5, 4, 7, 8, 9, 10, 4, 2, 3, 10, 5, 8, 0, 9, 0, 10, 7, 6, 8, 0, 8, 1, 2, 6, 3, 5, 3, 9, 3, 4, 8, 3, 2, 0, 2, 0, 9, 9, 8, 1, 3, 5, 9, 8, 1, 6, 1, 4, 3, 4, 8, 3, 9, 5, 6, 2, 5, 4, 5, 2, 10, 8, 4, 7, 3, 0, 6, 7, 0, 5, 7, 1, 0, 1, 6, 3, 7, 7, 2, 10, 4, 3, 10, 9, 4, 3, 3, 1, 7, 8, 5, 2, 4, 10, 1, 1, 2, 3, 10, 6, 9, 5, 3, 3, 10, 7, 1, 5, 1, 8, 1, 8, 7, 3, 10, 3, 5, 2, 2, 7, 3, 9, 7, 6, 8, 8, 10, 2, 4, 2, 5, 5, 3, 8, 0, 8, 6, 0, 1, 2, 7, 3, 2, 4, 10, 8, 6, 6, 0, 2, 7, 10, 1, 7, 6, 9, 2, 5, 2, 0, 9, 4, 3, 2, 6, 7, 9, 1, 8, 8, 5, 2, 9, 4, 1, 1, 8, 4, 7, 1, 2, 7, 2, 5, 0, 7, 10, 5, 0, 5, 7, 3, 6, 4, 6, 4, 9, 5, 1, 8, 3, 7, 7, 4, 4, 6, 10, 8, 9, 8, 5, 6, 7, 4, 0, 5, 0, 9, 10, 5, 0, 3, 7, 3, 1, 8, 2, 2, 4, 4, 9, 3, 7, 9, 9, 9, 4, 0, 0, 5, 6, 9, 9, 7, 7, 6, 9, 1, 10, 10, 5, 5, 7, 3, 3, 5, 10, 9, 7, 2, 3, 1, 1, 0, 5, 4, 1, 2, 0, 1, 8, 8, 4, 8, 3, 8, 0, 3, 2, 2, 3, 7, 10, 10, 4, 10, 6, 6, 5, 0, 9, 8, 2, 1, 9, 9, 5, 9, 9, 1, 3, 5, 7, 9, 10, 1, 8, 1, 6, 3, 8, 2, 4, 10, 1, 1, 2, 8, 2, 4, 8, 2, 5, 9, 9, 0, 7, 6, 9, 2, 0, 2, 8, 6, 9, 3, 7, 2, 4, 3, 0, 1, 3, 9, 6, 3, 4, 6, 3, 3, 5, 0, 1, 7, 10, 4, 10, 2, 5, 5, 7, 5, 1, 4, 5, 0, 4, 5, 4, 9, 5, 9, 7, 7, 2, 0, 2, 4, 3, 2, 9, 1, 8, 9, 1, 8, 8, 2, 0, 9, 7, 6, 9, 6, 9, 0, 10, 8, 8, 4, 1, 7, 3, 2, 7, 9, 6, 7, 8, 9, 0, 8, 2, 10, 5, 2, 10, 8, 7, 9, 6, 8, 6, 6, 4, 7, 9, 7, 8, 4, 9, 3, 3, 7, 4, 1, 7, 5, 4, 0, 7, 8, 0, 7, 4, 5, 5, 4, 8, 6, 6, 1, 5, 3, 0, 1, 4, 7, 1, 9, 4, 6, 6, 10, 7, 1, 0, 3, 9, 1, 4, 3, 10, 7, 8, 9, 9, 4, 0, 2, 3, 7, 8, 6, 8, 1, 7, 4, 0, 2, 0, 8, 6, 7], 'label_to_index': {'down': 0, 'go': 1, 'left': 2, 'no': 3, 'off': 4, 'on': 5, 'right': 6, 'stop': 7, 'unknown': 8, 'up': 9, 'yes': 10}}\n",
      "Test Loss: 0.6214951410649653, Test Accuracy: 0.7972350230414746\n"
     ]
    },
    {
     "data": {
      "application/vnd.jupyter.widget-view+json": {
       "model_id": "715054a96021467c9ea1c69d39ef6cc2",
       "version_major": 2,
       "version_minor": 0
      },
      "text/plain": [
       "Epoch 1/10:   0%|          | 0/6187 [00:00<?, ?it/s]"
      ]
     },
     "metadata": {},
     "output_type": "display_data"
    },
    {
     "name": "stdout",
     "output_type": "stream",
     "text": [
      "Epoch 1/10, Train Loss: 1.4521674960345892\n"
     ]
    },
    {
     "data": {
      "application/vnd.jupyter.widget-view+json": {
       "model_id": "44311e9e726a4feca35ccf1e176cf6c6",
       "version_major": 2,
       "version_minor": 0
      },
      "text/plain": [
       "Validation:   0%|          | 0/163 [00:00<?, ?it/s]"
      ]
     },
     "metadata": {},
     "output_type": "display_data"
    },
    {
     "name": "stdout",
     "output_type": "stream",
     "text": [
      "Epoch 1/10, Validation Loss: 1.0382395881725235, Validation Accuracy: 0.6298003072196621\n"
     ]
    },
    {
     "data": {
      "application/vnd.jupyter.widget-view+json": {
       "model_id": "a6785408335844dba04f1800154fd7c1",
       "version_major": 2,
       "version_minor": 0
      },
      "text/plain": [
       "Epoch 2/10:   0%|          | 0/6187 [00:00<?, ?it/s]"
      ]
     },
     "metadata": {},
     "output_type": "display_data"
    },
    {
     "name": "stdout",
     "output_type": "stream",
     "text": [
      "Epoch 2/10, Train Loss: 0.9511856791008332\n"
     ]
    },
    {
     "data": {
      "application/vnd.jupyter.widget-view+json": {
       "model_id": "598ad5d9f306416a95f9208b1167d7b3",
       "version_major": 2,
       "version_minor": 0
      },
      "text/plain": [
       "Validation:   0%|          | 0/163 [00:00<?, ?it/s]"
      ]
     },
     "metadata": {},
     "output_type": "display_data"
    },
    {
     "name": "stdout",
     "output_type": "stream",
     "text": [
      "Epoch 2/10, Validation Loss: 0.8524530404733003, Validation Accuracy: 0.7096774193548387\n"
     ]
    },
    {
     "data": {
      "application/vnd.jupyter.widget-view+json": {
       "model_id": "448f0526d6e84b4f8240e69daa1b136d",
       "version_major": 2,
       "version_minor": 0
      },
      "text/plain": [
       "Epoch 3/10:   0%|          | 0/6187 [00:00<?, ?it/s]"
      ]
     },
     "metadata": {},
     "output_type": "display_data"
    },
    {
     "name": "stdout",
     "output_type": "stream",
     "text": [
      "Epoch 3/10, Train Loss: 0.8028153308750184\n"
     ]
    },
    {
     "data": {
      "application/vnd.jupyter.widget-view+json": {
       "model_id": "0b53caa9c4844d6792ae7bbb49e1ecec",
       "version_major": 2,
       "version_minor": 0
      },
      "text/plain": [
       "Validation:   0%|          | 0/163 [00:00<?, ?it/s]"
      ]
     },
     "metadata": {},
     "output_type": "display_data"
    },
    {
     "name": "stdout",
     "output_type": "stream",
     "text": [
      "Epoch 3/10, Validation Loss: 0.7057782043160105, Validation Accuracy: 0.7619047619047619\n"
     ]
    },
    {
     "data": {
      "application/vnd.jupyter.widget-view+json": {
       "model_id": "787b5b34b93c44188916a23fc9f7bd75",
       "version_major": 2,
       "version_minor": 0
      },
      "text/plain": [
       "Epoch 4/10:   0%|          | 0/6187 [00:00<?, ?it/s]"
      ]
     },
     "metadata": {},
     "output_type": "display_data"
    },
    {
     "name": "stdout",
     "output_type": "stream",
     "text": [
      "Epoch 4/10, Train Loss: 0.7100195094159694\n"
     ]
    },
    {
     "data": {
      "application/vnd.jupyter.widget-view+json": {
       "model_id": "e6ee64e5d0ac43bd84ba17c79a61b41d",
       "version_major": 2,
       "version_minor": 0
      },
      "text/plain": [
       "Validation:   0%|          | 0/163 [00:00<?, ?it/s]"
      ]
     },
     "metadata": {},
     "output_type": "display_data"
    },
    {
     "name": "stdout",
     "output_type": "stream",
     "text": [
      "Epoch 4/10, Validation Loss: 0.6851593707145357, Validation Accuracy: 0.7603686635944701\n"
     ]
    },
    {
     "data": {
      "application/vnd.jupyter.widget-view+json": {
       "model_id": "32ca3111ec5e4041b7922bda845330a6",
       "version_major": 2,
       "version_minor": 0
      },
      "text/plain": [
       "Epoch 5/10:   0%|          | 0/6187 [00:00<?, ?it/s]"
      ]
     },
     "metadata": {},
     "output_type": "display_data"
    }
   ],
   "source": [
    "import random\n",
    "import numpy as np\n",
    "\n",
    "use_convs_ = [\n",
    "    # False, \n",
    "    True]\n",
    "num_layers_ = [2, 4, 6, 10]\n",
    "hidden_sizes_ = [32, 64, 128]\n",
    "\n",
    "for use_conv in tqdm(use_convs_, desc='use_conv loop'):\n",
    "    for num_layers in tqdm(num_layers_, desc= 'num_layers loop'):\n",
    "        for hidden_size in tqdm(hidden_sizes_, desc= 'hidden_sizes loop'):\n",
    "            \n",
    "\n",
    "\n",
    "            for i in tqdm(np.arange (0, 5, 1), desc='Training loop (5 times)'):\n",
    "                \n",
    "            \n",
    "                random.seed(int(i))\n",
    "                torch.manual_seed(i)\n",
    "                torch.cuda.manual_seed(i)\n",
    "                torch.cuda.manual_seed_all(i)\n",
    "\n",
    "                \n",
    "            \n",
    "                model = create_lstm_classifier(input_size=13, hidden_size=hidden_size, num_layers=num_layers, num_classes=num_classes, use_conv=use_conv)\n",
    "\n",
    "                only_name = model_name.split(\"/\")[-1]   \n",
    "\n",
    "\n",
    "                optimizer = torch.optim.Adam(model.parameters(), lr=0.001)\n",
    "                criterion = torch.nn.CrossEntropyLoss()\n",
    "\n",
    "                device = torch.device('cuda')\n",
    "                # Assuming your model is named ast_model\n",
    "                \n",
    "\n",
    "                model.to(device)\n",
    "\n",
    "                train_dataset = CustomAudioDataset(data_dir, fixed_length=16000, transform=feature_extractor)\n",
    "                                                \n",
    "\n",
    "\n",
    "                n_train = len(train_dataset)\n",
    "                n_val = int(perc * n_train)\n",
    "                n_test = n_val//2\n",
    "                n_train = n_train - n_val\n",
    "\n",
    "                train_dataset, val_dataset = torch.utils.data.random_split(train_dataset, [n_train, n_val], generator=torch.Generator().manual_seed(42))\n",
    "                val_dataset, test_dataset = torch.utils.data.random_split(val_dataset, [n_val-n_test, n_test], generator=torch.Generator().manual_seed(42))\n",
    "\n",
    "                train_loader = DataLoader(train_dataset, batch_size=batch_size, shuffle=True)\n",
    "                val_loader = DataLoader(val_dataset, batch_size=batch_size, shuffle=False)\n",
    "                test_loader = DataLoader(test_dataset, batch_size=batch_size, shuffle=False)\n",
    "                \n",
    "\n",
    "                labels = set(train_dataset.dataset.labels)\n",
    "                label_to_index = dict((label, i) for i, label in enumerate(sorted(labels)))\n",
    "                name = data_dir.split(\"/\")[-2]\n",
    "                # print(name)\n",
    "                log_dir = train(model, train_loader, val_loader, num_epochs, optimizer, criterion, device, label_to_index, only_name, log=True, description=f\"test_{name}_useConv_{str(use_conv)}_numLstmLayers_{num_layers}_hidden_sizes_{hidden_size}_{i}\", lstm=True)\n",
    "                test(model, test_loader, criterion, device, label_to_index, only_name, log_dir, lstm=True)\n",
    "\n"
   ]
  }
 ],
 "metadata": {
  "kernelspec": {
   "display_name": "py310",
   "language": "python",
   "name": "python3"
  },
  "language_info": {
   "codemirror_mode": {
    "name": "ipython",
    "version": 3
   },
   "file_extension": ".py",
   "mimetype": "text/x-python",
   "name": "python",
   "nbconvert_exporter": "python",
   "pygments_lexer": "ipython3",
   "version": "3.9.19"
  }
 },
 "nbformat": 4,
 "nbformat_minor": 2
}
