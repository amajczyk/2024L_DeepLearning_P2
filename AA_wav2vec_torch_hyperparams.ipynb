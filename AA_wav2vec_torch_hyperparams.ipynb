{
 "cells": [
  {
   "cell_type": "code",
   "execution_count": 1,
   "metadata": {},
   "outputs": [],
   "source": [
    "from src.utils import *"
   ]
  },
  {
   "cell_type": "code",
   "execution_count": 2,
   "metadata": {},
   "outputs": [],
   "source": [
    "# delete 75% of files in the directory\n",
    "import os\n",
    "import random\n",
    "\n",
    "def delete_files(directory, percentage=0.75):\n",
    "    files = os.listdir(directory)\n",
    "    files = random.sample(files, int(len(files) * percentage))\n",
    "    for file in files:\n",
    "        os.remove(os.path.join(directory, file))\n",
    "\n",
    "# delete_files('data/train/audio_yes_no/no', 0.5)\n",
    "# delete_files('data/train/audio_yes_no/yes', 0.5)"
   ]
  },
  {
   "cell_type": "code",
   "execution_count": 3,
   "metadata": {},
   "outputs": [],
   "source": [
    "import torch\n",
    "from transformers import AutoFeatureExtractor, Wav2Vec2ForSequenceClassification\n",
    "\n",
    "model_name = 'superb/wav2vec2-base-superb-ks'\n",
    "feature_extractor = AutoFeatureExtractor.from_pretrained(model_name)"
   ]
  },
  {
   "cell_type": "code",
   "execution_count": 4,
   "metadata": {},
   "outputs": [],
   "source": [
    "import torch\n",
    "import torchaudio\n",
    "from torch.utils.data import Dataset, DataLoader\n",
    "import os\n",
    "\n",
    "class CustomAudioDataset(Dataset):\n",
    "    def __init__(self, data_dir, transform=None, fixed_length=None):\n",
    "        self.data_dir = data_dir\n",
    "        self.file_list, self.labels = self._get_file_list_and_labels()\n",
    "        self.transform = transform\n",
    "        self.fixed_length = fixed_length\n",
    "\n",
    "    def _get_file_list_and_labels(self):\n",
    "        file_list = []\n",
    "        labels = []\n",
    "        for root, dirs, files in os.walk(self.data_dir):\n",
    "            for file in files:\n",
    "                if file.endswith(\".wav\"):  # Adjust file extension if needed\n",
    "                    file_list.append(root + \"/\" + file)\n",
    "                    labels.append(os.path.basename(root))  # Extract label from directory name\n",
    "        return file_list, labels\n",
    "\n",
    "    def __len__(self):\n",
    "        return len(self.file_list)\n",
    "\n",
    "    def __getitem__(self, idx):\n",
    "        file_path = self.file_list[idx]\n",
    "        waveform, sample_rate = torchaudio.load(file_path)\n",
    "        \n",
    "        \n",
    "        \n",
    "        if self.fixed_length:\n",
    "            waveform = self._pad_waveform(waveform, self.fixed_length)\n",
    "\n",
    "        label = self.labels[idx]\n",
    "\n",
    "        \n",
    "\n",
    "        if self.transform:\n",
    "            waveform = self.transform(waveform, sampling_rate=sample_rate)['input_values'][0]\n",
    "\n",
    "        return waveform, sample_rate, label\n",
    "\n",
    "    def _pad_waveform(self, waveform, target_length):\n",
    "        length_diff = target_length - waveform.size(1)\n",
    "        if length_diff > 0:\n",
    "            padding = torch.zeros((1, length_diff))\n",
    "            waveform = torch.cat([waveform, padding], dim=1)\n",
    "        return waveform.squeeze(0)\n",
    "\n",
    "# Example usage\n",
    "data_dir = \"data/train/audio_small/\"\n",
    "# data_dir = \"data/train/audio_yes_no/\"\n",
    "transform = feature_extractor  # You can define transformations if needed\n",
    "fixed_length = 16000  # Assuming you want to fix the length to 16000 samples\n",
    "sampling_rate = fixed_length  # Assuming you want to fix the sampling rate to 16000 Hz\n",
    "\n",
    "\n",
    "\n",
    "batch_size = 4"
   ]
  },
  {
   "cell_type": "code",
   "execution_count": 5,
   "metadata": {},
   "outputs": [],
   "source": [
    "def count_trainable_parameters(model):\n",
    "    return sum(p.numel() for p in model.parameters() if p.requires_grad)\n",
    "\n",
    "\n",
    "def freeze_layers_except_last_n(model, n):\n",
    "    # Get all parameters\n",
    "    parameters = list(model.parameters())\n",
    "    total_layers = len(parameters)\n",
    "\n",
    "    # Freeze all layers except the last n\n",
    "    for i, param in enumerate(parameters):\n",
    "        if i < total_layers - n:\n",
    "            param.requires_grad = False\n",
    "\n",
    "\n"
   ]
  },
  {
   "cell_type": "code",
   "execution_count": 6,
   "metadata": {},
   "outputs": [],
   "source": [
    "num_epochs = 10\n",
    "perc = 0.05"
   ]
  },
  {
   "cell_type": "code",
   "execution_count": 7,
   "metadata": {},
   "outputs": [],
   "source": [
    "optimizers = ['adam', 'sgd']\n",
    "learning_rates = [0.0001, 0.001, 0.01]"
   ]
  },
  {
   "cell_type": "code",
   "execution_count": 8,
   "metadata": {},
   "outputs": [],
   "source": [
    "num_features = 11"
   ]
  },
  {
   "cell_type": "code",
   "execution_count": 9,
   "metadata": {},
   "outputs": [
    {
     "data": {
      "application/vnd.jupyter.widget-view+json": {
       "model_id": "1116fc834f884fb48da02d5df8971962",
       "version_major": 2,
       "version_minor": 0
      },
      "text/plain": [
       "Optimizers:   0%|          | 0/2 [00:00<?, ?it/s]"
      ]
     },
     "metadata": {},
     "output_type": "display_data"
    },
    {
     "data": {
      "application/vnd.jupyter.widget-view+json": {
       "model_id": "9ca835a9cf0d4a05a4481a748a26504b",
       "version_major": 2,
       "version_minor": 0
      },
      "text/plain": [
       "Learninig Rates:   0%|          | 0/3 [00:00<?, ?it/s]"
      ]
     },
     "metadata": {},
     "output_type": "display_data"
    },
    {
     "data": {
      "application/vnd.jupyter.widget-view+json": {
       "model_id": "1a5a2d8b158945ab9d55ebc9dc235f59",
       "version_major": 2,
       "version_minor": 0
      },
      "text/plain": [
       "Learninig Rates:   0%|          | 0/3 [00:00<?, ?it/s]"
      ]
     },
     "metadata": {},
     "output_type": "display_data"
    },
    {
     "data": {
      "application/vnd.jupyter.widget-view+json": {
       "model_id": "8d147c9409284467875f592311d3ac62",
       "version_major": 2,
       "version_minor": 0
      },
      "text/plain": [
       "Training loop (5 times):   0%|          | 0/5 [00:00<?, ?it/s]"
      ]
     },
     "metadata": {},
     "output_type": "display_data"
    },
    {
     "name": "stderr",
     "output_type": "stream",
     "text": [
      "c:\\Users\\adamm\\miniconda3\\envs\\torchenv\\lib\\site-packages\\transformers\\configuration_utils.py:363: UserWarning: Passing `gradient_checkpointing` to a config initialization is deprecated and will be removed in v5 Transformers. Using `model.gradient_checkpointing_enable()` instead, or if you are using the `Trainer` API, pass `gradient_checkpointing=True` in your `TrainingArguments`.\n",
      "  warnings.warn(\n",
      "Some weights of the model checkpoint at superb/wav2vec2-base-superb-ks were not used when initializing Wav2Vec2ForSequenceClassification: ['wav2vec2.encoder.pos_conv_embed.conv.weight_g', 'wav2vec2.encoder.pos_conv_embed.conv.weight_v']\n",
      "- This IS expected if you are initializing Wav2Vec2ForSequenceClassification from the checkpoint of a model trained on another task or with another architecture (e.g. initializing a BertForSequenceClassification model from a BertForPreTraining model).\n",
      "- This IS NOT expected if you are initializing Wav2Vec2ForSequenceClassification from the checkpoint of a model that you expect to be exactly identical (initializing a BertForSequenceClassification model from a BertForSequenceClassification model).\n",
      "Some weights of Wav2Vec2ForSequenceClassification were not initialized from the model checkpoint at superb/wav2vec2-base-superb-ks and are newly initialized: ['wav2vec2.encoder.pos_conv_embed.conv.parametrizations.weight.original0', 'wav2vec2.encoder.pos_conv_embed.conv.parametrizations.weight.original1']\n",
      "You should probably TRAIN this model on a down-stream task to be able to use it for predictions and inference.\n"
     ]
    },
    {
     "data": {
      "application/vnd.jupyter.widget-view+json": {
       "model_id": "c1567a4579fc4bb9a5e13cfc288e9ca8",
       "version_major": 2,
       "version_minor": 0
      },
      "text/plain": [
       "Epoch 1/10:   0%|          | 0/6187 [00:00<?, ?it/s]"
      ]
     },
     "metadata": {},
     "output_type": "display_data"
    },
    {
     "name": "stderr",
     "output_type": "stream",
     "text": [
      "c:\\Users\\adamm\\miniconda3\\envs\\torchenv\\lib\\site-packages\\torch\\nn\\modules\\conv.py:306: UserWarning: Plan failed with a cudnnException: CUDNN_BACKEND_EXECUTION_PLAN_DESCRIPTOR: cudnnFinalize Descriptor Failed cudnn_status: CUDNN_STATUS_NOT_SUPPORTED (Triggered internally at C:\\cb\\pytorch_1000000000000\\work\\aten\\src\\ATen\\native\\cudnn\\Conv_v8.cpp:919.)\n",
      "  return F.conv1d(input, weight, bias, self.stride,\n",
      "c:\\Users\\adamm\\miniconda3\\envs\\torchenv\\lib\\site-packages\\torch\\autograd\\graph.py:744: UserWarning: Plan failed with a cudnnException: CUDNN_BACKEND_EXECUTION_PLAN_DESCRIPTOR: cudnnFinalize Descriptor Failed cudnn_status: CUDNN_STATUS_NOT_SUPPORTED (Triggered internally at C:\\cb\\pytorch_1000000000000\\work\\aten\\src\\ATen\\native\\cudnn\\Conv_v8.cpp:919.)\n",
      "  return Variable._execution_engine.run_backward(  # Calls into the C++ engine to run the backward pass\n"
     ]
    },
    {
     "name": "stdout",
     "output_type": "stream",
     "text": [
      "Epoch 1/10, Train Loss: 2.211298512896101\n"
     ]
    },
    {
     "data": {
      "application/vnd.jupyter.widget-view+json": {
       "model_id": "084bb291a5e54a17a2e9c48fa08d9848",
       "version_major": 2,
       "version_minor": 0
      },
      "text/plain": [
       "Validation:   0%|          | 0/163 [00:00<?, ?it/s]"
      ]
     },
     "metadata": {},
     "output_type": "display_data"
    },
    {
     "name": "stdout",
     "output_type": "stream",
     "text": [
      "Epoch 1/10, Validation Loss: 1.9392791789002213, Validation Accuracy: 0.47772657450076805\n"
     ]
    },
    {
     "data": {
      "application/vnd.jupyter.widget-view+json": {
       "model_id": "997936011b754058821ee376e136b456",
       "version_major": 2,
       "version_minor": 0
      },
      "text/plain": [
       "Epoch 2/10:   0%|          | 0/6187 [00:00<?, ?it/s]"
      ]
     },
     "metadata": {},
     "output_type": "display_data"
    },
    {
     "name": "stdout",
     "output_type": "stream",
     "text": [
      "Epoch 2/10, Train Loss: 1.7214409284123855\n"
     ]
    },
    {
     "data": {
      "application/vnd.jupyter.widget-view+json": {
       "model_id": "fba5c7a524054b84907100c2cdd39223",
       "version_major": 2,
       "version_minor": 0
      },
      "text/plain": [
       "Validation:   0%|          | 0/163 [00:00<?, ?it/s]"
      ]
     },
     "metadata": {},
     "output_type": "display_data"
    },
    {
     "name": "stdout",
     "output_type": "stream",
     "text": [
      "Epoch 2/10, Validation Loss: 1.4626251828451098, Validation Accuracy: 0.6543778801843319\n"
     ]
    },
    {
     "data": {
      "application/vnd.jupyter.widget-view+json": {
       "model_id": "78238e1775474321b1152c3736a62fab",
       "version_major": 2,
       "version_minor": 0
      },
      "text/plain": [
       "Epoch 3/10:   0%|          | 0/6187 [00:00<?, ?it/s]"
      ]
     },
     "metadata": {},
     "output_type": "display_data"
    },
    {
     "name": "stdout",
     "output_type": "stream",
     "text": [
      "Epoch 3/10, Train Loss: 1.198736715190569\n"
     ]
    },
    {
     "data": {
      "application/vnd.jupyter.widget-view+json": {
       "model_id": "96aa706f602a47c1a684c7414c45c1e7",
       "version_major": 2,
       "version_minor": 0
      },
      "text/plain": [
       "Validation:   0%|          | 0/163 [00:00<?, ?it/s]"
      ]
     },
     "metadata": {},
     "output_type": "display_data"
    },
    {
     "name": "stdout",
     "output_type": "stream",
     "text": [
      "Epoch 3/10, Validation Loss: 0.9730384529002605, Validation Accuracy: 0.7788018433179723\n"
     ]
    },
    {
     "data": {
      "application/vnd.jupyter.widget-view+json": {
       "model_id": "f80143599835456897c6e7617383eb7f",
       "version_major": 2,
       "version_minor": 0
      },
      "text/plain": [
       "Epoch 4/10:   0%|          | 0/6187 [00:00<?, ?it/s]"
      ]
     },
     "metadata": {},
     "output_type": "display_data"
    },
    {
     "name": "stdout",
     "output_type": "stream",
     "text": [
      "Epoch 4/10, Train Loss: 0.8029578075412597\n"
     ]
    },
    {
     "data": {
      "application/vnd.jupyter.widget-view+json": {
       "model_id": "7a811b38ae9e4dbd98a8e1c51bd31941",
       "version_major": 2,
       "version_minor": 0
      },
      "text/plain": [
       "Validation:   0%|          | 0/163 [00:00<?, ?it/s]"
      ]
     },
     "metadata": {},
     "output_type": "display_data"
    },
    {
     "name": "stdout",
     "output_type": "stream",
     "text": [
      "Epoch 4/10, Validation Loss: 0.6580958745779435, Validation Accuracy: 0.8571428571428571\n"
     ]
    },
    {
     "data": {
      "application/vnd.jupyter.widget-view+json": {
       "model_id": "71e84032f5cf4263bd30ac63d3316418",
       "version_major": 2,
       "version_minor": 0
      },
      "text/plain": [
       "Epoch 5/10:   0%|          | 0/6187 [00:00<?, ?it/s]"
      ]
     },
     "metadata": {},
     "output_type": "display_data"
    },
    {
     "name": "stdout",
     "output_type": "stream",
     "text": [
      "Epoch 5/10, Train Loss: 0.5630330770921202\n"
     ]
    },
    {
     "data": {
      "application/vnd.jupyter.widget-view+json": {
       "model_id": "e081f107d4d940249359416b6139a63d",
       "version_major": 2,
       "version_minor": 0
      },
      "text/plain": [
       "Validation:   0%|          | 0/163 [00:00<?, ?it/s]"
      ]
     },
     "metadata": {},
     "output_type": "display_data"
    },
    {
     "name": "stdout",
     "output_type": "stream",
     "text": [
      "Epoch 5/10, Validation Loss: 0.46570367411784597, Validation Accuracy: 0.8940092165898618\n"
     ]
    },
    {
     "data": {
      "application/vnd.jupyter.widget-view+json": {
       "model_id": "59885059f53a4ebcbba44073709942d2",
       "version_major": 2,
       "version_minor": 0
      },
      "text/plain": [
       "Epoch 6/10:   0%|          | 0/6187 [00:00<?, ?it/s]"
      ]
     },
     "metadata": {},
     "output_type": "display_data"
    },
    {
     "name": "stdout",
     "output_type": "stream",
     "text": [
      "Epoch 6/10, Train Loss: 0.4193914873862384\n"
     ]
    },
    {
     "data": {
      "application/vnd.jupyter.widget-view+json": {
       "model_id": "636944c00cf14167af87fabad0bfa89c",
       "version_major": 2,
       "version_minor": 0
      },
      "text/plain": [
       "Validation:   0%|          | 0/163 [00:00<?, ?it/s]"
      ]
     },
     "metadata": {},
     "output_type": "display_data"
    },
    {
     "name": "stdout",
     "output_type": "stream",
     "text": [
      "Epoch 6/10, Validation Loss: 0.3780677739553656, Validation Accuracy: 0.9185867895545314\n"
     ]
    },
    {
     "data": {
      "application/vnd.jupyter.widget-view+json": {
       "model_id": "921dfb97b07b4d9ba1ab42fcdacf3b2d",
       "version_major": 2,
       "version_minor": 0
      },
      "text/plain": [
       "Epoch 7/10:   0%|          | 0/6187 [00:00<?, ?it/s]"
      ]
     },
     "metadata": {},
     "output_type": "display_data"
    },
    {
     "name": "stdout",
     "output_type": "stream",
     "text": [
      "Epoch 7/10, Train Loss: 0.33096213041122385\n"
     ]
    },
    {
     "data": {
      "application/vnd.jupyter.widget-view+json": {
       "model_id": "d2d3139d2fc045b19738931c2be4e8a1",
       "version_major": 2,
       "version_minor": 0
      },
      "text/plain": [
       "Validation:   0%|          | 0/163 [00:00<?, ?it/s]"
      ]
     },
     "metadata": {},
     "output_type": "display_data"
    },
    {
     "name": "stdout",
     "output_type": "stream",
     "text": [
      "Epoch 7/10, Validation Loss: 0.311453084272841, Validation Accuracy: 0.9262672811059908\n"
     ]
    },
    {
     "data": {
      "application/vnd.jupyter.widget-view+json": {
       "model_id": "86c38d15f3cb4f23a11e2824cd8caa20",
       "version_major": 2,
       "version_minor": 0
      },
      "text/plain": [
       "Epoch 8/10:   0%|          | 0/6187 [00:00<?, ?it/s]"
      ]
     },
     "metadata": {},
     "output_type": "display_data"
    },
    {
     "name": "stdout",
     "output_type": "stream",
     "text": [
      "Epoch 8/10, Train Loss: 0.2701325422682438\n"
     ]
    },
    {
     "data": {
      "application/vnd.jupyter.widget-view+json": {
       "model_id": "50d5edd35b85475282f98e42ee8f7e8d",
       "version_major": 2,
       "version_minor": 0
      },
      "text/plain": [
       "Validation:   0%|          | 0/163 [00:00<?, ?it/s]"
      ]
     },
     "metadata": {},
     "output_type": "display_data"
    },
    {
     "name": "stdout",
     "output_type": "stream",
     "text": [
      "Epoch 8/10, Validation Loss: 0.28592796679700444, Validation Accuracy: 0.9201228878648233\n"
     ]
    },
    {
     "data": {
      "application/vnd.jupyter.widget-view+json": {
       "model_id": "5ac5c427d15d469e923912f68d7e45bc",
       "version_major": 2,
       "version_minor": 0
      },
      "text/plain": [
       "Epoch 9/10:   0%|          | 0/6187 [00:00<?, ?it/s]"
      ]
     },
     "metadata": {},
     "output_type": "display_data"
    },
    {
     "name": "stdout",
     "output_type": "stream",
     "text": [
      "Epoch 9/10, Train Loss: 0.22253901726988187\n"
     ]
    },
    {
     "data": {
      "application/vnd.jupyter.widget-view+json": {
       "model_id": "c97136c51e9b47b092ad93cc4b8844df",
       "version_major": 2,
       "version_minor": 0
      },
      "text/plain": [
       "Validation:   0%|          | 0/163 [00:00<?, ?it/s]"
      ]
     },
     "metadata": {},
     "output_type": "display_data"
    },
    {
     "name": "stdout",
     "output_type": "stream",
     "text": [
      "Epoch 9/10, Validation Loss: 0.22992691235399684, Validation Accuracy: 0.9431643625192012\n"
     ]
    },
    {
     "data": {
      "application/vnd.jupyter.widget-view+json": {
       "model_id": "b153e4953d1046dba656876c3155391d",
       "version_major": 2,
       "version_minor": 0
      },
      "text/plain": [
       "Epoch 10/10:   0%|          | 0/6187 [00:00<?, ?it/s]"
      ]
     },
     "metadata": {},
     "output_type": "display_data"
    },
    {
     "name": "stdout",
     "output_type": "stream",
     "text": [
      "Epoch 10/10, Train Loss: 0.18506446680698632\n"
     ]
    },
    {
     "data": {
      "application/vnd.jupyter.widget-view+json": {
       "model_id": "0a0970cfb93d48578393f15c86c4f4c3",
       "version_major": 2,
       "version_minor": 0
      },
      "text/plain": [
       "Validation:   0%|          | 0/163 [00:00<?, ?it/s]"
      ]
     },
     "metadata": {},
     "output_type": "display_data"
    },
    {
     "name": "stdout",
     "output_type": "stream",
     "text": [
      "Epoch 10/10, Validation Loss: 0.21278391667053195, Validation Accuracy: 0.946236559139785\n"
     ]
    },
    {
     "data": {
      "application/vnd.jupyter.widget-view+json": {
       "model_id": "3ca879b80ad8473ea5be8e1342fc9575",
       "version_major": 2,
       "version_minor": 0
      },
      "text/plain": [
       "Testing:   0%|          | 0/163 [00:00<?, ?it/s]"
      ]
     },
     "metadata": {},
     "output_type": "display_data"
    },
    {
     "name": "stdout",
     "output_type": "stream",
     "text": [
      "{'val_acc': [0.47772657450076805, 0.6543778801843319, 0.7788018433179723, 0.8571428571428571, 0.8940092165898618, 0.9185867895545314, 0.9262672811059908, 0.9201228878648233, 0.9431643625192012, 0.946236559139785], 'val_loss': [1.9392791789002213, 1.4626251828451098, 0.9730384529002605, 0.6580958745779435, 0.46570367411784597, 0.3780677739553656, 0.311453084272841, 0.28592796679700444, 0.22992691235399684, 0.21278391667053195], 'train_loss': [2.211298512896101, 1.7214409284123855, 1.198736715190569, 0.8029578075412597, 0.5630330770921202, 0.4193914873862384, 0.33096213041122385, 0.2701325422682438, 0.22253901726988187, 0.18506446680698632], 'test_correct_in_batch': [4.0, 4.0, 3.0, 3.0, 4.0, 4.0, 4.0, 4.0, 4.0, 4.0, 4.0, 4.0, 3.0, 4.0, 4.0, 3.0, 3.0, 4.0, 3.0, 4.0, 3.0, 4.0, 3.0, 4.0, 4.0, 4.0, 4.0, 3.0, 3.0, 4.0, 2.0, 4.0, 4.0, 4.0, 4.0, 4.0, 4.0, 4.0, 4.0, 4.0, 4.0, 4.0, 4.0, 4.0, 4.0, 4.0, 4.0, 4.0, 3.0, 2.0, 3.0, 2.0, 4.0, 4.0, 4.0, 4.0, 4.0, 4.0, 4.0, 3.0, 4.0, 4.0, 3.0, 4.0, 4.0, 4.0, 4.0, 3.0, 3.0, 3.0, 3.0, 4.0, 4.0, 4.0, 4.0, 3.0, 4.0, 4.0, 3.0, 4.0, 3.0, 4.0, 4.0, 4.0, 4.0, 3.0, 4.0, 4.0, 4.0, 2.0, 4.0, 4.0, 1.0, 4.0, 4.0, 4.0, 4.0, 3.0, 4.0, 4.0, 3.0, 4.0, 4.0, 3.0, 4.0, 4.0, 4.0, 4.0, 4.0, 4.0, 4.0, 4.0, 4.0, 4.0, 4.0, 4.0, 3.0, 4.0, 4.0, 3.0, 4.0, 3.0, 4.0, 4.0, 3.0, 3.0, 4.0, 4.0, 3.0, 4.0, 4.0, 4.0, 4.0, 3.0, 4.0, 4.0, 4.0, 4.0, 4.0, 2.0, 4.0, 4.0, 4.0, 4.0, 4.0, 4.0, 3.0, 4.0, 3.0, 4.0, 4.0, 3.0, 4.0, 4.0, 3.0, 4.0, 4.0, 4.0, 4.0, 4.0, 4.0, 4.0, 3.0], 'test_losses': [0.030317548662424088, 0.18514341115951538, 0.534205436706543, 0.8503921031951904, 0.05112478882074356, 0.029436685144901276, 0.4563736319541931, 0.30311277508735657, 0.308523029088974, 0.056784987449645996, 0.06078194081783295, 0.0710579976439476, 0.5675548315048218, 0.16849114000797272, 0.03329611197113991, 1.1306880712509155, 0.5667438507080078, 0.08685769885778427, 0.7821319699287415, 0.09221519529819489, 0.5368701219558716, 0.06119418516755104, 0.50248783826828, 0.03398194909095764, 0.09996247291564941, 0.03524191677570343, 0.08474032580852509, 0.6750080585479736, 0.3716698884963989, 0.07991063594818115, 1.2387241125106812, 0.11123345047235489, 0.06429418176412582, 0.015332981944084167, 0.25766828656196594, 0.041211314499378204, 0.03044123388826847, 0.05882011726498604, 0.0649772509932518, 0.1373843103647232, 0.19005708396434784, 0.03191414475440979, 0.5129104852676392, 0.06660227477550507, 0.07547193765640259, 0.0623059943318367, 0.11247029155492783, 0.17107519507408142, 0.39766550064086914, 0.8123036623001099, 0.4606063663959503, 1.9712772369384766, 0.08294454216957092, 0.21413402259349823, 0.09864047914743423, 0.0402243547141552, 0.02630852349102497, 0.03359997272491455, 0.06373004615306854, 0.413225919008255, 0.07931800186634064, 0.057591237127780914, 0.3012476861476898, 0.03527781739830971, 0.13380107283592224, 0.09878762811422348, 0.04274696484208107, 0.9331548810005188, 1.0638513565063477, 0.6823095679283142, 1.0475140810012817, 0.045710258185863495, 0.06382670998573303, 0.23602133989334106, 0.09408792108297348, 0.4282994270324707, 0.17304901778697968, 0.03107394091784954, 0.27908170223236084, 0.10294309258460999, 0.5753409266471863, 0.2970764935016632, 0.04242250323295593, 0.03949935734272003, 0.20548167824745178, 0.6691219210624695, 0.09637540578842163, 0.2408459633588791, 0.1266198754310608, 1.108896255493164, 0.1862313449382782, 0.19729231297969818, 2.148676872253418, 0.03667464107275009, 0.04552936553955078, 0.09443970024585724, 0.05693609267473221, 1.558606505393982, 0.1649600863456726, 0.028650131076574326, 0.7891619801521301, 0.02126830816268921, 0.10821496695280075, 0.5997170805931091, 0.06097644940018654, 0.11881963908672333, 0.044868774712085724, 0.10870533436536789, 0.1290343999862671, 0.0447322316467762, 0.1526477038860321, 0.11584602296352386, 0.03916948661208153, 0.06832411885261536, 0.08701304346323013, 0.13083472847938538, 0.7192507386207581, 0.0316014289855957, 0.16835911571979523, 0.7296103239059448, 0.035632818937301636, 0.7926938533782959, 0.17544184625148773, 0.1542365849018097, 0.8458870649337769, 0.5298521518707275, 0.21322354674339294, 0.05748346820473671, 0.4394170939922333, 0.1033632755279541, 0.034915193915367126, 0.05260996147990227, 0.034598760306835175, 0.4272276759147644, 0.215126633644104, 0.1457628309726715, 0.025753339752554893, 0.07319463789463043, 0.16569678485393524, 0.8677141666412354, 0.03970325365662575, 0.2584116458892822, 0.2637764811515808, 0.10980131477117538, 0.05598348006606102, 0.6450167298316956, 0.666530966758728, 0.23231032490730286, 0.8280503153800964, 0.041263043880462646, 0.1718638390302658, 0.24143318831920624, 0.04582574591040611, 0.05709857493638992, 0.5167683362960815, 0.04560629278421402, 0.04675097018480301, 0.2528991103172302, 0.14425304532051086, 0.06714550405740738, 0.03490739315748215, 0.043519116938114166, 0.08080635219812393], 'test_loss': 0.27669288099177775, 'test_batch_lens': [4, 4, 4, 4, 4, 4, 4, 4, 4, 4, 4, 4, 4, 4, 4, 4, 4, 4, 4, 4, 4, 4, 4, 4, 4, 4, 4, 4, 4, 4, 4, 4, 4, 4, 4, 4, 4, 4, 4, 4, 4, 4, 4, 4, 4, 4, 4, 4, 4, 4, 4, 4, 4, 4, 4, 4, 4, 4, 4, 4, 4, 4, 4, 4, 4, 4, 4, 4, 4, 4, 4, 4, 4, 4, 4, 4, 4, 4, 4, 4, 4, 4, 4, 4, 4, 4, 4, 4, 4, 4, 4, 4, 4, 4, 4, 4, 4, 4, 4, 4, 4, 4, 4, 4, 4, 4, 4, 4, 4, 4, 4, 4, 4, 4, 4, 4, 4, 4, 4, 4, 4, 4, 4, 4, 4, 4, 4, 4, 4, 4, 4, 4, 4, 4, 4, 4, 4, 4, 4, 4, 4, 4, 4, 4, 4, 4, 4, 4, 4, 4, 4, 4, 4, 4, 4, 4, 4, 4, 4, 4, 4, 4, 3], 'test_accuracy': 0.9247311827956989, 'predictions': [7, 4, 1, 10, 7, 1, 8, 8, 0, 3, 4, 7, 1, 9, 8, 0, 9, 6, 4, 9, 8, 10, 1, 4, 6, 8, 8, 6, 6, 8, 2, 1, 1, 9, 6, 3, 10, 5, 5, 0, 10, 3, 2, 10, 7, 8, 4, 3, 3, 8, 8, 4, 3, 4, 6, 1, 1, 9, 1, 10, 10, 6, 2, 6, 5, 9, 8, 5, 8, 1, 3, 1, 8, 3, 1, 8, 6, 8, 9, 2, 3, 1, 1, 1, 5, 5, 1, 8, 0, 5, 9, 10, 10, 7, 1, 5, 1, 8, 2, 7, 5, 1, 10, 6, 10, 8, 3, 9, 10, 4, 7, 9, 0, 3, 7, 8, 0, 8, 0, 0, 4, 8, 9, 8, 5, 1, 7, 9, 6, 7, 4, 0, 10, 10, 7, 9, 4, 1, 9, 0, 10, 3, 3, 9, 4, 7, 4, 7, 2, 10, 2, 4, 10, 10, 1, 0, 10, 5, 4, 7, 8, 9, 10, 4, 2, 3, 10, 5, 8, 0, 9, 0, 10, 7, 6, 8, 0, 8, 1, 2, 6, 3, 5, 3, 9, 3, 4, 8, 3, 2, 0, 2, 0, 9, 9, 5, 3, 8, 5, 9, 4, 1, 6, 1, 4, 5, 9, 8, 3, 9, 5, 6, 2, 5, 4, 5, 2, 10, 8, 4, 7, 3, 0, 6, 7, 0, 5, 7, 1, 0, 1, 6, 3, 7, 7, 2, 10, 9, 3, 10, 9, 4, 3, 3, 1, 7, 8, 5, 2, 4, 10, 3, 1, 2, 3, 10, 6, 9, 5, 3, 3, 10, 7, 1, 5, 1, 8, 1, 3, 7, 3, 10, 3, 5, 1, 2, 7, 4, 9, 7, 5, 8, 8, 10, 2, 4, 2, 5, 5, 3, 8, 0, 8, 6, 0, 1, 2, 7, 3, 2, 4, 10, 5, 6, 6, 0, 2, 7, 10, 1, 7, 6, 9, 2, 4, 2, 0, 9, 4, 3, 9, 6, 7, 9, 1, 8, 8, 5, 2, 9, 4, 1, 1, 8, 4, 7, 1, 2, 7, 2, 5, 0, 4, 10, 5, 0, 5, 7, 3, 6, 4, 6, 4, 9, 5, 1, 1, 3, 8, 7, 4, 4, 6, 10, 8, 9, 8, 5, 2, 9, 5, 0, 5, 0, 9, 10, 5, 0, 3, 7, 3, 1, 8, 2, 2, 4, 4, 9, 3, 7, 5, 9, 9, 4, 0, 0, 5, 6, 9, 9, 7, 7, 8, 9, 1, 10, 10, 5, 5, 7, 3, 3, 5, 10, 9, 8, 2, 3, 1, 1, 0, 5, 4, 1, 2, 0, 1, 8, 8, 4, 8, 3, 8, 0, 3, 2, 2, 3, 7, 10, 10, 4, 10, 6, 6, 5, 0, 9, 8, 2, 1, 9, 9, 5, 9, 9, 1, 3, 5, 7, 9, 10, 1, 8, 0, 6, 3, 8, 2, 4, 10, 1, 1, 2, 8, 2, 4, 8, 2, 8, 9, 9, 0, 7, 6, 9, 4, 0, 2, 8, 6, 9, 3, 7, 2, 4, 10, 0, 1, 3, 1, 6, 3, 4, 6, 3, 3, 5, 0, 1, 7, 10, 1, 10, 2, 5, 5, 7, 5, 1, 4, 5, 0, 4, 5, 4, 9, 5, 9, 7, 7, 2, 0, 2, 5, 3, 2, 9, 1, 8, 9, 1, 8, 8, 2, 0, 9, 7, 6, 9, 6, 9, 0, 10, 8, 8, 5, 3, 7, 3, 2, 7, 9, 6, 7, 8, 9, 0, 8, 2, 10, 5, 2, 10, 8, 7, 9, 6, 8, 6, 6, 4, 7, 9, 7, 0, 4, 9, 3, 3, 7, 4, 1, 9, 5, 4, 0, 7, 8, 0, 7, 4, 5, 5, 4, 6, 6, 6, 1, 5, 3, 0, 1, 4, 7, 1, 9, 4, 6, 8, 10, 7, 1, 0, 3, 9, 1, 4, 3, 10, 7, 8, 9, 9, 4, 0, 2, 3, 7, 8, 6, 8, 1, 7, 4, 0, 2, 0, 8, 6, 7], 'real_labels': [7, 4, 1, 10, 7, 1, 8, 8, 0, 8, 4, 7, 1, 9, 3, 0, 9, 6, 4, 9, 8, 10, 1, 4, 6, 8, 8, 6, 6, 8, 2, 1, 1, 9, 6, 3, 10, 5, 5, 0, 10, 3, 2, 10, 7, 8, 4, 3, 3, 8, 9, 4, 3, 4, 6, 1, 1, 9, 1, 10, 10, 6, 1, 6, 5, 5, 8, 5, 8, 1, 3, 1, 1, 3, 1, 8, 6, 8, 9, 2, 3, 1, 3, 1, 5, 5, 1, 8, 0, 4, 9, 10, 10, 7, 1, 5, 1, 8, 2, 7, 5, 1, 10, 6, 10, 8, 3, 9, 10, 4, 7, 1, 0, 3, 7, 6, 0, 8, 0, 0, 4, 8, 7, 6, 5, 1, 7, 9, 6, 7, 4, 0, 10, 10, 7, 9, 4, 1, 9, 0, 10, 3, 3, 9, 4, 7, 4, 7, 2, 10, 2, 4, 10, 10, 1, 0, 10, 5, 4, 7, 8, 9, 10, 4, 2, 3, 10, 5, 8, 0, 9, 0, 10, 7, 6, 8, 0, 8, 1, 2, 6, 3, 5, 3, 9, 3, 4, 8, 3, 2, 0, 2, 0, 9, 9, 8, 1, 3, 5, 9, 8, 1, 6, 1, 4, 3, 4, 8, 3, 9, 5, 6, 2, 5, 4, 5, 2, 10, 8, 4, 7, 3, 0, 6, 7, 0, 5, 7, 1, 0, 1, 6, 3, 7, 7, 2, 10, 4, 3, 10, 9, 4, 3, 3, 1, 7, 8, 5, 2, 4, 10, 1, 1, 2, 3, 10, 6, 9, 5, 3, 3, 10, 7, 1, 5, 1, 8, 1, 8, 7, 3, 10, 3, 5, 2, 2, 7, 3, 9, 7, 6, 8, 8, 10, 2, 4, 2, 5, 5, 3, 8, 0, 8, 6, 0, 1, 2, 7, 3, 2, 4, 10, 8, 6, 6, 0, 2, 7, 10, 1, 7, 6, 9, 2, 5, 2, 0, 9, 4, 3, 2, 6, 7, 9, 1, 8, 8, 5, 2, 9, 4, 1, 1, 8, 4, 7, 1, 2, 7, 2, 5, 0, 7, 10, 5, 0, 5, 7, 3, 6, 4, 6, 4, 9, 5, 1, 8, 3, 7, 7, 4, 4, 6, 10, 8, 9, 8, 5, 6, 7, 4, 0, 5, 0, 9, 10, 5, 0, 3, 7, 3, 1, 8, 2, 2, 4, 4, 9, 3, 7, 9, 9, 9, 4, 0, 0, 5, 6, 9, 9, 7, 7, 6, 9, 1, 10, 10, 5, 5, 7, 3, 3, 5, 10, 9, 7, 2, 3, 1, 1, 0, 5, 4, 1, 2, 0, 1, 8, 8, 4, 8, 3, 8, 0, 3, 2, 2, 3, 7, 10, 10, 4, 10, 6, 6, 5, 0, 9, 8, 2, 1, 9, 9, 5, 9, 9, 1, 3, 5, 7, 9, 10, 1, 8, 1, 6, 3, 8, 2, 4, 10, 1, 1, 2, 8, 2, 4, 8, 2, 5, 9, 9, 0, 7, 6, 9, 2, 0, 2, 8, 6, 9, 3, 7, 2, 4, 3, 0, 1, 3, 9, 6, 3, 4, 6, 3, 3, 5, 0, 1, 7, 10, 4, 10, 2, 5, 5, 7, 5, 1, 4, 5, 0, 4, 5, 4, 9, 5, 9, 7, 7, 2, 0, 2, 4, 3, 2, 9, 1, 8, 9, 1, 8, 8, 2, 0, 9, 7, 6, 9, 6, 9, 0, 10, 8, 8, 4, 1, 7, 3, 2, 7, 9, 6, 7, 8, 9, 0, 8, 2, 10, 5, 2, 10, 8, 7, 9, 6, 8, 6, 6, 4, 7, 9, 7, 8, 4, 9, 3, 3, 7, 4, 1, 7, 5, 4, 0, 7, 8, 0, 7, 4, 5, 5, 4, 8, 6, 6, 1, 5, 3, 0, 1, 4, 7, 1, 9, 4, 6, 6, 10, 7, 1, 0, 3, 9, 1, 4, 3, 10, 7, 8, 9, 9, 4, 0, 2, 3, 7, 8, 6, 8, 1, 7, 4, 0, 2, 0, 8, 6, 7], 'label_to_index': {'down': 0, 'go': 1, 'left': 2, 'no': 3, 'off': 4, 'on': 5, 'right': 6, 'stop': 7, 'unknown': 8, 'up': 9, 'yes': 10}}\n",
      "Test Loss: 0.27669288099177775, Test Accuracy: 0.9247311827956989\n"
     ]
    },
    {
     "name": "stderr",
     "output_type": "stream",
     "text": [
      "Some weights of the model checkpoint at superb/wav2vec2-base-superb-ks were not used when initializing Wav2Vec2ForSequenceClassification: ['wav2vec2.encoder.pos_conv_embed.conv.weight_g', 'wav2vec2.encoder.pos_conv_embed.conv.weight_v']\n",
      "- This IS expected if you are initializing Wav2Vec2ForSequenceClassification from the checkpoint of a model trained on another task or with another architecture (e.g. initializing a BertForSequenceClassification model from a BertForPreTraining model).\n",
      "- This IS NOT expected if you are initializing Wav2Vec2ForSequenceClassification from the checkpoint of a model that you expect to be exactly identical (initializing a BertForSequenceClassification model from a BertForSequenceClassification model).\n",
      "Some weights of Wav2Vec2ForSequenceClassification were not initialized from the model checkpoint at superb/wav2vec2-base-superb-ks and are newly initialized: ['wav2vec2.encoder.pos_conv_embed.conv.parametrizations.weight.original0', 'wav2vec2.encoder.pos_conv_embed.conv.parametrizations.weight.original1']\n",
      "You should probably TRAIN this model on a down-stream task to be able to use it for predictions and inference.\n"
     ]
    },
    {
     "data": {
      "application/vnd.jupyter.widget-view+json": {
       "model_id": "c4c26298d4b24b0981b2324886cdd3fa",
       "version_major": 2,
       "version_minor": 0
      },
      "text/plain": [
       "Epoch 1/10:   0%|          | 0/6187 [00:00<?, ?it/s]"
      ]
     },
     "metadata": {},
     "output_type": "display_data"
    },
    {
     "name": "stdout",
     "output_type": "stream",
     "text": [
      "Epoch 1/10, Train Loss: 2.1170505805105737\n"
     ]
    },
    {
     "data": {
      "application/vnd.jupyter.widget-view+json": {
       "model_id": "a11a4ce814584c3496391a11aa28f2a7",
       "version_major": 2,
       "version_minor": 0
      },
      "text/plain": [
       "Validation:   0%|          | 0/163 [00:00<?, ?it/s]"
      ]
     },
     "metadata": {},
     "output_type": "display_data"
    },
    {
     "name": "stdout",
     "output_type": "stream",
     "text": [
      "Epoch 1/10, Validation Loss: 1.7351084296688712, Validation Accuracy: 0.6159754224270353\n"
     ]
    },
    {
     "data": {
      "application/vnd.jupyter.widget-view+json": {
       "model_id": "7578ff3b2d1547adb0cbb7e8bcc24b80",
       "version_major": 2,
       "version_minor": 0
      },
      "text/plain": [
       "Epoch 2/10:   0%|          | 0/6187 [00:00<?, ?it/s]"
      ]
     },
     "metadata": {},
     "output_type": "display_data"
    },
    {
     "name": "stdout",
     "output_type": "stream",
     "text": [
      "Epoch 2/10, Train Loss: 1.3523727094624218\n"
     ]
    },
    {
     "data": {
      "application/vnd.jupyter.widget-view+json": {
       "model_id": "558f7495ae5b40378acddf43c89699a1",
       "version_major": 2,
       "version_minor": 0
      },
      "text/plain": [
       "Validation:   0%|          | 0/163 [00:00<?, ?it/s]"
      ]
     },
     "metadata": {},
     "output_type": "display_data"
    },
    {
     "name": "stdout",
     "output_type": "stream",
     "text": [
      "Epoch 2/10, Validation Loss: 1.009714858115085, Validation Accuracy: 0.794162826420891\n"
     ]
    },
    {
     "data": {
      "application/vnd.jupyter.widget-view+json": {
       "model_id": "86cd3cec650a4e4ab42410ded6842904",
       "version_major": 2,
       "version_minor": 0
      },
      "text/plain": [
       "Epoch 3/10:   0%|          | 0/6187 [00:00<?, ?it/s]"
      ]
     },
     "metadata": {},
     "output_type": "display_data"
    },
    {
     "name": "stdout",
     "output_type": "stream",
     "text": [
      "Epoch 3/10, Train Loss: 0.8017048277713494\n"
     ]
    },
    {
     "data": {
      "application/vnd.jupyter.widget-view+json": {
       "model_id": "2b5635d7bfb24573a0c210a3113f2297",
       "version_major": 2,
       "version_minor": 0
      },
      "text/plain": [
       "Validation:   0%|          | 0/163 [00:00<?, ?it/s]"
      ]
     },
     "metadata": {},
     "output_type": "display_data"
    },
    {
     "name": "stdout",
     "output_type": "stream",
     "text": [
      "Epoch 3/10, Validation Loss: 0.632501691214146, Validation Accuracy: 0.8740399385560675\n"
     ]
    },
    {
     "data": {
      "application/vnd.jupyter.widget-view+json": {
       "model_id": "1c3faa87ddc54dbf92bafded58d8065a",
       "version_major": 2,
       "version_minor": 0
      },
      "text/plain": [
       "Epoch 4/10:   0%|          | 0/6187 [00:00<?, ?it/s]"
      ]
     },
     "metadata": {},
     "output_type": "display_data"
    },
    {
     "name": "stdout",
     "output_type": "stream",
     "text": [
      "Epoch 4/10, Train Loss: 0.5297515038018545\n"
     ]
    },
    {
     "data": {
      "application/vnd.jupyter.widget-view+json": {
       "model_id": "b08779d5eb58442bbeb420980e4f827c",
       "version_major": 2,
       "version_minor": 0
      },
      "text/plain": [
       "Validation:   0%|          | 0/163 [00:00<?, ?it/s]"
      ]
     },
     "metadata": {},
     "output_type": "display_data"
    },
    {
     "name": "stdout",
     "output_type": "stream",
     "text": [
      "Epoch 4/10, Validation Loss: 0.4467142551588866, Validation Accuracy: 0.9078341013824884\n"
     ]
    },
    {
     "data": {
      "application/vnd.jupyter.widget-view+json": {
       "model_id": "0a9ea475b2364ce5a4d39b8bcd2a50a2",
       "version_major": 2,
       "version_minor": 0
      },
      "text/plain": [
       "Epoch 5/10:   0%|          | 0/6187 [00:00<?, ?it/s]"
      ]
     },
     "metadata": {},
     "output_type": "display_data"
    },
    {
     "name": "stdout",
     "output_type": "stream",
     "text": [
      "Epoch 5/10, Train Loss: 0.38578600048806916\n"
     ]
    },
    {
     "data": {
      "application/vnd.jupyter.widget-view+json": {
       "model_id": "a68cf844fc6040958908d5feb974b63c",
       "version_major": 2,
       "version_minor": 0
      },
      "text/plain": [
       "Validation:   0%|          | 0/163 [00:00<?, ?it/s]"
      ]
     },
     "metadata": {},
     "output_type": "display_data"
    },
    {
     "name": "stdout",
     "output_type": "stream",
     "text": [
      "Epoch 5/10, Validation Loss: 0.36564300108723846, Validation Accuracy: 0.9155145929339478\n"
     ]
    },
    {
     "data": {
      "application/vnd.jupyter.widget-view+json": {
       "model_id": "b306221edb6d4c5389a97181728cd580",
       "version_major": 2,
       "version_minor": 0
      },
      "text/plain": [
       "Epoch 6/10:   0%|          | 0/6187 [00:00<?, ?it/s]"
      ]
     },
     "metadata": {},
     "output_type": "display_data"
    },
    {
     "name": "stdout",
     "output_type": "stream",
     "text": [
      "Epoch 6/10, Train Loss: 0.29774365073040726\n"
     ]
    },
    {
     "data": {
      "application/vnd.jupyter.widget-view+json": {
       "model_id": "553a770914a4425b8b6841186311d6d9",
       "version_major": 2,
       "version_minor": 0
      },
      "text/plain": [
       "Validation:   0%|          | 0/163 [00:00<?, ?it/s]"
      ]
     },
     "metadata": {},
     "output_type": "display_data"
    },
    {
     "name": "stdout",
     "output_type": "stream",
     "text": [
      "Epoch 6/10, Validation Loss: 0.293892524976489, Validation Accuracy: 0.9339477726574501\n"
     ]
    },
    {
     "data": {
      "application/vnd.jupyter.widget-view+json": {
       "model_id": "d8c6f61bb5fb435dafc20b680626814e",
       "version_major": 2,
       "version_minor": 0
      },
      "text/plain": [
       "Epoch 7/10:   0%|          | 0/6187 [00:00<?, ?it/s]"
      ]
     },
     "metadata": {},
     "output_type": "display_data"
    },
    {
     "name": "stdout",
     "output_type": "stream",
     "text": [
      "Epoch 7/10, Train Loss: 0.23247749794196895\n"
     ]
    },
    {
     "data": {
      "application/vnd.jupyter.widget-view+json": {
       "model_id": "a792fe1850824a42b59743e5bdafd902",
       "version_major": 2,
       "version_minor": 0
      },
      "text/plain": [
       "Validation:   0%|          | 0/163 [00:00<?, ?it/s]"
      ]
     },
     "metadata": {},
     "output_type": "display_data"
    },
    {
     "name": "stdout",
     "output_type": "stream",
     "text": [
      "Epoch 7/10, Validation Loss: 0.2906071048664169, Validation Accuracy: 0.9170506912442397\n"
     ]
    },
    {
     "data": {
      "application/vnd.jupyter.widget-view+json": {
       "model_id": "73277077a29d430cb75897110ace39e2",
       "version_major": 2,
       "version_minor": 0
      },
      "text/plain": [
       "Epoch 8/10:   0%|          | 0/6187 [00:00<?, ?it/s]"
      ]
     },
     "metadata": {},
     "output_type": "display_data"
    },
    {
     "name": "stdout",
     "output_type": "stream",
     "text": [
      "Epoch 8/10, Train Loss: 0.1876839753604627\n"
     ]
    },
    {
     "data": {
      "application/vnd.jupyter.widget-view+json": {
       "model_id": "c864a46c1220444bb68e2e5a16d4ce0b",
       "version_major": 2,
       "version_minor": 0
      },
      "text/plain": [
       "Validation:   0%|          | 0/163 [00:00<?, ?it/s]"
      ]
     },
     "metadata": {},
     "output_type": "display_data"
    },
    {
     "name": "stdout",
     "output_type": "stream",
     "text": [
      "Epoch 8/10, Validation Loss: 0.2480919779466888, Validation Accuracy: 0.9308755760368663\n"
     ]
    },
    {
     "data": {
      "application/vnd.jupyter.widget-view+json": {
       "model_id": "49f9b64ebe4a4b948f2ca17c6508f712",
       "version_major": 2,
       "version_minor": 0
      },
      "text/plain": [
       "Epoch 9/10:   0%|          | 0/6187 [00:00<?, ?it/s]"
      ]
     },
     "metadata": {},
     "output_type": "display_data"
    },
    {
     "name": "stdout",
     "output_type": "stream",
     "text": [
      "Epoch 9/10, Train Loss: 0.1505578903512072\n"
     ]
    },
    {
     "data": {
      "application/vnd.jupyter.widget-view+json": {
       "model_id": "743dddbf4d4a47e08803b91470d780ca",
       "version_major": 2,
       "version_minor": 0
      },
      "text/plain": [
       "Validation:   0%|          | 0/163 [00:00<?, ?it/s]"
      ]
     },
     "metadata": {},
     "output_type": "display_data"
    },
    {
     "name": "stdout",
     "output_type": "stream",
     "text": [
      "Epoch 9/10, Validation Loss: 0.22904745108830782, Validation Accuracy: 0.9324116743471582\n"
     ]
    },
    {
     "data": {
      "application/vnd.jupyter.widget-view+json": {
       "model_id": "c024b4c3c08f40e49e803aad46c2cea5",
       "version_major": 2,
       "version_minor": 0
      },
      "text/plain": [
       "Epoch 10/10:   0%|          | 0/6187 [00:00<?, ?it/s]"
      ]
     },
     "metadata": {},
     "output_type": "display_data"
    },
    {
     "name": "stdout",
     "output_type": "stream",
     "text": [
      "Epoch 10/10, Train Loss: 0.12276839330179473\n"
     ]
    },
    {
     "data": {
      "application/vnd.jupyter.widget-view+json": {
       "model_id": "89df5a0d416a46e8b17f9a0000f64b15",
       "version_major": 2,
       "version_minor": 0
      },
      "text/plain": [
       "Validation:   0%|          | 0/163 [00:00<?, ?it/s]"
      ]
     },
     "metadata": {},
     "output_type": "display_data"
    },
    {
     "name": "stdout",
     "output_type": "stream",
     "text": [
      "Epoch 10/10, Validation Loss: 0.2200440074162889, Validation Accuracy: 0.9354838709677419\n"
     ]
    },
    {
     "data": {
      "application/vnd.jupyter.widget-view+json": {
       "model_id": "eced9d0f92e74996bb9b4ac83d4a2d01",
       "version_major": 2,
       "version_minor": 0
      },
      "text/plain": [
       "Testing:   0%|          | 0/163 [00:00<?, ?it/s]"
      ]
     },
     "metadata": {},
     "output_type": "display_data"
    },
    {
     "name": "stdout",
     "output_type": "stream",
     "text": [
      "{'val_acc': [0.6159754224270353, 0.794162826420891, 0.8740399385560675, 0.9078341013824884, 0.9155145929339478, 0.9339477726574501, 0.9170506912442397, 0.9308755760368663, 0.9324116743471582, 0.9354838709677419], 'val_loss': [1.7351084296688712, 1.009714858115085, 0.632501691214146, 0.4467142551588866, 0.36564300108723846, 0.293892524976489, 0.2906071048664169, 0.2480919779466888, 0.22904745108830782, 0.2200440074162889], 'train_loss': [2.1170505805105737, 1.3523727094624218, 0.8017048277713494, 0.5297515038018545, 0.38578600048806916, 0.29774365073040726, 0.23247749794196895, 0.1876839753604627, 0.1505578903512072, 0.12276839330179473], 'test_correct_in_batch': [4.0, 4.0, 4.0, 4.0, 4.0, 3.0, 2.0, 2.0, 3.0, 4.0, 4.0, 4.0, 3.0, 4.0, 4.0, 3.0, 3.0, 4.0, 3.0, 4.0, 3.0, 4.0, 3.0, 3.0, 4.0, 4.0, 3.0, 3.0, 3.0, 4.0, 3.0, 4.0, 4.0, 4.0, 3.0, 4.0, 4.0, 4.0, 4.0, 4.0, 4.0, 4.0, 4.0, 4.0, 4.0, 4.0, 3.0, 3.0, 4.0, 3.0, 4.0, 2.0, 4.0, 4.0, 4.0, 4.0, 4.0, 4.0, 4.0, 3.0, 4.0, 4.0, 4.0, 4.0, 4.0, 3.0, 4.0, 3.0, 3.0, 3.0, 3.0, 4.0, 4.0, 2.0, 4.0, 4.0, 4.0, 4.0, 3.0, 4.0, 3.0, 4.0, 4.0, 4.0, 4.0, 4.0, 4.0, 4.0, 4.0, 3.0, 3.0, 4.0, 2.0, 4.0, 4.0, 4.0, 4.0, 3.0, 3.0, 4.0, 2.0, 4.0, 4.0, 4.0, 4.0, 4.0, 4.0, 4.0, 4.0, 4.0, 4.0, 3.0, 4.0, 2.0, 4.0, 4.0, 3.0, 4.0, 4.0, 4.0, 3.0, 3.0, 4.0, 4.0, 2.0, 3.0, 4.0, 4.0, 4.0, 4.0, 4.0, 4.0, 3.0, 3.0, 4.0, 4.0, 4.0, 4.0, 4.0, 3.0, 4.0, 4.0, 4.0, 4.0, 4.0, 2.0, 4.0, 4.0, 3.0, 4.0, 4.0, 3.0, 4.0, 4.0, 4.0, 4.0, 4.0, 2.0, 4.0, 4.0, 4.0, 4.0, 3.0], 'test_losses': [0.024990392848849297, 0.10944665223360062, 0.11900711804628372, 0.08647805452346802, 0.01747530698776245, 0.3886702060699463, 1.0811816453933716, 0.8451743721961975, 0.8414854407310486, 0.02708057127892971, 0.016312645748257637, 0.04325725883245468, 0.474016398191452, 0.06648334860801697, 0.050610799342393875, 1.2978191375732422, 1.0882351398468018, 0.08453907817602158, 1.1515823602676392, 0.05955059081315994, 0.5908180475234985, 0.05481542646884918, 0.40843239426612854, 0.5297102928161621, 0.07534570246934891, 0.040696337819099426, 0.23255011439323425, 0.5533084869384766, 0.7563323378562927, 0.04771628975868225, 1.6408087015151978, 0.04321800544857979, 0.025904150679707527, 0.018055837601423264, 0.7511205673217773, 0.027323845773935318, 0.056852489709854126, 0.03795377165079117, 0.02345486730337143, 0.035880401730537415, 0.10898242145776749, 0.022838765755295753, 0.48589861392974854, 0.16630016267299652, 0.048396848142147064, 0.014510450884699821, 0.36968663334846497, 0.4411914050579071, 0.03691192343831062, 0.601395308971405, 0.32052838802337646, 2.173799991607666, 0.027281733229756355, 0.28301337361335754, 0.08181854337453842, 0.018740396946668625, 0.03866128623485565, 0.020061660557985306, 0.11294563114643097, 0.3720434308052063, 0.042102113366127014, 0.05096757411956787, 0.07189510017633438, 0.134694904088974, 0.13849471509456635, 0.502991259098053, 0.03138886019587517, 0.334541380405426, 1.519205093383789, 0.5724572539329529, 1.1665436029434204, 0.01863701641559601, 0.05360063537955284, 0.6342130303382874, 0.04056568071246147, 0.27044805884361267, 0.025623265653848648, 0.01794413849711418, 0.9994479417800903, 0.07684077322483063, 0.5305074453353882, 0.25427699089050293, 0.0686255618929863, 0.08021366596221924, 0.025941304862499237, 0.10680221766233444, 0.09063304960727692, 0.17443953454494476, 0.09748801589012146, 0.9120290279388428, 0.3995865285396576, 0.12021373957395554, 0.6395159363746643, 0.054990004748106, 0.037688933312892914, 0.2757457494735718, 0.09651683270931244, 1.8483409881591797, 0.9627493619918823, 0.02467695251107216, 1.1963850259780884, 0.023520931601524353, 0.061351228505373, 0.07233425229787827, 0.07871318608522415, 0.050657518208026886, 0.023781903088092804, 0.02676079235970974, 0.113521508872509, 0.018439486622810364, 0.09318485110998154, 0.8070598840713501, 0.022702358663082123, 0.788711428642273, 0.12034828215837479, 0.09506174921989441, 0.679829478263855, 0.01876549981534481, 0.08492566645145416, 0.13446447253227234, 0.5567575097084045, 0.6546593308448792, 0.030338410288095474, 0.08089548349380493, 1.0120844841003418, 0.6246500015258789, 0.06049865484237671, 0.0374663881957531, 0.4193529486656189, 0.11664138734340668, 0.03678170591592789, 0.16711409389972687, 0.2457055002450943, 0.47526925802230835, 0.0562567412853241, 0.08951728045940399, 0.016160476952791214, 0.2126058042049408, 0.042248889803886414, 0.4768311679363251, 0.1239001676440239, 0.11709193885326385, 0.09930786490440369, 0.12116359174251556, 0.027582744136452675, 0.9468016624450684, 0.2676321566104889, 0.04476682096719742, 0.3655465841293335, 0.019333355128765106, 0.12268643826246262, 0.3273792564868927, 0.018121711909770966, 0.05186953395605087, 0.23151740431785583, 0.05839948728680611, 0.042598821222782135, 1.4346719980239868, 0.07722048461437225, 0.02432163432240486, 0.018639609217643738, 0.07030709832906723, 0.05859779193997383], 'test_loss': 0.29241778511851113, 'test_batch_lens': [4, 4, 4, 4, 4, 4, 4, 4, 4, 4, 4, 4, 4, 4, 4, 4, 4, 4, 4, 4, 4, 4, 4, 4, 4, 4, 4, 4, 4, 4, 4, 4, 4, 4, 4, 4, 4, 4, 4, 4, 4, 4, 4, 4, 4, 4, 4, 4, 4, 4, 4, 4, 4, 4, 4, 4, 4, 4, 4, 4, 4, 4, 4, 4, 4, 4, 4, 4, 4, 4, 4, 4, 4, 4, 4, 4, 4, 4, 4, 4, 4, 4, 4, 4, 4, 4, 4, 4, 4, 4, 4, 4, 4, 4, 4, 4, 4, 4, 4, 4, 4, 4, 4, 4, 4, 4, 4, 4, 4, 4, 4, 4, 4, 4, 4, 4, 4, 4, 4, 4, 4, 4, 4, 4, 4, 4, 4, 4, 4, 4, 4, 4, 4, 4, 4, 4, 4, 4, 4, 4, 4, 4, 4, 4, 4, 4, 4, 4, 4, 4, 4, 4, 4, 4, 4, 4, 4, 4, 4, 4, 4, 4, 3], 'test_accuracy': 0.9093701996927803, 'predictions': [7, 4, 1, 10, 7, 1, 8, 8, 0, 8, 4, 7, 1, 9, 3, 0, 9, 6, 4, 9, 8, 10, 0, 4, 6, 1, 5, 6, 6, 8, 8, 2, 1, 8, 6, 3, 10, 5, 5, 0, 10, 3, 2, 10, 7, 8, 4, 3, 3, 8, 8, 4, 3, 4, 6, 1, 1, 9, 1, 10, 10, 6, 9, 6, 5, 1, 8, 5, 8, 1, 3, 1, 0, 3, 1, 8, 6, 8, 9, 2, 3, 1, 1, 1, 5, 5, 1, 8, 0, 5, 9, 10, 10, 9, 1, 5, 1, 8, 2, 7, 5, 1, 10, 6, 10, 2, 3, 9, 10, 4, 7, 9, 0, 3, 7, 8, 0, 8, 0, 0, 4, 8, 1, 6, 5, 1, 7, 9, 6, 7, 4, 0, 10, 10, 7, 9, 4, 7, 9, 0, 10, 3, 3, 9, 4, 7, 4, 7, 2, 10, 2, 4, 10, 10, 1, 0, 10, 5, 4, 7, 8, 9, 10, 4, 2, 3, 10, 5, 8, 0, 9, 0, 10, 7, 6, 8, 0, 8, 1, 2, 6, 3, 5, 3, 9, 3, 4, 10, 0, 2, 0, 2, 0, 9, 9, 8, 1, 8, 5, 9, 8, 1, 6, 1, 4, 5, 9, 8, 3, 9, 5, 6, 2, 5, 4, 5, 2, 10, 8, 4, 7, 3, 0, 6, 7, 0, 5, 7, 1, 0, 1, 6, 3, 7, 7, 2, 10, 9, 3, 10, 9, 4, 3, 3, 1, 7, 8, 5, 2, 4, 10, 1, 1, 2, 3, 10, 6, 9, 5, 3, 3, 10, 7, 3, 5, 1, 8, 1, 1, 7, 3, 10, 3, 5, 0, 2, 7, 9, 9, 7, 5, 8, 8, 10, 2, 4, 2, 5, 5, 3, 8, 0, 5, 6, 3, 1, 2, 7, 3, 2, 4, 10, 8, 6, 6, 0, 2, 7, 10, 1, 7, 6, 4, 2, 5, 2, 0, 9, 4, 3, 9, 6, 7, 9, 1, 8, 8, 5, 2, 9, 4, 1, 1, 8, 4, 7, 1, 2, 7, 2, 5, 0, 7, 10, 5, 0, 5, 7, 3, 6, 4, 6, 4, 9, 5, 1, 8, 3, 8, 7, 4, 9, 6, 10, 8, 9, 8, 5, 2, 9, 4, 0, 5, 0, 9, 10, 5, 0, 3, 7, 3, 1, 8, 2, 2, 4, 4, 9, 3, 7, 5, 9, 7, 4, 0, 0, 5, 6, 9, 9, 7, 7, 1, 8, 1, 10, 10, 5, 5, 7, 3, 3, 5, 10, 9, 7, 2, 3, 1, 1, 0, 5, 4, 1, 2, 0, 1, 8, 8, 4, 8, 3, 8, 0, 3, 2, 2, 3, 7, 10, 10, 4, 10, 6, 6, 5, 0, 8, 8, 2, 1, 9, 4, 5, 9, 4, 1, 3, 5, 7, 9, 10, 1, 8, 1, 6, 3, 5, 2, 4, 10, 1, 1, 2, 8, 2, 4, 8, 2, 5, 4, 9, 0, 7, 6, 9, 9, 0, 2, 8, 6, 9, 3, 7, 2, 4, 2, 0, 3, 3, 4, 6, 3, 4, 6, 3, 3, 5, 0, 1, 7, 10, 4, 10, 2, 5, 5, 7, 5, 1, 4, 5, 0, 4, 5, 4, 9, 5, 5, 7, 7, 2, 0, 2, 5, 3, 2, 9, 1, 8, 9, 1, 8, 8, 2, 0, 9, 7, 6, 9, 6, 9, 0, 10, 8, 8, 5, 1, 7, 3, 2, 7, 9, 6, 7, 8, 9, 0, 8, 2, 10, 5, 2, 10, 8, 7, 9, 6, 8, 6, 6, 9, 7, 4, 7, 8, 4, 9, 3, 3, 7, 4, 1, 9, 5, 4, 0, 7, 8, 0, 7, 4, 5, 5, 4, 8, 8, 6, 1, 5, 3, 0, 1, 4, 7, 1, 9, 4, 6, 6, 10, 7, 1, 0, 3, 9, 1, 4, 3, 6, 7, 0, 9, 9, 4, 0, 2, 3, 7, 8, 6, 8, 1, 7, 4, 0, 2, 0, 8, 6, 7], 'real_labels': [7, 4, 1, 10, 7, 1, 8, 8, 0, 8, 4, 7, 1, 9, 3, 0, 9, 6, 4, 9, 8, 10, 1, 4, 6, 8, 8, 6, 6, 8, 2, 1, 1, 9, 6, 3, 10, 5, 5, 0, 10, 3, 2, 10, 7, 8, 4, 3, 3, 8, 9, 4, 3, 4, 6, 1, 1, 9, 1, 10, 10, 6, 1, 6, 5, 5, 8, 5, 8, 1, 3, 1, 1, 3, 1, 8, 6, 8, 9, 2, 3, 1, 3, 1, 5, 5, 1, 8, 0, 4, 9, 10, 10, 7, 1, 5, 1, 8, 2, 7, 5, 1, 10, 6, 10, 8, 3, 9, 10, 4, 7, 1, 0, 3, 7, 6, 0, 8, 0, 0, 4, 8, 7, 6, 5, 1, 7, 9, 6, 7, 4, 0, 10, 10, 7, 9, 4, 1, 9, 0, 10, 3, 3, 9, 4, 7, 4, 7, 2, 10, 2, 4, 10, 10, 1, 0, 10, 5, 4, 7, 8, 9, 10, 4, 2, 3, 10, 5, 8, 0, 9, 0, 10, 7, 6, 8, 0, 8, 1, 2, 6, 3, 5, 3, 9, 3, 4, 8, 3, 2, 0, 2, 0, 9, 9, 8, 1, 3, 5, 9, 8, 1, 6, 1, 4, 3, 4, 8, 3, 9, 5, 6, 2, 5, 4, 5, 2, 10, 8, 4, 7, 3, 0, 6, 7, 0, 5, 7, 1, 0, 1, 6, 3, 7, 7, 2, 10, 4, 3, 10, 9, 4, 3, 3, 1, 7, 8, 5, 2, 4, 10, 1, 1, 2, 3, 10, 6, 9, 5, 3, 3, 10, 7, 1, 5, 1, 8, 1, 8, 7, 3, 10, 3, 5, 2, 2, 7, 3, 9, 7, 6, 8, 8, 10, 2, 4, 2, 5, 5, 3, 8, 0, 8, 6, 0, 1, 2, 7, 3, 2, 4, 10, 8, 6, 6, 0, 2, 7, 10, 1, 7, 6, 9, 2, 5, 2, 0, 9, 4, 3, 2, 6, 7, 9, 1, 8, 8, 5, 2, 9, 4, 1, 1, 8, 4, 7, 1, 2, 7, 2, 5, 0, 7, 10, 5, 0, 5, 7, 3, 6, 4, 6, 4, 9, 5, 1, 8, 3, 7, 7, 4, 4, 6, 10, 8, 9, 8, 5, 6, 7, 4, 0, 5, 0, 9, 10, 5, 0, 3, 7, 3, 1, 8, 2, 2, 4, 4, 9, 3, 7, 9, 9, 9, 4, 0, 0, 5, 6, 9, 9, 7, 7, 6, 9, 1, 10, 10, 5, 5, 7, 3, 3, 5, 10, 9, 7, 2, 3, 1, 1, 0, 5, 4, 1, 2, 0, 1, 8, 8, 4, 8, 3, 8, 0, 3, 2, 2, 3, 7, 10, 10, 4, 10, 6, 6, 5, 0, 9, 8, 2, 1, 9, 9, 5, 9, 9, 1, 3, 5, 7, 9, 10, 1, 8, 1, 6, 3, 8, 2, 4, 10, 1, 1, 2, 8, 2, 4, 8, 2, 5, 9, 9, 0, 7, 6, 9, 2, 0, 2, 8, 6, 9, 3, 7, 2, 4, 3, 0, 1, 3, 9, 6, 3, 4, 6, 3, 3, 5, 0, 1, 7, 10, 4, 10, 2, 5, 5, 7, 5, 1, 4, 5, 0, 4, 5, 4, 9, 5, 9, 7, 7, 2, 0, 2, 4, 3, 2, 9, 1, 8, 9, 1, 8, 8, 2, 0, 9, 7, 6, 9, 6, 9, 0, 10, 8, 8, 4, 1, 7, 3, 2, 7, 9, 6, 7, 8, 9, 0, 8, 2, 10, 5, 2, 10, 8, 7, 9, 6, 8, 6, 6, 4, 7, 9, 7, 8, 4, 9, 3, 3, 7, 4, 1, 7, 5, 4, 0, 7, 8, 0, 7, 4, 5, 5, 4, 8, 6, 6, 1, 5, 3, 0, 1, 4, 7, 1, 9, 4, 6, 6, 10, 7, 1, 0, 3, 9, 1, 4, 3, 10, 7, 8, 9, 9, 4, 0, 2, 3, 7, 8, 6, 8, 1, 7, 4, 0, 2, 0, 8, 6, 7], 'label_to_index': {'down': 0, 'go': 1, 'left': 2, 'no': 3, 'off': 4, 'on': 5, 'right': 6, 'stop': 7, 'unknown': 8, 'up': 9, 'yes': 10}}\n",
      "Test Loss: 0.29241778511851113, Test Accuracy: 0.9093701996927803\n"
     ]
    },
    {
     "name": "stderr",
     "output_type": "stream",
     "text": [
      "Some weights of the model checkpoint at superb/wav2vec2-base-superb-ks were not used when initializing Wav2Vec2ForSequenceClassification: ['wav2vec2.encoder.pos_conv_embed.conv.weight_g', 'wav2vec2.encoder.pos_conv_embed.conv.weight_v']\n",
      "- This IS expected if you are initializing Wav2Vec2ForSequenceClassification from the checkpoint of a model trained on another task or with another architecture (e.g. initializing a BertForSequenceClassification model from a BertForPreTraining model).\n",
      "- This IS NOT expected if you are initializing Wav2Vec2ForSequenceClassification from the checkpoint of a model that you expect to be exactly identical (initializing a BertForSequenceClassification model from a BertForSequenceClassification model).\n",
      "Some weights of Wav2Vec2ForSequenceClassification were not initialized from the model checkpoint at superb/wav2vec2-base-superb-ks and are newly initialized: ['wav2vec2.encoder.pos_conv_embed.conv.parametrizations.weight.original0', 'wav2vec2.encoder.pos_conv_embed.conv.parametrizations.weight.original1']\n",
      "You should probably TRAIN this model on a down-stream task to be able to use it for predictions and inference.\n"
     ]
    },
    {
     "data": {
      "application/vnd.jupyter.widget-view+json": {
       "model_id": "bc4a4ac0b2dd4523872ca389531b3797",
       "version_major": 2,
       "version_minor": 0
      },
      "text/plain": [
       "Epoch 1/10:   0%|          | 0/6187 [00:00<?, ?it/s]"
      ]
     },
     "metadata": {},
     "output_type": "display_data"
    },
    {
     "name": "stdout",
     "output_type": "stream",
     "text": [
      "Epoch 1/10, Train Loss: 2.310639466783891\n"
     ]
    },
    {
     "data": {
      "application/vnd.jupyter.widget-view+json": {
       "model_id": "671c19043c23430fbbae1e20875d5178",
       "version_major": 2,
       "version_minor": 0
      },
      "text/plain": [
       "Validation:   0%|          | 0/163 [00:00<?, ?it/s]"
      ]
     },
     "metadata": {},
     "output_type": "display_data"
    },
    {
     "name": "stdout",
     "output_type": "stream",
     "text": [
      "Epoch 1/10, Validation Loss: 2.1501134919242624, Validation Accuracy: 0.40706605222734255\n"
     ]
    },
    {
     "data": {
      "application/vnd.jupyter.widget-view+json": {
       "model_id": "3de2a08d2eb04b87bf8f5a70ee52c5f5",
       "version_major": 2,
       "version_minor": 0
      },
      "text/plain": [
       "Epoch 2/10:   0%|          | 0/6187 [00:00<?, ?it/s]"
      ]
     },
     "metadata": {},
     "output_type": "display_data"
    },
    {
     "name": "stdout",
     "output_type": "stream",
     "text": [
      "Epoch 2/10, Train Loss: 1.8700463894073656\n"
     ]
    },
    {
     "data": {
      "application/vnd.jupyter.widget-view+json": {
       "model_id": "fe25f0e6c5b74bc590e557e10332b214",
       "version_major": 2,
       "version_minor": 0
      },
      "text/plain": [
       "Validation:   0%|          | 0/163 [00:00<?, ?it/s]"
      ]
     },
     "metadata": {},
     "output_type": "display_data"
    },
    {
     "name": "stdout",
     "output_type": "stream",
     "text": [
      "Epoch 2/10, Validation Loss: 1.6219047190952887, Validation Accuracy: 0.6697388632872504\n"
     ]
    },
    {
     "data": {
      "application/vnd.jupyter.widget-view+json": {
       "model_id": "37465d795b304f139ae5ed174bdcc803",
       "version_major": 2,
       "version_minor": 0
      },
      "text/plain": [
       "Epoch 3/10:   0%|          | 0/6187 [00:00<?, ?it/s]"
      ]
     },
     "metadata": {},
     "output_type": "display_data"
    },
    {
     "name": "stdout",
     "output_type": "stream",
     "text": [
      "Epoch 3/10, Train Loss: 1.3080343175814921\n"
     ]
    },
    {
     "data": {
      "application/vnd.jupyter.widget-view+json": {
       "model_id": "153cf21e5de14276a885573a5f021191",
       "version_major": 2,
       "version_minor": 0
      },
      "text/plain": [
       "Validation:   0%|          | 0/163 [00:00<?, ?it/s]"
      ]
     },
     "metadata": {},
     "output_type": "display_data"
    },
    {
     "name": "stdout",
     "output_type": "stream",
     "text": [
      "Epoch 3/10, Validation Loss: 1.0627004383531815, Validation Accuracy: 0.8079877112135176\n"
     ]
    },
    {
     "data": {
      "application/vnd.jupyter.widget-view+json": {
       "model_id": "fa1951340b7748bfafa39c2789ab98dc",
       "version_major": 2,
       "version_minor": 0
      },
      "text/plain": [
       "Epoch 4/10:   0%|          | 0/6187 [00:00<?, ?it/s]"
      ]
     },
     "metadata": {},
     "output_type": "display_data"
    },
    {
     "name": "stdout",
     "output_type": "stream",
     "text": [
      "Epoch 4/10, Train Loss: 0.8552914197921406\n"
     ]
    },
    {
     "data": {
      "application/vnd.jupyter.widget-view+json": {
       "model_id": "b6ed675ac72d41ee946c5e1c1a90ac53",
       "version_major": 2,
       "version_minor": 0
      },
      "text/plain": [
       "Validation:   0%|          | 0/163 [00:00<?, ?it/s]"
      ]
     },
     "metadata": {},
     "output_type": "display_data"
    },
    {
     "name": "stdout",
     "output_type": "stream",
     "text": [
      "Epoch 4/10, Validation Loss: 0.7474741917446347, Validation Accuracy: 0.8509984639016898\n"
     ]
    },
    {
     "data": {
      "application/vnd.jupyter.widget-view+json": {
       "model_id": "84011b5688ff482e9ca2539abd20cf2f",
       "version_major": 2,
       "version_minor": 0
      },
      "text/plain": [
       "Epoch 5/10:   0%|          | 0/6187 [00:00<?, ?it/s]"
      ]
     },
     "metadata": {},
     "output_type": "display_data"
    },
    {
     "name": "stdout",
     "output_type": "stream",
     "text": [
      "Epoch 5/10, Train Loss: 0.6007532899197072\n"
     ]
    },
    {
     "data": {
      "application/vnd.jupyter.widget-view+json": {
       "model_id": "ceb74a1ec2b9418aaa0998aa4aac576c",
       "version_major": 2,
       "version_minor": 0
      },
      "text/plain": [
       "Validation:   0%|          | 0/163 [00:00<?, ?it/s]"
      ]
     },
     "metadata": {},
     "output_type": "display_data"
    },
    {
     "name": "stdout",
     "output_type": "stream",
     "text": [
      "Epoch 5/10, Validation Loss: 0.5377245459454191, Validation Accuracy: 0.8863287250384024\n"
     ]
    },
    {
     "data": {
      "application/vnd.jupyter.widget-view+json": {
       "model_id": "96b2d24e70d54980b59852d01ef5e3a6",
       "version_major": 2,
       "version_minor": 0
      },
      "text/plain": [
       "Epoch 6/10:   0%|          | 0/6187 [00:00<?, ?it/s]"
      ]
     },
     "metadata": {},
     "output_type": "display_data"
    },
    {
     "name": "stdout",
     "output_type": "stream",
     "text": [
      "Epoch 6/10, Train Loss: 0.45713034787364165\n"
     ]
    },
    {
     "data": {
      "application/vnd.jupyter.widget-view+json": {
       "model_id": "776e0b840b1140c99757891372672b4a",
       "version_major": 2,
       "version_minor": 0
      },
      "text/plain": [
       "Validation:   0%|          | 0/163 [00:00<?, ?it/s]"
      ]
     },
     "metadata": {},
     "output_type": "display_data"
    },
    {
     "name": "stdout",
     "output_type": "stream",
     "text": [
      "Epoch 6/10, Validation Loss: 0.40428199865883846, Validation Accuracy: 0.9155145929339478\n"
     ]
    },
    {
     "data": {
      "application/vnd.jupyter.widget-view+json": {
       "model_id": "3a1b25f9228e42f4ac192a3ae1405987",
       "version_major": 2,
       "version_minor": 0
      },
      "text/plain": [
       "Epoch 7/10:   0%|          | 0/6187 [00:00<?, ?it/s]"
      ]
     },
     "metadata": {},
     "output_type": "display_data"
    },
    {
     "name": "stdout",
     "output_type": "stream",
     "text": [
      "Epoch 7/10, Train Loss: 0.3605124573466397\n"
     ]
    },
    {
     "data": {
      "application/vnd.jupyter.widget-view+json": {
       "model_id": "e65e515c9f364a25ba16e4a6c3f56c6c",
       "version_major": 2,
       "version_minor": 0
      },
      "text/plain": [
       "Validation:   0%|          | 0/163 [00:00<?, ?it/s]"
      ]
     },
     "metadata": {},
     "output_type": "display_data"
    },
    {
     "name": "stdout",
     "output_type": "stream",
     "text": [
      "Epoch 7/10, Validation Loss: 0.3317483607565333, Validation Accuracy: 0.9247311827956989\n"
     ]
    },
    {
     "data": {
      "application/vnd.jupyter.widget-view+json": {
       "model_id": "7d45e1921a134adf8106c08cbd4ee702",
       "version_major": 2,
       "version_minor": 0
      },
      "text/plain": [
       "Epoch 8/10:   0%|          | 0/6187 [00:00<?, ?it/s]"
      ]
     },
     "metadata": {},
     "output_type": "display_data"
    },
    {
     "name": "stdout",
     "output_type": "stream",
     "text": [
      "Epoch 8/10, Train Loss: 0.30066559076338106\n"
     ]
    },
    {
     "data": {
      "application/vnd.jupyter.widget-view+json": {
       "model_id": "67d068847e23491c8286b03105be820a",
       "version_major": 2,
       "version_minor": 0
      },
      "text/plain": [
       "Validation:   0%|          | 0/163 [00:00<?, ?it/s]"
      ]
     },
     "metadata": {},
     "output_type": "display_data"
    },
    {
     "name": "stdout",
     "output_type": "stream",
     "text": [
      "Epoch 8/10, Validation Loss: 0.3083205117266968, Validation Accuracy: 0.9247311827956989\n"
     ]
    },
    {
     "data": {
      "application/vnd.jupyter.widget-view+json": {
       "model_id": "7d92146a2e9d484691c3c916384a05e4",
       "version_major": 2,
       "version_minor": 0
      },
      "text/plain": [
       "Epoch 9/10:   0%|          | 0/6187 [00:00<?, ?it/s]"
      ]
     },
     "metadata": {},
     "output_type": "display_data"
    },
    {
     "name": "stdout",
     "output_type": "stream",
     "text": [
      "Epoch 9/10, Train Loss: 0.25050162151576305\n"
     ]
    },
    {
     "data": {
      "application/vnd.jupyter.widget-view+json": {
       "model_id": "004cfe90e1f64dc9af6562761572d1a4",
       "version_major": 2,
       "version_minor": 0
      },
      "text/plain": [
       "Validation:   0%|          | 0/163 [00:00<?, ?it/s]"
      ]
     },
     "metadata": {},
     "output_type": "display_data"
    },
    {
     "name": "stdout",
     "output_type": "stream",
     "text": [
      "Epoch 9/10, Validation Loss: 0.24400562349638324, Validation Accuracy: 0.9447004608294931\n"
     ]
    },
    {
     "data": {
      "application/vnd.jupyter.widget-view+json": {
       "model_id": "59f67aec40094deb84df9eae80f88385",
       "version_major": 2,
       "version_minor": 0
      },
      "text/plain": [
       "Epoch 10/10:   0%|          | 0/6187 [00:00<?, ?it/s]"
      ]
     },
     "metadata": {},
     "output_type": "display_data"
    },
    {
     "name": "stdout",
     "output_type": "stream",
     "text": [
      "Epoch 10/10, Train Loss: 0.21092083001533696\n"
     ]
    },
    {
     "data": {
      "application/vnd.jupyter.widget-view+json": {
       "model_id": "e5681511869442f59ac1c99b263180b2",
       "version_major": 2,
       "version_minor": 0
      },
      "text/plain": [
       "Validation:   0%|          | 0/163 [00:00<?, ?it/s]"
      ]
     },
     "metadata": {},
     "output_type": "display_data"
    },
    {
     "name": "stdout",
     "output_type": "stream",
     "text": [
      "Epoch 10/10, Validation Loss: 0.2503568704919947, Validation Accuracy: 0.9324116743471582\n"
     ]
    },
    {
     "data": {
      "application/vnd.jupyter.widget-view+json": {
       "model_id": "4e0f694fe3ac4c7ebe55ba73e3966d22",
       "version_major": 2,
       "version_minor": 0
      },
      "text/plain": [
       "Testing:   0%|          | 0/163 [00:00<?, ?it/s]"
      ]
     },
     "metadata": {},
     "output_type": "display_data"
    },
    {
     "name": "stdout",
     "output_type": "stream",
     "text": [
      "{'val_acc': [0.40706605222734255, 0.6697388632872504, 0.8079877112135176, 0.8509984639016898, 0.8863287250384024, 0.9155145929339478, 0.9247311827956989, 0.9247311827956989, 0.9447004608294931, 0.9324116743471582], 'val_loss': [2.1501134919242624, 1.6219047190952887, 1.0627004383531815, 0.7474741917446347, 0.5377245459454191, 0.40428199865883846, 0.3317483607565333, 0.3083205117266968, 0.24400562349638324, 0.2503568704919947], 'train_loss': [2.310639466783891, 1.8700463894073656, 1.3080343175814921, 0.8552914197921406, 0.6007532899197072, 0.45713034787364165, 0.3605124573466397, 0.30066559076338106, 0.25050162151576305, 0.21092083001533696], 'test_correct_in_batch': [4.0, 4.0, 4.0, 4.0, 4.0, 4.0, 3.0, 3.0, 3.0, 4.0, 4.0, 4.0, 3.0, 4.0, 4.0, 3.0, 3.0, 4.0, 3.0, 4.0, 2.0, 4.0, 3.0, 4.0, 4.0, 4.0, 4.0, 3.0, 3.0, 4.0, 3.0, 3.0, 4.0, 4.0, 3.0, 4.0, 4.0, 4.0, 4.0, 4.0, 4.0, 4.0, 3.0, 4.0, 4.0, 4.0, 4.0, 4.0, 4.0, 3.0, 4.0, 2.0, 4.0, 3.0, 3.0, 4.0, 4.0, 4.0, 4.0, 3.0, 4.0, 4.0, 4.0, 4.0, 3.0, 3.0, 4.0, 3.0, 3.0, 3.0, 3.0, 4.0, 4.0, 4.0, 4.0, 4.0, 4.0, 4.0, 3.0, 3.0, 4.0, 4.0, 4.0, 4.0, 4.0, 3.0, 4.0, 2.0, 4.0, 4.0, 4.0, 3.0, 3.0, 4.0, 4.0, 4.0, 4.0, 3.0, 4.0, 4.0, 3.0, 4.0, 4.0, 4.0, 4.0, 4.0, 4.0, 4.0, 4.0, 4.0, 4.0, 3.0, 4.0, 4.0, 4.0, 4.0, 4.0, 4.0, 4.0, 3.0, 4.0, 3.0, 4.0, 4.0, 3.0, 3.0, 4.0, 4.0, 3.0, 4.0, 4.0, 4.0, 4.0, 3.0, 4.0, 4.0, 4.0, 4.0, 4.0, 3.0, 4.0, 4.0, 4.0, 4.0, 4.0, 3.0, 4.0, 4.0, 3.0, 4.0, 4.0, 4.0, 4.0, 4.0, 3.0, 4.0, 4.0, 3.0, 4.0, 4.0, 4.0, 4.0, 3.0], 'test_losses': [0.04031597822904587, 0.11313126981258392, 0.36803674697875977, 0.3326532244682312, 0.029985550791025162, 0.06223275512456894, 0.6913073062896729, 0.5248066186904907, 1.114673137664795, 0.05229603126645088, 0.06897765398025513, 0.10306627303361893, 0.6286829113960266, 0.11384818702936172, 0.052548717707395554, 1.0518614053726196, 0.6648616194725037, 0.320659875869751, 1.0029165744781494, 0.10233570635318756, 0.8260049223899841, 0.08370167016983032, 0.48873212933540344, 0.1792326718568802, 0.07660350203514099, 0.061784520745277405, 0.15241870284080505, 0.6512949466705322, 0.6741958260536194, 0.06765337288379669, 0.5603162050247192, 0.3993653655052185, 0.03422217816114426, 0.03648098558187485, 0.5320734977722168, 0.13237659633159637, 0.050984784960746765, 0.08805134892463684, 0.05941955745220184, 0.07578298449516296, 0.21633456647396088, 0.05286755412817001, 0.48647889494895935, 0.08500640094280243, 0.08293888717889786, 0.18338821828365326, 0.16819259524345398, 0.11530789732933044, 0.05051784962415695, 0.5446437001228333, 0.291504830121994, 2.4506962299346924, 0.13320764899253845, 0.9012202024459839, 0.45266884565353394, 0.04717336222529411, 0.041630230844020844, 0.024564510211348534, 0.0808018371462822, 0.4281585216522217, 0.036415886133909225, 0.103055939078331, 0.1287265568971634, 0.27649012207984924, 0.302223265171051, 0.5540416836738586, 0.13434089720249176, 0.5548468828201294, 0.9787249565124512, 0.5717993974685669, 1.144038200378418, 0.04577755555510521, 0.1806696504354477, 0.23153293132781982, 0.056749068200588226, 0.1073613241314888, 0.03565341606736183, 0.0332527756690979, 0.6570461988449097, 0.2952132821083069, 0.09105545282363892, 0.3742079436779022, 0.133064866065979, 0.07521259784698486, 0.0553404837846756, 0.6102542281150818, 0.07258709520101547, 0.7144082188606262, 0.19160373508930206, 0.29387277364730835, 0.1437678188085556, 0.7634875774383545, 0.715484619140625, 0.045510344207286835, 0.040931154042482376, 0.08320993185043335, 0.08400781452655792, 1.870750904083252, 0.07673526555299759, 0.08223697543144226, 1.1860778331756592, 0.06714218854904175, 0.050346679985523224, 0.2055533230304718, 0.0789366289973259, 0.0959845706820488, 0.06049094349145889, 0.05967432260513306, 0.10961515456438065, 0.05026724189519882, 0.05679876357316971, 1.076127052307129, 0.07397346198558807, 0.12387926876544952, 0.12585732340812683, 0.07344847917556763, 0.21832820773124695, 0.03906497359275818, 0.16623102128505707, 0.4699293375015259, 0.2030819058418274, 0.9923696517944336, 0.0683751329779625, 0.23658514022827148, 0.7666635513305664, 0.402321457862854, 0.22615109384059906, 0.18675315380096436, 0.6994332671165466, 0.23102515935897827, 0.08428849279880524, 0.12621814012527466, 0.05467385798692703, 0.767471432685852, 0.11379808187484741, 0.2209394872188568, 0.021392028778791428, 0.07072751969099045, 0.1242360919713974, 1.046588659286499, 0.05878248065710068, 0.26301002502441406, 0.23167093098163605, 0.1206207126379013, 0.055019572377204895, 0.47661441564559937, 0.3141750693321228, 0.1111840158700943, 0.7491092085838318, 0.06926947087049484, 0.07638471573591232, 0.2610287368297577, 0.04547379910945892, 0.10700434446334839, 1.3897838592529297, 0.05962996184825897, 0.0733330026268959, 0.36686277389526367, 0.06945474445819855, 0.0701979547739029, 0.05931484326720238, 0.041402898728847504, 0.0654732808470726], 'test_loss': 0.29827304777512154, 'test_batch_lens': [4, 4, 4, 4, 4, 4, 4, 4, 4, 4, 4, 4, 4, 4, 4, 4, 4, 4, 4, 4, 4, 4, 4, 4, 4, 4, 4, 4, 4, 4, 4, 4, 4, 4, 4, 4, 4, 4, 4, 4, 4, 4, 4, 4, 4, 4, 4, 4, 4, 4, 4, 4, 4, 4, 4, 4, 4, 4, 4, 4, 4, 4, 4, 4, 4, 4, 4, 4, 4, 4, 4, 4, 4, 4, 4, 4, 4, 4, 4, 4, 4, 4, 4, 4, 4, 4, 4, 4, 4, 4, 4, 4, 4, 4, 4, 4, 4, 4, 4, 4, 4, 4, 4, 4, 4, 4, 4, 4, 4, 4, 4, 4, 4, 4, 4, 4, 4, 4, 4, 4, 4, 4, 4, 4, 4, 4, 4, 4, 4, 4, 4, 4, 4, 4, 4, 4, 4, 4, 4, 4, 4, 4, 4, 4, 4, 4, 4, 4, 4, 4, 4, 4, 4, 4, 4, 4, 4, 4, 4, 4, 4, 4, 3], 'test_accuracy': 0.9247311827956989, 'predictions': [7, 4, 1, 10, 7, 1, 8, 8, 0, 8, 4, 7, 1, 9, 3, 0, 9, 6, 4, 9, 8, 10, 1, 4, 6, 1, 8, 6, 6, 8, 8, 1, 1, 3, 6, 3, 10, 5, 5, 0, 10, 3, 2, 10, 7, 8, 4, 3, 3, 8, 1, 4, 3, 4, 6, 1, 1, 9, 1, 10, 10, 6, 9, 6, 5, 3, 8, 5, 8, 1, 3, 1, 10, 3, 1, 8, 6, 8, 9, 2, 1, 1, 1, 1, 5, 5, 1, 8, 0, 8, 9, 10, 10, 7, 1, 5, 1, 8, 2, 7, 5, 1, 10, 6, 10, 8, 3, 9, 10, 4, 7, 10, 0, 3, 7, 8, 0, 8, 0, 0, 4, 0, 7, 6, 5, 0, 7, 9, 6, 7, 4, 0, 10, 10, 7, 9, 4, 0, 9, 0, 10, 3, 3, 9, 4, 7, 4, 7, 2, 10, 2, 4, 10, 10, 1, 0, 10, 5, 4, 7, 8, 9, 10, 4, 2, 3, 10, 5, 8, 0, 10, 0, 10, 7, 6, 8, 0, 8, 1, 2, 6, 3, 5, 3, 9, 3, 4, 8, 3, 2, 0, 2, 0, 9, 9, 8, 1, 8, 5, 9, 8, 1, 6, 1, 4, 4, 9, 8, 3, 9, 5, 6, 2, 5, 4, 9, 2, 10, 5, 4, 7, 3, 0, 6, 7, 0, 5, 7, 1, 0, 1, 6, 3, 7, 7, 2, 10, 9, 3, 10, 9, 4, 3, 3, 1, 7, 8, 5, 2, 4, 10, 1, 1, 2, 3, 10, 6, 9, 5, 1, 3, 10, 7, 9, 5, 1, 8, 1, 1, 7, 3, 10, 3, 5, 1, 2, 7, 9, 9, 7, 0, 8, 8, 10, 2, 4, 2, 5, 5, 3, 8, 0, 8, 6, 0, 1, 2, 7, 3, 2, 4, 10, 8, 6, 6, 0, 2, 7, 10, 1, 7, 6, 4, 2, 5, 2, 0, 4, 4, 3, 2, 6, 7, 9, 1, 8, 8, 5, 2, 9, 4, 1, 1, 8, 4, 7, 1, 2, 7, 2, 5, 0, 4, 10, 5, 0, 5, 7, 1, 6, 9, 6, 4, 9, 5, 1, 8, 3, 7, 7, 4, 4, 6, 10, 8, 9, 10, 5, 2, 7, 4, 0, 5, 0, 9, 10, 5, 0, 3, 7, 3, 1, 8, 2, 2, 4, 4, 9, 3, 7, 5, 9, 9, 4, 0, 0, 5, 6, 9, 9, 7, 7, 8, 9, 1, 10, 10, 5, 5, 7, 3, 3, 5, 10, 9, 7, 2, 3, 1, 1, 0, 5, 4, 1, 2, 0, 1, 8, 8, 4, 8, 3, 8, 0, 3, 2, 2, 3, 7, 10, 10, 4, 10, 6, 6, 5, 0, 8, 8, 2, 1, 9, 9, 5, 9, 9, 1, 3, 5, 7, 9, 10, 1, 8, 1, 6, 3, 8, 2, 4, 10, 1, 1, 2, 8, 2, 4, 8, 2, 8, 9, 9, 0, 7, 6, 9, 10, 0, 2, 8, 6, 9, 3, 7, 2, 4, 2, 0, 1, 3, 1, 6, 3, 4, 6, 3, 3, 5, 0, 1, 7, 10, 1, 10, 2, 5, 5, 7, 5, 1, 4, 5, 0, 4, 5, 4, 9, 5, 9, 7, 7, 2, 0, 2, 4, 8, 2, 9, 1, 8, 9, 1, 8, 8, 2, 0, 9, 7, 6, 9, 6, 9, 0, 10, 8, 8, 8, 1, 7, 3, 2, 7, 9, 6, 7, 8, 9, 0, 8, 2, 10, 5, 2, 10, 8, 7, 9, 6, 8, 6, 6, 9, 7, 9, 7, 8, 4, 9, 3, 3, 7, 4, 1, 9, 5, 4, 0, 7, 8, 0, 7, 4, 5, 5, 4, 8, 6, 6, 1, 5, 3, 0, 1, 4, 7, 1, 9, 4, 6, 8, 10, 7, 1, 0, 3, 9, 1, 4, 3, 10, 7, 0, 9, 9, 4, 0, 2, 3, 7, 8, 6, 8, 1, 7, 4, 0, 2, 0, 8, 6, 7], 'real_labels': [7, 4, 1, 10, 7, 1, 8, 8, 0, 8, 4, 7, 1, 9, 3, 0, 9, 6, 4, 9, 8, 10, 1, 4, 6, 8, 8, 6, 6, 8, 2, 1, 1, 9, 6, 3, 10, 5, 5, 0, 10, 3, 2, 10, 7, 8, 4, 3, 3, 8, 9, 4, 3, 4, 6, 1, 1, 9, 1, 10, 10, 6, 1, 6, 5, 5, 8, 5, 8, 1, 3, 1, 1, 3, 1, 8, 6, 8, 9, 2, 3, 1, 3, 1, 5, 5, 1, 8, 0, 4, 9, 10, 10, 7, 1, 5, 1, 8, 2, 7, 5, 1, 10, 6, 10, 8, 3, 9, 10, 4, 7, 1, 0, 3, 7, 6, 0, 8, 0, 0, 4, 8, 7, 6, 5, 1, 7, 9, 6, 7, 4, 0, 10, 10, 7, 9, 4, 1, 9, 0, 10, 3, 3, 9, 4, 7, 4, 7, 2, 10, 2, 4, 10, 10, 1, 0, 10, 5, 4, 7, 8, 9, 10, 4, 2, 3, 10, 5, 8, 0, 9, 0, 10, 7, 6, 8, 0, 8, 1, 2, 6, 3, 5, 3, 9, 3, 4, 8, 3, 2, 0, 2, 0, 9, 9, 8, 1, 3, 5, 9, 8, 1, 6, 1, 4, 3, 4, 8, 3, 9, 5, 6, 2, 5, 4, 5, 2, 10, 8, 4, 7, 3, 0, 6, 7, 0, 5, 7, 1, 0, 1, 6, 3, 7, 7, 2, 10, 4, 3, 10, 9, 4, 3, 3, 1, 7, 8, 5, 2, 4, 10, 1, 1, 2, 3, 10, 6, 9, 5, 3, 3, 10, 7, 1, 5, 1, 8, 1, 8, 7, 3, 10, 3, 5, 2, 2, 7, 3, 9, 7, 6, 8, 8, 10, 2, 4, 2, 5, 5, 3, 8, 0, 8, 6, 0, 1, 2, 7, 3, 2, 4, 10, 8, 6, 6, 0, 2, 7, 10, 1, 7, 6, 9, 2, 5, 2, 0, 9, 4, 3, 2, 6, 7, 9, 1, 8, 8, 5, 2, 9, 4, 1, 1, 8, 4, 7, 1, 2, 7, 2, 5, 0, 7, 10, 5, 0, 5, 7, 3, 6, 4, 6, 4, 9, 5, 1, 8, 3, 7, 7, 4, 4, 6, 10, 8, 9, 8, 5, 6, 7, 4, 0, 5, 0, 9, 10, 5, 0, 3, 7, 3, 1, 8, 2, 2, 4, 4, 9, 3, 7, 9, 9, 9, 4, 0, 0, 5, 6, 9, 9, 7, 7, 6, 9, 1, 10, 10, 5, 5, 7, 3, 3, 5, 10, 9, 7, 2, 3, 1, 1, 0, 5, 4, 1, 2, 0, 1, 8, 8, 4, 8, 3, 8, 0, 3, 2, 2, 3, 7, 10, 10, 4, 10, 6, 6, 5, 0, 9, 8, 2, 1, 9, 9, 5, 9, 9, 1, 3, 5, 7, 9, 10, 1, 8, 1, 6, 3, 8, 2, 4, 10, 1, 1, 2, 8, 2, 4, 8, 2, 5, 9, 9, 0, 7, 6, 9, 2, 0, 2, 8, 6, 9, 3, 7, 2, 4, 3, 0, 1, 3, 9, 6, 3, 4, 6, 3, 3, 5, 0, 1, 7, 10, 4, 10, 2, 5, 5, 7, 5, 1, 4, 5, 0, 4, 5, 4, 9, 5, 9, 7, 7, 2, 0, 2, 4, 3, 2, 9, 1, 8, 9, 1, 8, 8, 2, 0, 9, 7, 6, 9, 6, 9, 0, 10, 8, 8, 4, 1, 7, 3, 2, 7, 9, 6, 7, 8, 9, 0, 8, 2, 10, 5, 2, 10, 8, 7, 9, 6, 8, 6, 6, 4, 7, 9, 7, 8, 4, 9, 3, 3, 7, 4, 1, 7, 5, 4, 0, 7, 8, 0, 7, 4, 5, 5, 4, 8, 6, 6, 1, 5, 3, 0, 1, 4, 7, 1, 9, 4, 6, 6, 10, 7, 1, 0, 3, 9, 1, 4, 3, 10, 7, 8, 9, 9, 4, 0, 2, 3, 7, 8, 6, 8, 1, 7, 4, 0, 2, 0, 8, 6, 7], 'label_to_index': {'down': 0, 'go': 1, 'left': 2, 'no': 3, 'off': 4, 'on': 5, 'right': 6, 'stop': 7, 'unknown': 8, 'up': 9, 'yes': 10}}\n",
      "Test Loss: 0.29827304777512154, Test Accuracy: 0.9247311827956989\n"
     ]
    },
    {
     "name": "stderr",
     "output_type": "stream",
     "text": [
      "Some weights of the model checkpoint at superb/wav2vec2-base-superb-ks were not used when initializing Wav2Vec2ForSequenceClassification: ['wav2vec2.encoder.pos_conv_embed.conv.weight_g', 'wav2vec2.encoder.pos_conv_embed.conv.weight_v']\n",
      "- This IS expected if you are initializing Wav2Vec2ForSequenceClassification from the checkpoint of a model trained on another task or with another architecture (e.g. initializing a BertForSequenceClassification model from a BertForPreTraining model).\n",
      "- This IS NOT expected if you are initializing Wav2Vec2ForSequenceClassification from the checkpoint of a model that you expect to be exactly identical (initializing a BertForSequenceClassification model from a BertForSequenceClassification model).\n",
      "Some weights of Wav2Vec2ForSequenceClassification were not initialized from the model checkpoint at superb/wav2vec2-base-superb-ks and are newly initialized: ['wav2vec2.encoder.pos_conv_embed.conv.parametrizations.weight.original0', 'wav2vec2.encoder.pos_conv_embed.conv.parametrizations.weight.original1']\n",
      "You should probably TRAIN this model on a down-stream task to be able to use it for predictions and inference.\n"
     ]
    },
    {
     "data": {
      "application/vnd.jupyter.widget-view+json": {
       "model_id": "3d1aead122594193a74ddbc572c2cd05",
       "version_major": 2,
       "version_minor": 0
      },
      "text/plain": [
       "Epoch 1/10:   0%|          | 0/6187 [00:00<?, ?it/s]"
      ]
     },
     "metadata": {},
     "output_type": "display_data"
    },
    {
     "name": "stdout",
     "output_type": "stream",
     "text": [
      "Epoch 1/10, Train Loss: 2.1931670324201633\n"
     ]
    },
    {
     "data": {
      "application/vnd.jupyter.widget-view+json": {
       "model_id": "6827ac60432e4823ab22c690a18467cb",
       "version_major": 2,
       "version_minor": 0
      },
      "text/plain": [
       "Validation:   0%|          | 0/163 [00:00<?, ?it/s]"
      ]
     },
     "metadata": {},
     "output_type": "display_data"
    },
    {
     "name": "stdout",
     "output_type": "stream",
     "text": [
      "Epoch 1/10, Validation Loss: 1.8773414028202828, Validation Accuracy: 0.4254992319508449\n"
     ]
    },
    {
     "data": {
      "application/vnd.jupyter.widget-view+json": {
       "model_id": "110990de17e743ea834b1b0e88c28954",
       "version_major": 2,
       "version_minor": 0
      },
      "text/plain": [
       "Epoch 2/10:   0%|          | 0/6187 [00:00<?, ?it/s]"
      ]
     },
     "metadata": {},
     "output_type": "display_data"
    },
    {
     "name": "stdout",
     "output_type": "stream",
     "text": [
      "Epoch 2/10, Train Loss: 1.4996219276900205\n"
     ]
    },
    {
     "data": {
      "application/vnd.jupyter.widget-view+json": {
       "model_id": "d1ad092bc7464d9e8ed8e23077026bc4",
       "version_major": 2,
       "version_minor": 0
      },
      "text/plain": [
       "Validation:   0%|          | 0/163 [00:00<?, ?it/s]"
      ]
     },
     "metadata": {},
     "output_type": "display_data"
    },
    {
     "name": "stdout",
     "output_type": "stream",
     "text": [
      "Epoch 2/10, Validation Loss: 1.1136815407159137, Validation Accuracy: 0.7219662058371735\n"
     ]
    },
    {
     "data": {
      "application/vnd.jupyter.widget-view+json": {
       "model_id": "d565f1e89a594482afaef40f46766115",
       "version_major": 2,
       "version_minor": 0
      },
      "text/plain": [
       "Epoch 3/10:   0%|          | 0/6187 [00:00<?, ?it/s]"
      ]
     },
     "metadata": {},
     "output_type": "display_data"
    },
    {
     "name": "stdout",
     "output_type": "stream",
     "text": [
      "Epoch 3/10, Train Loss: 0.8536084821555809\n"
     ]
    },
    {
     "data": {
      "application/vnd.jupyter.widget-view+json": {
       "model_id": "b26f8caf07db4cda93ae984e7c28690f",
       "version_major": 2,
       "version_minor": 0
      },
      "text/plain": [
       "Validation:   0%|          | 0/163 [00:00<?, ?it/s]"
      ]
     },
     "metadata": {},
     "output_type": "display_data"
    },
    {
     "name": "stdout",
     "output_type": "stream",
     "text": [
      "Epoch 3/10, Validation Loss: 0.6570910550882479, Validation Accuracy: 0.8617511520737328\n"
     ]
    },
    {
     "data": {
      "application/vnd.jupyter.widget-view+json": {
       "model_id": "60ae44348ef24719a081db0a42268594",
       "version_major": 2,
       "version_minor": 0
      },
      "text/plain": [
       "Epoch 4/10:   0%|          | 0/6187 [00:00<?, ?it/s]"
      ]
     },
     "metadata": {},
     "output_type": "display_data"
    },
    {
     "name": "stdout",
     "output_type": "stream",
     "text": [
      "Epoch 4/10, Train Loss: 0.5027021232860547\n"
     ]
    },
    {
     "data": {
      "application/vnd.jupyter.widget-view+json": {
       "model_id": "586e7d79f7994e13adac901bdf23d3e5",
       "version_major": 2,
       "version_minor": 0
      },
      "text/plain": [
       "Validation:   0%|          | 0/163 [00:00<?, ?it/s]"
      ]
     },
     "metadata": {},
     "output_type": "display_data"
    },
    {
     "name": "stdout",
     "output_type": "stream",
     "text": [
      "Epoch 4/10, Validation Loss: 0.3888240356478223, Validation Accuracy: 0.9109062980030722\n"
     ]
    },
    {
     "data": {
      "application/vnd.jupyter.widget-view+json": {
       "model_id": "b5112d72dce14419b36da4d02332b75e",
       "version_major": 2,
       "version_minor": 0
      },
      "text/plain": [
       "Epoch 5/10:   0%|          | 0/6187 [00:00<?, ?it/s]"
      ]
     },
     "metadata": {},
     "output_type": "display_data"
    },
    {
     "name": "stdout",
     "output_type": "stream",
     "text": [
      "Epoch 5/10, Train Loss: 0.3522674428235546\n"
     ]
    },
    {
     "data": {
      "application/vnd.jupyter.widget-view+json": {
       "model_id": "078a740e10f3441580d2c77d2f4c6df2",
       "version_major": 2,
       "version_minor": 0
      },
      "text/plain": [
       "Validation:   0%|          | 0/163 [00:00<?, ?it/s]"
      ]
     },
     "metadata": {},
     "output_type": "display_data"
    },
    {
     "name": "stdout",
     "output_type": "stream",
     "text": [
      "Epoch 5/10, Validation Loss: 0.3164403983191844, Validation Accuracy: 0.9216589861751152\n"
     ]
    },
    {
     "data": {
      "application/vnd.jupyter.widget-view+json": {
       "model_id": "a834839bcd3d4340be19a0e8524d7204",
       "version_major": 2,
       "version_minor": 0
      },
      "text/plain": [
       "Epoch 6/10:   0%|          | 0/6187 [00:00<?, ?it/s]"
      ]
     },
     "metadata": {},
     "output_type": "display_data"
    },
    {
     "name": "stdout",
     "output_type": "stream",
     "text": [
      "Epoch 6/10, Train Loss: 0.27209989981960936\n"
     ]
    },
    {
     "data": {
      "application/vnd.jupyter.widget-view+json": {
       "model_id": "67e2b1a7aaf44ba280b94549c0bbf14f",
       "version_major": 2,
       "version_minor": 0
      },
      "text/plain": [
       "Validation:   0%|          | 0/163 [00:00<?, ?it/s]"
      ]
     },
     "metadata": {},
     "output_type": "display_data"
    },
    {
     "name": "stdout",
     "output_type": "stream",
     "text": [
      "Epoch 6/10, Validation Loss: 0.253211189724185, Validation Accuracy: 0.9447004608294931\n"
     ]
    },
    {
     "data": {
      "application/vnd.jupyter.widget-view+json": {
       "model_id": "8699d4b40d82426a94adff26517816e4",
       "version_major": 2,
       "version_minor": 0
      },
      "text/plain": [
       "Epoch 7/10:   0%|          | 0/6187 [00:00<?, ?it/s]"
      ]
     },
     "metadata": {},
     "output_type": "display_data"
    },
    {
     "name": "stdout",
     "output_type": "stream",
     "text": [
      "Epoch 7/10, Train Loss: 0.2091209967696688\n"
     ]
    },
    {
     "data": {
      "application/vnd.jupyter.widget-view+json": {
       "model_id": "602d810f9d1d4e34b250596a7a5032ea",
       "version_major": 2,
       "version_minor": 0
      },
      "text/plain": [
       "Validation:   0%|          | 0/163 [00:00<?, ?it/s]"
      ]
     },
     "metadata": {},
     "output_type": "display_data"
    },
    {
     "name": "stdout",
     "output_type": "stream",
     "text": [
      "Epoch 7/10, Validation Loss: 0.20422169265617257, Validation Accuracy: 0.9523809523809523\n"
     ]
    },
    {
     "data": {
      "application/vnd.jupyter.widget-view+json": {
       "model_id": "ce8e1bc9515946969cc3d6052e302ae6",
       "version_major": 2,
       "version_minor": 0
      },
      "text/plain": [
       "Epoch 8/10:   0%|          | 0/6187 [00:00<?, ?it/s]"
      ]
     },
     "metadata": {},
     "output_type": "display_data"
    },
    {
     "name": "stdout",
     "output_type": "stream",
     "text": [
      "Epoch 8/10, Train Loss: 0.16404340495446498\n"
     ]
    },
    {
     "data": {
      "application/vnd.jupyter.widget-view+json": {
       "model_id": "7f76cb4923b14b0fafc8edadeb4b4f14",
       "version_major": 2,
       "version_minor": 0
      },
      "text/plain": [
       "Validation:   0%|          | 0/163 [00:00<?, ?it/s]"
      ]
     },
     "metadata": {},
     "output_type": "display_data"
    },
    {
     "name": "stdout",
     "output_type": "stream",
     "text": [
      "Epoch 8/10, Validation Loss: 0.1814858360570267, Validation Accuracy: 0.9493087557603687\n"
     ]
    },
    {
     "data": {
      "application/vnd.jupyter.widget-view+json": {
       "model_id": "62651b185e114aa8928b8df671109428",
       "version_major": 2,
       "version_minor": 0
      },
      "text/plain": [
       "Epoch 9/10:   0%|          | 0/6187 [00:00<?, ?it/s]"
      ]
     },
     "metadata": {},
     "output_type": "display_data"
    },
    {
     "name": "stdout",
     "output_type": "stream",
     "text": [
      "Epoch 9/10, Train Loss: 0.13174626086324487\n"
     ]
    },
    {
     "data": {
      "application/vnd.jupyter.widget-view+json": {
       "model_id": "986655d4708b4a049cc0b127e8c04ff5",
       "version_major": 2,
       "version_minor": 0
      },
      "text/plain": [
       "Validation:   0%|          | 0/163 [00:00<?, ?it/s]"
      ]
     },
     "metadata": {},
     "output_type": "display_data"
    },
    {
     "name": "stdout",
     "output_type": "stream",
     "text": [
      "Epoch 9/10, Validation Loss: 0.17513783237799727, Validation Accuracy: 0.946236559139785\n"
     ]
    },
    {
     "data": {
      "application/vnd.jupyter.widget-view+json": {
       "model_id": "fdbccfb1e108484f849cb959fc652b23",
       "version_major": 2,
       "version_minor": 0
      },
      "text/plain": [
       "Epoch 10/10:   0%|          | 0/6187 [00:00<?, ?it/s]"
      ]
     },
     "metadata": {},
     "output_type": "display_data"
    },
    {
     "name": "stdout",
     "output_type": "stream",
     "text": [
      "Epoch 10/10, Train Loss: 0.11119024668222151\n"
     ]
    },
    {
     "data": {
      "application/vnd.jupyter.widget-view+json": {
       "model_id": "6379efc7521e4083b0bc60d2a4f5ec58",
       "version_major": 2,
       "version_minor": 0
      },
      "text/plain": [
       "Validation:   0%|          | 0/163 [00:00<?, ?it/s]"
      ]
     },
     "metadata": {},
     "output_type": "display_data"
    },
    {
     "name": "stdout",
     "output_type": "stream",
     "text": [
      "Epoch 10/10, Validation Loss: 0.15671005075443192, Validation Accuracy: 0.956989247311828\n"
     ]
    },
    {
     "data": {
      "application/vnd.jupyter.widget-view+json": {
       "model_id": "c0bc1674492b4658b3abf8ece8176915",
       "version_major": 2,
       "version_minor": 0
      },
      "text/plain": [
       "Testing:   0%|          | 0/163 [00:00<?, ?it/s]"
      ]
     },
     "metadata": {},
     "output_type": "display_data"
    },
    {
     "name": "stdout",
     "output_type": "stream",
     "text": [
      "{'val_acc': [0.4254992319508449, 0.7219662058371735, 0.8617511520737328, 0.9109062980030722, 0.9216589861751152, 0.9447004608294931, 0.9523809523809523, 0.9493087557603687, 0.946236559139785, 0.956989247311828], 'val_loss': [1.8773414028202828, 1.1136815407159137, 0.6570910550882479, 0.3888240356478223, 0.3164403983191844, 0.253211189724185, 0.20422169265617257, 0.1814858360570267, 0.17513783237799727, 0.15671005075443192], 'train_loss': [2.1931670324201633, 1.4996219276900205, 0.8536084821555809, 0.5027021232860547, 0.3522674428235546, 0.27209989981960936, 0.2091209967696688, 0.16404340495446498, 0.13174626086324487, 0.11119024668222151], 'test_correct_in_batch': [4.0, 4.0, 4.0, 3.0, 4.0, 4.0, 3.0, 4.0, 4.0, 4.0, 4.0, 4.0, 3.0, 4.0, 4.0, 3.0, 3.0, 4.0, 3.0, 4.0, 3.0, 4.0, 3.0, 4.0, 4.0, 4.0, 4.0, 3.0, 3.0, 4.0, 3.0, 4.0, 4.0, 4.0, 4.0, 4.0, 4.0, 4.0, 4.0, 4.0, 4.0, 4.0, 4.0, 4.0, 4.0, 4.0, 4.0, 4.0, 4.0, 4.0, 3.0, 2.0, 4.0, 4.0, 4.0, 4.0, 4.0, 4.0, 4.0, 3.0, 4.0, 4.0, 3.0, 4.0, 4.0, 4.0, 4.0, 3.0, 3.0, 3.0, 3.0, 4.0, 4.0, 3.0, 4.0, 4.0, 4.0, 4.0, 2.0, 4.0, 4.0, 4.0, 4.0, 4.0, 4.0, 3.0, 4.0, 3.0, 4.0, 4.0, 4.0, 4.0, 2.0, 4.0, 4.0, 4.0, 4.0, 3.0, 4.0, 4.0, 2.0, 4.0, 4.0, 4.0, 4.0, 4.0, 4.0, 4.0, 4.0, 4.0, 4.0, 3.0, 4.0, 4.0, 4.0, 4.0, 4.0, 4.0, 4.0, 3.0, 4.0, 3.0, 4.0, 3.0, 3.0, 4.0, 4.0, 3.0, 3.0, 4.0, 4.0, 3.0, 4.0, 4.0, 4.0, 4.0, 4.0, 4.0, 4.0, 4.0, 4.0, 3.0, 4.0, 4.0, 4.0, 2.0, 4.0, 4.0, 3.0, 4.0, 4.0, 4.0, 4.0, 4.0, 3.0, 4.0, 4.0, 2.0, 4.0, 4.0, 4.0, 4.0, 3.0], 'test_losses': [0.016160421073436737, 0.07920420169830322, 0.2722165584564209, 0.587189793586731, 0.0219788309186697, 0.016816075891256332, 0.6424108147621155, 0.18610703945159912, 0.4298587143421173, 0.03325546160340309, 0.02080420032143593, 0.03487956151366234, 0.5661097764968872, 0.10344409942626953, 0.01664157211780548, 1.5679429769515991, 0.7957000732421875, 0.0748913586139679, 1.3959782123565674, 0.039410002529621124, 0.46670377254486084, 0.02356123924255371, 0.7390840649604797, 0.08815331012010574, 0.03413458168506622, 0.02289070002734661, 0.056273430585861206, 0.7074793577194214, 0.9196133613586426, 0.037019532173871994, 0.5661357641220093, 0.019744347780942917, 0.02920622006058693, 0.011827792972326279, 0.03665583208203316, 0.02103087119758129, 0.014674621634185314, 0.04828643053770065, 0.03494150936603546, 0.09643629193305969, 0.093607097864151, 0.016838382929563522, 0.4757833480834961, 0.04759596288204193, 0.06159111484885216, 0.016556737944483757, 0.04853054881095886, 0.056885745376348495, 0.08634434640407562, 0.3142416179180145, 0.8475112318992615, 2.0059754848480225, 0.059228092432022095, 0.10072769969701767, 0.027359746396541595, 0.01727757789194584, 0.04622609168291092, 0.016590185463428497, 0.06700834631919861, 0.2844105660915375, 0.019251875579357147, 0.033299606293439865, 0.25436851382255554, 0.022552771493792534, 0.05202346667647362, 0.06557817757129669, 0.03920130804181099, 1.0935242176055908, 0.7773665189743042, 0.8877797722816467, 1.0718698501586914, 0.01469535194337368, 0.03234089910984039, 0.35062509775161743, 0.08250533789396286, 0.0785725936293602, 0.0225384458899498, 0.022051915526390076, 1.1613116264343262, 0.0611981600522995, 0.17750978469848633, 0.164372056722641, 0.10926763713359833, 0.022653285413980484, 0.07197580486536026, 0.49343279004096985, 0.03975725173950195, 0.8652370572090149, 0.053677789866924286, 0.3009450137615204, 0.23734025657176971, 0.05205794796347618, 1.8261069059371948, 0.03212011605501175, 0.024648627266287804, 0.02740446850657463, 0.06509491801261902, 1.7100934982299805, 0.04633007198572159, 0.13855397701263428, 1.8495688438415527, 0.038115497678518295, 0.0356699638068676, 0.23954352736473083, 0.02828868478536606, 0.05787786841392517, 0.011444956995546818, 0.020301932469010353, 0.04752684384584427, 0.01834229752421379, 0.017759038135409355, 0.5082833170890808, 0.017340555787086487, 0.02632114291191101, 0.05855212360620499, 0.02957463636994362, 0.37901967763900757, 0.01418200321495533, 0.04586835205554962, 0.2822718024253845, 0.04903880134224892, 0.6035688519477844, 0.04688657075166702, 0.2370893955230713, 0.6715419292449951, 0.2647753357887268, 0.10959368199110031, 0.5252389311790466, 0.3953518867492676, 0.11156920343637466, 0.02880004607141018, 0.28556308150291443, 0.01284394133836031, 0.08110114932060242, 0.02695191279053688, 0.06446400284767151, 0.012826809659600258, 0.08332329988479614, 0.10194455087184906, 0.22186744213104248, 0.2513272166252136, 0.2920316457748413, 0.19226685166358948, 0.0838310718536377, 0.022366920486092567, 0.7825604677200317, 0.2441483438014984, 0.04993697255849838, 1.5633944272994995, 0.02346351183950901, 0.035446587949991226, 0.1919507086277008, 0.029130758717656136, 0.15635409951210022, 0.630254864692688, 0.03217802196741104, 0.3355926275253296, 1.4417805671691895, 0.061735864728689194, 0.03132764995098114, 0.01725952699780464, 0.01702933758497238, 0.08034791797399521], 'test_loss': 0.26007538234552174, 'test_batch_lens': [4, 4, 4, 4, 4, 4, 4, 4, 4, 4, 4, 4, 4, 4, 4, 4, 4, 4, 4, 4, 4, 4, 4, 4, 4, 4, 4, 4, 4, 4, 4, 4, 4, 4, 4, 4, 4, 4, 4, 4, 4, 4, 4, 4, 4, 4, 4, 4, 4, 4, 4, 4, 4, 4, 4, 4, 4, 4, 4, 4, 4, 4, 4, 4, 4, 4, 4, 4, 4, 4, 4, 4, 4, 4, 4, 4, 4, 4, 4, 4, 4, 4, 4, 4, 4, 4, 4, 4, 4, 4, 4, 4, 4, 4, 4, 4, 4, 4, 4, 4, 4, 4, 4, 4, 4, 4, 4, 4, 4, 4, 4, 4, 4, 4, 4, 4, 4, 4, 4, 4, 4, 4, 4, 4, 4, 4, 4, 4, 4, 4, 4, 4, 4, 4, 4, 4, 4, 4, 4, 4, 4, 4, 4, 4, 4, 4, 4, 4, 4, 4, 4, 4, 4, 4, 4, 4, 4, 4, 4, 4, 4, 4, 3], 'test_accuracy': 0.9308755760368663, 'predictions': [7, 4, 1, 10, 7, 1, 8, 8, 0, 8, 4, 7, 1, 9, 2, 0, 9, 6, 4, 9, 8, 10, 1, 4, 6, 1, 8, 6, 6, 8, 2, 1, 1, 9, 6, 3, 10, 5, 5, 0, 10, 3, 2, 10, 7, 8, 4, 3, 3, 8, 2, 4, 3, 4, 6, 1, 1, 9, 1, 10, 10, 6, 4, 6, 5, 9, 8, 5, 8, 1, 3, 1, 0, 3, 1, 8, 6, 8, 9, 2, 3, 1, 1, 1, 5, 5, 1, 8, 0, 3, 9, 10, 10, 7, 1, 5, 1, 8, 2, 7, 5, 1, 10, 6, 10, 8, 3, 9, 10, 4, 7, 9, 0, 3, 7, 8, 0, 8, 0, 0, 4, 8, 1, 6, 5, 1, 7, 9, 6, 7, 4, 0, 10, 10, 7, 9, 4, 1, 9, 0, 10, 3, 3, 9, 4, 7, 4, 7, 2, 10, 2, 4, 10, 10, 1, 0, 10, 5, 4, 7, 8, 9, 10, 4, 2, 3, 10, 5, 8, 0, 9, 0, 10, 7, 6, 8, 0, 8, 1, 2, 6, 3, 5, 3, 9, 3, 4, 8, 3, 2, 0, 2, 0, 9, 9, 8, 1, 3, 5, 9, 2, 1, 6, 1, 4, 5, 9, 8, 3, 9, 5, 6, 2, 5, 4, 5, 2, 10, 8, 4, 7, 3, 0, 6, 7, 0, 5, 7, 1, 0, 1, 6, 3, 7, 7, 2, 10, 9, 3, 10, 9, 4, 3, 3, 1, 7, 8, 5, 2, 4, 10, 3, 1, 2, 3, 10, 6, 9, 5, 3, 3, 10, 7, 1, 5, 1, 8, 1, 3, 7, 3, 10, 3, 5, 0, 2, 7, 2, 9, 7, 0, 8, 8, 10, 2, 4, 2, 5, 5, 3, 8, 0, 8, 6, 3, 1, 2, 7, 3, 2, 4, 10, 8, 6, 6, 0, 2, 7, 10, 1, 7, 6, 4, 2, 4, 2, 0, 9, 4, 3, 2, 6, 7, 9, 1, 8, 8, 5, 2, 9, 4, 1, 1, 8, 4, 7, 1, 2, 7, 2, 5, 0, 4, 10, 5, 0, 5, 7, 3, 6, 9, 6, 4, 9, 5, 1, 8, 3, 7, 7, 4, 4, 6, 10, 8, 9, 8, 5, 2, 9, 4, 0, 5, 0, 9, 10, 5, 0, 3, 7, 3, 1, 8, 2, 2, 4, 4, 9, 3, 7, 5, 9, 9, 4, 0, 0, 5, 6, 9, 9, 7, 7, 8, 2, 1, 10, 10, 5, 5, 7, 3, 3, 5, 10, 9, 7, 2, 3, 1, 1, 0, 5, 4, 1, 2, 0, 1, 8, 8, 4, 8, 3, 8, 0, 3, 2, 2, 3, 7, 10, 10, 4, 10, 6, 6, 5, 0, 4, 8, 2, 1, 9, 9, 5, 9, 9, 1, 3, 5, 7, 9, 10, 1, 8, 1, 6, 3, 8, 2, 4, 10, 1, 1, 2, 8, 2, 4, 8, 2, 8, 9, 9, 0, 7, 6, 9, 9, 0, 2, 8, 6, 9, 3, 8, 2, 4, 0, 0, 1, 3, 9, 6, 3, 4, 6, 3, 3, 5, 3, 1, 7, 10, 1, 10, 2, 5, 5, 7, 5, 1, 4, 5, 0, 4, 5, 4, 4, 5, 9, 7, 7, 2, 0, 2, 4, 3, 2, 9, 1, 8, 9, 1, 8, 8, 2, 0, 9, 7, 6, 9, 6, 9, 0, 10, 8, 8, 4, 1, 7, 3, 2, 7, 9, 6, 7, 0, 9, 0, 8, 2, 10, 5, 2, 10, 8, 7, 9, 6, 8, 6, 6, 9, 7, 4, 7, 8, 4, 9, 3, 3, 7, 4, 1, 9, 5, 4, 0, 7, 8, 0, 7, 4, 5, 5, 4, 8, 6, 6, 1, 5, 3, 0, 1, 4, 7, 1, 9, 4, 6, 8, 10, 7, 1, 0, 3, 9, 1, 4, 3, 8, 7, 0, 9, 9, 4, 0, 2, 3, 7, 8, 6, 8, 1, 7, 4, 0, 2, 0, 8, 6, 7], 'real_labels': [7, 4, 1, 10, 7, 1, 8, 8, 0, 8, 4, 7, 1, 9, 3, 0, 9, 6, 4, 9, 8, 10, 1, 4, 6, 8, 8, 6, 6, 8, 2, 1, 1, 9, 6, 3, 10, 5, 5, 0, 10, 3, 2, 10, 7, 8, 4, 3, 3, 8, 9, 4, 3, 4, 6, 1, 1, 9, 1, 10, 10, 6, 1, 6, 5, 5, 8, 5, 8, 1, 3, 1, 1, 3, 1, 8, 6, 8, 9, 2, 3, 1, 3, 1, 5, 5, 1, 8, 0, 4, 9, 10, 10, 7, 1, 5, 1, 8, 2, 7, 5, 1, 10, 6, 10, 8, 3, 9, 10, 4, 7, 1, 0, 3, 7, 6, 0, 8, 0, 0, 4, 8, 7, 6, 5, 1, 7, 9, 6, 7, 4, 0, 10, 10, 7, 9, 4, 1, 9, 0, 10, 3, 3, 9, 4, 7, 4, 7, 2, 10, 2, 4, 10, 10, 1, 0, 10, 5, 4, 7, 8, 9, 10, 4, 2, 3, 10, 5, 8, 0, 9, 0, 10, 7, 6, 8, 0, 8, 1, 2, 6, 3, 5, 3, 9, 3, 4, 8, 3, 2, 0, 2, 0, 9, 9, 8, 1, 3, 5, 9, 8, 1, 6, 1, 4, 3, 4, 8, 3, 9, 5, 6, 2, 5, 4, 5, 2, 10, 8, 4, 7, 3, 0, 6, 7, 0, 5, 7, 1, 0, 1, 6, 3, 7, 7, 2, 10, 4, 3, 10, 9, 4, 3, 3, 1, 7, 8, 5, 2, 4, 10, 1, 1, 2, 3, 10, 6, 9, 5, 3, 3, 10, 7, 1, 5, 1, 8, 1, 8, 7, 3, 10, 3, 5, 2, 2, 7, 3, 9, 7, 6, 8, 8, 10, 2, 4, 2, 5, 5, 3, 8, 0, 8, 6, 0, 1, 2, 7, 3, 2, 4, 10, 8, 6, 6, 0, 2, 7, 10, 1, 7, 6, 9, 2, 5, 2, 0, 9, 4, 3, 2, 6, 7, 9, 1, 8, 8, 5, 2, 9, 4, 1, 1, 8, 4, 7, 1, 2, 7, 2, 5, 0, 7, 10, 5, 0, 5, 7, 3, 6, 4, 6, 4, 9, 5, 1, 8, 3, 7, 7, 4, 4, 6, 10, 8, 9, 8, 5, 6, 7, 4, 0, 5, 0, 9, 10, 5, 0, 3, 7, 3, 1, 8, 2, 2, 4, 4, 9, 3, 7, 9, 9, 9, 4, 0, 0, 5, 6, 9, 9, 7, 7, 6, 9, 1, 10, 10, 5, 5, 7, 3, 3, 5, 10, 9, 7, 2, 3, 1, 1, 0, 5, 4, 1, 2, 0, 1, 8, 8, 4, 8, 3, 8, 0, 3, 2, 2, 3, 7, 10, 10, 4, 10, 6, 6, 5, 0, 9, 8, 2, 1, 9, 9, 5, 9, 9, 1, 3, 5, 7, 9, 10, 1, 8, 1, 6, 3, 8, 2, 4, 10, 1, 1, 2, 8, 2, 4, 8, 2, 5, 9, 9, 0, 7, 6, 9, 2, 0, 2, 8, 6, 9, 3, 7, 2, 4, 3, 0, 1, 3, 9, 6, 3, 4, 6, 3, 3, 5, 0, 1, 7, 10, 4, 10, 2, 5, 5, 7, 5, 1, 4, 5, 0, 4, 5, 4, 9, 5, 9, 7, 7, 2, 0, 2, 4, 3, 2, 9, 1, 8, 9, 1, 8, 8, 2, 0, 9, 7, 6, 9, 6, 9, 0, 10, 8, 8, 4, 1, 7, 3, 2, 7, 9, 6, 7, 8, 9, 0, 8, 2, 10, 5, 2, 10, 8, 7, 9, 6, 8, 6, 6, 4, 7, 9, 7, 8, 4, 9, 3, 3, 7, 4, 1, 7, 5, 4, 0, 7, 8, 0, 7, 4, 5, 5, 4, 8, 6, 6, 1, 5, 3, 0, 1, 4, 7, 1, 9, 4, 6, 6, 10, 7, 1, 0, 3, 9, 1, 4, 3, 10, 7, 8, 9, 9, 4, 0, 2, 3, 7, 8, 6, 8, 1, 7, 4, 0, 2, 0, 8, 6, 7], 'label_to_index': {'down': 0, 'go': 1, 'left': 2, 'no': 3, 'off': 4, 'on': 5, 'right': 6, 'stop': 7, 'unknown': 8, 'up': 9, 'yes': 10}}\n",
      "Test Loss: 0.26007538234552174, Test Accuracy: 0.9308755760368663\n"
     ]
    },
    {
     "name": "stderr",
     "output_type": "stream",
     "text": [
      "Some weights of the model checkpoint at superb/wav2vec2-base-superb-ks were not used when initializing Wav2Vec2ForSequenceClassification: ['wav2vec2.encoder.pos_conv_embed.conv.weight_g', 'wav2vec2.encoder.pos_conv_embed.conv.weight_v']\n",
      "- This IS expected if you are initializing Wav2Vec2ForSequenceClassification from the checkpoint of a model trained on another task or with another architecture (e.g. initializing a BertForSequenceClassification model from a BertForPreTraining model).\n",
      "- This IS NOT expected if you are initializing Wav2Vec2ForSequenceClassification from the checkpoint of a model that you expect to be exactly identical (initializing a BertForSequenceClassification model from a BertForSequenceClassification model).\n",
      "Some weights of Wav2Vec2ForSequenceClassification were not initialized from the model checkpoint at superb/wav2vec2-base-superb-ks and are newly initialized: ['wav2vec2.encoder.pos_conv_embed.conv.parametrizations.weight.original0', 'wav2vec2.encoder.pos_conv_embed.conv.parametrizations.weight.original1']\n",
      "You should probably TRAIN this model on a down-stream task to be able to use it for predictions and inference.\n"
     ]
    },
    {
     "data": {
      "application/vnd.jupyter.widget-view+json": {
       "model_id": "f354286ec99e4cbc81860d7cecd4f0b2",
       "version_major": 2,
       "version_minor": 0
      },
      "text/plain": [
       "Epoch 1/10:   0%|          | 0/6187 [00:00<?, ?it/s]"
      ]
     },
     "metadata": {},
     "output_type": "display_data"
    },
    {
     "name": "stdout",
     "output_type": "stream",
     "text": [
      "Epoch 1/10, Train Loss: 2.27822321750668\n"
     ]
    },
    {
     "data": {
      "application/vnd.jupyter.widget-view+json": {
       "model_id": "73a52dc8b7a645eebe0dc8d8ec6e85b2",
       "version_major": 2,
       "version_minor": 0
      },
      "text/plain": [
       "Validation:   0%|          | 0/163 [00:00<?, ?it/s]"
      ]
     },
     "metadata": {},
     "output_type": "display_data"
    },
    {
     "name": "stdout",
     "output_type": "stream",
     "text": [
      "Epoch 1/10, Validation Loss: 2.038154107661335, Validation Accuracy: 0.4116743471582181\n"
     ]
    },
    {
     "data": {
      "application/vnd.jupyter.widget-view+json": {
       "model_id": "bb1a93758c73466da2ed956ac605c077",
       "version_major": 2,
       "version_minor": 0
      },
      "text/plain": [
       "Epoch 2/10:   0%|          | 0/6187 [00:00<?, ?it/s]"
      ]
     },
     "metadata": {},
     "output_type": "display_data"
    },
    {
     "name": "stdout",
     "output_type": "stream",
     "text": [
      "Epoch 2/10, Train Loss: 1.5482482614878674\n"
     ]
    },
    {
     "data": {
      "application/vnd.jupyter.widget-view+json": {
       "model_id": "c43efff77143481e967f7b8ca61b97b5",
       "version_major": 2,
       "version_minor": 0
      },
      "text/plain": [
       "Validation:   0%|          | 0/163 [00:00<?, ?it/s]"
      ]
     },
     "metadata": {},
     "output_type": "display_data"
    },
    {
     "name": "stdout",
     "output_type": "stream",
     "text": [
      "Epoch 2/10, Validation Loss: 1.1153867105764845, Validation Accuracy: 0.7649769585253456\n"
     ]
    },
    {
     "data": {
      "application/vnd.jupyter.widget-view+json": {
       "model_id": "d8c4eeb3e138420eb00b99666a9d43f7",
       "version_major": 2,
       "version_minor": 0
      },
      "text/plain": [
       "Epoch 3/10:   0%|          | 0/6187 [00:00<?, ?it/s]"
      ]
     },
     "metadata": {},
     "output_type": "display_data"
    },
    {
     "name": "stdout",
     "output_type": "stream",
     "text": [
      "Epoch 3/10, Train Loss: 0.8909215267253303\n"
     ]
    },
    {
     "data": {
      "application/vnd.jupyter.widget-view+json": {
       "model_id": "12b788bef1724889b57c279c1465f4a1",
       "version_major": 2,
       "version_minor": 0
      },
      "text/plain": [
       "Validation:   0%|          | 0/163 [00:00<?, ?it/s]"
      ]
     },
     "metadata": {},
     "output_type": "display_data"
    },
    {
     "name": "stdout",
     "output_type": "stream",
     "text": [
      "Epoch 3/10, Validation Loss: 0.6558344930044713, Validation Accuracy: 0.8740399385560675\n"
     ]
    },
    {
     "data": {
      "application/vnd.jupyter.widget-view+json": {
       "model_id": "73bfa4d066dc4471adcb68bc1afd19a7",
       "version_major": 2,
       "version_minor": 0
      },
      "text/plain": [
       "Epoch 4/10:   0%|          | 0/6187 [00:00<?, ?it/s]"
      ]
     },
     "metadata": {},
     "output_type": "display_data"
    },
    {
     "name": "stdout",
     "output_type": "stream",
     "text": [
      "Epoch 4/10, Train Loss: 0.5649012281505669\n"
     ]
    },
    {
     "data": {
      "application/vnd.jupyter.widget-view+json": {
       "model_id": "92195256d0cd41ee929d7e59c22f8899",
       "version_major": 2,
       "version_minor": 0
      },
      "text/plain": [
       "Validation:   0%|          | 0/163 [00:00<?, ?it/s]"
      ]
     },
     "metadata": {},
     "output_type": "display_data"
    },
    {
     "name": "stdout",
     "output_type": "stream",
     "text": [
      "Epoch 4/10, Validation Loss: 0.408972110667843, Validation Accuracy: 0.9201228878648233\n"
     ]
    },
    {
     "data": {
      "application/vnd.jupyter.widget-view+json": {
       "model_id": "7f973b5b248745e38b4dac04bbe16de8",
       "version_major": 2,
       "version_minor": 0
      },
      "text/plain": [
       "Epoch 5/10:   0%|          | 0/6187 [00:00<?, ?it/s]"
      ]
     },
     "metadata": {},
     "output_type": "display_data"
    },
    {
     "name": "stdout",
     "output_type": "stream",
     "text": [
      "Epoch 5/10, Train Loss: 0.3876734174449609\n"
     ]
    },
    {
     "data": {
      "application/vnd.jupyter.widget-view+json": {
       "model_id": "df93e1322bcc458e9340e874bf15fe20",
       "version_major": 2,
       "version_minor": 0
      },
      "text/plain": [
       "Validation:   0%|          | 0/163 [00:00<?, ?it/s]"
      ]
     },
     "metadata": {},
     "output_type": "display_data"
    },
    {
     "name": "stdout",
     "output_type": "stream",
     "text": [
      "Epoch 5/10, Validation Loss: 0.3021633036297523, Validation Accuracy: 0.9354838709677419\n"
     ]
    },
    {
     "data": {
      "application/vnd.jupyter.widget-view+json": {
       "model_id": "fde2194d25c44b86906c3acc019ebbe5",
       "version_major": 2,
       "version_minor": 0
      },
      "text/plain": [
       "Epoch 6/10:   0%|          | 0/6187 [00:00<?, ?it/s]"
      ]
     },
     "metadata": {},
     "output_type": "display_data"
    },
    {
     "name": "stdout",
     "output_type": "stream",
     "text": [
      "Epoch 6/10, Train Loss: 0.2917154952076885\n"
     ]
    },
    {
     "data": {
      "application/vnd.jupyter.widget-view+json": {
       "model_id": "037b43bfc182462bb9f141a95040766b",
       "version_major": 2,
       "version_minor": 0
      },
      "text/plain": [
       "Validation:   0%|          | 0/163 [00:00<?, ?it/s]"
      ]
     },
     "metadata": {},
     "output_type": "display_data"
    },
    {
     "name": "stdout",
     "output_type": "stream",
     "text": [
      "Epoch 6/10, Validation Loss: 0.24971103149414794, Validation Accuracy: 0.9431643625192012\n"
     ]
    },
    {
     "data": {
      "application/vnd.jupyter.widget-view+json": {
       "model_id": "3b2fdf85261747518cee3f436b720e0a",
       "version_major": 2,
       "version_minor": 0
      },
      "text/plain": [
       "Epoch 7/10:   0%|          | 0/6187 [00:00<?, ?it/s]"
      ]
     },
     "metadata": {},
     "output_type": "display_data"
    },
    {
     "name": "stdout",
     "output_type": "stream",
     "text": [
      "Epoch 7/10, Train Loss: 0.22910732958217142\n"
     ]
    },
    {
     "data": {
      "application/vnd.jupyter.widget-view+json": {
       "model_id": "6631ed16d7d94bf3bc02d4f810ea98d8",
       "version_major": 2,
       "version_minor": 0
      },
      "text/plain": [
       "Validation:   0%|          | 0/163 [00:00<?, ?it/s]"
      ]
     },
     "metadata": {},
     "output_type": "display_data"
    },
    {
     "name": "stdout",
     "output_type": "stream",
     "text": [
      "Epoch 7/10, Validation Loss: 0.2008755066506336, Validation Accuracy: 0.9585253456221198\n"
     ]
    },
    {
     "data": {
      "application/vnd.jupyter.widget-view+json": {
       "model_id": "5f6600ab1d93429296cf35b5070e8bfc",
       "version_major": 2,
       "version_minor": 0
      },
      "text/plain": [
       "Epoch 8/10:   0%|          | 0/6187 [00:00<?, ?it/s]"
      ]
     },
     "metadata": {},
     "output_type": "display_data"
    },
    {
     "name": "stdout",
     "output_type": "stream",
     "text": [
      "Epoch 8/10, Train Loss: 0.18712450796324312\n"
     ]
    },
    {
     "data": {
      "application/vnd.jupyter.widget-view+json": {
       "model_id": "bd89b5cdbd594e2cb12d04230e6fb21f",
       "version_major": 2,
       "version_minor": 0
      },
      "text/plain": [
       "Validation:   0%|          | 0/163 [00:00<?, ?it/s]"
      ]
     },
     "metadata": {},
     "output_type": "display_data"
    },
    {
     "name": "stdout",
     "output_type": "stream",
     "text": [
      "Epoch 8/10, Validation Loss: 0.19995995613237832, Validation Accuracy: 0.9508448540706606\n"
     ]
    },
    {
     "data": {
      "application/vnd.jupyter.widget-view+json": {
       "model_id": "08254ad41b6b4a1e9a0f8defebe1cb74",
       "version_major": 2,
       "version_minor": 0
      },
      "text/plain": [
       "Epoch 9/10:   0%|          | 0/6187 [00:00<?, ?it/s]"
      ]
     },
     "metadata": {},
     "output_type": "display_data"
    },
    {
     "name": "stdout",
     "output_type": "stream",
     "text": [
      "Epoch 9/10, Train Loss: 0.27186225131798325\n"
     ]
    },
    {
     "data": {
      "application/vnd.jupyter.widget-view+json": {
       "model_id": "d0b00c96211c4783a9e1e6a848b9c25e",
       "version_major": 2,
       "version_minor": 0
      },
      "text/plain": [
       "Validation:   0%|          | 0/163 [00:00<?, ?it/s]"
      ]
     },
     "metadata": {},
     "output_type": "display_data"
    },
    {
     "name": "stdout",
     "output_type": "stream",
     "text": [
      "Epoch 9/10, Validation Loss: 0.21734087368004892, Validation Accuracy: 0.9431643625192012\n"
     ]
    },
    {
     "data": {
      "application/vnd.jupyter.widget-view+json": {
       "model_id": "044a8949bc83472191c97d20e2449026",
       "version_major": 2,
       "version_minor": 0
      },
      "text/plain": [
       "Epoch 10/10:   0%|          | 0/6187 [00:00<?, ?it/s]"
      ]
     },
     "metadata": {},
     "output_type": "display_data"
    },
    {
     "name": "stdout",
     "output_type": "stream",
     "text": [
      "Epoch 10/10, Train Loss: 0.1581704194698298\n"
     ]
    },
    {
     "data": {
      "application/vnd.jupyter.widget-view+json": {
       "model_id": "8f2a60215c0c4b0fa2c2c535682b2745",
       "version_major": 2,
       "version_minor": 0
      },
      "text/plain": [
       "Validation:   0%|          | 0/163 [00:00<?, ?it/s]"
      ]
     },
     "metadata": {},
     "output_type": "display_data"
    },
    {
     "name": "stdout",
     "output_type": "stream",
     "text": [
      "Epoch 10/10, Validation Loss: 0.18110445977125797, Validation Accuracy: 0.9493087557603687\n"
     ]
    },
    {
     "data": {
      "application/vnd.jupyter.widget-view+json": {
       "model_id": "bd62d7c3716245409ef587f3b14d7b7d",
       "version_major": 2,
       "version_minor": 0
      },
      "text/plain": [
       "Testing:   0%|          | 0/163 [00:00<?, ?it/s]"
      ]
     },
     "metadata": {},
     "output_type": "display_data"
    },
    {
     "name": "stdout",
     "output_type": "stream",
     "text": [
      "{'val_acc': [0.4116743471582181, 0.7649769585253456, 0.8740399385560675, 0.9201228878648233, 0.9354838709677419, 0.9431643625192012, 0.9585253456221198, 0.9508448540706606, 0.9431643625192012, 0.9493087557603687], 'val_loss': [2.038154107661335, 1.1153867105764845, 0.6558344930044713, 0.408972110667843, 0.3021633036297523, 0.24971103149414794, 0.2008755066506336, 0.19995995613237832, 0.21734087368004892, 0.18110445977125797], 'train_loss': [2.27822321750668, 1.5482482614878674, 0.8909215267253303, 0.5649012281505669, 0.3876734174449609, 0.2917154952076885, 0.22910732958217142, 0.18712450796324312, 0.27186225131798325, 0.1581704194698298], 'test_correct_in_batch': [4.0, 3.0, 3.0, 3.0, 4.0, 4.0, 3.0, 3.0, 3.0, 4.0, 4.0, 4.0, 4.0, 4.0, 4.0, 3.0, 3.0, 3.0, 3.0, 4.0, 4.0, 4.0, 3.0, 4.0, 4.0, 4.0, 4.0, 3.0, 4.0, 4.0, 4.0, 4.0, 4.0, 4.0, 4.0, 4.0, 4.0, 4.0, 4.0, 4.0, 4.0, 4.0, 3.0, 4.0, 4.0, 4.0, 4.0, 4.0, 3.0, 2.0, 4.0, 1.0, 4.0, 4.0, 4.0, 4.0, 4.0, 4.0, 4.0, 3.0, 4.0, 4.0, 3.0, 4.0, 3.0, 4.0, 4.0, 3.0, 3.0, 3.0, 2.0, 4.0, 4.0, 2.0, 4.0, 3.0, 4.0, 4.0, 4.0, 4.0, 4.0, 4.0, 3.0, 4.0, 4.0, 3.0, 4.0, 3.0, 4.0, 4.0, 3.0, 4.0, 2.0, 4.0, 4.0, 4.0, 4.0, 2.0, 3.0, 4.0, 3.0, 4.0, 4.0, 4.0, 4.0, 4.0, 4.0, 4.0, 4.0, 4.0, 4.0, 4.0, 4.0, 4.0, 4.0, 4.0, 3.0, 4.0, 3.0, 4.0, 4.0, 3.0, 3.0, 4.0, 3.0, 4.0, 4.0, 4.0, 4.0, 4.0, 4.0, 4.0, 4.0, 4.0, 4.0, 4.0, 4.0, 4.0, 4.0, 4.0, 4.0, 3.0, 3.0, 4.0, 4.0, 4.0, 3.0, 4.0, 2.0, 4.0, 4.0, 3.0, 4.0, 4.0, 3.0, 4.0, 4.0, 2.0, 4.0, 4.0, 4.0, 4.0, 3.0], 'test_losses': [0.033988624811172485, 0.31333738565444946, 0.5534623861312866, 0.28586703538894653, 0.018401028588414192, 0.021874576807022095, 0.4632495641708374, 0.39336851239204407, 0.5499565005302429, 0.03552239015698433, 0.025343894958496094, 0.0505254901945591, 0.3121347725391388, 0.03375382348895073, 0.01838388852775097, 1.002905249595642, 0.5897080302238464, 0.4640966057777405, 1.337167501449585, 0.1022094190120697, 0.05158853903412819, 0.1045040488243103, 0.46693864464759827, 0.06841778755187988, 0.06717842072248459, 0.017939627170562744, 0.14298683404922485, 0.6024766564369202, 0.09634087234735489, 0.14202600717544556, 0.3541620969772339, 0.04012767970561981, 0.031841032207012177, 0.015433939173817635, 0.022106677293777466, 0.054684482514858246, 0.01721561700105667, 0.027209391817450523, 0.032292693853378296, 0.13164545595645905, 0.05765911936759949, 0.02784079872071743, 0.5617762207984924, 0.10635575652122498, 0.05651494860649109, 0.02622073143720627, 0.06291838735342026, 0.15135520696640015, 0.27077630162239075, 1.470457911491394, 0.1549614518880844, 2.7492456436157227, 0.042156387120485306, 0.08206863701343536, 0.0687735304236412, 0.020348627120256424, 0.03905567154288292, 0.022720426321029663, 0.03722451999783516, 0.9002562761306763, 0.0279112346470356, 0.03675548732280731, 0.44348472356796265, 0.01890231855213642, 0.32950225472450256, 0.096636563539505, 0.05245059356093407, 1.34116792678833, 0.6403142809867859, 0.5831457376480103, 1.289215326309204, 0.015253481455147266, 0.03488343209028244, 1.0487924814224243, 0.03431493788957596, 0.6509630084037781, 0.0321575365960598, 0.023756999522447586, 0.20628802478313446, 0.12033738195896149, 0.20253466069698334, 0.1547461599111557, 0.44351375102996826, 0.02228240668773651, 0.0688660740852356, 0.6297149062156677, 0.11383077502250671, 0.6323855519294739, 0.100114606320858, 0.30280423164367676, 0.5176212787628174, 0.17036256194114685, 1.919129729270935, 0.036025434732437134, 0.044733546674251556, 0.035133056342601776, 0.023114385083317757, 2.358212947845459, 0.25729337334632874, 0.02085278183221817, 0.7773506045341492, 0.01721857115626335, 0.04255091771483421, 0.03662758320569992, 0.02424762398004532, 0.047394994646310806, 0.04755663871765137, 0.03787325322628021, 0.03829147294163704, 0.02063704840838909, 0.023226391524076462, 0.1025422140955925, 0.046385157853364944, 0.027444615960121155, 0.045405756682157516, 0.04091422259807587, 0.4277060031890869, 0.023401271551847458, 0.349569171667099, 0.18523237109184265, 0.03414040803909302, 0.6095514893531799, 0.4829241633415222, 0.045333798974752426, 0.9025609493255615, 0.06151990592479706, 0.06567495316267014, 0.02466844581067562, 0.056441932916641235, 0.08652707934379578, 0.01854516565799713, 0.06318016350269318, 0.027577806264162064, 0.19498339295387268, 0.04373268038034439, 0.15314918756484985, 0.0714699849486351, 0.026663828641176224, 0.14184428751468658, 0.1550404280424118, 0.027815470471978188, 0.2983134388923645, 0.6579615473747253, 0.057572998106479645, 0.06806188076734543, 0.5223067998886108, 0.43397489190101624, 0.09533914178609848, 1.1469383239746094, 0.03646131232380867, 0.03185359388589859, 0.5999128222465515, 0.02117212861776352, 0.04291951656341553, 0.3956766426563263, 0.03716256469488144, 0.02956794574856758, 1.0367631912231445, 0.09518080204725266, 0.044901683926582336, 0.01904209703207016, 0.029751982539892197, 0.07748104631900787], 'test_loss': 0.26082088005803294, 'test_batch_lens': [4, 4, 4, 4, 4, 4, 4, 4, 4, 4, 4, 4, 4, 4, 4, 4, 4, 4, 4, 4, 4, 4, 4, 4, 4, 4, 4, 4, 4, 4, 4, 4, 4, 4, 4, 4, 4, 4, 4, 4, 4, 4, 4, 4, 4, 4, 4, 4, 4, 4, 4, 4, 4, 4, 4, 4, 4, 4, 4, 4, 4, 4, 4, 4, 4, 4, 4, 4, 4, 4, 4, 4, 4, 4, 4, 4, 4, 4, 4, 4, 4, 4, 4, 4, 4, 4, 4, 4, 4, 4, 4, 4, 4, 4, 4, 4, 4, 4, 4, 4, 4, 4, 4, 4, 4, 4, 4, 4, 4, 4, 4, 4, 4, 4, 4, 4, 4, 4, 4, 4, 4, 4, 4, 4, 4, 4, 4, 4, 4, 4, 4, 4, 4, 4, 4, 4, 4, 4, 4, 4, 4, 4, 4, 4, 4, 4, 4, 4, 4, 4, 4, 4, 4, 4, 4, 4, 4, 4, 4, 4, 4, 4, 3], 'test_accuracy': 0.9170506912442397, 'predictions': [7, 4, 1, 10, 7, 1, 8, 2, 0, 2, 4, 7, 1, 9, 8, 0, 9, 6, 4, 9, 8, 10, 1, 4, 6, 6, 8, 6, 6, 8, 8, 1, 1, 2, 6, 3, 10, 5, 5, 0, 10, 3, 2, 10, 7, 8, 4, 3, 3, 8, 9, 4, 3, 4, 6, 1, 1, 9, 1, 10, 10, 6, 2, 6, 5, 9, 8, 5, 8, 3, 3, 1, 8, 3, 1, 8, 6, 8, 9, 2, 3, 1, 3, 1, 5, 5, 1, 8, 0, 9, 9, 10, 10, 7, 1, 5, 1, 8, 2, 7, 5, 1, 10, 6, 10, 8, 3, 9, 10, 4, 7, 8, 0, 3, 7, 6, 0, 8, 0, 0, 4, 8, 7, 6, 5, 1, 7, 9, 6, 7, 4, 0, 10, 10, 7, 9, 4, 1, 9, 0, 10, 3, 3, 9, 4, 7, 4, 7, 2, 10, 2, 4, 10, 10, 1, 0, 10, 5, 4, 7, 8, 9, 10, 4, 2, 3, 10, 5, 8, 0, 8, 0, 10, 7, 6, 8, 0, 8, 1, 2, 6, 3, 5, 3, 9, 3, 4, 8, 3, 2, 0, 2, 0, 9, 9, 5, 3, 2, 5, 9, 8, 1, 6, 1, 4, 9, 9, 9, 3, 9, 5, 6, 2, 5, 4, 5, 2, 10, 8, 4, 7, 3, 0, 6, 7, 0, 5, 7, 1, 0, 1, 6, 3, 7, 7, 2, 10, 9, 3, 10, 9, 4, 3, 3, 1, 7, 8, 5, 2, 4, 10, 3, 1, 2, 3, 10, 6, 9, 9, 3, 3, 10, 7, 1, 5, 1, 8, 1, 3, 7, 3, 10, 3, 5, 1, 2, 7, 6, 9, 7, 3, 8, 5, 10, 2, 4, 2, 5, 5, 3, 8, 0, 2, 6, 3, 1, 2, 7, 3, 2, 4, 10, 3, 6, 6, 0, 2, 7, 10, 1, 7, 6, 9, 2, 5, 2, 0, 9, 4, 3, 2, 6, 7, 9, 1, 8, 8, 5, 2, 9, 4, 8, 1, 8, 4, 7, 1, 2, 7, 2, 5, 0, 4, 10, 5, 0, 5, 7, 3, 6, 9, 6, 4, 9, 5, 1, 8, 3, 7, 7, 4, 9, 6, 10, 8, 9, 8, 5, 2, 9, 4, 0, 5, 0, 9, 10, 5, 0, 3, 7, 3, 1, 8, 2, 2, 4, 4, 9, 3, 7, 5, 8, 7, 4, 0, 0, 5, 6, 9, 9, 7, 7, 3, 9, 1, 10, 10, 5, 5, 7, 3, 3, 5, 10, 9, 7, 2, 3, 1, 1, 0, 5, 4, 1, 2, 0, 1, 8, 8, 4, 8, 3, 8, 0, 3, 2, 2, 3, 7, 10, 10, 4, 10, 6, 6, 5, 0, 9, 8, 2, 1, 9, 9, 5, 9, 9, 1, 3, 5, 7, 9, 10, 1, 8, 1, 6, 3, 4, 2, 4, 10, 1, 1, 2, 10, 2, 4, 8, 2, 5, 9, 9, 0, 7, 6, 9, 8, 0, 2, 2, 6, 9, 3, 7, 2, 4, 9, 0, 1, 3, 9, 6, 3, 4, 6, 3, 3, 5, 0, 1, 7, 10, 4, 10, 2, 5, 5, 7, 5, 1, 4, 5, 0, 4, 5, 4, 9, 5, 9, 7, 7, 2, 0, 2, 4, 3, 2, 9, 1, 8, 9, 1, 8, 8, 2, 0, 9, 7, 6, 9, 6, 9, 0, 10, 8, 8, 4, 1, 7, 3, 2, 7, 9, 6, 8, 8, 9, 0, 8, 2, 8, 5, 2, 10, 8, 7, 9, 6, 8, 6, 6, 4, 7, 9, 7, 9, 4, 9, 3, 3, 7, 4, 1, 9, 4, 4, 0, 7, 8, 0, 7, 4, 5, 5, 4, 6, 6, 6, 1, 5, 3, 0, 1, 4, 7, 1, 9, 4, 6, 2, 10, 7, 1, 0, 3, 9, 1, 4, 3, 2, 7, 0, 9, 9, 4, 0, 2, 3, 7, 8, 6, 8, 1, 7, 4, 0, 2, 0, 8, 6, 7], 'real_labels': [7, 4, 1, 10, 7, 1, 8, 8, 0, 8, 4, 7, 1, 9, 3, 0, 9, 6, 4, 9, 8, 10, 1, 4, 6, 8, 8, 6, 6, 8, 2, 1, 1, 9, 6, 3, 10, 5, 5, 0, 10, 3, 2, 10, 7, 8, 4, 3, 3, 8, 9, 4, 3, 4, 6, 1, 1, 9, 1, 10, 10, 6, 1, 6, 5, 5, 8, 5, 8, 1, 3, 1, 1, 3, 1, 8, 6, 8, 9, 2, 3, 1, 3, 1, 5, 5, 1, 8, 0, 4, 9, 10, 10, 7, 1, 5, 1, 8, 2, 7, 5, 1, 10, 6, 10, 8, 3, 9, 10, 4, 7, 1, 0, 3, 7, 6, 0, 8, 0, 0, 4, 8, 7, 6, 5, 1, 7, 9, 6, 7, 4, 0, 10, 10, 7, 9, 4, 1, 9, 0, 10, 3, 3, 9, 4, 7, 4, 7, 2, 10, 2, 4, 10, 10, 1, 0, 10, 5, 4, 7, 8, 9, 10, 4, 2, 3, 10, 5, 8, 0, 9, 0, 10, 7, 6, 8, 0, 8, 1, 2, 6, 3, 5, 3, 9, 3, 4, 8, 3, 2, 0, 2, 0, 9, 9, 8, 1, 3, 5, 9, 8, 1, 6, 1, 4, 3, 4, 8, 3, 9, 5, 6, 2, 5, 4, 5, 2, 10, 8, 4, 7, 3, 0, 6, 7, 0, 5, 7, 1, 0, 1, 6, 3, 7, 7, 2, 10, 4, 3, 10, 9, 4, 3, 3, 1, 7, 8, 5, 2, 4, 10, 1, 1, 2, 3, 10, 6, 9, 5, 3, 3, 10, 7, 1, 5, 1, 8, 1, 8, 7, 3, 10, 3, 5, 2, 2, 7, 3, 9, 7, 6, 8, 8, 10, 2, 4, 2, 5, 5, 3, 8, 0, 8, 6, 0, 1, 2, 7, 3, 2, 4, 10, 8, 6, 6, 0, 2, 7, 10, 1, 7, 6, 9, 2, 5, 2, 0, 9, 4, 3, 2, 6, 7, 9, 1, 8, 8, 5, 2, 9, 4, 1, 1, 8, 4, 7, 1, 2, 7, 2, 5, 0, 7, 10, 5, 0, 5, 7, 3, 6, 4, 6, 4, 9, 5, 1, 8, 3, 7, 7, 4, 4, 6, 10, 8, 9, 8, 5, 6, 7, 4, 0, 5, 0, 9, 10, 5, 0, 3, 7, 3, 1, 8, 2, 2, 4, 4, 9, 3, 7, 9, 9, 9, 4, 0, 0, 5, 6, 9, 9, 7, 7, 6, 9, 1, 10, 10, 5, 5, 7, 3, 3, 5, 10, 9, 7, 2, 3, 1, 1, 0, 5, 4, 1, 2, 0, 1, 8, 8, 4, 8, 3, 8, 0, 3, 2, 2, 3, 7, 10, 10, 4, 10, 6, 6, 5, 0, 9, 8, 2, 1, 9, 9, 5, 9, 9, 1, 3, 5, 7, 9, 10, 1, 8, 1, 6, 3, 8, 2, 4, 10, 1, 1, 2, 8, 2, 4, 8, 2, 5, 9, 9, 0, 7, 6, 9, 2, 0, 2, 8, 6, 9, 3, 7, 2, 4, 3, 0, 1, 3, 9, 6, 3, 4, 6, 3, 3, 5, 0, 1, 7, 10, 4, 10, 2, 5, 5, 7, 5, 1, 4, 5, 0, 4, 5, 4, 9, 5, 9, 7, 7, 2, 0, 2, 4, 3, 2, 9, 1, 8, 9, 1, 8, 8, 2, 0, 9, 7, 6, 9, 6, 9, 0, 10, 8, 8, 4, 1, 7, 3, 2, 7, 9, 6, 7, 8, 9, 0, 8, 2, 10, 5, 2, 10, 8, 7, 9, 6, 8, 6, 6, 4, 7, 9, 7, 8, 4, 9, 3, 3, 7, 4, 1, 7, 5, 4, 0, 7, 8, 0, 7, 4, 5, 5, 4, 8, 6, 6, 1, 5, 3, 0, 1, 4, 7, 1, 9, 4, 6, 6, 10, 7, 1, 0, 3, 9, 1, 4, 3, 10, 7, 8, 9, 9, 4, 0, 2, 3, 7, 8, 6, 8, 1, 7, 4, 0, 2, 0, 8, 6, 7], 'label_to_index': {'down': 0, 'go': 1, 'left': 2, 'no': 3, 'off': 4, 'on': 5, 'right': 6, 'stop': 7, 'unknown': 8, 'up': 9, 'yes': 10}}\n",
      "Test Loss: 0.26082088005803294, Test Accuracy: 0.9170506912442397\n"
     ]
    },
    {
     "data": {
      "application/vnd.jupyter.widget-view+json": {
       "model_id": "b3948d9338c54d57a517de7276ee4358",
       "version_major": 2,
       "version_minor": 0
      },
      "text/plain": [
       "Training loop (5 times):   0%|          | 0/5 [00:00<?, ?it/s]"
      ]
     },
     "metadata": {},
     "output_type": "display_data"
    },
    {
     "name": "stderr",
     "output_type": "stream",
     "text": [
      "Some weights of the model checkpoint at superb/wav2vec2-base-superb-ks were not used when initializing Wav2Vec2ForSequenceClassification: ['wav2vec2.encoder.pos_conv_embed.conv.weight_g', 'wav2vec2.encoder.pos_conv_embed.conv.weight_v']\n",
      "- This IS expected if you are initializing Wav2Vec2ForSequenceClassification from the checkpoint of a model trained on another task or with another architecture (e.g. initializing a BertForSequenceClassification model from a BertForPreTraining model).\n",
      "- This IS NOT expected if you are initializing Wav2Vec2ForSequenceClassification from the checkpoint of a model that you expect to be exactly identical (initializing a BertForSequenceClassification model from a BertForSequenceClassification model).\n",
      "Some weights of Wav2Vec2ForSequenceClassification were not initialized from the model checkpoint at superb/wav2vec2-base-superb-ks and are newly initialized: ['wav2vec2.encoder.pos_conv_embed.conv.parametrizations.weight.original0', 'wav2vec2.encoder.pos_conv_embed.conv.parametrizations.weight.original1']\n",
      "You should probably TRAIN this model on a down-stream task to be able to use it for predictions and inference.\n"
     ]
    },
    {
     "data": {
      "application/vnd.jupyter.widget-view+json": {
       "model_id": "fd5bcf22781d498ab2420e5fc34cc645",
       "version_major": 2,
       "version_minor": 0
      },
      "text/plain": [
       "Epoch 1/10:   0%|          | 0/6187 [00:00<?, ?it/s]"
      ]
     },
     "metadata": {},
     "output_type": "display_data"
    },
    {
     "name": "stdout",
     "output_type": "stream",
     "text": [
      "Epoch 1/10, Train Loss: 1.6232081951685786\n"
     ]
    },
    {
     "data": {
      "application/vnd.jupyter.widget-view+json": {
       "model_id": "c6680d9cf75b4f4fa6489e220c157a51",
       "version_major": 2,
       "version_minor": 0
      },
      "text/plain": [
       "Validation:   0%|          | 0/163 [00:00<?, ?it/s]"
      ]
     },
     "metadata": {},
     "output_type": "display_data"
    },
    {
     "name": "stdout",
     "output_type": "stream",
     "text": [
      "Epoch 1/10, Validation Loss: 0.9158630298873398, Validation Accuracy: 0.7142857142857143\n"
     ]
    },
    {
     "data": {
      "application/vnd.jupyter.widget-view+json": {
       "model_id": "dfa4e51128ac480abdf21953a898130d",
       "version_major": 2,
       "version_minor": 0
      },
      "text/plain": [
       "Epoch 2/10:   0%|          | 0/6187 [00:00<?, ?it/s]"
      ]
     },
     "metadata": {},
     "output_type": "display_data"
    },
    {
     "name": "stdout",
     "output_type": "stream",
     "text": [
      "Epoch 2/10, Train Loss: 0.6461331408306943\n"
     ]
    },
    {
     "data": {
      "application/vnd.jupyter.widget-view+json": {
       "model_id": "6547173a4a0c45d899ef87d5591996e9",
       "version_major": 2,
       "version_minor": 0
      },
      "text/plain": [
       "Validation:   0%|          | 0/163 [00:00<?, ?it/s]"
      ]
     },
     "metadata": {},
     "output_type": "display_data"
    },
    {
     "name": "stdout",
     "output_type": "stream",
     "text": [
      "Epoch 2/10, Validation Loss: 0.5254388236000769, Validation Accuracy: 0.8556067588325653\n"
     ]
    },
    {
     "data": {
      "application/vnd.jupyter.widget-view+json": {
       "model_id": "e40e256f988143ffa694d38de74516b5",
       "version_major": 2,
       "version_minor": 0
      },
      "text/plain": [
       "Epoch 3/10:   0%|          | 0/6187 [00:00<?, ?it/s]"
      ]
     },
     "metadata": {},
     "output_type": "display_data"
    },
    {
     "name": "stdout",
     "output_type": "stream",
     "text": [
      "Epoch 3/10, Train Loss: 0.3500830070503991\n"
     ]
    },
    {
     "data": {
      "application/vnd.jupyter.widget-view+json": {
       "model_id": "0db62404c440457ab8505910a3294155",
       "version_major": 2,
       "version_minor": 0
      },
      "text/plain": [
       "Validation:   0%|          | 0/163 [00:00<?, ?it/s]"
      ]
     },
     "metadata": {},
     "output_type": "display_data"
    },
    {
     "name": "stdout",
     "output_type": "stream",
     "text": [
      "Epoch 3/10, Validation Loss: 0.3435900843662261, Validation Accuracy: 0.8924731182795699\n"
     ]
    },
    {
     "data": {
      "application/vnd.jupyter.widget-view+json": {
       "model_id": "d81beafffaee495e81cf545f1b2ee25d",
       "version_major": 2,
       "version_minor": 0
      },
      "text/plain": [
       "Epoch 4/10:   0%|          | 0/6187 [00:00<?, ?it/s]"
      ]
     },
     "metadata": {},
     "output_type": "display_data"
    },
    {
     "name": "stdout",
     "output_type": "stream",
     "text": [
      "Epoch 4/10, Train Loss: 0.24056734253049675\n"
     ]
    },
    {
     "data": {
      "application/vnd.jupyter.widget-view+json": {
       "model_id": "276db580dbe3427e903e8b2328b01021",
       "version_major": 2,
       "version_minor": 0
      },
      "text/plain": [
       "Validation:   0%|          | 0/163 [00:00<?, ?it/s]"
      ]
     },
     "metadata": {},
     "output_type": "display_data"
    },
    {
     "name": "stdout",
     "output_type": "stream",
     "text": [
      "Epoch 4/10, Validation Loss: 0.22929206584470255, Validation Accuracy: 0.9324116743471582\n"
     ]
    },
    {
     "data": {
      "application/vnd.jupyter.widget-view+json": {
       "model_id": "897cc99b19e64c85998dbfd752fc5467",
       "version_major": 2,
       "version_minor": 0
      },
      "text/plain": [
       "Epoch 5/10:   0%|          | 0/6187 [00:00<?, ?it/s]"
      ]
     },
     "metadata": {},
     "output_type": "display_data"
    },
    {
     "name": "stdout",
     "output_type": "stream",
     "text": [
      "Epoch 5/10, Train Loss: 0.18359393376745614\n"
     ]
    },
    {
     "data": {
      "application/vnd.jupyter.widget-view+json": {
       "model_id": "12450b3114854bc1a70c756c594af728",
       "version_major": 2,
       "version_minor": 0
      },
      "text/plain": [
       "Validation:   0%|          | 0/163 [00:00<?, ?it/s]"
      ]
     },
     "metadata": {},
     "output_type": "display_data"
    },
    {
     "name": "stdout",
     "output_type": "stream",
     "text": [
      "Epoch 5/10, Validation Loss: 0.18226587350337062, Validation Accuracy: 0.9416282642089093\n"
     ]
    },
    {
     "data": {
      "application/vnd.jupyter.widget-view+json": {
       "model_id": "7f18bb88b2f5471eb0b2b5a08a198213",
       "version_major": 2,
       "version_minor": 0
      },
      "text/plain": [
       "Epoch 6/10:   0%|          | 0/6187 [00:00<?, ?it/s]"
      ]
     },
     "metadata": {},
     "output_type": "display_data"
    },
    {
     "name": "stdout",
     "output_type": "stream",
     "text": [
      "Epoch 6/10, Train Loss: 0.14428985928150964\n"
     ]
    },
    {
     "data": {
      "application/vnd.jupyter.widget-view+json": {
       "model_id": "d80d50c66a2e4e34b9c16da50bce4066",
       "version_major": 2,
       "version_minor": 0
      },
      "text/plain": [
       "Validation:   0%|          | 0/163 [00:00<?, ?it/s]"
      ]
     },
     "metadata": {},
     "output_type": "display_data"
    },
    {
     "name": "stdout",
     "output_type": "stream",
     "text": [
      "Epoch 6/10, Validation Loss: 0.17195621466089506, Validation Accuracy: 0.9447004608294931\n"
     ]
    },
    {
     "data": {
      "application/vnd.jupyter.widget-view+json": {
       "model_id": "674b72dd666347eba5689e3d40b99d8f",
       "version_major": 2,
       "version_minor": 0
      },
      "text/plain": [
       "Epoch 7/10:   0%|          | 0/6187 [00:00<?, ?it/s]"
      ]
     },
     "metadata": {},
     "output_type": "display_data"
    },
    {
     "name": "stdout",
     "output_type": "stream",
     "text": [
      "Epoch 7/10, Train Loss: 0.11156043221715725\n"
     ]
    },
    {
     "data": {
      "application/vnd.jupyter.widget-view+json": {
       "model_id": "78b1c4428adc4c2cbff7a89dfa5c4aaf",
       "version_major": 2,
       "version_minor": 0
      },
      "text/plain": [
       "Validation:   0%|          | 0/163 [00:00<?, ?it/s]"
      ]
     },
     "metadata": {},
     "output_type": "display_data"
    },
    {
     "name": "stdout",
     "output_type": "stream",
     "text": [
      "Epoch 7/10, Validation Loss: 0.16956061709877904, Validation Accuracy: 0.9477726574500768\n"
     ]
    },
    {
     "data": {
      "application/vnd.jupyter.widget-view+json": {
       "model_id": "04ff38c4c7f14487949549c72207d503",
       "version_major": 2,
       "version_minor": 0
      },
      "text/plain": [
       "Epoch 8/10:   0%|          | 0/6187 [00:00<?, ?it/s]"
      ]
     },
     "metadata": {},
     "output_type": "display_data"
    },
    {
     "name": "stdout",
     "output_type": "stream",
     "text": [
      "Epoch 8/10, Train Loss: 0.10172857428977837\n"
     ]
    },
    {
     "data": {
      "application/vnd.jupyter.widget-view+json": {
       "model_id": "33ced9b510a94bf8840ffe480ec7a865",
       "version_major": 2,
       "version_minor": 0
      },
      "text/plain": [
       "Validation:   0%|          | 0/163 [00:00<?, ?it/s]"
      ]
     },
     "metadata": {},
     "output_type": "display_data"
    },
    {
     "name": "stdout",
     "output_type": "stream",
     "text": [
      "Epoch 8/10, Validation Loss: 0.1903308730525503, Validation Accuracy: 0.9385560675883257\n"
     ]
    },
    {
     "data": {
      "application/vnd.jupyter.widget-view+json": {
       "model_id": "b6bb9d51de3d4121b48ddf1f209624cf",
       "version_major": 2,
       "version_minor": 0
      },
      "text/plain": [
       "Epoch 9/10:   0%|          | 0/6187 [00:00<?, ?it/s]"
      ]
     },
     "metadata": {},
     "output_type": "display_data"
    },
    {
     "name": "stdout",
     "output_type": "stream",
     "text": [
      "Epoch 9/10, Train Loss: 0.07998435861753352\n"
     ]
    },
    {
     "data": {
      "application/vnd.jupyter.widget-view+json": {
       "model_id": "a9ec42c7ef4540c5b2834d94fb129186",
       "version_major": 2,
       "version_minor": 0
      },
      "text/plain": [
       "Validation:   0%|          | 0/163 [00:00<?, ?it/s]"
      ]
     },
     "metadata": {},
     "output_type": "display_data"
    },
    {
     "name": "stdout",
     "output_type": "stream",
     "text": [
      "Epoch 9/10, Validation Loss: 0.17890505907907825, Validation Accuracy: 0.9493087557603687\n"
     ]
    },
    {
     "data": {
      "application/vnd.jupyter.widget-view+json": {
       "model_id": "4c0867b5a26c4652804f19e1b3f8785f",
       "version_major": 2,
       "version_minor": 0
      },
      "text/plain": [
       "Epoch 10/10:   0%|          | 0/6187 [00:00<?, ?it/s]"
      ]
     },
     "metadata": {},
     "output_type": "display_data"
    },
    {
     "name": "stdout",
     "output_type": "stream",
     "text": [
      "Epoch 10/10, Train Loss: 0.06522590172256437\n"
     ]
    },
    {
     "data": {
      "application/vnd.jupyter.widget-view+json": {
       "model_id": "6c214a7cbe1d4c3394a12676fd0fe194",
       "version_major": 2,
       "version_minor": 0
      },
      "text/plain": [
       "Validation:   0%|          | 0/163 [00:00<?, ?it/s]"
      ]
     },
     "metadata": {},
     "output_type": "display_data"
    },
    {
     "name": "stdout",
     "output_type": "stream",
     "text": [
      "Epoch 10/10, Validation Loss: 0.2357003490917145, Validation Accuracy: 0.9385560675883257\n"
     ]
    },
    {
     "data": {
      "application/vnd.jupyter.widget-view+json": {
       "model_id": "89ee66fd335b4ace8f077c4688179d55",
       "version_major": 2,
       "version_minor": 0
      },
      "text/plain": [
       "Testing:   0%|          | 0/163 [00:00<?, ?it/s]"
      ]
     },
     "metadata": {},
     "output_type": "display_data"
    },
    {
     "name": "stdout",
     "output_type": "stream",
     "text": [
      "{'val_acc': [0.7142857142857143, 0.8556067588325653, 0.8924731182795699, 0.9324116743471582, 0.9416282642089093, 0.9447004608294931, 0.9477726574500768, 0.9385560675883257, 0.9493087557603687, 0.9385560675883257], 'val_loss': [0.9158630298873398, 0.5254388236000769, 0.3435900843662261, 0.22929206584470255, 0.18226587350337062, 0.17195621466089506, 0.16956061709877904, 0.1903308730525503, 0.17890505907907825, 0.2357003490917145], 'train_loss': [1.6232081951685786, 0.6461331408306943, 0.3500830070503991, 0.24056734253049675, 0.18359393376745614, 0.14428985928150964, 0.11156043221715725, 0.10172857428977837, 0.07998435861753352, 0.06522590172256437], 'test_correct_in_batch': [4.0, 4.0, 3.0, 4.0, 4.0, 4.0, 4.0, 3.0, 3.0, 4.0, 4.0, 4.0, 3.0, 4.0, 4.0, 3.0, 3.0, 3.0, 3.0, 4.0, 2.0, 4.0, 4.0, 4.0, 4.0, 4.0, 3.0, 3.0, 4.0, 4.0, 4.0, 4.0, 4.0, 4.0, 4.0, 4.0, 4.0, 4.0, 4.0, 4.0, 4.0, 3.0, 3.0, 4.0, 4.0, 4.0, 4.0, 4.0, 4.0, 3.0, 3.0, 2.0, 4.0, 4.0, 3.0, 4.0, 4.0, 4.0, 3.0, 3.0, 4.0, 4.0, 4.0, 4.0, 4.0, 4.0, 4.0, 3.0, 3.0, 3.0, 3.0, 4.0, 4.0, 4.0, 4.0, 4.0, 4.0, 4.0, 3.0, 4.0, 4.0, 4.0, 4.0, 4.0, 4.0, 4.0, 4.0, 4.0, 4.0, 4.0, 4.0, 4.0, 3.0, 4.0, 4.0, 4.0, 4.0, 2.0, 4.0, 4.0, 4.0, 4.0, 4.0, 3.0, 4.0, 4.0, 4.0, 4.0, 4.0, 4.0, 4.0, 3.0, 4.0, 4.0, 4.0, 4.0, 4.0, 4.0, 4.0, 4.0, 4.0, 4.0, 4.0, 4.0, 3.0, 3.0, 4.0, 3.0, 4.0, 2.0, 4.0, 4.0, 4.0, 4.0, 4.0, 4.0, 4.0, 3.0, 4.0, 3.0, 4.0, 4.0, 3.0, 4.0, 4.0, 2.0, 4.0, 4.0, 4.0, 4.0, 4.0, 4.0, 3.0, 4.0, 4.0, 4.0, 4.0, 3.0, 3.0, 4.0, 4.0, 4.0, 3.0], 'test_losses': [0.0016590291634202003, 0.0013064064551144838, 0.8750455379486084, 0.05973062664270401, 7.444187212968245e-05, 0.001492208568379283, 0.1536557376384735, 0.4786827564239502, 1.0371131896972656, 0.00020933637279085815, 0.00034974701702594757, 0.0006164577789604664, 0.5773270130157471, 0.0009907846106216311, 0.0026734978891909122, 2.813947916030884, 0.5718350410461426, 0.38477227091789246, 1.1312519311904907, 0.040324971079826355, 1.5706818103790283, 0.0018403975991532207, 0.08897311240434647, 0.0005993981030769646, 0.004359592217952013, 0.0010756759438663721, 0.6087104082107544, 0.982038676738739, 0.059310391545295715, 0.0022974214516580105, 0.0390104278922081, 0.0004938661004416645, 0.0019634892232716084, 8.850884478306398e-05, 0.030018050223588943, 0.00017440947704017162, 0.0015288109425455332, 0.06605864316225052, 0.00042683325591497123, 0.00038732372922822833, 0.007512855809181929, 0.797146201133728, 0.4808737337589264, 0.005425408016890287, 0.0007537165656685829, 0.003198988502845168, 0.0016577157657593489, 0.14422650635242462, 0.001912362058646977, 1.0551644563674927, 1.3507757186889648, 4.137079238891602, 0.0029442557133734226, 0.001407391275279224, 0.7541750073432922, 7.035990711301565e-05, 0.007246395107358694, 0.0002626629429869354, 0.4394923746585846, 1.7125780582427979, 0.0010845288634300232, 0.0009089219965972006, 0.026032397523522377, 0.002455671550706029, 0.004563822411000729, 0.0028165921103209257, 0.010345366783440113, 0.935345470905304, 0.7160740494728088, 0.8538958430290222, 2.03373384475708, 0.003948918543756008, 0.029709545895457268, 0.1393030434846878, 0.0008662501350045204, 0.0010890507837757468, 0.001724184607155621, 8.776236063567922e-05, 0.7220954298973083, 0.005860471166670322, 0.00505538284778595, 0.0008685124921612442, 0.0007994791376404464, 0.0021342604886740446, 0.09738022089004517, 0.13807624578475952, 0.0005249952082522213, 0.1952945590019226, 0.0009946351638063788, 0.17151817679405212, 0.018195567652583122, 0.004333356395363808, 2.0243782997131348, 0.005131731741130352, 0.005102889612317085, 0.0005097732064314187, 0.003967896569520235, 3.3676652908325195, 0.00062165706185624, 0.00021897505212109536, 0.2062794268131256, 0.023869602009654045, 0.0025191791355609894, 0.5625282526016235, 0.0003543276689015329, 0.0009134329156950116, 0.0003749143797904253, 0.0015385393053293228, 0.003332901280373335, 0.00017652790120337158, 0.00012352122575975955, 1.1111129522323608, 0.0010050471173599362, 0.00618137838318944, 0.00425424100831151, 0.007391626015305519, 0.10273944586515427, 0.0017124493606388569, 0.0068283299915492535, 0.09810154139995575, 0.009386490099132061, 0.4543963074684143, 0.0005486480076797307, 0.0016424446366727352, 1.1717233657836914, 0.33319205045700073, 0.041907764971256256, 0.2749699354171753, 0.03270979970693588, 2.022538661956787, 0.13319902122020721, 0.010310259647667408, 0.0012905426556244493, 0.07200783491134644, 0.0007417784072458744, 0.0011611244408413768, 0.00014071418263483793, 0.6036802530288696, 0.030414562672376633, 0.3439573049545288, 0.00013843046326655895, 0.003815461415797472, 0.45093005895614624, 0.0036566515918821096, 0.0006182572687976062, 0.626257598400116, 0.18531744182109833, 0.03635905310511589, 0.16588030755519867, 0.00019806480850093067, 0.0018132210243493319, 0.032508619129657745, 0.24406693875789642, 0.000633364834357053, 0.010984272696077824, 0.027610277757048607, 0.0010143759427592158, 0.31751033663749695, 2.065993547439575, 0.00033894384978339076, 0.0004677798133343458, 0.0006100055179558694, 0.0003749649040400982], 'test_loss': 0.2815341540046541, 'test_batch_lens': [4, 4, 4, 4, 4, 4, 4, 4, 4, 4, 4, 4, 4, 4, 4, 4, 4, 4, 4, 4, 4, 4, 4, 4, 4, 4, 4, 4, 4, 4, 4, 4, 4, 4, 4, 4, 4, 4, 4, 4, 4, 4, 4, 4, 4, 4, 4, 4, 4, 4, 4, 4, 4, 4, 4, 4, 4, 4, 4, 4, 4, 4, 4, 4, 4, 4, 4, 4, 4, 4, 4, 4, 4, 4, 4, 4, 4, 4, 4, 4, 4, 4, 4, 4, 4, 4, 4, 4, 4, 4, 4, 4, 4, 4, 4, 4, 4, 4, 4, 4, 4, 4, 4, 4, 4, 4, 4, 4, 4, 4, 4, 4, 4, 4, 4, 4, 4, 4, 4, 4, 4, 4, 4, 4, 4, 4, 4, 4, 4, 4, 4, 4, 4, 4, 4, 4, 4, 4, 4, 4, 4, 4, 4, 4, 4, 4, 4, 4, 4, 4, 4, 4, 4, 4, 4, 4, 4, 4, 4, 4, 4, 4, 3], 'test_accuracy': 0.9324116743471582, 'predictions': [7, 4, 1, 10, 7, 1, 8, 8, 0, 10, 4, 7, 1, 9, 3, 0, 9, 6, 4, 9, 8, 10, 1, 4, 6, 8, 8, 6, 6, 8, 2, 3, 1, 1, 6, 3, 10, 5, 5, 0, 10, 3, 2, 10, 7, 8, 4, 3, 3, 8, 2, 4, 3, 4, 6, 1, 1, 9, 1, 10, 10, 6, 2, 6, 5, 9, 8, 5, 8, 3, 3, 1, 8, 3, 1, 8, 6, 8, 9, 2, 1, 1, 1, 1, 5, 5, 1, 8, 0, 4, 9, 10, 10, 7, 1, 5, 1, 8, 2, 7, 5, 1, 10, 6, 10, 7, 3, 9, 10, 4, 7, 6, 0, 3, 7, 6, 0, 8, 0, 0, 4, 8, 7, 6, 5, 1, 7, 9, 6, 7, 4, 0, 10, 10, 7, 9, 4, 1, 9, 0, 10, 3, 3, 9, 4, 7, 4, 7, 2, 10, 2, 4, 10, 10, 1, 0, 10, 5, 4, 7, 8, 9, 10, 4, 2, 0, 10, 5, 8, 0, 6, 0, 10, 7, 6, 8, 0, 8, 1, 2, 6, 3, 5, 3, 9, 3, 4, 8, 3, 2, 0, 2, 0, 9, 9, 8, 1, 8, 5, 9, 4, 1, 6, 1, 4, 5, 9, 8, 3, 9, 5, 6, 2, 5, 4, 5, 2, 10, 5, 4, 7, 3, 0, 6, 7, 0, 5, 7, 1, 0, 1, 6, 3, 7, 9, 2, 10, 9, 3, 10, 9, 4, 3, 3, 1, 7, 8, 5, 2, 4, 10, 1, 1, 2, 3, 10, 6, 9, 5, 3, 3, 10, 7, 1, 5, 1, 8, 1, 1, 7, 3, 10, 3, 5, 3, 2, 7, 9, 9, 7, 3, 8, 8, 10, 2, 4, 2, 5, 5, 3, 8, 0, 8, 6, 0, 1, 2, 7, 3, 2, 4, 10, 8, 6, 6, 0, 2, 7, 10, 1, 7, 6, 4, 2, 5, 2, 0, 9, 4, 3, 2, 6, 7, 9, 1, 8, 8, 5, 2, 9, 4, 1, 1, 8, 4, 7, 1, 2, 7, 2, 5, 0, 7, 10, 5, 0, 5, 7, 3, 6, 4, 6, 4, 9, 5, 1, 8, 3, 7, 7, 4, 4, 6, 10, 8, 9, 8, 5, 6, 9, 4, 0, 5, 0, 9, 10, 5, 0, 3, 7, 3, 1, 8, 2, 2, 4, 4, 9, 3, 7, 5, 6, 9, 4, 0, 0, 5, 6, 9, 9, 7, 7, 6, 9, 1, 10, 10, 5, 5, 7, 3, 3, 5, 10, 4, 7, 2, 3, 1, 1, 0, 5, 4, 1, 2, 0, 1, 8, 8, 4, 8, 3, 8, 0, 3, 2, 2, 3, 7, 10, 10, 4, 10, 6, 6, 5, 0, 6, 8, 2, 1, 9, 9, 5, 9, 9, 1, 3, 5, 7, 9, 10, 1, 8, 1, 6, 3, 8, 2, 4, 10, 1, 1, 2, 8, 2, 4, 8, 2, 5, 9, 9, 0, 7, 6, 9, 2, 0, 2, 8, 6, 9, 3, 7, 2, 4, 2, 0, 1, 3, 4, 6, 3, 4, 6, 3, 3, 5, 1, 1, 7, 10, 4, 10, 2, 5, 5, 7, 4, 3, 4, 5, 0, 4, 5, 4, 9, 5, 9, 7, 7, 2, 0, 2, 4, 3, 2, 9, 1, 8, 9, 1, 8, 8, 2, 0, 9, 7, 6, 7, 6, 9, 0, 10, 8, 8, 9, 1, 7, 3, 2, 7, 9, 6, 7, 8, 9, 0, 8, 2, 2, 5, 2, 10, 8, 7, 9, 6, 8, 6, 6, 9, 7, 4, 7, 8, 4, 9, 3, 3, 7, 4, 1, 7, 5, 4, 0, 7, 8, 0, 7, 4, 5, 5, 4, 8, 6, 6, 1, 5, 0, 0, 1, 4, 7, 1, 9, 4, 6, 6, 10, 7, 1, 0, 3, 9, 1, 4, 3, 2, 7, 8, 9, 9, 4, 1, 2, 3, 7, 8, 6, 8, 1, 7, 4, 0, 2, 0, 8, 6, 7], 'real_labels': [7, 4, 1, 10, 7, 1, 8, 8, 0, 8, 4, 7, 1, 9, 3, 0, 9, 6, 4, 9, 8, 10, 1, 4, 6, 8, 8, 6, 6, 8, 2, 1, 1, 9, 6, 3, 10, 5, 5, 0, 10, 3, 2, 10, 7, 8, 4, 3, 3, 8, 9, 4, 3, 4, 6, 1, 1, 9, 1, 10, 10, 6, 1, 6, 5, 5, 8, 5, 8, 1, 3, 1, 1, 3, 1, 8, 6, 8, 9, 2, 3, 1, 3, 1, 5, 5, 1, 8, 0, 4, 9, 10, 10, 7, 1, 5, 1, 8, 2, 7, 5, 1, 10, 6, 10, 8, 3, 9, 10, 4, 7, 1, 0, 3, 7, 6, 0, 8, 0, 0, 4, 8, 7, 6, 5, 1, 7, 9, 6, 7, 4, 0, 10, 10, 7, 9, 4, 1, 9, 0, 10, 3, 3, 9, 4, 7, 4, 7, 2, 10, 2, 4, 10, 10, 1, 0, 10, 5, 4, 7, 8, 9, 10, 4, 2, 3, 10, 5, 8, 0, 9, 0, 10, 7, 6, 8, 0, 8, 1, 2, 6, 3, 5, 3, 9, 3, 4, 8, 3, 2, 0, 2, 0, 9, 9, 8, 1, 3, 5, 9, 8, 1, 6, 1, 4, 3, 4, 8, 3, 9, 5, 6, 2, 5, 4, 5, 2, 10, 8, 4, 7, 3, 0, 6, 7, 0, 5, 7, 1, 0, 1, 6, 3, 7, 7, 2, 10, 4, 3, 10, 9, 4, 3, 3, 1, 7, 8, 5, 2, 4, 10, 1, 1, 2, 3, 10, 6, 9, 5, 3, 3, 10, 7, 1, 5, 1, 8, 1, 8, 7, 3, 10, 3, 5, 2, 2, 7, 3, 9, 7, 6, 8, 8, 10, 2, 4, 2, 5, 5, 3, 8, 0, 8, 6, 0, 1, 2, 7, 3, 2, 4, 10, 8, 6, 6, 0, 2, 7, 10, 1, 7, 6, 9, 2, 5, 2, 0, 9, 4, 3, 2, 6, 7, 9, 1, 8, 8, 5, 2, 9, 4, 1, 1, 8, 4, 7, 1, 2, 7, 2, 5, 0, 7, 10, 5, 0, 5, 7, 3, 6, 4, 6, 4, 9, 5, 1, 8, 3, 7, 7, 4, 4, 6, 10, 8, 9, 8, 5, 6, 7, 4, 0, 5, 0, 9, 10, 5, 0, 3, 7, 3, 1, 8, 2, 2, 4, 4, 9, 3, 7, 9, 9, 9, 4, 0, 0, 5, 6, 9, 9, 7, 7, 6, 9, 1, 10, 10, 5, 5, 7, 3, 3, 5, 10, 9, 7, 2, 3, 1, 1, 0, 5, 4, 1, 2, 0, 1, 8, 8, 4, 8, 3, 8, 0, 3, 2, 2, 3, 7, 10, 10, 4, 10, 6, 6, 5, 0, 9, 8, 2, 1, 9, 9, 5, 9, 9, 1, 3, 5, 7, 9, 10, 1, 8, 1, 6, 3, 8, 2, 4, 10, 1, 1, 2, 8, 2, 4, 8, 2, 5, 9, 9, 0, 7, 6, 9, 2, 0, 2, 8, 6, 9, 3, 7, 2, 4, 3, 0, 1, 3, 9, 6, 3, 4, 6, 3, 3, 5, 0, 1, 7, 10, 4, 10, 2, 5, 5, 7, 5, 1, 4, 5, 0, 4, 5, 4, 9, 5, 9, 7, 7, 2, 0, 2, 4, 3, 2, 9, 1, 8, 9, 1, 8, 8, 2, 0, 9, 7, 6, 9, 6, 9, 0, 10, 8, 8, 4, 1, 7, 3, 2, 7, 9, 6, 7, 8, 9, 0, 8, 2, 10, 5, 2, 10, 8, 7, 9, 6, 8, 6, 6, 4, 7, 9, 7, 8, 4, 9, 3, 3, 7, 4, 1, 7, 5, 4, 0, 7, 8, 0, 7, 4, 5, 5, 4, 8, 6, 6, 1, 5, 3, 0, 1, 4, 7, 1, 9, 4, 6, 6, 10, 7, 1, 0, 3, 9, 1, 4, 3, 10, 7, 8, 9, 9, 4, 0, 2, 3, 7, 8, 6, 8, 1, 7, 4, 0, 2, 0, 8, 6, 7], 'label_to_index': {'down': 0, 'go': 1, 'left': 2, 'no': 3, 'off': 4, 'on': 5, 'right': 6, 'stop': 7, 'unknown': 8, 'up': 9, 'yes': 10}}\n",
      "Test Loss: 0.2815341540046541, Test Accuracy: 0.9324116743471582\n"
     ]
    },
    {
     "name": "stderr",
     "output_type": "stream",
     "text": [
      "Some weights of the model checkpoint at superb/wav2vec2-base-superb-ks were not used when initializing Wav2Vec2ForSequenceClassification: ['wav2vec2.encoder.pos_conv_embed.conv.weight_g', 'wav2vec2.encoder.pos_conv_embed.conv.weight_v']\n",
      "- This IS expected if you are initializing Wav2Vec2ForSequenceClassification from the checkpoint of a model trained on another task or with another architecture (e.g. initializing a BertForSequenceClassification model from a BertForPreTraining model).\n",
      "- This IS NOT expected if you are initializing Wav2Vec2ForSequenceClassification from the checkpoint of a model that you expect to be exactly identical (initializing a BertForSequenceClassification model from a BertForSequenceClassification model).\n",
      "Some weights of Wav2Vec2ForSequenceClassification were not initialized from the model checkpoint at superb/wav2vec2-base-superb-ks and are newly initialized: ['wav2vec2.encoder.pos_conv_embed.conv.parametrizations.weight.original0', 'wav2vec2.encoder.pos_conv_embed.conv.parametrizations.weight.original1']\n",
      "You should probably TRAIN this model on a down-stream task to be able to use it for predictions and inference.\n"
     ]
    },
    {
     "data": {
      "application/vnd.jupyter.widget-view+json": {
       "model_id": "d2650d37b88c49f093147445640ac1d2",
       "version_major": 2,
       "version_minor": 0
      },
      "text/plain": [
       "Epoch 1/10:   0%|          | 0/6187 [00:00<?, ?it/s]"
      ]
     },
     "metadata": {},
     "output_type": "display_data"
    },
    {
     "name": "stdout",
     "output_type": "stream",
     "text": [
      "Epoch 1/10, Train Loss: 2.0056767049813784\n"
     ]
    },
    {
     "data": {
      "application/vnd.jupyter.widget-view+json": {
       "model_id": "7232ca55865e4a1d913604808a951507",
       "version_major": 2,
       "version_minor": 0
      },
      "text/plain": [
       "Validation:   0%|          | 0/163 [00:00<?, ?it/s]"
      ]
     },
     "metadata": {},
     "output_type": "display_data"
    },
    {
     "name": "stdout",
     "output_type": "stream",
     "text": [
      "Epoch 1/10, Validation Loss: 1.287668360157247, Validation Accuracy: 0.5668202764976958\n"
     ]
    },
    {
     "data": {
      "application/vnd.jupyter.widget-view+json": {
       "model_id": "894f0b6ac3494b469559ade60a599cf4",
       "version_major": 2,
       "version_minor": 0
      },
      "text/plain": [
       "Epoch 2/10:   0%|          | 0/6187 [00:00<?, ?it/s]"
      ]
     },
     "metadata": {},
     "output_type": "display_data"
    },
    {
     "name": "stdout",
     "output_type": "stream",
     "text": [
      "Epoch 2/10, Train Loss: 0.8172181215954917\n"
     ]
    },
    {
     "data": {
      "application/vnd.jupyter.widget-view+json": {
       "model_id": "8328f100129d4601a9154cf2329b734c",
       "version_major": 2,
       "version_minor": 0
      },
      "text/plain": [
       "Validation:   0%|          | 0/163 [00:00<?, ?it/s]"
      ]
     },
     "metadata": {},
     "output_type": "display_data"
    },
    {
     "name": "stdout",
     "output_type": "stream",
     "text": [
      "Epoch 2/10, Validation Loss: 0.6949210141791157, Validation Accuracy: 0.7772657450076805\n"
     ]
    },
    {
     "data": {
      "application/vnd.jupyter.widget-view+json": {
       "model_id": "6a6d6f4df23a492aa2e99598922266b9",
       "version_major": 2,
       "version_minor": 0
      },
      "text/plain": [
       "Epoch 3/10:   0%|          | 0/6187 [00:00<?, ?it/s]"
      ]
     },
     "metadata": {},
     "output_type": "display_data"
    },
    {
     "name": "stdout",
     "output_type": "stream",
     "text": [
      "Epoch 3/10, Train Loss: 0.4075707668516528\n"
     ]
    },
    {
     "data": {
      "application/vnd.jupyter.widget-view+json": {
       "model_id": "141057b7d1d745c3ba48a86e4459ff9a",
       "version_major": 2,
       "version_minor": 0
      },
      "text/plain": [
       "Validation:   0%|          | 0/163 [00:00<?, ?it/s]"
      ]
     },
     "metadata": {},
     "output_type": "display_data"
    },
    {
     "name": "stdout",
     "output_type": "stream",
     "text": [
      "Epoch 3/10, Validation Loss: 0.2973948196119463, Validation Accuracy: 0.9247311827956989\n"
     ]
    },
    {
     "data": {
      "application/vnd.jupyter.widget-view+json": {
       "model_id": "e0e4bb25c556425ebc63095bda54ac01",
       "version_major": 2,
       "version_minor": 0
      },
      "text/plain": [
       "Epoch 4/10:   0%|          | 0/6187 [00:00<?, ?it/s]"
      ]
     },
     "metadata": {},
     "output_type": "display_data"
    },
    {
     "name": "stdout",
     "output_type": "stream",
     "text": [
      "Epoch 4/10, Train Loss: 0.26730152304530086\n"
     ]
    },
    {
     "data": {
      "application/vnd.jupyter.widget-view+json": {
       "model_id": "f13c6fb82109462fbec740737be52347",
       "version_major": 2,
       "version_minor": 0
      },
      "text/plain": [
       "Validation:   0%|          | 0/163 [00:00<?, ?it/s]"
      ]
     },
     "metadata": {},
     "output_type": "display_data"
    },
    {
     "name": "stdout",
     "output_type": "stream",
     "text": [
      "Epoch 4/10, Validation Loss: 0.2666350554423464, Validation Accuracy: 0.9139784946236559\n"
     ]
    },
    {
     "data": {
      "application/vnd.jupyter.widget-view+json": {
       "model_id": "476e0a9bf6c24cdba1b5576b9cd81c1a",
       "version_major": 2,
       "version_minor": 0
      },
      "text/plain": [
       "Epoch 5/10:   0%|          | 0/6187 [00:00<?, ?it/s]"
      ]
     },
     "metadata": {},
     "output_type": "display_data"
    },
    {
     "name": "stdout",
     "output_type": "stream",
     "text": [
      "Epoch 5/10, Train Loss: 0.20473965938643784\n"
     ]
    },
    {
     "data": {
      "application/vnd.jupyter.widget-view+json": {
       "model_id": "a740c886312f4fc7a336b7791ff9872f",
       "version_major": 2,
       "version_minor": 0
      },
      "text/plain": [
       "Validation:   0%|          | 0/163 [00:00<?, ?it/s]"
      ]
     },
     "metadata": {},
     "output_type": "display_data"
    },
    {
     "name": "stdout",
     "output_type": "stream",
     "text": [
      "Epoch 5/10, Validation Loss: 0.19639147717742808, Validation Accuracy: 0.9523809523809523\n"
     ]
    },
    {
     "data": {
      "application/vnd.jupyter.widget-view+json": {
       "model_id": "304d3252aa414e7abbe891caf3afe06d",
       "version_major": 2,
       "version_minor": 0
      },
      "text/plain": [
       "Epoch 6/10:   0%|          | 0/6187 [00:00<?, ?it/s]"
      ]
     },
     "metadata": {},
     "output_type": "display_data"
    },
    {
     "name": "stdout",
     "output_type": "stream",
     "text": [
      "Epoch 6/10, Train Loss: 0.16007651574044146\n"
     ]
    },
    {
     "data": {
      "application/vnd.jupyter.widget-view+json": {
       "model_id": "491bbd21d76f43f795f53229b6b789a9",
       "version_major": 2,
       "version_minor": 0
      },
      "text/plain": [
       "Validation:   0%|          | 0/163 [00:00<?, ?it/s]"
      ]
     },
     "metadata": {},
     "output_type": "display_data"
    },
    {
     "name": "stdout",
     "output_type": "stream",
     "text": [
      "Epoch 6/10, Validation Loss: 0.21493605153272327, Validation Accuracy: 0.9431643625192012\n"
     ]
    },
    {
     "data": {
      "application/vnd.jupyter.widget-view+json": {
       "model_id": "236d00a0b5614def9a15aebfa582caaf",
       "version_major": 2,
       "version_minor": 0
      },
      "text/plain": [
       "Epoch 7/10:   0%|          | 0/6187 [00:00<?, ?it/s]"
      ]
     },
     "metadata": {},
     "output_type": "display_data"
    },
    {
     "name": "stdout",
     "output_type": "stream",
     "text": [
      "Epoch 7/10, Train Loss: 0.13487864751930892\n"
     ]
    },
    {
     "data": {
      "application/vnd.jupyter.widget-view+json": {
       "model_id": "04abb6d4c532495883d90721dad114d5",
       "version_major": 2,
       "version_minor": 0
      },
      "text/plain": [
       "Validation:   0%|          | 0/163 [00:00<?, ?it/s]"
      ]
     },
     "metadata": {},
     "output_type": "display_data"
    },
    {
     "name": "stdout",
     "output_type": "stream",
     "text": [
      "Epoch 7/10, Validation Loss: 0.20156279841953592, Validation Accuracy: 0.9370199692780338\n"
     ]
    },
    {
     "data": {
      "application/vnd.jupyter.widget-view+json": {
       "model_id": "6237496f5eba443cb57fe88620a119ff",
       "version_major": 2,
       "version_minor": 0
      },
      "text/plain": [
       "Epoch 8/10:   0%|          | 0/6187 [00:00<?, ?it/s]"
      ]
     },
     "metadata": {},
     "output_type": "display_data"
    },
    {
     "name": "stdout",
     "output_type": "stream",
     "text": [
      "Epoch 8/10, Train Loss: 0.116551526990006\n"
     ]
    },
    {
     "data": {
      "application/vnd.jupyter.widget-view+json": {
       "model_id": "006ec029c64648c7baa254125b3880b5",
       "version_major": 2,
       "version_minor": 0
      },
      "text/plain": [
       "Validation:   0%|          | 0/163 [00:00<?, ?it/s]"
      ]
     },
     "metadata": {},
     "output_type": "display_data"
    },
    {
     "name": "stdout",
     "output_type": "stream",
     "text": [
      "Epoch 8/10, Validation Loss: 0.1653231312569011, Validation Accuracy: 0.9508448540706606\n"
     ]
    },
    {
     "data": {
      "application/vnd.jupyter.widget-view+json": {
       "model_id": "d376574c3b4a4171bb7ba83c2ef16fec",
       "version_major": 2,
       "version_minor": 0
      },
      "text/plain": [
       "Epoch 9/10:   0%|          | 0/6187 [00:00<?, ?it/s]"
      ]
     },
     "metadata": {},
     "output_type": "display_data"
    },
    {
     "name": "stdout",
     "output_type": "stream",
     "text": [
      "Epoch 9/10, Train Loss: 0.10093084341560665\n"
     ]
    },
    {
     "data": {
      "application/vnd.jupyter.widget-view+json": {
       "model_id": "920df6605da341b2a5b3f81b386ac0af",
       "version_major": 2,
       "version_minor": 0
      },
      "text/plain": [
       "Validation:   0%|          | 0/163 [00:00<?, ?it/s]"
      ]
     },
     "metadata": {},
     "output_type": "display_data"
    },
    {
     "name": "stdout",
     "output_type": "stream",
     "text": [
      "Epoch 9/10, Validation Loss: 0.16644080134520758, Validation Accuracy: 0.946236559139785\n"
     ]
    },
    {
     "data": {
      "application/vnd.jupyter.widget-view+json": {
       "model_id": "c114dd3a0b4f4a9c918ac98c7e2648b3",
       "version_major": 2,
       "version_minor": 0
      },
      "text/plain": [
       "Epoch 10/10:   0%|          | 0/6187 [00:00<?, ?it/s]"
      ]
     },
     "metadata": {},
     "output_type": "display_data"
    },
    {
     "name": "stdout",
     "output_type": "stream",
     "text": [
      "Epoch 10/10, Train Loss: 0.07303122393023373\n"
     ]
    },
    {
     "data": {
      "application/vnd.jupyter.widget-view+json": {
       "model_id": "8d507e8f84e546b5a7554879690e0d76",
       "version_major": 2,
       "version_minor": 0
      },
      "text/plain": [
       "Validation:   0%|          | 0/163 [00:00<?, ?it/s]"
      ]
     },
     "metadata": {},
     "output_type": "display_data"
    },
    {
     "name": "stdout",
     "output_type": "stream",
     "text": [
      "Epoch 10/10, Validation Loss: 0.18367370812836933, Validation Accuracy: 0.9493087557603687\n"
     ]
    },
    {
     "data": {
      "application/vnd.jupyter.widget-view+json": {
       "model_id": "dbfac7d5ded143fab04b8b68ad84463c",
       "version_major": 2,
       "version_minor": 0
      },
      "text/plain": [
       "Testing:   0%|          | 0/163 [00:00<?, ?it/s]"
      ]
     },
     "metadata": {},
     "output_type": "display_data"
    },
    {
     "name": "stdout",
     "output_type": "stream",
     "text": [
      "{'val_acc': [0.5668202764976958, 0.7772657450076805, 0.9247311827956989, 0.9139784946236559, 0.9523809523809523, 0.9431643625192012, 0.9370199692780338, 0.9508448540706606, 0.946236559139785, 0.9493087557603687], 'val_loss': [1.287668360157247, 0.6949210141791157, 0.2973948196119463, 0.2666350554423464, 0.19639147717742808, 0.21493605153272327, 0.20156279841953592, 0.1653231312569011, 0.16644080134520758, 0.18367370812836933], 'train_loss': [2.0056767049813784, 0.8172181215954917, 0.4075707668516528, 0.26730152304530086, 0.20473965938643784, 0.16007651574044146, 0.13487864751930892, 0.116551526990006, 0.10093084341560665, 0.07303122393023373], 'test_correct_in_batch': [4.0, 4.0, 4.0, 4.0, 4.0, 4.0, 3.0, 3.0, 3.0, 4.0, 4.0, 4.0, 3.0, 4.0, 4.0, 3.0, 3.0, 4.0, 3.0, 4.0, 3.0, 4.0, 3.0, 3.0, 4.0, 4.0, 4.0, 3.0, 3.0, 4.0, 3.0, 4.0, 4.0, 4.0, 4.0, 4.0, 4.0, 4.0, 4.0, 4.0, 4.0, 4.0, 3.0, 4.0, 4.0, 4.0, 4.0, 4.0, 4.0, 4.0, 3.0, 3.0, 4.0, 3.0, 4.0, 4.0, 4.0, 4.0, 4.0, 4.0, 4.0, 4.0, 4.0, 4.0, 3.0, 4.0, 4.0, 3.0, 3.0, 3.0, 3.0, 4.0, 4.0, 3.0, 4.0, 4.0, 4.0, 4.0, 4.0, 4.0, 4.0, 4.0, 4.0, 4.0, 4.0, 3.0, 4.0, 4.0, 4.0, 4.0, 4.0, 4.0, 2.0, 4.0, 4.0, 4.0, 4.0, 2.0, 3.0, 3.0, 3.0, 3.0, 4.0, 3.0, 4.0, 4.0, 4.0, 4.0, 4.0, 4.0, 4.0, 3.0, 4.0, 4.0, 4.0, 4.0, 4.0, 4.0, 4.0, 3.0, 3.0, 2.0, 4.0, 3.0, 3.0, 4.0, 4.0, 4.0, 3.0, 4.0, 4.0, 4.0, 4.0, 4.0, 4.0, 4.0, 4.0, 3.0, 4.0, 3.0, 4.0, 4.0, 2.0, 4.0, 4.0, 3.0, 3.0, 4.0, 4.0, 4.0, 4.0, 4.0, 4.0, 4.0, 4.0, 4.0, 4.0, 3.0, 4.0, 4.0, 4.0, 4.0, 3.0], 'test_losses': [0.000461866264231503, 0.0027496530674397945, 0.08249715715646744, 0.05237593874335289, 0.004949155729264021, 0.0010920512722805142, 1.5086129903793335, 0.28836849331855774, 1.0415172576904297, 0.0004735106776934117, 0.0030749659053981304, 0.0016371930250898004, 0.5456252694129944, 0.002586939837783575, 0.0012570384424179792, 1.775378704071045, 1.2544740438461304, 0.1317245364189148, 1.5663375854492188, 0.006039134692400694, 0.9432174563407898, 0.0029029936995357275, 1.5147675275802612, 0.18838179111480713, 0.001167702954262495, 0.0002919099642895162, 0.0024877279065549374, 0.6054868698120117, 0.44837623834609985, 0.00201724492944777, 0.6972481608390808, 0.0026185668539255857, 0.0033779144287109375, 0.0003675089101307094, 0.013769688084721565, 0.0015127704245969653, 0.002666949760168791, 0.0017018027137964964, 0.0006408538902178407, 0.03254884481430054, 0.005352841690182686, 0.004700882826000452, 0.652127742767334, 0.009412682615220547, 0.003448332892730832, 0.18467526137828827, 0.0017450731247663498, 0.03618093580007553, 0.057707902044057846, 0.0815921351313591, 0.4554637670516968, 1.692405343055725, 0.01639656350016594, 0.597028911113739, 0.11151047796010971, 0.000307215639622882, 0.00015948557120282203, 0.0015511657111346722, 0.0004126520361751318, 0.0826110914349556, 0.0041421144269406796, 0.03123389184474945, 0.039680566638708115, 0.0018801252590492368, 0.32371366024017334, 0.0019962782971560955, 0.011727523989975452, 1.2478611469268799, 1.800763726234436, 0.9653977751731873, 1.3405286073684692, 0.0005075893714092672, 0.002841193461790681, 0.4318501055240631, 0.0008333565201610327, 0.014933534897863865, 0.0001853517023846507, 0.0005556909600272775, 0.12883979082107544, 0.09502223879098892, 0.0003473674296401441, 0.02112901583313942, 0.05085946246981621, 0.019950132817029953, 0.003565975232049823, 0.24749286472797394, 0.001139929867349565, 0.04302993789315224, 0.00447476701810956, 0.16644342243671417, 0.0006590908742509782, 0.007962888106703758, 2.946540355682373, 0.0010747173801064491, 0.007118006702512503, 0.0062272693030536175, 0.0026923157274723053, 3.2231550216674805, 0.19152513146400452, 0.2895689606666565, 0.8972998857498169, 0.5476658940315247, 0.007389733102172613, 0.45290815830230713, 0.0010119164362549782, 0.0002888460294343531, 0.0014112669741734862, 0.0022750617936253548, 0.0019155540503561497, 0.00047151866601780057, 0.0008061729604378343, 0.542278528213501, 0.0055444324389100075, 0.002091336762532592, 0.008380713872611523, 0.002029414987191558, 0.07809192687273026, 0.0033989676740020514, 0.004955442622303963, 0.4762275218963623, 0.43596309423446655, 1.6664527654647827, 0.005650502163916826, 0.37732625007629395, 1.0846362113952637, 0.010810649022459984, 0.005554486531764269, 0.0014832927845418453, 0.42003217339515686, 0.006634647957980633, 0.0005461400141939521, 0.02595292218029499, 0.00045163417235016823, 0.023569654673337936, 0.0015950074885040522, 0.020278804004192352, 0.00012185361993033439, 0.31344711780548096, 0.0013550969306379557, 0.7094327211380005, 0.0004957912606187165, 0.010313699953258038, 1.067866563796997, 0.001875261077657342, 0.0027995009440928698, 0.5197601318359375, 0.7958986163139343, 0.0026725565548986197, 0.019373279064893723, 0.0014794934540987015, 0.007701274938881397, 0.027688991278409958, 0.0013353090034797788, 0.0012648962438106537, 0.07756177335977554, 0.0028652711771428585, 0.02471028082072735, 0.4131944179534912, 0.1535279005765915, 0.0028377179987728596, 0.000400401622755453, 0.005597191397100687, 0.0017058792291209102], 'test_loss': 0.25583858216078553, 'test_batch_lens': [4, 4, 4, 4, 4, 4, 4, 4, 4, 4, 4, 4, 4, 4, 4, 4, 4, 4, 4, 4, 4, 4, 4, 4, 4, 4, 4, 4, 4, 4, 4, 4, 4, 4, 4, 4, 4, 4, 4, 4, 4, 4, 4, 4, 4, 4, 4, 4, 4, 4, 4, 4, 4, 4, 4, 4, 4, 4, 4, 4, 4, 4, 4, 4, 4, 4, 4, 4, 4, 4, 4, 4, 4, 4, 4, 4, 4, 4, 4, 4, 4, 4, 4, 4, 4, 4, 4, 4, 4, 4, 4, 4, 4, 4, 4, 4, 4, 4, 4, 4, 4, 4, 4, 4, 4, 4, 4, 4, 4, 4, 4, 4, 4, 4, 4, 4, 4, 4, 4, 4, 4, 4, 4, 4, 4, 4, 4, 4, 4, 4, 4, 4, 4, 4, 4, 4, 4, 4, 4, 4, 4, 4, 4, 4, 4, 4, 4, 4, 4, 4, 4, 4, 4, 4, 4, 4, 4, 4, 4, 4, 4, 4, 3], 'test_accuracy': 0.9262672811059908, 'predictions': [7, 4, 1, 10, 7, 1, 8, 8, 0, 8, 4, 7, 1, 9, 3, 0, 9, 6, 4, 9, 8, 10, 1, 4, 6, 1, 8, 6, 6, 8, 2, 0, 1, 8, 6, 3, 10, 5, 5, 0, 10, 3, 2, 10, 7, 8, 4, 3, 3, 8, 1, 4, 3, 4, 6, 1, 1, 9, 1, 10, 10, 6, 9, 6, 5, 0, 8, 5, 8, 1, 3, 1, 8, 3, 1, 8, 6, 8, 9, 2, 3, 1, 1, 1, 5, 5, 1, 8, 0, 5, 9, 10, 10, 7, 0, 5, 1, 8, 2, 7, 5, 1, 10, 6, 10, 8, 3, 9, 10, 4, 7, 5, 0, 3, 7, 8, 0, 8, 0, 0, 4, 8, 7, 8, 5, 1, 7, 9, 6, 7, 4, 0, 10, 10, 7, 9, 4, 1, 9, 0, 10, 3, 3, 9, 4, 7, 4, 7, 2, 10, 2, 4, 10, 10, 1, 0, 10, 5, 4, 7, 8, 9, 10, 4, 2, 3, 10, 5, 8, 0, 5, 0, 10, 7, 6, 8, 0, 8, 1, 2, 6, 3, 5, 3, 9, 3, 4, 8, 3, 2, 0, 2, 0, 9, 9, 8, 1, 3, 5, 9, 4, 1, 6, 1, 4, 4, 4, 8, 3, 9, 5, 6, 2, 5, 4, 9, 2, 10, 8, 4, 7, 3, 0, 6, 7, 0, 5, 7, 1, 0, 1, 6, 3, 7, 7, 2, 10, 4, 3, 10, 9, 4, 3, 3, 1, 7, 8, 5, 2, 4, 10, 1, 1, 2, 3, 10, 6, 9, 5, 1, 3, 10, 7, 1, 5, 1, 8, 1, 1, 7, 3, 10, 3, 5, 1, 2, 7, 5, 9, 7, 0, 8, 8, 10, 2, 4, 2, 5, 5, 3, 8, 0, 8, 2, 0, 1, 2, 7, 3, 2, 4, 10, 8, 6, 6, 0, 2, 7, 10, 1, 7, 6, 9, 2, 5, 2, 0, 9, 4, 3, 2, 6, 7, 9, 1, 8, 8, 5, 2, 9, 4, 1, 1, 8, 4, 7, 1, 2, 7, 2, 5, 0, 4, 10, 5, 0, 5, 7, 3, 6, 4, 6, 4, 9, 5, 1, 8, 3, 7, 7, 4, 4, 6, 10, 8, 9, 8, 5, 3, 9, 4, 0, 5, 0, 9, 10, 5, 0, 3, 7, 3, 1, 8, 2, 2, 4, 4, 9, 3, 7, 5, 5, 7, 4, 0, 0, 5, 6, 9, 4, 7, 7, 8, 9, 1, 10, 10, 4, 5, 7, 3, 3, 5, 10, 4, 7, 2, 3, 1, 1, 0, 5, 4, 1, 2, 0, 1, 8, 8, 4, 8, 3, 8, 0, 3, 2, 2, 3, 7, 10, 10, 4, 10, 6, 6, 5, 0, 5, 8, 2, 1, 9, 9, 5, 9, 9, 1, 3, 5, 7, 9, 10, 1, 8, 1, 6, 3, 8, 2, 4, 10, 1, 1, 2, 8, 2, 4, 8, 2, 8, 9, 4, 0, 7, 6, 4, 6, 0, 2, 8, 6, 9, 3, 8, 2, 4, 2, 0, 1, 3, 9, 6, 3, 4, 6, 3, 3, 5, 0, 1, 7, 10, 1, 10, 2, 5, 5, 7, 5, 1, 4, 5, 0, 4, 5, 4, 9, 5, 9, 7, 7, 2, 0, 2, 4, 3, 2, 9, 1, 8, 9, 1, 8, 8, 2, 0, 9, 7, 6, 4, 6, 9, 0, 10, 8, 8, 5, 1, 7, 3, 2, 7, 9, 6, 7, 8, 9, 0, 7, 2, 1, 5, 2, 10, 8, 7, 9, 6, 8, 6, 6, 5, 7, 9, 7, 1, 4, 9, 3, 3, 7, 4, 1, 7, 5, 4, 0, 7, 8, 0, 7, 4, 5, 5, 4, 8, 6, 6, 1, 5, 3, 0, 1, 4, 7, 1, 9, 4, 6, 6, 10, 7, 1, 0, 3, 9, 1, 4, 3, 1, 7, 8, 9, 9, 4, 0, 2, 3, 7, 8, 6, 8, 1, 7, 4, 0, 2, 0, 8, 6, 7], 'real_labels': [7, 4, 1, 10, 7, 1, 8, 8, 0, 8, 4, 7, 1, 9, 3, 0, 9, 6, 4, 9, 8, 10, 1, 4, 6, 8, 8, 6, 6, 8, 2, 1, 1, 9, 6, 3, 10, 5, 5, 0, 10, 3, 2, 10, 7, 8, 4, 3, 3, 8, 9, 4, 3, 4, 6, 1, 1, 9, 1, 10, 10, 6, 1, 6, 5, 5, 8, 5, 8, 1, 3, 1, 1, 3, 1, 8, 6, 8, 9, 2, 3, 1, 3, 1, 5, 5, 1, 8, 0, 4, 9, 10, 10, 7, 1, 5, 1, 8, 2, 7, 5, 1, 10, 6, 10, 8, 3, 9, 10, 4, 7, 1, 0, 3, 7, 6, 0, 8, 0, 0, 4, 8, 7, 6, 5, 1, 7, 9, 6, 7, 4, 0, 10, 10, 7, 9, 4, 1, 9, 0, 10, 3, 3, 9, 4, 7, 4, 7, 2, 10, 2, 4, 10, 10, 1, 0, 10, 5, 4, 7, 8, 9, 10, 4, 2, 3, 10, 5, 8, 0, 9, 0, 10, 7, 6, 8, 0, 8, 1, 2, 6, 3, 5, 3, 9, 3, 4, 8, 3, 2, 0, 2, 0, 9, 9, 8, 1, 3, 5, 9, 8, 1, 6, 1, 4, 3, 4, 8, 3, 9, 5, 6, 2, 5, 4, 5, 2, 10, 8, 4, 7, 3, 0, 6, 7, 0, 5, 7, 1, 0, 1, 6, 3, 7, 7, 2, 10, 4, 3, 10, 9, 4, 3, 3, 1, 7, 8, 5, 2, 4, 10, 1, 1, 2, 3, 10, 6, 9, 5, 3, 3, 10, 7, 1, 5, 1, 8, 1, 8, 7, 3, 10, 3, 5, 2, 2, 7, 3, 9, 7, 6, 8, 8, 10, 2, 4, 2, 5, 5, 3, 8, 0, 8, 6, 0, 1, 2, 7, 3, 2, 4, 10, 8, 6, 6, 0, 2, 7, 10, 1, 7, 6, 9, 2, 5, 2, 0, 9, 4, 3, 2, 6, 7, 9, 1, 8, 8, 5, 2, 9, 4, 1, 1, 8, 4, 7, 1, 2, 7, 2, 5, 0, 7, 10, 5, 0, 5, 7, 3, 6, 4, 6, 4, 9, 5, 1, 8, 3, 7, 7, 4, 4, 6, 10, 8, 9, 8, 5, 6, 7, 4, 0, 5, 0, 9, 10, 5, 0, 3, 7, 3, 1, 8, 2, 2, 4, 4, 9, 3, 7, 9, 9, 9, 4, 0, 0, 5, 6, 9, 9, 7, 7, 6, 9, 1, 10, 10, 5, 5, 7, 3, 3, 5, 10, 9, 7, 2, 3, 1, 1, 0, 5, 4, 1, 2, 0, 1, 8, 8, 4, 8, 3, 8, 0, 3, 2, 2, 3, 7, 10, 10, 4, 10, 6, 6, 5, 0, 9, 8, 2, 1, 9, 9, 5, 9, 9, 1, 3, 5, 7, 9, 10, 1, 8, 1, 6, 3, 8, 2, 4, 10, 1, 1, 2, 8, 2, 4, 8, 2, 5, 9, 9, 0, 7, 6, 9, 2, 0, 2, 8, 6, 9, 3, 7, 2, 4, 3, 0, 1, 3, 9, 6, 3, 4, 6, 3, 3, 5, 0, 1, 7, 10, 4, 10, 2, 5, 5, 7, 5, 1, 4, 5, 0, 4, 5, 4, 9, 5, 9, 7, 7, 2, 0, 2, 4, 3, 2, 9, 1, 8, 9, 1, 8, 8, 2, 0, 9, 7, 6, 9, 6, 9, 0, 10, 8, 8, 4, 1, 7, 3, 2, 7, 9, 6, 7, 8, 9, 0, 8, 2, 10, 5, 2, 10, 8, 7, 9, 6, 8, 6, 6, 4, 7, 9, 7, 8, 4, 9, 3, 3, 7, 4, 1, 7, 5, 4, 0, 7, 8, 0, 7, 4, 5, 5, 4, 8, 6, 6, 1, 5, 3, 0, 1, 4, 7, 1, 9, 4, 6, 6, 10, 7, 1, 0, 3, 9, 1, 4, 3, 10, 7, 8, 9, 9, 4, 0, 2, 3, 7, 8, 6, 8, 1, 7, 4, 0, 2, 0, 8, 6, 7], 'label_to_index': {'down': 0, 'go': 1, 'left': 2, 'no': 3, 'off': 4, 'on': 5, 'right': 6, 'stop': 7, 'unknown': 8, 'up': 9, 'yes': 10}}\n",
      "Test Loss: 0.25583858216078553, Test Accuracy: 0.9262672811059908\n"
     ]
    },
    {
     "name": "stderr",
     "output_type": "stream",
     "text": [
      "Some weights of the model checkpoint at superb/wav2vec2-base-superb-ks were not used when initializing Wav2Vec2ForSequenceClassification: ['wav2vec2.encoder.pos_conv_embed.conv.weight_g', 'wav2vec2.encoder.pos_conv_embed.conv.weight_v']\n",
      "- This IS expected if you are initializing Wav2Vec2ForSequenceClassification from the checkpoint of a model trained on another task or with another architecture (e.g. initializing a BertForSequenceClassification model from a BertForPreTraining model).\n",
      "- This IS NOT expected if you are initializing Wav2Vec2ForSequenceClassification from the checkpoint of a model that you expect to be exactly identical (initializing a BertForSequenceClassification model from a BertForSequenceClassification model).\n",
      "Some weights of Wav2Vec2ForSequenceClassification were not initialized from the model checkpoint at superb/wav2vec2-base-superb-ks and are newly initialized: ['wav2vec2.encoder.pos_conv_embed.conv.parametrizations.weight.original0', 'wav2vec2.encoder.pos_conv_embed.conv.parametrizations.weight.original1']\n",
      "You should probably TRAIN this model on a down-stream task to be able to use it for predictions and inference.\n"
     ]
    },
    {
     "data": {
      "application/vnd.jupyter.widget-view+json": {
       "model_id": "3930bb1777e949d4bc55be6abd620438",
       "version_major": 2,
       "version_minor": 0
      },
      "text/plain": [
       "Epoch 1/10:   0%|          | 0/6187 [00:00<?, ?it/s]"
      ]
     },
     "metadata": {},
     "output_type": "display_data"
    },
    {
     "name": "stdout",
     "output_type": "stream",
     "text": [
      "Epoch 1/10, Train Loss: 1.3160863215104046\n"
     ]
    },
    {
     "data": {
      "application/vnd.jupyter.widget-view+json": {
       "model_id": "f6a60ffdb84c494d8d25f439581f870b",
       "version_major": 2,
       "version_minor": 0
      },
      "text/plain": [
       "Validation:   0%|          | 0/163 [00:00<?, ?it/s]"
      ]
     },
     "metadata": {},
     "output_type": "display_data"
    },
    {
     "name": "stdout",
     "output_type": "stream",
     "text": [
      "Epoch 1/10, Validation Loss: 0.576967929107097, Validation Accuracy: 0.8433179723502304\n"
     ]
    },
    {
     "data": {
      "application/vnd.jupyter.widget-view+json": {
       "model_id": "942361dac0244265872069e82a404fff",
       "version_major": 2,
       "version_minor": 0
      },
      "text/plain": [
       "Epoch 2/10:   0%|          | 0/6187 [00:00<?, ?it/s]"
      ]
     },
     "metadata": {},
     "output_type": "display_data"
    },
    {
     "name": "stdout",
     "output_type": "stream",
     "text": [
      "Epoch 2/10, Train Loss: 0.6260885549938005\n"
     ]
    },
    {
     "data": {
      "application/vnd.jupyter.widget-view+json": {
       "model_id": "f3e05a978c0e4b4d88db5a9832c4bf47",
       "version_major": 2,
       "version_minor": 0
      },
      "text/plain": [
       "Validation:   0%|          | 0/163 [00:00<?, ?it/s]"
      ]
     },
     "metadata": {},
     "output_type": "display_data"
    },
    {
     "name": "stdout",
     "output_type": "stream",
     "text": [
      "Epoch 2/10, Validation Loss: 0.34718523680752406, Validation Accuracy: 0.9109062980030722\n"
     ]
    },
    {
     "data": {
      "application/vnd.jupyter.widget-view+json": {
       "model_id": "73e044ba94734070bc8032008991f831",
       "version_major": 2,
       "version_minor": 0
      },
      "text/plain": [
       "Epoch 3/10:   0%|          | 0/6187 [00:00<?, ?it/s]"
      ]
     },
     "metadata": {},
     "output_type": "display_data"
    },
    {
     "name": "stdout",
     "output_type": "stream",
     "text": [
      "Epoch 3/10, Train Loss: 0.295473260926864\n"
     ]
    },
    {
     "data": {
      "application/vnd.jupyter.widget-view+json": {
       "model_id": "276aeddea4d846aea0bda8bc7c1728c5",
       "version_major": 2,
       "version_minor": 0
      },
      "text/plain": [
       "Validation:   0%|          | 0/163 [00:00<?, ?it/s]"
      ]
     },
     "metadata": {},
     "output_type": "display_data"
    },
    {
     "name": "stdout",
     "output_type": "stream",
     "text": [
      "Epoch 3/10, Validation Loss: 0.25843015000898323, Validation Accuracy: 0.9155145929339478\n"
     ]
    },
    {
     "data": {
      "application/vnd.jupyter.widget-view+json": {
       "model_id": "6b7e0244774841a4b17ece27e27413bb",
       "version_major": 2,
       "version_minor": 0
      },
      "text/plain": [
       "Epoch 4/10:   0%|          | 0/6187 [00:00<?, ?it/s]"
      ]
     },
     "metadata": {},
     "output_type": "display_data"
    },
    {
     "name": "stdout",
     "output_type": "stream",
     "text": [
      "Epoch 4/10, Train Loss: 0.22446563957765286\n"
     ]
    },
    {
     "data": {
      "application/vnd.jupyter.widget-view+json": {
       "model_id": "d3a0899bc4024f24a833faea563aa897",
       "version_major": 2,
       "version_minor": 0
      },
      "text/plain": [
       "Validation:   0%|          | 0/163 [00:00<?, ?it/s]"
      ]
     },
     "metadata": {},
     "output_type": "display_data"
    },
    {
     "name": "stdout",
     "output_type": "stream",
     "text": [
      "Epoch 4/10, Validation Loss: 0.1734331685198368, Validation Accuracy: 0.9508448540706606\n"
     ]
    },
    {
     "data": {
      "application/vnd.jupyter.widget-view+json": {
       "model_id": "293d226c5afc4b568322746efb229396",
       "version_major": 2,
       "version_minor": 0
      },
      "text/plain": [
       "Epoch 5/10:   0%|          | 0/6187 [00:00<?, ?it/s]"
      ]
     },
     "metadata": {},
     "output_type": "display_data"
    },
    {
     "name": "stdout",
     "output_type": "stream",
     "text": [
      "Epoch 5/10, Train Loss: 0.16113890573446804\n"
     ]
    },
    {
     "data": {
      "application/vnd.jupyter.widget-view+json": {
       "model_id": "1f9215afbb87496d93ee058b769bee1a",
       "version_major": 2,
       "version_minor": 0
      },
      "text/plain": [
       "Validation:   0%|          | 0/163 [00:00<?, ?it/s]"
      ]
     },
     "metadata": {},
     "output_type": "display_data"
    },
    {
     "name": "stdout",
     "output_type": "stream",
     "text": [
      "Epoch 5/10, Validation Loss: 0.22700499102653238, Validation Accuracy: 0.9247311827956989\n"
     ]
    },
    {
     "data": {
      "application/vnd.jupyter.widget-view+json": {
       "model_id": "269a835b60894cab8a00e5e1c62f586a",
       "version_major": 2,
       "version_minor": 0
      },
      "text/plain": [
       "Epoch 6/10:   0%|          | 0/6187 [00:00<?, ?it/s]"
      ]
     },
     "metadata": {},
     "output_type": "display_data"
    },
    {
     "name": "stdout",
     "output_type": "stream",
     "text": [
      "Epoch 6/10, Train Loss: 0.13520758967230104\n"
     ]
    },
    {
     "data": {
      "application/vnd.jupyter.widget-view+json": {
       "model_id": "3544143bad1d4b2687ab0046ded1bbd6",
       "version_major": 2,
       "version_minor": 0
      },
      "text/plain": [
       "Validation:   0%|          | 0/163 [00:00<?, ?it/s]"
      ]
     },
     "metadata": {},
     "output_type": "display_data"
    },
    {
     "name": "stdout",
     "output_type": "stream",
     "text": [
      "Epoch 6/10, Validation Loss: 0.1471690752270683, Validation Accuracy: 0.9508448540706606\n"
     ]
    },
    {
     "data": {
      "application/vnd.jupyter.widget-view+json": {
       "model_id": "4363b6a7a8de4453a54dea7f12c84821",
       "version_major": 2,
       "version_minor": 0
      },
      "text/plain": [
       "Epoch 7/10:   0%|          | 0/6187 [00:00<?, ?it/s]"
      ]
     },
     "metadata": {},
     "output_type": "display_data"
    },
    {
     "name": "stdout",
     "output_type": "stream",
     "text": [
      "Epoch 7/10, Train Loss: 0.10162066287202352\n"
     ]
    },
    {
     "data": {
      "application/vnd.jupyter.widget-view+json": {
       "model_id": "b076e1af5678475788c883845bebee82",
       "version_major": 2,
       "version_minor": 0
      },
      "text/plain": [
       "Validation:   0%|          | 0/163 [00:00<?, ?it/s]"
      ]
     },
     "metadata": {},
     "output_type": "display_data"
    },
    {
     "name": "stdout",
     "output_type": "stream",
     "text": [
      "Epoch 7/10, Validation Loss: 0.1406554093607987, Validation Accuracy: 0.9585253456221198\n"
     ]
    },
    {
     "data": {
      "application/vnd.jupyter.widget-view+json": {
       "model_id": "de0b9cc7cfcd43e1820da49b0964881f",
       "version_major": 2,
       "version_minor": 0
      },
      "text/plain": [
       "Epoch 8/10:   0%|          | 0/6187 [00:00<?, ?it/s]"
      ]
     },
     "metadata": {},
     "output_type": "display_data"
    },
    {
     "name": "stdout",
     "output_type": "stream",
     "text": [
      "Epoch 8/10, Train Loss: 0.0897537365674954\n"
     ]
    },
    {
     "data": {
      "application/vnd.jupyter.widget-view+json": {
       "model_id": "86c43cb96f6e49ab833202ee7a236e45",
       "version_major": 2,
       "version_minor": 0
      },
      "text/plain": [
       "Validation:   0%|          | 0/163 [00:00<?, ?it/s]"
      ]
     },
     "metadata": {},
     "output_type": "display_data"
    },
    {
     "name": "stdout",
     "output_type": "stream",
     "text": [
      "Epoch 8/10, Validation Loss: 0.1945124577457354, Validation Accuracy: 0.9416282642089093\n"
     ]
    },
    {
     "data": {
      "application/vnd.jupyter.widget-view+json": {
       "model_id": "c928b09a694a42658df54a75116e89a3",
       "version_major": 2,
       "version_minor": 0
      },
      "text/plain": [
       "Epoch 9/10:   0%|          | 0/6187 [00:00<?, ?it/s]"
      ]
     },
     "metadata": {},
     "output_type": "display_data"
    },
    {
     "name": "stdout",
     "output_type": "stream",
     "text": [
      "Epoch 9/10, Train Loss: 0.08823236239819711\n"
     ]
    },
    {
     "data": {
      "application/vnd.jupyter.widget-view+json": {
       "model_id": "ca8620822d6945a29e27b47762a0f9ce",
       "version_major": 2,
       "version_minor": 0
      },
      "text/plain": [
       "Validation:   0%|          | 0/163 [00:00<?, ?it/s]"
      ]
     },
     "metadata": {},
     "output_type": "display_data"
    },
    {
     "name": "stdout",
     "output_type": "stream",
     "text": [
      "Epoch 9/10, Validation Loss: 0.17063711491642675, Validation Accuracy: 0.9508448540706606\n"
     ]
    },
    {
     "data": {
      "application/vnd.jupyter.widget-view+json": {
       "model_id": "060977bf84c04eaf9677f1912d3ca320",
       "version_major": 2,
       "version_minor": 0
      },
      "text/plain": [
       "Epoch 10/10:   0%|          | 0/6187 [00:00<?, ?it/s]"
      ]
     },
     "metadata": {},
     "output_type": "display_data"
    },
    {
     "name": "stdout",
     "output_type": "stream",
     "text": [
      "Epoch 10/10, Train Loss: 0.09444688177757762\n"
     ]
    },
    {
     "data": {
      "application/vnd.jupyter.widget-view+json": {
       "model_id": "090d82fdf45c46a2b457515b3db91a79",
       "version_major": 2,
       "version_minor": 0
      },
      "text/plain": [
       "Validation:   0%|          | 0/163 [00:00<?, ?it/s]"
      ]
     },
     "metadata": {},
     "output_type": "display_data"
    },
    {
     "name": "stdout",
     "output_type": "stream",
     "text": [
      "Epoch 10/10, Validation Loss: 0.21283380192257406, Validation Accuracy: 0.9324116743471582\n"
     ]
    },
    {
     "data": {
      "application/vnd.jupyter.widget-view+json": {
       "model_id": "9d013b4113c847afac372858dd2f0f08",
       "version_major": 2,
       "version_minor": 0
      },
      "text/plain": [
       "Testing:   0%|          | 0/163 [00:00<?, ?it/s]"
      ]
     },
     "metadata": {},
     "output_type": "display_data"
    },
    {
     "name": "stdout",
     "output_type": "stream",
     "text": [
      "{'val_acc': [0.8433179723502304, 0.9109062980030722, 0.9155145929339478, 0.9508448540706606, 0.9247311827956989, 0.9508448540706606, 0.9585253456221198, 0.9416282642089093, 0.9508448540706606, 0.9324116743471582], 'val_loss': [0.576967929107097, 0.34718523680752406, 0.25843015000898323, 0.1734331685198368, 0.22700499102653238, 0.1471690752270683, 0.1406554093607987, 0.1945124577457354, 0.17063711491642675, 0.21283380192257406], 'train_loss': [1.3160863215104046, 0.6260885549938005, 0.295473260926864, 0.22446563957765286, 0.16113890573446804, 0.13520758967230104, 0.10162066287202352, 0.0897537365674954, 0.08823236239819711, 0.09444688177757762], 'test_correct_in_batch': [4.0, 4.0, 3.0, 4.0, 4.0, 4.0, 3.0, 4.0, 3.0, 4.0, 4.0, 4.0, 3.0, 4.0, 4.0, 3.0, 3.0, 4.0, 3.0, 4.0, 3.0, 4.0, 3.0, 4.0, 4.0, 4.0, 4.0, 4.0, 3.0, 4.0, 4.0, 4.0, 4.0, 4.0, 4.0, 4.0, 4.0, 4.0, 4.0, 4.0, 4.0, 4.0, 3.0, 4.0, 3.0, 4.0, 4.0, 4.0, 4.0, 4.0, 3.0, 1.0, 3.0, 4.0, 4.0, 4.0, 4.0, 4.0, 4.0, 3.0, 4.0, 4.0, 4.0, 4.0, 4.0, 4.0, 4.0, 3.0, 3.0, 4.0, 3.0, 4.0, 3.0, 4.0, 4.0, 4.0, 4.0, 4.0, 4.0, 4.0, 4.0, 4.0, 4.0, 4.0, 3.0, 3.0, 4.0, 3.0, 4.0, 3.0, 4.0, 4.0, 3.0, 4.0, 4.0, 4.0, 4.0, 2.0, 4.0, 4.0, 3.0, 4.0, 4.0, 4.0, 4.0, 4.0, 4.0, 4.0, 4.0, 4.0, 4.0, 3.0, 4.0, 4.0, 4.0, 4.0, 4.0, 4.0, 4.0, 4.0, 4.0, 3.0, 3.0, 3.0, 3.0, 4.0, 4.0, 3.0, 3.0, 4.0, 4.0, 4.0, 4.0, 4.0, 4.0, 4.0, 4.0, 4.0, 4.0, 3.0, 4.0, 4.0, 3.0, 4.0, 4.0, 2.0, 3.0, 3.0, 4.0, 4.0, 4.0, 3.0, 4.0, 4.0, 3.0, 4.0, 4.0, 4.0, 3.0, 4.0, 4.0, 4.0, 3.0], 'test_losses': [0.0038314517587423325, 0.06376664340496063, 1.0517607927322388, 0.07176006585359573, 0.0004401721234899014, 0.001322348602116108, 1.1356205940246582, 0.08601544797420502, 0.4677446484565735, 0.009676789864897728, 0.0028738107066601515, 0.002428166102617979, 1.0911096334457397, 0.0020883039105683565, 0.006814310327172279, 2.2932634353637695, 0.6686300039291382, 0.03504195436835289, 1.9620848894119263, 0.009136589244008064, 0.6435590982437134, 0.002278519794344902, 0.2736724615097046, 0.06927420198917389, 0.00708857411518693, 0.002051467075943947, 0.013333985581994057, 0.3847448527812958, 0.2303956151008606, 0.007913697510957718, 0.045042652636766434, 0.001182610634714365, 0.0008385683759115636, 0.0002874443307518959, 0.020991697907447815, 0.004048303235322237, 0.008249863050878048, 0.010467437095940113, 0.02316167950630188, 0.011796936392784119, 0.007760308682918549, 0.004908115137368441, 0.5658972859382629, 0.0009909023065119982, 0.7022021412849426, 0.034931037575006485, 0.14462226629257202, 0.08565911650657654, 0.003458611899986863, 0.1098238006234169, 1.8661167621612549, 2.4561424255371094, 0.2470351606607437, 0.03566509485244751, 0.013931727036833763, 0.0021898637060076, 0.00018525696941651404, 0.0006026155315339565, 0.011784698814153671, 0.9843973517417908, 0.0038083032704889774, 0.0067258570343256, 0.12503713369369507, 0.004480683244764805, 0.030497029423713684, 0.007617553696036339, 0.05935124307870865, 1.3369543552398682, 0.37538203597068787, 0.39556822180747986, 1.2176796197891235, 0.0011498199310153723, 0.545850932598114, 0.27105075120925903, 0.002149630803614855, 0.002452980959787965, 0.006778922863304615, 0.0015995856374502182, 0.13209831714630127, 0.12494444847106934, 0.0031490286346524954, 0.03234649449586868, 0.006933911237865686, 0.003172977827489376, 0.2492775022983551, 1.0193573236465454, 0.15566276013851166, 0.5451712608337402, 0.08163580298423767, 0.7595557570457458, 0.030275437980890274, 0.009736985899508, 1.7305923700332642, 0.0023418026976287365, 0.0007675326196476817, 0.0038329483941197395, 0.007686208933591843, 3.252129554748535, 0.008798091672360897, 0.016113411635160446, 0.6836568713188171, 0.0018036430701613426, 0.009672768414020538, 0.1071867048740387, 0.0033763472456485033, 0.007948332466185093, 0.0020099435932934284, 0.0023061896208673716, 0.006789572071284056, 0.0012549356324598193, 0.023310236632823944, 0.2501002252101898, 0.0020398718770593405, 0.0006682262755930424, 0.09800948202610016, 0.0028220019303262234, 0.03634276241064072, 0.0009475225815549493, 0.0015534982085227966, 0.01482783816754818, 0.023102454841136932, 0.6299295425415039, 0.8631142973899841, 0.22671140730381012, 0.9725289940834045, 0.06463257968425751, 0.18051284551620483, 0.4901280999183655, 0.7250891327857971, 0.07759597897529602, 0.0017650986555963755, 0.0018420616397634149, 0.01531847845762968, 0.12460934370756149, 0.0011476107174530625, 0.0090806744992733, 0.0010033947182819247, 0.2412019670009613, 0.006765127182006836, 1.299017071723938, 0.0031901514157652855, 0.11632103472948074, 0.4927811920642853, 0.0031869153026491404, 0.003325927071273327, 0.807929277420044, 1.7415050268173218, 0.5451762080192566, 0.06411051005125046, 0.0009729322628118098, 0.004918565973639488, 0.4134863615036011, 0.06685718148946762, 0.0038424732629209757, 0.6924620866775513, 0.003973481711000204, 0.005455359350889921, 0.19942115247249603, 0.622161328792572, 0.0020076653454452753, 0.0005795751931145787, 0.004221070557832718, 0.020639529451727867], 'test_loss': 0.26750955210592986, 'test_batch_lens': [4, 4, 4, 4, 4, 4, 4, 4, 4, 4, 4, 4, 4, 4, 4, 4, 4, 4, 4, 4, 4, 4, 4, 4, 4, 4, 4, 4, 4, 4, 4, 4, 4, 4, 4, 4, 4, 4, 4, 4, 4, 4, 4, 4, 4, 4, 4, 4, 4, 4, 4, 4, 4, 4, 4, 4, 4, 4, 4, 4, 4, 4, 4, 4, 4, 4, 4, 4, 4, 4, 4, 4, 4, 4, 4, 4, 4, 4, 4, 4, 4, 4, 4, 4, 4, 4, 4, 4, 4, 4, 4, 4, 4, 4, 4, 4, 4, 4, 4, 4, 4, 4, 4, 4, 4, 4, 4, 4, 4, 4, 4, 4, 4, 4, 4, 4, 4, 4, 4, 4, 4, 4, 4, 4, 4, 4, 4, 4, 4, 4, 4, 4, 4, 4, 4, 4, 4, 4, 4, 4, 4, 4, 4, 4, 4, 4, 4, 4, 4, 4, 4, 4, 4, 4, 4, 4, 4, 4, 4, 4, 4, 4, 3], 'test_accuracy': 0.9293394777265745, 'predictions': [7, 4, 1, 10, 7, 1, 8, 8, 0, 1, 4, 7, 1, 9, 3, 0, 9, 6, 4, 9, 8, 10, 1, 4, 6, 1, 8, 6, 6, 8, 2, 1, 1, 1, 6, 3, 10, 5, 5, 0, 10, 3, 2, 10, 7, 8, 4, 3, 3, 8, 3, 4, 3, 4, 6, 1, 1, 9, 1, 10, 10, 6, 4, 6, 5, 3, 8, 5, 8, 1, 3, 1, 6, 3, 1, 8, 6, 8, 9, 2, 3, 1, 1, 1, 5, 5, 1, 8, 0, 5, 9, 10, 10, 7, 1, 5, 1, 8, 2, 7, 5, 1, 10, 6, 10, 8, 3, 9, 10, 4, 7, 1, 0, 3, 7, 8, 0, 8, 0, 0, 4, 8, 7, 6, 5, 1, 7, 9, 6, 7, 4, 0, 10, 10, 7, 9, 4, 1, 9, 0, 10, 3, 3, 9, 4, 7, 4, 7, 2, 10, 2, 4, 10, 10, 1, 0, 10, 5, 4, 7, 8, 9, 10, 4, 2, 3, 10, 5, 8, 0, 1, 0, 10, 7, 6, 8, 0, 8, 3, 2, 6, 3, 5, 3, 9, 3, 4, 8, 3, 2, 0, 2, 0, 9, 9, 8, 1, 3, 5, 9, 2, 1, 6, 1, 4, 4, 9, 9, 3, 9, 8, 6, 2, 5, 4, 5, 2, 10, 8, 4, 7, 3, 0, 6, 7, 0, 5, 7, 1, 0, 1, 6, 3, 7, 7, 2, 10, 9, 3, 10, 9, 4, 3, 3, 1, 7, 8, 5, 2, 4, 10, 1, 1, 2, 3, 10, 6, 9, 5, 3, 3, 10, 7, 1, 5, 1, 8, 1, 1, 7, 3, 10, 3, 5, 3, 2, 7, 3, 9, 7, 1, 8, 8, 10, 2, 4, 2, 5, 5, 3, 8, 1, 8, 6, 0, 1, 2, 7, 3, 2, 4, 10, 8, 6, 6, 0, 2, 7, 10, 1, 7, 6, 9, 2, 5, 2, 0, 9, 4, 3, 2, 6, 7, 9, 1, 8, 8, 5, 2, 9, 4, 1, 1, 8, 4, 7, 1, 2, 9, 2, 5, 0, 4, 10, 5, 0, 5, 7, 3, 6, 9, 6, 4, 9, 5, 1, 8, 3, 1, 7, 4, 4, 6, 10, 8, 9, 8, 5, 6, 9, 4, 0, 5, 0, 9, 10, 5, 0, 3, 7, 3, 1, 8, 2, 2, 4, 4, 9, 3, 7, 5, 1, 9, 4, 0, 0, 5, 6, 9, 9, 7, 7, 8, 9, 1, 10, 10, 5, 5, 7, 3, 3, 5, 10, 9, 7, 2, 3, 1, 1, 0, 5, 4, 1, 2, 0, 1, 8, 8, 4, 8, 3, 8, 0, 3, 2, 2, 3, 7, 10, 10, 4, 10, 6, 6, 5, 0, 4, 8, 2, 1, 9, 9, 5, 9, 9, 1, 3, 5, 7, 9, 10, 1, 8, 1, 6, 3, 8, 2, 4, 10, 1, 1, 2, 8, 2, 4, 8, 2, 5, 9, 9, 0, 7, 6, 9, 1, 0, 2, 3, 6, 9, 3, 9, 2, 4, 1, 0, 1, 3, 9, 6, 3, 4, 6, 3, 3, 5, 1, 1, 7, 10, 1, 10, 2, 5, 5, 7, 5, 1, 4, 5, 0, 4, 5, 4, 9, 5, 9, 7, 7, 2, 0, 2, 4, 3, 2, 9, 1, 8, 9, 1, 8, 8, 2, 0, 9, 7, 6, 9, 6, 9, 0, 10, 8, 8, 8, 1, 7, 3, 2, 7, 9, 6, 7, 8, 9, 0, 8, 2, 10, 8, 2, 10, 8, 7, 9, 6, 8, 6, 6, 1, 7, 4, 7, 1, 4, 9, 3, 3, 7, 9, 1, 7, 5, 4, 0, 7, 8, 0, 7, 4, 5, 5, 4, 6, 6, 6, 1, 5, 3, 0, 1, 4, 7, 1, 9, 4, 6, 8, 10, 7, 1, 0, 3, 9, 1, 4, 3, 10, 7, 8, 9, 9, 4, 1, 2, 3, 7, 8, 6, 8, 1, 7, 4, 0, 2, 0, 8, 6, 7], 'real_labels': [7, 4, 1, 10, 7, 1, 8, 8, 0, 8, 4, 7, 1, 9, 3, 0, 9, 6, 4, 9, 8, 10, 1, 4, 6, 8, 8, 6, 6, 8, 2, 1, 1, 9, 6, 3, 10, 5, 5, 0, 10, 3, 2, 10, 7, 8, 4, 3, 3, 8, 9, 4, 3, 4, 6, 1, 1, 9, 1, 10, 10, 6, 1, 6, 5, 5, 8, 5, 8, 1, 3, 1, 1, 3, 1, 8, 6, 8, 9, 2, 3, 1, 3, 1, 5, 5, 1, 8, 0, 4, 9, 10, 10, 7, 1, 5, 1, 8, 2, 7, 5, 1, 10, 6, 10, 8, 3, 9, 10, 4, 7, 1, 0, 3, 7, 6, 0, 8, 0, 0, 4, 8, 7, 6, 5, 1, 7, 9, 6, 7, 4, 0, 10, 10, 7, 9, 4, 1, 9, 0, 10, 3, 3, 9, 4, 7, 4, 7, 2, 10, 2, 4, 10, 10, 1, 0, 10, 5, 4, 7, 8, 9, 10, 4, 2, 3, 10, 5, 8, 0, 9, 0, 10, 7, 6, 8, 0, 8, 1, 2, 6, 3, 5, 3, 9, 3, 4, 8, 3, 2, 0, 2, 0, 9, 9, 8, 1, 3, 5, 9, 8, 1, 6, 1, 4, 3, 4, 8, 3, 9, 5, 6, 2, 5, 4, 5, 2, 10, 8, 4, 7, 3, 0, 6, 7, 0, 5, 7, 1, 0, 1, 6, 3, 7, 7, 2, 10, 4, 3, 10, 9, 4, 3, 3, 1, 7, 8, 5, 2, 4, 10, 1, 1, 2, 3, 10, 6, 9, 5, 3, 3, 10, 7, 1, 5, 1, 8, 1, 8, 7, 3, 10, 3, 5, 2, 2, 7, 3, 9, 7, 6, 8, 8, 10, 2, 4, 2, 5, 5, 3, 8, 0, 8, 6, 0, 1, 2, 7, 3, 2, 4, 10, 8, 6, 6, 0, 2, 7, 10, 1, 7, 6, 9, 2, 5, 2, 0, 9, 4, 3, 2, 6, 7, 9, 1, 8, 8, 5, 2, 9, 4, 1, 1, 8, 4, 7, 1, 2, 7, 2, 5, 0, 7, 10, 5, 0, 5, 7, 3, 6, 4, 6, 4, 9, 5, 1, 8, 3, 7, 7, 4, 4, 6, 10, 8, 9, 8, 5, 6, 7, 4, 0, 5, 0, 9, 10, 5, 0, 3, 7, 3, 1, 8, 2, 2, 4, 4, 9, 3, 7, 9, 9, 9, 4, 0, 0, 5, 6, 9, 9, 7, 7, 6, 9, 1, 10, 10, 5, 5, 7, 3, 3, 5, 10, 9, 7, 2, 3, 1, 1, 0, 5, 4, 1, 2, 0, 1, 8, 8, 4, 8, 3, 8, 0, 3, 2, 2, 3, 7, 10, 10, 4, 10, 6, 6, 5, 0, 9, 8, 2, 1, 9, 9, 5, 9, 9, 1, 3, 5, 7, 9, 10, 1, 8, 1, 6, 3, 8, 2, 4, 10, 1, 1, 2, 8, 2, 4, 8, 2, 5, 9, 9, 0, 7, 6, 9, 2, 0, 2, 8, 6, 9, 3, 7, 2, 4, 3, 0, 1, 3, 9, 6, 3, 4, 6, 3, 3, 5, 0, 1, 7, 10, 4, 10, 2, 5, 5, 7, 5, 1, 4, 5, 0, 4, 5, 4, 9, 5, 9, 7, 7, 2, 0, 2, 4, 3, 2, 9, 1, 8, 9, 1, 8, 8, 2, 0, 9, 7, 6, 9, 6, 9, 0, 10, 8, 8, 4, 1, 7, 3, 2, 7, 9, 6, 7, 8, 9, 0, 8, 2, 10, 5, 2, 10, 8, 7, 9, 6, 8, 6, 6, 4, 7, 9, 7, 8, 4, 9, 3, 3, 7, 4, 1, 7, 5, 4, 0, 7, 8, 0, 7, 4, 5, 5, 4, 8, 6, 6, 1, 5, 3, 0, 1, 4, 7, 1, 9, 4, 6, 6, 10, 7, 1, 0, 3, 9, 1, 4, 3, 10, 7, 8, 9, 9, 4, 0, 2, 3, 7, 8, 6, 8, 1, 7, 4, 0, 2, 0, 8, 6, 7], 'label_to_index': {'down': 0, 'go': 1, 'left': 2, 'no': 3, 'off': 4, 'on': 5, 'right': 6, 'stop': 7, 'unknown': 8, 'up': 9, 'yes': 10}}\n",
      "Test Loss: 0.26750955210592986, Test Accuracy: 0.9293394777265745\n"
     ]
    },
    {
     "name": "stderr",
     "output_type": "stream",
     "text": [
      "Some weights of the model checkpoint at superb/wav2vec2-base-superb-ks were not used when initializing Wav2Vec2ForSequenceClassification: ['wav2vec2.encoder.pos_conv_embed.conv.weight_g', 'wav2vec2.encoder.pos_conv_embed.conv.weight_v']\n",
      "- This IS expected if you are initializing Wav2Vec2ForSequenceClassification from the checkpoint of a model trained on another task or with another architecture (e.g. initializing a BertForSequenceClassification model from a BertForPreTraining model).\n",
      "- This IS NOT expected if you are initializing Wav2Vec2ForSequenceClassification from the checkpoint of a model that you expect to be exactly identical (initializing a BertForSequenceClassification model from a BertForSequenceClassification model).\n",
      "Some weights of Wav2Vec2ForSequenceClassification were not initialized from the model checkpoint at superb/wav2vec2-base-superb-ks and are newly initialized: ['wav2vec2.encoder.pos_conv_embed.conv.parametrizations.weight.original0', 'wav2vec2.encoder.pos_conv_embed.conv.parametrizations.weight.original1']\n",
      "You should probably TRAIN this model on a down-stream task to be able to use it for predictions and inference.\n"
     ]
    },
    {
     "data": {
      "application/vnd.jupyter.widget-view+json": {
       "model_id": "d061be1b64d44222a0bb31dba37dcd86",
       "version_major": 2,
       "version_minor": 0
      },
      "text/plain": [
       "Epoch 1/10:   0%|          | 0/6187 [00:00<?, ?it/s]"
      ]
     },
     "metadata": {},
     "output_type": "display_data"
    },
    {
     "name": "stdout",
     "output_type": "stream",
     "text": [
      "Epoch 1/10, Train Loss: 1.6524814587138823\n"
     ]
    },
    {
     "data": {
      "application/vnd.jupyter.widget-view+json": {
       "model_id": "736cc1fae27d474ea74ef8c81426f2c7",
       "version_major": 2,
       "version_minor": 0
      },
      "text/plain": [
       "Validation:   0%|          | 0/163 [00:00<?, ?it/s]"
      ]
     },
     "metadata": {},
     "output_type": "display_data"
    },
    {
     "name": "stdout",
     "output_type": "stream",
     "text": [
      "Epoch 1/10, Validation Loss: 0.7021143265479913, Validation Accuracy: 0.815668202764977\n"
     ]
    },
    {
     "data": {
      "application/vnd.jupyter.widget-view+json": {
       "model_id": "a78e5802cf664273bd5b945711068738",
       "version_major": 2,
       "version_minor": 0
      },
      "text/plain": [
       "Epoch 2/10:   0%|          | 0/6187 [00:00<?, ?it/s]"
      ]
     },
     "metadata": {},
     "output_type": "display_data"
    },
    {
     "name": "stdout",
     "output_type": "stream",
     "text": [
      "Epoch 2/10, Train Loss: 0.5173032297791182\n"
     ]
    },
    {
     "data": {
      "application/vnd.jupyter.widget-view+json": {
       "model_id": "6283bb15407446f880159c6596bed89e",
       "version_major": 2,
       "version_minor": 0
      },
      "text/plain": [
       "Validation:   0%|          | 0/163 [00:00<?, ?it/s]"
      ]
     },
     "metadata": {},
     "output_type": "display_data"
    },
    {
     "name": "stdout",
     "output_type": "stream",
     "text": [
      "Epoch 2/10, Validation Loss: 0.312435408585642, Validation Accuracy: 0.9201228878648233\n"
     ]
    },
    {
     "data": {
      "application/vnd.jupyter.widget-view+json": {
       "model_id": "bc388fcb7649480082ba51ee1e1cfcb0",
       "version_major": 2,
       "version_minor": 0
      },
      "text/plain": [
       "Epoch 3/10:   0%|          | 0/6187 [00:00<?, ?it/s]"
      ]
     },
     "metadata": {},
     "output_type": "display_data"
    },
    {
     "name": "stdout",
     "output_type": "stream",
     "text": [
      "Epoch 3/10, Train Loss: 0.2885541957185902\n"
     ]
    },
    {
     "data": {
      "application/vnd.jupyter.widget-view+json": {
       "model_id": "e17d7af6db2d41308d2fff2cda9abc43",
       "version_major": 2,
       "version_minor": 0
      },
      "text/plain": [
       "Validation:   0%|          | 0/163 [00:00<?, ?it/s]"
      ]
     },
     "metadata": {},
     "output_type": "display_data"
    },
    {
     "name": "stdout",
     "output_type": "stream",
     "text": [
      "Epoch 3/10, Validation Loss: 0.25869392407943775, Validation Accuracy: 0.9170506912442397\n"
     ]
    },
    {
     "data": {
      "application/vnd.jupyter.widget-view+json": {
       "model_id": "c964b1a8b3004d26bad9fcbbfa9f0b43",
       "version_major": 2,
       "version_minor": 0
      },
      "text/plain": [
       "Epoch 4/10:   0%|          | 0/6187 [00:00<?, ?it/s]"
      ]
     },
     "metadata": {},
     "output_type": "display_data"
    },
    {
     "name": "stdout",
     "output_type": "stream",
     "text": [
      "Epoch 4/10, Train Loss: 0.2015666781758481\n"
     ]
    },
    {
     "data": {
      "application/vnd.jupyter.widget-view+json": {
       "model_id": "f01fa1a247fe4ca3845fbd9b1ea578be",
       "version_major": 2,
       "version_minor": 0
      },
      "text/plain": [
       "Validation:   0%|          | 0/163 [00:00<?, ?it/s]"
      ]
     },
     "metadata": {},
     "output_type": "display_data"
    },
    {
     "name": "stdout",
     "output_type": "stream",
     "text": [
      "Epoch 4/10, Validation Loss: 0.20560352504181967, Validation Accuracy: 0.9339477726574501\n"
     ]
    },
    {
     "data": {
      "application/vnd.jupyter.widget-view+json": {
       "model_id": "3c9780da543b4c98aaa21887ed4ddfb8",
       "version_major": 2,
       "version_minor": 0
      },
      "text/plain": [
       "Epoch 5/10:   0%|          | 0/6187 [00:00<?, ?it/s]"
      ]
     },
     "metadata": {},
     "output_type": "display_data"
    },
    {
     "name": "stdout",
     "output_type": "stream",
     "text": [
      "Epoch 5/10, Train Loss: 0.15276937175904365\n"
     ]
    },
    {
     "data": {
      "application/vnd.jupyter.widget-view+json": {
       "model_id": "70a6fca6b5cc477ab7c7f87ff932a7e6",
       "version_major": 2,
       "version_minor": 0
      },
      "text/plain": [
       "Validation:   0%|          | 0/163 [00:00<?, ?it/s]"
      ]
     },
     "metadata": {},
     "output_type": "display_data"
    },
    {
     "name": "stdout",
     "output_type": "stream",
     "text": [
      "Epoch 5/10, Validation Loss: 0.22276455908299544, Validation Accuracy: 0.9308755760368663\n"
     ]
    },
    {
     "data": {
      "application/vnd.jupyter.widget-view+json": {
       "model_id": "5f8560de37e241968f6e00a9cb3ce0e7",
       "version_major": 2,
       "version_minor": 0
      },
      "text/plain": [
       "Epoch 6/10:   0%|          | 0/6187 [00:00<?, ?it/s]"
      ]
     },
     "metadata": {},
     "output_type": "display_data"
    },
    {
     "name": "stdout",
     "output_type": "stream",
     "text": [
      "Epoch 6/10, Train Loss: 0.14340076128126103\n"
     ]
    },
    {
     "data": {
      "application/vnd.jupyter.widget-view+json": {
       "model_id": "f2ce46edf1bd43fd8fadbcfca2200fa9",
       "version_major": 2,
       "version_minor": 0
      },
      "text/plain": [
       "Validation:   0%|          | 0/163 [00:00<?, ?it/s]"
      ]
     },
     "metadata": {},
     "output_type": "display_data"
    },
    {
     "name": "stdout",
     "output_type": "stream",
     "text": [
      "Epoch 6/10, Validation Loss: 0.22199612676395972, Validation Accuracy: 0.9324116743471582\n"
     ]
    },
    {
     "data": {
      "application/vnd.jupyter.widget-view+json": {
       "model_id": "9338c112bb784b2bb91e2df9a0e4c084",
       "version_major": 2,
       "version_minor": 0
      },
      "text/plain": [
       "Epoch 7/10:   0%|          | 0/6187 [00:00<?, ?it/s]"
      ]
     },
     "metadata": {},
     "output_type": "display_data"
    },
    {
     "name": "stdout",
     "output_type": "stream",
     "text": [
      "Epoch 7/10, Train Loss: 0.11675924546795625\n"
     ]
    },
    {
     "data": {
      "application/vnd.jupyter.widget-view+json": {
       "model_id": "47053f1d284745029284bdb0a74d1cb2",
       "version_major": 2,
       "version_minor": 0
      },
      "text/plain": [
       "Validation:   0%|          | 0/163 [00:00<?, ?it/s]"
      ]
     },
     "metadata": {},
     "output_type": "display_data"
    },
    {
     "name": "stdout",
     "output_type": "stream",
     "text": [
      "Epoch 7/10, Validation Loss: 0.16806007646709148, Validation Accuracy: 0.9477726574500768\n"
     ]
    },
    {
     "data": {
      "application/vnd.jupyter.widget-view+json": {
       "model_id": "d08a29095198402fa1c2056a8fab22f0",
       "version_major": 2,
       "version_minor": 0
      },
      "text/plain": [
       "Epoch 8/10:   0%|          | 0/6187 [00:00<?, ?it/s]"
      ]
     },
     "metadata": {},
     "output_type": "display_data"
    },
    {
     "name": "stdout",
     "output_type": "stream",
     "text": [
      "Epoch 8/10, Train Loss: 0.12864426437044363\n"
     ]
    },
    {
     "data": {
      "application/vnd.jupyter.widget-view+json": {
       "model_id": "357ae793f9204330a604b8d16b1fc7cc",
       "version_major": 2,
       "version_minor": 0
      },
      "text/plain": [
       "Validation:   0%|          | 0/163 [00:00<?, ?it/s]"
      ]
     },
     "metadata": {},
     "output_type": "display_data"
    },
    {
     "name": "stdout",
     "output_type": "stream",
     "text": [
      "Epoch 8/10, Validation Loss: 0.20549354752335708, Validation Accuracy: 0.9385560675883257\n"
     ]
    },
    {
     "data": {
      "application/vnd.jupyter.widget-view+json": {
       "model_id": "81caac846abc4a15a84bac421979053f",
       "version_major": 2,
       "version_minor": 0
      },
      "text/plain": [
       "Epoch 9/10:   0%|          | 0/6187 [00:00<?, ?it/s]"
      ]
     },
     "metadata": {},
     "output_type": "display_data"
    },
    {
     "name": "stdout",
     "output_type": "stream",
     "text": [
      "Epoch 9/10, Train Loss: 0.09755298217071075\n"
     ]
    },
    {
     "data": {
      "application/vnd.jupyter.widget-view+json": {
       "model_id": "09ad8ec81c934a919f30eec04dad451b",
       "version_major": 2,
       "version_minor": 0
      },
      "text/plain": [
       "Validation:   0%|          | 0/163 [00:00<?, ?it/s]"
      ]
     },
     "metadata": {},
     "output_type": "display_data"
    },
    {
     "name": "stdout",
     "output_type": "stream",
     "text": [
      "Epoch 9/10, Validation Loss: 0.1990755202075141, Validation Accuracy: 0.9370199692780338\n"
     ]
    },
    {
     "data": {
      "application/vnd.jupyter.widget-view+json": {
       "model_id": "6ed712a4c7d546f595e39fff9f463b20",
       "version_major": 2,
       "version_minor": 0
      },
      "text/plain": [
       "Epoch 10/10:   0%|          | 0/6187 [00:00<?, ?it/s]"
      ]
     },
     "metadata": {},
     "output_type": "display_data"
    },
    {
     "name": "stdout",
     "output_type": "stream",
     "text": [
      "Epoch 10/10, Train Loss: 0.07074982477891234\n"
     ]
    },
    {
     "data": {
      "application/vnd.jupyter.widget-view+json": {
       "model_id": "4769b591f8314712a43f0c2c3ca4dab7",
       "version_major": 2,
       "version_minor": 0
      },
      "text/plain": [
       "Validation:   0%|          | 0/163 [00:00<?, ?it/s]"
      ]
     },
     "metadata": {},
     "output_type": "display_data"
    },
    {
     "name": "stdout",
     "output_type": "stream",
     "text": [
      "Epoch 10/10, Validation Loss: 0.16508409577135982, Validation Accuracy: 0.956989247311828\n"
     ]
    },
    {
     "data": {
      "application/vnd.jupyter.widget-view+json": {
       "model_id": "5d67b04fe2014aa0a360858d90b887a2",
       "version_major": 2,
       "version_minor": 0
      },
      "text/plain": [
       "Testing:   0%|          | 0/163 [00:00<?, ?it/s]"
      ]
     },
     "metadata": {},
     "output_type": "display_data"
    },
    {
     "name": "stdout",
     "output_type": "stream",
     "text": [
      "{'val_acc': [0.815668202764977, 0.9201228878648233, 0.9170506912442397, 0.9339477726574501, 0.9308755760368663, 0.9324116743471582, 0.9477726574500768, 0.9385560675883257, 0.9370199692780338, 0.956989247311828], 'val_loss': [0.7021143265479913, 0.312435408585642, 0.25869392407943775, 0.20560352504181967, 0.22276455908299544, 0.22199612676395972, 0.16806007646709148, 0.20549354752335708, 0.1990755202075141, 0.16508409577135982], 'train_loss': [1.6524814587138823, 0.5173032297791182, 0.2885541957185902, 0.2015666781758481, 0.15276937175904365, 0.14340076128126103, 0.11675924546795625, 0.12864426437044363, 0.09755298217071075, 0.07074982477891234], 'test_correct_in_batch': [4.0, 3.0, 3.0, 3.0, 4.0, 4.0, 4.0, 4.0, 3.0, 4.0, 4.0, 4.0, 3.0, 4.0, 4.0, 3.0, 3.0, 4.0, 3.0, 3.0, 3.0, 4.0, 3.0, 4.0, 4.0, 4.0, 4.0, 3.0, 4.0, 4.0, 4.0, 4.0, 4.0, 4.0, 4.0, 4.0, 4.0, 4.0, 4.0, 4.0, 4.0, 4.0, 3.0, 4.0, 4.0, 4.0, 4.0, 4.0, 4.0, 3.0, 3.0, 2.0, 4.0, 4.0, 4.0, 4.0, 4.0, 4.0, 4.0, 3.0, 4.0, 4.0, 4.0, 4.0, 4.0, 4.0, 4.0, 3.0, 4.0, 3.0, 3.0, 4.0, 4.0, 3.0, 4.0, 4.0, 4.0, 4.0, 3.0, 4.0, 4.0, 4.0, 4.0, 4.0, 4.0, 4.0, 4.0, 4.0, 4.0, 4.0, 3.0, 4.0, 3.0, 3.0, 4.0, 4.0, 4.0, 2.0, 4.0, 3.0, 3.0, 4.0, 4.0, 3.0, 4.0, 4.0, 4.0, 4.0, 4.0, 4.0, 4.0, 3.0, 4.0, 3.0, 3.0, 4.0, 3.0, 4.0, 4.0, 4.0, 4.0, 3.0, 3.0, 4.0, 3.0, 4.0, 4.0, 3.0, 4.0, 4.0, 4.0, 3.0, 4.0, 4.0, 4.0, 4.0, 4.0, 3.0, 4.0, 3.0, 4.0, 4.0, 3.0, 4.0, 4.0, 2.0, 3.0, 4.0, 4.0, 4.0, 4.0, 4.0, 4.0, 3.0, 3.0, 4.0, 4.0, 4.0, 4.0, 4.0, 4.0, 4.0, 3.0], 'test_losses': [0.0037347639445215464, 0.22231674194335938, 0.8114585876464844, 1.0132790803909302, 0.0005447051953524351, 0.01119866780936718, 0.17375822365283966, 0.09375577419996262, 0.8559845089912415, 0.00117422454059124, 0.003187132766470313, 0.0014221121091395617, 0.6143680810928345, 0.0015950826928019524, 0.00048493241774849594, 2.2489748001098633, 0.6424307823181152, 0.040096480399370193, 1.5288314819335938, 0.8820991516113281, 0.24372616410255432, 0.0009932770626619458, 0.4848385751247406, 0.01635255478322506, 0.0032397406175732613, 0.0009538767044432461, 0.010991784743964672, 0.6023848056793213, 0.0015706508420407772, 0.0027073139790445566, 0.04962963983416557, 0.0219692625105381, 0.0008969171904027462, 0.0001364537311019376, 0.05062912777066231, 0.0012424401938915253, 0.002209309721365571, 0.09892803430557251, 0.002563992515206337, 0.13729068636894226, 0.007882962003350258, 0.008316019549965858, 0.6664204597473145, 0.015128327533602715, 0.005531013943254948, 0.002728840336203575, 0.018668361008167267, 0.003980469424277544, 0.0028571777511388063, 0.37917736172676086, 1.7830427885055542, 1.0826218128204346, 0.013969678431749344, 0.030833598226308823, 0.02209475263953209, 0.0001976677740458399, 0.0003271948953624815, 0.0008229140657931566, 0.02295163832604885, 0.8441938757896423, 0.0028030727989971638, 0.08546844124794006, 0.0028839220758527517, 0.0013201460242271423, 0.014306501485407352, 0.1280113160610199, 0.0023392378352582455, 1.2198845148086548, 0.026184752583503723, 0.6078130006790161, 0.46603336930274963, 0.0044174715876579285, 0.021990682929754257, 1.4655147790908813, 0.003124518319964409, 0.0028333181980997324, 0.012315493077039719, 0.0006340036634355783, 0.5908028483390808, 0.012391806580126286, 0.006170503329485655, 0.18491080403327942, 0.007835464552044868, 0.0041582840494811535, 0.014274362474679947, 0.019003624096512794, 0.0028744745068252087, 0.02279459312558174, 0.0011905613355338573, 0.1613699048757553, 0.33277449011802673, 0.006587393116205931, 1.2107524871826172, 0.48121294379234314, 0.025732534006237984, 0.0040931846015155315, 0.010014311410486698, 2.4623594284057617, 0.005083809606730938, 0.31629058718681335, 1.376599907875061, 0.0005391779122874141, 0.0006429508794099092, 0.5626053810119629, 0.0012624692171812057, 0.0018346903380006552, 0.0035941172391176224, 0.004366164095699787, 0.00225657457485795, 0.0002429067244520411, 0.0001984920963877812, 0.619421124458313, 0.002252743113785982, 0.5286754369735718, 0.7986657023429871, 0.0015880896244198084, 0.34581151604652405, 0.0021972781978547573, 0.0034200139343738556, 0.01607813499867916, 0.027188558131456375, 0.5544992685317993, 1.3286041021347046, 0.001188117079436779, 1.509023904800415, 0.1514120250940323, 0.00110509037040174, 0.35565415024757385, 0.008771228604018688, 0.006930958479642868, 0.0005571850342676044, 0.4964059889316559, 0.0015948856016620994, 0.02528039738535881, 0.014853185974061489, 0.006160784512758255, 0.00022404437186196446, 0.3842570185661316, 0.0010030257981270552, 0.7301920652389526, 0.0008086244342848659, 0.007936215959489346, 0.7345475554466248, 0.00042969940113835037, 0.0017773582367226481, 0.6687955856323242, 0.9864354133605957, 0.010134131647646427, 0.004880303051322699, 0.0002583587192930281, 0.047594282776117325, 0.05907343700528145, 0.0013522983063012362, 0.5291907787322998, 1.8207437992095947, 0.0017787080723792315, 0.016070028766989708, 0.10438678413629532, 0.013057943433523178, 0.0009078700677491724, 0.00022109324345365167, 0.000470894476165995, 0.005779271945357323], 'test_loss': 0.24932541762665414, 'test_batch_lens': [4, 4, 4, 4, 4, 4, 4, 4, 4, 4, 4, 4, 4, 4, 4, 4, 4, 4, 4, 4, 4, 4, 4, 4, 4, 4, 4, 4, 4, 4, 4, 4, 4, 4, 4, 4, 4, 4, 4, 4, 4, 4, 4, 4, 4, 4, 4, 4, 4, 4, 4, 4, 4, 4, 4, 4, 4, 4, 4, 4, 4, 4, 4, 4, 4, 4, 4, 4, 4, 4, 4, 4, 4, 4, 4, 4, 4, 4, 4, 4, 4, 4, 4, 4, 4, 4, 4, 4, 4, 4, 4, 4, 4, 4, 4, 4, 4, 4, 4, 4, 4, 4, 4, 4, 4, 4, 4, 4, 4, 4, 4, 4, 4, 4, 4, 4, 4, 4, 4, 4, 4, 4, 4, 4, 4, 4, 4, 4, 4, 4, 4, 4, 4, 4, 4, 4, 4, 4, 4, 4, 4, 4, 4, 4, 4, 4, 4, 4, 4, 4, 4, 4, 4, 4, 4, 4, 4, 4, 4, 4, 4, 4, 3], 'test_accuracy': 0.9262672811059908, 'predictions': [7, 4, 1, 10, 7, 1, 8, 6, 0, 2, 4, 7, 1, 9, 3, 8, 9, 6, 4, 9, 8, 10, 1, 4, 6, 8, 8, 6, 6, 8, 2, 1, 1, 8, 6, 3, 10, 5, 5, 0, 10, 3, 2, 10, 7, 8, 4, 3, 3, 8, 2, 4, 3, 4, 6, 1, 1, 9, 1, 10, 10, 6, 2, 6, 5, 1, 8, 5, 8, 1, 3, 1, 8, 3, 1, 8, 6, 6, 9, 2, 3, 1, 1, 1, 5, 5, 1, 8, 0, 5, 9, 10, 10, 7, 1, 5, 1, 8, 2, 7, 5, 1, 10, 6, 10, 8, 3, 9, 10, 4, 7, 6, 0, 3, 7, 6, 0, 8, 0, 0, 4, 8, 7, 6, 5, 1, 7, 9, 6, 7, 4, 0, 10, 10, 7, 9, 4, 1, 9, 0, 10, 3, 3, 9, 4, 7, 4, 7, 2, 10, 2, 4, 10, 10, 1, 0, 10, 5, 4, 7, 8, 9, 10, 4, 2, 3, 10, 5, 8, 0, 6, 0, 10, 7, 6, 8, 0, 8, 1, 2, 6, 3, 5, 3, 9, 3, 4, 8, 3, 2, 0, 2, 0, 9, 9, 8, 3, 3, 5, 9, 4, 1, 6, 1, 4, 4, 9, 8, 3, 9, 5, 6, 2, 5, 4, 5, 2, 10, 8, 4, 7, 3, 0, 6, 7, 0, 5, 7, 1, 0, 1, 6, 3, 7, 7, 2, 10, 9, 3, 10, 9, 4, 3, 3, 1, 7, 8, 5, 2, 4, 10, 1, 1, 2, 3, 10, 6, 9, 5, 3, 3, 10, 7, 1, 5, 1, 8, 1, 1, 7, 3, 10, 3, 5, 2, 2, 7, 6, 9, 7, 4, 8, 8, 10, 2, 4, 2, 5, 5, 3, 8, 0, 6, 6, 0, 1, 2, 7, 3, 2, 4, 10, 8, 6, 6, 0, 2, 7, 10, 1, 7, 6, 4, 2, 5, 2, 0, 9, 4, 3, 2, 6, 7, 9, 1, 8, 8, 5, 2, 9, 4, 1, 1, 8, 4, 7, 1, 2, 7, 2, 5, 0, 7, 10, 5, 0, 5, 7, 3, 6, 4, 6, 4, 9, 5, 1, 8, 3, 7, 7, 4, 2, 6, 10, 8, 9, 8, 5, 6, 9, 4, 0, 5, 0, 2, 10, 5, 0, 3, 7, 3, 1, 8, 2, 2, 4, 4, 9, 3, 7, 5, 6, 9, 4, 0, 0, 5, 6, 9, 4, 7, 7, 8, 9, 1, 10, 10, 5, 5, 7, 3, 3, 5, 10, 9, 0, 2, 3, 1, 1, 0, 5, 4, 1, 2, 0, 1, 8, 8, 4, 8, 3, 8, 0, 3, 2, 2, 3, 7, 10, 10, 4, 10, 6, 6, 5, 0, 8, 8, 2, 1, 9, 9, 5, 9, 4, 1, 3, 5, 8, 9, 10, 1, 8, 1, 6, 3, 4, 2, 4, 10, 1, 1, 2, 8, 2, 4, 8, 2, 5, 9, 9, 0, 7, 6, 9, 10, 0, 2, 2, 6, 9, 3, 7, 2, 4, 2, 0, 1, 3, 9, 6, 3, 4, 6, 3, 3, 5, 3, 1, 7, 10, 4, 10, 2, 5, 5, 7, 5, 1, 4, 5, 0, 4, 5, 4, 4, 5, 9, 7, 7, 2, 0, 2, 4, 3, 2, 9, 1, 8, 9, 1, 8, 8, 2, 0, 9, 7, 6, 7, 6, 9, 0, 10, 8, 8, 8, 1, 7, 3, 2, 7, 9, 6, 7, 8, 9, 0, 8, 2, 4, 5, 2, 10, 8, 7, 9, 6, 8, 6, 6, 5, 7, 4, 7, 4, 4, 9, 3, 3, 7, 4, 1, 7, 5, 4, 0, 7, 8, 0, 7, 4, 5, 5, 4, 8, 6, 6, 1, 5, 3, 0, 1, 4, 7, 8, 9, 4, 6, 8, 10, 7, 1, 0, 3, 9, 1, 4, 3, 10, 7, 8, 9, 9, 4, 0, 2, 3, 7, 8, 6, 8, 1, 7, 4, 0, 2, 0, 8, 6, 7], 'real_labels': [7, 4, 1, 10, 7, 1, 8, 8, 0, 8, 4, 7, 1, 9, 3, 0, 9, 6, 4, 9, 8, 10, 1, 4, 6, 8, 8, 6, 6, 8, 2, 1, 1, 9, 6, 3, 10, 5, 5, 0, 10, 3, 2, 10, 7, 8, 4, 3, 3, 8, 9, 4, 3, 4, 6, 1, 1, 9, 1, 10, 10, 6, 1, 6, 5, 5, 8, 5, 8, 1, 3, 1, 1, 3, 1, 8, 6, 8, 9, 2, 3, 1, 3, 1, 5, 5, 1, 8, 0, 4, 9, 10, 10, 7, 1, 5, 1, 8, 2, 7, 5, 1, 10, 6, 10, 8, 3, 9, 10, 4, 7, 1, 0, 3, 7, 6, 0, 8, 0, 0, 4, 8, 7, 6, 5, 1, 7, 9, 6, 7, 4, 0, 10, 10, 7, 9, 4, 1, 9, 0, 10, 3, 3, 9, 4, 7, 4, 7, 2, 10, 2, 4, 10, 10, 1, 0, 10, 5, 4, 7, 8, 9, 10, 4, 2, 3, 10, 5, 8, 0, 9, 0, 10, 7, 6, 8, 0, 8, 1, 2, 6, 3, 5, 3, 9, 3, 4, 8, 3, 2, 0, 2, 0, 9, 9, 8, 1, 3, 5, 9, 8, 1, 6, 1, 4, 3, 4, 8, 3, 9, 5, 6, 2, 5, 4, 5, 2, 10, 8, 4, 7, 3, 0, 6, 7, 0, 5, 7, 1, 0, 1, 6, 3, 7, 7, 2, 10, 4, 3, 10, 9, 4, 3, 3, 1, 7, 8, 5, 2, 4, 10, 1, 1, 2, 3, 10, 6, 9, 5, 3, 3, 10, 7, 1, 5, 1, 8, 1, 8, 7, 3, 10, 3, 5, 2, 2, 7, 3, 9, 7, 6, 8, 8, 10, 2, 4, 2, 5, 5, 3, 8, 0, 8, 6, 0, 1, 2, 7, 3, 2, 4, 10, 8, 6, 6, 0, 2, 7, 10, 1, 7, 6, 9, 2, 5, 2, 0, 9, 4, 3, 2, 6, 7, 9, 1, 8, 8, 5, 2, 9, 4, 1, 1, 8, 4, 7, 1, 2, 7, 2, 5, 0, 7, 10, 5, 0, 5, 7, 3, 6, 4, 6, 4, 9, 5, 1, 8, 3, 7, 7, 4, 4, 6, 10, 8, 9, 8, 5, 6, 7, 4, 0, 5, 0, 9, 10, 5, 0, 3, 7, 3, 1, 8, 2, 2, 4, 4, 9, 3, 7, 9, 9, 9, 4, 0, 0, 5, 6, 9, 9, 7, 7, 6, 9, 1, 10, 10, 5, 5, 7, 3, 3, 5, 10, 9, 7, 2, 3, 1, 1, 0, 5, 4, 1, 2, 0, 1, 8, 8, 4, 8, 3, 8, 0, 3, 2, 2, 3, 7, 10, 10, 4, 10, 6, 6, 5, 0, 9, 8, 2, 1, 9, 9, 5, 9, 9, 1, 3, 5, 7, 9, 10, 1, 8, 1, 6, 3, 8, 2, 4, 10, 1, 1, 2, 8, 2, 4, 8, 2, 5, 9, 9, 0, 7, 6, 9, 2, 0, 2, 8, 6, 9, 3, 7, 2, 4, 3, 0, 1, 3, 9, 6, 3, 4, 6, 3, 3, 5, 0, 1, 7, 10, 4, 10, 2, 5, 5, 7, 5, 1, 4, 5, 0, 4, 5, 4, 9, 5, 9, 7, 7, 2, 0, 2, 4, 3, 2, 9, 1, 8, 9, 1, 8, 8, 2, 0, 9, 7, 6, 9, 6, 9, 0, 10, 8, 8, 4, 1, 7, 3, 2, 7, 9, 6, 7, 8, 9, 0, 8, 2, 10, 5, 2, 10, 8, 7, 9, 6, 8, 6, 6, 4, 7, 9, 7, 8, 4, 9, 3, 3, 7, 4, 1, 7, 5, 4, 0, 7, 8, 0, 7, 4, 5, 5, 4, 8, 6, 6, 1, 5, 3, 0, 1, 4, 7, 1, 9, 4, 6, 6, 10, 7, 1, 0, 3, 9, 1, 4, 3, 10, 7, 8, 9, 9, 4, 0, 2, 3, 7, 8, 6, 8, 1, 7, 4, 0, 2, 0, 8, 6, 7], 'label_to_index': {'down': 0, 'go': 1, 'left': 2, 'no': 3, 'off': 4, 'on': 5, 'right': 6, 'stop': 7, 'unknown': 8, 'up': 9, 'yes': 10}}\n",
      "Test Loss: 0.24932541762665414, Test Accuracy: 0.9262672811059908\n"
     ]
    },
    {
     "name": "stderr",
     "output_type": "stream",
     "text": [
      "Some weights of the model checkpoint at superb/wav2vec2-base-superb-ks were not used when initializing Wav2Vec2ForSequenceClassification: ['wav2vec2.encoder.pos_conv_embed.conv.weight_g', 'wav2vec2.encoder.pos_conv_embed.conv.weight_v']\n",
      "- This IS expected if you are initializing Wav2Vec2ForSequenceClassification from the checkpoint of a model trained on another task or with another architecture (e.g. initializing a BertForSequenceClassification model from a BertForPreTraining model).\n",
      "- This IS NOT expected if you are initializing Wav2Vec2ForSequenceClassification from the checkpoint of a model that you expect to be exactly identical (initializing a BertForSequenceClassification model from a BertForSequenceClassification model).\n",
      "Some weights of Wav2Vec2ForSequenceClassification were not initialized from the model checkpoint at superb/wav2vec2-base-superb-ks and are newly initialized: ['wav2vec2.encoder.pos_conv_embed.conv.parametrizations.weight.original0', 'wav2vec2.encoder.pos_conv_embed.conv.parametrizations.weight.original1']\n",
      "You should probably TRAIN this model on a down-stream task to be able to use it for predictions and inference.\n"
     ]
    },
    {
     "data": {
      "application/vnd.jupyter.widget-view+json": {
       "model_id": "5380ffdaa618402b930520719dbb8c2c",
       "version_major": 2,
       "version_minor": 0
      },
      "text/plain": [
       "Epoch 1/10:   0%|          | 0/6187 [00:00<?, ?it/s]"
      ]
     },
     "metadata": {},
     "output_type": "display_data"
    },
    {
     "name": "stdout",
     "output_type": "stream",
     "text": [
      "Epoch 1/10, Train Loss: 1.469098839897398\n"
     ]
    },
    {
     "data": {
      "application/vnd.jupyter.widget-view+json": {
       "model_id": "70b5bb5b68304fff94196949b7e23275",
       "version_major": 2,
       "version_minor": 0
      },
      "text/plain": [
       "Validation:   0%|          | 0/163 [00:00<?, ?it/s]"
      ]
     },
     "metadata": {},
     "output_type": "display_data"
    },
    {
     "name": "stdout",
     "output_type": "stream",
     "text": [
      "Epoch 1/10, Validation Loss: 0.836544535825589, Validation Accuracy: 0.7542242703533026\n"
     ]
    },
    {
     "data": {
      "application/vnd.jupyter.widget-view+json": {
       "model_id": "511918cb53314889821487c4bd8918f1",
       "version_major": 2,
       "version_minor": 0
      },
      "text/plain": [
       "Epoch 2/10:   0%|          | 0/6187 [00:00<?, ?it/s]"
      ]
     },
     "metadata": {},
     "output_type": "display_data"
    },
    {
     "name": "stdout",
     "output_type": "stream",
     "text": [
      "Epoch 2/10, Train Loss: 0.5773969325776622\n"
     ]
    },
    {
     "data": {
      "application/vnd.jupyter.widget-view+json": {
       "model_id": "0aa5e3f0b7cc4428af69ad93058b5f40",
       "version_major": 2,
       "version_minor": 0
      },
      "text/plain": [
       "Validation:   0%|          | 0/163 [00:00<?, ?it/s]"
      ]
     },
     "metadata": {},
     "output_type": "display_data"
    },
    {
     "name": "stdout",
     "output_type": "stream",
     "text": [
      "Epoch 2/10, Validation Loss: 0.48882744003064427, Validation Accuracy: 0.8509984639016898\n"
     ]
    },
    {
     "data": {
      "application/vnd.jupyter.widget-view+json": {
       "model_id": "825ae1c8675c481db2d659d6f33afaf8",
       "version_major": 2,
       "version_minor": 0
      },
      "text/plain": [
       "Epoch 3/10:   0%|          | 0/6187 [00:00<?, ?it/s]"
      ]
     },
     "metadata": {},
     "output_type": "display_data"
    },
    {
     "name": "stdout",
     "output_type": "stream",
     "text": [
      "Epoch 3/10, Train Loss: 0.4164318722438387\n"
     ]
    },
    {
     "data": {
      "application/vnd.jupyter.widget-view+json": {
       "model_id": "47bcb4a43d5146908e1cc15118721897",
       "version_major": 2,
       "version_minor": 0
      },
      "text/plain": [
       "Validation:   0%|          | 0/163 [00:00<?, ?it/s]"
      ]
     },
     "metadata": {},
     "output_type": "display_data"
    },
    {
     "name": "stdout",
     "output_type": "stream",
     "text": [
      "Epoch 3/10, Validation Loss: 0.2984955173408601, Validation Accuracy: 0.9078341013824884\n"
     ]
    },
    {
     "data": {
      "application/vnd.jupyter.widget-view+json": {
       "model_id": "f15af5fe818345b9840eec71b0bedabb",
       "version_major": 2,
       "version_minor": 0
      },
      "text/plain": [
       "Epoch 4/10:   0%|          | 0/6187 [00:00<?, ?it/s]"
      ]
     },
     "metadata": {},
     "output_type": "display_data"
    },
    {
     "name": "stdout",
     "output_type": "stream",
     "text": [
      "Epoch 4/10, Train Loss: 0.26806777939709564\n"
     ]
    },
    {
     "data": {
      "application/vnd.jupyter.widget-view+json": {
       "model_id": "9b84ddc1431e422cb417ce61cc1517c0",
       "version_major": 2,
       "version_minor": 0
      },
      "text/plain": [
       "Validation:   0%|          | 0/163 [00:00<?, ?it/s]"
      ]
     },
     "metadata": {},
     "output_type": "display_data"
    },
    {
     "name": "stdout",
     "output_type": "stream",
     "text": [
      "Epoch 4/10, Validation Loss: 0.25512607815672583, Validation Accuracy: 0.9293394777265745\n"
     ]
    },
    {
     "data": {
      "application/vnd.jupyter.widget-view+json": {
       "model_id": "5d103bdc59a54c98814bfa9b0fbf24c1",
       "version_major": 2,
       "version_minor": 0
      },
      "text/plain": [
       "Epoch 5/10:   0%|          | 0/6187 [00:00<?, ?it/s]"
      ]
     },
     "metadata": {},
     "output_type": "display_data"
    },
    {
     "name": "stdout",
     "output_type": "stream",
     "text": [
      "Epoch 5/10, Train Loss: 0.22861579519602868\n"
     ]
    },
    {
     "data": {
      "application/vnd.jupyter.widget-view+json": {
       "model_id": "bcd13771ec0346798cd3525822dc3ff8",
       "version_major": 2,
       "version_minor": 0
      },
      "text/plain": [
       "Validation:   0%|          | 0/163 [00:00<?, ?it/s]"
      ]
     },
     "metadata": {},
     "output_type": "display_data"
    },
    {
     "name": "stdout",
     "output_type": "stream",
     "text": [
      "Epoch 5/10, Validation Loss: 0.22179826525142815, Validation Accuracy: 0.9231950844854071\n"
     ]
    },
    {
     "data": {
      "application/vnd.jupyter.widget-view+json": {
       "model_id": "4134a46dde8a44349e4ace33886a09d4",
       "version_major": 2,
       "version_minor": 0
      },
      "text/plain": [
       "Epoch 6/10:   0%|          | 0/6187 [00:00<?, ?it/s]"
      ]
     },
     "metadata": {},
     "output_type": "display_data"
    },
    {
     "name": "stdout",
     "output_type": "stream",
     "text": [
      "Epoch 6/10, Train Loss: 0.1820723991180679\n"
     ]
    },
    {
     "data": {
      "application/vnd.jupyter.widget-view+json": {
       "model_id": "6c1caa4c72a64feaa438447190af347e",
       "version_major": 2,
       "version_minor": 0
      },
      "text/plain": [
       "Validation:   0%|          | 0/163 [00:00<?, ?it/s]"
      ]
     },
     "metadata": {},
     "output_type": "display_data"
    },
    {
     "name": "stdout",
     "output_type": "stream",
     "text": [
      "Epoch 6/10, Validation Loss: 0.2040556421756253, Validation Accuracy: 0.9324116743471582\n"
     ]
    },
    {
     "data": {
      "application/vnd.jupyter.widget-view+json": {
       "model_id": "afa7585447f245c4aac8fe5b6f006e48",
       "version_major": 2,
       "version_minor": 0
      },
      "text/plain": [
       "Epoch 7/10:   0%|          | 0/6187 [00:00<?, ?it/s]"
      ]
     },
     "metadata": {},
     "output_type": "display_data"
    },
    {
     "name": "stdout",
     "output_type": "stream",
     "text": [
      "Epoch 7/10, Train Loss: 0.15959525167990377\n"
     ]
    },
    {
     "data": {
      "application/vnd.jupyter.widget-view+json": {
       "model_id": "69627495f455484982737e8818072def",
       "version_major": 2,
       "version_minor": 0
      },
      "text/plain": [
       "Validation:   0%|          | 0/163 [00:00<?, ?it/s]"
      ]
     },
     "metadata": {},
     "output_type": "display_data"
    },
    {
     "name": "stdout",
     "output_type": "stream",
     "text": [
      "Epoch 7/10, Validation Loss: 0.23042026336208069, Validation Accuracy: 0.9216589861751152\n"
     ]
    },
    {
     "data": {
      "application/vnd.jupyter.widget-view+json": {
       "model_id": "5af4ea48233d4a3dbf2324e39b0bf3a5",
       "version_major": 2,
       "version_minor": 0
      },
      "text/plain": [
       "Epoch 8/10:   0%|          | 0/6187 [00:00<?, ?it/s]"
      ]
     },
     "metadata": {},
     "output_type": "display_data"
    },
    {
     "name": "stdout",
     "output_type": "stream",
     "text": [
      "Epoch 8/10, Train Loss: 0.12132609457243168\n"
     ]
    },
    {
     "data": {
      "application/vnd.jupyter.widget-view+json": {
       "model_id": "5d5999b2d16d49feb7a02a1908fd8343",
       "version_major": 2,
       "version_minor": 0
      },
      "text/plain": [
       "Validation:   0%|          | 0/163 [00:00<?, ?it/s]"
      ]
     },
     "metadata": {},
     "output_type": "display_data"
    },
    {
     "name": "stdout",
     "output_type": "stream",
     "text": [
      "Epoch 8/10, Validation Loss: 0.1654894144643538, Validation Accuracy: 0.9539170506912442\n"
     ]
    },
    {
     "data": {
      "application/vnd.jupyter.widget-view+json": {
       "model_id": "574abeeef6a64f96830482f43858dac6",
       "version_major": 2,
       "version_minor": 0
      },
      "text/plain": [
       "Epoch 9/10:   0%|          | 0/6187 [00:00<?, ?it/s]"
      ]
     },
     "metadata": {},
     "output_type": "display_data"
    },
    {
     "name": "stdout",
     "output_type": "stream",
     "text": [
      "Epoch 9/10, Train Loss: 0.0950484327900668\n"
     ]
    },
    {
     "data": {
      "application/vnd.jupyter.widget-view+json": {
       "model_id": "a82ef1c140bb4605b49bd0ffbf84d040",
       "version_major": 2,
       "version_minor": 0
      },
      "text/plain": [
       "Validation:   0%|          | 0/163 [00:00<?, ?it/s]"
      ]
     },
     "metadata": {},
     "output_type": "display_data"
    },
    {
     "name": "stdout",
     "output_type": "stream",
     "text": [
      "Epoch 9/10, Validation Loss: 0.20509797450001643, Validation Accuracy: 0.9447004608294931\n"
     ]
    },
    {
     "data": {
      "application/vnd.jupyter.widget-view+json": {
       "model_id": "3e3f9617c79043f194d7a785177ba721",
       "version_major": 2,
       "version_minor": 0
      },
      "text/plain": [
       "Epoch 10/10:   0%|          | 0/6187 [00:00<?, ?it/s]"
      ]
     },
     "metadata": {},
     "output_type": "display_data"
    },
    {
     "name": "stdout",
     "output_type": "stream",
     "text": [
      "Epoch 10/10, Train Loss: 0.09339505726700272\n"
     ]
    },
    {
     "data": {
      "application/vnd.jupyter.widget-view+json": {
       "model_id": "837250f99889433281430e48adde3be2",
       "version_major": 2,
       "version_minor": 0
      },
      "text/plain": [
       "Validation:   0%|          | 0/163 [00:00<?, ?it/s]"
      ]
     },
     "metadata": {},
     "output_type": "display_data"
    },
    {
     "name": "stdout",
     "output_type": "stream",
     "text": [
      "Epoch 10/10, Validation Loss: 0.1768353427505533, Validation Accuracy: 0.9477726574500768\n"
     ]
    },
    {
     "data": {
      "application/vnd.jupyter.widget-view+json": {
       "model_id": "fa7f8a92acd74595b6ed57b916d475d3",
       "version_major": 2,
       "version_minor": 0
      },
      "text/plain": [
       "Testing:   0%|          | 0/163 [00:00<?, ?it/s]"
      ]
     },
     "metadata": {},
     "output_type": "display_data"
    },
    {
     "name": "stdout",
     "output_type": "stream",
     "text": [
      "{'val_acc': [0.7542242703533026, 0.8509984639016898, 0.9078341013824884, 0.9293394777265745, 0.9231950844854071, 0.9324116743471582, 0.9216589861751152, 0.9539170506912442, 0.9447004608294931, 0.9477726574500768], 'val_loss': [0.836544535825589, 0.48882744003064427, 0.2984955173408601, 0.25512607815672583, 0.22179826525142815, 0.2040556421756253, 0.23042026336208069, 0.1654894144643538, 0.20509797450001643, 0.1768353427505533], 'train_loss': [1.469098839897398, 0.5773969325776622, 0.4164318722438387, 0.26806777939709564, 0.22861579519602868, 0.1820723991180679, 0.15959525167990377, 0.12132609457243168, 0.0950484327900668, 0.09339505726700272], 'test_correct_in_batch': [4.0, 4.0, 3.0, 4.0, 4.0, 4.0, 3.0, 4.0, 2.0, 4.0, 4.0, 4.0, 4.0, 4.0, 4.0, 3.0, 3.0, 3.0, 3.0, 4.0, 3.0, 4.0, 3.0, 4.0, 4.0, 4.0, 4.0, 3.0, 4.0, 4.0, 3.0, 4.0, 4.0, 4.0, 4.0, 4.0, 4.0, 4.0, 4.0, 4.0, 4.0, 4.0, 3.0, 4.0, 4.0, 4.0, 4.0, 4.0, 4.0, 4.0, 3.0, 2.0, 4.0, 4.0, 4.0, 4.0, 4.0, 4.0, 4.0, 3.0, 4.0, 4.0, 4.0, 4.0, 3.0, 4.0, 4.0, 3.0, 4.0, 3.0, 3.0, 4.0, 4.0, 2.0, 4.0, 4.0, 4.0, 4.0, 4.0, 4.0, 4.0, 4.0, 4.0, 4.0, 4.0, 3.0, 3.0, 3.0, 4.0, 4.0, 4.0, 4.0, 2.0, 4.0, 4.0, 4.0, 4.0, 2.0, 4.0, 4.0, 3.0, 4.0, 4.0, 3.0, 4.0, 4.0, 4.0, 4.0, 4.0, 4.0, 4.0, 4.0, 4.0, 4.0, 4.0, 4.0, 3.0, 3.0, 4.0, 3.0, 4.0, 3.0, 3.0, 4.0, 3.0, 4.0, 4.0, 4.0, 4.0, 4.0, 4.0, 4.0, 4.0, 4.0, 4.0, 4.0, 4.0, 4.0, 4.0, 3.0, 4.0, 4.0, 3.0, 4.0, 4.0, 3.0, 4.0, 4.0, 4.0, 4.0, 4.0, 3.0, 4.0, 4.0, 3.0, 4.0, 4.0, 3.0, 3.0, 4.0, 4.0, 4.0, 3.0], 'test_losses': [0.0002487183373887092, 0.002173631452023983, 0.7038338780403137, 0.09388084709644318, 0.00021401264530140907, 0.0005694780847989023, 0.20488648116588593, 0.3431251347064972, 0.8216471076011658, 0.00014151477080304176, 0.0006465227343142033, 0.001220119185745716, 0.23826836049556732, 0.002924515400081873, 0.0002596550330054015, 3.3529889583587646, 0.8507702350616455, 0.4684927761554718, 1.1600890159606934, 0.0009550779941491783, 1.0040006637573242, 0.00039397765067406, 1.1001404523849487, 0.022834403440356255, 0.01423287857323885, 0.000748952035792172, 0.0064174942672252655, 0.5024778246879578, 0.0013595178024843335, 0.0008244556374847889, 0.6818493008613586, 0.0006206638645380735, 0.0028989289421588182, 4.079840437043458e-05, 0.00029366929084062576, 0.00031228800071403384, 0.0011183113092556596, 0.005380625370889902, 0.0003568172105588019, 0.0025512732099741697, 0.08065163344144821, 0.001703838468529284, 0.4466927647590637, 0.05514087527990341, 0.008333678357303143, 0.0013745144242420793, 0.0011041724355891347, 0.011767431162297726, 0.015610180795192719, 0.012188183143734932, 1.2084147930145264, 2.8131418228149414, 0.0037158061750233173, 0.005118267610669136, 0.10282078385353088, 0.00016945121751632541, 9.964717901311815e-05, 0.0004700985155068338, 0.006559014320373535, 0.4925745129585266, 0.002745505655184388, 0.037167806178331375, 0.06751727312803268, 0.00023325945949181914, 0.24252769351005554, 0.17319266498088837, 0.002492520958185196, 0.6669211983680725, 0.3332451581954956, 0.7255608439445496, 0.8560903072357178, 0.00045731867430731654, 0.0025368742644786835, 0.8639624714851379, 0.0002519230474717915, 0.036186136305332184, 0.00035153856151737273, 0.0002901861153077334, 0.0020136148668825626, 0.001034857938066125, 0.10987557470798492, 0.13862667977809906, 0.006378668826073408, 0.0020877413917332888, 0.004204186145216227, 2.5721373558044434, 0.20794567465782166, 0.1776724010705948, 0.0708247497677803, 0.13591639697551727, 0.04175775870680809, 0.014003641903400421, 1.8791168928146362, 0.001100950175896287, 0.002165611367672682, 0.021527264267206192, 0.0018829903565347195, 2.9594736099243164, 0.025609716773033142, 0.0007882841164246202, 0.8607670068740845, 0.00011625188926700503, 0.0007164684357121587, 0.3172646164894104, 0.0005882084369659424, 0.00024014018708840013, 0.004065774846822023, 0.0011856409255415201, 0.005554879084229469, 0.0002516737440600991, 0.0008279957110062242, 0.25667187571525574, 0.00023213724489323795, 0.0028449224773794413, 0.04187158867716789, 0.08273056894540787, 0.4451780915260315, 0.20680490136146545, 0.0004237781395204365, 0.4805728495121002, 0.0022725313901901245, 0.724163293838501, 0.34235507249832153, 0.014366948045790195, 0.7090676426887512, 0.005882635246962309, 0.011775923892855644, 0.014425829984247684, 0.031202470883727074, 0.11035849899053574, 0.003419036976993084, 0.0017644170438870788, 0.0003292551846243441, 0.13522788882255554, 0.002167973667383194, 0.005386239383369684, 0.00053414172725752, 0.06152480095624924, 0.009333510883152485, 0.46508651971817017, 0.00020903856784570962, 0.05962403863668442, 1.218256950378418, 0.006276318803429604, 0.0006264671101234853, 0.5246768593788147, 0.06550049781799316, 0.02282765507698059, 0.2677975296974182, 0.0005279254983179271, 0.0006310078897513449, 0.4112063944339752, 0.0002126574399881065, 0.010221263393759727, 1.262926459312439, 0.004486692603677511, 0.004021091852337122, 0.3177112936973572, 1.2059903144836426, 0.0006461617304012179, 0.0003466240887064487, 0.0004899175837635994, 0.0021233183797448874], 'test_loss': 0.24539022447371375, 'test_batch_lens': [4, 4, 4, 4, 4, 4, 4, 4, 4, 4, 4, 4, 4, 4, 4, 4, 4, 4, 4, 4, 4, 4, 4, 4, 4, 4, 4, 4, 4, 4, 4, 4, 4, 4, 4, 4, 4, 4, 4, 4, 4, 4, 4, 4, 4, 4, 4, 4, 4, 4, 4, 4, 4, 4, 4, 4, 4, 4, 4, 4, 4, 4, 4, 4, 4, 4, 4, 4, 4, 4, 4, 4, 4, 4, 4, 4, 4, 4, 4, 4, 4, 4, 4, 4, 4, 4, 4, 4, 4, 4, 4, 4, 4, 4, 4, 4, 4, 4, 4, 4, 4, 4, 4, 4, 4, 4, 4, 4, 4, 4, 4, 4, 4, 4, 4, 4, 4, 4, 4, 4, 4, 4, 4, 4, 4, 4, 4, 4, 4, 4, 4, 4, 4, 4, 4, 4, 4, 4, 4, 4, 4, 4, 4, 4, 4, 4, 4, 4, 4, 4, 4, 4, 4, 4, 4, 4, 4, 4, 4, 4, 4, 4, 3], 'test_accuracy': 0.9308755760368663, 'predictions': [7, 4, 1, 10, 7, 1, 8, 8, 0, 3, 4, 7, 1, 9, 3, 0, 9, 6, 4, 9, 8, 10, 1, 4, 6, 9, 8, 6, 6, 8, 2, 1, 3, 1, 6, 3, 10, 5, 5, 0, 10, 3, 2, 10, 7, 8, 4, 3, 3, 8, 9, 4, 3, 4, 6, 1, 1, 9, 1, 10, 10, 6, 2, 6, 5, 9, 8, 5, 8, 3, 3, 1, 9, 3, 1, 8, 6, 8, 9, 2, 3, 1, 1, 1, 5, 5, 1, 8, 0, 5, 9, 10, 10, 7, 1, 5, 1, 8, 2, 7, 5, 1, 10, 6, 10, 8, 3, 9, 10, 4, 7, 10, 0, 3, 7, 6, 0, 8, 0, 0, 4, 0, 7, 6, 5, 1, 7, 9, 6, 7, 4, 0, 10, 10, 7, 9, 4, 1, 9, 0, 10, 3, 3, 9, 4, 7, 4, 7, 2, 10, 2, 4, 10, 10, 1, 0, 10, 5, 4, 7, 8, 9, 10, 4, 2, 3, 10, 5, 8, 0, 10, 0, 10, 7, 6, 8, 0, 8, 1, 2, 6, 3, 5, 3, 9, 3, 4, 8, 3, 2, 0, 2, 0, 9, 9, 8, 1, 3, 5, 9, 9, 1, 6, 1, 4, 4, 9, 8, 3, 9, 5, 6, 2, 5, 4, 5, 2, 10, 8, 4, 7, 3, 0, 6, 7, 0, 5, 7, 1, 0, 1, 6, 3, 7, 7, 2, 10, 9, 3, 10, 9, 4, 3, 3, 1, 7, 8, 5, 2, 4, 10, 1, 1, 2, 3, 10, 6, 9, 5, 1, 3, 10, 7, 1, 5, 1, 8, 1, 1, 7, 3, 10, 3, 5, 2, 2, 7, 9, 9, 7, 10, 8, 8, 10, 2, 4, 2, 5, 5, 3, 8, 0, 6, 6, 3, 1, 2, 7, 3, 2, 4, 10, 8, 6, 6, 0, 2, 7, 10, 1, 7, 6, 9, 2, 5, 2, 0, 9, 4, 3, 2, 6, 7, 9, 1, 8, 8, 5, 2, 9, 4, 1, 1, 8, 4, 7, 1, 2, 7, 2, 5, 0, 4, 10, 5, 0, 9, 7, 3, 6, 9, 6, 4, 9, 5, 1, 8, 3, 7, 7, 4, 4, 6, 10, 8, 9, 8, 5, 3, 9, 4, 0, 5, 0, 9, 10, 5, 0, 3, 7, 3, 1, 8, 2, 2, 4, 4, 9, 3, 7, 5, 10, 9, 4, 0, 0, 5, 6, 9, 9, 7, 7, 8, 9, 1, 10, 10, 5, 5, 7, 3, 3, 5, 10, 4, 7, 2, 3, 1, 1, 0, 5, 4, 1, 2, 0, 1, 8, 8, 4, 8, 3, 8, 0, 3, 2, 2, 3, 7, 10, 10, 4, 10, 6, 6, 5, 0, 9, 8, 2, 1, 9, 9, 5, 9, 9, 1, 3, 5, 7, 9, 10, 1, 8, 1, 6, 3, 4, 10, 4, 10, 1, 1, 2, 8, 2, 4, 8, 2, 8, 9, 9, 0, 7, 6, 9, 1, 0, 2, 3, 6, 9, 3, 7, 2, 4, 10, 0, 1, 3, 9, 6, 3, 4, 6, 3, 3, 5, 0, 1, 7, 10, 4, 10, 2, 5, 5, 7, 5, 1, 4, 5, 0, 4, 5, 4, 9, 5, 9, 7, 7, 2, 0, 2, 4, 3, 2, 9, 1, 8, 9, 1, 8, 8, 2, 0, 9, 7, 6, 9, 6, 9, 0, 10, 8, 8, 5, 1, 7, 3, 2, 7, 9, 6, 7, 8, 9, 0, 8, 2, 7, 5, 2, 10, 8, 7, 9, 6, 8, 6, 6, 9, 7, 9, 7, 8, 4, 9, 3, 3, 7, 4, 1, 7, 5, 4, 0, 7, 8, 0, 7, 4, 5, 5, 4, 6, 6, 6, 1, 5, 3, 0, 1, 4, 7, 1, 9, 4, 6, 5, 10, 7, 1, 0, 3, 9, 1, 4, 3, 8, 7, 8, 9, 9, 4, 1, 2, 3, 7, 8, 6, 8, 1, 7, 4, 0, 2, 0, 8, 6, 7], 'real_labels': [7, 4, 1, 10, 7, 1, 8, 8, 0, 8, 4, 7, 1, 9, 3, 0, 9, 6, 4, 9, 8, 10, 1, 4, 6, 8, 8, 6, 6, 8, 2, 1, 1, 9, 6, 3, 10, 5, 5, 0, 10, 3, 2, 10, 7, 8, 4, 3, 3, 8, 9, 4, 3, 4, 6, 1, 1, 9, 1, 10, 10, 6, 1, 6, 5, 5, 8, 5, 8, 1, 3, 1, 1, 3, 1, 8, 6, 8, 9, 2, 3, 1, 3, 1, 5, 5, 1, 8, 0, 4, 9, 10, 10, 7, 1, 5, 1, 8, 2, 7, 5, 1, 10, 6, 10, 8, 3, 9, 10, 4, 7, 1, 0, 3, 7, 6, 0, 8, 0, 0, 4, 8, 7, 6, 5, 1, 7, 9, 6, 7, 4, 0, 10, 10, 7, 9, 4, 1, 9, 0, 10, 3, 3, 9, 4, 7, 4, 7, 2, 10, 2, 4, 10, 10, 1, 0, 10, 5, 4, 7, 8, 9, 10, 4, 2, 3, 10, 5, 8, 0, 9, 0, 10, 7, 6, 8, 0, 8, 1, 2, 6, 3, 5, 3, 9, 3, 4, 8, 3, 2, 0, 2, 0, 9, 9, 8, 1, 3, 5, 9, 8, 1, 6, 1, 4, 3, 4, 8, 3, 9, 5, 6, 2, 5, 4, 5, 2, 10, 8, 4, 7, 3, 0, 6, 7, 0, 5, 7, 1, 0, 1, 6, 3, 7, 7, 2, 10, 4, 3, 10, 9, 4, 3, 3, 1, 7, 8, 5, 2, 4, 10, 1, 1, 2, 3, 10, 6, 9, 5, 3, 3, 10, 7, 1, 5, 1, 8, 1, 8, 7, 3, 10, 3, 5, 2, 2, 7, 3, 9, 7, 6, 8, 8, 10, 2, 4, 2, 5, 5, 3, 8, 0, 8, 6, 0, 1, 2, 7, 3, 2, 4, 10, 8, 6, 6, 0, 2, 7, 10, 1, 7, 6, 9, 2, 5, 2, 0, 9, 4, 3, 2, 6, 7, 9, 1, 8, 8, 5, 2, 9, 4, 1, 1, 8, 4, 7, 1, 2, 7, 2, 5, 0, 7, 10, 5, 0, 5, 7, 3, 6, 4, 6, 4, 9, 5, 1, 8, 3, 7, 7, 4, 4, 6, 10, 8, 9, 8, 5, 6, 7, 4, 0, 5, 0, 9, 10, 5, 0, 3, 7, 3, 1, 8, 2, 2, 4, 4, 9, 3, 7, 9, 9, 9, 4, 0, 0, 5, 6, 9, 9, 7, 7, 6, 9, 1, 10, 10, 5, 5, 7, 3, 3, 5, 10, 9, 7, 2, 3, 1, 1, 0, 5, 4, 1, 2, 0, 1, 8, 8, 4, 8, 3, 8, 0, 3, 2, 2, 3, 7, 10, 10, 4, 10, 6, 6, 5, 0, 9, 8, 2, 1, 9, 9, 5, 9, 9, 1, 3, 5, 7, 9, 10, 1, 8, 1, 6, 3, 8, 2, 4, 10, 1, 1, 2, 8, 2, 4, 8, 2, 5, 9, 9, 0, 7, 6, 9, 2, 0, 2, 8, 6, 9, 3, 7, 2, 4, 3, 0, 1, 3, 9, 6, 3, 4, 6, 3, 3, 5, 0, 1, 7, 10, 4, 10, 2, 5, 5, 7, 5, 1, 4, 5, 0, 4, 5, 4, 9, 5, 9, 7, 7, 2, 0, 2, 4, 3, 2, 9, 1, 8, 9, 1, 8, 8, 2, 0, 9, 7, 6, 9, 6, 9, 0, 10, 8, 8, 4, 1, 7, 3, 2, 7, 9, 6, 7, 8, 9, 0, 8, 2, 10, 5, 2, 10, 8, 7, 9, 6, 8, 6, 6, 4, 7, 9, 7, 8, 4, 9, 3, 3, 7, 4, 1, 7, 5, 4, 0, 7, 8, 0, 7, 4, 5, 5, 4, 8, 6, 6, 1, 5, 3, 0, 1, 4, 7, 1, 9, 4, 6, 6, 10, 7, 1, 0, 3, 9, 1, 4, 3, 10, 7, 8, 9, 9, 4, 0, 2, 3, 7, 8, 6, 8, 1, 7, 4, 0, 2, 0, 8, 6, 7], 'label_to_index': {'down': 0, 'go': 1, 'left': 2, 'no': 3, 'off': 4, 'on': 5, 'right': 6, 'stop': 7, 'unknown': 8, 'up': 9, 'yes': 10}}\n",
      "Test Loss: 0.24539022447371375, Test Accuracy: 0.9308755760368663\n"
     ]
    }
   ],
   "source": [
    "import random\n",
    "import numpy as np\n",
    "\n",
    "for opt in tqdm(optimizers, desc='Optimizers'):\n",
    "    for lr in tqdm(learning_rates, desc=\"Learninig Rates\"):\n",
    "        if opt == 'adam':\n",
    "            continue\n",
    "        if opt == 'sgd' and lr == 0.0001:\n",
    "            continue\n",
    "\n",
    "        for i in tqdm(np.arange (0, 5, 1), desc='Training loop (5 times)'):\n",
    "        \n",
    "            random.seed(int(i))\n",
    "            torch.manual_seed(i)\n",
    "            torch.cuda.manual_seed(i)\n",
    "            torch.cuda.manual_seed_all(i)\n",
    "\n",
    "            \n",
    "        \n",
    "            model = Wav2Vec2ForSequenceClassification.from_pretrained(model_name)\n",
    "\n",
    "            only_name = model_name.split(\"/\")[-1]   \n",
    "\n",
    "            if opt == 'adam':\n",
    "                optimizer = torch.optim.Adam(model.parameters(), lr=lr)\n",
    "            else:\n",
    "                optimizer = torch.optim.SGD(model.parameters(), lr=lr)\n",
    "\n",
    "\n",
    "          \n",
    "            criterion = torch.nn.CrossEntropyLoss()\n",
    "\n",
    "            device = torch.device('cuda')\n",
    "            # Assuming your model is named ast_model\n",
    "            freeze_layers_except_last_n(model.wav2vec2.encoder.layers, 4)\n",
    "\n",
    "            # set number of features to 11\n",
    "            model.classifier = torch.nn.Linear(in_features=256, out_features=num_features, bias=True)\n",
    "\n",
    "            model.to(device)\n",
    "\n",
    "            train_dataset = CustomAudioDataset(data_dir, fixed_length=16000, transform=feature_extractor)\n",
    "                                            \n",
    "\n",
    "\n",
    "            n_train = len(train_dataset)\n",
    "            n_val = int(perc * n_train)\n",
    "            n_test = n_val//2\n",
    "            n_train = n_train - n_val\n",
    "\n",
    "            train_dataset, val_dataset = torch.utils.data.random_split(train_dataset, [n_train, n_val], generator=torch.Generator().manual_seed(42))\n",
    "            val_dataset, test_dataset = torch.utils.data.random_split(val_dataset, [n_val-n_test, n_test], generator=torch.Generator().manual_seed(42))\n",
    "\n",
    "            train_loader = DataLoader(train_dataset, batch_size=batch_size, shuffle=True)\n",
    "            val_loader = DataLoader(val_dataset, batch_size=batch_size, shuffle=False)\n",
    "            test_loader = DataLoader(test_dataset, batch_size=batch_size, shuffle=False)\n",
    "            \n",
    "\n",
    "            labels = set(train_dataset.dataset.labels)\n",
    "            label_to_index = dict((label, i) for i, label in enumerate(sorted(labels)))\n",
    "            name = data_dir.split(\"/\")[-2]\n",
    "            # print(name)\n",
    "            log_dir = train(model, train_loader, val_loader, num_epochs, optimizer, criterion, device, label_to_index, only_name, log=True, description=f\"test_{name}_opt_{opt}_lr_{lr}_{i}\")\n",
    "            test(model, test_loader, criterion, device, label_to_index, only_name, log_dir)\n",
    "\n"
   ]
  },
  {
   "cell_type": "code",
   "execution_count": null,
   "metadata": {},
   "outputs": [],
   "source": []
  }
 ],
 "metadata": {
  "kernelspec": {
   "display_name": "py310",
   "language": "python",
   "name": "python3"
  },
  "language_info": {
   "codemirror_mode": {
    "name": "ipython",
    "version": 3
   },
   "file_extension": ".py",
   "mimetype": "text/x-python",
   "name": "python",
   "nbconvert_exporter": "python",
   "pygments_lexer": "ipython3",
   "version": "3.9.19"
  }
 },
 "nbformat": 4,
 "nbformat_minor": 2
}
