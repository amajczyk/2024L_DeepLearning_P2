{
 "cells": [
  {
   "cell_type": "code",
   "execution_count": 10,
   "metadata": {},
   "outputs": [],
   "source": [
    "from src.utils import *"
   ]
  },
  {
   "cell_type": "code",
   "execution_count": 11,
   "metadata": {},
   "outputs": [],
   "source": [
    "# delete 75% of files in the directory\n",
    "import os\n",
    "import random\n",
    "\n",
    "def delete_files(directory, percentage=0.75):\n",
    "    files = os.listdir(directory)\n",
    "    files = random.sample(files, int(len(files) * percentage))\n",
    "    for file in files:\n",
    "        os.remove(os.path.join(directory, file))\n",
    "\n",
    "# delete_files('data/train/audio_yes_no/no', 0.5)\n",
    "# delete_files('data/train/audio_yes_no/yes', 0.5)"
   ]
  },
  {
   "cell_type": "code",
   "execution_count": 12,
   "metadata": {},
   "outputs": [],
   "source": [
    "import torch\n",
    "from transformers import AutoFeatureExtractor, Wav2Vec2ForSequenceClassification\n",
    "\n",
    "model_name = 'superb/wav2vec2-base-superb-ks'\n",
    "feature_extractor = AutoFeatureExtractor.from_pretrained(model_name)"
   ]
  },
  {
   "cell_type": "code",
   "execution_count": 13,
   "metadata": {},
   "outputs": [],
   "source": [
    "import torch\n",
    "import torchaudio\n",
    "from torch.utils.data import Dataset, DataLoader\n",
    "import os\n",
    "\n",
    "class CustomAudioDataset(Dataset):\n",
    "    def __init__(self, data_dir, transform=None, fixed_length=None):\n",
    "        self.data_dir = data_dir\n",
    "        self.file_list, self.labels = self._get_file_list_and_labels()\n",
    "        self.transform = transform\n",
    "        self.fixed_length = fixed_length\n",
    "\n",
    "    def _get_file_list_and_labels(self):\n",
    "        file_list = []\n",
    "        labels = []\n",
    "        for root, dirs, files in os.walk(self.data_dir):\n",
    "            for file in files:\n",
    "                if file.endswith(\".wav\"):  # Adjust file extension if needed\n",
    "                    file_list.append(root + \"/\" + file)\n",
    "                    labels.append(os.path.basename(root))  # Extract label from directory name\n",
    "        return file_list, labels\n",
    "\n",
    "    def __len__(self):\n",
    "        return len(self.file_list)\n",
    "\n",
    "    def __getitem__(self, idx):\n",
    "        file_path = self.file_list[idx]\n",
    "        waveform, sample_rate = torchaudio.load(file_path)\n",
    "        \n",
    "        \n",
    "        \n",
    "        if self.fixed_length:\n",
    "            waveform = self._pad_waveform(waveform, self.fixed_length)\n",
    "\n",
    "        label = self.labels[idx]\n",
    "\n",
    "        \n",
    "\n",
    "        if self.transform:\n",
    "            waveform = self.transform(waveform, sampling_rate=sample_rate)['input_values'][0]\n",
    "\n",
    "        return waveform, sample_rate, label\n",
    "\n",
    "    def _pad_waveform(self, waveform, target_length):\n",
    "        length_diff = target_length - waveform.size(1)\n",
    "        if length_diff > 0:\n",
    "            padding = torch.zeros((1, length_diff))\n",
    "            waveform = torch.cat([waveform, padding], dim=1)\n",
    "        return waveform.squeeze(0)\n",
    "\n",
    "# Example usage\n",
    "data_dir = \"data/train/audio_small/\"\n",
    "# data_dir = \"data/train/audio_yes_no/\"\n",
    "transform = feature_extractor  # You can define transformations if needed\n",
    "fixed_length = 16000  # Assuming you want to fix the length to 16000 samples\n",
    "sampling_rate = fixed_length  # Assuming you want to fix the sampling rate to 16000 Hz\n",
    "\n",
    "\n",
    "\n",
    "batch_size = 4"
   ]
  },
  {
   "cell_type": "code",
   "execution_count": 14,
   "metadata": {},
   "outputs": [],
   "source": [
    "def count_trainable_parameters(model):\n",
    "    return sum(p.numel() for p in model.parameters() if p.requires_grad)\n",
    "\n",
    "\n",
    "def freeze_layers_except_last_n(model, n):\n",
    "    # Get all parameters\n",
    "    parameters = list(model.parameters())\n",
    "    total_layers = len(parameters)\n",
    "\n",
    "    # Freeze all layers except the last n\n",
    "    for i, param in enumerate(parameters):\n",
    "        if i < total_layers - n:\n",
    "            param.requires_grad = False\n",
    "\n",
    "\n"
   ]
  },
  {
   "cell_type": "code",
   "execution_count": 15,
   "metadata": {},
   "outputs": [],
   "source": [
    "num_epochs = 10\n",
    "perc = 0.05"
   ]
  },
  {
   "cell_type": "code",
   "execution_count": 16,
   "metadata": {},
   "outputs": [],
   "source": [
    "optimizers = ['adam', 'sgd']\n",
    "learning_rates = [0.0001, 0.001, 0.01]"
   ]
  },
  {
   "cell_type": "code",
   "execution_count": 17,
   "metadata": {},
   "outputs": [],
   "source": [
    "num_features = 11"
   ]
  },
  {
   "cell_type": "code",
   "execution_count": 18,
   "metadata": {},
   "outputs": [
    {
     "data": {
      "application/vnd.jupyter.widget-view+json": {
       "model_id": "5eaa29cb802b4211805da9d5e265a89e",
       "version_major": 2,
       "version_minor": 0
      },
      "text/plain": [
       "Optimizers:   0%|          | 0/2 [00:00<?, ?it/s]"
      ]
     },
     "metadata": {},
     "output_type": "display_data"
    },
    {
     "data": {
      "application/vnd.jupyter.widget-view+json": {
       "model_id": "765ef1dea1504cd58f4a797aeaa4444f",
       "version_major": 2,
       "version_minor": 0
      },
      "text/plain": [
       "Learninig Rates:   0%|          | 0/3 [00:00<?, ?it/s]"
      ]
     },
     "metadata": {},
     "output_type": "display_data"
    },
    {
     "data": {
      "application/vnd.jupyter.widget-view+json": {
       "model_id": "afad2a7d8a74473fb5306269ba4fb544",
       "version_major": 2,
       "version_minor": 0
      },
      "text/plain": [
       "Training loop (5 times):   0%|          | 0/5 [00:00<?, ?it/s]"
      ]
     },
     "metadata": {},
     "output_type": "display_data"
    },
    {
     "name": "stderr",
     "output_type": "stream",
     "text": [
      "c:\\Users\\adamm\\miniconda3\\envs\\torchenv\\lib\\site-packages\\transformers\\configuration_utils.py:363: UserWarning: Passing `gradient_checkpointing` to a config initialization is deprecated and will be removed in v5 Transformers. Using `model.gradient_checkpointing_enable()` instead, or if you are using the `Trainer` API, pass `gradient_checkpointing=True` in your `TrainingArguments`.\n",
      "  warnings.warn(\n",
      "Some weights of the model checkpoint at superb/wav2vec2-base-superb-ks were not used when initializing Wav2Vec2ForSequenceClassification: ['wav2vec2.encoder.pos_conv_embed.conv.weight_g', 'wav2vec2.encoder.pos_conv_embed.conv.weight_v']\n",
      "- This IS expected if you are initializing Wav2Vec2ForSequenceClassification from the checkpoint of a model trained on another task or with another architecture (e.g. initializing a BertForSequenceClassification model from a BertForPreTraining model).\n",
      "- This IS NOT expected if you are initializing Wav2Vec2ForSequenceClassification from the checkpoint of a model that you expect to be exactly identical (initializing a BertForSequenceClassification model from a BertForSequenceClassification model).\n",
      "Some weights of Wav2Vec2ForSequenceClassification were not initialized from the model checkpoint at superb/wav2vec2-base-superb-ks and are newly initialized: ['wav2vec2.encoder.pos_conv_embed.conv.parametrizations.weight.original0', 'wav2vec2.encoder.pos_conv_embed.conv.parametrizations.weight.original1']\n",
      "You should probably TRAIN this model on a down-stream task to be able to use it for predictions and inference.\n"
     ]
    },
    {
     "data": {
      "application/vnd.jupyter.widget-view+json": {
       "model_id": "7932ddb4091742ce873a48f1434d2d12",
       "version_major": 2,
       "version_minor": 0
      },
      "text/plain": [
       "Epoch 1/10:   0%|          | 0/6187 [00:00<?, ?it/s]"
      ]
     },
     "metadata": {},
     "output_type": "display_data"
    },
    {
     "name": "stderr",
     "output_type": "stream",
     "text": [
      "c:\\Users\\adamm\\miniconda3\\envs\\torchenv\\lib\\site-packages\\torch\\nn\\modules\\conv.py:306: UserWarning: Plan failed with a cudnnException: CUDNN_BACKEND_EXECUTION_PLAN_DESCRIPTOR: cudnnFinalize Descriptor Failed cudnn_status: CUDNN_STATUS_NOT_SUPPORTED (Triggered internally at C:\\cb\\pytorch_1000000000000\\work\\aten\\src\\ATen\\native\\cudnn\\Conv_v8.cpp:919.)\n",
      "  return F.conv1d(input, weight, bias, self.stride,\n",
      "c:\\Users\\adamm\\miniconda3\\envs\\torchenv\\lib\\site-packages\\torch\\autograd\\graph.py:744: UserWarning: Plan failed with a cudnnException: CUDNN_BACKEND_EXECUTION_PLAN_DESCRIPTOR: cudnnFinalize Descriptor Failed cudnn_status: CUDNN_STATUS_NOT_SUPPORTED (Triggered internally at C:\\cb\\pytorch_1000000000000\\work\\aten\\src\\ATen\\native\\cudnn\\Conv_v8.cpp:919.)\n",
      "  return Variable._execution_engine.run_backward(  # Calls into the C++ engine to run the backward pass\n"
     ]
    },
    {
     "name": "stdout",
     "output_type": "stream",
     "text": [
      "Epoch 1/10, Train Loss: 1.1966626746759135\n"
     ]
    },
    {
     "data": {
      "application/vnd.jupyter.widget-view+json": {
       "model_id": "cf5d793a9fd74808b7124c14aa7de88a",
       "version_major": 2,
       "version_minor": 0
      },
      "text/plain": [
       "Validation:   0%|          | 0/163 [00:00<?, ?it/s]"
      ]
     },
     "metadata": {},
     "output_type": "display_data"
    },
    {
     "name": "stdout",
     "output_type": "stream",
     "text": [
      "Epoch 1/10, Validation Loss: 0.4587487995487415, Validation Accuracy: 0.8602150537634409\n"
     ]
    },
    {
     "data": {
      "application/vnd.jupyter.widget-view+json": {
       "model_id": "188985b5a57341f489a83f9cede4f165",
       "version_major": 2,
       "version_minor": 0
      },
      "text/plain": [
       "Epoch 2/10:   0%|          | 0/6187 [00:00<?, ?it/s]"
      ]
     },
     "metadata": {},
     "output_type": "display_data"
    },
    {
     "name": "stdout",
     "output_type": "stream",
     "text": [
      "Epoch 2/10, Train Loss: 0.32029582336097917\n"
     ]
    },
    {
     "data": {
      "application/vnd.jupyter.widget-view+json": {
       "model_id": "9c37c04af3834596be799ca531ebc2ea",
       "version_major": 2,
       "version_minor": 0
      },
      "text/plain": [
       "Validation:   0%|          | 0/163 [00:00<?, ?it/s]"
      ]
     },
     "metadata": {},
     "output_type": "display_data"
    },
    {
     "name": "stdout",
     "output_type": "stream",
     "text": [
      "Epoch 2/10, Validation Loss: 0.23070380778731836, Validation Accuracy: 0.9339477726574501\n"
     ]
    },
    {
     "data": {
      "application/vnd.jupyter.widget-view+json": {
       "model_id": "37b6af9b2c0d4666a6984928d4ee9b9c",
       "version_major": 2,
       "version_minor": 0
      },
      "text/plain": [
       "Epoch 3/10:   0%|          | 0/6187 [00:00<?, ?it/s]"
      ]
     },
     "metadata": {},
     "output_type": "display_data"
    },
    {
     "name": "stdout",
     "output_type": "stream",
     "text": [
      "Epoch 3/10, Train Loss: 0.19961111090103179\n"
     ]
    },
    {
     "data": {
      "application/vnd.jupyter.widget-view+json": {
       "model_id": "3ac433585b2d49ababf84c1f116e9259",
       "version_major": 2,
       "version_minor": 0
      },
      "text/plain": [
       "Validation:   0%|          | 0/163 [00:00<?, ?it/s]"
      ]
     },
     "metadata": {},
     "output_type": "display_data"
    },
    {
     "name": "stdout",
     "output_type": "stream",
     "text": [
      "Epoch 3/10, Validation Loss: 0.17446181766525984, Validation Accuracy: 0.9477726574500768\n"
     ]
    },
    {
     "data": {
      "application/vnd.jupyter.widget-view+json": {
       "model_id": "e63b7c0a5a0642ab8f71067d9c82cf9b",
       "version_major": 2,
       "version_minor": 0
      },
      "text/plain": [
       "Epoch 4/10:   0%|          | 0/6187 [00:00<?, ?it/s]"
      ]
     },
     "metadata": {},
     "output_type": "display_data"
    },
    {
     "name": "stdout",
     "output_type": "stream",
     "text": [
      "Epoch 4/10, Train Loss: 0.14801021724592772\n"
     ]
    },
    {
     "data": {
      "application/vnd.jupyter.widget-view+json": {
       "model_id": "bd78382545464305963d7c11c3de4e08",
       "version_major": 2,
       "version_minor": 0
      },
      "text/plain": [
       "Validation:   0%|          | 0/163 [00:00<?, ?it/s]"
      ]
     },
     "metadata": {},
     "output_type": "display_data"
    },
    {
     "name": "stdout",
     "output_type": "stream",
     "text": [
      "Epoch 4/10, Validation Loss: 0.15495813107300133, Validation Accuracy: 0.9539170506912442\n"
     ]
    },
    {
     "data": {
      "application/vnd.jupyter.widget-view+json": {
       "model_id": "28122c3b41d04d23adc090850d0ab4e7",
       "version_major": 2,
       "version_minor": 0
      },
      "text/plain": [
       "Epoch 5/10:   0%|          | 0/6187 [00:00<?, ?it/s]"
      ]
     },
     "metadata": {},
     "output_type": "display_data"
    },
    {
     "name": "stdout",
     "output_type": "stream",
     "text": [
      "Epoch 5/10, Train Loss: 0.1167356102664489\n"
     ]
    },
    {
     "data": {
      "application/vnd.jupyter.widget-view+json": {
       "model_id": "34d22ead98114d76b5a58710738e98d1",
       "version_major": 2,
       "version_minor": 0
      },
      "text/plain": [
       "Validation:   0%|          | 0/163 [00:00<?, ?it/s]"
      ]
     },
     "metadata": {},
     "output_type": "display_data"
    },
    {
     "name": "stdout",
     "output_type": "stream",
     "text": [
      "Epoch 5/10, Validation Loss: 0.1733478938652191, Validation Accuracy: 0.946236559139785\n"
     ]
    },
    {
     "data": {
      "application/vnd.jupyter.widget-view+json": {
       "model_id": "59a1caec4f6a445fa1dc9ea2ec23f10e",
       "version_major": 2,
       "version_minor": 0
      },
      "text/plain": [
       "Epoch 6/10:   0%|          | 0/6187 [00:00<?, ?it/s]"
      ]
     },
     "metadata": {},
     "output_type": "display_data"
    },
    {
     "name": "stdout",
     "output_type": "stream",
     "text": [
      "Epoch 6/10, Train Loss: 0.092272666295668\n"
     ]
    },
    {
     "data": {
      "application/vnd.jupyter.widget-view+json": {
       "model_id": "cd0a1bf31ca74cca81568300f12de605",
       "version_major": 2,
       "version_minor": 0
      },
      "text/plain": [
       "Validation:   0%|          | 0/163 [00:00<?, ?it/s]"
      ]
     },
     "metadata": {},
     "output_type": "display_data"
    },
    {
     "name": "stdout",
     "output_type": "stream",
     "text": [
      "Epoch 6/10, Validation Loss: 0.13379360668656154, Validation Accuracy: 0.9615975422427036\n"
     ]
    },
    {
     "data": {
      "application/vnd.jupyter.widget-view+json": {
       "model_id": "4bf77cb5948a4645bf582b4f40fb37f6",
       "version_major": 2,
       "version_minor": 0
      },
      "text/plain": [
       "Epoch 7/10:   0%|          | 0/6187 [00:00<?, ?it/s]"
      ]
     },
     "metadata": {},
     "output_type": "display_data"
    },
    {
     "name": "stdout",
     "output_type": "stream",
     "text": [
      "Epoch 7/10, Train Loss: 0.07767114984188207\n"
     ]
    },
    {
     "data": {
      "application/vnd.jupyter.widget-view+json": {
       "model_id": "dfbac7112c7f4860bec49d2ca5efb520",
       "version_major": 2,
       "version_minor": 0
      },
      "text/plain": [
       "Validation:   0%|          | 0/163 [00:00<?, ?it/s]"
      ]
     },
     "metadata": {},
     "output_type": "display_data"
    },
    {
     "name": "stdout",
     "output_type": "stream",
     "text": [
      "Epoch 7/10, Validation Loss: 0.17756713220274342, Validation Accuracy: 0.9493087557603687\n"
     ]
    },
    {
     "data": {
      "application/vnd.jupyter.widget-view+json": {
       "model_id": "f91f054e9cde4a93900862e165222618",
       "version_major": 2,
       "version_minor": 0
      },
      "text/plain": [
       "Epoch 8/10:   0%|          | 0/6187 [00:00<?, ?it/s]"
      ]
     },
     "metadata": {},
     "output_type": "display_data"
    },
    {
     "name": "stdout",
     "output_type": "stream",
     "text": [
      "Epoch 8/10, Train Loss: 0.06663854374144283\n"
     ]
    },
    {
     "data": {
      "application/vnd.jupyter.widget-view+json": {
       "model_id": "a53a0f972ffa425f9efb355dd6149b1e",
       "version_major": 2,
       "version_minor": 0
      },
      "text/plain": [
       "Validation:   0%|          | 0/163 [00:00<?, ?it/s]"
      ]
     },
     "metadata": {},
     "output_type": "display_data"
    },
    {
     "name": "stdout",
     "output_type": "stream",
     "text": [
      "Epoch 8/10, Validation Loss: 0.15779198898775454, Validation Accuracy: 0.9600614439324117\n"
     ]
    },
    {
     "data": {
      "application/vnd.jupyter.widget-view+json": {
       "model_id": "6509b05229b34d3792b620587f587abd",
       "version_major": 2,
       "version_minor": 0
      },
      "text/plain": [
       "Epoch 9/10:   0%|          | 0/6187 [00:00<?, ?it/s]"
      ]
     },
     "metadata": {},
     "output_type": "display_data"
    },
    {
     "name": "stdout",
     "output_type": "stream",
     "text": [
      "Epoch 9/10, Train Loss: 0.059522284421650674\n"
     ]
    },
    {
     "data": {
      "application/vnd.jupyter.widget-view+json": {
       "model_id": "55f2012a3bd74172a8163c7ee537692b",
       "version_major": 2,
       "version_minor": 0
      },
      "text/plain": [
       "Validation:   0%|          | 0/163 [00:00<?, ?it/s]"
      ]
     },
     "metadata": {},
     "output_type": "display_data"
    },
    {
     "name": "stdout",
     "output_type": "stream",
     "text": [
      "Epoch 9/10, Validation Loss: 0.1902333902910818, Validation Accuracy: 0.9539170506912442\n"
     ]
    },
    {
     "data": {
      "application/vnd.jupyter.widget-view+json": {
       "model_id": "0c66a820df1f4e25a22bd5b59ee89465",
       "version_major": 2,
       "version_minor": 0
      },
      "text/plain": [
       "Epoch 10/10:   0%|          | 0/6187 [00:00<?, ?it/s]"
      ]
     },
     "metadata": {},
     "output_type": "display_data"
    },
    {
     "name": "stdout",
     "output_type": "stream",
     "text": [
      "Epoch 10/10, Train Loss: 0.05401399629220888\n"
     ]
    },
    {
     "data": {
      "application/vnd.jupyter.widget-view+json": {
       "model_id": "f0c9416efe804e0fbccd6f1e9b9d312b",
       "version_major": 2,
       "version_minor": 0
      },
      "text/plain": [
       "Validation:   0%|          | 0/163 [00:00<?, ?it/s]"
      ]
     },
     "metadata": {},
     "output_type": "display_data"
    },
    {
     "name": "stdout",
     "output_type": "stream",
     "text": [
      "Epoch 10/10, Validation Loss: 0.18113044951109472, Validation Accuracy: 0.9554531490015361\n"
     ]
    },
    {
     "data": {
      "application/vnd.jupyter.widget-view+json": {
       "model_id": "53730bc910ab49079df6b71ee108a4c1",
       "version_major": 2,
       "version_minor": 0
      },
      "text/plain": [
       "Testing:   0%|          | 0/163 [00:00<?, ?it/s]"
      ]
     },
     "metadata": {},
     "output_type": "display_data"
    },
    {
     "name": "stdout",
     "output_type": "stream",
     "text": [
      "{'val_acc': [0.8602150537634409, 0.9339477726574501, 0.9477726574500768, 0.9539170506912442, 0.946236559139785, 0.9615975422427036, 0.9493087557603687, 0.9600614439324117, 0.9539170506912442, 0.9554531490015361], 'val_loss': [0.4587487995487415, 0.23070380778731836, 0.17446181766525984, 0.15495813107300133, 0.1733478938652191, 0.13379360668656154, 0.17756713220274342, 0.15779198898775454, 0.1902333902910818, 0.18113044951109472], 'train_loss': [1.1966626746759135, 0.32029582336097917, 0.19961111090103179, 0.14801021724592772, 0.1167356102664489, 0.092272666295668, 0.07767114984188207, 0.06663854374144283, 0.059522284421650674, 0.05401399629220888], 'test_correct_in_batch': [4.0, 4.0, 3.0, 4.0, 4.0, 4.0, 3.0, 3.0, 3.0, 4.0, 4.0, 4.0, 3.0, 4.0, 4.0, 3.0, 3.0, 4.0, 3.0, 4.0, 4.0, 4.0, 3.0, 4.0, 4.0, 4.0, 4.0, 3.0, 4.0, 4.0, 4.0, 4.0, 4.0, 4.0, 4.0, 4.0, 4.0, 4.0, 4.0, 4.0, 4.0, 4.0, 3.0, 4.0, 4.0, 4.0, 4.0, 4.0, 4.0, 4.0, 3.0, 2.0, 4.0, 4.0, 4.0, 4.0, 4.0, 4.0, 4.0, 3.0, 4.0, 3.0, 4.0, 4.0, 4.0, 3.0, 4.0, 3.0, 4.0, 3.0, 3.0, 4.0, 4.0, 3.0, 4.0, 4.0, 4.0, 4.0, 4.0, 4.0, 4.0, 4.0, 4.0, 4.0, 4.0, 3.0, 4.0, 4.0, 4.0, 4.0, 4.0, 4.0, 3.0, 4.0, 4.0, 4.0, 4.0, 2.0, 4.0, 4.0, 4.0, 4.0, 4.0, 4.0, 4.0, 4.0, 4.0, 4.0, 4.0, 4.0, 4.0, 4.0, 4.0, 3.0, 4.0, 4.0, 4.0, 4.0, 3.0, 3.0, 4.0, 3.0, 3.0, 4.0, 4.0, 4.0, 4.0, 3.0, 4.0, 3.0, 4.0, 4.0, 4.0, 4.0, 4.0, 4.0, 4.0, 4.0, 4.0, 3.0, 4.0, 4.0, 4.0, 4.0, 4.0, 2.0, 3.0, 4.0, 4.0, 4.0, 4.0, 4.0, 4.0, 4.0, 3.0, 4.0, 4.0, 4.0, 4.0, 4.0, 4.0, 4.0, 3.0], 'test_losses': [0.0002167374623240903, 0.015260964632034302, 0.4427433907985687, 0.07225102931261063, 4.970795998815447e-05, 0.001263848738744855, 0.4150574207305908, 0.7696892023086548, 0.818226158618927, 0.0001964188413694501, 0.0022767677437514067, 0.0003889302024617791, 1.1605761051177979, 0.04837874695658684, 0.0005178578430786729, 1.0257172584533691, 0.4910452663898468, 0.0036701885983347893, 2.2089180946350098, 0.0032876282930374146, 0.007892433553934097, 0.00021243610535748303, 0.7756665349006653, 0.11687569320201874, 0.001743457978591323, 0.0002107044419972226, 0.00043479580199345946, 0.766149640083313, 0.0033001864794641733, 0.0005497789825312793, 0.11046429723501205, 0.0002641980827320367, 0.08564458042383194, 4.559592343866825e-05, 0.0005085059092380106, 0.0003106938675045967, 0.007193319965153933, 0.017165711149573326, 0.00015459436690434813, 0.0032582783605903387, 0.002706977305933833, 0.0004652294737752527, 0.8659880757331848, 0.0006463169120252132, 0.01011983584612608, 0.00012020899157505482, 0.001074733561836183, 0.007853027433156967, 0.019730163738131523, 0.03414090722799301, 1.0839635133743286, 2.7999842166900635, 0.0007228829781524837, 0.0353148877620697, 0.020576059818267822, 0.0002448324812576175, 0.0004967353888787329, 0.00022371869999915361, 0.00021897772967349738, 1.3978177309036255, 0.0006022147135809064, 0.5963461399078369, 0.02348078042268753, 0.0029783076606690884, 0.0025302793364971876, 0.399253249168396, 0.0012759036617353559, 0.6772627234458923, 0.2511950731277466, 0.8654028177261353, 0.6584599614143372, 0.0027242994401603937, 0.0018972940742969513, 1.183554768562317, 0.0019166908459737897, 0.005404662806540728, 0.005282836966216564, 0.00018410847405903041, 0.04517267644405365, 0.00032894444302655756, 0.0012902328744530678, 0.006319587118923664, 0.0009352621273137629, 0.01069819089025259, 0.021148014813661575, 0.2694104313850403, 0.0029680905863642693, 0.04834273084998131, 0.006267503369599581, 0.18376031517982483, 0.04099787771701813, 0.0031753883231431246, 2.080462694168091, 0.0005626754718832672, 0.0004765232733916491, 0.003884414443746209, 0.01549459993839264, 2.689816951751709, 0.0047771562822163105, 0.0008139754645526409, 0.02608988806605339, 0.0002857714716810733, 0.058427974581718445, 0.01147520076483488, 0.005858590826392174, 0.004133136942982674, 0.004212802276015282, 0.0013940671924501657, 0.001642551738768816, 0.001554945600219071, 0.0003174272715114057, 0.11757063865661621, 0.0009987448574975133, 0.25230711698532104, 0.000676388037391007, 0.000173630949575454, 0.18854008615016937, 0.000425499863922596, 0.3563770055770874, 0.3487415313720703, 0.009475567378103733, 0.9480188488960266, 0.29982876777648926, 0.0015613730065524578, 0.15348109602928162, 0.060453422367572784, 0.004483026452362537, 1.0049479007720947, 0.03668462857604027, 0.18748383224010468, 0.002438228577375412, 0.012896060012280941, 0.0006376742385327816, 0.14837904274463654, 0.030192948877811432, 0.04795260354876518, 8.213083492591977e-05, 0.002849099924787879, 0.0002591719676274806, 1.2574827671051025, 0.00040964456275105476, 0.1912814825773239, 0.15330924093723297, 0.0003888694627676159, 0.0008026070427149534, 1.3405643701553345, 0.515731155872345, 0.018601033836603165, 0.00783188734203577, 0.00018613957217894495, 0.003247972810640931, 0.0003861536388285458, 0.0003059779410250485, 0.004172982648015022, 0.32522961497306824, 0.0010710384231060743, 0.000638289493508637, 0.14802737534046173, 0.0013535702601075172, 0.06686530262231827, 0.00042310095159336925, 0.008571271784603596, 0.00021021101565565914], 'test_loss': 0.20955486518371583, 'test_batch_lens': [4, 4, 4, 4, 4, 4, 4, 4, 4, 4, 4, 4, 4, 4, 4, 4, 4, 4, 4, 4, 4, 4, 4, 4, 4, 4, 4, 4, 4, 4, 4, 4, 4, 4, 4, 4, 4, 4, 4, 4, 4, 4, 4, 4, 4, 4, 4, 4, 4, 4, 4, 4, 4, 4, 4, 4, 4, 4, 4, 4, 4, 4, 4, 4, 4, 4, 4, 4, 4, 4, 4, 4, 4, 4, 4, 4, 4, 4, 4, 4, 4, 4, 4, 4, 4, 4, 4, 4, 4, 4, 4, 4, 4, 4, 4, 4, 4, 4, 4, 4, 4, 4, 4, 4, 4, 4, 4, 4, 4, 4, 4, 4, 4, 4, 4, 4, 4, 4, 4, 4, 4, 4, 4, 4, 4, 4, 4, 4, 4, 4, 4, 4, 4, 4, 4, 4, 4, 4, 4, 4, 4, 4, 4, 4, 4, 4, 4, 4, 4, 4, 4, 4, 4, 4, 4, 4, 4, 4, 4, 4, 4, 4, 3], 'test_accuracy': 0.9431643625192012, 'predictions': [7, 4, 1, 10, 7, 1, 8, 8, 0, 10, 4, 7, 1, 9, 3, 0, 9, 6, 4, 9, 8, 10, 1, 4, 6, 1, 8, 6, 6, 8, 1, 1, 1, 5, 6, 3, 10, 5, 5, 0, 10, 3, 2, 10, 7, 8, 4, 3, 3, 8, 1, 4, 3, 4, 6, 1, 1, 9, 1, 10, 10, 6, 2, 6, 5, 4, 8, 5, 8, 1, 3, 1, 6, 3, 1, 8, 6, 8, 9, 2, 3, 1, 3, 1, 5, 5, 1, 8, 0, 5, 9, 10, 10, 7, 1, 5, 1, 8, 2, 7, 5, 1, 10, 6, 10, 8, 3, 9, 10, 4, 7, 5, 0, 3, 7, 6, 0, 8, 0, 0, 4, 8, 7, 6, 5, 1, 7, 9, 6, 7, 4, 0, 10, 10, 7, 9, 4, 1, 9, 0, 10, 3, 3, 9, 4, 7, 4, 7, 2, 10, 2, 4, 10, 10, 1, 0, 10, 5, 4, 7, 8, 9, 10, 4, 2, 3, 10, 5, 8, 0, 5, 0, 10, 7, 6, 8, 0, 8, 1, 2, 6, 3, 5, 3, 9, 3, 4, 8, 3, 2, 0, 2, 0, 9, 9, 8, 1, 3, 5, 9, 2, 1, 6, 1, 4, 5, 9, 8, 3, 9, 5, 6, 2, 5, 4, 5, 2, 10, 8, 4, 7, 3, 0, 6, 7, 0, 5, 7, 1, 0, 1, 6, 3, 7, 7, 2, 10, 5, 3, 10, 9, 4, 3, 3, 1, 7, 6, 5, 2, 4, 10, 1, 1, 2, 3, 10, 6, 9, 5, 3, 3, 10, 7, 0, 5, 1, 8, 1, 3, 7, 3, 10, 3, 5, 2, 2, 7, 4, 9, 7, 5, 8, 8, 10, 2, 4, 2, 5, 5, 3, 8, 0, 6, 6, 0, 1, 2, 7, 3, 2, 4, 10, 8, 6, 6, 0, 2, 7, 10, 1, 7, 6, 9, 2, 5, 2, 0, 9, 4, 3, 2, 6, 7, 9, 1, 8, 8, 5, 2, 9, 4, 1, 1, 8, 4, 7, 1, 2, 7, 2, 5, 0, 4, 10, 5, 0, 5, 7, 3, 6, 4, 6, 4, 9, 5, 1, 8, 3, 7, 7, 4, 4, 6, 10, 8, 9, 8, 5, 6, 9, 4, 0, 5, 0, 9, 10, 5, 0, 3, 7, 3, 1, 8, 2, 2, 4, 4, 9, 3, 7, 5, 2, 9, 4, 0, 0, 5, 6, 9, 9, 7, 7, 6, 9, 1, 10, 10, 5, 5, 7, 3, 3, 5, 10, 9, 7, 2, 3, 1, 1, 0, 5, 4, 1, 2, 0, 1, 8, 8, 4, 8, 3, 8, 0, 3, 2, 2, 3, 7, 10, 10, 4, 10, 6, 6, 5, 0, 9, 8, 2, 1, 9, 9, 5, 9, 4, 1, 3, 5, 7, 9, 10, 1, 8, 1, 6, 3, 8, 2, 4, 10, 1, 1, 6, 8, 2, 4, 8, 2, 8, 9, 9, 0, 7, 6, 9, 8, 0, 2, 6, 6, 9, 3, 7, 2, 4, 3, 0, 1, 3, 9, 6, 3, 4, 6, 3, 3, 5, 3, 1, 7, 10, 4, 10, 2, 5, 5, 7, 5, 3, 4, 5, 0, 4, 5, 4, 9, 5, 9, 7, 7, 2, 0, 2, 4, 3, 2, 9, 1, 8, 9, 1, 8, 8, 2, 0, 9, 7, 6, 9, 6, 9, 0, 10, 8, 8, 4, 0, 7, 3, 2, 7, 9, 6, 7, 8, 9, 0, 8, 2, 10, 5, 2, 10, 8, 7, 9, 6, 8, 6, 6, 5, 7, 4, 7, 1, 4, 9, 3, 3, 7, 4, 1, 7, 5, 4, 0, 7, 8, 0, 7, 4, 5, 5, 4, 8, 6, 6, 1, 5, 3, 0, 1, 4, 7, 1, 9, 5, 6, 6, 10, 7, 1, 0, 3, 9, 1, 4, 3, 10, 7, 8, 9, 9, 4, 0, 2, 3, 7, 8, 6, 8, 1, 7, 4, 0, 2, 0, 8, 6, 7], 'real_labels': [7, 4, 1, 10, 7, 1, 8, 8, 0, 8, 4, 7, 1, 9, 3, 0, 9, 6, 4, 9, 8, 10, 1, 4, 6, 8, 8, 6, 6, 8, 2, 1, 1, 9, 6, 3, 10, 5, 5, 0, 10, 3, 2, 10, 7, 8, 4, 3, 3, 8, 9, 4, 3, 4, 6, 1, 1, 9, 1, 10, 10, 6, 1, 6, 5, 5, 8, 5, 8, 1, 3, 1, 1, 3, 1, 8, 6, 8, 9, 2, 3, 1, 3, 1, 5, 5, 1, 8, 0, 4, 9, 10, 10, 7, 1, 5, 1, 8, 2, 7, 5, 1, 10, 6, 10, 8, 3, 9, 10, 4, 7, 1, 0, 3, 7, 6, 0, 8, 0, 0, 4, 8, 7, 6, 5, 1, 7, 9, 6, 7, 4, 0, 10, 10, 7, 9, 4, 1, 9, 0, 10, 3, 3, 9, 4, 7, 4, 7, 2, 10, 2, 4, 10, 10, 1, 0, 10, 5, 4, 7, 8, 9, 10, 4, 2, 3, 10, 5, 8, 0, 9, 0, 10, 7, 6, 8, 0, 8, 1, 2, 6, 3, 5, 3, 9, 3, 4, 8, 3, 2, 0, 2, 0, 9, 9, 8, 1, 3, 5, 9, 8, 1, 6, 1, 4, 3, 4, 8, 3, 9, 5, 6, 2, 5, 4, 5, 2, 10, 8, 4, 7, 3, 0, 6, 7, 0, 5, 7, 1, 0, 1, 6, 3, 7, 7, 2, 10, 4, 3, 10, 9, 4, 3, 3, 1, 7, 8, 5, 2, 4, 10, 1, 1, 2, 3, 10, 6, 9, 5, 3, 3, 10, 7, 1, 5, 1, 8, 1, 8, 7, 3, 10, 3, 5, 2, 2, 7, 3, 9, 7, 6, 8, 8, 10, 2, 4, 2, 5, 5, 3, 8, 0, 8, 6, 0, 1, 2, 7, 3, 2, 4, 10, 8, 6, 6, 0, 2, 7, 10, 1, 7, 6, 9, 2, 5, 2, 0, 9, 4, 3, 2, 6, 7, 9, 1, 8, 8, 5, 2, 9, 4, 1, 1, 8, 4, 7, 1, 2, 7, 2, 5, 0, 7, 10, 5, 0, 5, 7, 3, 6, 4, 6, 4, 9, 5, 1, 8, 3, 7, 7, 4, 4, 6, 10, 8, 9, 8, 5, 6, 7, 4, 0, 5, 0, 9, 10, 5, 0, 3, 7, 3, 1, 8, 2, 2, 4, 4, 9, 3, 7, 9, 9, 9, 4, 0, 0, 5, 6, 9, 9, 7, 7, 6, 9, 1, 10, 10, 5, 5, 7, 3, 3, 5, 10, 9, 7, 2, 3, 1, 1, 0, 5, 4, 1, 2, 0, 1, 8, 8, 4, 8, 3, 8, 0, 3, 2, 2, 3, 7, 10, 10, 4, 10, 6, 6, 5, 0, 9, 8, 2, 1, 9, 9, 5, 9, 9, 1, 3, 5, 7, 9, 10, 1, 8, 1, 6, 3, 8, 2, 4, 10, 1, 1, 2, 8, 2, 4, 8, 2, 5, 9, 9, 0, 7, 6, 9, 2, 0, 2, 8, 6, 9, 3, 7, 2, 4, 3, 0, 1, 3, 9, 6, 3, 4, 6, 3, 3, 5, 0, 1, 7, 10, 4, 10, 2, 5, 5, 7, 5, 1, 4, 5, 0, 4, 5, 4, 9, 5, 9, 7, 7, 2, 0, 2, 4, 3, 2, 9, 1, 8, 9, 1, 8, 8, 2, 0, 9, 7, 6, 9, 6, 9, 0, 10, 8, 8, 4, 1, 7, 3, 2, 7, 9, 6, 7, 8, 9, 0, 8, 2, 10, 5, 2, 10, 8, 7, 9, 6, 8, 6, 6, 4, 7, 9, 7, 8, 4, 9, 3, 3, 7, 4, 1, 7, 5, 4, 0, 7, 8, 0, 7, 4, 5, 5, 4, 8, 6, 6, 1, 5, 3, 0, 1, 4, 7, 1, 9, 4, 6, 6, 10, 7, 1, 0, 3, 9, 1, 4, 3, 10, 7, 8, 9, 9, 4, 0, 2, 3, 7, 8, 6, 8, 1, 7, 4, 0, 2, 0, 8, 6, 7], 'label_to_index': {'down': 0, 'go': 1, 'left': 2, 'no': 3, 'off': 4, 'on': 5, 'right': 6, 'stop': 7, 'unknown': 8, 'up': 9, 'yes': 10}}\n",
      "Test Loss: 0.20955486518371583, Test Accuracy: 0.9431643625192012\n"
     ]
    },
    {
     "name": "stderr",
     "output_type": "stream",
     "text": [
      "Some weights of the model checkpoint at superb/wav2vec2-base-superb-ks were not used when initializing Wav2Vec2ForSequenceClassification: ['wav2vec2.encoder.pos_conv_embed.conv.weight_g', 'wav2vec2.encoder.pos_conv_embed.conv.weight_v']\n",
      "- This IS expected if you are initializing Wav2Vec2ForSequenceClassification from the checkpoint of a model trained on another task or with another architecture (e.g. initializing a BertForSequenceClassification model from a BertForPreTraining model).\n",
      "- This IS NOT expected if you are initializing Wav2Vec2ForSequenceClassification from the checkpoint of a model that you expect to be exactly identical (initializing a BertForSequenceClassification model from a BertForSequenceClassification model).\n",
      "Some weights of Wav2Vec2ForSequenceClassification were not initialized from the model checkpoint at superb/wav2vec2-base-superb-ks and are newly initialized: ['wav2vec2.encoder.pos_conv_embed.conv.parametrizations.weight.original0', 'wav2vec2.encoder.pos_conv_embed.conv.parametrizations.weight.original1']\n",
      "You should probably TRAIN this model on a down-stream task to be able to use it for predictions and inference.\n"
     ]
    },
    {
     "data": {
      "application/vnd.jupyter.widget-view+json": {
       "model_id": "69c7335ad8484d29841dd079bde597c2",
       "version_major": 2,
       "version_minor": 0
      },
      "text/plain": [
       "Epoch 1/10:   0%|          | 0/6187 [00:00<?, ?it/s]"
      ]
     },
     "metadata": {},
     "output_type": "display_data"
    },
    {
     "name": "stdout",
     "output_type": "stream",
     "text": [
      "Epoch 1/10, Train Loss: 0.9881540784331261\n"
     ]
    },
    {
     "data": {
      "application/vnd.jupyter.widget-view+json": {
       "model_id": "ae2a87b06aa249b5965d69680618938c",
       "version_major": 2,
       "version_minor": 0
      },
      "text/plain": [
       "Validation:   0%|          | 0/163 [00:00<?, ?it/s]"
      ]
     },
     "metadata": {},
     "output_type": "display_data"
    },
    {
     "name": "stdout",
     "output_type": "stream",
     "text": [
      "Epoch 1/10, Validation Loss: 0.2600799794623091, Validation Accuracy: 0.9262672811059908\n"
     ]
    },
    {
     "data": {
      "application/vnd.jupyter.widget-view+json": {
       "model_id": "c0224a7d993b4a2d841fbdfc4e26dfd8",
       "version_major": 2,
       "version_minor": 0
      },
      "text/plain": [
       "Epoch 2/10:   0%|          | 0/6187 [00:00<?, ?it/s]"
      ]
     },
     "metadata": {},
     "output_type": "display_data"
    },
    {
     "name": "stdout",
     "output_type": "stream",
     "text": [
      "Epoch 2/10, Train Loss: 0.24812652984982064\n"
     ]
    },
    {
     "data": {
      "application/vnd.jupyter.widget-view+json": {
       "model_id": "67fbbe9be8f8498d97c8ecc43a2ae46a",
       "version_major": 2,
       "version_minor": 0
      },
      "text/plain": [
       "Validation:   0%|          | 0/163 [00:00<?, ?it/s]"
      ]
     },
     "metadata": {},
     "output_type": "display_data"
    },
    {
     "name": "stdout",
     "output_type": "stream",
     "text": [
      "Epoch 2/10, Validation Loss: 0.2081335012092501, Validation Accuracy: 0.9416282642089093\n"
     ]
    },
    {
     "data": {
      "application/vnd.jupyter.widget-view+json": {
       "model_id": "16a3533276c24523935d6e5e45ecc2d7",
       "version_major": 2,
       "version_minor": 0
      },
      "text/plain": [
       "Epoch 3/10:   0%|          | 0/6187 [00:00<?, ?it/s]"
      ]
     },
     "metadata": {},
     "output_type": "display_data"
    },
    {
     "name": "stdout",
     "output_type": "stream",
     "text": [
      "Epoch 3/10, Train Loss: 0.16443891063570318\n"
     ]
    },
    {
     "data": {
      "application/vnd.jupyter.widget-view+json": {
       "model_id": "1de6f872349f40e99dfc683b48a51434",
       "version_major": 2,
       "version_minor": 0
      },
      "text/plain": [
       "Validation:   0%|          | 0/163 [00:00<?, ?it/s]"
      ]
     },
     "metadata": {},
     "output_type": "display_data"
    },
    {
     "name": "stdout",
     "output_type": "stream",
     "text": [
      "Epoch 3/10, Validation Loss: 0.20067341164850053, Validation Accuracy: 0.9324116743471582\n"
     ]
    },
    {
     "data": {
      "application/vnd.jupyter.widget-view+json": {
       "model_id": "88e5a9b99ced4eaa8a515462e499737b",
       "version_major": 2,
       "version_minor": 0
      },
      "text/plain": [
       "Epoch 4/10:   0%|          | 0/6187 [00:00<?, ?it/s]"
      ]
     },
     "metadata": {},
     "output_type": "display_data"
    },
    {
     "name": "stdout",
     "output_type": "stream",
     "text": [
      "Epoch 4/10, Train Loss: 0.12438029728664504\n"
     ]
    },
    {
     "data": {
      "application/vnd.jupyter.widget-view+json": {
       "model_id": "7b6ca224b1c24a47b1bb104ed90ae1b0",
       "version_major": 2,
       "version_minor": 0
      },
      "text/plain": [
       "Validation:   0%|          | 0/163 [00:00<?, ?it/s]"
      ]
     },
     "metadata": {},
     "output_type": "display_data"
    },
    {
     "name": "stdout",
     "output_type": "stream",
     "text": [
      "Epoch 4/10, Validation Loss: 0.14669204599358301, Validation Accuracy: 0.9585253456221198\n"
     ]
    },
    {
     "data": {
      "application/vnd.jupyter.widget-view+json": {
       "model_id": "5680ef2515bd42a5a8144f561878d91c",
       "version_major": 2,
       "version_minor": 0
      },
      "text/plain": [
       "Epoch 5/10:   0%|          | 0/6187 [00:00<?, ?it/s]"
      ]
     },
     "metadata": {},
     "output_type": "display_data"
    },
    {
     "name": "stdout",
     "output_type": "stream",
     "text": [
      "Epoch 5/10, Train Loss: 0.09816879884702234\n"
     ]
    },
    {
     "data": {
      "application/vnd.jupyter.widget-view+json": {
       "model_id": "086f464f87b844e4b62b7c1d170aa5b2",
       "version_major": 2,
       "version_minor": 0
      },
      "text/plain": [
       "Validation:   0%|          | 0/163 [00:00<?, ?it/s]"
      ]
     },
     "metadata": {},
     "output_type": "display_data"
    },
    {
     "name": "stdout",
     "output_type": "stream",
     "text": [
      "Epoch 5/10, Validation Loss: 0.14446447857482747, Validation Accuracy: 0.9539170506912442\n"
     ]
    },
    {
     "data": {
      "application/vnd.jupyter.widget-view+json": {
       "model_id": "a667c80e6f7542e190bb5ef6602af1ef",
       "version_major": 2,
       "version_minor": 0
      },
      "text/plain": [
       "Epoch 6/10:   0%|          | 0/6187 [00:00<?, ?it/s]"
      ]
     },
     "metadata": {},
     "output_type": "display_data"
    },
    {
     "name": "stdout",
     "output_type": "stream",
     "text": [
      "Epoch 6/10, Train Loss: 0.08502332148522898\n"
     ]
    },
    {
     "data": {
      "application/vnd.jupyter.widget-view+json": {
       "model_id": "ced056af92154202a2481639cd5c3fa5",
       "version_major": 2,
       "version_minor": 0
      },
      "text/plain": [
       "Validation:   0%|          | 0/163 [00:00<?, ?it/s]"
      ]
     },
     "metadata": {},
     "output_type": "display_data"
    },
    {
     "name": "stdout",
     "output_type": "stream",
     "text": [
      "Epoch 6/10, Validation Loss: 0.1463909624268528, Validation Accuracy: 0.9600614439324117\n"
     ]
    },
    {
     "data": {
      "application/vnd.jupyter.widget-view+json": {
       "model_id": "d4e0ed56f52042f69c98ff12aa539f7f",
       "version_major": 2,
       "version_minor": 0
      },
      "text/plain": [
       "Epoch 7/10:   0%|          | 0/6187 [00:00<?, ?it/s]"
      ]
     },
     "metadata": {},
     "output_type": "display_data"
    },
    {
     "name": "stdout",
     "output_type": "stream",
     "text": [
      "Epoch 7/10, Train Loss: 0.07306618827881453\n"
     ]
    },
    {
     "data": {
      "application/vnd.jupyter.widget-view+json": {
       "model_id": "e7370a727c9c40ae8a40dfd974887b21",
       "version_major": 2,
       "version_minor": 0
      },
      "text/plain": [
       "Validation:   0%|          | 0/163 [00:00<?, ?it/s]"
      ]
     },
     "metadata": {},
     "output_type": "display_data"
    },
    {
     "name": "stdout",
     "output_type": "stream",
     "text": [
      "Epoch 7/10, Validation Loss: 0.19408537078884003, Validation Accuracy: 0.9416282642089093\n"
     ]
    },
    {
     "data": {
      "application/vnd.jupyter.widget-view+json": {
       "model_id": "bc4a82b7716c4125a144f42210c26a9a",
       "version_major": 2,
       "version_minor": 0
      },
      "text/plain": [
       "Epoch 8/10:   0%|          | 0/6187 [00:00<?, ?it/s]"
      ]
     },
     "metadata": {},
     "output_type": "display_data"
    },
    {
     "name": "stdout",
     "output_type": "stream",
     "text": [
      "Epoch 8/10, Train Loss: 0.06774837375855747\n"
     ]
    },
    {
     "data": {
      "application/vnd.jupyter.widget-view+json": {
       "model_id": "29f1d8561a15489786b0cace14dcdd7c",
       "version_major": 2,
       "version_minor": 0
      },
      "text/plain": [
       "Validation:   0%|          | 0/163 [00:00<?, ?it/s]"
      ]
     },
     "metadata": {},
     "output_type": "display_data"
    },
    {
     "name": "stdout",
     "output_type": "stream",
     "text": [
      "Epoch 8/10, Validation Loss: 0.11128922689046698, Validation Accuracy: 0.9631336405529954\n"
     ]
    },
    {
     "data": {
      "application/vnd.jupyter.widget-view+json": {
       "model_id": "bf22e60d17b240eabdba113ede712264",
       "version_major": 2,
       "version_minor": 0
      },
      "text/plain": [
       "Epoch 9/10:   0%|          | 0/6187 [00:00<?, ?it/s]"
      ]
     },
     "metadata": {},
     "output_type": "display_data"
    },
    {
     "name": "stdout",
     "output_type": "stream",
     "text": [
      "Epoch 9/10, Train Loss: 0.06091352051015394\n"
     ]
    },
    {
     "data": {
      "application/vnd.jupyter.widget-view+json": {
       "model_id": "bee7ff446fb84292843ecd5117b10258",
       "version_major": 2,
       "version_minor": 0
      },
      "text/plain": [
       "Validation:   0%|          | 0/163 [00:00<?, ?it/s]"
      ]
     },
     "metadata": {},
     "output_type": "display_data"
    },
    {
     "name": "stdout",
     "output_type": "stream",
     "text": [
      "Epoch 9/10, Validation Loss: 0.13361984112438266, Validation Accuracy: 0.9615975422427036\n"
     ]
    },
    {
     "data": {
      "application/vnd.jupyter.widget-view+json": {
       "model_id": "8aa95e52c38f4fcdbb9930d5436ecc1d",
       "version_major": 2,
       "version_minor": 0
      },
      "text/plain": [
       "Epoch 10/10:   0%|          | 0/6187 [00:00<?, ?it/s]"
      ]
     },
     "metadata": {},
     "output_type": "display_data"
    },
    {
     "name": "stdout",
     "output_type": "stream",
     "text": [
      "Epoch 10/10, Train Loss: 0.05439706632211929\n"
     ]
    },
    {
     "data": {
      "application/vnd.jupyter.widget-view+json": {
       "model_id": "fda3b5ab27f649e79fcbd24006b3130a",
       "version_major": 2,
       "version_minor": 0
      },
      "text/plain": [
       "Validation:   0%|          | 0/163 [00:00<?, ?it/s]"
      ]
     },
     "metadata": {},
     "output_type": "display_data"
    },
    {
     "name": "stdout",
     "output_type": "stream",
     "text": [
      "Epoch 10/10, Validation Loss: 0.16158265293942478, Validation Accuracy: 0.9493087557603687\n"
     ]
    },
    {
     "data": {
      "application/vnd.jupyter.widget-view+json": {
       "model_id": "a5b0544d5920478bb96d04c69e231d8b",
       "version_major": 2,
       "version_minor": 0
      },
      "text/plain": [
       "Testing:   0%|          | 0/163 [00:00<?, ?it/s]"
      ]
     },
     "metadata": {},
     "output_type": "display_data"
    },
    {
     "name": "stdout",
     "output_type": "stream",
     "text": [
      "{'val_acc': [0.9262672811059908, 0.9416282642089093, 0.9324116743471582, 0.9585253456221198, 0.9539170506912442, 0.9600614439324117, 0.9416282642089093, 0.9631336405529954, 0.9615975422427036, 0.9493087557603687], 'val_loss': [0.2600799794623091, 0.2081335012092501, 0.20067341164850053, 0.14669204599358301, 0.14446447857482747, 0.1463909624268528, 0.19408537078884003, 0.11128922689046698, 0.13361984112438266, 0.16158265293942478], 'train_loss': [0.9881540784331261, 0.24812652984982064, 0.16443891063570318, 0.12438029728664504, 0.09816879884702234, 0.08502332148522898, 0.07306618827881453, 0.06774837375855747, 0.06091352051015394, 0.05439706632211929], 'test_correct_in_batch': [4.0, 4.0, 3.0, 4.0, 4.0, 4.0, 4.0, 2.0, 3.0, 4.0, 4.0, 4.0, 4.0, 4.0, 4.0, 3.0, 3.0, 4.0, 3.0, 4.0, 4.0, 4.0, 3.0, 4.0, 4.0, 4.0, 4.0, 3.0, 3.0, 4.0, 4.0, 4.0, 4.0, 4.0, 4.0, 4.0, 4.0, 4.0, 4.0, 4.0, 4.0, 4.0, 3.0, 4.0, 4.0, 4.0, 4.0, 4.0, 4.0, 3.0, 4.0, 1.0, 4.0, 3.0, 4.0, 4.0, 4.0, 4.0, 4.0, 3.0, 4.0, 4.0, 4.0, 4.0, 4.0, 4.0, 4.0, 3.0, 3.0, 3.0, 2.0, 4.0, 4.0, 3.0, 4.0, 4.0, 4.0, 4.0, 3.0, 4.0, 4.0, 4.0, 4.0, 4.0, 4.0, 3.0, 4.0, 4.0, 4.0, 4.0, 4.0, 4.0, 3.0, 4.0, 4.0, 4.0, 4.0, 2.0, 4.0, 4.0, 3.0, 4.0, 4.0, 4.0, 4.0, 4.0, 4.0, 4.0, 4.0, 4.0, 4.0, 4.0, 4.0, 4.0, 4.0, 4.0, 3.0, 4.0, 4.0, 4.0, 4.0, 3.0, 4.0, 4.0, 3.0, 4.0, 4.0, 4.0, 4.0, 4.0, 4.0, 4.0, 4.0, 4.0, 4.0, 4.0, 4.0, 4.0, 4.0, 3.0, 4.0, 4.0, 4.0, 4.0, 4.0, 2.0, 4.0, 4.0, 3.0, 4.0, 4.0, 3.0, 4.0, 4.0, 4.0, 4.0, 4.0, 4.0, 3.0, 4.0, 4.0, 4.0, 3.0], 'test_losses': [0.00017627322813495994, 0.0028070490807294846, 1.5307307243347168, 0.0030690361745655537, 0.0004224123840685934, 0.0006269919103942811, 0.0010203755227848887, 1.2629077434539795, 0.5149711966514587, 0.000162202151841484, 0.00011907685257028788, 0.00015229843847919255, 0.06676224619150162, 0.0016834369162097573, 0.00042735919123515487, 2.4181673526763916, 0.8503073453903198, 0.035144317895174026, 0.540151834487915, 0.001990183023735881, 0.0016847042134031653, 0.0003685172996483743, 0.686180055141449, 0.004305803682655096, 0.0010965493274852633, 0.00016863529162947088, 8.424623229075223e-05, 0.5112135410308838, 0.7586924433708191, 0.00041854026494547725, 0.13706128299236298, 0.0006977764423936605, 0.00025572182494215667, 2.396065610810183e-05, 0.005506484303623438, 0.000264954287558794, 0.0005180670414119959, 0.0037159130442887545, 0.00011303272913210094, 9.437622793484479e-05, 0.0008401947561651468, 3.957629087381065e-05, 0.7330187559127808, 0.007786075584590435, 0.00037458224687725306, 4.714567694463767e-05, 0.010987299494445324, 0.0032560492400079966, 0.0027935351245105267, 0.8772035241127014, 0.14674776792526245, 3.300294876098633, 0.0001801635226001963, 0.5295203328132629, 0.011229894123971462, 4.8546156904194504e-05, 0.00015060360601637512, 0.0002348276466364041, 0.000140198870212771, 0.27001282572746277, 3.415248647797853e-05, 0.0003378069377504289, 0.020711783319711685, 0.0002152219822164625, 0.0007824806962162256, 0.04966725409030914, 0.04599752277135849, 1.1937180757522583, 0.8958218097686768, 0.8388973474502563, 1.5746227502822876, 8.975611854111776e-05, 0.0005336154717952013, 0.31210505962371826, 0.00017449818551540375, 0.016363272443413734, 0.0010331725934520364, 0.0019738459959626198, 1.376646637916565, 0.006271637976169586, 0.11800640821456909, 0.0007875682786107063, 0.00256499950774014, 0.000407887069741264, 0.02655014395713806, 2.58581280708313, 0.00036833930062130094, 0.0014752537244930863, 0.0004395131254568696, 0.03389079123735428, 0.00013665833103004843, 0.00013859104365110397, 2.466151714324951, 0.00011272791743976995, 0.0001454973971704021, 0.01254834420979023, 0.046052493155002594, 4.162205219268799, 0.00019599529332481325, 0.004033982753753662, 0.6649689078330994, 0.00028287971508689225, 0.00015079877630341798, 0.15402692556381226, 0.0002397191128693521, 0.000575740821659565, 0.0004451340646483004, 0.0007956343470141292, 0.011764087714254856, 0.00022015375725459307, 0.0007438400061801076, 0.09553808718919754, 0.005652076564729214, 0.021731605753302574, 0.021929558366537094, 0.0008455236093141139, 1.2315808534622192, 0.0003767930902540684, 0.004325991030782461, 0.0009807315655052662, 0.05470681190490723, 0.676913321018219, 0.0026895725168287754, 0.00919515173882246, 1.4249606132507324, 0.0006784374709241092, 0.00031396353733725846, 0.03373463451862335, 0.13485035300254822, 0.0036174794659018517, 8.865004929248244e-05, 0.047244541347026825, 0.00018065777840092778, 0.003639194881543517, 0.0015647376421838999, 0.0027189890388399363, 9.035471157403663e-05, 0.03402259945869446, 0.0014858841896057129, 0.3447657525539398, 0.0005761650390923023, 0.08690609037876129, 0.16536609828472137, 0.0002122940932167694, 0.002165901940315962, 0.6972331404685974, 0.03992227464914322, 0.00046244950499385595, 1.2390437126159668, 0.00023631134536117315, 0.0001386133226333186, 0.6786666512489319, 0.0002793440071400255, 0.0011457146611064672, 0.02373085543513298, 0.00995340384542942, 0.0011198174906894565, 0.0014251751126721501, 1.758906364440918, 0.00017482289695180953, 0.00022590091975871474, 0.00041476957267150283, 0.000742702279239893], 'test_loss': 0.2499440416522814, 'test_batch_lens': [4, 4, 4, 4, 4, 4, 4, 4, 4, 4, 4, 4, 4, 4, 4, 4, 4, 4, 4, 4, 4, 4, 4, 4, 4, 4, 4, 4, 4, 4, 4, 4, 4, 4, 4, 4, 4, 4, 4, 4, 4, 4, 4, 4, 4, 4, 4, 4, 4, 4, 4, 4, 4, 4, 4, 4, 4, 4, 4, 4, 4, 4, 4, 4, 4, 4, 4, 4, 4, 4, 4, 4, 4, 4, 4, 4, 4, 4, 4, 4, 4, 4, 4, 4, 4, 4, 4, 4, 4, 4, 4, 4, 4, 4, 4, 4, 4, 4, 4, 4, 4, 4, 4, 4, 4, 4, 4, 4, 4, 4, 4, 4, 4, 4, 4, 4, 4, 4, 4, 4, 4, 4, 4, 4, 4, 4, 4, 4, 4, 4, 4, 4, 4, 4, 4, 4, 4, 4, 4, 4, 4, 4, 4, 4, 4, 4, 4, 4, 4, 4, 4, 4, 4, 4, 4, 4, 4, 4, 4, 4, 4, 4, 3], 'test_accuracy': 0.9416282642089093, 'predictions': [7, 4, 1, 10, 7, 1, 8, 8, 0, 3, 4, 7, 1, 9, 3, 0, 9, 6, 4, 9, 8, 10, 1, 4, 6, 8, 8, 6, 6, 8, 8, 0, 1, 1, 6, 3, 10, 5, 5, 0, 10, 3, 2, 10, 7, 8, 4, 3, 3, 8, 9, 4, 3, 4, 6, 1, 1, 9, 1, 10, 10, 6, 9, 6, 5, 9, 8, 5, 8, 1, 3, 1, 6, 3, 1, 8, 6, 8, 9, 2, 3, 1, 3, 1, 5, 5, 1, 8, 0, 5, 9, 10, 10, 7, 1, 5, 1, 8, 2, 7, 5, 1, 10, 6, 10, 8, 3, 9, 10, 4, 7, 6, 0, 3, 7, 8, 0, 8, 0, 0, 4, 8, 7, 6, 5, 1, 7, 9, 6, 7, 4, 0, 10, 10, 7, 9, 4, 1, 9, 0, 10, 3, 3, 9, 4, 7, 4, 7, 2, 10, 2, 4, 10, 10, 1, 0, 10, 5, 4, 7, 8, 9, 10, 4, 2, 3, 10, 5, 8, 0, 6, 0, 10, 7, 6, 8, 0, 8, 1, 2, 6, 3, 5, 3, 9, 3, 4, 8, 3, 2, 0, 2, 0, 9, 9, 8, 3, 3, 5, 9, 8, 1, 6, 1, 4, 4, 9, 6, 3, 9, 5, 6, 4, 5, 4, 5, 2, 10, 8, 4, 7, 3, 0, 6, 7, 0, 5, 7, 1, 0, 1, 6, 3, 7, 7, 2, 10, 9, 3, 10, 9, 4, 3, 3, 1, 7, 8, 5, 2, 4, 10, 1, 1, 2, 3, 10, 6, 9, 5, 3, 3, 10, 7, 1, 5, 1, 8, 1, 3, 7, 3, 10, 3, 5, 1, 2, 7, 5, 9, 7, 3, 8, 0, 10, 2, 4, 2, 5, 5, 3, 8, 0, 8, 6, 3, 1, 2, 7, 3, 2, 4, 10, 8, 6, 6, 0, 2, 7, 10, 1, 7, 6, 4, 2, 5, 2, 0, 9, 4, 3, 2, 6, 7, 9, 1, 8, 8, 5, 2, 9, 4, 1, 1, 8, 4, 7, 1, 2, 7, 2, 5, 0, 4, 10, 5, 0, 5, 7, 3, 6, 4, 6, 4, 9, 5, 1, 8, 3, 7, 7, 4, 4, 6, 10, 8, 9, 8, 5, 6, 9, 4, 0, 5, 0, 9, 10, 5, 0, 3, 7, 3, 1, 8, 2, 2, 4, 4, 9, 3, 7, 5, 6, 9, 4, 0, 0, 5, 6, 9, 9, 7, 7, 8, 9, 1, 10, 10, 5, 5, 7, 3, 3, 5, 10, 9, 7, 2, 3, 1, 1, 0, 5, 4, 1, 2, 0, 1, 8, 8, 4, 8, 3, 8, 0, 3, 2, 2, 3, 7, 10, 10, 4, 10, 6, 6, 5, 0, 9, 8, 2, 1, 9, 9, 5, 9, 9, 1, 3, 5, 7, 9, 10, 1, 8, 1, 6, 3, 4, 2, 4, 10, 1, 1, 2, 8, 2, 4, 8, 2, 5, 9, 9, 0, 7, 6, 9, 1, 0, 2, 8, 6, 9, 3, 7, 2, 4, 0, 0, 1, 3, 9, 6, 3, 4, 6, 3, 3, 5, 0, 1, 7, 10, 4, 10, 2, 5, 5, 7, 5, 1, 4, 5, 0, 4, 5, 4, 9, 5, 9, 7, 7, 2, 0, 2, 4, 3, 2, 9, 1, 8, 9, 1, 8, 8, 2, 0, 9, 7, 6, 9, 6, 9, 0, 10, 8, 8, 5, 1, 7, 3, 2, 7, 9, 6, 7, 8, 9, 0, 8, 2, 10, 5, 2, 10, 8, 7, 9, 6, 8, 6, 6, 5, 7, 4, 7, 8, 4, 9, 3, 3, 7, 4, 1, 7, 4, 4, 0, 7, 8, 0, 7, 4, 5, 5, 4, 6, 6, 6, 1, 5, 3, 0, 1, 4, 7, 1, 9, 4, 6, 6, 10, 7, 1, 0, 3, 9, 1, 4, 3, 10, 7, 8, 9, 9, 4, 3, 2, 3, 7, 8, 6, 8, 1, 7, 4, 0, 2, 0, 8, 6, 7], 'real_labels': [7, 4, 1, 10, 7, 1, 8, 8, 0, 8, 4, 7, 1, 9, 3, 0, 9, 6, 4, 9, 8, 10, 1, 4, 6, 8, 8, 6, 6, 8, 2, 1, 1, 9, 6, 3, 10, 5, 5, 0, 10, 3, 2, 10, 7, 8, 4, 3, 3, 8, 9, 4, 3, 4, 6, 1, 1, 9, 1, 10, 10, 6, 1, 6, 5, 5, 8, 5, 8, 1, 3, 1, 1, 3, 1, 8, 6, 8, 9, 2, 3, 1, 3, 1, 5, 5, 1, 8, 0, 4, 9, 10, 10, 7, 1, 5, 1, 8, 2, 7, 5, 1, 10, 6, 10, 8, 3, 9, 10, 4, 7, 1, 0, 3, 7, 6, 0, 8, 0, 0, 4, 8, 7, 6, 5, 1, 7, 9, 6, 7, 4, 0, 10, 10, 7, 9, 4, 1, 9, 0, 10, 3, 3, 9, 4, 7, 4, 7, 2, 10, 2, 4, 10, 10, 1, 0, 10, 5, 4, 7, 8, 9, 10, 4, 2, 3, 10, 5, 8, 0, 9, 0, 10, 7, 6, 8, 0, 8, 1, 2, 6, 3, 5, 3, 9, 3, 4, 8, 3, 2, 0, 2, 0, 9, 9, 8, 1, 3, 5, 9, 8, 1, 6, 1, 4, 3, 4, 8, 3, 9, 5, 6, 2, 5, 4, 5, 2, 10, 8, 4, 7, 3, 0, 6, 7, 0, 5, 7, 1, 0, 1, 6, 3, 7, 7, 2, 10, 4, 3, 10, 9, 4, 3, 3, 1, 7, 8, 5, 2, 4, 10, 1, 1, 2, 3, 10, 6, 9, 5, 3, 3, 10, 7, 1, 5, 1, 8, 1, 8, 7, 3, 10, 3, 5, 2, 2, 7, 3, 9, 7, 6, 8, 8, 10, 2, 4, 2, 5, 5, 3, 8, 0, 8, 6, 0, 1, 2, 7, 3, 2, 4, 10, 8, 6, 6, 0, 2, 7, 10, 1, 7, 6, 9, 2, 5, 2, 0, 9, 4, 3, 2, 6, 7, 9, 1, 8, 8, 5, 2, 9, 4, 1, 1, 8, 4, 7, 1, 2, 7, 2, 5, 0, 7, 10, 5, 0, 5, 7, 3, 6, 4, 6, 4, 9, 5, 1, 8, 3, 7, 7, 4, 4, 6, 10, 8, 9, 8, 5, 6, 7, 4, 0, 5, 0, 9, 10, 5, 0, 3, 7, 3, 1, 8, 2, 2, 4, 4, 9, 3, 7, 9, 9, 9, 4, 0, 0, 5, 6, 9, 9, 7, 7, 6, 9, 1, 10, 10, 5, 5, 7, 3, 3, 5, 10, 9, 7, 2, 3, 1, 1, 0, 5, 4, 1, 2, 0, 1, 8, 8, 4, 8, 3, 8, 0, 3, 2, 2, 3, 7, 10, 10, 4, 10, 6, 6, 5, 0, 9, 8, 2, 1, 9, 9, 5, 9, 9, 1, 3, 5, 7, 9, 10, 1, 8, 1, 6, 3, 8, 2, 4, 10, 1, 1, 2, 8, 2, 4, 8, 2, 5, 9, 9, 0, 7, 6, 9, 2, 0, 2, 8, 6, 9, 3, 7, 2, 4, 3, 0, 1, 3, 9, 6, 3, 4, 6, 3, 3, 5, 0, 1, 7, 10, 4, 10, 2, 5, 5, 7, 5, 1, 4, 5, 0, 4, 5, 4, 9, 5, 9, 7, 7, 2, 0, 2, 4, 3, 2, 9, 1, 8, 9, 1, 8, 8, 2, 0, 9, 7, 6, 9, 6, 9, 0, 10, 8, 8, 4, 1, 7, 3, 2, 7, 9, 6, 7, 8, 9, 0, 8, 2, 10, 5, 2, 10, 8, 7, 9, 6, 8, 6, 6, 4, 7, 9, 7, 8, 4, 9, 3, 3, 7, 4, 1, 7, 5, 4, 0, 7, 8, 0, 7, 4, 5, 5, 4, 8, 6, 6, 1, 5, 3, 0, 1, 4, 7, 1, 9, 4, 6, 6, 10, 7, 1, 0, 3, 9, 1, 4, 3, 10, 7, 8, 9, 9, 4, 0, 2, 3, 7, 8, 6, 8, 1, 7, 4, 0, 2, 0, 8, 6, 7], 'label_to_index': {'down': 0, 'go': 1, 'left': 2, 'no': 3, 'off': 4, 'on': 5, 'right': 6, 'stop': 7, 'unknown': 8, 'up': 9, 'yes': 10}}\n",
      "Test Loss: 0.2499440416522814, Test Accuracy: 0.9416282642089093\n"
     ]
    },
    {
     "name": "stderr",
     "output_type": "stream",
     "text": [
      "Some weights of the model checkpoint at superb/wav2vec2-base-superb-ks were not used when initializing Wav2Vec2ForSequenceClassification: ['wav2vec2.encoder.pos_conv_embed.conv.weight_g', 'wav2vec2.encoder.pos_conv_embed.conv.weight_v']\n",
      "- This IS expected if you are initializing Wav2Vec2ForSequenceClassification from the checkpoint of a model trained on another task or with another architecture (e.g. initializing a BertForSequenceClassification model from a BertForPreTraining model).\n",
      "- This IS NOT expected if you are initializing Wav2Vec2ForSequenceClassification from the checkpoint of a model that you expect to be exactly identical (initializing a BertForSequenceClassification model from a BertForSequenceClassification model).\n",
      "Some weights of Wav2Vec2ForSequenceClassification were not initialized from the model checkpoint at superb/wav2vec2-base-superb-ks and are newly initialized: ['wav2vec2.encoder.pos_conv_embed.conv.parametrizations.weight.original0', 'wav2vec2.encoder.pos_conv_embed.conv.parametrizations.weight.original1']\n",
      "You should probably TRAIN this model on a down-stream task to be able to use it for predictions and inference.\n"
     ]
    },
    {
     "data": {
      "application/vnd.jupyter.widget-view+json": {
       "model_id": "448bf24573c5494fbc66ce62e5847f25",
       "version_major": 2,
       "version_minor": 0
      },
      "text/plain": [
       "Epoch 1/10:   0%|          | 0/6187 [00:00<?, ?it/s]"
      ]
     },
     "metadata": {},
     "output_type": "display_data"
    },
    {
     "name": "stdout",
     "output_type": "stream",
     "text": [
      "Epoch 1/10, Train Loss: 0.9279545191853049\n"
     ]
    },
    {
     "data": {
      "application/vnd.jupyter.widget-view+json": {
       "model_id": "ba0aca4bfc304beea63836619e38bc80",
       "version_major": 2,
       "version_minor": 0
      },
      "text/plain": [
       "Validation:   0%|          | 0/163 [00:00<?, ?it/s]"
      ]
     },
     "metadata": {},
     "output_type": "display_data"
    },
    {
     "name": "stdout",
     "output_type": "stream",
     "text": [
      "Epoch 1/10, Validation Loss: 0.38467166176854284, Validation Accuracy: 0.890937019969278\n"
     ]
    },
    {
     "data": {
      "application/vnd.jupyter.widget-view+json": {
       "model_id": "44fc5221a11647e2a4884d3a4bfe3b1b",
       "version_major": 2,
       "version_minor": 0
      },
      "text/plain": [
       "Epoch 2/10:   0%|          | 0/6187 [00:00<?, ?it/s]"
      ]
     },
     "metadata": {},
     "output_type": "display_data"
    },
    {
     "name": "stdout",
     "output_type": "stream",
     "text": [
      "Epoch 2/10, Train Loss: 0.2851502571024057\n"
     ]
    },
    {
     "data": {
      "application/vnd.jupyter.widget-view+json": {
       "model_id": "578371718bb044579c555519d86c669a",
       "version_major": 2,
       "version_minor": 0
      },
      "text/plain": [
       "Validation:   0%|          | 0/163 [00:00<?, ?it/s]"
      ]
     },
     "metadata": {},
     "output_type": "display_data"
    },
    {
     "name": "stdout",
     "output_type": "stream",
     "text": [
      "Epoch 2/10, Validation Loss: 0.27836713126854845, Validation Accuracy: 0.9170506912442397\n"
     ]
    },
    {
     "data": {
      "application/vnd.jupyter.widget-view+json": {
       "model_id": "6a8d75c7445e4d4c898bf3c8c54e59f7",
       "version_major": 2,
       "version_minor": 0
      },
      "text/plain": [
       "Epoch 3/10:   0%|          | 0/6187 [00:00<?, ?it/s]"
      ]
     },
     "metadata": {},
     "output_type": "display_data"
    },
    {
     "name": "stdout",
     "output_type": "stream",
     "text": [
      "Epoch 3/10, Train Loss: 0.19971032697034813\n"
     ]
    },
    {
     "data": {
      "application/vnd.jupyter.widget-view+json": {
       "model_id": "8c125bdfe6d54ed79db8750df1e50a68",
       "version_major": 2,
       "version_minor": 0
      },
      "text/plain": [
       "Validation:   0%|          | 0/163 [00:00<?, ?it/s]"
      ]
     },
     "metadata": {},
     "output_type": "display_data"
    },
    {
     "name": "stdout",
     "output_type": "stream",
     "text": [
      "Epoch 3/10, Validation Loss: 0.19046648805089683, Validation Accuracy: 0.946236559139785\n"
     ]
    },
    {
     "data": {
      "application/vnd.jupyter.widget-view+json": {
       "model_id": "d7f3cbec13134dde854172e56ecb2609",
       "version_major": 2,
       "version_minor": 0
      },
      "text/plain": [
       "Epoch 4/10:   0%|          | 0/6187 [00:00<?, ?it/s]"
      ]
     },
     "metadata": {},
     "output_type": "display_data"
    },
    {
     "name": "stdout",
     "output_type": "stream",
     "text": [
      "Epoch 4/10, Train Loss: 0.1546077230855458\n"
     ]
    },
    {
     "data": {
      "application/vnd.jupyter.widget-view+json": {
       "model_id": "3a02053454da4771af20d50612774667",
       "version_major": 2,
       "version_minor": 0
      },
      "text/plain": [
       "Validation:   0%|          | 0/163 [00:00<?, ?it/s]"
      ]
     },
     "metadata": {},
     "output_type": "display_data"
    },
    {
     "name": "stdout",
     "output_type": "stream",
     "text": [
      "Epoch 4/10, Validation Loss: 0.23127688733936555, Validation Accuracy: 0.9324116743471582\n"
     ]
    },
    {
     "data": {
      "application/vnd.jupyter.widget-view+json": {
       "model_id": "d97101639cb54d49b99d34e5f80dbcd3",
       "version_major": 2,
       "version_minor": 0
      },
      "text/plain": [
       "Epoch 5/10:   0%|          | 0/6187 [00:00<?, ?it/s]"
      ]
     },
     "metadata": {},
     "output_type": "display_data"
    },
    {
     "name": "stdout",
     "output_type": "stream",
     "text": [
      "Epoch 5/10, Train Loss: 0.12443999479780145\n"
     ]
    },
    {
     "data": {
      "application/vnd.jupyter.widget-view+json": {
       "model_id": "03cca16101954f3f91b737dfdcb7ee50",
       "version_major": 2,
       "version_minor": 0
      },
      "text/plain": [
       "Validation:   0%|          | 0/163 [00:00<?, ?it/s]"
      ]
     },
     "metadata": {},
     "output_type": "display_data"
    },
    {
     "name": "stdout",
     "output_type": "stream",
     "text": [
      "Epoch 5/10, Validation Loss: 0.2179534186307695, Validation Accuracy: 0.9370199692780338\n"
     ]
    },
    {
     "data": {
      "application/vnd.jupyter.widget-view+json": {
       "model_id": "6b7f4ec1414e4fbead1ffc52ad256110",
       "version_major": 2,
       "version_minor": 0
      },
      "text/plain": [
       "Epoch 6/10:   0%|          | 0/6187 [00:00<?, ?it/s]"
      ]
     },
     "metadata": {},
     "output_type": "display_data"
    },
    {
     "name": "stdout",
     "output_type": "stream",
     "text": [
      "Epoch 6/10, Train Loss: 0.10346724633112069\n"
     ]
    },
    {
     "data": {
      "application/vnd.jupyter.widget-view+json": {
       "model_id": "b9a741b35e634295b73ffda01a15e319",
       "version_major": 2,
       "version_minor": 0
      },
      "text/plain": [
       "Validation:   0%|          | 0/163 [00:00<?, ?it/s]"
      ]
     },
     "metadata": {},
     "output_type": "display_data"
    },
    {
     "name": "stdout",
     "output_type": "stream",
     "text": [
      "Epoch 6/10, Validation Loss: 0.2406145800430002, Validation Accuracy: 0.9293394777265745\n"
     ]
    },
    {
     "data": {
      "application/vnd.jupyter.widget-view+json": {
       "model_id": "c29ea768ab9c420d8187f2eff6501e55",
       "version_major": 2,
       "version_minor": 0
      },
      "text/plain": [
       "Epoch 7/10:   0%|          | 0/6187 [00:00<?, ?it/s]"
      ]
     },
     "metadata": {},
     "output_type": "display_data"
    },
    {
     "name": "stdout",
     "output_type": "stream",
     "text": [
      "Epoch 7/10, Train Loss: 0.09172767697575364\n"
     ]
    },
    {
     "data": {
      "application/vnd.jupyter.widget-view+json": {
       "model_id": "30464bafac274f1ab0df396d1e6d1105",
       "version_major": 2,
       "version_minor": 0
      },
      "text/plain": [
       "Validation:   0%|          | 0/163 [00:00<?, ?it/s]"
      ]
     },
     "metadata": {},
     "output_type": "display_data"
    },
    {
     "name": "stdout",
     "output_type": "stream",
     "text": [
      "Epoch 7/10, Validation Loss: 0.16334853392064735, Validation Accuracy: 0.9539170506912442\n"
     ]
    },
    {
     "data": {
      "application/vnd.jupyter.widget-view+json": {
       "model_id": "10a26abaf18f48dc9a522485f48fd4ce",
       "version_major": 2,
       "version_minor": 0
      },
      "text/plain": [
       "Epoch 8/10:   0%|          | 0/6187 [00:00<?, ?it/s]"
      ]
     },
     "metadata": {},
     "output_type": "display_data"
    },
    {
     "name": "stdout",
     "output_type": "stream",
     "text": [
      "Epoch 8/10, Train Loss: 0.07731069384450033\n"
     ]
    },
    {
     "data": {
      "application/vnd.jupyter.widget-view+json": {
       "model_id": "d2482ad1ad0d4ea9a22d5d0e7f412f28",
       "version_major": 2,
       "version_minor": 0
      },
      "text/plain": [
       "Validation:   0%|          | 0/163 [00:00<?, ?it/s]"
      ]
     },
     "metadata": {},
     "output_type": "display_data"
    },
    {
     "name": "stdout",
     "output_type": "stream",
     "text": [
      "Epoch 8/10, Validation Loss: 0.16485324453733372, Validation Accuracy: 0.9477726574500768\n"
     ]
    },
    {
     "data": {
      "application/vnd.jupyter.widget-view+json": {
       "model_id": "658d3f93ccfa4789becfc45abf77e44c",
       "version_major": 2,
       "version_minor": 0
      },
      "text/plain": [
       "Epoch 9/10:   0%|          | 0/6187 [00:00<?, ?it/s]"
      ]
     },
     "metadata": {},
     "output_type": "display_data"
    },
    {
     "name": "stdout",
     "output_type": "stream",
     "text": [
      "Epoch 9/10, Train Loss: 0.07223908792654572\n"
     ]
    },
    {
     "data": {
      "application/vnd.jupyter.widget-view+json": {
       "model_id": "81a29744452346cb8f71641da4e1974e",
       "version_major": 2,
       "version_minor": 0
      },
      "text/plain": [
       "Validation:   0%|          | 0/163 [00:00<?, ?it/s]"
      ]
     },
     "metadata": {},
     "output_type": "display_data"
    },
    {
     "name": "stdout",
     "output_type": "stream",
     "text": [
      "Epoch 9/10, Validation Loss: 0.1617309459021952, Validation Accuracy: 0.9477726574500768\n"
     ]
    },
    {
     "data": {
      "application/vnd.jupyter.widget-view+json": {
       "model_id": "733e5d4cebdf4c3e836a4bd291bdc62f",
       "version_major": 2,
       "version_minor": 0
      },
      "text/plain": [
       "Epoch 10/10:   0%|          | 0/6187 [00:00<?, ?it/s]"
      ]
     },
     "metadata": {},
     "output_type": "display_data"
    },
    {
     "name": "stdout",
     "output_type": "stream",
     "text": [
      "Epoch 10/10, Train Loss: 0.06476294876030972\n"
     ]
    },
    {
     "data": {
      "application/vnd.jupyter.widget-view+json": {
       "model_id": "162485b52100436297a1b223730ba7f2",
       "version_major": 2,
       "version_minor": 0
      },
      "text/plain": [
       "Validation:   0%|          | 0/163 [00:00<?, ?it/s]"
      ]
     },
     "metadata": {},
     "output_type": "display_data"
    },
    {
     "name": "stdout",
     "output_type": "stream",
     "text": [
      "Epoch 10/10, Validation Loss: 0.16075078015403352, Validation Accuracy: 0.9600614439324117\n"
     ]
    },
    {
     "data": {
      "application/vnd.jupyter.widget-view+json": {
       "model_id": "24c49d965e85407399be8ff5ec458ded",
       "version_major": 2,
       "version_minor": 0
      },
      "text/plain": [
       "Testing:   0%|          | 0/163 [00:00<?, ?it/s]"
      ]
     },
     "metadata": {},
     "output_type": "display_data"
    },
    {
     "name": "stdout",
     "output_type": "stream",
     "text": [
      "{'val_acc': [0.890937019969278, 0.9170506912442397, 0.946236559139785, 0.9324116743471582, 0.9370199692780338, 0.9293394777265745, 0.9539170506912442, 0.9477726574500768, 0.9477726574500768, 0.9600614439324117], 'val_loss': [0.38467166176854284, 0.27836713126854845, 0.19046648805089683, 0.23127688733936555, 0.2179534186307695, 0.2406145800430002, 0.16334853392064735, 0.16485324453733372, 0.1617309459021952, 0.16075078015403352], 'train_loss': [0.9279545191853049, 0.2851502571024057, 0.19971032697034813, 0.1546077230855458, 0.12443999479780145, 0.10346724633112069, 0.09172767697575364, 0.07731069384450033, 0.07223908792654572, 0.06476294876030972], 'test_correct_in_batch': [4.0, 4.0, 3.0, 4.0, 4.0, 4.0, 2.0, 2.0, 3.0, 4.0, 4.0, 4.0, 3.0, 4.0, 4.0, 3.0, 3.0, 4.0, 3.0, 4.0, 4.0, 4.0, 3.0, 4.0, 4.0, 4.0, 4.0, 3.0, 4.0, 4.0, 4.0, 4.0, 4.0, 4.0, 4.0, 4.0, 4.0, 4.0, 4.0, 4.0, 4.0, 4.0, 3.0, 4.0, 4.0, 4.0, 4.0, 4.0, 4.0, 3.0, 3.0, 2.0, 4.0, 4.0, 4.0, 4.0, 4.0, 4.0, 4.0, 3.0, 4.0, 4.0, 4.0, 4.0, 4.0, 4.0, 4.0, 3.0, 3.0, 3.0, 2.0, 4.0, 4.0, 3.0, 4.0, 4.0, 4.0, 4.0, 4.0, 4.0, 4.0, 4.0, 4.0, 4.0, 4.0, 3.0, 4.0, 4.0, 3.0, 3.0, 4.0, 4.0, 3.0, 4.0, 4.0, 4.0, 4.0, 2.0, 4.0, 4.0, 3.0, 4.0, 4.0, 3.0, 4.0, 4.0, 4.0, 4.0, 4.0, 4.0, 4.0, 4.0, 4.0, 4.0, 4.0, 4.0, 2.0, 4.0, 4.0, 4.0, 4.0, 3.0, 4.0, 4.0, 3.0, 4.0, 4.0, 4.0, 4.0, 4.0, 4.0, 4.0, 4.0, 4.0, 4.0, 4.0, 4.0, 4.0, 4.0, 4.0, 4.0, 4.0, 3.0, 4.0, 4.0, 2.0, 3.0, 4.0, 4.0, 4.0, 4.0, 4.0, 4.0, 4.0, 4.0, 4.0, 4.0, 3.0, 4.0, 4.0, 4.0, 4.0, 3.0], 'test_losses': [0.0005106261814944446, 0.012434720993041992, 0.2914644777774811, 0.03518262878060341, 6.457816198235378e-05, 0.0009791373740881681, 1.6794028282165527, 1.8310827016830444, 0.6055410504341125, 0.00030755827901884913, 0.01542972307652235, 0.0004135696217417717, 0.37713000178337097, 0.0005297936731949449, 0.0008268066449090838, 1.9231855869293213, 0.7745645046234131, 0.07426665723323822, 1.9298410415649414, 0.0006353830685839057, 0.007193427532911301, 0.0032702526077628136, 0.7309018969535828, 0.005926777143031359, 0.0026395563036203384, 0.0008975389646366239, 0.00044433839502744377, 0.7135229706764221, 0.14060863852500916, 0.001017178874462843, 0.027275603264570236, 0.000888227776158601, 0.0010352840181440115, 0.00016420509200543165, 0.000611709663644433, 0.00030209749820642173, 0.0001824627979658544, 0.0002472700725775212, 0.0007210251642391086, 0.002779342932626605, 0.00032049164292402565, 0.0008921552216634154, 0.56819748878479, 0.00047366105718538165, 0.012707382440567017, 0.0010381473693996668, 0.018361108377575874, 0.006367410067468882, 0.003161053406074643, 1.7861367464065552, 0.8777720928192139, 3.9291467666625977, 0.0027328282594680786, 0.015386695973575115, 0.010640605352818966, 0.00021625043882522732, 0.000482216477394104, 0.0012144276406615973, 0.00021023061708547175, 0.3455502986907959, 0.0011423894902691245, 0.00244617136195302, 0.04111367464065552, 0.0003407397889532149, 0.0012822754215449095, 0.02042483165860176, 0.0013226419687271118, 1.9169740676879883, 1.0565993785858154, 0.7559192180633545, 0.8617538213729858, 0.0009038542048074305, 0.0004730441141873598, 0.37772396206855774, 0.0007736020488664508, 0.0015637505566701293, 0.00039330206345766783, 0.0008628205978311598, 0.002914795186370611, 0.011547794565558434, 0.0004906659596599638, 0.0033402596600353718, 0.0027403791900724173, 0.001449508941732347, 0.006043878383934498, 1.4761749505996704, 0.0014826343394815922, 0.01139918528497219, 0.22985614836215973, 0.6743574142456055, 0.00031971809221431613, 0.0013975318288430572, 2.13885760307312, 0.0002508496691007167, 0.002930684480816126, 0.003072603140026331, 0.025882074609398842, 2.3888700008392334, 0.018208002671599388, 0.0015755025669932365, 0.9257729053497314, 0.0011526757152751088, 0.00022912060376256704, 0.4911423325538635, 0.001071892213076353, 0.0014090471668168902, 0.003459524130448699, 0.0032107452861964703, 0.0006998169701546431, 0.00016171626339200884, 0.0001405347720719874, 0.0028134300373494625, 0.0012101329630240798, 0.001038474845699966, 0.0064339772798120975, 0.010503925383090973, 1.6628615856170654, 0.0006941899191588163, 0.02414807118475437, 0.01310739852488041, 0.0013278460828587413, 0.8799338340759277, 0.0680597797036171, 0.0005731065757572651, 1.3813592195510864, 0.0742039754986763, 0.0005950673366896808, 0.08863385021686554, 0.015338641591370106, 0.012047295458614826, 0.0006692933384329081, 0.005113726481795311, 0.001646805671043694, 0.0025473942514508963, 0.056587304919958115, 0.001001975266262889, 0.0001310577936237678, 0.0280387494713068, 0.0006550985854119062, 0.016359008848667145, 0.0008881057146936655, 0.014317519962787628, 0.34509867429733276, 0.0004142005927860737, 0.001189137576147914, 0.865978479385376, 1.2536252737045288, 0.002119328361004591, 0.003790508024394512, 0.00016979539941530675, 0.00735458405688405, 0.07157506793737411, 0.001175840268842876, 0.0057199373841285706, 0.005407310556620359, 0.0007093424792401493, 0.000704773236066103, 0.3952098786830902, 0.0012855425011366606, 0.0009631485445424914, 0.0007895039161667228, 0.001347569515928626, 9.043517638929188e-05], 'test_loss': 0.2428626714983046, 'test_batch_lens': [4, 4, 4, 4, 4, 4, 4, 4, 4, 4, 4, 4, 4, 4, 4, 4, 4, 4, 4, 4, 4, 4, 4, 4, 4, 4, 4, 4, 4, 4, 4, 4, 4, 4, 4, 4, 4, 4, 4, 4, 4, 4, 4, 4, 4, 4, 4, 4, 4, 4, 4, 4, 4, 4, 4, 4, 4, 4, 4, 4, 4, 4, 4, 4, 4, 4, 4, 4, 4, 4, 4, 4, 4, 4, 4, 4, 4, 4, 4, 4, 4, 4, 4, 4, 4, 4, 4, 4, 4, 4, 4, 4, 4, 4, 4, 4, 4, 4, 4, 4, 4, 4, 4, 4, 4, 4, 4, 4, 4, 4, 4, 4, 4, 4, 4, 4, 4, 4, 4, 4, 4, 4, 4, 4, 4, 4, 4, 4, 4, 4, 4, 4, 4, 4, 4, 4, 4, 4, 4, 4, 4, 4, 4, 4, 4, 4, 4, 4, 4, 4, 4, 4, 4, 4, 4, 4, 4, 4, 4, 4, 4, 4, 3], 'test_accuracy': 0.9370199692780338, 'predictions': [7, 4, 1, 10, 7, 1, 8, 8, 0, 3, 4, 7, 1, 9, 3, 0, 9, 6, 4, 9, 8, 10, 1, 4, 6, 3, 6, 6, 6, 8, 8, 0, 1, 8, 6, 3, 10, 5, 5, 0, 10, 3, 2, 10, 7, 8, 4, 3, 3, 8, 1, 4, 3, 4, 6, 1, 1, 9, 1, 10, 10, 6, 9, 6, 5, 0, 8, 5, 8, 1, 3, 1, 6, 3, 1, 8, 6, 8, 9, 2, 3, 1, 3, 1, 5, 5, 1, 8, 0, 5, 9, 10, 10, 7, 1, 5, 1, 8, 2, 7, 5, 1, 10, 6, 10, 8, 3, 9, 10, 4, 7, 6, 0, 3, 7, 6, 0, 8, 0, 0, 4, 8, 7, 6, 5, 1, 7, 9, 6, 7, 4, 0, 10, 10, 7, 9, 4, 1, 9, 0, 10, 3, 3, 9, 4, 7, 4, 7, 2, 10, 2, 4, 10, 10, 1, 0, 10, 5, 4, 7, 8, 9, 10, 4, 2, 3, 10, 5, 8, 0, 6, 0, 10, 7, 6, 8, 0, 8, 1, 2, 6, 3, 5, 3, 9, 3, 4, 8, 3, 2, 0, 2, 0, 9, 9, 8, 3, 3, 5, 9, 2, 1, 6, 1, 4, 5, 9, 8, 3, 9, 5, 6, 2, 5, 4, 5, 2, 10, 8, 4, 7, 3, 0, 6, 7, 0, 5, 7, 1, 0, 1, 6, 3, 7, 7, 2, 10, 9, 3, 10, 9, 4, 3, 3, 1, 7, 8, 5, 2, 4, 10, 1, 1, 2, 3, 10, 6, 9, 5, 3, 3, 10, 7, 1, 5, 1, 8, 1, 3, 7, 3, 10, 3, 5, 6, 2, 7, 7, 9, 7, 10, 8, 0, 10, 2, 4, 2, 5, 5, 3, 8, 0, 8, 6, 3, 1, 2, 7, 3, 2, 4, 10, 8, 6, 6, 0, 2, 7, 10, 1, 7, 6, 9, 2, 5, 2, 0, 9, 4, 3, 2, 6, 7, 9, 1, 8, 8, 5, 2, 9, 4, 1, 1, 8, 4, 7, 1, 2, 7, 2, 5, 0, 4, 10, 5, 0, 5, 7, 3, 6, 4, 6, 9, 9, 5, 1, 3, 3, 7, 7, 4, 4, 6, 10, 8, 9, 8, 5, 6, 9, 4, 0, 5, 0, 9, 10, 5, 0, 3, 7, 3, 1, 8, 2, 2, 4, 4, 9, 3, 7, 5, 6, 9, 4, 0, 0, 5, 6, 9, 9, 7, 7, 8, 9, 1, 10, 10, 5, 5, 7, 3, 3, 5, 10, 4, 7, 2, 3, 1, 1, 0, 5, 4, 1, 2, 0, 1, 8, 8, 4, 8, 3, 8, 0, 3, 2, 2, 3, 7, 10, 10, 4, 10, 6, 6, 5, 0, 9, 8, 2, 1, 9, 9, 5, 9, 9, 1, 3, 5, 7, 9, 10, 1, 8, 0, 6, 3, 1, 2, 4, 10, 1, 1, 2, 8, 2, 4, 8, 2, 5, 9, 9, 0, 7, 6, 9, 10, 0, 2, 8, 6, 9, 3, 7, 2, 4, 8, 0, 1, 3, 9, 6, 3, 4, 6, 3, 3, 5, 0, 1, 7, 10, 4, 10, 2, 5, 5, 7, 5, 1, 4, 5, 0, 4, 5, 4, 9, 5, 9, 7, 7, 2, 0, 2, 4, 3, 2, 9, 1, 8, 9, 1, 8, 8, 2, 0, 9, 7, 6, 9, 6, 9, 0, 10, 8, 8, 4, 1, 7, 3, 2, 7, 9, 6, 7, 8, 9, 0, 8, 2, 2, 5, 2, 10, 8, 7, 9, 6, 8, 6, 6, 9, 7, 4, 7, 1, 4, 9, 3, 3, 7, 4, 1, 7, 5, 4, 0, 7, 8, 0, 7, 4, 5, 5, 4, 8, 6, 6, 1, 5, 3, 0, 1, 4, 7, 1, 9, 4, 6, 6, 10, 7, 1, 0, 3, 9, 1, 4, 3, 10, 7, 6, 9, 9, 4, 0, 2, 3, 7, 8, 6, 8, 1, 7, 4, 0, 2, 0, 8, 6, 7], 'real_labels': [7, 4, 1, 10, 7, 1, 8, 8, 0, 8, 4, 7, 1, 9, 3, 0, 9, 6, 4, 9, 8, 10, 1, 4, 6, 8, 8, 6, 6, 8, 2, 1, 1, 9, 6, 3, 10, 5, 5, 0, 10, 3, 2, 10, 7, 8, 4, 3, 3, 8, 9, 4, 3, 4, 6, 1, 1, 9, 1, 10, 10, 6, 1, 6, 5, 5, 8, 5, 8, 1, 3, 1, 1, 3, 1, 8, 6, 8, 9, 2, 3, 1, 3, 1, 5, 5, 1, 8, 0, 4, 9, 10, 10, 7, 1, 5, 1, 8, 2, 7, 5, 1, 10, 6, 10, 8, 3, 9, 10, 4, 7, 1, 0, 3, 7, 6, 0, 8, 0, 0, 4, 8, 7, 6, 5, 1, 7, 9, 6, 7, 4, 0, 10, 10, 7, 9, 4, 1, 9, 0, 10, 3, 3, 9, 4, 7, 4, 7, 2, 10, 2, 4, 10, 10, 1, 0, 10, 5, 4, 7, 8, 9, 10, 4, 2, 3, 10, 5, 8, 0, 9, 0, 10, 7, 6, 8, 0, 8, 1, 2, 6, 3, 5, 3, 9, 3, 4, 8, 3, 2, 0, 2, 0, 9, 9, 8, 1, 3, 5, 9, 8, 1, 6, 1, 4, 3, 4, 8, 3, 9, 5, 6, 2, 5, 4, 5, 2, 10, 8, 4, 7, 3, 0, 6, 7, 0, 5, 7, 1, 0, 1, 6, 3, 7, 7, 2, 10, 4, 3, 10, 9, 4, 3, 3, 1, 7, 8, 5, 2, 4, 10, 1, 1, 2, 3, 10, 6, 9, 5, 3, 3, 10, 7, 1, 5, 1, 8, 1, 8, 7, 3, 10, 3, 5, 2, 2, 7, 3, 9, 7, 6, 8, 8, 10, 2, 4, 2, 5, 5, 3, 8, 0, 8, 6, 0, 1, 2, 7, 3, 2, 4, 10, 8, 6, 6, 0, 2, 7, 10, 1, 7, 6, 9, 2, 5, 2, 0, 9, 4, 3, 2, 6, 7, 9, 1, 8, 8, 5, 2, 9, 4, 1, 1, 8, 4, 7, 1, 2, 7, 2, 5, 0, 7, 10, 5, 0, 5, 7, 3, 6, 4, 6, 4, 9, 5, 1, 8, 3, 7, 7, 4, 4, 6, 10, 8, 9, 8, 5, 6, 7, 4, 0, 5, 0, 9, 10, 5, 0, 3, 7, 3, 1, 8, 2, 2, 4, 4, 9, 3, 7, 9, 9, 9, 4, 0, 0, 5, 6, 9, 9, 7, 7, 6, 9, 1, 10, 10, 5, 5, 7, 3, 3, 5, 10, 9, 7, 2, 3, 1, 1, 0, 5, 4, 1, 2, 0, 1, 8, 8, 4, 8, 3, 8, 0, 3, 2, 2, 3, 7, 10, 10, 4, 10, 6, 6, 5, 0, 9, 8, 2, 1, 9, 9, 5, 9, 9, 1, 3, 5, 7, 9, 10, 1, 8, 1, 6, 3, 8, 2, 4, 10, 1, 1, 2, 8, 2, 4, 8, 2, 5, 9, 9, 0, 7, 6, 9, 2, 0, 2, 8, 6, 9, 3, 7, 2, 4, 3, 0, 1, 3, 9, 6, 3, 4, 6, 3, 3, 5, 0, 1, 7, 10, 4, 10, 2, 5, 5, 7, 5, 1, 4, 5, 0, 4, 5, 4, 9, 5, 9, 7, 7, 2, 0, 2, 4, 3, 2, 9, 1, 8, 9, 1, 8, 8, 2, 0, 9, 7, 6, 9, 6, 9, 0, 10, 8, 8, 4, 1, 7, 3, 2, 7, 9, 6, 7, 8, 9, 0, 8, 2, 10, 5, 2, 10, 8, 7, 9, 6, 8, 6, 6, 4, 7, 9, 7, 8, 4, 9, 3, 3, 7, 4, 1, 7, 5, 4, 0, 7, 8, 0, 7, 4, 5, 5, 4, 8, 6, 6, 1, 5, 3, 0, 1, 4, 7, 1, 9, 4, 6, 6, 10, 7, 1, 0, 3, 9, 1, 4, 3, 10, 7, 8, 9, 9, 4, 0, 2, 3, 7, 8, 6, 8, 1, 7, 4, 0, 2, 0, 8, 6, 7], 'label_to_index': {'down': 0, 'go': 1, 'left': 2, 'no': 3, 'off': 4, 'on': 5, 'right': 6, 'stop': 7, 'unknown': 8, 'up': 9, 'yes': 10}}\n",
      "Test Loss: 0.2428626714983046, Test Accuracy: 0.9370199692780338\n"
     ]
    },
    {
     "name": "stderr",
     "output_type": "stream",
     "text": [
      "Some weights of the model checkpoint at superb/wav2vec2-base-superb-ks were not used when initializing Wav2Vec2ForSequenceClassification: ['wav2vec2.encoder.pos_conv_embed.conv.weight_g', 'wav2vec2.encoder.pos_conv_embed.conv.weight_v']\n",
      "- This IS expected if you are initializing Wav2Vec2ForSequenceClassification from the checkpoint of a model trained on another task or with another architecture (e.g. initializing a BertForSequenceClassification model from a BertForPreTraining model).\n",
      "- This IS NOT expected if you are initializing Wav2Vec2ForSequenceClassification from the checkpoint of a model that you expect to be exactly identical (initializing a BertForSequenceClassification model from a BertForSequenceClassification model).\n",
      "Some weights of Wav2Vec2ForSequenceClassification were not initialized from the model checkpoint at superb/wav2vec2-base-superb-ks and are newly initialized: ['wav2vec2.encoder.pos_conv_embed.conv.parametrizations.weight.original0', 'wav2vec2.encoder.pos_conv_embed.conv.parametrizations.weight.original1']\n",
      "You should probably TRAIN this model on a down-stream task to be able to use it for predictions and inference.\n"
     ]
    },
    {
     "data": {
      "application/vnd.jupyter.widget-view+json": {
       "model_id": "9b6746afc082430f9434a7c88087fa7e",
       "version_major": 2,
       "version_minor": 0
      },
      "text/plain": [
       "Epoch 1/10:   0%|          | 0/6187 [00:00<?, ?it/s]"
      ]
     },
     "metadata": {},
     "output_type": "display_data"
    },
    {
     "name": "stdout",
     "output_type": "stream",
     "text": [
      "Epoch 1/10, Train Loss: 1.4511381037008237\n"
     ]
    },
    {
     "data": {
      "application/vnd.jupyter.widget-view+json": {
       "model_id": "a5f56e7ef8cd4504b09083581526e064",
       "version_major": 2,
       "version_minor": 0
      },
      "text/plain": [
       "Validation:   0%|          | 0/163 [00:00<?, ?it/s]"
      ]
     },
     "metadata": {},
     "output_type": "display_data"
    },
    {
     "name": "stdout",
     "output_type": "stream",
     "text": [
      "Epoch 1/10, Validation Loss: 0.7083614646611404, Validation Accuracy: 0.7895545314900153\n"
     ]
    },
    {
     "data": {
      "application/vnd.jupyter.widget-view+json": {
       "model_id": "bc7de3e189af446f97801e4c01e204ad",
       "version_major": 2,
       "version_minor": 0
      },
      "text/plain": [
       "Epoch 2/10:   0%|          | 0/6187 [00:00<?, ?it/s]"
      ]
     },
     "metadata": {},
     "output_type": "display_data"
    },
    {
     "name": "stdout",
     "output_type": "stream",
     "text": [
      "Epoch 2/10, Train Loss: 0.5203816418322106\n"
     ]
    },
    {
     "data": {
      "application/vnd.jupyter.widget-view+json": {
       "model_id": "c842a4b96d324864863b0fd0cc21b68f",
       "version_major": 2,
       "version_minor": 0
      },
      "text/plain": [
       "Validation:   0%|          | 0/163 [00:00<?, ?it/s]"
      ]
     },
     "metadata": {},
     "output_type": "display_data"
    },
    {
     "name": "stdout",
     "output_type": "stream",
     "text": [
      "Epoch 2/10, Validation Loss: 0.4865969348230336, Validation Accuracy: 0.8448540706605223\n"
     ]
    },
    {
     "data": {
      "application/vnd.jupyter.widget-view+json": {
       "model_id": "6496889bacbf466f8339d93eb979b820",
       "version_major": 2,
       "version_minor": 0
      },
      "text/plain": [
       "Epoch 3/10:   0%|          | 0/6187 [00:00<?, ?it/s]"
      ]
     },
     "metadata": {},
     "output_type": "display_data"
    },
    {
     "name": "stdout",
     "output_type": "stream",
     "text": [
      "Epoch 3/10, Train Loss: 0.3380895775170217\n"
     ]
    },
    {
     "data": {
      "application/vnd.jupyter.widget-view+json": {
       "model_id": "825e3c9d09624478af56815138e8e60e",
       "version_major": 2,
       "version_minor": 0
      },
      "text/plain": [
       "Validation:   0%|          | 0/163 [00:00<?, ?it/s]"
      ]
     },
     "metadata": {},
     "output_type": "display_data"
    },
    {
     "name": "stdout",
     "output_type": "stream",
     "text": [
      "Epoch 3/10, Validation Loss: 0.2764244620099755, Validation Accuracy: 0.9247311827956989\n"
     ]
    },
    {
     "data": {
      "application/vnd.jupyter.widget-view+json": {
       "model_id": "121fb4e9d9ab4beeb147e160b73c5056",
       "version_major": 2,
       "version_minor": 0
      },
      "text/plain": [
       "Epoch 4/10:   0%|          | 0/6187 [00:00<?, ?it/s]"
      ]
     },
     "metadata": {},
     "output_type": "display_data"
    },
    {
     "name": "stdout",
     "output_type": "stream",
     "text": [
      "Epoch 4/10, Train Loss: 0.2582677664470511\n"
     ]
    },
    {
     "data": {
      "application/vnd.jupyter.widget-view+json": {
       "model_id": "65353e25b3ba46e88114a5e30149597d",
       "version_major": 2,
       "version_minor": 0
      },
      "text/plain": [
       "Validation:   0%|          | 0/163 [00:00<?, ?it/s]"
      ]
     },
     "metadata": {},
     "output_type": "display_data"
    },
    {
     "name": "stdout",
     "output_type": "stream",
     "text": [
      "Epoch 4/10, Validation Loss: 0.24640930317516546, Validation Accuracy: 0.9262672811059908\n"
     ]
    },
    {
     "data": {
      "application/vnd.jupyter.widget-view+json": {
       "model_id": "57ddbbfd31584de0bd0496cc84827f15",
       "version_major": 2,
       "version_minor": 0
      },
      "text/plain": [
       "Epoch 5/10:   0%|          | 0/6187 [00:00<?, ?it/s]"
      ]
     },
     "metadata": {},
     "output_type": "display_data"
    },
    {
     "name": "stdout",
     "output_type": "stream",
     "text": [
      "Epoch 5/10, Train Loss: 0.2050611925075169\n"
     ]
    },
    {
     "data": {
      "application/vnd.jupyter.widget-view+json": {
       "model_id": "29f298c6e3a947b085e13b2ef5e20b65",
       "version_major": 2,
       "version_minor": 0
      },
      "text/plain": [
       "Validation:   0%|          | 0/163 [00:00<?, ?it/s]"
      ]
     },
     "metadata": {},
     "output_type": "display_data"
    },
    {
     "name": "stdout",
     "output_type": "stream",
     "text": [
      "Epoch 5/10, Validation Loss: 0.23526498596355364, Validation Accuracy: 0.9385560675883257\n"
     ]
    },
    {
     "data": {
      "application/vnd.jupyter.widget-view+json": {
       "model_id": "9bf4e44c8ec94c8ba13708204f3de428",
       "version_major": 2,
       "version_minor": 0
      },
      "text/plain": [
       "Epoch 6/10:   0%|          | 0/6187 [00:00<?, ?it/s]"
      ]
     },
     "metadata": {},
     "output_type": "display_data"
    },
    {
     "name": "stdout",
     "output_type": "stream",
     "text": [
      "Epoch 6/10, Train Loss: 0.1677282482618071\n"
     ]
    },
    {
     "data": {
      "application/vnd.jupyter.widget-view+json": {
       "model_id": "e7e24a04f2184e57b43f8bd266bc9715",
       "version_major": 2,
       "version_minor": 0
      },
      "text/plain": [
       "Validation:   0%|          | 0/163 [00:00<?, ?it/s]"
      ]
     },
     "metadata": {},
     "output_type": "display_data"
    },
    {
     "name": "stdout",
     "output_type": "stream",
     "text": [
      "Epoch 6/10, Validation Loss: 0.19962453705071545, Validation Accuracy: 0.9493087557603687\n"
     ]
    },
    {
     "data": {
      "application/vnd.jupyter.widget-view+json": {
       "model_id": "29b3c449ca6949dc9a1efd293970df09",
       "version_major": 2,
       "version_minor": 0
      },
      "text/plain": [
       "Epoch 7/10:   0%|          | 0/6187 [00:00<?, ?it/s]"
      ]
     },
     "metadata": {},
     "output_type": "display_data"
    },
    {
     "name": "stdout",
     "output_type": "stream",
     "text": [
      "Epoch 7/10, Train Loss: 0.14240664225458247\n"
     ]
    },
    {
     "data": {
      "application/vnd.jupyter.widget-view+json": {
       "model_id": "554128d74c0140c1aaa0c8d5f6249f37",
       "version_major": 2,
       "version_minor": 0
      },
      "text/plain": [
       "Validation:   0%|          | 0/163 [00:00<?, ?it/s]"
      ]
     },
     "metadata": {},
     "output_type": "display_data"
    },
    {
     "name": "stdout",
     "output_type": "stream",
     "text": [
      "Epoch 7/10, Validation Loss: 0.18035865266360285, Validation Accuracy: 0.9431643625192012\n"
     ]
    },
    {
     "data": {
      "application/vnd.jupyter.widget-view+json": {
       "model_id": "c6e5d9f44a0641769f4b83d3ac245f90",
       "version_major": 2,
       "version_minor": 0
      },
      "text/plain": [
       "Epoch 8/10:   0%|          | 0/6187 [00:00<?, ?it/s]"
      ]
     },
     "metadata": {},
     "output_type": "display_data"
    },
    {
     "name": "stdout",
     "output_type": "stream",
     "text": [
      "Epoch 8/10, Train Loss: 0.11701246269503984\n"
     ]
    },
    {
     "data": {
      "application/vnd.jupyter.widget-view+json": {
       "model_id": "7c4ba6a28d9847ef9801858a59b28152",
       "version_major": 2,
       "version_minor": 0
      },
      "text/plain": [
       "Validation:   0%|          | 0/163 [00:00<?, ?it/s]"
      ]
     },
     "metadata": {},
     "output_type": "display_data"
    },
    {
     "name": "stdout",
     "output_type": "stream",
     "text": [
      "Epoch 8/10, Validation Loss: 0.19956926119487384, Validation Accuracy: 0.9354838709677419\n"
     ]
    },
    {
     "data": {
      "application/vnd.jupyter.widget-view+json": {
       "model_id": "b0ac4d1445ad40e991c83ee6169a7ae4",
       "version_major": 2,
       "version_minor": 0
      },
      "text/plain": [
       "Epoch 9/10:   0%|          | 0/6187 [00:00<?, ?it/s]"
      ]
     },
     "metadata": {},
     "output_type": "display_data"
    },
    {
     "name": "stdout",
     "output_type": "stream",
     "text": [
      "Epoch 9/10, Train Loss: 0.09926217766853193\n"
     ]
    },
    {
     "data": {
      "application/vnd.jupyter.widget-view+json": {
       "model_id": "5ecbcfcf40054f0681a75ff1c5741e5e",
       "version_major": 2,
       "version_minor": 0
      },
      "text/plain": [
       "Validation:   0%|          | 0/163 [00:00<?, ?it/s]"
      ]
     },
     "metadata": {},
     "output_type": "display_data"
    },
    {
     "name": "stdout",
     "output_type": "stream",
     "text": [
      "Epoch 9/10, Validation Loss: 0.1820960365840826, Validation Accuracy: 0.946236559139785\n"
     ]
    },
    {
     "data": {
      "application/vnd.jupyter.widget-view+json": {
       "model_id": "dea50ee29af84295b795a9a4a63cca24",
       "version_major": 2,
       "version_minor": 0
      },
      "text/plain": [
       "Epoch 10/10:   0%|          | 0/6187 [00:00<?, ?it/s]"
      ]
     },
     "metadata": {},
     "output_type": "display_data"
    },
    {
     "name": "stdout",
     "output_type": "stream",
     "text": [
      "Epoch 10/10, Train Loss: 0.08707330361314848\n"
     ]
    },
    {
     "data": {
      "application/vnd.jupyter.widget-view+json": {
       "model_id": "84644a301eb04f82a57fd14af16eaffa",
       "version_major": 2,
       "version_minor": 0
      },
      "text/plain": [
       "Validation:   0%|          | 0/163 [00:00<?, ?it/s]"
      ]
     },
     "metadata": {},
     "output_type": "display_data"
    },
    {
     "name": "stdout",
     "output_type": "stream",
     "text": [
      "Epoch 10/10, Validation Loss: 0.1520279805473962, Validation Accuracy: 0.9554531490015361\n"
     ]
    },
    {
     "data": {
      "application/vnd.jupyter.widget-view+json": {
       "model_id": "014d787692444efb85ba01498f4b7b7f",
       "version_major": 2,
       "version_minor": 0
      },
      "text/plain": [
       "Testing:   0%|          | 0/163 [00:00<?, ?it/s]"
      ]
     },
     "metadata": {},
     "output_type": "display_data"
    },
    {
     "name": "stdout",
     "output_type": "stream",
     "text": [
      "{'val_acc': [0.7895545314900153, 0.8448540706605223, 0.9247311827956989, 0.9262672811059908, 0.9385560675883257, 0.9493087557603687, 0.9431643625192012, 0.9354838709677419, 0.946236559139785, 0.9554531490015361], 'val_loss': [0.7083614646611404, 0.4865969348230336, 0.2764244620099755, 0.24640930317516546, 0.23526498596355364, 0.19962453705071545, 0.18035865266360285, 0.19956926119487384, 0.1820960365840826, 0.1520279805473962], 'train_loss': [1.4511381037008237, 0.5203816418322106, 0.3380895775170217, 0.2582677664470511, 0.2050611925075169, 0.1677282482618071, 0.14240664225458247, 0.11701246269503984, 0.09926217766853193, 0.08707330361314848], 'test_correct_in_batch': [4.0, 4.0, 3.0, 4.0, 4.0, 4.0, 3.0, 4.0, 3.0, 4.0, 4.0, 4.0, 3.0, 4.0, 4.0, 3.0, 3.0, 4.0, 3.0, 4.0, 3.0, 3.0, 2.0, 4.0, 4.0, 4.0, 3.0, 3.0, 4.0, 4.0, 4.0, 4.0, 3.0, 4.0, 4.0, 4.0, 4.0, 4.0, 4.0, 4.0, 4.0, 4.0, 3.0, 4.0, 4.0, 4.0, 4.0, 4.0, 4.0, 4.0, 3.0, 2.0, 4.0, 4.0, 4.0, 4.0, 4.0, 4.0, 4.0, 4.0, 4.0, 4.0, 4.0, 4.0, 4.0, 3.0, 4.0, 3.0, 3.0, 3.0, 3.0, 4.0, 4.0, 4.0, 4.0, 4.0, 4.0, 4.0, 4.0, 4.0, 4.0, 4.0, 4.0, 4.0, 4.0, 3.0, 4.0, 4.0, 4.0, 4.0, 4.0, 4.0, 3.0, 4.0, 4.0, 4.0, 4.0, 2.0, 4.0, 3.0, 3.0, 3.0, 4.0, 4.0, 4.0, 4.0, 4.0, 4.0, 4.0, 4.0, 4.0, 4.0, 4.0, 4.0, 3.0, 4.0, 4.0, 4.0, 4.0, 4.0, 4.0, 3.0, 4.0, 4.0, 3.0, 3.0, 4.0, 4.0, 4.0, 4.0, 4.0, 4.0, 4.0, 4.0, 4.0, 4.0, 4.0, 2.0, 4.0, 4.0, 4.0, 3.0, 3.0, 4.0, 4.0, 3.0, 3.0, 4.0, 3.0, 4.0, 4.0, 3.0, 4.0, 4.0, 4.0, 4.0, 3.0, 3.0, 4.0, 4.0, 4.0, 4.0, 3.0], 'test_losses': [0.024269958958029747, 0.02196086384356022, 0.8681071400642395, 0.016193294897675514, 0.00020234417752362788, 0.0012466475600376725, 1.0889374017715454, 0.181595578789711, 0.9778586030006409, 0.0005057690432295203, 0.0030686166137456894, 0.002574207726866007, 1.0458639860153198, 0.0014345876406878233, 0.0010722134029492736, 1.7681653499603271, 0.7702117562294006, 0.04446541890501976, 1.1398332118988037, 0.08513741195201874, 1.2453927993774414, 0.2121681571006775, 1.254346251487732, 0.0010084577370435, 0.01899849623441696, 0.0014261293690651655, 0.6894916296005249, 0.5392521023750305, 0.01515421736985445, 0.0013911251444369555, 0.15410786867141724, 0.007803048472851515, 0.2484353631734848, 0.00011580455611692742, 0.0024010848719626665, 0.0003657141060102731, 0.0006992986891418695, 0.07342822849750519, 0.028387829661369324, 0.0653478354215622, 0.0019335201941430569, 0.007534320466220379, 0.5867515802383423, 0.004526844713836908, 0.0029249272774904966, 0.0007459316402673721, 0.0030995854176580906, 0.052358731627464294, 0.17095117270946503, 0.03477105498313904, 0.8242607712745667, 2.097276210784912, 0.000891077215783298, 0.03912566602230072, 0.12692099809646606, 0.0006758894305676222, 0.0005433551850728691, 0.0008037721854634583, 0.002218334935605526, 0.1405075192451477, 0.0010231849737465382, 0.0014282976044341922, 0.007580673787742853, 0.0006404010346159339, 0.047509290277957916, 0.5725207924842834, 0.0511094368994236, 0.29613444209098816, 0.3800395727157593, 0.6243147253990173, 0.9215922951698303, 0.0005965474410913885, 0.008773941546678543, 0.019673967733979225, 0.0002139489515684545, 0.027489785104990005, 0.0031887730583548546, 0.00065395119599998, 0.17214974761009216, 0.0008974438533186913, 0.12863153219223022, 0.01565883308649063, 0.002076495438814163, 0.0034972671419382095, 0.0009527516667731106, 1.5605357885360718, 0.003394401865079999, 0.001076193293556571, 0.019696952775120735, 0.10305514931678772, 0.0040429700165987015, 0.001173697179183364, 1.796643853187561, 0.0933796837925911, 0.0007298545679077506, 0.0013512356672436, 0.0034866598434746265, 2.261019229888916, 0.06534014642238617, 0.218996062874794, 0.4006248712539673, 0.7587252855300903, 0.000720692565664649, 0.15927818417549133, 0.0012869593920186162, 0.006607982330024242, 0.002480803057551384, 0.004135061055421829, 0.0017571774078533053, 0.00015024827735032886, 0.00023789059196133167, 0.03675684705376625, 0.02599082887172699, 0.0337979793548584, 0.47942420840263367, 0.0006030149525031447, 0.2127051204442978, 0.0005838314536958933, 0.0009423154406249523, 0.049611639231443405, 0.008933703415095806, 0.754927933216095, 0.018160654231905937, 0.0048236302100121975, 0.790282666683197, 1.2604628801345825, 0.03284280002117157, 0.005464843474328518, 0.007225832901895046, 0.0027247550897300243, 0.010421697981655598, 0.06536328792572021, 0.0013945864047855139, 0.030097756534814835, 0.01901557482779026, 0.01398001704365015, 0.028989627957344055, 0.7829287052154541, 0.13402505218982697, 0.03709467500448227, 0.00011976722453255206, 0.4413440525531769, 0.7404434084892273, 0.005110024940222502, 0.010556487366557121, 0.6598758101463318, 0.9952458143234253, 0.004278658889234066, 0.8400947451591492, 0.0003547742962837219, 0.006840769201517105, 1.1307761669158936, 0.0009668361744843423, 0.005813051946461201, 0.25837981700897217, 0.0025886977091431618, 0.2065962702035904, 0.819269597530365, 0.003386926371604204, 0.0009274677140638232, 0.0017143537988886237, 0.00037808960769325495, 0.0032504324335604906], 'test_loss': 0.23587368519638738, 'test_batch_lens': [4, 4, 4, 4, 4, 4, 4, 4, 4, 4, 4, 4, 4, 4, 4, 4, 4, 4, 4, 4, 4, 4, 4, 4, 4, 4, 4, 4, 4, 4, 4, 4, 4, 4, 4, 4, 4, 4, 4, 4, 4, 4, 4, 4, 4, 4, 4, 4, 4, 4, 4, 4, 4, 4, 4, 4, 4, 4, 4, 4, 4, 4, 4, 4, 4, 4, 4, 4, 4, 4, 4, 4, 4, 4, 4, 4, 4, 4, 4, 4, 4, 4, 4, 4, 4, 4, 4, 4, 4, 4, 4, 4, 4, 4, 4, 4, 4, 4, 4, 4, 4, 4, 4, 4, 4, 4, 4, 4, 4, 4, 4, 4, 4, 4, 4, 4, 4, 4, 4, 4, 4, 4, 4, 4, 4, 4, 4, 4, 4, 4, 4, 4, 4, 4, 4, 4, 4, 4, 4, 4, 4, 4, 4, 4, 4, 4, 4, 4, 4, 4, 4, 4, 4, 4, 4, 4, 4, 4, 4, 4, 4, 4, 3], 'test_accuracy': 0.9324116743471582, 'predictions': [7, 4, 1, 10, 7, 1, 8, 8, 0, 3, 4, 7, 1, 9, 3, 0, 9, 6, 4, 9, 8, 10, 1, 4, 6, 1, 8, 6, 6, 8, 2, 1, 1, 0, 6, 3, 10, 5, 5, 0, 10, 3, 2, 10, 7, 8, 4, 3, 3, 8, 1, 4, 3, 4, 6, 1, 1, 9, 1, 10, 10, 6, 4, 6, 5, 1, 8, 5, 8, 1, 3, 1, 8, 3, 1, 8, 6, 8, 9, 2, 3, 1, 1, 1, 5, 5, 1, 0, 0, 5, 9, 2, 10, 7, 1, 5, 1, 8, 2, 7, 5, 1, 10, 6, 10, 8, 3, 7, 10, 4, 7, 6, 0, 3, 7, 6, 0, 8, 0, 0, 4, 8, 7, 6, 5, 1, 7, 9, 6, 7, 9, 0, 10, 10, 7, 9, 4, 1, 9, 0, 10, 3, 3, 9, 4, 7, 4, 7, 2, 10, 2, 4, 10, 10, 1, 0, 10, 5, 4, 7, 8, 9, 10, 4, 2, 3, 10, 5, 8, 0, 6, 0, 10, 7, 6, 8, 0, 8, 1, 2, 6, 3, 5, 3, 9, 3, 4, 8, 3, 2, 0, 2, 0, 9, 9, 8, 1, 3, 5, 9, 4, 1, 6, 1, 4, 5, 9, 8, 3, 9, 5, 6, 2, 5, 4, 5, 2, 10, 8, 4, 7, 3, 0, 6, 7, 0, 5, 7, 1, 0, 1, 6, 3, 7, 7, 2, 10, 4, 3, 10, 9, 4, 3, 3, 1, 7, 8, 5, 2, 4, 10, 1, 1, 2, 3, 10, 6, 9, 5, 3, 3, 10, 7, 0, 5, 1, 8, 1, 1, 7, 3, 10, 3, 5, 6, 2, 7, 6, 9, 7, 5, 8, 8, 10, 2, 4, 2, 5, 5, 3, 8, 0, 8, 6, 0, 1, 2, 7, 3, 2, 4, 10, 8, 6, 6, 0, 2, 7, 10, 1, 7, 6, 9, 2, 5, 2, 0, 9, 4, 3, 2, 6, 7, 9, 1, 8, 8, 5, 2, 9, 4, 1, 1, 8, 4, 7, 1, 2, 7, 2, 5, 0, 4, 10, 5, 0, 5, 7, 3, 6, 4, 6, 4, 9, 5, 1, 8, 3, 7, 7, 4, 4, 6, 10, 8, 9, 8, 5, 6, 9, 4, 0, 5, 0, 9, 10, 5, 0, 3, 7, 3, 1, 8, 2, 2, 4, 4, 9, 3, 7, 5, 6, 9, 4, 0, 0, 5, 6, 9, 4, 7, 7, 6, 2, 1, 10, 10, 4, 5, 7, 3, 3, 5, 10, 9, 7, 2, 3, 1, 1, 0, 5, 4, 1, 2, 0, 1, 8, 8, 4, 8, 3, 8, 0, 3, 2, 2, 3, 7, 10, 10, 4, 10, 6, 6, 5, 0, 9, 8, 2, 1, 9, 9, 5, 9, 9, 1, 1, 5, 7, 9, 10, 1, 8, 1, 6, 3, 8, 2, 4, 10, 1, 1, 2, 8, 2, 4, 8, 2, 5, 9, 9, 0, 7, 6, 9, 6, 0, 2, 8, 6, 9, 3, 7, 2, 4, 2, 0, 1, 3, 4, 6, 3, 4, 6, 3, 3, 5, 0, 1, 7, 10, 4, 10, 2, 5, 5, 7, 5, 1, 4, 5, 0, 4, 5, 4, 9, 5, 9, 7, 7, 2, 0, 2, 4, 3, 2, 9, 1, 8, 9, 1, 8, 8, 2, 0, 9, 7, 6, 4, 6, 4, 0, 10, 8, 8, 4, 1, 7, 3, 2, 7, 9, 6, 8, 8, 9, 0, 8, 2, 0, 5, 2, 10, 8, 7, 9, 6, 8, 6, 6, 6, 7, 9, 7, 4, 4, 9, 3, 3, 7, 4, 1, 1, 5, 4, 0, 7, 8, 0, 7, 4, 5, 5, 4, 6, 6, 6, 1, 5, 3, 0, 1, 4, 7, 1, 9, 4, 6, 6, 10, 7, 1, 0, 3, 7, 1, 4, 3, 10, 7, 6, 9, 9, 4, 0, 2, 3, 7, 8, 6, 8, 1, 7, 4, 0, 2, 0, 8, 6, 7], 'real_labels': [7, 4, 1, 10, 7, 1, 8, 8, 0, 8, 4, 7, 1, 9, 3, 0, 9, 6, 4, 9, 8, 10, 1, 4, 6, 8, 8, 6, 6, 8, 2, 1, 1, 9, 6, 3, 10, 5, 5, 0, 10, 3, 2, 10, 7, 8, 4, 3, 3, 8, 9, 4, 3, 4, 6, 1, 1, 9, 1, 10, 10, 6, 1, 6, 5, 5, 8, 5, 8, 1, 3, 1, 1, 3, 1, 8, 6, 8, 9, 2, 3, 1, 3, 1, 5, 5, 1, 8, 0, 4, 9, 10, 10, 7, 1, 5, 1, 8, 2, 7, 5, 1, 10, 6, 10, 8, 3, 9, 10, 4, 7, 1, 0, 3, 7, 6, 0, 8, 0, 0, 4, 8, 7, 6, 5, 1, 7, 9, 6, 7, 4, 0, 10, 10, 7, 9, 4, 1, 9, 0, 10, 3, 3, 9, 4, 7, 4, 7, 2, 10, 2, 4, 10, 10, 1, 0, 10, 5, 4, 7, 8, 9, 10, 4, 2, 3, 10, 5, 8, 0, 9, 0, 10, 7, 6, 8, 0, 8, 1, 2, 6, 3, 5, 3, 9, 3, 4, 8, 3, 2, 0, 2, 0, 9, 9, 8, 1, 3, 5, 9, 8, 1, 6, 1, 4, 3, 4, 8, 3, 9, 5, 6, 2, 5, 4, 5, 2, 10, 8, 4, 7, 3, 0, 6, 7, 0, 5, 7, 1, 0, 1, 6, 3, 7, 7, 2, 10, 4, 3, 10, 9, 4, 3, 3, 1, 7, 8, 5, 2, 4, 10, 1, 1, 2, 3, 10, 6, 9, 5, 3, 3, 10, 7, 1, 5, 1, 8, 1, 8, 7, 3, 10, 3, 5, 2, 2, 7, 3, 9, 7, 6, 8, 8, 10, 2, 4, 2, 5, 5, 3, 8, 0, 8, 6, 0, 1, 2, 7, 3, 2, 4, 10, 8, 6, 6, 0, 2, 7, 10, 1, 7, 6, 9, 2, 5, 2, 0, 9, 4, 3, 2, 6, 7, 9, 1, 8, 8, 5, 2, 9, 4, 1, 1, 8, 4, 7, 1, 2, 7, 2, 5, 0, 7, 10, 5, 0, 5, 7, 3, 6, 4, 6, 4, 9, 5, 1, 8, 3, 7, 7, 4, 4, 6, 10, 8, 9, 8, 5, 6, 7, 4, 0, 5, 0, 9, 10, 5, 0, 3, 7, 3, 1, 8, 2, 2, 4, 4, 9, 3, 7, 9, 9, 9, 4, 0, 0, 5, 6, 9, 9, 7, 7, 6, 9, 1, 10, 10, 5, 5, 7, 3, 3, 5, 10, 9, 7, 2, 3, 1, 1, 0, 5, 4, 1, 2, 0, 1, 8, 8, 4, 8, 3, 8, 0, 3, 2, 2, 3, 7, 10, 10, 4, 10, 6, 6, 5, 0, 9, 8, 2, 1, 9, 9, 5, 9, 9, 1, 3, 5, 7, 9, 10, 1, 8, 1, 6, 3, 8, 2, 4, 10, 1, 1, 2, 8, 2, 4, 8, 2, 5, 9, 9, 0, 7, 6, 9, 2, 0, 2, 8, 6, 9, 3, 7, 2, 4, 3, 0, 1, 3, 9, 6, 3, 4, 6, 3, 3, 5, 0, 1, 7, 10, 4, 10, 2, 5, 5, 7, 5, 1, 4, 5, 0, 4, 5, 4, 9, 5, 9, 7, 7, 2, 0, 2, 4, 3, 2, 9, 1, 8, 9, 1, 8, 8, 2, 0, 9, 7, 6, 9, 6, 9, 0, 10, 8, 8, 4, 1, 7, 3, 2, 7, 9, 6, 7, 8, 9, 0, 8, 2, 10, 5, 2, 10, 8, 7, 9, 6, 8, 6, 6, 4, 7, 9, 7, 8, 4, 9, 3, 3, 7, 4, 1, 7, 5, 4, 0, 7, 8, 0, 7, 4, 5, 5, 4, 8, 6, 6, 1, 5, 3, 0, 1, 4, 7, 1, 9, 4, 6, 6, 10, 7, 1, 0, 3, 9, 1, 4, 3, 10, 7, 8, 9, 9, 4, 0, 2, 3, 7, 8, 6, 8, 1, 7, 4, 0, 2, 0, 8, 6, 7], 'label_to_index': {'down': 0, 'go': 1, 'left': 2, 'no': 3, 'off': 4, 'on': 5, 'right': 6, 'stop': 7, 'unknown': 8, 'up': 9, 'yes': 10}}\n",
      "Test Loss: 0.23587368519638738, Test Accuracy: 0.9324116743471582\n"
     ]
    },
    {
     "name": "stderr",
     "output_type": "stream",
     "text": [
      "Some weights of the model checkpoint at superb/wav2vec2-base-superb-ks were not used when initializing Wav2Vec2ForSequenceClassification: ['wav2vec2.encoder.pos_conv_embed.conv.weight_g', 'wav2vec2.encoder.pos_conv_embed.conv.weight_v']\n",
      "- This IS expected if you are initializing Wav2Vec2ForSequenceClassification from the checkpoint of a model trained on another task or with another architecture (e.g. initializing a BertForSequenceClassification model from a BertForPreTraining model).\n",
      "- This IS NOT expected if you are initializing Wav2Vec2ForSequenceClassification from the checkpoint of a model that you expect to be exactly identical (initializing a BertForSequenceClassification model from a BertForSequenceClassification model).\n",
      "Some weights of Wav2Vec2ForSequenceClassification were not initialized from the model checkpoint at superb/wav2vec2-base-superb-ks and are newly initialized: ['wav2vec2.encoder.pos_conv_embed.conv.parametrizations.weight.original0', 'wav2vec2.encoder.pos_conv_embed.conv.parametrizations.weight.original1']\n",
      "You should probably TRAIN this model on a down-stream task to be able to use it for predictions and inference.\n"
     ]
    },
    {
     "data": {
      "application/vnd.jupyter.widget-view+json": {
       "model_id": "f5d6c592df1c4124986d6e4cb2d20fd3",
       "version_major": 2,
       "version_minor": 0
      },
      "text/plain": [
       "Epoch 1/10:   0%|          | 0/6187 [00:00<?, ?it/s]"
      ]
     },
     "metadata": {},
     "output_type": "display_data"
    },
    {
     "name": "stdout",
     "output_type": "stream",
     "text": [
      "Epoch 1/10, Train Loss: 1.8339734199514524\n"
     ]
    },
    {
     "data": {
      "application/vnd.jupyter.widget-view+json": {
       "model_id": "ac2fe72d0491483e9552572040fe91c8",
       "version_major": 2,
       "version_minor": 0
      },
      "text/plain": [
       "Validation:   0%|          | 0/163 [00:00<?, ?it/s]"
      ]
     },
     "metadata": {},
     "output_type": "display_data"
    },
    {
     "name": "stdout",
     "output_type": "stream",
     "text": [
      "Epoch 1/10, Validation Loss: 1.1951499612876242, Validation Accuracy: 0.5775729646697388\n"
     ]
    },
    {
     "data": {
      "application/vnd.jupyter.widget-view+json": {
       "model_id": "5c62a601a2e242cc890dd31071dc709e",
       "version_major": 2,
       "version_minor": 0
      },
      "text/plain": [
       "Epoch 2/10:   0%|          | 0/6187 [00:00<?, ?it/s]"
      ]
     },
     "metadata": {},
     "output_type": "display_data"
    },
    {
     "name": "stdout",
     "output_type": "stream",
     "text": [
      "Epoch 2/10, Train Loss: 0.7629163527409049\n"
     ]
    },
    {
     "data": {
      "application/vnd.jupyter.widget-view+json": {
       "model_id": "86f579a66bdf465985f970136dfb8e7e",
       "version_major": 2,
       "version_minor": 0
      },
      "text/plain": [
       "Validation:   0%|          | 0/163 [00:00<?, ?it/s]"
      ]
     },
     "metadata": {},
     "output_type": "display_data"
    },
    {
     "name": "stdout",
     "output_type": "stream",
     "text": [
      "Epoch 2/10, Validation Loss: 0.41890986692846005, Validation Accuracy: 0.8863287250384024\n"
     ]
    },
    {
     "data": {
      "application/vnd.jupyter.widget-view+json": {
       "model_id": "e904fcc4b8d349189d3997cc0b50acb1",
       "version_major": 2,
       "version_minor": 0
      },
      "text/plain": [
       "Epoch 3/10:   0%|          | 0/6187 [00:00<?, ?it/s]"
      ]
     },
     "metadata": {},
     "output_type": "display_data"
    },
    {
     "name": "stdout",
     "output_type": "stream",
     "text": [
      "Epoch 3/10, Train Loss: 0.41006592564220523\n"
     ]
    },
    {
     "data": {
      "application/vnd.jupyter.widget-view+json": {
       "model_id": "8d153e9212d049e8acd7c871c7906eed",
       "version_major": 2,
       "version_minor": 0
      },
      "text/plain": [
       "Validation:   0%|          | 0/163 [00:00<?, ?it/s]"
      ]
     },
     "metadata": {},
     "output_type": "display_data"
    },
    {
     "name": "stdout",
     "output_type": "stream",
     "text": [
      "Epoch 3/10, Validation Loss: 0.31784517125460815, Validation Accuracy: 0.9124423963133641\n"
     ]
    },
    {
     "data": {
      "application/vnd.jupyter.widget-view+json": {
       "model_id": "b76765f158f047f9af4551de42763c4e",
       "version_major": 2,
       "version_minor": 0
      },
      "text/plain": [
       "Epoch 4/10:   0%|          | 0/6187 [00:00<?, ?it/s]"
      ]
     },
     "metadata": {},
     "output_type": "display_data"
    },
    {
     "name": "stdout",
     "output_type": "stream",
     "text": [
      "Epoch 4/10, Train Loss: 0.29961557621151735\n"
     ]
    },
    {
     "data": {
      "application/vnd.jupyter.widget-view+json": {
       "model_id": "3585074373bb498aa74192c8703c11aa",
       "version_major": 2,
       "version_minor": 0
      },
      "text/plain": [
       "Validation:   0%|          | 0/163 [00:00<?, ?it/s]"
      ]
     },
     "metadata": {},
     "output_type": "display_data"
    },
    {
     "name": "stdout",
     "output_type": "stream",
     "text": [
      "Epoch 4/10, Validation Loss: 0.22223447408581415, Validation Accuracy: 0.9385560675883257\n"
     ]
    },
    {
     "data": {
      "application/vnd.jupyter.widget-view+json": {
       "model_id": "99f99ca084144dd48c404d63ea86a843",
       "version_major": 2,
       "version_minor": 0
      },
      "text/plain": [
       "Epoch 5/10:   0%|          | 0/6187 [00:00<?, ?it/s]"
      ]
     },
     "metadata": {},
     "output_type": "display_data"
    },
    {
     "name": "stdout",
     "output_type": "stream",
     "text": [
      "Epoch 5/10, Train Loss: 0.2308733631425408\n"
     ]
    },
    {
     "data": {
      "application/vnd.jupyter.widget-view+json": {
       "model_id": "6eba3dc339314e58abe26afa9a54fb5f",
       "version_major": 2,
       "version_minor": 0
      },
      "text/plain": [
       "Validation:   0%|          | 0/163 [00:00<?, ?it/s]"
      ]
     },
     "metadata": {},
     "output_type": "display_data"
    },
    {
     "name": "stdout",
     "output_type": "stream",
     "text": [
      "Epoch 5/10, Validation Loss: 0.3391100689133149, Validation Accuracy: 0.8986175115207373\n"
     ]
    },
    {
     "data": {
      "application/vnd.jupyter.widget-view+json": {
       "model_id": "f77999b2659940509213d0bbd7266ed3",
       "version_major": 2,
       "version_minor": 0
      },
      "text/plain": [
       "Epoch 6/10:   0%|          | 0/6187 [00:00<?, ?it/s]"
      ]
     },
     "metadata": {},
     "output_type": "display_data"
    },
    {
     "name": "stdout",
     "output_type": "stream",
     "text": [
      "Epoch 6/10, Train Loss: 0.1841530846990408\n"
     ]
    },
    {
     "data": {
      "application/vnd.jupyter.widget-view+json": {
       "model_id": "288cb5b2bd6c4fa9aa53cc1b32c94f1e",
       "version_major": 2,
       "version_minor": 0
      },
      "text/plain": [
       "Validation:   0%|          | 0/163 [00:00<?, ?it/s]"
      ]
     },
     "metadata": {},
     "output_type": "display_data"
    },
    {
     "name": "stdout",
     "output_type": "stream",
     "text": [
      "Epoch 6/10, Validation Loss: 0.20089215179101816, Validation Accuracy: 0.9385560675883257\n"
     ]
    },
    {
     "data": {
      "application/vnd.jupyter.widget-view+json": {
       "model_id": "72299c392a334126bb459c60006e38d9",
       "version_major": 2,
       "version_minor": 0
      },
      "text/plain": [
       "Epoch 7/10:   0%|          | 0/6187 [00:00<?, ?it/s]"
      ]
     },
     "metadata": {},
     "output_type": "display_data"
    },
    {
     "name": "stdout",
     "output_type": "stream",
     "text": [
      "Epoch 7/10, Train Loss: 0.15613184504661726\n"
     ]
    },
    {
     "data": {
      "application/vnd.jupyter.widget-view+json": {
       "model_id": "0d21d945151b4a7d85a8e4cec5f90736",
       "version_major": 2,
       "version_minor": 0
      },
      "text/plain": [
       "Validation:   0%|          | 0/163 [00:00<?, ?it/s]"
      ]
     },
     "metadata": {},
     "output_type": "display_data"
    },
    {
     "name": "stdout",
     "output_type": "stream",
     "text": [
      "Epoch 7/10, Validation Loss: 0.20181133709839894, Validation Accuracy: 0.9354838709677419\n"
     ]
    },
    {
     "data": {
      "application/vnd.jupyter.widget-view+json": {
       "model_id": "46daeb0b30b24f1e9de39a1eba600926",
       "version_major": 2,
       "version_minor": 0
      },
      "text/plain": [
       "Epoch 8/10:   0%|          | 0/6187 [00:00<?, ?it/s]"
      ]
     },
     "metadata": {},
     "output_type": "display_data"
    },
    {
     "name": "stdout",
     "output_type": "stream",
     "text": [
      "Epoch 8/10, Train Loss: 0.13162106795078427\n"
     ]
    },
    {
     "data": {
      "application/vnd.jupyter.widget-view+json": {
       "model_id": "1de678a9f88746c6b2d6f6c7c8f6084e",
       "version_major": 2,
       "version_minor": 0
      },
      "text/plain": [
       "Validation:   0%|          | 0/163 [00:00<?, ?it/s]"
      ]
     },
     "metadata": {},
     "output_type": "display_data"
    },
    {
     "name": "stdout",
     "output_type": "stream",
     "text": [
      "Epoch 8/10, Validation Loss: 0.2230744639531555, Validation Accuracy: 0.9293394777265745\n"
     ]
    },
    {
     "data": {
      "application/vnd.jupyter.widget-view+json": {
       "model_id": "5d37d52f3d524e33b86608adf9563b08",
       "version_major": 2,
       "version_minor": 0
      },
      "text/plain": [
       "Epoch 9/10:   0%|          | 0/6187 [00:00<?, ?it/s]"
      ]
     },
     "metadata": {},
     "output_type": "display_data"
    },
    {
     "name": "stdout",
     "output_type": "stream",
     "text": [
      "Epoch 9/10, Train Loss: 0.11124715400598856\n"
     ]
    },
    {
     "data": {
      "application/vnd.jupyter.widget-view+json": {
       "model_id": "3272c785b07948adbf9896a8570377c2",
       "version_major": 2,
       "version_minor": 0
      },
      "text/plain": [
       "Validation:   0%|          | 0/163 [00:00<?, ?it/s]"
      ]
     },
     "metadata": {},
     "output_type": "display_data"
    },
    {
     "name": "stdout",
     "output_type": "stream",
     "text": [
      "Epoch 9/10, Validation Loss: 0.18422609875058116, Validation Accuracy: 0.9400921658986175\n"
     ]
    },
    {
     "data": {
      "application/vnd.jupyter.widget-view+json": {
       "model_id": "980acdc8cf28447a8650b9096e326d42",
       "version_major": 2,
       "version_minor": 0
      },
      "text/plain": [
       "Epoch 10/10:   0%|          | 0/6187 [00:00<?, ?it/s]"
      ]
     },
     "metadata": {},
     "output_type": "display_data"
    },
    {
     "name": "stdout",
     "output_type": "stream",
     "text": [
      "Epoch 10/10, Train Loss: 0.09819945069362172\n"
     ]
    },
    {
     "data": {
      "application/vnd.jupyter.widget-view+json": {
       "model_id": "0ae2613da5294fa2bf7343196a9788a1",
       "version_major": 2,
       "version_minor": 0
      },
      "text/plain": [
       "Validation:   0%|          | 0/163 [00:00<?, ?it/s]"
      ]
     },
     "metadata": {},
     "output_type": "display_data"
    },
    {
     "name": "stdout",
     "output_type": "stream",
     "text": [
      "Epoch 10/10, Validation Loss: 0.16582216196793467, Validation Accuracy: 0.9523809523809523\n"
     ]
    },
    {
     "data": {
      "application/vnd.jupyter.widget-view+json": {
       "model_id": "714abe667981459aac94a18844a988f8",
       "version_major": 2,
       "version_minor": 0
      },
      "text/plain": [
       "Testing:   0%|          | 0/163 [00:00<?, ?it/s]"
      ]
     },
     "metadata": {},
     "output_type": "display_data"
    },
    {
     "name": "stdout",
     "output_type": "stream",
     "text": [
      "{'val_acc': [0.5775729646697388, 0.8863287250384024, 0.9124423963133641, 0.9385560675883257, 0.8986175115207373, 0.9385560675883257, 0.9354838709677419, 0.9293394777265745, 0.9400921658986175, 0.9523809523809523], 'val_loss': [1.1951499612876242, 0.41890986692846005, 0.31784517125460815, 0.22223447408581415, 0.3391100689133149, 0.20089215179101816, 0.20181133709839894, 0.2230744639531555, 0.18422609875058116, 0.16582216196793467], 'train_loss': [1.8339734199514524, 0.7629163527409049, 0.41006592564220523, 0.29961557621151735, 0.2308733631425408, 0.1841530846990408, 0.15613184504661726, 0.13162106795078427, 0.11124715400598856, 0.09819945069362172], 'test_correct_in_batch': [4.0, 4.0, 4.0, 4.0, 4.0, 4.0, 3.0, 3.0, 3.0, 4.0, 4.0, 4.0, 4.0, 4.0, 4.0, 3.0, 3.0, 3.0, 3.0, 4.0, 3.0, 4.0, 4.0, 4.0, 4.0, 4.0, 4.0, 3.0, 3.0, 4.0, 4.0, 4.0, 4.0, 4.0, 4.0, 4.0, 4.0, 3.0, 4.0, 4.0, 4.0, 4.0, 3.0, 4.0, 4.0, 4.0, 4.0, 4.0, 4.0, 4.0, 3.0, 1.0, 4.0, 3.0, 4.0, 4.0, 4.0, 4.0, 4.0, 3.0, 4.0, 4.0, 4.0, 4.0, 3.0, 4.0, 4.0, 4.0, 3.0, 3.0, 3.0, 4.0, 4.0, 4.0, 4.0, 4.0, 4.0, 4.0, 3.0, 3.0, 4.0, 4.0, 4.0, 4.0, 4.0, 3.0, 4.0, 4.0, 4.0, 4.0, 4.0, 4.0, 3.0, 4.0, 4.0, 4.0, 4.0, 2.0, 3.0, 4.0, 3.0, 4.0, 4.0, 3.0, 4.0, 4.0, 4.0, 4.0, 4.0, 4.0, 4.0, 4.0, 4.0, 4.0, 4.0, 4.0, 3.0, 4.0, 4.0, 3.0, 3.0, 3.0, 3.0, 4.0, 3.0, 3.0, 2.0, 4.0, 4.0, 4.0, 4.0, 4.0, 4.0, 4.0, 4.0, 4.0, 4.0, 3.0, 4.0, 4.0, 4.0, 4.0, 3.0, 4.0, 4.0, 4.0, 3.0, 4.0, 4.0, 4.0, 4.0, 4.0, 4.0, 4.0, 4.0, 4.0, 4.0, 3.0, 3.0, 4.0, 4.0, 4.0, 3.0], 'test_losses': [0.001456995029002428, 0.0024514058604836464, 0.27454036474227905, 0.022722993046045303, 0.0007814621785655618, 0.007560066878795624, 0.5434662699699402, 0.6868523359298706, 0.42311394214630127, 0.0008418987272307277, 0.004813157021999359, 0.003421560861170292, 0.2104339450597763, 0.0026530607137829065, 0.002910858951508999, 1.943264126777649, 0.6548464298248291, 0.27691492438316345, 1.6085563898086548, 0.0068118455819785595, 0.9858337044715881, 0.03570140153169632, 0.01571362465620041, 0.002059401012957096, 0.0038084944244474173, 0.0017549956683069468, 0.010261706076562405, 0.6770786643028259, 0.22286273539066315, 0.00205288827419281, 0.03621027618646622, 0.0015749717131257057, 0.0015089206863194704, 0.0002099977427860722, 0.08449137955904007, 0.002007321920245886, 0.0006799046532250941, 0.3507932722568512, 0.0012505932245403528, 0.1631534844636917, 0.0022383802570402622, 0.008219582960009575, 0.610236644744873, 0.0010093151358887553, 0.003228439949452877, 0.011978954076766968, 0.012587161734700203, 0.173033207654953, 0.007190961390733719, 0.03318308666348457, 0.8221955299377441, 3.113741159439087, 0.003999438136816025, 0.6292755603790283, 0.02621513605117798, 0.0037460431922227144, 0.004874744452536106, 0.008665904402732849, 0.001936109852977097, 0.2262459248304367, 0.008822416886687279, 0.004977158270776272, 0.04133792221546173, 0.023226963356137276, 1.0840445756912231, 0.004379946272820234, 0.11609888821840286, 0.148995503783226, 1.0259675979614258, 0.7690118551254272, 1.0430830717086792, 0.001095678424462676, 0.004994278308004141, 0.023042866960167885, 0.002372662303969264, 0.01168995164334774, 0.06773331016302109, 0.004249807447195053, 0.3411601483821869, 0.38481026887893677, 0.0073200189508497715, 0.03223956376314163, 0.002765314420685172, 0.0034963353537023067, 0.015486237592995167, 1.1603049039840698, 0.015814457088708878, 0.07901277393102646, 0.008438579738140106, 0.05207688361406326, 0.0008708022069185972, 0.00506479199975729, 2.239318370819092, 0.0007592245819978416, 0.00556754507124424, 0.1689278781414032, 0.004896286875009537, 1.8039535284042358, 0.5323247313499451, 0.0086714131757617, 1.0146160125732422, 0.0012077187420800328, 0.003685849253088236, 0.8349674344062805, 0.004256101790815592, 0.0027427799068391323, 0.006962439976632595, 0.006713833659887314, 0.004100893624126911, 0.0027338084764778614, 0.0004943643580190837, 0.04261163994669914, 0.005601414013653994, 0.07775445282459259, 0.002675003604963422, 0.003995067439973354, 0.36999982595443726, 0.008861249312758446, 0.003852258436381817, 0.2490404099225998, 0.6272438168525696, 0.4765473008155823, 0.399865061044693, 0.12430720776319504, 1.5495867729187012, 0.42439013719558716, 0.7424876689910889, 0.14119140803813934, 0.03051823377609253, 0.02341536059975624, 0.004751601256430149, 0.06383218616247177, 0.0005981598515063524, 0.06049332022666931, 0.003333736676722765, 0.00354662723839283, 0.00046181492507457733, 1.2230298519134521, 0.0008751776767894626, 0.2806660532951355, 0.0029673080425709486, 0.11082109808921814, 0.6521283388137817, 0.0006184472586028278, 0.0014642070746049285, 0.3223131000995636, 0.6391318440437317, 0.005840563680976629, 0.004096196033060551, 0.0010606447467580438, 0.0029178375843912363, 0.09401547908782959, 0.003197364741936326, 0.009105201810598373, 0.020984355360269547, 0.10890379548072815, 0.11091052740812302, 0.5394587516784668, 0.1890711635351181, 0.0023354003205895424, 0.001921469229273498, 0.0012590443948283792, 0.00505359610542655], 'test_loss': 0.2324982660127471, 'test_batch_lens': [4, 4, 4, 4, 4, 4, 4, 4, 4, 4, 4, 4, 4, 4, 4, 4, 4, 4, 4, 4, 4, 4, 4, 4, 4, 4, 4, 4, 4, 4, 4, 4, 4, 4, 4, 4, 4, 4, 4, 4, 4, 4, 4, 4, 4, 4, 4, 4, 4, 4, 4, 4, 4, 4, 4, 4, 4, 4, 4, 4, 4, 4, 4, 4, 4, 4, 4, 4, 4, 4, 4, 4, 4, 4, 4, 4, 4, 4, 4, 4, 4, 4, 4, 4, 4, 4, 4, 4, 4, 4, 4, 4, 4, 4, 4, 4, 4, 4, 4, 4, 4, 4, 4, 4, 4, 4, 4, 4, 4, 4, 4, 4, 4, 4, 4, 4, 4, 4, 4, 4, 4, 4, 4, 4, 4, 4, 4, 4, 4, 4, 4, 4, 4, 4, 4, 4, 4, 4, 4, 4, 4, 4, 4, 4, 4, 4, 4, 4, 4, 4, 4, 4, 4, 4, 4, 4, 4, 4, 4, 4, 4, 4, 3], 'test_accuracy': 0.9308755760368663, 'predictions': [7, 4, 1, 10, 7, 1, 8, 8, 0, 8, 4, 7, 1, 9, 3, 0, 9, 6, 4, 9, 8, 10, 1, 4, 6, 1, 8, 6, 6, 8, 2, 0, 1, 3, 6, 3, 10, 5, 5, 0, 10, 3, 2, 10, 7, 8, 4, 3, 3, 8, 9, 4, 3, 4, 6, 1, 1, 9, 1, 10, 10, 6, 9, 6, 5, 9, 8, 5, 8, 3, 3, 1, 8, 3, 1, 8, 6, 8, 9, 2, 3, 1, 1, 1, 5, 5, 1, 8, 0, 4, 9, 10, 10, 7, 1, 5, 1, 8, 2, 7, 5, 1, 10, 6, 10, 8, 3, 9, 10, 4, 7, 10, 0, 3, 7, 8, 0, 8, 0, 0, 4, 8, 7, 6, 5, 1, 7, 9, 6, 7, 4, 0, 10, 10, 7, 9, 4, 1, 9, 0, 10, 3, 3, 9, 4, 7, 4, 7, 2, 10, 8, 4, 10, 10, 1, 0, 10, 5, 4, 7, 8, 9, 10, 4, 2, 3, 10, 5, 8, 0, 10, 0, 10, 7, 6, 8, 0, 8, 1, 2, 6, 3, 5, 3, 9, 3, 4, 8, 3, 2, 0, 2, 0, 9, 9, 8, 1, 3, 5, 9, 7, 1, 6, 1, 4, 4, 9, 9, 3, 9, 5, 6, 2, 5, 4, 9, 2, 10, 8, 4, 7, 3, 0, 6, 7, 0, 5, 7, 1, 0, 1, 6, 3, 7, 7, 2, 10, 9, 3, 10, 9, 4, 3, 3, 1, 7, 8, 5, 2, 4, 10, 1, 1, 2, 3, 10, 6, 9, 5, 1, 3, 10, 7, 1, 5, 1, 8, 1, 8, 7, 3, 10, 3, 5, 3, 2, 7, 2, 9, 7, 9, 8, 8, 10, 2, 4, 2, 5, 5, 3, 8, 0, 8, 6, 0, 1, 2, 7, 3, 2, 4, 10, 8, 6, 6, 0, 2, 7, 10, 1, 7, 6, 4, 2, 5, 2, 0, 9, 4, 4, 2, 6, 7, 9, 1, 8, 8, 5, 2, 9, 4, 1, 1, 8, 4, 7, 1, 2, 7, 2, 5, 0, 4, 10, 5, 0, 5, 7, 3, 6, 4, 6, 4, 9, 5, 1, 8, 3, 7, 7, 4, 4, 6, 10, 8, 9, 8, 5, 6, 9, 4, 0, 5, 0, 9, 10, 5, 0, 3, 7, 3, 1, 8, 2, 2, 4, 4, 9, 3, 7, 5, 10, 7, 4, 0, 0, 5, 6, 9, 9, 7, 7, 6, 3, 1, 10, 10, 5, 5, 7, 3, 3, 5, 10, 4, 7, 2, 3, 1, 1, 0, 5, 4, 1, 2, 0, 1, 8, 8, 4, 8, 3, 8, 0, 3, 2, 2, 3, 7, 10, 10, 4, 10, 6, 6, 5, 0, 9, 8, 2, 1, 9, 9, 5, 9, 9, 1, 3, 5, 7, 9, 10, 1, 8, 1, 6, 3, 4, 2, 4, 10, 1, 1, 2, 8, 2, 4, 8, 2, 8, 4, 9, 0, 7, 6, 9, 1, 0, 2, 3, 6, 9, 3, 7, 2, 4, 7, 0, 1, 3, 4, 6, 3, 4, 6, 1, 8, 5, 0, 1, 7, 10, 4, 10, 2, 5, 5, 7, 5, 1, 4, 5, 0, 4, 5, 4, 9, 5, 9, 7, 7, 2, 0, 2, 4, 3, 2, 9, 1, 8, 9, 1, 8, 8, 2, 0, 9, 7, 6, 4, 6, 9, 0, 10, 8, 8, 4, 1, 7, 3, 2, 7, 9, 6, 7, 8, 9, 0, 8, 2, 0, 5, 2, 10, 8, 7, 9, 6, 8, 6, 6, 4, 7, 9, 7, 1, 4, 9, 3, 3, 7, 4, 1, 7, 5, 4, 0, 7, 8, 0, 7, 4, 5, 5, 4, 8, 6, 6, 1, 5, 3, 0, 1, 4, 7, 1, 9, 4, 6, 6, 10, 7, 1, 0, 3, 9, 1, 4, 3, 2, 7, 8, 9, 9, 4, 1, 2, 3, 7, 8, 6, 8, 1, 7, 4, 0, 2, 0, 8, 6, 7], 'real_labels': [7, 4, 1, 10, 7, 1, 8, 8, 0, 8, 4, 7, 1, 9, 3, 0, 9, 6, 4, 9, 8, 10, 1, 4, 6, 8, 8, 6, 6, 8, 2, 1, 1, 9, 6, 3, 10, 5, 5, 0, 10, 3, 2, 10, 7, 8, 4, 3, 3, 8, 9, 4, 3, 4, 6, 1, 1, 9, 1, 10, 10, 6, 1, 6, 5, 5, 8, 5, 8, 1, 3, 1, 1, 3, 1, 8, 6, 8, 9, 2, 3, 1, 3, 1, 5, 5, 1, 8, 0, 4, 9, 10, 10, 7, 1, 5, 1, 8, 2, 7, 5, 1, 10, 6, 10, 8, 3, 9, 10, 4, 7, 1, 0, 3, 7, 6, 0, 8, 0, 0, 4, 8, 7, 6, 5, 1, 7, 9, 6, 7, 4, 0, 10, 10, 7, 9, 4, 1, 9, 0, 10, 3, 3, 9, 4, 7, 4, 7, 2, 10, 2, 4, 10, 10, 1, 0, 10, 5, 4, 7, 8, 9, 10, 4, 2, 3, 10, 5, 8, 0, 9, 0, 10, 7, 6, 8, 0, 8, 1, 2, 6, 3, 5, 3, 9, 3, 4, 8, 3, 2, 0, 2, 0, 9, 9, 8, 1, 3, 5, 9, 8, 1, 6, 1, 4, 3, 4, 8, 3, 9, 5, 6, 2, 5, 4, 5, 2, 10, 8, 4, 7, 3, 0, 6, 7, 0, 5, 7, 1, 0, 1, 6, 3, 7, 7, 2, 10, 4, 3, 10, 9, 4, 3, 3, 1, 7, 8, 5, 2, 4, 10, 1, 1, 2, 3, 10, 6, 9, 5, 3, 3, 10, 7, 1, 5, 1, 8, 1, 8, 7, 3, 10, 3, 5, 2, 2, 7, 3, 9, 7, 6, 8, 8, 10, 2, 4, 2, 5, 5, 3, 8, 0, 8, 6, 0, 1, 2, 7, 3, 2, 4, 10, 8, 6, 6, 0, 2, 7, 10, 1, 7, 6, 9, 2, 5, 2, 0, 9, 4, 3, 2, 6, 7, 9, 1, 8, 8, 5, 2, 9, 4, 1, 1, 8, 4, 7, 1, 2, 7, 2, 5, 0, 7, 10, 5, 0, 5, 7, 3, 6, 4, 6, 4, 9, 5, 1, 8, 3, 7, 7, 4, 4, 6, 10, 8, 9, 8, 5, 6, 7, 4, 0, 5, 0, 9, 10, 5, 0, 3, 7, 3, 1, 8, 2, 2, 4, 4, 9, 3, 7, 9, 9, 9, 4, 0, 0, 5, 6, 9, 9, 7, 7, 6, 9, 1, 10, 10, 5, 5, 7, 3, 3, 5, 10, 9, 7, 2, 3, 1, 1, 0, 5, 4, 1, 2, 0, 1, 8, 8, 4, 8, 3, 8, 0, 3, 2, 2, 3, 7, 10, 10, 4, 10, 6, 6, 5, 0, 9, 8, 2, 1, 9, 9, 5, 9, 9, 1, 3, 5, 7, 9, 10, 1, 8, 1, 6, 3, 8, 2, 4, 10, 1, 1, 2, 8, 2, 4, 8, 2, 5, 9, 9, 0, 7, 6, 9, 2, 0, 2, 8, 6, 9, 3, 7, 2, 4, 3, 0, 1, 3, 9, 6, 3, 4, 6, 3, 3, 5, 0, 1, 7, 10, 4, 10, 2, 5, 5, 7, 5, 1, 4, 5, 0, 4, 5, 4, 9, 5, 9, 7, 7, 2, 0, 2, 4, 3, 2, 9, 1, 8, 9, 1, 8, 8, 2, 0, 9, 7, 6, 9, 6, 9, 0, 10, 8, 8, 4, 1, 7, 3, 2, 7, 9, 6, 7, 8, 9, 0, 8, 2, 10, 5, 2, 10, 8, 7, 9, 6, 8, 6, 6, 4, 7, 9, 7, 8, 4, 9, 3, 3, 7, 4, 1, 7, 5, 4, 0, 7, 8, 0, 7, 4, 5, 5, 4, 8, 6, 6, 1, 5, 3, 0, 1, 4, 7, 1, 9, 4, 6, 6, 10, 7, 1, 0, 3, 9, 1, 4, 3, 10, 7, 8, 9, 9, 4, 0, 2, 3, 7, 8, 6, 8, 1, 7, 4, 0, 2, 0, 8, 6, 7], 'label_to_index': {'down': 0, 'go': 1, 'left': 2, 'no': 3, 'off': 4, 'on': 5, 'right': 6, 'stop': 7, 'unknown': 8, 'up': 9, 'yes': 10}}\n",
      "Test Loss: 0.2324982660127471, Test Accuracy: 0.9308755760368663\n"
     ]
    },
    {
     "data": {
      "application/vnd.jupyter.widget-view+json": {
       "model_id": "ecf08e4176934d94836705a43f313a37",
       "version_major": 2,
       "version_minor": 0
      },
      "text/plain": [
       "Training loop (5 times):   0%|          | 0/5 [00:00<?, ?it/s]"
      ]
     },
     "metadata": {},
     "output_type": "display_data"
    },
    {
     "name": "stderr",
     "output_type": "stream",
     "text": [
      "Some weights of the model checkpoint at superb/wav2vec2-base-superb-ks were not used when initializing Wav2Vec2ForSequenceClassification: ['wav2vec2.encoder.pos_conv_embed.conv.weight_g', 'wav2vec2.encoder.pos_conv_embed.conv.weight_v']\n",
      "- This IS expected if you are initializing Wav2Vec2ForSequenceClassification from the checkpoint of a model trained on another task or with another architecture (e.g. initializing a BertForSequenceClassification model from a BertForPreTraining model).\n",
      "- This IS NOT expected if you are initializing Wav2Vec2ForSequenceClassification from the checkpoint of a model that you expect to be exactly identical (initializing a BertForSequenceClassification model from a BertForSequenceClassification model).\n",
      "Some weights of Wav2Vec2ForSequenceClassification were not initialized from the model checkpoint at superb/wav2vec2-base-superb-ks and are newly initialized: ['wav2vec2.encoder.pos_conv_embed.conv.parametrizations.weight.original0', 'wav2vec2.encoder.pos_conv_embed.conv.parametrizations.weight.original1']\n",
      "You should probably TRAIN this model on a down-stream task to be able to use it for predictions and inference.\n"
     ]
    },
    {
     "data": {
      "application/vnd.jupyter.widget-view+json": {
       "model_id": "3853f9bcf89e45ef9e53be16ff4315e4",
       "version_major": 2,
       "version_minor": 0
      },
      "text/plain": [
       "Epoch 1/10:   0%|          | 0/6187 [00:00<?, ?it/s]"
      ]
     },
     "metadata": {},
     "output_type": "display_data"
    },
    {
     "name": "stdout",
     "output_type": "stream",
     "text": [
      "Epoch 1/10, Train Loss: 1.6752525995299883\n"
     ]
    },
    {
     "data": {
      "application/vnd.jupyter.widget-view+json": {
       "model_id": "9edcd5a6facc4365ab56c7a1ec117070",
       "version_major": 2,
       "version_minor": 0
      },
      "text/plain": [
       "Validation:   0%|          | 0/163 [00:00<?, ?it/s]"
      ]
     },
     "metadata": {},
     "output_type": "display_data"
    },
    {
     "name": "stdout",
     "output_type": "stream",
     "text": [
      "Epoch 1/10, Validation Loss: 1.0371149887039435, Validation Accuracy: 0.6513056835637481\n"
     ]
    },
    {
     "data": {
      "application/vnd.jupyter.widget-view+json": {
       "model_id": "308daaa224074bc5abac0dbc36f4cc1f",
       "version_major": 2,
       "version_minor": 0
      },
      "text/plain": [
       "Epoch 2/10:   0%|          | 0/6187 [00:00<?, ?it/s]"
      ]
     },
     "metadata": {},
     "output_type": "display_data"
    },
    {
     "name": "stdout",
     "output_type": "stream",
     "text": [
      "Epoch 2/10, Train Loss: 0.6652690026221497\n"
     ]
    },
    {
     "data": {
      "application/vnd.jupyter.widget-view+json": {
       "model_id": "4b324076461a4c03b22a21c5b4a8989b",
       "version_major": 2,
       "version_minor": 0
      },
      "text/plain": [
       "Validation:   0%|          | 0/163 [00:00<?, ?it/s]"
      ]
     },
     "metadata": {},
     "output_type": "display_data"
    },
    {
     "name": "stdout",
     "output_type": "stream",
     "text": [
      "Epoch 2/10, Validation Loss: 0.511817775395316, Validation Accuracy: 0.8294930875576036\n"
     ]
    },
    {
     "data": {
      "application/vnd.jupyter.widget-view+json": {
       "model_id": "0a50c09950354cdbb4c0fa1149b201ee",
       "version_major": 2,
       "version_minor": 0
      },
      "text/plain": [
       "Epoch 3/10:   0%|          | 0/6187 [00:00<?, ?it/s]"
      ]
     },
     "metadata": {},
     "output_type": "display_data"
    },
    {
     "name": "stdout",
     "output_type": "stream",
     "text": [
      "Epoch 3/10, Train Loss: 0.39300241456945295\n"
     ]
    },
    {
     "data": {
      "application/vnd.jupyter.widget-view+json": {
       "model_id": "19fed3425e3a4afc9b5bce550e515562",
       "version_major": 2,
       "version_minor": 0
      },
      "text/plain": [
       "Validation:   0%|          | 0/163 [00:00<?, ?it/s]"
      ]
     },
     "metadata": {},
     "output_type": "display_data"
    },
    {
     "name": "stdout",
     "output_type": "stream",
     "text": [
      "Epoch 3/10, Validation Loss: 0.33418927597313364, Validation Accuracy: 0.8955453149001537\n"
     ]
    },
    {
     "data": {
      "application/vnd.jupyter.widget-view+json": {
       "model_id": "b6f3457b32a6459b9156d4c5e33c3ac1",
       "version_major": 2,
       "version_minor": 0
      },
      "text/plain": [
       "Epoch 4/10:   0%|          | 0/6187 [00:00<?, ?it/s]"
      ]
     },
     "metadata": {},
     "output_type": "display_data"
    },
    {
     "name": "stdout",
     "output_type": "stream",
     "text": [
      "Epoch 4/10, Train Loss: 0.3001555534959367\n"
     ]
    },
    {
     "data": {
      "application/vnd.jupyter.widget-view+json": {
       "model_id": "c67d50ae3645422f816d1f06172d5097",
       "version_major": 2,
       "version_minor": 0
      },
      "text/plain": [
       "Validation:   0%|          | 0/163 [00:00<?, ?it/s]"
      ]
     },
     "metadata": {},
     "output_type": "display_data"
    },
    {
     "name": "stdout",
     "output_type": "stream",
     "text": [
      "Epoch 4/10, Validation Loss: 0.2683990456305296, Validation Accuracy: 0.9247311827956989\n"
     ]
    },
    {
     "data": {
      "application/vnd.jupyter.widget-view+json": {
       "model_id": "c7a44e2adcc34a4d9e25a758735cf26d",
       "version_major": 2,
       "version_minor": 0
      },
      "text/plain": [
       "Epoch 5/10:   0%|          | 0/6187 [00:00<?, ?it/s]"
      ]
     },
     "metadata": {},
     "output_type": "display_data"
    },
    {
     "name": "stdout",
     "output_type": "stream",
     "text": [
      "Epoch 5/10, Train Loss: 0.24292922621950083\n"
     ]
    },
    {
     "data": {
      "application/vnd.jupyter.widget-view+json": {
       "model_id": "a3285374ad72479f8cc1388586706e14",
       "version_major": 2,
       "version_minor": 0
      },
      "text/plain": [
       "Validation:   0%|          | 0/163 [00:00<?, ?it/s]"
      ]
     },
     "metadata": {},
     "output_type": "display_data"
    },
    {
     "name": "stdout",
     "output_type": "stream",
     "text": [
      "Epoch 5/10, Validation Loss: 0.2322926121929759, Validation Accuracy: 0.9370199692780338\n"
     ]
    },
    {
     "data": {
      "application/vnd.jupyter.widget-view+json": {
       "model_id": "190ca0e909aa4646b2c7ee121e35ea14",
       "version_major": 2,
       "version_minor": 0
      },
      "text/plain": [
       "Epoch 6/10:   0%|          | 0/6187 [00:00<?, ?it/s]"
      ]
     },
     "metadata": {},
     "output_type": "display_data"
    },
    {
     "name": "stdout",
     "output_type": "stream",
     "text": [
      "Epoch 6/10, Train Loss: 0.2025731976609195\n"
     ]
    },
    {
     "data": {
      "application/vnd.jupyter.widget-view+json": {
       "model_id": "973074327c5e40e8b7b9d6fec5ced481",
       "version_major": 2,
       "version_minor": 0
      },
      "text/plain": [
       "Validation:   0%|          | 0/163 [00:00<?, ?it/s]"
      ]
     },
     "metadata": {},
     "output_type": "display_data"
    },
    {
     "name": "stdout",
     "output_type": "stream",
     "text": [
      "Epoch 6/10, Validation Loss: 0.2638257203224122, Validation Accuracy: 0.9216589861751152\n"
     ]
    },
    {
     "data": {
      "application/vnd.jupyter.widget-view+json": {
       "model_id": "541e681098bf4134a3ea39326b8726ac",
       "version_major": 2,
       "version_minor": 0
      },
      "text/plain": [
       "Epoch 7/10:   0%|          | 0/6187 [00:00<?, ?it/s]"
      ]
     },
     "metadata": {},
     "output_type": "display_data"
    },
    {
     "name": "stdout",
     "output_type": "stream",
     "text": [
      "Epoch 7/10, Train Loss: 0.17404529504949479\n"
     ]
    },
    {
     "data": {
      "application/vnd.jupyter.widget-view+json": {
       "model_id": "6d49acf76a4844cd93d61736b00563c1",
       "version_major": 2,
       "version_minor": 0
      },
      "text/plain": [
       "Validation:   0%|          | 0/163 [00:00<?, ?it/s]"
      ]
     },
     "metadata": {},
     "output_type": "display_data"
    },
    {
     "name": "stdout",
     "output_type": "stream",
     "text": [
      "Epoch 7/10, Validation Loss: 0.23928175489474898, Validation Accuracy: 0.9216589861751152\n"
     ]
    },
    {
     "data": {
      "application/vnd.jupyter.widget-view+json": {
       "model_id": "0872259eb6f740ba8440fe9ede401c05",
       "version_major": 2,
       "version_minor": 0
      },
      "text/plain": [
       "Epoch 8/10:   0%|          | 0/6187 [00:00<?, ?it/s]"
      ]
     },
     "metadata": {},
     "output_type": "display_data"
    },
    {
     "name": "stdout",
     "output_type": "stream",
     "text": [
      "Epoch 8/10, Train Loss: 0.14833795888849916\n"
     ]
    },
    {
     "data": {
      "application/vnd.jupyter.widget-view+json": {
       "model_id": "7a966ccf31374bc1bd160ca86ce0f5c5",
       "version_major": 2,
       "version_minor": 0
      },
      "text/plain": [
       "Validation:   0%|          | 0/163 [00:00<?, ?it/s]"
      ]
     },
     "metadata": {},
     "output_type": "display_data"
    },
    {
     "name": "stdout",
     "output_type": "stream",
     "text": [
      "Epoch 8/10, Validation Loss: 0.2806749211858635, Validation Accuracy: 0.9139784946236559\n"
     ]
    },
    {
     "data": {
      "application/vnd.jupyter.widget-view+json": {
       "model_id": "14d511ed20e44ba3a2a2fdf07d507ed3",
       "version_major": 2,
       "version_minor": 0
      },
      "text/plain": [
       "Epoch 9/10:   0%|          | 0/6187 [00:00<?, ?it/s]"
      ]
     },
     "metadata": {},
     "output_type": "display_data"
    },
    {
     "name": "stdout",
     "output_type": "stream",
     "text": [
      "Epoch 9/10, Train Loss: 0.12772767793971762\n"
     ]
    },
    {
     "data": {
      "application/vnd.jupyter.widget-view+json": {
       "model_id": "5b7870a7b8044f4a971673e17564e564",
       "version_major": 2,
       "version_minor": 0
      },
      "text/plain": [
       "Validation:   0%|          | 0/163 [00:00<?, ?it/s]"
      ]
     },
     "metadata": {},
     "output_type": "display_data"
    },
    {
     "name": "stdout",
     "output_type": "stream",
     "text": [
      "Epoch 9/10, Validation Loss: 0.21147094648643533, Validation Accuracy: 0.9477726574500768\n"
     ]
    },
    {
     "data": {
      "application/vnd.jupyter.widget-view+json": {
       "model_id": "d3a4810316644a7780e9440172eee868",
       "version_major": 2,
       "version_minor": 0
      },
      "text/plain": [
       "Epoch 10/10:   0%|          | 0/6187 [00:00<?, ?it/s]"
      ]
     },
     "metadata": {},
     "output_type": "display_data"
    },
    {
     "name": "stdout",
     "output_type": "stream",
     "text": [
      "Epoch 10/10, Train Loss: 0.11019930265695589\n"
     ]
    },
    {
     "data": {
      "application/vnd.jupyter.widget-view+json": {
       "model_id": "2695737c5c4c4c3f922aaee1c972104c",
       "version_major": 2,
       "version_minor": 0
      },
      "text/plain": [
       "Validation:   0%|          | 0/163 [00:00<?, ?it/s]"
      ]
     },
     "metadata": {},
     "output_type": "display_data"
    },
    {
     "name": "stdout",
     "output_type": "stream",
     "text": [
      "Epoch 10/10, Validation Loss: 0.2555990102807406, Validation Accuracy: 0.9293394777265745\n"
     ]
    },
    {
     "data": {
      "application/vnd.jupyter.widget-view+json": {
       "model_id": "2a9fd9b225284f1b8d2b1f6b78e2cf68",
       "version_major": 2,
       "version_minor": 0
      },
      "text/plain": [
       "Testing:   0%|          | 0/163 [00:00<?, ?it/s]"
      ]
     },
     "metadata": {},
     "output_type": "display_data"
    },
    {
     "name": "stdout",
     "output_type": "stream",
     "text": [
      "{'val_acc': [0.6513056835637481, 0.8294930875576036, 0.8955453149001537, 0.9247311827956989, 0.9370199692780338, 0.9216589861751152, 0.9216589861751152, 0.9139784946236559, 0.9477726574500768, 0.9293394777265745], 'val_loss': [1.0371149887039435, 0.511817775395316, 0.33418927597313364, 0.2683990456305296, 0.2322926121929759, 0.2638257203224122, 0.23928175489474898, 0.2806749211858635, 0.21147094648643533, 0.2555990102807406], 'train_loss': [1.6752525995299883, 0.6652690026221497, 0.39300241456945295, 0.3001555534959367, 0.24292922621950083, 0.2025731976609195, 0.17404529504949479, 0.14833795888849916, 0.12772767793971762, 0.11019930265695589], 'test_correct_in_batch': [4.0, 4.0, 2.0, 3.0, 4.0, 4.0, 3.0, 2.0, 3.0, 4.0, 4.0, 4.0, 3.0, 4.0, 4.0, 3.0, 3.0, 4.0, 3.0, 3.0, 4.0, 4.0, 3.0, 4.0, 4.0, 4.0, 4.0, 3.0, 4.0, 4.0, 4.0, 4.0, 4.0, 4.0, 4.0, 4.0, 4.0, 4.0, 4.0, 4.0, 4.0, 4.0, 3.0, 4.0, 4.0, 4.0, 4.0, 3.0, 4.0, 4.0, 3.0, 1.0, 4.0, 4.0, 3.0, 4.0, 4.0, 4.0, 4.0, 4.0, 4.0, 4.0, 3.0, 4.0, 2.0, 4.0, 4.0, 3.0, 4.0, 3.0, 2.0, 4.0, 4.0, 4.0, 4.0, 4.0, 4.0, 4.0, 3.0, 4.0, 3.0, 4.0, 4.0, 4.0, 4.0, 3.0, 4.0, 4.0, 4.0, 3.0, 4.0, 4.0, 2.0, 4.0, 3.0, 4.0, 4.0, 2.0, 4.0, 4.0, 3.0, 4.0, 4.0, 3.0, 4.0, 4.0, 4.0, 4.0, 4.0, 4.0, 4.0, 3.0, 4.0, 4.0, 4.0, 4.0, 2.0, 4.0, 4.0, 3.0, 4.0, 3.0, 3.0, 3.0, 3.0, 3.0, 4.0, 3.0, 4.0, 3.0, 4.0, 3.0, 4.0, 4.0, 4.0, 4.0, 4.0, 3.0, 4.0, 4.0, 4.0, 3.0, 3.0, 4.0, 4.0, 3.0, 3.0, 4.0, 4.0, 4.0, 4.0, 4.0, 4.0, 4.0, 3.0, 4.0, 4.0, 3.0, 4.0, 4.0, 4.0, 4.0, 3.0], 'test_losses': [0.11884643882513046, 0.011434292420744896, 1.7552436590194702, 0.3669665455818176, 0.0028227558359503746, 0.000504546333104372, 0.9247807860374451, 0.4663705825805664, 0.9095574021339417, 0.0008620094158686697, 0.0004127566353417933, 0.0003898941504303366, 0.47000032663345337, 0.00010605539864627644, 0.0014422379899770021, 3.0275959968566895, 0.44565215706825256, 0.002226340351626277, 2.1469693183898926, 0.25754570960998535, 0.03140277415513992, 0.0008055032230913639, 0.585200846195221, 8.106138920993544e-06, 0.0004700422578025609, 0.00030767344287596643, 0.0036602073814719915, 0.9673936367034912, 0.0991840660572052, 0.07341576367616653, 0.06477849930524826, 0.00026127195451408625, 0.0012304550036787987, 5.6947406847029924e-05, 0.0010461657075211406, 0.002233962994068861, 0.018172968178987503, 0.024288302287459373, 0.0016444195061922073, 0.04385296255350113, 0.03247992321848869, 2.977178337459918e-05, 0.9719999432563782, 7.551314774900675e-05, 0.003272934351116419, 0.0007097979541867971, 0.004762555472552776, 0.21024589240550995, 0.06852360814809799, 0.04290887340903282, 1.0714147090911865, 3.531418800354004, 0.006557373329997063, 0.04951772838830948, 0.3266250491142273, 0.0007387440418824553, 0.06946421414613724, 0.0002827030257321894, 0.0015433232765644789, 0.0010234829969704151, 0.013648860156536102, 0.0006682525272481143, 0.35482853651046753, 1.3321311598701868e-05, 0.961139440536499, 0.11115504056215286, 6.49661451461725e-05, 0.7394372224807739, 0.25161537528038025, 0.6902453899383545, 2.489122152328491, 0.0002954372903332114, 0.08622840791940689, 0.023472391068935394, 5.006771971238777e-06, 0.0005189123912714422, 0.05330313742160797, 0.0005232588737271726, 0.6368846297264099, 0.0888376235961914, 0.6383245587348938, 0.007093166932463646, 0.005718284286558628, 0.0001836589362937957, 0.18499737977981567, 2.0179343223571777, 0.000883189495652914, 0.0007403436466120183, 0.0058112982660532, 1.0399771928787231, 0.00011392145097488537, 0.0018769989255815744, 2.242854356765747, 0.0022077499888837337, 0.21367473900318146, 0.00015396715025417507, 0.07497747242450714, 2.3934102058410645, 0.006719978526234627, 0.04231724888086319, 0.5158977508544922, 0.11320385336875916, 0.00014058324450161308, 1.7052536010742188, 0.0005291645065881312, 0.024151669815182686, 0.0005002772086299956, 0.0004959171637892723, 0.05613313242793083, 0.00012563008931465447, 7.884886872489005e-05, 0.8152595162391663, 0.0005626595229841769, 0.12953460216522217, 0.021789373829960823, 0.0011246073991060257, 2.6017792224884033, 0.0002673259295988828, 0.00017091023619286716, 0.7588674426078796, 0.12155555188655853, 0.7933326959609985, 0.7715070843696594, 0.8273439407348633, 0.8766258955001831, 0.4109192192554474, 0.07119719684123993, 0.8910214304924011, 0.015406104736030102, 0.824055552482605, 0.057250749319791794, 0.3685147762298584, 0.0012665372341871262, 0.11002370715141296, 0.07985959947109222, 0.025430429726839066, 0.0007544007967226207, 0.7081157565116882, 0.001988999079912901, 0.2595478594303131, 0.0011356035247445107, 0.890295684337616, 0.8974749445915222, 7.428758544847369e-05, 0.0037739910185337067, 0.4673280417919159, 0.6393529772758484, 0.0005512231728062034, 0.160247802734375, 0.000430112995672971, 0.0020122872665524483, 0.0004147416038904339, 0.002203946001827717, 0.03946712240576744, 1.287908673286438, 0.0035204177256673574, 0.010330514051020145, 0.33617451786994934, 0.02464407868683338, 0.0039876243099570274, 5.6201843108283356e-05, 0.0012721437960863113, 0.0027201585471630096], 'test_loss': 0.32724955457726057, 'test_batch_lens': [4, 4, 4, 4, 4, 4, 4, 4, 4, 4, 4, 4, 4, 4, 4, 4, 4, 4, 4, 4, 4, 4, 4, 4, 4, 4, 4, 4, 4, 4, 4, 4, 4, 4, 4, 4, 4, 4, 4, 4, 4, 4, 4, 4, 4, 4, 4, 4, 4, 4, 4, 4, 4, 4, 4, 4, 4, 4, 4, 4, 4, 4, 4, 4, 4, 4, 4, 4, 4, 4, 4, 4, 4, 4, 4, 4, 4, 4, 4, 4, 4, 4, 4, 4, 4, 4, 4, 4, 4, 4, 4, 4, 4, 4, 4, 4, 4, 4, 4, 4, 4, 4, 4, 4, 4, 4, 4, 4, 4, 4, 4, 4, 4, 4, 4, 4, 4, 4, 4, 4, 4, 4, 4, 4, 4, 4, 4, 4, 4, 4, 4, 4, 4, 4, 4, 4, 4, 4, 4, 4, 4, 4, 4, 4, 4, 4, 4, 4, 4, 4, 4, 4, 4, 4, 4, 4, 4, 4, 4, 4, 4, 4, 3], 'test_accuracy': 0.9109062980030722, 'predictions': [7, 4, 1, 10, 7, 1, 8, 8, 1, 9, 4, 7, 1, 9, 3, 1, 9, 6, 4, 9, 8, 10, 1, 4, 6, 3, 8, 6, 6, 8, 8, 8, 1, 1, 6, 3, 10, 5, 5, 0, 10, 3, 2, 10, 7, 8, 4, 3, 3, 8, 8, 4, 3, 4, 6, 1, 1, 9, 1, 10, 10, 6, 2, 6, 5, 1, 8, 5, 8, 1, 3, 1, 5, 3, 1, 8, 6, 8, 9, 4, 3, 1, 3, 1, 5, 5, 1, 8, 0, 5, 9, 10, 10, 7, 1, 5, 1, 8, 2, 7, 5, 1, 10, 6, 10, 8, 3, 9, 10, 4, 7, 5, 0, 3, 7, 6, 0, 8, 0, 0, 4, 8, 7, 6, 5, 1, 7, 9, 6, 7, 4, 0, 10, 10, 7, 9, 4, 1, 9, 0, 10, 3, 3, 9, 4, 7, 4, 7, 2, 10, 2, 4, 10, 10, 1, 0, 10, 5, 4, 7, 8, 9, 10, 4, 2, 3, 10, 5, 8, 0, 5, 0, 10, 7, 6, 8, 0, 8, 1, 2, 6, 3, 5, 3, 9, 3, 4, 8, 1, 2, 0, 2, 0, 9, 9, 8, 1, 3, 5, 9, 4, 1, 6, 1, 4, 1, 9, 9, 3, 9, 5, 6, 2, 5, 4, 5, 6, 10, 8, 4, 7, 3, 0, 6, 7, 0, 5, 7, 1, 0, 1, 6, 3, 7, 7, 2, 10, 4, 3, 10, 9, 4, 3, 3, 1, 7, 8, 5, 2, 4, 10, 3, 1, 2, 3, 10, 6, 2, 9, 3, 3, 10, 7, 1, 5, 1, 8, 1, 1, 7, 3, 10, 3, 5, 2, 2, 7, 2, 9, 7, 9, 8, 3, 10, 2, 4, 2, 5, 5, 3, 8, 0, 8, 6, 0, 1, 2, 7, 3, 2, 4, 10, 8, 6, 6, 0, 2, 7, 10, 1, 7, 6, 4, 2, 5, 2, 0, 9, 4, 3, 6, 6, 7, 9, 1, 8, 8, 5, 2, 9, 4, 1, 1, 8, 4, 7, 1, 2, 7, 2, 5, 0, 4, 10, 5, 0, 5, 7, 3, 6, 4, 6, 4, 9, 5, 1, 8, 3, 7, 4, 4, 4, 6, 10, 8, 9, 8, 5, 3, 9, 4, 0, 5, 0, 9, 10, 5, 1, 3, 7, 3, 1, 8, 2, 2, 4, 4, 9, 3, 7, 5, 2, 9, 4, 0, 0, 5, 6, 9, 9, 7, 7, 4, 9, 1, 10, 10, 5, 5, 7, 3, 3, 5, 10, 4, 7, 2, 3, 1, 1, 0, 5, 4, 1, 2, 0, 1, 8, 8, 4, 8, 3, 8, 0, 3, 2, 2, 3, 7, 10, 10, 4, 10, 6, 6, 5, 0, 4, 8, 2, 1, 9, 9, 5, 9, 9, 1, 3, 5, 7, 9, 10, 1, 8, 3, 6, 3, 4, 2, 4, 10, 1, 1, 2, 8, 2, 4, 8, 2, 8, 9, 9, 0, 7, 6, 9, 9, 0, 2, 3, 6, 9, 3, 9, 2, 4, 10, 0, 1, 3, 5, 6, 3, 4, 6, 3, 3, 5, 3, 1, 7, 10, 4, 10, 2, 5, 5, 7, 5, 3, 4, 5, 0, 4, 5, 4, 4, 5, 9, 7, 7, 2, 0, 2, 4, 3, 2, 9, 1, 8, 9, 1, 8, 8, 2, 0, 9, 7, 6, 4, 6, 9, 0, 10, 8, 8, 4, 1, 7, 3, 2, 7, 9, 6, 2, 8, 9, 0, 8, 2, 7, 5, 2, 10, 8, 7, 9, 6, 8, 6, 6, 9, 7, 9, 7, 4, 4, 9, 3, 3, 7, 4, 1, 7, 5, 4, 0, 7, 8, 0, 7, 4, 5, 5, 4, 8, 6, 6, 1, 5, 3, 0, 1, 4, 7, 1, 9, 4, 6, 2, 10, 7, 1, 0, 3, 9, 1, 4, 3, 2, 7, 8, 9, 9, 4, 0, 2, 3, 7, 8, 6, 8, 1, 7, 4, 0, 2, 0, 8, 6, 7], 'real_labels': [7, 4, 1, 10, 7, 1, 8, 8, 0, 8, 4, 7, 1, 9, 3, 0, 9, 6, 4, 9, 8, 10, 1, 4, 6, 8, 8, 6, 6, 8, 2, 1, 1, 9, 6, 3, 10, 5, 5, 0, 10, 3, 2, 10, 7, 8, 4, 3, 3, 8, 9, 4, 3, 4, 6, 1, 1, 9, 1, 10, 10, 6, 1, 6, 5, 5, 8, 5, 8, 1, 3, 1, 1, 3, 1, 8, 6, 8, 9, 2, 3, 1, 3, 1, 5, 5, 1, 8, 0, 4, 9, 10, 10, 7, 1, 5, 1, 8, 2, 7, 5, 1, 10, 6, 10, 8, 3, 9, 10, 4, 7, 1, 0, 3, 7, 6, 0, 8, 0, 0, 4, 8, 7, 6, 5, 1, 7, 9, 6, 7, 4, 0, 10, 10, 7, 9, 4, 1, 9, 0, 10, 3, 3, 9, 4, 7, 4, 7, 2, 10, 2, 4, 10, 10, 1, 0, 10, 5, 4, 7, 8, 9, 10, 4, 2, 3, 10, 5, 8, 0, 9, 0, 10, 7, 6, 8, 0, 8, 1, 2, 6, 3, 5, 3, 9, 3, 4, 8, 3, 2, 0, 2, 0, 9, 9, 8, 1, 3, 5, 9, 8, 1, 6, 1, 4, 3, 4, 8, 3, 9, 5, 6, 2, 5, 4, 5, 2, 10, 8, 4, 7, 3, 0, 6, 7, 0, 5, 7, 1, 0, 1, 6, 3, 7, 7, 2, 10, 4, 3, 10, 9, 4, 3, 3, 1, 7, 8, 5, 2, 4, 10, 1, 1, 2, 3, 10, 6, 9, 5, 3, 3, 10, 7, 1, 5, 1, 8, 1, 8, 7, 3, 10, 3, 5, 2, 2, 7, 3, 9, 7, 6, 8, 8, 10, 2, 4, 2, 5, 5, 3, 8, 0, 8, 6, 0, 1, 2, 7, 3, 2, 4, 10, 8, 6, 6, 0, 2, 7, 10, 1, 7, 6, 9, 2, 5, 2, 0, 9, 4, 3, 2, 6, 7, 9, 1, 8, 8, 5, 2, 9, 4, 1, 1, 8, 4, 7, 1, 2, 7, 2, 5, 0, 7, 10, 5, 0, 5, 7, 3, 6, 4, 6, 4, 9, 5, 1, 8, 3, 7, 7, 4, 4, 6, 10, 8, 9, 8, 5, 6, 7, 4, 0, 5, 0, 9, 10, 5, 0, 3, 7, 3, 1, 8, 2, 2, 4, 4, 9, 3, 7, 9, 9, 9, 4, 0, 0, 5, 6, 9, 9, 7, 7, 6, 9, 1, 10, 10, 5, 5, 7, 3, 3, 5, 10, 9, 7, 2, 3, 1, 1, 0, 5, 4, 1, 2, 0, 1, 8, 8, 4, 8, 3, 8, 0, 3, 2, 2, 3, 7, 10, 10, 4, 10, 6, 6, 5, 0, 9, 8, 2, 1, 9, 9, 5, 9, 9, 1, 3, 5, 7, 9, 10, 1, 8, 1, 6, 3, 8, 2, 4, 10, 1, 1, 2, 8, 2, 4, 8, 2, 5, 9, 9, 0, 7, 6, 9, 2, 0, 2, 8, 6, 9, 3, 7, 2, 4, 3, 0, 1, 3, 9, 6, 3, 4, 6, 3, 3, 5, 0, 1, 7, 10, 4, 10, 2, 5, 5, 7, 5, 1, 4, 5, 0, 4, 5, 4, 9, 5, 9, 7, 7, 2, 0, 2, 4, 3, 2, 9, 1, 8, 9, 1, 8, 8, 2, 0, 9, 7, 6, 9, 6, 9, 0, 10, 8, 8, 4, 1, 7, 3, 2, 7, 9, 6, 7, 8, 9, 0, 8, 2, 10, 5, 2, 10, 8, 7, 9, 6, 8, 6, 6, 4, 7, 9, 7, 8, 4, 9, 3, 3, 7, 4, 1, 7, 5, 4, 0, 7, 8, 0, 7, 4, 5, 5, 4, 8, 6, 6, 1, 5, 3, 0, 1, 4, 7, 1, 9, 4, 6, 6, 10, 7, 1, 0, 3, 9, 1, 4, 3, 10, 7, 8, 9, 9, 4, 0, 2, 3, 7, 8, 6, 8, 1, 7, 4, 0, 2, 0, 8, 6, 7], 'label_to_index': {'down': 0, 'go': 1, 'left': 2, 'no': 3, 'off': 4, 'on': 5, 'right': 6, 'stop': 7, 'unknown': 8, 'up': 9, 'yes': 10}}\n",
      "Test Loss: 0.32724955457726057, Test Accuracy: 0.9109062980030722\n"
     ]
    },
    {
     "name": "stderr",
     "output_type": "stream",
     "text": [
      "Some weights of the model checkpoint at superb/wav2vec2-base-superb-ks were not used when initializing Wav2Vec2ForSequenceClassification: ['wav2vec2.encoder.pos_conv_embed.conv.weight_g', 'wav2vec2.encoder.pos_conv_embed.conv.weight_v']\n",
      "- This IS expected if you are initializing Wav2Vec2ForSequenceClassification from the checkpoint of a model trained on another task or with another architecture (e.g. initializing a BertForSequenceClassification model from a BertForPreTraining model).\n",
      "- This IS NOT expected if you are initializing Wav2Vec2ForSequenceClassification from the checkpoint of a model that you expect to be exactly identical (initializing a BertForSequenceClassification model from a BertForSequenceClassification model).\n",
      "Some weights of Wav2Vec2ForSequenceClassification were not initialized from the model checkpoint at superb/wav2vec2-base-superb-ks and are newly initialized: ['wav2vec2.encoder.pos_conv_embed.conv.parametrizations.weight.original0', 'wav2vec2.encoder.pos_conv_embed.conv.parametrizations.weight.original1']\n",
      "You should probably TRAIN this model on a down-stream task to be able to use it for predictions and inference.\n"
     ]
    },
    {
     "data": {
      "application/vnd.jupyter.widget-view+json": {
       "model_id": "a1f259ac52454a7597ab598ded6e4dce",
       "version_major": 2,
       "version_minor": 0
      },
      "text/plain": [
       "Epoch 1/10:   0%|          | 0/6187 [00:00<?, ?it/s]"
      ]
     },
     "metadata": {},
     "output_type": "display_data"
    },
    {
     "name": "stdout",
     "output_type": "stream",
     "text": [
      "Epoch 1/10, Train Loss: 2.3229624564425713\n"
     ]
    },
    {
     "data": {
      "application/vnd.jupyter.widget-view+json": {
       "model_id": "981646f77e6946a6991151c068a7cdbe",
       "version_major": 2,
       "version_minor": 0
      },
      "text/plain": [
       "Validation:   0%|          | 0/163 [00:00<?, ?it/s]"
      ]
     },
     "metadata": {},
     "output_type": "display_data"
    },
    {
     "name": "stdout",
     "output_type": "stream",
     "text": [
      "Epoch 1/10, Validation Loss: 1.9452477975125693, Validation Accuracy: 0.29493087557603687\n"
     ]
    },
    {
     "data": {
      "application/vnd.jupyter.widget-view+json": {
       "model_id": "1c0529dced174948bb5da469eceb5b68",
       "version_major": 2,
       "version_minor": 0
      },
      "text/plain": [
       "Epoch 2/10:   0%|          | 0/6187 [00:00<?, ?it/s]"
      ]
     },
     "metadata": {},
     "output_type": "display_data"
    },
    {
     "name": "stdout",
     "output_type": "stream",
     "text": [
      "Epoch 2/10, Train Loss: 1.5439554258340469\n"
     ]
    },
    {
     "data": {
      "application/vnd.jupyter.widget-view+json": {
       "model_id": "a113854e61044131b3ca493c2ad98276",
       "version_major": 2,
       "version_minor": 0
      },
      "text/plain": [
       "Validation:   0%|          | 0/163 [00:00<?, ?it/s]"
      ]
     },
     "metadata": {},
     "output_type": "display_data"
    },
    {
     "name": "stdout",
     "output_type": "stream",
     "text": [
      "Epoch 2/10, Validation Loss: 1.0539815655789493, Validation Accuracy: 0.6543778801843319\n"
     ]
    },
    {
     "data": {
      "application/vnd.jupyter.widget-view+json": {
       "model_id": "13fd8b36d7084f9ebdd9629fdd704d12",
       "version_major": 2,
       "version_minor": 0
      },
      "text/plain": [
       "Epoch 3/10:   0%|          | 0/6187 [00:00<?, ?it/s]"
      ]
     },
     "metadata": {},
     "output_type": "display_data"
    },
    {
     "name": "stdout",
     "output_type": "stream",
     "text": [
      "Epoch 3/10, Train Loss: 0.6874221972094559\n"
     ]
    },
    {
     "data": {
      "application/vnd.jupyter.widget-view+json": {
       "model_id": "e3b7b166d33247ffadda74b2c564f930",
       "version_major": 2,
       "version_minor": 0
      },
      "text/plain": [
       "Validation:   0%|          | 0/163 [00:00<?, ?it/s]"
      ]
     },
     "metadata": {},
     "output_type": "display_data"
    },
    {
     "name": "stdout",
     "output_type": "stream",
     "text": [
      "Epoch 3/10, Validation Loss: 0.4287057114490794, Validation Accuracy: 0.8632872503840245\n"
     ]
    },
    {
     "data": {
      "application/vnd.jupyter.widget-view+json": {
       "model_id": "66f343868b564b28b7b94cef23e86ea9",
       "version_major": 2,
       "version_minor": 0
      },
      "text/plain": [
       "Epoch 4/10:   0%|          | 0/6187 [00:00<?, ?it/s]"
      ]
     },
     "metadata": {},
     "output_type": "display_data"
    },
    {
     "name": "stdout",
     "output_type": "stream",
     "text": [
      "Epoch 4/10, Train Loss: 0.3901955673418182\n"
     ]
    },
    {
     "data": {
      "application/vnd.jupyter.widget-view+json": {
       "model_id": "667f18b08a384fa89d75f972f2bfc855",
       "version_major": 2,
       "version_minor": 0
      },
      "text/plain": [
       "Validation:   0%|          | 0/163 [00:00<?, ?it/s]"
      ]
     },
     "metadata": {},
     "output_type": "display_data"
    },
    {
     "name": "stdout",
     "output_type": "stream",
     "text": [
      "Epoch 4/10, Validation Loss: 0.3272359271053842, Validation Accuracy: 0.8924731182795699\n"
     ]
    },
    {
     "data": {
      "application/vnd.jupyter.widget-view+json": {
       "model_id": "902bae5a20624c829e014180e14808ab",
       "version_major": 2,
       "version_minor": 0
      },
      "text/plain": [
       "Epoch 5/10:   0%|          | 0/6187 [00:00<?, ?it/s]"
      ]
     },
     "metadata": {},
     "output_type": "display_data"
    },
    {
     "name": "stdout",
     "output_type": "stream",
     "text": [
      "Epoch 5/10, Train Loss: 0.2991640577966728\n"
     ]
    },
    {
     "data": {
      "application/vnd.jupyter.widget-view+json": {
       "model_id": "9cc36f4c7942423c9b6b968525f49cdc",
       "version_major": 2,
       "version_minor": 0
      },
      "text/plain": [
       "Validation:   0%|          | 0/163 [00:00<?, ?it/s]"
      ]
     },
     "metadata": {},
     "output_type": "display_data"
    },
    {
     "name": "stdout",
     "output_type": "stream",
     "text": [
      "Epoch 5/10, Validation Loss: 0.3280401372754635, Validation Accuracy: 0.8970814132104454\n"
     ]
    },
    {
     "data": {
      "application/vnd.jupyter.widget-view+json": {
       "model_id": "1211caa7e53142d6929d44c0858e1ed3",
       "version_major": 2,
       "version_minor": 0
      },
      "text/plain": [
       "Epoch 6/10:   0%|          | 0/6187 [00:00<?, ?it/s]"
      ]
     },
     "metadata": {},
     "output_type": "display_data"
    },
    {
     "name": "stdout",
     "output_type": "stream",
     "text": [
      "Epoch 6/10, Train Loss: 0.2470997530503408\n"
     ]
    },
    {
     "data": {
      "application/vnd.jupyter.widget-view+json": {
       "model_id": "55a214a148d04a5c9971ea80cc67a112",
       "version_major": 2,
       "version_minor": 0
      },
      "text/plain": [
       "Validation:   0%|          | 0/163 [00:00<?, ?it/s]"
      ]
     },
     "metadata": {},
     "output_type": "display_data"
    },
    {
     "name": "stdout",
     "output_type": "stream",
     "text": [
      "Epoch 6/10, Validation Loss: 0.22678772550529053, Validation Accuracy: 0.9324116743471582\n"
     ]
    },
    {
     "data": {
      "application/vnd.jupyter.widget-view+json": {
       "model_id": "6b4644028c84418a86f4284dd7e443e0",
       "version_major": 2,
       "version_minor": 0
      },
      "text/plain": [
       "Epoch 7/10:   0%|          | 0/6187 [00:00<?, ?it/s]"
      ]
     },
     "metadata": {},
     "output_type": "display_data"
    },
    {
     "name": "stdout",
     "output_type": "stream",
     "text": [
      "Epoch 7/10, Train Loss: 0.21065180351726695\n"
     ]
    },
    {
     "data": {
      "application/vnd.jupyter.widget-view+json": {
       "model_id": "b07d6c48068d424e973bf616b77c8e32",
       "version_major": 2,
       "version_minor": 0
      },
      "text/plain": [
       "Validation:   0%|          | 0/163 [00:00<?, ?it/s]"
      ]
     },
     "metadata": {},
     "output_type": "display_data"
    },
    {
     "name": "stdout",
     "output_type": "stream",
     "text": [
      "Epoch 7/10, Validation Loss: 0.2803156787293543, Validation Accuracy: 0.9247311827956989\n"
     ]
    },
    {
     "data": {
      "application/vnd.jupyter.widget-view+json": {
       "model_id": "04d8c9fb17b14bd3a7683bb2d8e7d533",
       "version_major": 2,
       "version_minor": 0
      },
      "text/plain": [
       "Epoch 8/10:   0%|          | 0/6187 [00:00<?, ?it/s]"
      ]
     },
     "metadata": {},
     "output_type": "display_data"
    },
    {
     "name": "stdout",
     "output_type": "stream",
     "text": [
      "Epoch 8/10, Train Loss: 0.17663021404834453\n"
     ]
    },
    {
     "data": {
      "application/vnd.jupyter.widget-view+json": {
       "model_id": "99886930d30c45c787fcc6528717c48d",
       "version_major": 2,
       "version_minor": 0
      },
      "text/plain": [
       "Validation:   0%|          | 0/163 [00:00<?, ?it/s]"
      ]
     },
     "metadata": {},
     "output_type": "display_data"
    },
    {
     "name": "stdout",
     "output_type": "stream",
     "text": [
      "Epoch 8/10, Validation Loss: 0.241192270483504, Validation Accuracy: 0.9278033794162827\n"
     ]
    },
    {
     "data": {
      "application/vnd.jupyter.widget-view+json": {
       "model_id": "b2942716bd0348548988f384a47733c6",
       "version_major": 2,
       "version_minor": 0
      },
      "text/plain": [
       "Epoch 9/10:   0%|          | 0/6187 [00:00<?, ?it/s]"
      ]
     },
     "metadata": {},
     "output_type": "display_data"
    },
    {
     "name": "stdout",
     "output_type": "stream",
     "text": [
      "Epoch 9/10, Train Loss: 0.15459802971559578\n"
     ]
    },
    {
     "data": {
      "application/vnd.jupyter.widget-view+json": {
       "model_id": "404b282348194a3a8434504bc3b7453f",
       "version_major": 2,
       "version_minor": 0
      },
      "text/plain": [
       "Validation:   0%|          | 0/163 [00:00<?, ?it/s]"
      ]
     },
     "metadata": {},
     "output_type": "display_data"
    },
    {
     "name": "stdout",
     "output_type": "stream",
     "text": [
      "Epoch 9/10, Validation Loss: 0.2309134115856548, Validation Accuracy: 0.9278033794162827\n"
     ]
    },
    {
     "data": {
      "application/vnd.jupyter.widget-view+json": {
       "model_id": "62aa2e47dd9d41bb84957dfabcaa8261",
       "version_major": 2,
       "version_minor": 0
      },
      "text/plain": [
       "Epoch 10/10:   0%|          | 0/6187 [00:00<?, ?it/s]"
      ]
     },
     "metadata": {},
     "output_type": "display_data"
    },
    {
     "name": "stdout",
     "output_type": "stream",
     "text": [
      "Epoch 10/10, Train Loss: 0.13062793815922027\n"
     ]
    },
    {
     "data": {
      "application/vnd.jupyter.widget-view+json": {
       "model_id": "efda4c4d01ea493ba2d62e716b2a47f8",
       "version_major": 2,
       "version_minor": 0
      },
      "text/plain": [
       "Validation:   0%|          | 0/163 [00:00<?, ?it/s]"
      ]
     },
     "metadata": {},
     "output_type": "display_data"
    },
    {
     "name": "stdout",
     "output_type": "stream",
     "text": [
      "Epoch 10/10, Validation Loss: 0.26423644168769816, Validation Accuracy: 0.9231950844854071\n"
     ]
    },
    {
     "data": {
      "application/vnd.jupyter.widget-view+json": {
       "model_id": "0c4d1b9e27c841d2b50ffaa94012bd3c",
       "version_major": 2,
       "version_minor": 0
      },
      "text/plain": [
       "Testing:   0%|          | 0/163 [00:00<?, ?it/s]"
      ]
     },
     "metadata": {},
     "output_type": "display_data"
    },
    {
     "name": "stdout",
     "output_type": "stream",
     "text": [
      "{'val_acc': [0.29493087557603687, 0.6543778801843319, 0.8632872503840245, 0.8924731182795699, 0.8970814132104454, 0.9324116743471582, 0.9247311827956989, 0.9278033794162827, 0.9278033794162827, 0.9231950844854071], 'val_loss': [1.9452477975125693, 1.0539815655789493, 0.4287057114490794, 0.3272359271053842, 0.3280401372754635, 0.22678772550529053, 0.2803156787293543, 0.241192270483504, 0.2309134115856548, 0.26423644168769816], 'train_loss': [2.3229624564425713, 1.5439554258340469, 0.6874221972094559, 0.3901955673418182, 0.2991640577966728, 0.2470997530503408, 0.21065180351726695, 0.17663021404834453, 0.15459802971559578, 0.13062793815922027], 'test_correct_in_batch': [4.0, 4.0, 3.0, 1.0, 4.0, 4.0, 3.0, 2.0, 3.0, 4.0, 4.0, 4.0, 3.0, 4.0, 4.0, 3.0, 4.0, 4.0, 3.0, 3.0, 3.0, 4.0, 3.0, 4.0, 4.0, 4.0, 4.0, 3.0, 4.0, 4.0, 3.0, 4.0, 4.0, 4.0, 4.0, 4.0, 4.0, 4.0, 4.0, 4.0, 4.0, 4.0, 3.0, 4.0, 4.0, 4.0, 3.0, 2.0, 4.0, 3.0, 3.0, 1.0, 4.0, 4.0, 4.0, 4.0, 4.0, 4.0, 4.0, 4.0, 4.0, 4.0, 4.0, 4.0, 3.0, 4.0, 4.0, 3.0, 4.0, 3.0, 3.0, 4.0, 4.0, 3.0, 4.0, 4.0, 4.0, 4.0, 3.0, 4.0, 3.0, 4.0, 4.0, 4.0, 3.0, 3.0, 4.0, 4.0, 4.0, 3.0, 4.0, 4.0, 3.0, 4.0, 4.0, 4.0, 4.0, 2.0, 4.0, 3.0, 3.0, 4.0, 4.0, 3.0, 4.0, 4.0, 4.0, 4.0, 4.0, 4.0, 4.0, 4.0, 4.0, 3.0, 4.0, 4.0, 3.0, 4.0, 4.0, 3.0, 4.0, 2.0, 3.0, 4.0, 3.0, 4.0, 3.0, 4.0, 4.0, 3.0, 4.0, 3.0, 4.0, 2.0, 4.0, 4.0, 4.0, 3.0, 4.0, 3.0, 4.0, 4.0, 3.0, 4.0, 4.0, 3.0, 3.0, 4.0, 4.0, 4.0, 4.0, 4.0, 3.0, 4.0, 3.0, 4.0, 4.0, 3.0, 4.0, 4.0, 4.0, 4.0, 3.0], 'test_losses': [0.0005990543286316097, 0.004190520849078894, 0.4049379527568817, 1.1062953472137451, 0.023135583847761154, 0.00035632189246825874, 0.66996830701828, 1.3300598859786987, 1.0786986351013184, 0.0005815393524244428, 0.0009595787269063294, 0.005804917309433222, 0.514695405960083, 0.007877159863710403, 0.002289423020556569, 1.5965328216552734, 0.3303988575935364, 0.21128104627132416, 1.293126106262207, 0.2747041881084442, 0.8785304427146912, 0.09176462143659592, 0.3547665774822235, 0.00030448244069702923, 0.010501178912818432, 0.00018414708029013127, 0.0010353655088692904, 0.5862791538238525, 0.005433592014014721, 0.00033739631180651486, 0.4054471552371979, 0.0006627981783822179, 0.0026678803842514753, 0.00016490860434714705, 0.0003696947533171624, 0.002342034364119172, 0.01592850312590599, 0.049316391348838806, 0.00517131807282567, 0.0856289193034172, 0.20021267235279083, 0.001876337337307632, 0.9262464642524719, 0.00033680687192827463, 0.014552528038620949, 0.001673787017352879, 0.3675500154495239, 2.6712565422058105, 0.0817340761423111, 0.2279427945613861, 1.5605887174606323, 2.7774746417999268, 0.18898828327655792, 0.18118372559547424, 0.16018468141555786, 0.00018848179024644196, 0.04076780378818512, 0.010117581114172935, 0.004944997373968363, 0.012835697270929813, 0.020104410126805305, 0.06770623475313187, 0.014773217029869556, 0.00043970695696771145, 1.1695793867111206, 0.003259185701608658, 0.00021842157002538443, 0.5080305933952332, 0.07555858790874481, 1.0249052047729492, 1.271911382675171, 0.0006347579183056951, 0.047920241951942444, 0.539397120475769, 8.352875738637522e-05, 0.005666263867169619, 0.00034294003853574395, 9.320533717982471e-05, 0.5638381838798523, 0.014844988472759724, 0.7908554077148438, 0.0009674569009803236, 0.0023746928200125694, 0.018706219270825386, 0.302467405796051, 0.3908352255821228, 0.0010910157579928637, 0.001327725127339363, 0.005778646096587181, 0.3870323598384857, 0.005691598169505596, 0.005424116738140583, 0.4203227758407593, 0.04825399070978165, 0.002088141394779086, 0.014170831069350243, 0.008780539967119694, 2.1647090911865234, 0.0005339150666259229, 0.6239864826202393, 0.7400805950164795, 0.026320837438106537, 0.00015003352018538862, 1.6223222017288208, 0.0066921706311404705, 0.0009418736444786191, 0.0005840047379024327, 0.003323361976072192, 0.014007333666086197, 0.03420758619904518, 0.0005340464995242655, 0.02406761795282364, 0.22537586092948914, 0.3057584762573242, 0.016284899786114693, 0.0008898674859665334, 0.3286426365375519, 0.036185503005981445, 0.0008548774057999253, 1.3766827583312988, 0.1114586740732193, 1.32308828830719, 0.4044540524482727, 0.24614182114601135, 1.434070110321045, 0.105623759329319, 1.5206656455993652, 0.13565947115421295, 0.00831890944391489, 0.29797178506851196, 0.023983832448720932, 0.21401472389698029, 0.0014521676348522305, 1.6465646028518677, 0.002851968863978982, 0.045970138162374496, 0.0007258867844939232, 0.8193610906600952, 0.005700340960174799, 0.6566711664199829, 0.08634081482887268, 0.13816195726394653, 2.7393457889556885, 0.0008915661601349711, 0.0018426977330818772, 0.42939597368240356, 1.3204177618026733, 0.0009038904681801796, 0.007723853923380375, 0.006089737638831139, 0.016225121915340424, 0.0030145919881761074, 0.8435038924217224, 0.0011783028021454811, 1.239984393119812, 0.06455299258232117, 0.005307199899107218, 0.9048154354095459, 0.16167202591896057, 0.0001042103031068109, 5.230138776823878e-05, 0.0003997946041636169, 0.011703922413289547], 'test_loss': 0.32552744941619877, 'test_batch_lens': [4, 4, 4, 4, 4, 4, 4, 4, 4, 4, 4, 4, 4, 4, 4, 4, 4, 4, 4, 4, 4, 4, 4, 4, 4, 4, 4, 4, 4, 4, 4, 4, 4, 4, 4, 4, 4, 4, 4, 4, 4, 4, 4, 4, 4, 4, 4, 4, 4, 4, 4, 4, 4, 4, 4, 4, 4, 4, 4, 4, 4, 4, 4, 4, 4, 4, 4, 4, 4, 4, 4, 4, 4, 4, 4, 4, 4, 4, 4, 4, 4, 4, 4, 4, 4, 4, 4, 4, 4, 4, 4, 4, 4, 4, 4, 4, 4, 4, 4, 4, 4, 4, 4, 4, 4, 4, 4, 4, 4, 4, 4, 4, 4, 4, 4, 4, 4, 4, 4, 4, 4, 4, 4, 4, 4, 4, 4, 4, 4, 4, 4, 4, 4, 4, 4, 4, 4, 4, 4, 4, 4, 4, 4, 4, 4, 4, 4, 4, 4, 4, 4, 4, 4, 4, 4, 4, 4, 4, 4, 4, 4, 4, 3], 'test_accuracy': 0.9062980030721967, 'predictions': [7, 4, 1, 10, 7, 1, 8, 8, 0, 3, 4, 7, 1, 4, 8, 1, 9, 6, 4, 9, 8, 10, 1, 4, 6, 1, 8, 6, 6, 8, 8, 0, 1, 1, 6, 3, 10, 5, 5, 0, 10, 3, 2, 10, 7, 8, 4, 3, 3, 8, 1, 4, 3, 4, 6, 1, 1, 9, 1, 10, 10, 6, 6, 6, 5, 5, 8, 5, 8, 1, 3, 1, 5, 3, 1, 8, 6, 8, 9, 1, 3, 1, 1, 1, 5, 5, 1, 8, 0, 5, 9, 10, 10, 7, 1, 5, 1, 8, 2, 7, 5, 1, 10, 6, 10, 8, 3, 9, 10, 4, 7, 7, 0, 3, 7, 6, 0, 8, 0, 0, 4, 3, 7, 6, 5, 1, 7, 9, 6, 7, 4, 0, 10, 10, 7, 9, 4, 1, 9, 0, 10, 3, 3, 9, 4, 7, 4, 7, 2, 10, 2, 4, 10, 10, 1, 0, 10, 5, 4, 7, 8, 9, 10, 4, 2, 3, 10, 5, 8, 0, 7, 0, 10, 7, 6, 8, 0, 8, 1, 2, 6, 3, 5, 3, 9, 10, 4, 8, 1, 2, 3, 2, 0, 9, 9, 8, 3, 3, 5, 9, 4, 1, 6, 1, 4, 5, 9, 9, 3, 9, 5, 6, 2, 5, 4, 5, 2, 10, 8, 4, 7, 3, 0, 6, 7, 0, 5, 7, 1, 0, 1, 6, 3, 7, 7, 2, 10, 4, 3, 10, 9, 4, 3, 3, 1, 7, 8, 5, 2, 4, 10, 1, 1, 2, 3, 10, 6, 9, 5, 1, 3, 10, 7, 1, 5, 1, 8, 1, 5, 7, 3, 10, 3, 5, 2, 2, 7, 1, 9, 7, 1, 8, 8, 10, 2, 4, 2, 5, 5, 3, 8, 0, 8, 6, 1, 1, 2, 7, 3, 2, 4, 10, 8, 6, 6, 0, 2, 7, 10, 1, 7, 6, 4, 2, 5, 2, 0, 9, 4, 3, 9, 6, 7, 9, 1, 8, 8, 5, 2, 9, 4, 1, 1, 8, 4, 7, 1, 8, 7, 2, 5, 0, 4, 10, 5, 0, 5, 7, 3, 6, 4, 6, 4, 9, 5, 1, 8, 3, 7, 8, 4, 4, 6, 10, 8, 9, 8, 5, 6, 7, 4, 8, 5, 0, 9, 10, 5, 0, 3, 7, 3, 1, 8, 2, 2, 4, 4, 9, 3, 7, 1, 7, 9, 4, 0, 0, 5, 6, 7, 9, 7, 7, 8, 9, 1, 10, 10, 5, 5, 7, 3, 3, 5, 10, 4, 7, 2, 3, 1, 1, 0, 5, 4, 1, 2, 0, 1, 8, 8, 4, 8, 3, 8, 0, 3, 2, 2, 3, 7, 10, 10, 4, 10, 6, 6, 5, 0, 9, 8, 2, 1, 9, 4, 5, 9, 9, 1, 3, 5, 7, 9, 10, 1, 8, 1, 6, 3, 4, 2, 4, 10, 1, 1, 2, 8, 2, 4, 8, 2, 0, 9, 9, 0, 7, 6, 4, 3, 0, 2, 1, 6, 9, 3, 7, 2, 4, 10, 0, 1, 3, 9, 6, 3, 4, 6, 3, 1, 5, 0, 1, 7, 10, 4, 10, 2, 5, 5, 7, 5, 3, 4, 5, 0, 4, 5, 4, 4, 5, 9, 7, 7, 2, 1, 2, 5, 3, 2, 9, 1, 8, 9, 1, 8, 8, 2, 0, 9, 7, 6, 1, 6, 9, 0, 10, 8, 8, 5, 1, 7, 3, 2, 7, 9, 6, 7, 8, 9, 0, 8, 2, 7, 5, 2, 10, 8, 7, 9, 6, 8, 6, 6, 9, 7, 9, 7, 1, 4, 9, 3, 3, 7, 4, 1, 7, 5, 4, 0, 7, 8, 0, 7, 4, 5, 5, 4, 8, 6, 6, 1, 5, 8, 0, 1, 4, 7, 1, 9, 4, 6, 9, 10, 7, 1, 0, 3, 9, 1, 4, 3, 8, 7, 8, 9, 9, 4, 0, 2, 3, 7, 8, 6, 8, 1, 7, 4, 0, 2, 0, 8, 6, 7], 'real_labels': [7, 4, 1, 10, 7, 1, 8, 8, 0, 8, 4, 7, 1, 9, 3, 0, 9, 6, 4, 9, 8, 10, 1, 4, 6, 8, 8, 6, 6, 8, 2, 1, 1, 9, 6, 3, 10, 5, 5, 0, 10, 3, 2, 10, 7, 8, 4, 3, 3, 8, 9, 4, 3, 4, 6, 1, 1, 9, 1, 10, 10, 6, 1, 6, 5, 5, 8, 5, 8, 1, 3, 1, 1, 3, 1, 8, 6, 8, 9, 2, 3, 1, 3, 1, 5, 5, 1, 8, 0, 4, 9, 10, 10, 7, 1, 5, 1, 8, 2, 7, 5, 1, 10, 6, 10, 8, 3, 9, 10, 4, 7, 1, 0, 3, 7, 6, 0, 8, 0, 0, 4, 8, 7, 6, 5, 1, 7, 9, 6, 7, 4, 0, 10, 10, 7, 9, 4, 1, 9, 0, 10, 3, 3, 9, 4, 7, 4, 7, 2, 10, 2, 4, 10, 10, 1, 0, 10, 5, 4, 7, 8, 9, 10, 4, 2, 3, 10, 5, 8, 0, 9, 0, 10, 7, 6, 8, 0, 8, 1, 2, 6, 3, 5, 3, 9, 3, 4, 8, 3, 2, 0, 2, 0, 9, 9, 8, 1, 3, 5, 9, 8, 1, 6, 1, 4, 3, 4, 8, 3, 9, 5, 6, 2, 5, 4, 5, 2, 10, 8, 4, 7, 3, 0, 6, 7, 0, 5, 7, 1, 0, 1, 6, 3, 7, 7, 2, 10, 4, 3, 10, 9, 4, 3, 3, 1, 7, 8, 5, 2, 4, 10, 1, 1, 2, 3, 10, 6, 9, 5, 3, 3, 10, 7, 1, 5, 1, 8, 1, 8, 7, 3, 10, 3, 5, 2, 2, 7, 3, 9, 7, 6, 8, 8, 10, 2, 4, 2, 5, 5, 3, 8, 0, 8, 6, 0, 1, 2, 7, 3, 2, 4, 10, 8, 6, 6, 0, 2, 7, 10, 1, 7, 6, 9, 2, 5, 2, 0, 9, 4, 3, 2, 6, 7, 9, 1, 8, 8, 5, 2, 9, 4, 1, 1, 8, 4, 7, 1, 2, 7, 2, 5, 0, 7, 10, 5, 0, 5, 7, 3, 6, 4, 6, 4, 9, 5, 1, 8, 3, 7, 7, 4, 4, 6, 10, 8, 9, 8, 5, 6, 7, 4, 0, 5, 0, 9, 10, 5, 0, 3, 7, 3, 1, 8, 2, 2, 4, 4, 9, 3, 7, 9, 9, 9, 4, 0, 0, 5, 6, 9, 9, 7, 7, 6, 9, 1, 10, 10, 5, 5, 7, 3, 3, 5, 10, 9, 7, 2, 3, 1, 1, 0, 5, 4, 1, 2, 0, 1, 8, 8, 4, 8, 3, 8, 0, 3, 2, 2, 3, 7, 10, 10, 4, 10, 6, 6, 5, 0, 9, 8, 2, 1, 9, 9, 5, 9, 9, 1, 3, 5, 7, 9, 10, 1, 8, 1, 6, 3, 8, 2, 4, 10, 1, 1, 2, 8, 2, 4, 8, 2, 5, 9, 9, 0, 7, 6, 9, 2, 0, 2, 8, 6, 9, 3, 7, 2, 4, 3, 0, 1, 3, 9, 6, 3, 4, 6, 3, 3, 5, 0, 1, 7, 10, 4, 10, 2, 5, 5, 7, 5, 1, 4, 5, 0, 4, 5, 4, 9, 5, 9, 7, 7, 2, 0, 2, 4, 3, 2, 9, 1, 8, 9, 1, 8, 8, 2, 0, 9, 7, 6, 9, 6, 9, 0, 10, 8, 8, 4, 1, 7, 3, 2, 7, 9, 6, 7, 8, 9, 0, 8, 2, 10, 5, 2, 10, 8, 7, 9, 6, 8, 6, 6, 4, 7, 9, 7, 8, 4, 9, 3, 3, 7, 4, 1, 7, 5, 4, 0, 7, 8, 0, 7, 4, 5, 5, 4, 8, 6, 6, 1, 5, 3, 0, 1, 4, 7, 1, 9, 4, 6, 6, 10, 7, 1, 0, 3, 9, 1, 4, 3, 10, 7, 8, 9, 9, 4, 0, 2, 3, 7, 8, 6, 8, 1, 7, 4, 0, 2, 0, 8, 6, 7], 'label_to_index': {'down': 0, 'go': 1, 'left': 2, 'no': 3, 'off': 4, 'on': 5, 'right': 6, 'stop': 7, 'unknown': 8, 'up': 9, 'yes': 10}}\n",
      "Test Loss: 0.32552744941619877, Test Accuracy: 0.9062980030721967\n"
     ]
    },
    {
     "name": "stderr",
     "output_type": "stream",
     "text": [
      "Some weights of the model checkpoint at superb/wav2vec2-base-superb-ks were not used when initializing Wav2Vec2ForSequenceClassification: ['wav2vec2.encoder.pos_conv_embed.conv.weight_g', 'wav2vec2.encoder.pos_conv_embed.conv.weight_v']\n",
      "- This IS expected if you are initializing Wav2Vec2ForSequenceClassification from the checkpoint of a model trained on another task or with another architecture (e.g. initializing a BertForSequenceClassification model from a BertForPreTraining model).\n",
      "- This IS NOT expected if you are initializing Wav2Vec2ForSequenceClassification from the checkpoint of a model that you expect to be exactly identical (initializing a BertForSequenceClassification model from a BertForSequenceClassification model).\n",
      "Some weights of Wav2Vec2ForSequenceClassification were not initialized from the model checkpoint at superb/wav2vec2-base-superb-ks and are newly initialized: ['wav2vec2.encoder.pos_conv_embed.conv.parametrizations.weight.original0', 'wav2vec2.encoder.pos_conv_embed.conv.parametrizations.weight.original1']\n",
      "You should probably TRAIN this model on a down-stream task to be able to use it for predictions and inference.\n"
     ]
    },
    {
     "data": {
      "application/vnd.jupyter.widget-view+json": {
       "model_id": "fc0c8645639f47deb519fbb4dbc68b4d",
       "version_major": 2,
       "version_minor": 0
      },
      "text/plain": [
       "Epoch 1/10:   0%|          | 0/6187 [00:00<?, ?it/s]"
      ]
     },
     "metadata": {},
     "output_type": "display_data"
    },
    {
     "name": "stdout",
     "output_type": "stream",
     "text": [
      "Epoch 1/10, Train Loss: 2.4099894946431117\n"
     ]
    },
    {
     "data": {
      "application/vnd.jupyter.widget-view+json": {
       "model_id": "554aff70b6b8426db869e8e728134281",
       "version_major": 2,
       "version_minor": 0
      },
      "text/plain": [
       "Validation:   0%|          | 0/163 [00:00<?, ?it/s]"
      ]
     },
     "metadata": {},
     "output_type": "display_data"
    },
    {
     "name": "stdout",
     "output_type": "stream",
     "text": [
      "Epoch 1/10, Validation Loss: 2.3976554885232377, Validation Accuracy: 0.08602150537634409\n"
     ]
    },
    {
     "data": {
      "application/vnd.jupyter.widget-view+json": {
       "model_id": "72d1326be5c04327b2ffb1d0c3ad5d77",
       "version_major": 2,
       "version_minor": 0
      },
      "text/plain": [
       "Epoch 2/10:   0%|          | 0/6187 [00:00<?, ?it/s]"
      ]
     },
     "metadata": {},
     "output_type": "display_data"
    },
    {
     "name": "stdout",
     "output_type": "stream",
     "text": [
      "Epoch 2/10, Train Loss: 2.4050514845619184\n"
     ]
    },
    {
     "data": {
      "application/vnd.jupyter.widget-view+json": {
       "model_id": "5d4695362bd94b34b68c13c21ef81fd6",
       "version_major": 2,
       "version_minor": 0
      },
      "text/plain": [
       "Validation:   0%|          | 0/163 [00:00<?, ?it/s]"
      ]
     },
     "metadata": {},
     "output_type": "display_data"
    },
    {
     "name": "stdout",
     "output_type": "stream",
     "text": [
      "Epoch 2/10, Validation Loss: 2.4005429349793976, Validation Accuracy: 0.0967741935483871\n"
     ]
    },
    {
     "data": {
      "application/vnd.jupyter.widget-view+json": {
       "model_id": "b50c90256ec5433588c5ebe465a504d3",
       "version_major": 2,
       "version_minor": 0
      },
      "text/plain": [
       "Epoch 3/10:   0%|          | 0/6187 [00:00<?, ?it/s]"
      ]
     },
     "metadata": {},
     "output_type": "display_data"
    },
    {
     "name": "stdout",
     "output_type": "stream",
     "text": [
      "Epoch 3/10, Train Loss: 2.4022589420412936\n"
     ]
    },
    {
     "data": {
      "application/vnd.jupyter.widget-view+json": {
       "model_id": "140c1f1a7c6a44fa984ded115356b821",
       "version_major": 2,
       "version_minor": 0
      },
      "text/plain": [
       "Validation:   0%|          | 0/163 [00:00<?, ?it/s]"
      ]
     },
     "metadata": {},
     "output_type": "display_data"
    },
    {
     "name": "stdout",
     "output_type": "stream",
     "text": [
      "Epoch 3/10, Validation Loss: 2.3949977532486244, Validation Accuracy: 0.0967741935483871\n"
     ]
    },
    {
     "data": {
      "application/vnd.jupyter.widget-view+json": {
       "model_id": "fcff01f08b3848e0b2da7b5dbe54cca2",
       "version_major": 2,
       "version_minor": 0
      },
      "text/plain": [
       "Epoch 4/10:   0%|          | 0/6187 [00:00<?, ?it/s]"
      ]
     },
     "metadata": {},
     "output_type": "display_data"
    },
    {
     "name": "stdout",
     "output_type": "stream",
     "text": [
      "Epoch 4/10, Train Loss: 2.4015701182809193\n"
     ]
    },
    {
     "data": {
      "application/vnd.jupyter.widget-view+json": {
       "model_id": "5c1f7f0649214b32a910fd6ed1d8a37a",
       "version_major": 2,
       "version_minor": 0
      },
      "text/plain": [
       "Validation:   0%|          | 0/163 [00:00<?, ?it/s]"
      ]
     },
     "metadata": {},
     "output_type": "display_data"
    },
    {
     "name": "stdout",
     "output_type": "stream",
     "text": [
      "Epoch 4/10, Validation Loss: 2.395003441652637, Validation Accuracy: 0.08602150537634409\n"
     ]
    },
    {
     "data": {
      "application/vnd.jupyter.widget-view+json": {
       "model_id": "33f9c48b99474d508adf6e848972d9ac",
       "version_major": 2,
       "version_minor": 0
      },
      "text/plain": [
       "Epoch 5/10:   0%|          | 0/6187 [00:00<?, ?it/s]"
      ]
     },
     "metadata": {},
     "output_type": "display_data"
    },
    {
     "name": "stdout",
     "output_type": "stream",
     "text": [
      "Epoch 5/10, Train Loss: 2.1681192509380818\n"
     ]
    },
    {
     "data": {
      "application/vnd.jupyter.widget-view+json": {
       "model_id": "8e4660d12be24532ace528623c825886",
       "version_major": 2,
       "version_minor": 0
      },
      "text/plain": [
       "Validation:   0%|          | 0/163 [00:00<?, ?it/s]"
      ]
     },
     "metadata": {},
     "output_type": "display_data"
    },
    {
     "name": "stdout",
     "output_type": "stream",
     "text": [
      "Epoch 5/10, Validation Loss: 1.6812306382904756, Validation Accuracy: 0.38402457757296465\n"
     ]
    },
    {
     "data": {
      "application/vnd.jupyter.widget-view+json": {
       "model_id": "cdd8ef4e70c74529827518169b3bb1ac",
       "version_major": 2,
       "version_minor": 0
      },
      "text/plain": [
       "Epoch 6/10:   0%|          | 0/6187 [00:00<?, ?it/s]"
      ]
     },
     "metadata": {},
     "output_type": "display_data"
    },
    {
     "name": "stdout",
     "output_type": "stream",
     "text": [
      "Epoch 6/10, Train Loss: 1.2598132992743438\n"
     ]
    },
    {
     "data": {
      "application/vnd.jupyter.widget-view+json": {
       "model_id": "86e88239a1c3456aba523a05455f4c8a",
       "version_major": 2,
       "version_minor": 0
      },
      "text/plain": [
       "Validation:   0%|          | 0/163 [00:00<?, ?it/s]"
      ]
     },
     "metadata": {},
     "output_type": "display_data"
    },
    {
     "name": "stdout",
     "output_type": "stream",
     "text": [
      "Epoch 6/10, Validation Loss: 0.758518923388257, Validation Accuracy: 0.7219662058371735\n"
     ]
    },
    {
     "data": {
      "application/vnd.jupyter.widget-view+json": {
       "model_id": "6344b1992a0045b8a6b73666f5ee3343",
       "version_major": 2,
       "version_minor": 0
      },
      "text/plain": [
       "Epoch 7/10:   0%|          | 0/6187 [00:00<?, ?it/s]"
      ]
     },
     "metadata": {},
     "output_type": "display_data"
    },
    {
     "name": "stdout",
     "output_type": "stream",
     "text": [
      "Epoch 7/10, Train Loss: 0.5872470732730876\n"
     ]
    },
    {
     "data": {
      "application/vnd.jupyter.widget-view+json": {
       "model_id": "0006b840924e4f4ebbd10e075d341069",
       "version_major": 2,
       "version_minor": 0
      },
      "text/plain": [
       "Validation:   0%|          | 0/163 [00:00<?, ?it/s]"
      ]
     },
     "metadata": {},
     "output_type": "display_data"
    },
    {
     "name": "stdout",
     "output_type": "stream",
     "text": [
      "Epoch 7/10, Validation Loss: 0.4244121987904005, Validation Accuracy: 0.8556067588325653\n"
     ]
    },
    {
     "data": {
      "application/vnd.jupyter.widget-view+json": {
       "model_id": "0808d6503f1141a4b5962d7d874f1ad9",
       "version_major": 2,
       "version_minor": 0
      },
      "text/plain": [
       "Epoch 8/10:   0%|          | 0/6187 [00:00<?, ?it/s]"
      ]
     },
     "metadata": {},
     "output_type": "display_data"
    },
    {
     "name": "stdout",
     "output_type": "stream",
     "text": [
      "Epoch 8/10, Train Loss: 0.40033354738161825\n"
     ]
    },
    {
     "data": {
      "application/vnd.jupyter.widget-view+json": {
       "model_id": "39cdc09933254769bd700f26a6c35a44",
       "version_major": 2,
       "version_minor": 0
      },
      "text/plain": [
       "Validation:   0%|          | 0/163 [00:00<?, ?it/s]"
      ]
     },
     "metadata": {},
     "output_type": "display_data"
    },
    {
     "name": "stdout",
     "output_type": "stream",
     "text": [
      "Epoch 8/10, Validation Loss: 0.29467113141936074, Validation Accuracy: 0.9032258064516129\n"
     ]
    },
    {
     "data": {
      "application/vnd.jupyter.widget-view+json": {
       "model_id": "270ab87d34414462b1ed3c4e15f11d1b",
       "version_major": 2,
       "version_minor": 0
      },
      "text/plain": [
       "Epoch 9/10:   0%|          | 0/6187 [00:00<?, ?it/s]"
      ]
     },
     "metadata": {},
     "output_type": "display_data"
    },
    {
     "name": "stdout",
     "output_type": "stream",
     "text": [
      "Epoch 9/10, Train Loss: 0.3087165848209149\n"
     ]
    },
    {
     "data": {
      "application/vnd.jupyter.widget-view+json": {
       "model_id": "9133baaa201d48dca15d8448662d2b36",
       "version_major": 2,
       "version_minor": 0
      },
      "text/plain": [
       "Validation:   0%|          | 0/163 [00:00<?, ?it/s]"
      ]
     },
     "metadata": {},
     "output_type": "display_data"
    },
    {
     "name": "stdout",
     "output_type": "stream",
     "text": [
      "Epoch 9/10, Validation Loss: 0.31628487616805273, Validation Accuracy: 0.9047619047619048\n"
     ]
    },
    {
     "data": {
      "application/vnd.jupyter.widget-view+json": {
       "model_id": "7b93f9f2b4a84587b77cf167538e760e",
       "version_major": 2,
       "version_minor": 0
      },
      "text/plain": [
       "Epoch 10/10:   0%|          | 0/6187 [00:00<?, ?it/s]"
      ]
     },
     "metadata": {},
     "output_type": "display_data"
    },
    {
     "name": "stdout",
     "output_type": "stream",
     "text": [
      "Epoch 10/10, Train Loss: 0.256745971243431\n"
     ]
    },
    {
     "data": {
      "application/vnd.jupyter.widget-view+json": {
       "model_id": "b37fca785fe44ab886e54343a6895488",
       "version_major": 2,
       "version_minor": 0
      },
      "text/plain": [
       "Validation:   0%|          | 0/163 [00:00<?, ?it/s]"
      ]
     },
     "metadata": {},
     "output_type": "display_data"
    },
    {
     "name": "stdout",
     "output_type": "stream",
     "text": [
      "Epoch 10/10, Validation Loss: 0.285938329951112, Validation Accuracy: 0.9124423963133641\n"
     ]
    },
    {
     "data": {
      "application/vnd.jupyter.widget-view+json": {
       "model_id": "79509a165f0349498a9f00444209aacd",
       "version_major": 2,
       "version_minor": 0
      },
      "text/plain": [
       "Testing:   0%|          | 0/163 [00:00<?, ?it/s]"
      ]
     },
     "metadata": {},
     "output_type": "display_data"
    },
    {
     "name": "stdout",
     "output_type": "stream",
     "text": [
      "{'val_acc': [0.08602150537634409, 0.0967741935483871, 0.0967741935483871, 0.08602150537634409, 0.38402457757296465, 0.7219662058371735, 0.8556067588325653, 0.9032258064516129, 0.9047619047619048, 0.9124423963133641], 'val_loss': [2.3976554885232377, 2.4005429349793976, 2.3949977532486244, 2.395003441652637, 1.6812306382904756, 0.758518923388257, 0.4244121987904005, 0.29467113141936074, 0.31628487616805273, 0.285938329951112], 'train_loss': [2.4099894946431117, 2.4050514845619184, 2.4022589420412936, 2.4015701182809193, 2.1681192509380818, 1.2598132992743438, 0.5872470732730876, 0.40033354738161825, 0.3087165848209149, 0.256745971243431], 'test_correct_in_batch': [4.0, 3.0, 3.0, 3.0, 4.0, 4.0, 3.0, 2.0, 3.0, 4.0, 4.0, 4.0, 3.0, 4.0, 4.0, 3.0, 3.0, 3.0, 3.0, 4.0, 3.0, 3.0, 3.0, 4.0, 4.0, 4.0, 4.0, 3.0, 4.0, 4.0, 2.0, 4.0, 4.0, 4.0, 4.0, 4.0, 3.0, 3.0, 4.0, 4.0, 4.0, 4.0, 3.0, 4.0, 4.0, 4.0, 4.0, 4.0, 4.0, 4.0, 3.0, 1.0, 4.0, 4.0, 3.0, 4.0, 4.0, 4.0, 4.0, 3.0, 3.0, 4.0, 4.0, 4.0, 3.0, 4.0, 4.0, 2.0, 3.0, 3.0, 2.0, 4.0, 3.0, 4.0, 4.0, 4.0, 4.0, 4.0, 4.0, 4.0, 3.0, 3.0, 4.0, 3.0, 4.0, 3.0, 4.0, 4.0, 4.0, 3.0, 4.0, 4.0, 2.0, 4.0, 4.0, 4.0, 4.0, 2.0, 4.0, 4.0, 3.0, 4.0, 4.0, 3.0, 4.0, 3.0, 4.0, 4.0, 4.0, 4.0, 4.0, 4.0, 4.0, 4.0, 3.0, 4.0, 3.0, 4.0, 4.0, 2.0, 4.0, 3.0, 3.0, 3.0, 3.0, 4.0, 4.0, 4.0, 4.0, 4.0, 4.0, 4.0, 4.0, 3.0, 4.0, 4.0, 4.0, 3.0, 4.0, 3.0, 4.0, 3.0, 3.0, 4.0, 4.0, 3.0, 4.0, 4.0, 4.0, 4.0, 4.0, 3.0, 4.0, 4.0, 3.0, 3.0, 4.0, 4.0, 4.0, 4.0, 4.0, 4.0, 3.0], 'test_losses': [0.20935633778572083, 0.4231641888618469, 0.7376958727836609, 0.39673346281051636, 0.00561985420063138, 0.10783053189516068, 0.5132612586021423, 1.6920369863510132, 1.0808147192001343, 0.001132671837694943, 0.03255268186330795, 0.0210257675498724, 0.5350422263145447, 0.007190512493252754, 0.039602115750312805, 1.332201361656189, 0.6965184211730957, 0.4337039291858673, 1.4355970621109009, 0.07399597764015198, 0.7457683086395264, 0.36379554867744446, 0.9117753505706787, 0.12459767609834671, 0.027640219777822495, 0.017911452800035477, 0.01701018400490284, 0.5451661944389343, 0.15196189284324646, 0.004533485043793917, 1.3419476747512817, 0.059817638248205185, 0.0029770415276288986, 0.0003603599907364696, 0.007133576553314924, 0.04300835356116295, 0.360350638628006, 0.5741226673126221, 0.16240599751472473, 0.05956153944134712, 0.04401974752545357, 0.03462957963347435, 0.5798330307006836, 0.011316067539155483, 0.02965669520199299, 0.022237753495573997, 0.10825838893651962, 0.012148156762123108, 0.03258983790874481, 0.2326589971780777, 0.8874285221099854, 2.660810947418213, 0.0973564088344574, 0.13061757385730743, 0.37321391701698303, 0.015021413564682007, 0.02320711314678192, 0.008678190410137177, 0.04015948623418808, 0.3054901957511902, 0.5803149938583374, 0.004518118686974049, 0.3416619896888733, 0.03208690881729126, 0.46887192130088806, 0.10067300498485565, 0.0019257240928709507, 1.0612022876739502, 0.9147963523864746, 0.6838988661766052, 1.638522982597351, 0.03145395591855049, 0.929793655872345, 0.11518168449401855, 0.011229357682168484, 0.06049742549657822, 0.04267941787838936, 0.002238222397863865, 0.15437136590480804, 0.028124187141656876, 0.7150245308876038, 0.33765891194343567, 0.06990022212266922, 0.28578996658325195, 0.05475930869579315, 0.651970624923706, 0.0012284741969779134, 0.035114727914333344, 0.1039043515920639, 0.38410142064094543, 0.029465870931744576, 0.009337218478322029, 0.45062801241874695, 0.035682305693626404, 0.07829809933900833, 0.013252992182970047, 0.2032511830329895, 1.5413575172424316, 0.20021940767765045, 0.03880995884537697, 0.5319367051124573, 0.008780388161540031, 0.033782679587602615, 0.9027333855628967, 0.07505913078784943, 1.375230073928833, 0.017470328137278557, 0.04814702644944191, 0.008113989606499672, 0.0005420356756076217, 0.031095854938030243, 0.19933296740055084, 0.013628855347633362, 0.02622564509510994, 0.28598639369010925, 0.0035304410848766565, 0.5860080122947693, 0.008071000687777996, 0.06788251549005508, 0.9902266263961792, 0.05782115459442139, 0.7082386612892151, 0.4897477328777313, 0.865990936756134, 0.6421007513999939, 0.21748051047325134, 0.20278707146644592, 0.0181423332542181, 0.20577314496040344, 0.12048551440238953, 0.12349216639995575, 0.10145324468612671, 0.004198708105832338, 0.7269212603569031, 0.11453953385353088, 0.014270685613155365, 0.0024770651943981647, 0.6243988871574402, 0.10178951919078827, 0.7517041563987732, 0.01579027809202671, 0.7346727252006531, 0.5186894536018372, 0.04951665550470352, 0.0035787324886769056, 0.6116861701011658, 0.15213248133659363, 0.12107595801353455, 0.09802282601594925, 0.0012750207679346204, 0.03706253692507744, 0.294793039560318, 0.16661134362220764, 0.0681857094168663, 1.2312763929367065, 0.2710801064968109, 0.01686478964984417, 0.07661046087741852, 0.09456554055213928, 0.04247035086154938, 0.0014701910549774766, 0.08362999558448792, 0.03195890411734581], 'test_loss': 0.3031942825076996, 'test_batch_lens': [4, 4, 4, 4, 4, 4, 4, 4, 4, 4, 4, 4, 4, 4, 4, 4, 4, 4, 4, 4, 4, 4, 4, 4, 4, 4, 4, 4, 4, 4, 4, 4, 4, 4, 4, 4, 4, 4, 4, 4, 4, 4, 4, 4, 4, 4, 4, 4, 4, 4, 4, 4, 4, 4, 4, 4, 4, 4, 4, 4, 4, 4, 4, 4, 4, 4, 4, 4, 4, 4, 4, 4, 4, 4, 4, 4, 4, 4, 4, 4, 4, 4, 4, 4, 4, 4, 4, 4, 4, 4, 4, 4, 4, 4, 4, 4, 4, 4, 4, 4, 4, 4, 4, 4, 4, 4, 4, 4, 4, 4, 4, 4, 4, 4, 4, 4, 4, 4, 4, 4, 4, 4, 4, 4, 4, 4, 4, 4, 4, 4, 4, 4, 4, 4, 4, 4, 4, 4, 4, 4, 4, 4, 4, 4, 4, 4, 4, 4, 4, 4, 4, 4, 4, 4, 4, 4, 4, 4, 4, 4, 4, 4, 3], 'test_accuracy': 0.9001536098310292, 'predictions': [7, 4, 1, 10, 7, 0, 8, 8, 0, 0, 4, 7, 1, 9, 8, 0, 9, 6, 4, 9, 8, 10, 1, 4, 6, 1, 8, 6, 6, 8, 8, 0, 1, 0, 6, 3, 10, 5, 5, 0, 10, 3, 2, 10, 7, 8, 4, 3, 8, 8, 9, 4, 3, 4, 6, 1, 1, 9, 1, 10, 10, 6, 9, 6, 5, 10, 8, 5, 8, 0, 3, 1, 6, 3, 1, 8, 6, 8, 9, 2, 3, 1, 1, 1, 5, 5, 1, 0, 0, 8, 9, 10, 10, 7, 1, 5, 1, 8, 2, 7, 5, 1, 10, 6, 10, 8, 3, 9, 10, 4, 7, 4, 0, 3, 7, 6, 0, 8, 0, 0, 9, 0, 7, 6, 5, 1, 7, 9, 6, 7, 4, 0, 10, 10, 7, 9, 4, 1, 9, 0, 10, 3, 3, 9, 4, 7, 9, 7, 2, 10, 8, 4, 10, 10, 1, 0, 10, 5, 4, 7, 8, 9, 10, 4, 2, 3, 10, 5, 8, 0, 4, 0, 10, 7, 6, 8, 0, 8, 1, 2, 6, 3, 5, 3, 9, 3, 4, 8, 3, 2, 0, 2, 0, 9, 9, 8, 1, 3, 5, 9, 7, 1, 6, 1, 4, 5, 9, 6, 3, 9, 5, 6, 2, 5, 4, 5, 10, 10, 8, 4, 7, 3, 0, 6, 7, 0, 5, 7, 1, 0, 1, 6, 3, 7, 7, 2, 10, 9, 3, 10, 9, 9, 3, 3, 1, 7, 8, 5, 2, 4, 10, 1, 1, 2, 3, 10, 6, 9, 5, 1, 3, 10, 7, 1, 5, 1, 8, 1, 0, 7, 0, 10, 3, 5, 3, 2, 7, 1, 9, 7, 0, 8, 0, 10, 2, 4, 2, 5, 5, 3, 5, 0, 8, 6, 0, 1, 2, 7, 3, 2, 4, 10, 8, 6, 6, 0, 2, 7, 10, 1, 7, 6, 9, 2, 5, 2, 0, 9, 4, 3, 9, 6, 7, 9, 8, 8, 8, 5, 2, 9, 4, 1, 1, 8, 8, 7, 1, 2, 7, 2, 5, 0, 9, 10, 5, 0, 5, 7, 3, 6, 4, 6, 4, 9, 5, 1, 5, 3, 7, 7, 4, 4, 6, 10, 8, 9, 8, 5, 8, 9, 4, 0, 5, 0, 9, 10, 5, 0, 3, 7, 3, 1, 8, 2, 2, 4, 4, 9, 3, 7, 5, 0, 9, 4, 0, 0, 5, 6, 9, 9, 7, 7, 1, 9, 1, 10, 10, 5, 5, 7, 3, 3, 5, 10, 4, 7, 2, 3, 1, 1, 0, 5, 4, 0, 2, 0, 1, 8, 8, 4, 8, 3, 8, 0, 3, 2, 2, 3, 7, 10, 10, 4, 10, 6, 6, 5, 0, 9, 8, 2, 1, 9, 9, 5, 9, 9, 0, 3, 5, 7, 9, 10, 1, 8, 1, 6, 0, 8, 2, 4, 10, 1, 1, 2, 8, 2, 4, 0, 2, 0, 9, 9, 0, 7, 6, 9, 10, 0, 2, 10, 6, 9, 0, 7, 2, 4, 2, 0, 1, 3, 9, 6, 3, 4, 6, 3, 3, 5, 0, 1, 7, 10, 4, 10, 2, 5, 5, 7, 5, 1, 4, 5, 0, 4, 5, 4, 9, 5, 9, 7, 7, 2, 0, 2, 5, 3, 2, 9, 1, 8, 9, 1, 8, 8, 2, 0, 9, 7, 6, 7, 6, 9, 0, 10, 8, 8, 9, 1, 7, 3, 2, 7, 9, 6, 8, 8, 9, 0, 8, 2, 9, 5, 2, 10, 8, 7, 9, 6, 8, 6, 6, 0, 7, 9, 7, 8, 4, 9, 3, 3, 7, 4, 1, 7, 5, 4, 0, 7, 8, 0, 7, 4, 5, 5, 4, 6, 6, 6, 1, 5, 3, 0, 1, 4, 7, 1, 9, 8, 6, 6, 10, 7, 8, 0, 3, 9, 1, 4, 3, 10, 7, 8, 9, 9, 4, 0, 2, 3, 7, 8, 6, 8, 1, 7, 4, 0, 2, 0, 8, 6, 7], 'real_labels': [7, 4, 1, 10, 7, 1, 8, 8, 0, 8, 4, 7, 1, 9, 3, 0, 9, 6, 4, 9, 8, 10, 1, 4, 6, 8, 8, 6, 6, 8, 2, 1, 1, 9, 6, 3, 10, 5, 5, 0, 10, 3, 2, 10, 7, 8, 4, 3, 3, 8, 9, 4, 3, 4, 6, 1, 1, 9, 1, 10, 10, 6, 1, 6, 5, 5, 8, 5, 8, 1, 3, 1, 1, 3, 1, 8, 6, 8, 9, 2, 3, 1, 3, 1, 5, 5, 1, 8, 0, 4, 9, 10, 10, 7, 1, 5, 1, 8, 2, 7, 5, 1, 10, 6, 10, 8, 3, 9, 10, 4, 7, 1, 0, 3, 7, 6, 0, 8, 0, 0, 4, 8, 7, 6, 5, 1, 7, 9, 6, 7, 4, 0, 10, 10, 7, 9, 4, 1, 9, 0, 10, 3, 3, 9, 4, 7, 4, 7, 2, 10, 2, 4, 10, 10, 1, 0, 10, 5, 4, 7, 8, 9, 10, 4, 2, 3, 10, 5, 8, 0, 9, 0, 10, 7, 6, 8, 0, 8, 1, 2, 6, 3, 5, 3, 9, 3, 4, 8, 3, 2, 0, 2, 0, 9, 9, 8, 1, 3, 5, 9, 8, 1, 6, 1, 4, 3, 4, 8, 3, 9, 5, 6, 2, 5, 4, 5, 2, 10, 8, 4, 7, 3, 0, 6, 7, 0, 5, 7, 1, 0, 1, 6, 3, 7, 7, 2, 10, 4, 3, 10, 9, 4, 3, 3, 1, 7, 8, 5, 2, 4, 10, 1, 1, 2, 3, 10, 6, 9, 5, 3, 3, 10, 7, 1, 5, 1, 8, 1, 8, 7, 3, 10, 3, 5, 2, 2, 7, 3, 9, 7, 6, 8, 8, 10, 2, 4, 2, 5, 5, 3, 8, 0, 8, 6, 0, 1, 2, 7, 3, 2, 4, 10, 8, 6, 6, 0, 2, 7, 10, 1, 7, 6, 9, 2, 5, 2, 0, 9, 4, 3, 2, 6, 7, 9, 1, 8, 8, 5, 2, 9, 4, 1, 1, 8, 4, 7, 1, 2, 7, 2, 5, 0, 7, 10, 5, 0, 5, 7, 3, 6, 4, 6, 4, 9, 5, 1, 8, 3, 7, 7, 4, 4, 6, 10, 8, 9, 8, 5, 6, 7, 4, 0, 5, 0, 9, 10, 5, 0, 3, 7, 3, 1, 8, 2, 2, 4, 4, 9, 3, 7, 9, 9, 9, 4, 0, 0, 5, 6, 9, 9, 7, 7, 6, 9, 1, 10, 10, 5, 5, 7, 3, 3, 5, 10, 9, 7, 2, 3, 1, 1, 0, 5, 4, 1, 2, 0, 1, 8, 8, 4, 8, 3, 8, 0, 3, 2, 2, 3, 7, 10, 10, 4, 10, 6, 6, 5, 0, 9, 8, 2, 1, 9, 9, 5, 9, 9, 1, 3, 5, 7, 9, 10, 1, 8, 1, 6, 3, 8, 2, 4, 10, 1, 1, 2, 8, 2, 4, 8, 2, 5, 9, 9, 0, 7, 6, 9, 2, 0, 2, 8, 6, 9, 3, 7, 2, 4, 3, 0, 1, 3, 9, 6, 3, 4, 6, 3, 3, 5, 0, 1, 7, 10, 4, 10, 2, 5, 5, 7, 5, 1, 4, 5, 0, 4, 5, 4, 9, 5, 9, 7, 7, 2, 0, 2, 4, 3, 2, 9, 1, 8, 9, 1, 8, 8, 2, 0, 9, 7, 6, 9, 6, 9, 0, 10, 8, 8, 4, 1, 7, 3, 2, 7, 9, 6, 7, 8, 9, 0, 8, 2, 10, 5, 2, 10, 8, 7, 9, 6, 8, 6, 6, 4, 7, 9, 7, 8, 4, 9, 3, 3, 7, 4, 1, 7, 5, 4, 0, 7, 8, 0, 7, 4, 5, 5, 4, 8, 6, 6, 1, 5, 3, 0, 1, 4, 7, 1, 9, 4, 6, 6, 10, 7, 1, 0, 3, 9, 1, 4, 3, 10, 7, 8, 9, 9, 4, 0, 2, 3, 7, 8, 6, 8, 1, 7, 4, 0, 2, 0, 8, 6, 7], 'label_to_index': {'down': 0, 'go': 1, 'left': 2, 'no': 3, 'off': 4, 'on': 5, 'right': 6, 'stop': 7, 'unknown': 8, 'up': 9, 'yes': 10}}\n",
      "Test Loss: 0.3031942825076996, Test Accuracy: 0.9001536098310292\n"
     ]
    },
    {
     "name": "stderr",
     "output_type": "stream",
     "text": [
      "Some weights of the model checkpoint at superb/wav2vec2-base-superb-ks were not used when initializing Wav2Vec2ForSequenceClassification: ['wav2vec2.encoder.pos_conv_embed.conv.weight_g', 'wav2vec2.encoder.pos_conv_embed.conv.weight_v']\n",
      "- This IS expected if you are initializing Wav2Vec2ForSequenceClassification from the checkpoint of a model trained on another task or with another architecture (e.g. initializing a BertForSequenceClassification model from a BertForPreTraining model).\n",
      "- This IS NOT expected if you are initializing Wav2Vec2ForSequenceClassification from the checkpoint of a model that you expect to be exactly identical (initializing a BertForSequenceClassification model from a BertForSequenceClassification model).\n",
      "Some weights of Wav2Vec2ForSequenceClassification were not initialized from the model checkpoint at superb/wav2vec2-base-superb-ks and are newly initialized: ['wav2vec2.encoder.pos_conv_embed.conv.parametrizations.weight.original0', 'wav2vec2.encoder.pos_conv_embed.conv.parametrizations.weight.original1']\n",
      "You should probably TRAIN this model on a down-stream task to be able to use it for predictions and inference.\n"
     ]
    },
    {
     "data": {
      "application/vnd.jupyter.widget-view+json": {
       "model_id": "0baf6d3134924a0198840397faddbad0",
       "version_major": 2,
       "version_minor": 0
      },
      "text/plain": [
       "Epoch 1/10:   0%|          | 0/6187 [00:00<?, ?it/s]"
      ]
     },
     "metadata": {},
     "output_type": "display_data"
    },
    {
     "name": "stdout",
     "output_type": "stream",
     "text": [
      "Epoch 1/10, Train Loss: 2.4132854447180607\n"
     ]
    },
    {
     "data": {
      "application/vnd.jupyter.widget-view+json": {
       "model_id": "c09a435b9703455f8aced9a54d1df4d5",
       "version_major": 2,
       "version_minor": 0
      },
      "text/plain": [
       "Validation:   0%|          | 0/163 [00:00<?, ?it/s]"
      ]
     },
     "metadata": {},
     "output_type": "display_data"
    },
    {
     "name": "stdout",
     "output_type": "stream",
     "text": [
      "Epoch 1/10, Validation Loss: 2.401525175644576, Validation Accuracy: 0.10445468509984639\n"
     ]
    },
    {
     "data": {
      "application/vnd.jupyter.widget-view+json": {
       "model_id": "6d8b5b6154804f15a42143592bbe4aa5",
       "version_major": 2,
       "version_minor": 0
      },
      "text/plain": [
       "Epoch 2/10:   0%|          | 0/6187 [00:00<?, ?it/s]"
      ]
     },
     "metadata": {},
     "output_type": "display_data"
    },
    {
     "name": "stdout",
     "output_type": "stream",
     "text": [
      "Epoch 2/10, Train Loss: 2.402196157878409\n"
     ]
    },
    {
     "data": {
      "application/vnd.jupyter.widget-view+json": {
       "model_id": "3ab6009cd5534573a6f6d4685055e81b",
       "version_major": 2,
       "version_minor": 0
      },
      "text/plain": [
       "Validation:   0%|          | 0/163 [00:00<?, ?it/s]"
      ]
     },
     "metadata": {},
     "output_type": "display_data"
    },
    {
     "name": "stdout",
     "output_type": "stream",
     "text": [
      "Epoch 2/10, Validation Loss: 2.3987717014148924, Validation Accuracy: 0.08602150537634409\n"
     ]
    },
    {
     "data": {
      "application/vnd.jupyter.widget-view+json": {
       "model_id": "d696f7d64bfc4cc19f5747588914ff9c",
       "version_major": 2,
       "version_minor": 0
      },
      "text/plain": [
       "Epoch 3/10:   0%|          | 0/6187 [00:00<?, ?it/s]"
      ]
     },
     "metadata": {},
     "output_type": "display_data"
    },
    {
     "name": "stdout",
     "output_type": "stream",
     "text": [
      "Epoch 3/10, Train Loss: 2.40173851990904\n"
     ]
    },
    {
     "data": {
      "application/vnd.jupyter.widget-view+json": {
       "model_id": "f67aca31a1b342b9b215ff8cba425348",
       "version_major": 2,
       "version_minor": 0
      },
      "text/plain": [
       "Validation:   0%|          | 0/163 [00:00<?, ?it/s]"
      ]
     },
     "metadata": {},
     "output_type": "display_data"
    },
    {
     "name": "stdout",
     "output_type": "stream",
     "text": [
      "Epoch 3/10, Validation Loss: 2.400514080480564, Validation Accuracy: 0.0967741935483871\n"
     ]
    },
    {
     "data": {
      "application/vnd.jupyter.widget-view+json": {
       "model_id": "6d22d0bb9b8641fead7a166c7bc461ba",
       "version_major": 2,
       "version_minor": 0
      },
      "text/plain": [
       "Epoch 4/10:   0%|          | 0/6187 [00:00<?, ?it/s]"
      ]
     },
     "metadata": {},
     "output_type": "display_data"
    },
    {
     "name": "stdout",
     "output_type": "stream",
     "text": [
      "Epoch 4/10, Train Loss: 2.4038532324940936\n"
     ]
    },
    {
     "data": {
      "application/vnd.jupyter.widget-view+json": {
       "model_id": "734fea9dc9dd4be08ffc806428ef2ba2",
       "version_major": 2,
       "version_minor": 0
      },
      "text/plain": [
       "Validation:   0%|          | 0/163 [00:00<?, ?it/s]"
      ]
     },
     "metadata": {},
     "output_type": "display_data"
    },
    {
     "name": "stdout",
     "output_type": "stream",
     "text": [
      "Epoch 4/10, Validation Loss: 2.402391616552154, Validation Accuracy: 0.08602150537634409\n"
     ]
    },
    {
     "data": {
      "application/vnd.jupyter.widget-view+json": {
       "model_id": "2b5fbe710fb54184acb9e3500b01af82",
       "version_major": 2,
       "version_minor": 0
      },
      "text/plain": [
       "Epoch 5/10:   0%|          | 0/6187 [00:00<?, ?it/s]"
      ]
     },
     "metadata": {},
     "output_type": "display_data"
    },
    {
     "name": "stdout",
     "output_type": "stream",
     "text": [
      "Epoch 5/10, Train Loss: 2.189113529766629\n"
     ]
    },
    {
     "data": {
      "application/vnd.jupyter.widget-view+json": {
       "model_id": "ad810126d098439aa46d0add4c8fd456",
       "version_major": 2,
       "version_minor": 0
      },
      "text/plain": [
       "Validation:   0%|          | 0/163 [00:00<?, ?it/s]"
      ]
     },
     "metadata": {},
     "output_type": "display_data"
    },
    {
     "name": "stdout",
     "output_type": "stream",
     "text": [
      "Epoch 5/10, Validation Loss: 1.8382633646573026, Validation Accuracy: 0.31490015360983103\n"
     ]
    },
    {
     "data": {
      "application/vnd.jupyter.widget-view+json": {
       "model_id": "84a0abf4f7944d9485ebe99cf41d2240",
       "version_major": 2,
       "version_minor": 0
      },
      "text/plain": [
       "Epoch 6/10:   0%|          | 0/6187 [00:00<?, ?it/s]"
      ]
     },
     "metadata": {},
     "output_type": "display_data"
    },
    {
     "name": "stdout",
     "output_type": "stream",
     "text": [
      "Epoch 6/10, Train Loss: 1.4973321123051975\n"
     ]
    },
    {
     "data": {
      "application/vnd.jupyter.widget-view+json": {
       "model_id": "645828c825494439863063126cc4abef",
       "version_major": 2,
       "version_minor": 0
      },
      "text/plain": [
       "Validation:   0%|          | 0/163 [00:00<?, ?it/s]"
      ]
     },
     "metadata": {},
     "output_type": "display_data"
    },
    {
     "name": "stdout",
     "output_type": "stream",
     "text": [
      "Epoch 6/10, Validation Loss: 1.2026050432236648, Validation Accuracy: 0.5791090629800307\n"
     ]
    },
    {
     "data": {
      "application/vnd.jupyter.widget-view+json": {
       "model_id": "7df4c3c94a24444f8b41b8330bfe991a",
       "version_major": 2,
       "version_minor": 0
      },
      "text/plain": [
       "Epoch 7/10:   0%|          | 0/6187 [00:00<?, ?it/s]"
      ]
     },
     "metadata": {},
     "output_type": "display_data"
    },
    {
     "name": "stdout",
     "output_type": "stream",
     "text": [
      "Epoch 7/10, Train Loss: 0.912361088623712\n"
     ]
    },
    {
     "data": {
      "application/vnd.jupyter.widget-view+json": {
       "model_id": "1d839700e6994be89a529afcae981159",
       "version_major": 2,
       "version_minor": 0
      },
      "text/plain": [
       "Validation:   0%|          | 0/163 [00:00<?, ?it/s]"
      ]
     },
     "metadata": {},
     "output_type": "display_data"
    },
    {
     "name": "stdout",
     "output_type": "stream",
     "text": [
      "Epoch 7/10, Validation Loss: 0.569672541927112, Validation Accuracy: 0.8064516129032258\n"
     ]
    },
    {
     "data": {
      "application/vnd.jupyter.widget-view+json": {
       "model_id": "b4b524e9b485499581dfdcfc6eaa7d51",
       "version_major": 2,
       "version_minor": 0
      },
      "text/plain": [
       "Epoch 8/10:   0%|          | 0/6187 [00:00<?, ?it/s]"
      ]
     },
     "metadata": {},
     "output_type": "display_data"
    },
    {
     "name": "stdout",
     "output_type": "stream",
     "text": [
      "Epoch 8/10, Train Loss: 0.5094814137650681\n"
     ]
    },
    {
     "data": {
      "application/vnd.jupyter.widget-view+json": {
       "model_id": "0e9edfd9223642f0adf07eae7b1d5498",
       "version_major": 2,
       "version_minor": 0
      },
      "text/plain": [
       "Validation:   0%|          | 0/163 [00:00<?, ?it/s]"
      ]
     },
     "metadata": {},
     "output_type": "display_data"
    },
    {
     "name": "stdout",
     "output_type": "stream",
     "text": [
      "Epoch 8/10, Validation Loss: 0.41447458096402784, Validation Accuracy: 0.8709677419354839\n"
     ]
    },
    {
     "data": {
      "application/vnd.jupyter.widget-view+json": {
       "model_id": "4b6f61d1bd144719b21a19408c418ecf",
       "version_major": 2,
       "version_minor": 0
      },
      "text/plain": [
       "Epoch 9/10:   0%|          | 0/6187 [00:00<?, ?it/s]"
      ]
     },
     "metadata": {},
     "output_type": "display_data"
    },
    {
     "name": "stdout",
     "output_type": "stream",
     "text": [
      "Epoch 9/10, Train Loss: 0.36145264959393\n"
     ]
    },
    {
     "data": {
      "application/vnd.jupyter.widget-view+json": {
       "model_id": "d3a750804e8f4c6a9a02736b31736466",
       "version_major": 2,
       "version_minor": 0
      },
      "text/plain": [
       "Validation:   0%|          | 0/163 [00:00<?, ?it/s]"
      ]
     },
     "metadata": {},
     "output_type": "display_data"
    },
    {
     "name": "stdout",
     "output_type": "stream",
     "text": [
      "Epoch 9/10, Validation Loss: 0.38037395491230835, Validation Accuracy: 0.8771121351766513\n"
     ]
    },
    {
     "data": {
      "application/vnd.jupyter.widget-view+json": {
       "model_id": "5838255622b44b7cb98c572ef360e2ad",
       "version_major": 2,
       "version_minor": 0
      },
      "text/plain": [
       "Epoch 10/10:   0%|          | 0/6187 [00:00<?, ?it/s]"
      ]
     },
     "metadata": {},
     "output_type": "display_data"
    },
    {
     "name": "stdout",
     "output_type": "stream",
     "text": [
      "Epoch 10/10, Train Loss: 0.27837168340501106\n"
     ]
    },
    {
     "data": {
      "application/vnd.jupyter.widget-view+json": {
       "model_id": "0f2456069c404872b1b9b8d16940cb20",
       "version_major": 2,
       "version_minor": 0
      },
      "text/plain": [
       "Validation:   0%|          | 0/163 [00:00<?, ?it/s]"
      ]
     },
     "metadata": {},
     "output_type": "display_data"
    },
    {
     "name": "stdout",
     "output_type": "stream",
     "text": [
      "Epoch 10/10, Validation Loss: 0.25200833649057797, Validation Accuracy: 0.9201228878648233\n"
     ]
    },
    {
     "data": {
      "application/vnd.jupyter.widget-view+json": {
       "model_id": "76355a0bfc0049c39b4ff00ba029caaa",
       "version_major": 2,
       "version_minor": 0
      },
      "text/plain": [
       "Testing:   0%|          | 0/163 [00:00<?, ?it/s]"
      ]
     },
     "metadata": {},
     "output_type": "display_data"
    },
    {
     "name": "stdout",
     "output_type": "stream",
     "text": [
      "{'val_acc': [0.10445468509984639, 0.08602150537634409, 0.0967741935483871, 0.08602150537634409, 0.31490015360983103, 0.5791090629800307, 0.8064516129032258, 0.8709677419354839, 0.8771121351766513, 0.9201228878648233], 'val_loss': [2.401525175644576, 2.3987717014148924, 2.400514080480564, 2.402391616552154, 1.8382633646573026, 1.2026050432236648, 0.569672541927112, 0.41447458096402784, 0.38037395491230835, 0.25200833649057797], 'train_loss': [2.4132854447180607, 2.402196157878409, 2.40173851990904, 2.4038532324940936, 2.189113529766629, 1.4973321123051975, 0.912361088623712, 0.5094814137650681, 0.36145264959393, 0.27837168340501106], 'test_correct_in_batch': [4.0, 4.0, 3.0, 3.0, 4.0, 4.0, 2.0, 3.0, 3.0, 4.0, 4.0, 4.0, 2.0, 4.0, 4.0, 3.0, 3.0, 4.0, 3.0, 3.0, 4.0, 3.0, 3.0, 4.0, 4.0, 4.0, 4.0, 3.0, 4.0, 4.0, 3.0, 4.0, 4.0, 4.0, 4.0, 4.0, 4.0, 4.0, 3.0, 3.0, 3.0, 4.0, 2.0, 4.0, 3.0, 4.0, 4.0, 3.0, 3.0, 3.0, 3.0, 1.0, 4.0, 2.0, 4.0, 4.0, 4.0, 4.0, 4.0, 4.0, 4.0, 4.0, 4.0, 4.0, 2.0, 3.0, 4.0, 3.0, 4.0, 3.0, 3.0, 4.0, 4.0, 4.0, 4.0, 4.0, 4.0, 4.0, 4.0, 4.0, 4.0, 3.0, 4.0, 3.0, 4.0, 3.0, 4.0, 4.0, 4.0, 4.0, 4.0, 4.0, 3.0, 4.0, 4.0, 4.0, 4.0, 2.0, 4.0, 3.0, 3.0, 4.0, 4.0, 3.0, 4.0, 4.0, 4.0, 4.0, 4.0, 4.0, 4.0, 4.0, 4.0, 3.0, 4.0, 3.0, 3.0, 4.0, 4.0, 3.0, 4.0, 3.0, 3.0, 3.0, 3.0, 3.0, 4.0, 4.0, 3.0, 3.0, 4.0, 4.0, 4.0, 3.0, 4.0, 4.0, 4.0, 3.0, 4.0, 3.0, 4.0, 4.0, 3.0, 4.0, 4.0, 4.0, 3.0, 4.0, 4.0, 4.0, 4.0, 4.0, 4.0, 4.0, 4.0, 4.0, 4.0, 3.0, 2.0, 4.0, 4.0, 4.0, 3.0], 'test_losses': [0.08893042057752609, 0.13224278390407562, 0.6355509757995605, 0.46535608172416687, 0.0019275692757219076, 0.15714338421821594, 1.4524585008621216, 1.881695032119751, 1.3344082832336426, 0.09677744656801224, 0.02333538606762886, 0.02125728130340576, 1.0151780843734741, 0.00884899590164423, 0.015335755422711372, 1.689717173576355, 0.8418144583702087, 0.23538212478160858, 1.215351939201355, 0.4536784887313843, 0.24527454376220703, 0.25510790944099426, 0.7707070112228394, 0.159493088722229, 0.11396900564432144, 0.002380270743742585, 0.008695865981280804, 0.7034710049629211, 0.0014015015913173556, 0.0057767597027122974, 0.5577148795127869, 0.11477639526128769, 0.025250496342778206, 0.000520586094353348, 0.0028859081212431192, 0.055149372667074203, 0.019749881699681282, 0.015086567960679531, 0.5871925950050354, 0.27782920002937317, 1.1467878818511963, 0.010009084828197956, 0.9257984161376953, 0.004700855817645788, 0.4544917345046997, 0.06779401749372482, 0.09723151475191116, 0.4186617136001587, 0.41441720724105835, 0.6999605298042297, 0.9572386741638184, 2.413816213607788, 0.026468023657798767, 0.5451304316520691, 0.3276192247867584, 0.0023728664964437485, 0.0011676425347104669, 0.004055520985275507, 0.05992622300982475, 0.05221917852759361, 0.13389280438423157, 0.027831830084323883, 0.029151394963264465, 0.20843523740768433, 0.45911234617233276, 0.3060472905635834, 0.07323835045099258, 0.9724017977714539, 0.35645967721939087, 0.6052740812301636, 0.6456181406974792, 0.17778454720973969, 0.10183406621217728, 0.1467704474925995, 0.004225570242851973, 0.04312901943922043, 0.01100506167858839, 0.001258160569705069, 0.18743066489696503, 0.14909851551055908, 0.11638318002223969, 0.7067182064056396, 0.008715273812413216, 0.31855103373527527, 0.11401737481355667, 0.596437931060791, 0.0016538233030587435, 0.0175766684114933, 0.036910079419612885, 0.14090821146965027, 0.0007824833737686276, 0.030501460656523705, 1.0242693424224854, 0.1598982959985733, 0.0026388440746814013, 0.019625190645456314, 0.1354973167181015, 2.343869209289551, 0.009749703109264374, 0.3499200940132141, 1.070778250694275, 0.047026313841342926, 0.01045365072786808, 1.0560493469238281, 0.09264060109853745, 0.1863875389099121, 0.0157549399882555, 0.05733344703912735, 0.026003552600741386, 0.005468408111482859, 0.001158377854153514, 0.18680819869041443, 0.008496720343828201, 0.41011255979537964, 0.13322614133358002, 0.4003660976886749, 0.9094771146774292, 0.011002401821315289, 0.09117039293050766, 0.6822363138198853, 0.11233384162187576, 0.46293213963508606, 0.6321508288383484, 0.44511091709136963, 1.0494574308395386, 0.43993863463401794, 0.0790320485830307, 0.21954119205474854, 0.6142079830169678, 0.7519769072532654, 0.07518383115530014, 0.020530832931399345, 0.0026247825007885695, 0.8075459003448486, 0.06162683665752411, 0.05009624361991882, 0.0022107663098722696, 0.9499295353889465, 0.14313410222530365, 0.5184175372123718, 0.005579435732215643, 0.23352348804473877, 0.6999917030334473, 0.10716862976551056, 0.012731638737022877, 0.39049166440963745, 1.1086663007736206, 0.16444586217403412, 0.025165705010294914, 0.04272029921412468, 0.022012410685420036, 0.007368977181613445, 0.3173540532588959, 0.06536153703927994, 0.33971133828163147, 0.06602202355861664, 0.013749652542173862, 0.40913620591163635, 0.5564812421798706, 0.02108857035636902, 0.0024093748070299625, 0.009510865435004234, 0.25338631868362427], 'test_loss': 0.32397130460434087, 'test_batch_lens': [4, 4, 4, 4, 4, 4, 4, 4, 4, 4, 4, 4, 4, 4, 4, 4, 4, 4, 4, 4, 4, 4, 4, 4, 4, 4, 4, 4, 4, 4, 4, 4, 4, 4, 4, 4, 4, 4, 4, 4, 4, 4, 4, 4, 4, 4, 4, 4, 4, 4, 4, 4, 4, 4, 4, 4, 4, 4, 4, 4, 4, 4, 4, 4, 4, 4, 4, 4, 4, 4, 4, 4, 4, 4, 4, 4, 4, 4, 4, 4, 4, 4, 4, 4, 4, 4, 4, 4, 4, 4, 4, 4, 4, 4, 4, 4, 4, 4, 4, 4, 4, 4, 4, 4, 4, 4, 4, 4, 4, 4, 4, 4, 4, 4, 4, 4, 4, 4, 4, 4, 4, 4, 4, 4, 4, 4, 4, 4, 4, 4, 4, 4, 4, 4, 4, 4, 4, 4, 4, 4, 4, 4, 4, 4, 4, 4, 4, 4, 4, 4, 4, 4, 4, 4, 4, 4, 4, 4, 4, 4, 4, 4, 3], 'test_accuracy': 0.9001536098310292, 'predictions': [7, 4, 1, 10, 7, 1, 8, 8, 0, 3, 4, 7, 1, 9, 3, 1, 9, 6, 4, 9, 8, 10, 1, 4, 6, 2, 5, 6, 6, 8, 2, 0, 1, 3, 6, 3, 10, 5, 5, 0, 10, 3, 2, 10, 7, 8, 4, 3, 8, 8, 1, 4, 3, 4, 6, 1, 1, 9, 1, 10, 10, 6, 6, 6, 5, 3, 8, 5, 8, 1, 3, 1, 4, 3, 1, 8, 6, 6, 9, 2, 3, 1, 3, 1, 5, 5, 1, 0, 0, 5, 9, 10, 10, 7, 1, 5, 1, 8, 2, 7, 5, 1, 10, 6, 10, 8, 3, 9, 10, 4, 7, 4, 0, 3, 7, 6, 0, 8, 0, 0, 4, 8, 0, 6, 5, 1, 7, 9, 6, 7, 4, 0, 10, 10, 7, 9, 4, 1, 9, 0, 10, 3, 3, 9, 4, 7, 4, 7, 2, 10, 2, 4, 10, 2, 1, 0, 10, 4, 4, 7, 8, 9, 8, 4, 2, 3, 10, 5, 6, 0, 4, 0, 10, 7, 6, 8, 3, 8, 1, 2, 6, 3, 5, 3, 9, 3, 4, 8, 1, 2, 0, 2, 0, 9, 9, 6, 3, 3, 5, 9, 9, 1, 6, 1, 4, 6, 9, 6, 3, 9, 5, 6, 6, 5, 4, 4, 2, 10, 8, 4, 7, 3, 0, 6, 7, 0, 5, 7, 1, 0, 1, 6, 3, 7, 7, 2, 10, 4, 3, 10, 9, 4, 3, 3, 1, 7, 8, 5, 2, 4, 10, 1, 1, 2, 3, 10, 6, 9, 4, 1, 3, 2, 7, 1, 5, 1, 8, 1, 3, 7, 3, 10, 3, 5, 2, 2, 7, 6, 9, 7, 3, 8, 8, 10, 2, 4, 2, 5, 5, 3, 8, 0, 8, 6, 0, 1, 2, 7, 3, 2, 4, 10, 8, 6, 6, 0, 2, 7, 10, 1, 7, 6, 9, 2, 5, 2, 0, 9, 4, 3, 2, 6, 7, 9, 8, 8, 8, 5, 2, 9, 4, 1, 3, 8, 4, 7, 1, 2, 7, 2, 5, 0, 4, 10, 5, 0, 5, 7, 3, 6, 4, 6, 4, 9, 5, 1, 8, 3, 7, 7, 4, 4, 6, 10, 8, 9, 8, 5, 6, 9, 4, 0, 5, 0, 9, 10, 5, 0, 3, 7, 3, 1, 8, 2, 2, 4, 4, 9, 3, 7, 5, 6, 9, 4, 0, 0, 5, 6, 7, 9, 7, 7, 9, 9, 1, 10, 10, 5, 5, 7, 3, 3, 5, 10, 4, 7, 2, 3, 1, 1, 0, 5, 4, 1, 2, 0, 1, 8, 8, 4, 8, 3, 8, 0, 3, 2, 2, 3, 7, 10, 10, 4, 10, 6, 6, 5, 0, 9, 8, 2, 1, 9, 4, 5, 9, 9, 1, 3, 5, 7, 9, 10, 3, 8, 1, 6, 3, 4, 2, 4, 10, 1, 1, 2, 8, 2, 4, 8, 2, 8, 9, 9, 0, 7, 6, 9, 3, 0, 6, 8, 6, 9, 3, 0, 2, 4, 8, 0, 1, 3, 4, 6, 3, 4, 6, 3, 3, 5, 0, 1, 7, 10, 4, 10, 6, 5, 5, 7, 5, 3, 4, 5, 0, 4, 5, 4, 9, 5, 9, 7, 7, 2, 0, 2, 5, 3, 2, 9, 1, 8, 9, 1, 8, 8, 2, 0, 9, 7, 6, 7, 6, 9, 0, 10, 8, 8, 9, 1, 7, 3, 2, 7, 9, 6, 7, 8, 9, 0, 8, 2, 2, 5, 2, 10, 8, 7, 9, 6, 8, 6, 6, 4, 7, 9, 7, 1, 4, 9, 3, 3, 7, 4, 1, 7, 5, 4, 0, 7, 8, 0, 7, 4, 5, 5, 4, 8, 6, 6, 1, 5, 3, 0, 1, 4, 7, 1, 9, 4, 6, 6, 10, 7, 1, 0, 3, 9, 1, 4, 3, 2, 7, 8, 9, 4, 4, 1, 2, 3, 7, 8, 6, 8, 1, 7, 4, 0, 2, 0, 8, 6, 7], 'real_labels': [7, 4, 1, 10, 7, 1, 8, 8, 0, 8, 4, 7, 1, 9, 3, 0, 9, 6, 4, 9, 8, 10, 1, 4, 6, 8, 8, 6, 6, 8, 2, 1, 1, 9, 6, 3, 10, 5, 5, 0, 10, 3, 2, 10, 7, 8, 4, 3, 3, 8, 9, 4, 3, 4, 6, 1, 1, 9, 1, 10, 10, 6, 1, 6, 5, 5, 8, 5, 8, 1, 3, 1, 1, 3, 1, 8, 6, 8, 9, 2, 3, 1, 3, 1, 5, 5, 1, 8, 0, 4, 9, 10, 10, 7, 1, 5, 1, 8, 2, 7, 5, 1, 10, 6, 10, 8, 3, 9, 10, 4, 7, 1, 0, 3, 7, 6, 0, 8, 0, 0, 4, 8, 7, 6, 5, 1, 7, 9, 6, 7, 4, 0, 10, 10, 7, 9, 4, 1, 9, 0, 10, 3, 3, 9, 4, 7, 4, 7, 2, 10, 2, 4, 10, 10, 1, 0, 10, 5, 4, 7, 8, 9, 10, 4, 2, 3, 10, 5, 8, 0, 9, 0, 10, 7, 6, 8, 0, 8, 1, 2, 6, 3, 5, 3, 9, 3, 4, 8, 3, 2, 0, 2, 0, 9, 9, 8, 1, 3, 5, 9, 8, 1, 6, 1, 4, 3, 4, 8, 3, 9, 5, 6, 2, 5, 4, 5, 2, 10, 8, 4, 7, 3, 0, 6, 7, 0, 5, 7, 1, 0, 1, 6, 3, 7, 7, 2, 10, 4, 3, 10, 9, 4, 3, 3, 1, 7, 8, 5, 2, 4, 10, 1, 1, 2, 3, 10, 6, 9, 5, 3, 3, 10, 7, 1, 5, 1, 8, 1, 8, 7, 3, 10, 3, 5, 2, 2, 7, 3, 9, 7, 6, 8, 8, 10, 2, 4, 2, 5, 5, 3, 8, 0, 8, 6, 0, 1, 2, 7, 3, 2, 4, 10, 8, 6, 6, 0, 2, 7, 10, 1, 7, 6, 9, 2, 5, 2, 0, 9, 4, 3, 2, 6, 7, 9, 1, 8, 8, 5, 2, 9, 4, 1, 1, 8, 4, 7, 1, 2, 7, 2, 5, 0, 7, 10, 5, 0, 5, 7, 3, 6, 4, 6, 4, 9, 5, 1, 8, 3, 7, 7, 4, 4, 6, 10, 8, 9, 8, 5, 6, 7, 4, 0, 5, 0, 9, 10, 5, 0, 3, 7, 3, 1, 8, 2, 2, 4, 4, 9, 3, 7, 9, 9, 9, 4, 0, 0, 5, 6, 9, 9, 7, 7, 6, 9, 1, 10, 10, 5, 5, 7, 3, 3, 5, 10, 9, 7, 2, 3, 1, 1, 0, 5, 4, 1, 2, 0, 1, 8, 8, 4, 8, 3, 8, 0, 3, 2, 2, 3, 7, 10, 10, 4, 10, 6, 6, 5, 0, 9, 8, 2, 1, 9, 9, 5, 9, 9, 1, 3, 5, 7, 9, 10, 1, 8, 1, 6, 3, 8, 2, 4, 10, 1, 1, 2, 8, 2, 4, 8, 2, 5, 9, 9, 0, 7, 6, 9, 2, 0, 2, 8, 6, 9, 3, 7, 2, 4, 3, 0, 1, 3, 9, 6, 3, 4, 6, 3, 3, 5, 0, 1, 7, 10, 4, 10, 2, 5, 5, 7, 5, 1, 4, 5, 0, 4, 5, 4, 9, 5, 9, 7, 7, 2, 0, 2, 4, 3, 2, 9, 1, 8, 9, 1, 8, 8, 2, 0, 9, 7, 6, 9, 6, 9, 0, 10, 8, 8, 4, 1, 7, 3, 2, 7, 9, 6, 7, 8, 9, 0, 8, 2, 10, 5, 2, 10, 8, 7, 9, 6, 8, 6, 6, 4, 7, 9, 7, 8, 4, 9, 3, 3, 7, 4, 1, 7, 5, 4, 0, 7, 8, 0, 7, 4, 5, 5, 4, 8, 6, 6, 1, 5, 3, 0, 1, 4, 7, 1, 9, 4, 6, 6, 10, 7, 1, 0, 3, 9, 1, 4, 3, 10, 7, 8, 9, 9, 4, 0, 2, 3, 7, 8, 6, 8, 1, 7, 4, 0, 2, 0, 8, 6, 7], 'label_to_index': {'down': 0, 'go': 1, 'left': 2, 'no': 3, 'off': 4, 'on': 5, 'right': 6, 'stop': 7, 'unknown': 8, 'up': 9, 'yes': 10}}\n",
      "Test Loss: 0.32397130460434087, Test Accuracy: 0.9001536098310292\n"
     ]
    },
    {
     "name": "stderr",
     "output_type": "stream",
     "text": [
      "Some weights of the model checkpoint at superb/wav2vec2-base-superb-ks were not used when initializing Wav2Vec2ForSequenceClassification: ['wav2vec2.encoder.pos_conv_embed.conv.weight_g', 'wav2vec2.encoder.pos_conv_embed.conv.weight_v']\n",
      "- This IS expected if you are initializing Wav2Vec2ForSequenceClassification from the checkpoint of a model trained on another task or with another architecture (e.g. initializing a BertForSequenceClassification model from a BertForPreTraining model).\n",
      "- This IS NOT expected if you are initializing Wav2Vec2ForSequenceClassification from the checkpoint of a model that you expect to be exactly identical (initializing a BertForSequenceClassification model from a BertForSequenceClassification model).\n",
      "Some weights of Wav2Vec2ForSequenceClassification were not initialized from the model checkpoint at superb/wav2vec2-base-superb-ks and are newly initialized: ['wav2vec2.encoder.pos_conv_embed.conv.parametrizations.weight.original0', 'wav2vec2.encoder.pos_conv_embed.conv.parametrizations.weight.original1']\n",
      "You should probably TRAIN this model on a down-stream task to be able to use it for predictions and inference.\n"
     ]
    },
    {
     "data": {
      "application/vnd.jupyter.widget-view+json": {
       "model_id": "1e750fd07d9843e7808408f2375b6369",
       "version_major": 2,
       "version_minor": 0
      },
      "text/plain": [
       "Epoch 1/10:   0%|          | 0/6187 [00:00<?, ?it/s]"
      ]
     },
     "metadata": {},
     "output_type": "display_data"
    },
    {
     "name": "stdout",
     "output_type": "stream",
     "text": [
      "Epoch 1/10, Train Loss: 1.8686439430042174\n"
     ]
    },
    {
     "data": {
      "application/vnd.jupyter.widget-view+json": {
       "model_id": "eec1eab8704e436dbbff9e682b86fe6f",
       "version_major": 2,
       "version_minor": 0
      },
      "text/plain": [
       "Validation:   0%|          | 0/163 [00:00<?, ?it/s]"
      ]
     },
     "metadata": {},
     "output_type": "display_data"
    },
    {
     "name": "stdout",
     "output_type": "stream",
     "text": [
      "Epoch 1/10, Validation Loss: 1.2483777192655516, Validation Accuracy: 0.5683563748079877\n"
     ]
    },
    {
     "data": {
      "application/vnd.jupyter.widget-view+json": {
       "model_id": "8aee1e30a5a94dcfb6ce81cfc5c84ce3",
       "version_major": 2,
       "version_minor": 0
      },
      "text/plain": [
       "Epoch 2/10:   0%|          | 0/6187 [00:00<?, ?it/s]"
      ]
     },
     "metadata": {},
     "output_type": "display_data"
    },
    {
     "name": "stdout",
     "output_type": "stream",
     "text": [
      "Epoch 2/10, Train Loss: 0.8454424699003963\n"
     ]
    },
    {
     "data": {
      "application/vnd.jupyter.widget-view+json": {
       "model_id": "1fe88b3b9fab4ff3940d50f830afebdf",
       "version_major": 2,
       "version_minor": 0
      },
      "text/plain": [
       "Validation:   0%|          | 0/163 [00:00<?, ?it/s]"
      ]
     },
     "metadata": {},
     "output_type": "display_data"
    },
    {
     "name": "stdout",
     "output_type": "stream",
     "text": [
      "Epoch 2/10, Validation Loss: 0.5212058302592143, Validation Accuracy: 0.804915514592934\n"
     ]
    },
    {
     "data": {
      "application/vnd.jupyter.widget-view+json": {
       "model_id": "6962390edc824674b8460def9ecd7dee",
       "version_major": 2,
       "version_minor": 0
      },
      "text/plain": [
       "Epoch 3/10:   0%|          | 0/6187 [00:00<?, ?it/s]"
      ]
     },
     "metadata": {},
     "output_type": "display_data"
    },
    {
     "name": "stdout",
     "output_type": "stream",
     "text": [
      "Epoch 3/10, Train Loss: 0.4418447456479565\n"
     ]
    },
    {
     "data": {
      "application/vnd.jupyter.widget-view+json": {
       "model_id": "be53c69405f64052a9e706cb27dba5e3",
       "version_major": 2,
       "version_minor": 0
      },
      "text/plain": [
       "Validation:   0%|          | 0/163 [00:00<?, ?it/s]"
      ]
     },
     "metadata": {},
     "output_type": "display_data"
    },
    {
     "name": "stdout",
     "output_type": "stream",
     "text": [
      "Epoch 3/10, Validation Loss: 0.36843232153572053, Validation Accuracy: 0.8832565284178188\n"
     ]
    },
    {
     "data": {
      "application/vnd.jupyter.widget-view+json": {
       "model_id": "be8a8b7709c942d785156900980618da",
       "version_major": 2,
       "version_minor": 0
      },
      "text/plain": [
       "Epoch 4/10:   0%|          | 0/6187 [00:00<?, ?it/s]"
      ]
     },
     "metadata": {},
     "output_type": "display_data"
    },
    {
     "name": "stdout",
     "output_type": "stream",
     "text": [
      "Epoch 4/10, Train Loss: 0.31791783886644726\n"
     ]
    },
    {
     "data": {
      "application/vnd.jupyter.widget-view+json": {
       "model_id": "0db65909bc1c48219a4b775d35b313be",
       "version_major": 2,
       "version_minor": 0
      },
      "text/plain": [
       "Validation:   0%|          | 0/163 [00:00<?, ?it/s]"
      ]
     },
     "metadata": {},
     "output_type": "display_data"
    },
    {
     "name": "stdout",
     "output_type": "stream",
     "text": [
      "Epoch 4/10, Validation Loss: 0.32293547877795103, Validation Accuracy: 0.8955453149001537\n"
     ]
    },
    {
     "data": {
      "application/vnd.jupyter.widget-view+json": {
       "model_id": "792a2b00ac8e40a0a11a169b2affd4b1",
       "version_major": 2,
       "version_minor": 0
      },
      "text/plain": [
       "Epoch 5/10:   0%|          | 0/6187 [00:00<?, ?it/s]"
      ]
     },
     "metadata": {},
     "output_type": "display_data"
    },
    {
     "name": "stdout",
     "output_type": "stream",
     "text": [
      "Epoch 5/10, Train Loss: 0.2532851763307757\n"
     ]
    },
    {
     "data": {
      "application/vnd.jupyter.widget-view+json": {
       "model_id": "6ff2c81d03e04bb3a1e0d92df2b6e677",
       "version_major": 2,
       "version_minor": 0
      },
      "text/plain": [
       "Validation:   0%|          | 0/163 [00:00<?, ?it/s]"
      ]
     },
     "metadata": {},
     "output_type": "display_data"
    },
    {
     "name": "stdout",
     "output_type": "stream",
     "text": [
      "Epoch 5/10, Validation Loss: 0.3128773748297364, Validation Accuracy: 0.8955453149001537\n"
     ]
    },
    {
     "data": {
      "application/vnd.jupyter.widget-view+json": {
       "model_id": "8eaaf78f72294edbaf99c49f041d8e5c",
       "version_major": 2,
       "version_minor": 0
      },
      "text/plain": [
       "Epoch 6/10:   0%|          | 0/6187 [00:00<?, ?it/s]"
      ]
     },
     "metadata": {},
     "output_type": "display_data"
    },
    {
     "name": "stdout",
     "output_type": "stream",
     "text": [
      "Epoch 6/10, Train Loss: 0.21046527381173052\n"
     ]
    },
    {
     "data": {
      "application/vnd.jupyter.widget-view+json": {
       "model_id": "408976a62bb94d5bbf0157f8d4552164",
       "version_major": 2,
       "version_minor": 0
      },
      "text/plain": [
       "Validation:   0%|          | 0/163 [00:00<?, ?it/s]"
      ]
     },
     "metadata": {},
     "output_type": "display_data"
    },
    {
     "name": "stdout",
     "output_type": "stream",
     "text": [
      "Epoch 6/10, Validation Loss: 0.23746814080926468, Validation Accuracy: 0.9278033794162827\n"
     ]
    },
    {
     "data": {
      "application/vnd.jupyter.widget-view+json": {
       "model_id": "cc45716cfbc64de4b2a5b0cff24b4f59",
       "version_major": 2,
       "version_minor": 0
      },
      "text/plain": [
       "Epoch 7/10:   0%|          | 0/6187 [00:00<?, ?it/s]"
      ]
     },
     "metadata": {},
     "output_type": "display_data"
    },
    {
     "name": "stdout",
     "output_type": "stream",
     "text": [
      "Epoch 7/10, Train Loss: 0.17612337885695545\n"
     ]
    },
    {
     "data": {
      "application/vnd.jupyter.widget-view+json": {
       "model_id": "4a42680351254200845233503287ca76",
       "version_major": 2,
       "version_minor": 0
      },
      "text/plain": [
       "Validation:   0%|          | 0/163 [00:00<?, ?it/s]"
      ]
     },
     "metadata": {},
     "output_type": "display_data"
    },
    {
     "name": "stdout",
     "output_type": "stream",
     "text": [
      "Epoch 7/10, Validation Loss: 0.26323619894464745, Validation Accuracy: 0.9109062980030722\n"
     ]
    },
    {
     "data": {
      "application/vnd.jupyter.widget-view+json": {
       "model_id": "0988646351324f9e9089337579cdb058",
       "version_major": 2,
       "version_minor": 0
      },
      "text/plain": [
       "Epoch 8/10:   0%|          | 0/6187 [00:00<?, ?it/s]"
      ]
     },
     "metadata": {},
     "output_type": "display_data"
    },
    {
     "name": "stdout",
     "output_type": "stream",
     "text": [
      "Epoch 8/10, Train Loss: 0.14606142215343265\n"
     ]
    },
    {
     "data": {
      "application/vnd.jupyter.widget-view+json": {
       "model_id": "9eea399aec69408f91201bfcd4fdcc1b",
       "version_major": 2,
       "version_minor": 0
      },
      "text/plain": [
       "Validation:   0%|          | 0/163 [00:00<?, ?it/s]"
      ]
     },
     "metadata": {},
     "output_type": "display_data"
    },
    {
     "name": "stdout",
     "output_type": "stream",
     "text": [
      "Epoch 8/10, Validation Loss: 0.2695082328123993, Validation Accuracy: 0.9093701996927803\n"
     ]
    },
    {
     "data": {
      "application/vnd.jupyter.widget-view+json": {
       "model_id": "8aecec40041d486fa5e9517e957b3eef",
       "version_major": 2,
       "version_minor": 0
      },
      "text/plain": [
       "Epoch 9/10:   0%|          | 0/6187 [00:00<?, ?it/s]"
      ]
     },
     "metadata": {},
     "output_type": "display_data"
    },
    {
     "name": "stdout",
     "output_type": "stream",
     "text": [
      "Epoch 9/10, Train Loss: 0.13011186047621784\n"
     ]
    },
    {
     "data": {
      "application/vnd.jupyter.widget-view+json": {
       "model_id": "5f06c54ca45f4387b3af80d3a2fa1ac7",
       "version_major": 2,
       "version_minor": 0
      },
      "text/plain": [
       "Validation:   0%|          | 0/163 [00:00<?, ?it/s]"
      ]
     },
     "metadata": {},
     "output_type": "display_data"
    },
    {
     "name": "stdout",
     "output_type": "stream",
     "text": [
      "Epoch 9/10, Validation Loss: 0.23338850447266324, Validation Accuracy: 0.9354838709677419\n"
     ]
    },
    {
     "data": {
      "application/vnd.jupyter.widget-view+json": {
       "model_id": "3407bd5e31f7483e93e801f58c71eda8",
       "version_major": 2,
       "version_minor": 0
      },
      "text/plain": [
       "Epoch 10/10:   0%|          | 0/6187 [00:00<?, ?it/s]"
      ]
     },
     "metadata": {},
     "output_type": "display_data"
    },
    {
     "name": "stdout",
     "output_type": "stream",
     "text": [
      "Epoch 10/10, Train Loss: 0.10827728678857713\n"
     ]
    },
    {
     "data": {
      "application/vnd.jupyter.widget-view+json": {
       "model_id": "aa50b5e77b6441e48e8b68995061fadb",
       "version_major": 2,
       "version_minor": 0
      },
      "text/plain": [
       "Validation:   0%|          | 0/163 [00:00<?, ?it/s]"
      ]
     },
     "metadata": {},
     "output_type": "display_data"
    },
    {
     "name": "stdout",
     "output_type": "stream",
     "text": [
      "Epoch 10/10, Validation Loss: 0.24669504766965566, Validation Accuracy: 0.9247311827956989\n"
     ]
    },
    {
     "data": {
      "application/vnd.jupyter.widget-view+json": {
       "model_id": "193b2b9514cb4c4fa20ea80a4d7d62bb",
       "version_major": 2,
       "version_minor": 0
      },
      "text/plain": [
       "Testing:   0%|          | 0/163 [00:00<?, ?it/s]"
      ]
     },
     "metadata": {},
     "output_type": "display_data"
    },
    {
     "name": "stdout",
     "output_type": "stream",
     "text": [
      "{'val_acc': [0.5683563748079877, 0.804915514592934, 0.8832565284178188, 0.8955453149001537, 0.8955453149001537, 0.9278033794162827, 0.9109062980030722, 0.9093701996927803, 0.9354838709677419, 0.9247311827956989], 'val_loss': [1.2483777192655516, 0.5212058302592143, 0.36843232153572053, 0.32293547877795103, 0.3128773748297364, 0.23746814080926468, 0.26323619894464745, 0.2695082328123993, 0.23338850447266324, 0.24669504766965566], 'train_loss': [1.8686439430042174, 0.8454424699003963, 0.4418447456479565, 0.31791783886644726, 0.2532851763307757, 0.21046527381173052, 0.17612337885695545, 0.14606142215343265, 0.13011186047621784, 0.10827728678857713], 'test_correct_in_batch': [4.0, 4.0, 3.0, 4.0, 4.0, 4.0, 3.0, 2.0, 3.0, 4.0, 4.0, 4.0, 4.0, 4.0, 4.0, 3.0, 3.0, 3.0, 3.0, 4.0, 4.0, 4.0, 3.0, 4.0, 4.0, 4.0, 4.0, 3.0, 4.0, 4.0, 2.0, 4.0, 4.0, 4.0, 4.0, 4.0, 4.0, 4.0, 4.0, 2.0, 4.0, 4.0, 3.0, 4.0, 4.0, 4.0, 4.0, 4.0, 4.0, 4.0, 3.0, 1.0, 4.0, 4.0, 3.0, 4.0, 4.0, 4.0, 4.0, 3.0, 4.0, 4.0, 4.0, 4.0, 4.0, 4.0, 4.0, 2.0, 4.0, 3.0, 3.0, 4.0, 3.0, 3.0, 4.0, 4.0, 4.0, 4.0, 4.0, 4.0, 4.0, 4.0, 4.0, 4.0, 2.0, 3.0, 4.0, 4.0, 3.0, 3.0, 4.0, 4.0, 2.0, 4.0, 4.0, 4.0, 4.0, 2.0, 4.0, 4.0, 3.0, 4.0, 4.0, 3.0, 4.0, 3.0, 4.0, 4.0, 4.0, 4.0, 4.0, 3.0, 4.0, 4.0, 4.0, 4.0, 3.0, 4.0, 4.0, 4.0, 4.0, 4.0, 3.0, 4.0, 3.0, 3.0, 4.0, 4.0, 4.0, 4.0, 3.0, 4.0, 4.0, 4.0, 4.0, 4.0, 4.0, 4.0, 4.0, 4.0, 4.0, 3.0, 2.0, 4.0, 4.0, 3.0, 3.0, 4.0, 4.0, 4.0, 4.0, 3.0, 4.0, 4.0, 3.0, 4.0, 4.0, 4.0, 4.0, 4.0, 4.0, 4.0, 3.0], 'test_losses': [0.08159348368644714, 0.006140383891761303, 1.5070515871047974, 0.09347303211688995, 0.0012307838769629598, 0.0015737703070044518, 0.5223817229270935, 0.6873915791511536, 1.225858449935913, 0.00046000321162864566, 0.0008519659168086946, 0.004116903059184551, 0.19498522579669952, 0.0017856503836810589, 0.0007428447715938091, 1.7340795993804932, 0.7719824910163879, 1.397231936454773, 2.4148266315460205, 0.05704423040151596, 0.32840201258659363, 0.1646600067615509, 0.5122215747833252, 0.008049450814723969, 0.004723213147372007, 7.836820441298187e-05, 0.0004513799212872982, 0.916295051574707, 0.0022425688803195953, 0.0036846576258540154, 1.6007792949676514, 0.008137945085763931, 0.007820351980626583, 6.616050086449832e-06, 0.00034431583480909467, 0.005960260517895222, 0.005333871114999056, 0.000976059352979064, 0.0002297199098393321, 0.5699252486228943, 0.006625420413911343, 0.0010527665726840496, 0.9143097996711731, 0.00040041623287834227, 0.0020353023428469896, 0.0007239967817440629, 0.03052203357219696, 0.010600456967949867, 0.014728588983416557, 0.01022861897945404, 1.9923632144927979, 3.375623941421509, 0.004000287968665361, 0.09863311052322388, 0.444409042596817, 4.970812369720079e-05, 0.00010286110045854002, 0.001576832146383822, 0.014181635342538357, 0.19434764981269836, 0.12933193147182465, 0.026066571474075317, 0.1340557336807251, 0.0019777934066951275, 0.1944676786661148, 0.12369903922080994, 0.07293418794870377, 2.1960649490356445, 0.16673360764980316, 1.0004286766052246, 2.304750919342041, 0.0005228270310908556, 0.6139161586761475, 0.412332683801651, 0.00023965358559507877, 0.05896297097206116, 6.93721158313565e-05, 0.00011298634490231052, 0.004109382163733244, 0.015336601994931698, 0.013741015456616879, 0.00037656771019101143, 0.0011467445874586701, 0.0011401394149288535, 0.5513002276420593, 1.5281867980957031, 0.0048314351588487625, 0.003511375980451703, 0.17899715900421143, 0.6559545397758484, 0.03682927414774895, 0.00037485433858819306, 1.8340842723846436, 0.00048702085041441023, 0.00042323581874370575, 0.008826813660562038, 0.00819245632737875, 1.1223459243774414, 0.002654913580045104, 0.006942683830857277, 0.3732413649559021, 0.0010380488820374012, 4.246706157573499e-05, 0.5758784413337708, 0.0037531827110797167, 0.9303674101829529, 0.0543057881295681, 0.0015164014184847474, 0.004338651429861784, 0.000449794257292524, 0.017852790653705597, 0.6973442435264587, 0.0010113834869116545, 0.0029205703176558018, 0.09268642961978912, 0.10293883085250854, 0.7739192843437195, 0.02019122801721096, 0.0006729030865244567, 0.008573777973651886, 0.003480606945231557, 0.30498483777046204, 1.605323076248169, 0.0069520422257483006, 1.4317277669906616, 0.1870141327381134, 0.011533159762620926, 0.011425942182540894, 0.1432061344385147, 0.12994931638240814, 0.25495874881744385, 0.0013886098749935627, 0.00023928334121592343, 0.05135881155729294, 0.015175815671682358, 0.15162575244903564, 0.0003064964257646352, 0.018340405076742172, 0.02843254618346691, 0.13544951379299164, 0.0019554055761545897, 0.3060452342033386, 1.277597188949585, 0.0025022414047271013, 0.0015916858101263642, 0.3831636905670166, 0.8811532855033875, 0.004283473361283541, 0.018885599449276924, 0.0009629641426727176, 0.007922208867967129, 0.2713194787502289, 0.00435684435069561, 0.10395214706659317, 0.7896731495857239, 0.055423807352781296, 0.0017027311259880662, 0.03193993121385574, 0.015970347449183464, 0.0008240048191510141, 0.00010735628166003153, 0.016731442883610725, 0.007937599904835224], 'test_loss': 0.29276085223182513, 'test_batch_lens': [4, 4, 4, 4, 4, 4, 4, 4, 4, 4, 4, 4, 4, 4, 4, 4, 4, 4, 4, 4, 4, 4, 4, 4, 4, 4, 4, 4, 4, 4, 4, 4, 4, 4, 4, 4, 4, 4, 4, 4, 4, 4, 4, 4, 4, 4, 4, 4, 4, 4, 4, 4, 4, 4, 4, 4, 4, 4, 4, 4, 4, 4, 4, 4, 4, 4, 4, 4, 4, 4, 4, 4, 4, 4, 4, 4, 4, 4, 4, 4, 4, 4, 4, 4, 4, 4, 4, 4, 4, 4, 4, 4, 4, 4, 4, 4, 4, 4, 4, 4, 4, 4, 4, 4, 4, 4, 4, 4, 4, 4, 4, 4, 4, 4, 4, 4, 4, 4, 4, 4, 4, 4, 4, 4, 4, 4, 4, 4, 4, 4, 4, 4, 4, 4, 4, 4, 4, 4, 4, 4, 4, 4, 4, 4, 4, 4, 4, 4, 4, 4, 4, 4, 4, 4, 4, 4, 4, 4, 4, 4, 4, 4, 3], 'test_accuracy': 0.9185867895545314, 'predictions': [7, 4, 1, 10, 7, 1, 8, 8, 0, 2, 4, 7, 1, 9, 3, 0, 9, 6, 4, 9, 8, 10, 1, 4, 6, 3, 8, 6, 6, 8, 8, 0, 1, 1, 6, 3, 10, 5, 5, 0, 10, 3, 2, 10, 7, 8, 4, 3, 3, 8, 9, 4, 3, 4, 6, 1, 1, 9, 1, 10, 10, 6, 2, 6, 5, 10, 8, 5, 8, 0, 3, 1, 5, 3, 1, 8, 6, 8, 9, 2, 3, 1, 3, 1, 5, 5, 1, 8, 0, 9, 9, 10, 10, 7, 1, 5, 1, 8, 2, 7, 5, 1, 10, 6, 10, 8, 3, 9, 10, 4, 7, 10, 0, 3, 7, 6, 0, 8, 0, 0, 9, 3, 7, 6, 5, 1, 7, 9, 6, 7, 4, 0, 10, 10, 7, 9, 4, 1, 9, 0, 10, 3, 3, 9, 4, 7, 4, 7, 2, 10, 2, 4, 10, 10, 1, 0, 10, 4, 9, 7, 8, 9, 10, 4, 2, 3, 10, 5, 8, 0, 10, 0, 10, 7, 6, 8, 0, 8, 1, 2, 6, 3, 5, 3, 9, 3, 4, 8, 3, 2, 0, 2, 0, 9, 9, 8, 1, 3, 5, 9, 4, 1, 6, 1, 4, 9, 9, 6, 3, 9, 5, 6, 2, 5, 4, 5, 10, 10, 8, 4, 7, 3, 0, 6, 7, 0, 5, 7, 1, 0, 1, 6, 3, 7, 7, 2, 10, 9, 3, 10, 9, 4, 3, 3, 1, 7, 8, 5, 2, 4, 10, 1, 1, 2, 3, 10, 6, 9, 5, 3, 3, 10, 7, 1, 5, 1, 8, 1, 3, 7, 9, 10, 3, 5, 2, 2, 7, 10, 9, 7, 4, 8, 8, 10, 2, 4, 2, 5, 5, 3, 4, 0, 8, 6, 3, 1, 2, 7, 3, 2, 4, 10, 8, 6, 6, 0, 2, 7, 10, 1, 7, 6, 9, 2, 5, 2, 0, 9, 4, 3, 2, 6, 7, 9, 1, 8, 8, 5, 2, 9, 4, 1, 1, 8, 4, 7, 3, 2, 3, 2, 5, 0, 9, 10, 5, 0, 5, 7, 3, 6, 4, 6, 9, 9, 5, 1, 9, 3, 7, 7, 4, 4, 6, 10, 8, 9, 8, 5, 3, 9, 4, 0, 5, 0, 9, 10, 5, 0, 3, 7, 3, 1, 8, 2, 2, 4, 4, 9, 3, 7, 5, 10, 9, 4, 0, 0, 5, 6, 9, 9, 7, 7, 4, 9, 1, 10, 10, 5, 5, 7, 3, 3, 5, 10, 4, 7, 2, 3, 1, 1, 0, 5, 4, 0, 2, 0, 1, 8, 8, 4, 8, 3, 8, 0, 3, 2, 2, 3, 7, 10, 10, 4, 10, 6, 6, 5, 0, 4, 8, 2, 1, 9, 9, 5, 9, 9, 1, 3, 5, 7, 9, 10, 1, 8, 1, 6, 3, 4, 2, 4, 10, 1, 1, 2, 8, 2, 4, 8, 2, 5, 9, 9, 0, 7, 6, 9, 2, 0, 2, 3, 6, 9, 3, 7, 2, 4, 10, 0, 1, 3, 9, 6, 3, 9, 6, 3, 3, 5, 0, 1, 7, 10, 4, 10, 2, 5, 5, 7, 5, 1, 9, 5, 0, 4, 5, 4, 9, 5, 9, 7, 7, 2, 0, 2, 4, 3, 2, 9, 1, 8, 9, 1, 8, 8, 2, 0, 9, 7, 6, 9, 6, 9, 0, 10, 8, 8, 4, 1, 7, 3, 2, 7, 9, 6, 4, 8, 9, 0, 7, 2, 2, 5, 2, 10, 8, 7, 9, 6, 8, 6, 6, 10, 7, 9, 7, 4, 4, 9, 3, 3, 7, 4, 1, 7, 5, 4, 0, 7, 8, 0, 7, 4, 5, 5, 4, 6, 6, 6, 1, 5, 3, 0, 1, 4, 7, 1, 9, 4, 6, 2, 10, 7, 1, 0, 3, 9, 1, 4, 3, 10, 7, 8, 9, 9, 4, 0, 2, 3, 7, 8, 6, 8, 1, 7, 4, 0, 2, 0, 8, 6, 7], 'real_labels': [7, 4, 1, 10, 7, 1, 8, 8, 0, 8, 4, 7, 1, 9, 3, 0, 9, 6, 4, 9, 8, 10, 1, 4, 6, 8, 8, 6, 6, 8, 2, 1, 1, 9, 6, 3, 10, 5, 5, 0, 10, 3, 2, 10, 7, 8, 4, 3, 3, 8, 9, 4, 3, 4, 6, 1, 1, 9, 1, 10, 10, 6, 1, 6, 5, 5, 8, 5, 8, 1, 3, 1, 1, 3, 1, 8, 6, 8, 9, 2, 3, 1, 3, 1, 5, 5, 1, 8, 0, 4, 9, 10, 10, 7, 1, 5, 1, 8, 2, 7, 5, 1, 10, 6, 10, 8, 3, 9, 10, 4, 7, 1, 0, 3, 7, 6, 0, 8, 0, 0, 4, 8, 7, 6, 5, 1, 7, 9, 6, 7, 4, 0, 10, 10, 7, 9, 4, 1, 9, 0, 10, 3, 3, 9, 4, 7, 4, 7, 2, 10, 2, 4, 10, 10, 1, 0, 10, 5, 4, 7, 8, 9, 10, 4, 2, 3, 10, 5, 8, 0, 9, 0, 10, 7, 6, 8, 0, 8, 1, 2, 6, 3, 5, 3, 9, 3, 4, 8, 3, 2, 0, 2, 0, 9, 9, 8, 1, 3, 5, 9, 8, 1, 6, 1, 4, 3, 4, 8, 3, 9, 5, 6, 2, 5, 4, 5, 2, 10, 8, 4, 7, 3, 0, 6, 7, 0, 5, 7, 1, 0, 1, 6, 3, 7, 7, 2, 10, 4, 3, 10, 9, 4, 3, 3, 1, 7, 8, 5, 2, 4, 10, 1, 1, 2, 3, 10, 6, 9, 5, 3, 3, 10, 7, 1, 5, 1, 8, 1, 8, 7, 3, 10, 3, 5, 2, 2, 7, 3, 9, 7, 6, 8, 8, 10, 2, 4, 2, 5, 5, 3, 8, 0, 8, 6, 0, 1, 2, 7, 3, 2, 4, 10, 8, 6, 6, 0, 2, 7, 10, 1, 7, 6, 9, 2, 5, 2, 0, 9, 4, 3, 2, 6, 7, 9, 1, 8, 8, 5, 2, 9, 4, 1, 1, 8, 4, 7, 1, 2, 7, 2, 5, 0, 7, 10, 5, 0, 5, 7, 3, 6, 4, 6, 4, 9, 5, 1, 8, 3, 7, 7, 4, 4, 6, 10, 8, 9, 8, 5, 6, 7, 4, 0, 5, 0, 9, 10, 5, 0, 3, 7, 3, 1, 8, 2, 2, 4, 4, 9, 3, 7, 9, 9, 9, 4, 0, 0, 5, 6, 9, 9, 7, 7, 6, 9, 1, 10, 10, 5, 5, 7, 3, 3, 5, 10, 9, 7, 2, 3, 1, 1, 0, 5, 4, 1, 2, 0, 1, 8, 8, 4, 8, 3, 8, 0, 3, 2, 2, 3, 7, 10, 10, 4, 10, 6, 6, 5, 0, 9, 8, 2, 1, 9, 9, 5, 9, 9, 1, 3, 5, 7, 9, 10, 1, 8, 1, 6, 3, 8, 2, 4, 10, 1, 1, 2, 8, 2, 4, 8, 2, 5, 9, 9, 0, 7, 6, 9, 2, 0, 2, 8, 6, 9, 3, 7, 2, 4, 3, 0, 1, 3, 9, 6, 3, 4, 6, 3, 3, 5, 0, 1, 7, 10, 4, 10, 2, 5, 5, 7, 5, 1, 4, 5, 0, 4, 5, 4, 9, 5, 9, 7, 7, 2, 0, 2, 4, 3, 2, 9, 1, 8, 9, 1, 8, 8, 2, 0, 9, 7, 6, 9, 6, 9, 0, 10, 8, 8, 4, 1, 7, 3, 2, 7, 9, 6, 7, 8, 9, 0, 8, 2, 10, 5, 2, 10, 8, 7, 9, 6, 8, 6, 6, 4, 7, 9, 7, 8, 4, 9, 3, 3, 7, 4, 1, 7, 5, 4, 0, 7, 8, 0, 7, 4, 5, 5, 4, 8, 6, 6, 1, 5, 3, 0, 1, 4, 7, 1, 9, 4, 6, 6, 10, 7, 1, 0, 3, 9, 1, 4, 3, 10, 7, 8, 9, 9, 4, 0, 2, 3, 7, 8, 6, 8, 1, 7, 4, 0, 2, 0, 8, 6, 7], 'label_to_index': {'down': 0, 'go': 1, 'left': 2, 'no': 3, 'off': 4, 'on': 5, 'right': 6, 'stop': 7, 'unknown': 8, 'up': 9, 'yes': 10}}\n",
      "Test Loss: 0.29276085223182513, Test Accuracy: 0.9185867895545314\n"
     ]
    },
    {
     "data": {
      "application/vnd.jupyter.widget-view+json": {
       "model_id": "bf93edccf1ff43eb832e7c695ce94bdc",
       "version_major": 2,
       "version_minor": 0
      },
      "text/plain": [
       "Training loop (5 times):   0%|          | 0/5 [00:00<?, ?it/s]"
      ]
     },
     "metadata": {},
     "output_type": "display_data"
    },
    {
     "name": "stderr",
     "output_type": "stream",
     "text": [
      "Some weights of the model checkpoint at superb/wav2vec2-base-superb-ks were not used when initializing Wav2Vec2ForSequenceClassification: ['wav2vec2.encoder.pos_conv_embed.conv.weight_g', 'wav2vec2.encoder.pos_conv_embed.conv.weight_v']\n",
      "- This IS expected if you are initializing Wav2Vec2ForSequenceClassification from the checkpoint of a model trained on another task or with another architecture (e.g. initializing a BertForSequenceClassification model from a BertForPreTraining model).\n",
      "- This IS NOT expected if you are initializing Wav2Vec2ForSequenceClassification from the checkpoint of a model that you expect to be exactly identical (initializing a BertForSequenceClassification model from a BertForSequenceClassification model).\n",
      "Some weights of Wav2Vec2ForSequenceClassification were not initialized from the model checkpoint at superb/wav2vec2-base-superb-ks and are newly initialized: ['wav2vec2.encoder.pos_conv_embed.conv.parametrizations.weight.original0', 'wav2vec2.encoder.pos_conv_embed.conv.parametrizations.weight.original1']\n",
      "You should probably TRAIN this model on a down-stream task to be able to use it for predictions and inference.\n"
     ]
    },
    {
     "data": {
      "application/vnd.jupyter.widget-view+json": {
       "model_id": "2764c7f581d64a7c9380e47fcaffe13c",
       "version_major": 2,
       "version_minor": 0
      },
      "text/plain": [
       "Epoch 1/10:   0%|          | 0/6187 [00:00<?, ?it/s]"
      ]
     },
     "metadata": {},
     "output_type": "display_data"
    },
    {
     "name": "stdout",
     "output_type": "stream",
     "text": [
      "Epoch 1/10, Train Loss: 2.4379030431783195\n"
     ]
    },
    {
     "data": {
      "application/vnd.jupyter.widget-view+json": {
       "model_id": "34f1c758e0904e32a0fed3b035b3ec6e",
       "version_major": 2,
       "version_minor": 0
      },
      "text/plain": [
       "Validation:   0%|          | 0/163 [00:00<?, ?it/s]"
      ]
     },
     "metadata": {},
     "output_type": "display_data"
    },
    {
     "name": "stdout",
     "output_type": "stream",
     "text": [
      "Epoch 1/10, Validation Loss: 2.4023433477600658, Validation Accuracy: 0.09831029185867896\n"
     ]
    },
    {
     "data": {
      "application/vnd.jupyter.widget-view+json": {
       "model_id": "09dba07f825446979572c71867150227",
       "version_major": 2,
       "version_minor": 0
      },
      "text/plain": [
       "Epoch 2/10:   0%|          | 0/6187 [00:00<?, ?it/s]"
      ]
     },
     "metadata": {},
     "output_type": "display_data"
    },
    {
     "name": "stdout",
     "output_type": "stream",
     "text": [
      "Epoch 2/10, Train Loss: 2.429640659939902\n"
     ]
    },
    {
     "data": {
      "application/vnd.jupyter.widget-view+json": {
       "model_id": "c9ac2f78fbab4ab59fbd37dca5814f36",
       "version_major": 2,
       "version_minor": 0
      },
      "text/plain": [
       "Validation:   0%|          | 0/163 [00:00<?, ?it/s]"
      ]
     },
     "metadata": {},
     "output_type": "display_data"
    },
    {
     "name": "stdout",
     "output_type": "stream",
     "text": [
      "Epoch 2/10, Validation Loss: 2.4144031109254054, Validation Accuracy: 0.0967741935483871\n"
     ]
    },
    {
     "data": {
      "application/vnd.jupyter.widget-view+json": {
       "model_id": "92dcd19a611444f2bab3d2ddc9cca6f5",
       "version_major": 2,
       "version_minor": 0
      },
      "text/plain": [
       "Epoch 3/10:   0%|          | 0/6187 [00:00<?, ?it/s]"
      ]
     },
     "metadata": {},
     "output_type": "display_data"
    },
    {
     "name": "stdout",
     "output_type": "stream",
     "text": [
      "Epoch 3/10, Train Loss: 2.4241509353939197\n"
     ]
    },
    {
     "data": {
      "application/vnd.jupyter.widget-view+json": {
       "model_id": "9ea1a58572b6418687d0382625cdbcc0",
       "version_major": 2,
       "version_minor": 0
      },
      "text/plain": [
       "Validation:   0%|          | 0/163 [00:00<?, ?it/s]"
      ]
     },
     "metadata": {},
     "output_type": "display_data"
    },
    {
     "name": "stdout",
     "output_type": "stream",
     "text": [
      "Epoch 3/10, Validation Loss: 2.464356331737495, Validation Accuracy: 0.08602150537634409\n"
     ]
    },
    {
     "data": {
      "application/vnd.jupyter.widget-view+json": {
       "model_id": "327ee62903c940e9807b6975b4dbe9e4",
       "version_major": 2,
       "version_minor": 0
      },
      "text/plain": [
       "Epoch 4/10:   0%|          | 0/6187 [00:00<?, ?it/s]"
      ]
     },
     "metadata": {},
     "output_type": "display_data"
    },
    {
     "name": "stdout",
     "output_type": "stream",
     "text": [
      "Epoch 4/10, Train Loss: 2.425663369526978\n"
     ]
    },
    {
     "data": {
      "application/vnd.jupyter.widget-view+json": {
       "model_id": "08ed3eb195354c79858812ce838ac90d",
       "version_major": 2,
       "version_minor": 0
      },
      "text/plain": [
       "Validation:   0%|          | 0/163 [00:00<?, ?it/s]"
      ]
     },
     "metadata": {},
     "output_type": "display_data"
    },
    {
     "name": "stdout",
     "output_type": "stream",
     "text": [
      "Epoch 4/10, Validation Loss: 2.422709206130607, Validation Accuracy: 0.06144393241167435\n"
     ]
    },
    {
     "data": {
      "application/vnd.jupyter.widget-view+json": {
       "model_id": "5e6f1b77b354479eb84f04bc3f2b28ae",
       "version_major": 2,
       "version_minor": 0
      },
      "text/plain": [
       "Epoch 5/10:   0%|          | 0/6187 [00:00<?, ?it/s]"
      ]
     },
     "metadata": {},
     "output_type": "display_data"
    },
    {
     "name": "stdout",
     "output_type": "stream",
     "text": [
      "Epoch 5/10, Train Loss: 2.4256010701010102\n"
     ]
    },
    {
     "data": {
      "application/vnd.jupyter.widget-view+json": {
       "model_id": "c68e84b510554731b271ccbc37113b46",
       "version_major": 2,
       "version_minor": 0
      },
      "text/plain": [
       "Validation:   0%|          | 0/163 [00:00<?, ?it/s]"
      ]
     },
     "metadata": {},
     "output_type": "display_data"
    },
    {
     "name": "stdout",
     "output_type": "stream",
     "text": [
      "Epoch 5/10, Validation Loss: 2.40689487983844, Validation Accuracy: 0.0967741935483871\n"
     ]
    },
    {
     "data": {
      "application/vnd.jupyter.widget-view+json": {
       "model_id": "3f1b70665e9d408ba805916b82d034b0",
       "version_major": 2,
       "version_minor": 0
      },
      "text/plain": [
       "Epoch 6/10:   0%|          | 0/6187 [00:00<?, ?it/s]"
      ]
     },
     "metadata": {},
     "output_type": "display_data"
    },
    {
     "name": "stdout",
     "output_type": "stream",
     "text": [
      "Epoch 6/10, Train Loss: 2.424911005018754\n"
     ]
    },
    {
     "data": {
      "application/vnd.jupyter.widget-view+json": {
       "model_id": "ee1e327df51e4c049de759cfb968eb82",
       "version_major": 2,
       "version_minor": 0
      },
      "text/plain": [
       "Validation:   0%|          | 0/163 [00:00<?, ?it/s]"
      ]
     },
     "metadata": {},
     "output_type": "display_data"
    },
    {
     "name": "stdout",
     "output_type": "stream",
     "text": [
      "Epoch 6/10, Validation Loss: 2.4230296714174235, Validation Accuracy: 0.09216589861751152\n"
     ]
    },
    {
     "data": {
      "application/vnd.jupyter.widget-view+json": {
       "model_id": "b46ee018545a47e5b15b85c8e3e0029c",
       "version_major": 2,
       "version_minor": 0
      },
      "text/plain": [
       "Epoch 7/10:   0%|          | 0/6187 [00:00<?, ?it/s]"
      ]
     },
     "metadata": {},
     "output_type": "display_data"
    },
    {
     "name": "stdout",
     "output_type": "stream",
     "text": [
      "Epoch 7/10, Train Loss: 2.4245488976014147\n"
     ]
    },
    {
     "data": {
      "application/vnd.jupyter.widget-view+json": {
       "model_id": "a09d1508970f487295f58e549120e67e",
       "version_major": 2,
       "version_minor": 0
      },
      "text/plain": [
       "Validation:   0%|          | 0/163 [00:00<?, ?it/s]"
      ]
     },
     "metadata": {},
     "output_type": "display_data"
    },
    {
     "name": "stdout",
     "output_type": "stream",
     "text": [
      "Epoch 7/10, Validation Loss: 2.4337554914088337, Validation Accuracy: 0.09831029185867896\n"
     ]
    },
    {
     "data": {
      "application/vnd.jupyter.widget-view+json": {
       "model_id": "086b618bc4c84ad49a78e338a6e2446a",
       "version_major": 2,
       "version_minor": 0
      },
      "text/plain": [
       "Epoch 8/10:   0%|          | 0/6187 [00:00<?, ?it/s]"
      ]
     },
     "metadata": {},
     "output_type": "display_data"
    },
    {
     "name": "stdout",
     "output_type": "stream",
     "text": [
      "Epoch 8/10, Train Loss: 2.424911444033408\n"
     ]
    },
    {
     "data": {
      "application/vnd.jupyter.widget-view+json": {
       "model_id": "5c7c145590494a37aa3ca5fa29303a67",
       "version_major": 2,
       "version_minor": 0
      },
      "text/plain": [
       "Validation:   0%|          | 0/163 [00:00<?, ?it/s]"
      ]
     },
     "metadata": {},
     "output_type": "display_data"
    },
    {
     "name": "stdout",
     "output_type": "stream",
     "text": [
      "Epoch 8/10, Validation Loss: 2.4407979520552, Validation Accuracy: 0.0706605222734255\n"
     ]
    },
    {
     "data": {
      "application/vnd.jupyter.widget-view+json": {
       "model_id": "2c075d8d5fea48a6ba26411f18a86537",
       "version_major": 2,
       "version_minor": 0
      },
      "text/plain": [
       "Epoch 9/10:   0%|          | 0/6187 [00:00<?, ?it/s]"
      ]
     },
     "metadata": {},
     "output_type": "display_data"
    },
    {
     "name": "stdout",
     "output_type": "stream",
     "text": [
      "Epoch 9/10, Train Loss: 2.4233679548110643\n"
     ]
    },
    {
     "data": {
      "application/vnd.jupyter.widget-view+json": {
       "model_id": "fe03a43f3f41448c811df2e241056c2d",
       "version_major": 2,
       "version_minor": 0
      },
      "text/plain": [
       "Validation:   0%|          | 0/163 [00:00<?, ?it/s]"
      ]
     },
     "metadata": {},
     "output_type": "display_data"
    },
    {
     "name": "stdout",
     "output_type": "stream",
     "text": [
      "Epoch 9/10, Validation Loss: 2.4034473808265173, Validation Accuracy: 0.10445468509984639\n"
     ]
    },
    {
     "data": {
      "application/vnd.jupyter.widget-view+json": {
       "model_id": "e3c74fdb098b4b71824a25f399533f02",
       "version_major": 2,
       "version_minor": 0
      },
      "text/plain": [
       "Epoch 10/10:   0%|          | 0/6187 [00:00<?, ?it/s]"
      ]
     },
     "metadata": {},
     "output_type": "display_data"
    },
    {
     "name": "stdout",
     "output_type": "stream",
     "text": [
      "Epoch 10/10, Train Loss: 2.424382991969576\n"
     ]
    },
    {
     "data": {
      "application/vnd.jupyter.widget-view+json": {
       "model_id": "d7412e20c0dc4b97872f8553c0fef903",
       "version_major": 2,
       "version_minor": 0
      },
      "text/plain": [
       "Validation:   0%|          | 0/163 [00:00<?, ?it/s]"
      ]
     },
     "metadata": {},
     "output_type": "display_data"
    },
    {
     "name": "stdout",
     "output_type": "stream",
     "text": [
      "Epoch 10/10, Validation Loss: 2.4036544466311214, Validation Accuracy: 0.0967741935483871\n"
     ]
    },
    {
     "data": {
      "application/vnd.jupyter.widget-view+json": {
       "model_id": "6ffdf4a5bbae47b581251bc65a578474",
       "version_major": 2,
       "version_minor": 0
      },
      "text/plain": [
       "Testing:   0%|          | 0/163 [00:00<?, ?it/s]"
      ]
     },
     "metadata": {},
     "output_type": "display_data"
    },
    {
     "name": "stdout",
     "output_type": "stream",
     "text": [
      "{'val_acc': [0.09831029185867896, 0.0967741935483871, 0.08602150537634409, 0.06144393241167435, 0.0967741935483871, 0.09216589861751152, 0.09831029185867896, 0.0706605222734255, 0.10445468509984639, 0.0967741935483871], 'val_loss': [2.4023433477600658, 2.4144031109254054, 2.464356331737495, 2.422709206130607, 2.40689487983844, 2.4230296714174235, 2.4337554914088337, 2.4407979520552, 2.4034473808265173, 2.4036544466311214], 'train_loss': [2.4379030431783195, 2.429640659939902, 2.4241509353939197, 2.425663369526978, 2.4256010701010102, 2.424911005018754, 2.4245488976014147, 2.424911444033408, 2.4233679548110643, 2.424382991969576], 'test_correct_in_batch': [0.0, 0.0, 0.0, 0.0, 0.0, 0.0, 0.0, 0.0, 0.0, 2.0, 0.0, 0.0, 0.0, 0.0, 0.0, 0.0, 3.0, 0.0, 0.0, 0.0, 0.0, 2.0, 0.0, 1.0, 0.0, 1.0, 0.0, 0.0, 0.0, 0.0, 0.0, 1.0, 0.0, 0.0, 0.0, 0.0, 0.0, 0.0, 0.0, 1.0, 0.0, 1.0, 0.0, 0.0, 0.0, 1.0, 0.0, 0.0, 0.0, 1.0, 0.0, 0.0, 1.0, 2.0, 0.0, 0.0, 1.0, 0.0, 0.0, 0.0, 0.0, 1.0, 0.0, 0.0, 1.0, 0.0, 1.0, 0.0, 1.0, 0.0, 0.0, 1.0, 1.0, 0.0, 0.0, 0.0, 0.0, 0.0, 1.0, 0.0, 0.0, 1.0, 0.0, 0.0, 0.0, 1.0, 2.0, 0.0, 1.0, 0.0, 0.0, 1.0, 0.0, 1.0, 1.0, 0.0, 0.0, 0.0, 0.0, 1.0, 0.0, 1.0, 1.0, 1.0, 0.0, 1.0, 0.0, 0.0, 0.0, 0.0, 0.0, 1.0, 0.0, 1.0, 1.0, 0.0, 0.0, 0.0, 0.0, 1.0, 0.0, 0.0, 0.0, 0.0, 0.0, 0.0, 1.0, 0.0, 1.0, 2.0, 1.0, 2.0, 0.0, 0.0, 0.0, 0.0, 0.0, 0.0, 0.0, 0.0, 0.0, 0.0, 1.0, 0.0, 0.0, 0.0, 0.0, 0.0, 1.0, 0.0, 2.0, 0.0, 1.0, 0.0, 0.0, 0.0, 0.0, 0.0, 0.0, 0.0, 0.0, 0.0, 0.0], 'test_losses': [2.387911081314087, 2.458893299102783, 2.4840033054351807, 2.3740427494049072, 2.362180233001709, 2.4270362854003906, 2.4839553833007812, 2.4082143306732178, 2.3597960472106934, 2.330714702606201, 2.4353439807891846, 2.504179000854492, 2.4699532985687256, 2.408426284790039, 2.293175220489502, 2.3524627685546875, 2.3269407749176025, 2.3975629806518555, 2.3975629806518555, 2.4200944900512695, 2.382338523864746, 2.327146053314209, 2.4035158157348633, 2.327195405960083, 2.418736219406128, 2.316673517227173, 2.448411703109741, 2.387910842895508, 2.443852424621582, 2.47704815864563, 2.469756603240967, 2.3001060485839844, 2.434356689453125, 2.3782498836517334, 2.364546775817871, 2.433187484741211, 2.4555578231811523, 2.431952476501465, 2.3700942993164062, 2.3877055644989014, 2.438915729522705, 2.396169662475586, 2.4390976428985596, 2.4482152462005615, 2.4224610328674316, 2.4177169799804688, 2.4699532985687256, 2.452310085296631, 2.40114688873291, 2.3240067958831787, 2.36314058303833, 2.5185837745666504, 2.359590768814087, 2.347499132156372, 2.472109794616699, 2.443852663040161, 2.384162425994873, 2.32774019241333, 2.449617624282837, 2.4507803916931152, 2.454728603363037, 2.3734569549560547, 2.3868792057037354, 2.3963749408721924, 2.359591007232666, 2.397407054901123, 2.3273513317108154, 2.482637882232666, 2.4022743701934814, 2.416423797607422, 2.487339973449707, 2.3927783966064453, 2.447187900543213, 2.412971019744873, 2.4485855102539062, 2.4626200199127197, 2.4189200401306152, 2.3629846572875977, 2.3441476821899414, 2.4345529079437256, 2.380969524383545, 2.4125821590423584, 2.3597898483276367, 2.4341726303100586, 2.3785793781280518, 2.377025604248047, 2.3378515243530273, 2.4440104961395264, 2.3145110607147217, 2.489774465560913, 2.437899351119995, 2.424462080001831, 2.434356451034546, 2.3428001403808594, 2.4080629348754883, 2.442636251449585, 2.420300245285034, 2.382197856903076, 2.414377212524414, 2.301464557647705, 2.3820013999938965, 2.3200583457946777, 2.428238868713379, 2.3390755653381348, 2.3574059009552, 2.3524608612060547, 2.4224610328674316, 2.543303966522217, 2.492467164993286, 2.4424805641174316, 2.41635799407959, 2.3394148349761963, 2.3845102787017822, 2.2777605056762695, 2.3582324981689453, 2.378405809402466, 2.4331469535827637, 2.3868789672851562, 2.4177041053771973, 2.4329352378845215, 2.3620221614837646, 2.3846940994262695, 2.4200942516326904, 2.464022159576416, 2.432168960571289, 2.420306444168091, 2.4177169799804688, 2.3772311210632324, 2.386673927307129, 2.2880210876464844, 2.4129719734191895, 2.3143057823181152, 2.391491413116455, 2.4677467346191406, 2.3845105171203613, 2.4246675968170166, 2.3952159881591797, 2.337254047393799, 2.5015869140625, 2.418948173522949, 2.380969762802124, 2.435372829437256, 2.411393880844116, 2.457705020904541, 2.41060471534729, 2.3964061737060547, 2.4460527896881104, 2.4889543056488037, 2.3487367630004883, 2.473323345184326, 2.3485312461853027, 2.4592349529266357, 2.361957311630249, 2.3489420413970947, 2.3858840465545654, 2.3772308826446533, 2.3847224712371826, 2.482637882232666, 2.376426935195923, 2.4887425899505615, 2.4092464447021484, 2.447570562362671, 2.464885950088501], 'test_loss': 2.4049532720647706, 'test_batch_lens': [4, 4, 4, 4, 4, 4, 4, 4, 4, 4, 4, 4, 4, 4, 4, 4, 4, 4, 4, 4, 4, 4, 4, 4, 4, 4, 4, 4, 4, 4, 4, 4, 4, 4, 4, 4, 4, 4, 4, 4, 4, 4, 4, 4, 4, 4, 4, 4, 4, 4, 4, 4, 4, 4, 4, 4, 4, 4, 4, 4, 4, 4, 4, 4, 4, 4, 4, 4, 4, 4, 4, 4, 4, 4, 4, 4, 4, 4, 4, 4, 4, 4, 4, 4, 4, 4, 4, 4, 4, 4, 4, 4, 4, 4, 4, 4, 4, 4, 4, 4, 4, 4, 4, 4, 4, 4, 4, 4, 4, 4, 4, 4, 4, 4, 4, 4, 4, 4, 4, 4, 4, 4, 4, 4, 4, 4, 4, 4, 4, 4, 4, 4, 4, 4, 4, 4, 4, 4, 4, 4, 4, 4, 4, 4, 4, 4, 4, 4, 4, 4, 4, 4, 4, 4, 4, 4, 4, 4, 4, 4, 4, 4, 3], 'test_accuracy': 0.08294930875576037, 'predictions': [5, 5, 5, 5, 5, 5, 5, 5, 5, 5, 5, 5, 5, 5, 5, 5, 5, 5, 5, 5, 5, 5, 5, 5, 5, 5, 5, 5, 5, 5, 5, 5, 5, 5, 5, 5, 5, 5, 5, 5, 5, 5, 5, 5, 5, 5, 5, 5, 5, 5, 5, 5, 5, 5, 5, 5, 5, 5, 5, 5, 5, 5, 5, 5, 5, 5, 5, 5, 5, 5, 5, 5, 5, 5, 5, 5, 5, 5, 5, 5, 5, 5, 5, 5, 5, 5, 5, 5, 5, 5, 5, 5, 5, 5, 5, 5, 5, 5, 5, 5, 5, 5, 5, 5, 5, 5, 5, 5, 5, 5, 5, 5, 5, 5, 5, 5, 5, 5, 5, 5, 5, 5, 5, 5, 5, 5, 5, 5, 5, 5, 5, 5, 5, 5, 5, 5, 5, 5, 5, 5, 5, 5, 5, 5, 5, 5, 5, 5, 5, 5, 5, 5, 5, 5, 5, 5, 5, 5, 5, 5, 5, 5, 5, 5, 5, 5, 5, 5, 5, 5, 5, 5, 5, 5, 5, 5, 5, 5, 5, 5, 5, 5, 5, 5, 5, 5, 5, 5, 5, 5, 5, 5, 5, 5, 5, 5, 5, 5, 5, 5, 5, 5, 5, 5, 5, 5, 5, 5, 5, 5, 5, 5, 5, 5, 5, 5, 5, 5, 5, 5, 5, 5, 5, 5, 5, 5, 5, 5, 5, 5, 5, 5, 5, 5, 5, 5, 5, 5, 5, 5, 5, 5, 5, 5, 5, 5, 5, 5, 5, 5, 5, 5, 5, 5, 5, 5, 5, 5, 5, 5, 5, 5, 5, 5, 5, 5, 5, 5, 5, 5, 5, 5, 5, 5, 5, 5, 5, 5, 5, 5, 5, 5, 5, 5, 5, 5, 5, 5, 5, 5, 5, 5, 5, 5, 5, 5, 5, 5, 5, 5, 5, 5, 5, 5, 5, 5, 5, 5, 5, 5, 5, 5, 5, 5, 5, 5, 5, 5, 5, 5, 5, 5, 5, 5, 5, 5, 5, 5, 5, 5, 5, 5, 5, 5, 5, 5, 5, 5, 5, 5, 5, 5, 5, 5, 5, 5, 5, 5, 5, 5, 5, 5, 5, 5, 5, 5, 5, 5, 5, 5, 5, 5, 5, 5, 5, 5, 5, 5, 5, 5, 5, 5, 5, 5, 5, 5, 5, 5, 5, 5, 5, 5, 5, 5, 5, 5, 5, 5, 5, 5, 5, 5, 5, 5, 5, 5, 5, 5, 5, 5, 5, 5, 5, 5, 5, 5, 5, 5, 5, 5, 5, 5, 5, 5, 5, 5, 5, 5, 5, 5, 5, 5, 5, 5, 5, 5, 5, 5, 5, 5, 5, 5, 5, 5, 5, 5, 5, 5, 5, 5, 5, 5, 5, 5, 5, 5, 5, 5, 5, 5, 5, 5, 5, 5, 5, 5, 5, 5, 5, 5, 5, 5, 5, 5, 5, 5, 5, 5, 5, 5, 5, 5, 5, 5, 5, 5, 5, 5, 5, 5, 5, 5, 5, 5, 5, 5, 5, 5, 5, 5, 5, 5, 5, 5, 5, 5, 5, 5, 5, 5, 5, 5, 5, 5, 5, 5, 5, 5, 5, 5, 5, 5, 5, 5, 5, 5, 5, 5, 5, 5, 5, 5, 5, 5, 5, 5, 5, 5, 5, 5, 5, 5, 5, 5, 5, 5, 5, 5, 5, 5, 5, 5, 5, 5, 5, 5, 5, 5, 5, 5, 5, 5, 5, 5, 5, 5, 5, 5, 5, 5, 5, 5, 5, 5, 5, 5, 5, 5, 5, 5, 5, 5, 5, 5, 5, 5, 5, 5, 5, 5, 5, 5, 5, 5, 5, 5, 5, 5, 5, 5, 5, 5, 5, 5, 5, 5, 5, 5, 5, 5, 5, 5, 5, 5, 5, 5, 5, 5, 5, 5, 5, 5, 5, 5, 5, 5, 5, 5, 5, 5, 5, 5, 5, 5, 5, 5, 5, 5, 5, 5, 5, 5, 5, 5, 5, 5, 5, 5, 5, 5, 5, 5, 5, 5, 5, 5, 5, 5, 5, 5, 5], 'real_labels': [7, 4, 1, 10, 7, 1, 8, 8, 0, 8, 4, 7, 1, 9, 3, 0, 9, 6, 4, 9, 8, 10, 1, 4, 6, 8, 8, 6, 6, 8, 2, 1, 1, 9, 6, 3, 10, 5, 5, 0, 10, 3, 2, 10, 7, 8, 4, 3, 3, 8, 9, 4, 3, 4, 6, 1, 1, 9, 1, 10, 10, 6, 1, 6, 5, 5, 8, 5, 8, 1, 3, 1, 1, 3, 1, 8, 6, 8, 9, 2, 3, 1, 3, 1, 5, 5, 1, 8, 0, 4, 9, 10, 10, 7, 1, 5, 1, 8, 2, 7, 5, 1, 10, 6, 10, 8, 3, 9, 10, 4, 7, 1, 0, 3, 7, 6, 0, 8, 0, 0, 4, 8, 7, 6, 5, 1, 7, 9, 6, 7, 4, 0, 10, 10, 7, 9, 4, 1, 9, 0, 10, 3, 3, 9, 4, 7, 4, 7, 2, 10, 2, 4, 10, 10, 1, 0, 10, 5, 4, 7, 8, 9, 10, 4, 2, 3, 10, 5, 8, 0, 9, 0, 10, 7, 6, 8, 0, 8, 1, 2, 6, 3, 5, 3, 9, 3, 4, 8, 3, 2, 0, 2, 0, 9, 9, 8, 1, 3, 5, 9, 8, 1, 6, 1, 4, 3, 4, 8, 3, 9, 5, 6, 2, 5, 4, 5, 2, 10, 8, 4, 7, 3, 0, 6, 7, 0, 5, 7, 1, 0, 1, 6, 3, 7, 7, 2, 10, 4, 3, 10, 9, 4, 3, 3, 1, 7, 8, 5, 2, 4, 10, 1, 1, 2, 3, 10, 6, 9, 5, 3, 3, 10, 7, 1, 5, 1, 8, 1, 8, 7, 3, 10, 3, 5, 2, 2, 7, 3, 9, 7, 6, 8, 8, 10, 2, 4, 2, 5, 5, 3, 8, 0, 8, 6, 0, 1, 2, 7, 3, 2, 4, 10, 8, 6, 6, 0, 2, 7, 10, 1, 7, 6, 9, 2, 5, 2, 0, 9, 4, 3, 2, 6, 7, 9, 1, 8, 8, 5, 2, 9, 4, 1, 1, 8, 4, 7, 1, 2, 7, 2, 5, 0, 7, 10, 5, 0, 5, 7, 3, 6, 4, 6, 4, 9, 5, 1, 8, 3, 7, 7, 4, 4, 6, 10, 8, 9, 8, 5, 6, 7, 4, 0, 5, 0, 9, 10, 5, 0, 3, 7, 3, 1, 8, 2, 2, 4, 4, 9, 3, 7, 9, 9, 9, 4, 0, 0, 5, 6, 9, 9, 7, 7, 6, 9, 1, 10, 10, 5, 5, 7, 3, 3, 5, 10, 9, 7, 2, 3, 1, 1, 0, 5, 4, 1, 2, 0, 1, 8, 8, 4, 8, 3, 8, 0, 3, 2, 2, 3, 7, 10, 10, 4, 10, 6, 6, 5, 0, 9, 8, 2, 1, 9, 9, 5, 9, 9, 1, 3, 5, 7, 9, 10, 1, 8, 1, 6, 3, 8, 2, 4, 10, 1, 1, 2, 8, 2, 4, 8, 2, 5, 9, 9, 0, 7, 6, 9, 2, 0, 2, 8, 6, 9, 3, 7, 2, 4, 3, 0, 1, 3, 9, 6, 3, 4, 6, 3, 3, 5, 0, 1, 7, 10, 4, 10, 2, 5, 5, 7, 5, 1, 4, 5, 0, 4, 5, 4, 9, 5, 9, 7, 7, 2, 0, 2, 4, 3, 2, 9, 1, 8, 9, 1, 8, 8, 2, 0, 9, 7, 6, 9, 6, 9, 0, 10, 8, 8, 4, 1, 7, 3, 2, 7, 9, 6, 7, 8, 9, 0, 8, 2, 10, 5, 2, 10, 8, 7, 9, 6, 8, 6, 6, 4, 7, 9, 7, 8, 4, 9, 3, 3, 7, 4, 1, 7, 5, 4, 0, 7, 8, 0, 7, 4, 5, 5, 4, 8, 6, 6, 1, 5, 3, 0, 1, 4, 7, 1, 9, 4, 6, 6, 10, 7, 1, 0, 3, 9, 1, 4, 3, 10, 7, 8, 9, 9, 4, 0, 2, 3, 7, 8, 6, 8, 1, 7, 4, 0, 2, 0, 8, 6, 7], 'label_to_index': {'down': 0, 'go': 1, 'left': 2, 'no': 3, 'off': 4, 'on': 5, 'right': 6, 'stop': 7, 'unknown': 8, 'up': 9, 'yes': 10}}\n",
      "Test Loss: 2.4049532720647706, Test Accuracy: 0.08294930875576037\n"
     ]
    },
    {
     "name": "stderr",
     "output_type": "stream",
     "text": [
      "Some weights of the model checkpoint at superb/wav2vec2-base-superb-ks were not used when initializing Wav2Vec2ForSequenceClassification: ['wav2vec2.encoder.pos_conv_embed.conv.weight_g', 'wav2vec2.encoder.pos_conv_embed.conv.weight_v']\n",
      "- This IS expected if you are initializing Wav2Vec2ForSequenceClassification from the checkpoint of a model trained on another task or with another architecture (e.g. initializing a BertForSequenceClassification model from a BertForPreTraining model).\n",
      "- This IS NOT expected if you are initializing Wav2Vec2ForSequenceClassification from the checkpoint of a model that you expect to be exactly identical (initializing a BertForSequenceClassification model from a BertForSequenceClassification model).\n",
      "Some weights of Wav2Vec2ForSequenceClassification were not initialized from the model checkpoint at superb/wav2vec2-base-superb-ks and are newly initialized: ['wav2vec2.encoder.pos_conv_embed.conv.parametrizations.weight.original0', 'wav2vec2.encoder.pos_conv_embed.conv.parametrizations.weight.original1']\n",
      "You should probably TRAIN this model on a down-stream task to be able to use it for predictions and inference.\n"
     ]
    },
    {
     "data": {
      "application/vnd.jupyter.widget-view+json": {
       "model_id": "aa3c3f82eab34402a3c786e2b6fa5876",
       "version_major": 2,
       "version_minor": 0
      },
      "text/plain": [
       "Epoch 1/10:   0%|          | 0/6187 [00:00<?, ?it/s]"
      ]
     },
     "metadata": {},
     "output_type": "display_data"
    },
    {
     "name": "stdout",
     "output_type": "stream",
     "text": [
      "Epoch 1/10, Train Loss: 2.4359823243961363\n"
     ]
    },
    {
     "data": {
      "application/vnd.jupyter.widget-view+json": {
       "model_id": "21b638719b094a02bf3075f33986650a",
       "version_major": 2,
       "version_minor": 0
      },
      "text/plain": [
       "Validation:   0%|          | 0/163 [00:00<?, ?it/s]"
      ]
     },
     "metadata": {},
     "output_type": "display_data"
    },
    {
     "name": "stdout",
     "output_type": "stream",
     "text": [
      "Epoch 1/10, Validation Loss: 2.4233386523884497, Validation Accuracy: 0.12749615975422426\n"
     ]
    },
    {
     "data": {
      "application/vnd.jupyter.widget-view+json": {
       "model_id": "a514d68c9caa4cb6b7e2239edcf42ff9",
       "version_major": 2,
       "version_minor": 0
      },
      "text/plain": [
       "Epoch 2/10:   0%|          | 0/6187 [00:00<?, ?it/s]"
      ]
     },
     "metadata": {},
     "output_type": "display_data"
    },
    {
     "name": "stdout",
     "output_type": "stream",
     "text": [
      "Epoch 2/10, Train Loss: 2.42762050199763\n"
     ]
    },
    {
     "data": {
      "application/vnd.jupyter.widget-view+json": {
       "model_id": "bcd1a1e01a4d428481ba2dc2e7e09c78",
       "version_major": 2,
       "version_minor": 0
      },
      "text/plain": [
       "Validation:   0%|          | 0/163 [00:00<?, ?it/s]"
      ]
     },
     "metadata": {},
     "output_type": "display_data"
    },
    {
     "name": "stdout",
     "output_type": "stream",
     "text": [
      "Epoch 2/10, Validation Loss: 2.398309254207494, Validation Accuracy: 0.09216589861751152\n"
     ]
    },
    {
     "data": {
      "application/vnd.jupyter.widget-view+json": {
       "model_id": "4229b5b710004b84bc007ac45c163e17",
       "version_major": 2,
       "version_minor": 0
      },
      "text/plain": [
       "Epoch 3/10:   0%|          | 0/6187 [00:00<?, ?it/s]"
      ]
     },
     "metadata": {},
     "output_type": "display_data"
    },
    {
     "name": "stdout",
     "output_type": "stream",
     "text": [
      "Epoch 3/10, Train Loss: 2.427183030956836\n"
     ]
    },
    {
     "data": {
      "application/vnd.jupyter.widget-view+json": {
       "model_id": "848156600fe64b09a15bd27c652e876c",
       "version_major": 2,
       "version_minor": 0
      },
      "text/plain": [
       "Validation:   0%|          | 0/163 [00:00<?, ?it/s]"
      ]
     },
     "metadata": {},
     "output_type": "display_data"
    },
    {
     "name": "stdout",
     "output_type": "stream",
     "text": [
      "Epoch 3/10, Validation Loss: 2.4579735913891003, Validation Accuracy: 0.08602150537634409\n"
     ]
    },
    {
     "data": {
      "application/vnd.jupyter.widget-view+json": {
       "model_id": "74e1713c33254a089d58ba90626d0a6b",
       "version_major": 2,
       "version_minor": 0
      },
      "text/plain": [
       "Epoch 4/10:   0%|          | 0/6187 [00:00<?, ?it/s]"
      ]
     },
     "metadata": {},
     "output_type": "display_data"
    },
    {
     "name": "stdout",
     "output_type": "stream",
     "text": [
      "Epoch 4/10, Train Loss: 2.426019959791192\n"
     ]
    },
    {
     "data": {
      "application/vnd.jupyter.widget-view+json": {
       "model_id": "d7c5a4c2269e4777af1f52d27a784bbd",
       "version_major": 2,
       "version_minor": 0
      },
      "text/plain": [
       "Validation:   0%|          | 0/163 [00:00<?, ?it/s]"
      ]
     },
     "metadata": {},
     "output_type": "display_data"
    },
    {
     "name": "stdout",
     "output_type": "stream",
     "text": [
      "Epoch 4/10, Validation Loss: 2.438853575408093, Validation Accuracy: 0.0706605222734255\n"
     ]
    },
    {
     "data": {
      "application/vnd.jupyter.widget-view+json": {
       "model_id": "079c86e40fa6405fa235cd04bd0a48eb",
       "version_major": 2,
       "version_minor": 0
      },
      "text/plain": [
       "Epoch 5/10:   0%|          | 0/6187 [00:00<?, ?it/s]"
      ]
     },
     "metadata": {},
     "output_type": "display_data"
    },
    {
     "name": "stdout",
     "output_type": "stream",
     "text": [
      "Epoch 5/10, Train Loss: 2.423839640497911\n"
     ]
    },
    {
     "data": {
      "application/vnd.jupyter.widget-view+json": {
       "model_id": "33acf91d71464c55925e912a973baa1a",
       "version_major": 2,
       "version_minor": 0
      },
      "text/plain": [
       "Validation:   0%|          | 0/163 [00:00<?, ?it/s]"
      ]
     },
     "metadata": {},
     "output_type": "display_data"
    },
    {
     "name": "stdout",
     "output_type": "stream",
     "text": [
      "Epoch 5/10, Validation Loss: 2.407852147985821, Validation Accuracy: 0.08602150537634409\n"
     ]
    },
    {
     "data": {
      "application/vnd.jupyter.widget-view+json": {
       "model_id": "598d38a518254240ad105f300dd08d59",
       "version_major": 2,
       "version_minor": 0
      },
      "text/plain": [
       "Epoch 6/10:   0%|          | 0/6187 [00:00<?, ?it/s]"
      ]
     },
     "metadata": {},
     "output_type": "display_data"
    },
    {
     "name": "stdout",
     "output_type": "stream",
     "text": [
      "Epoch 6/10, Train Loss: 2.426617588001903\n"
     ]
    },
    {
     "data": {
      "application/vnd.jupyter.widget-view+json": {
       "model_id": "bd6d13107c664ba6ac30f604f94216e3",
       "version_major": 2,
       "version_minor": 0
      },
      "text/plain": [
       "Validation:   0%|          | 0/163 [00:00<?, ?it/s]"
      ]
     },
     "metadata": {},
     "output_type": "display_data"
    },
    {
     "name": "stdout",
     "output_type": "stream",
     "text": [
      "Epoch 6/10, Validation Loss: 2.41056085656757, Validation Accuracy: 0.0967741935483871\n"
     ]
    },
    {
     "data": {
      "application/vnd.jupyter.widget-view+json": {
       "model_id": "74897e1ecef0473aba400d64183ba2c9",
       "version_major": 2,
       "version_minor": 0
      },
      "text/plain": [
       "Epoch 7/10:   0%|          | 0/6187 [00:00<?, ?it/s]"
      ]
     },
     "metadata": {},
     "output_type": "display_data"
    },
    {
     "name": "stdout",
     "output_type": "stream",
     "text": [
      "Epoch 7/10, Train Loss: 2.4239340222515775\n"
     ]
    },
    {
     "data": {
      "application/vnd.jupyter.widget-view+json": {
       "model_id": "7eea44a7131b4115b3dbb492b060f057",
       "version_major": 2,
       "version_minor": 0
      },
      "text/plain": [
       "Validation:   0%|          | 0/163 [00:00<?, ?it/s]"
      ]
     },
     "metadata": {},
     "output_type": "display_data"
    },
    {
     "name": "stdout",
     "output_type": "stream",
     "text": [
      "Epoch 7/10, Validation Loss: 2.4119276342216445, Validation Accuracy: 0.08602150537634409\n"
     ]
    },
    {
     "data": {
      "application/vnd.jupyter.widget-view+json": {
       "model_id": "8e915d5fda204185a96e09561c570706",
       "version_major": 2,
       "version_minor": 0
      },
      "text/plain": [
       "Epoch 8/10:   0%|          | 0/6187 [00:00<?, ?it/s]"
      ]
     },
     "metadata": {},
     "output_type": "display_data"
    },
    {
     "name": "stdout",
     "output_type": "stream",
     "text": [
      "Epoch 8/10, Train Loss: 2.424087775722736\n"
     ]
    },
    {
     "data": {
      "application/vnd.jupyter.widget-view+json": {
       "model_id": "c43510ab00624f1c97579c45eff021dc",
       "version_major": 2,
       "version_minor": 0
      },
      "text/plain": [
       "Validation:   0%|          | 0/163 [00:00<?, ?it/s]"
      ]
     },
     "metadata": {},
     "output_type": "display_data"
    },
    {
     "name": "stdout",
     "output_type": "stream",
     "text": [
      "Epoch 8/10, Validation Loss: 2.417147854354484, Validation Accuracy: 0.0967741935483871\n"
     ]
    },
    {
     "data": {
      "application/vnd.jupyter.widget-view+json": {
       "model_id": "9b75ba0ed4f448bb8f450f4c1d1dc875",
       "version_major": 2,
       "version_minor": 0
      },
      "text/plain": [
       "Epoch 9/10:   0%|          | 0/6187 [00:00<?, ?it/s]"
      ]
     },
     "metadata": {},
     "output_type": "display_data"
    },
    {
     "name": "stdout",
     "output_type": "stream",
     "text": [
      "Epoch 9/10, Train Loss: 2.42251073662869\n"
     ]
    },
    {
     "data": {
      "application/vnd.jupyter.widget-view+json": {
       "model_id": "75d3391f16c542e5b2534f8b252a8e59",
       "version_major": 2,
       "version_minor": 0
      },
      "text/plain": [
       "Validation:   0%|          | 0/163 [00:00<?, ?it/s]"
      ]
     },
     "metadata": {},
     "output_type": "display_data"
    },
    {
     "name": "stdout",
     "output_type": "stream",
     "text": [
      "Epoch 9/10, Validation Loss: 2.4230502456243785, Validation Accuracy: 0.0967741935483871\n"
     ]
    },
    {
     "data": {
      "application/vnd.jupyter.widget-view+json": {
       "model_id": "8e7ad52a9b35433e90aa8f6efe872c8a",
       "version_major": 2,
       "version_minor": 0
      },
      "text/plain": [
       "Epoch 10/10:   0%|          | 0/6187 [00:00<?, ?it/s]"
      ]
     },
     "metadata": {},
     "output_type": "display_data"
    },
    {
     "name": "stdout",
     "output_type": "stream",
     "text": [
      "Epoch 10/10, Train Loss: 2.4248479974468324\n"
     ]
    },
    {
     "data": {
      "application/vnd.jupyter.widget-view+json": {
       "model_id": "a1fb6d2150aa4a6ca0b0fea913334a93",
       "version_major": 2,
       "version_minor": 0
      },
      "text/plain": [
       "Validation:   0%|          | 0/163 [00:00<?, ?it/s]"
      ]
     },
     "metadata": {},
     "output_type": "display_data"
    },
    {
     "name": "stdout",
     "output_type": "stream",
     "text": [
      "Epoch 10/10, Validation Loss: 2.4374157519428277, Validation Accuracy: 0.0706605222734255\n"
     ]
    },
    {
     "data": {
      "application/vnd.jupyter.widget-view+json": {
       "model_id": "3084a9a506b54d56a467289fdb764b1b",
       "version_major": 2,
       "version_minor": 0
      },
      "text/plain": [
       "Testing:   0%|          | 0/163 [00:00<?, ?it/s]"
      ]
     },
     "metadata": {},
     "output_type": "display_data"
    },
    {
     "name": "stdout",
     "output_type": "stream",
     "text": [
      "{'val_acc': [0.12749615975422426, 0.09216589861751152, 0.08602150537634409, 0.0706605222734255, 0.08602150537634409, 0.0967741935483871, 0.08602150537634409, 0.0967741935483871, 0.0967741935483871, 0.0706605222734255], 'val_loss': [2.4233386523884497, 2.398309254207494, 2.4579735913891003, 2.438853575408093, 2.407852147985821, 2.41056085656757, 2.4119276342216445, 2.417147854354484, 2.4230502456243785, 2.4374157519428277], 'train_loss': [2.4359823243961363, 2.42762050199763, 2.427183030956836, 2.426019959791192, 2.423839640497911, 2.426617588001903, 2.4239340222515775, 2.424087775722736, 2.42251073662869, 2.4248479974468324], 'test_correct_in_batch': [0.0, 0.0, 0.0, 0.0, 1.0, 0.0, 2.0, 1.0, 1.0, 0.0, 0.0, 0.0, 0.0, 1.0, 0.0, 2.0, 0.0, 0.0, 0.0, 1.0, 0.0, 0.0, 0.0, 0.0, 0.0, 1.0, 0.0, 0.0, 1.0, 0.0, 1.0, 0.0, 1.0, 0.0, 0.0, 0.0, 0.0, 0.0, 0.0, 0.0, 0.0, 0.0, 0.0, 1.0, 0.0, 1.0, 0.0, 0.0, 0.0, 0.0, 1.0, 0.0, 1.0, 0.0, 0.0, 1.0, 0.0, 1.0, 0.0, 0.0, 0.0, 0.0, 0.0, 0.0, 1.0, 0.0, 0.0, 0.0, 0.0, 0.0, 1.0, 0.0, 0.0, 1.0, 0.0, 1.0, 1.0, 1.0, 0.0, 0.0, 1.0, 0.0, 0.0, 0.0, 0.0, 0.0, 0.0, 2.0, 0.0, 0.0, 1.0, 0.0, 1.0, 0.0, 0.0, 0.0, 0.0, 0.0, 0.0, 1.0, 1.0, 0.0, 0.0, 0.0, 0.0, 0.0, 0.0, 0.0, 0.0, 0.0, 1.0, 1.0, 0.0, 0.0, 0.0, 0.0, 1.0, 0.0, 0.0, 0.0, 0.0, 1.0, 1.0, 0.0, 0.0, 1.0, 1.0, 0.0, 0.0, 0.0, 0.0, 0.0, 0.0, 0.0, 0.0, 0.0, 0.0, 2.0, 0.0, 0.0, 1.0, 0.0, 0.0, 0.0, 2.0, 1.0, 0.0, 0.0, 0.0, 0.0, 0.0, 2.0, 0.0, 0.0, 2.0, 0.0, 0.0, 0.0, 0.0, 0.0, 1.0, 0.0, 1.0], 'test_losses': [2.403904914855957, 2.401129961013794, 2.5452072620391846, 2.328615665435791, 2.2319610118865967, 2.4194607734680176, 2.287055730819702, 2.324079751968384, 2.1805224418640137, 2.616614580154419, 2.4639267921447754, 2.4716267585754395, 2.396827220916748, 2.286329507827759, 2.22296142578125, 2.1836860179901123, 2.6333529949188232, 2.290346622467041, 2.2903456687927246, 2.324416160583496, 2.2547049522399902, 2.500669002532959, 2.4577317237854004, 2.4304447174072266, 2.4186835289001465, 2.3358383178710938, 2.368696928024292, 2.403904676437378, 2.383944511413574, 2.621175765991211, 2.3971126079559326, 2.352766990661621, 2.4350476264953613, 2.376110792160034, 2.379716634750366, 2.3330459594726562, 2.507171630859375, 2.545259714126587, 2.4292633533477783, 2.536588191986084, 2.4197990894317627, 2.518596649169922, 2.4928884506225586, 2.368983268737793, 2.472172260284424, 2.367910861968994, 2.3968286514282227, 2.544769763946533, 2.364603281021118, 2.332674264907837, 2.2158331871032715, 2.502633571624756, 2.3132035732269287, 2.6243655681610107, 2.5277063846588135, 2.383944034576416, 2.5561888217926025, 2.253765821456909, 2.458169937133789, 2.4618258476257324, 2.361180305480957, 2.4431209564208984, 2.437013626098633, 2.385913610458374, 2.3132057189941406, 2.3528027534484863, 2.367983818054199, 2.443498373031616, 2.548827648162842, 2.3502633571624756, 2.3845391273498535, 2.59993052482605, 2.5516533851623535, 2.3444581031799316, 2.4912803173065186, 2.3999924659729004, 2.4371471405029297, 2.2782905101776123, 2.494117259979248, 2.434760332107544, 2.3088598251342773, 2.4586782455444336, 2.3593392372131348, 2.41658353805542, 2.436237096786499, 2.5590670108795166, 2.613736629486084, 2.2668614387512207, 2.3837761878967285, 2.4406166076660156, 2.4154458045959473, 2.459015369415283, 2.4350452423095703, 2.484269857406616, 2.5360963344573975, 2.3985915184020996, 2.465479850769043, 2.275465488433838, 2.50834059715271, 2.2584991455078125, 2.275749683380127, 2.433321952819824, 2.462523937225342, 2.4307808876037598, 2.3078997135162354, 2.5120646953582764, 2.472172737121582, 2.487183094024658, 2.527215003967285, 2.4610490798950195, 2.387314558029175, 2.386786699295044, 2.3438832759857178, 2.278306007385254, 2.407473564147949, 2.3136541843414307, 2.2708780765533447, 2.4370148181915283, 2.451793670654297, 2.5823755264282227, 2.3490450382232666, 2.362349033355713, 2.324415683746338, 2.4891772270202637, 2.3833236694335938, 2.2866673469543457, 2.3679113388061523, 2.4263837337493896, 2.569697380065918, 2.485111713409424, 2.618208169937134, 2.5164599418640137, 2.4034643173217773, 2.5426695346832275, 2.343886375427246, 2.3263320922851562, 2.4569530487060547, 2.1063475608825684, 2.532632827758789, 2.380934476852417, 2.3088603019714355, 2.439401149749756, 2.554246187210083, 2.4966979026794434, 2.1967012882232666, 2.3067588806152344, 2.416919708251953, 2.435976505279541, 2.458573818206787, 2.5676865577697754, 2.5912575721740723, 2.3025095462799072, 2.4609627723693848, 2.3258912563323975, 2.2121567726135254, 2.4263839721679688, 2.3061375617980957, 2.4434943199157715, 2.3800554275512695, 2.473726749420166, 2.290968656539917, 2.6162517070770264, 2.339754343032837], 'test_loss': 2.411655712712762, 'test_batch_lens': [4, 4, 4, 4, 4, 4, 4, 4, 4, 4, 4, 4, 4, 4, 4, 4, 4, 4, 4, 4, 4, 4, 4, 4, 4, 4, 4, 4, 4, 4, 4, 4, 4, 4, 4, 4, 4, 4, 4, 4, 4, 4, 4, 4, 4, 4, 4, 4, 4, 4, 4, 4, 4, 4, 4, 4, 4, 4, 4, 4, 4, 4, 4, 4, 4, 4, 4, 4, 4, 4, 4, 4, 4, 4, 4, 4, 4, 4, 4, 4, 4, 4, 4, 4, 4, 4, 4, 4, 4, 4, 4, 4, 4, 4, 4, 4, 4, 4, 4, 4, 4, 4, 4, 4, 4, 4, 4, 4, 4, 4, 4, 4, 4, 4, 4, 4, 4, 4, 4, 4, 4, 4, 4, 4, 4, 4, 4, 4, 4, 4, 4, 4, 4, 4, 4, 4, 4, 4, 4, 4, 4, 4, 4, 4, 4, 4, 4, 4, 4, 4, 4, 4, 4, 4, 4, 4, 4, 4, 4, 4, 4, 4, 3], 'test_accuracy': 0.07834101382488479, 'predictions': [6, 6, 6, 6, 6, 6, 6, 6, 6, 6, 6, 6, 6, 6, 6, 6, 6, 6, 6, 6, 6, 6, 6, 6, 6, 6, 6, 6, 6, 6, 6, 6, 6, 6, 6, 6, 6, 6, 6, 6, 6, 6, 6, 6, 6, 6, 6, 6, 6, 6, 6, 6, 6, 6, 6, 6, 6, 6, 6, 6, 6, 6, 6, 6, 6, 6, 6, 6, 6, 6, 6, 6, 6, 6, 6, 6, 6, 6, 6, 6, 6, 6, 6, 6, 6, 6, 6, 6, 6, 6, 6, 6, 6, 6, 6, 6, 6, 6, 6, 6, 6, 6, 6, 6, 6, 6, 6, 6, 6, 6, 6, 6, 6, 6, 6, 6, 6, 6, 6, 6, 6, 6, 6, 6, 6, 6, 6, 6, 6, 6, 6, 6, 6, 6, 6, 6, 6, 6, 6, 6, 6, 6, 6, 6, 6, 6, 6, 6, 6, 6, 6, 6, 6, 6, 6, 6, 6, 6, 6, 6, 6, 6, 6, 6, 6, 6, 6, 6, 6, 6, 6, 6, 6, 6, 6, 6, 6, 6, 6, 6, 6, 6, 6, 6, 6, 6, 6, 6, 6, 6, 6, 6, 6, 6, 6, 6, 6, 6, 6, 6, 6, 6, 6, 6, 6, 6, 6, 6, 6, 6, 6, 6, 6, 6, 6, 6, 6, 6, 6, 6, 6, 6, 6, 6, 6, 6, 6, 6, 6, 6, 6, 6, 6, 6, 6, 6, 6, 6, 6, 6, 6, 6, 6, 6, 6, 6, 6, 6, 6, 6, 6, 6, 6, 6, 6, 6, 6, 6, 6, 6, 6, 6, 6, 6, 6, 6, 6, 6, 6, 6, 6, 6, 6, 6, 6, 6, 6, 6, 6, 6, 6, 6, 6, 6, 6, 6, 6, 6, 6, 6, 6, 6, 6, 6, 6, 6, 6, 6, 6, 6, 6, 6, 6, 6, 6, 6, 6, 6, 6, 6, 6, 6, 6, 6, 6, 6, 6, 6, 6, 6, 6, 6, 6, 6, 6, 6, 6, 6, 6, 6, 6, 6, 6, 6, 6, 6, 6, 6, 6, 6, 6, 6, 6, 6, 6, 6, 6, 6, 6, 6, 6, 6, 6, 6, 6, 6, 6, 6, 6, 6, 6, 6, 6, 6, 6, 6, 6, 6, 6, 6, 6, 6, 6, 6, 6, 6, 6, 6, 6, 6, 6, 6, 6, 6, 6, 6, 6, 6, 6, 6, 6, 6, 6, 6, 6, 6, 6, 6, 6, 6, 6, 6, 6, 6, 6, 6, 6, 6, 6, 6, 6, 6, 6, 6, 6, 6, 6, 6, 6, 6, 6, 6, 6, 6, 6, 6, 6, 6, 6, 6, 6, 6, 6, 6, 6, 6, 6, 6, 6, 6, 6, 6, 6, 6, 6, 6, 6, 6, 6, 6, 6, 6, 6, 6, 6, 6, 6, 6, 6, 6, 6, 6, 6, 6, 6, 6, 6, 6, 6, 6, 6, 6, 6, 6, 6, 6, 6, 6, 6, 6, 6, 6, 6, 6, 6, 6, 6, 6, 6, 6, 6, 6, 6, 6, 6, 6, 6, 6, 6, 6, 6, 6, 6, 6, 6, 6, 6, 6, 6, 6, 6, 6, 6, 6, 6, 6, 6, 6, 6, 6, 6, 6, 6, 6, 6, 6, 6, 6, 6, 6, 6, 6, 6, 6, 6, 6, 6, 6, 6, 6, 6, 6, 6, 6, 6, 6, 6, 6, 6, 6, 6, 6, 6, 6, 6, 6, 6, 6, 6, 6, 6, 6, 6, 6, 6, 6, 6, 6, 6, 6, 6, 6, 6, 6, 6, 6, 6, 6, 6, 6, 6, 6, 6, 6, 6, 6, 6, 6, 6, 6, 6, 6, 6, 6, 6, 6, 6, 6, 6, 6, 6, 6, 6, 6, 6, 6, 6, 6, 6, 6, 6, 6, 6, 6, 6, 6, 6, 6, 6, 6, 6, 6, 6, 6, 6, 6, 6, 6, 6, 6, 6, 6, 6, 6, 6, 6, 6, 6, 6, 6, 6, 6, 6, 6, 6, 6, 6, 6, 6, 6, 6], 'real_labels': [7, 4, 1, 10, 7, 1, 8, 8, 0, 8, 4, 7, 1, 9, 3, 0, 9, 6, 4, 9, 8, 10, 1, 4, 6, 8, 8, 6, 6, 8, 2, 1, 1, 9, 6, 3, 10, 5, 5, 0, 10, 3, 2, 10, 7, 8, 4, 3, 3, 8, 9, 4, 3, 4, 6, 1, 1, 9, 1, 10, 10, 6, 1, 6, 5, 5, 8, 5, 8, 1, 3, 1, 1, 3, 1, 8, 6, 8, 9, 2, 3, 1, 3, 1, 5, 5, 1, 8, 0, 4, 9, 10, 10, 7, 1, 5, 1, 8, 2, 7, 5, 1, 10, 6, 10, 8, 3, 9, 10, 4, 7, 1, 0, 3, 7, 6, 0, 8, 0, 0, 4, 8, 7, 6, 5, 1, 7, 9, 6, 7, 4, 0, 10, 10, 7, 9, 4, 1, 9, 0, 10, 3, 3, 9, 4, 7, 4, 7, 2, 10, 2, 4, 10, 10, 1, 0, 10, 5, 4, 7, 8, 9, 10, 4, 2, 3, 10, 5, 8, 0, 9, 0, 10, 7, 6, 8, 0, 8, 1, 2, 6, 3, 5, 3, 9, 3, 4, 8, 3, 2, 0, 2, 0, 9, 9, 8, 1, 3, 5, 9, 8, 1, 6, 1, 4, 3, 4, 8, 3, 9, 5, 6, 2, 5, 4, 5, 2, 10, 8, 4, 7, 3, 0, 6, 7, 0, 5, 7, 1, 0, 1, 6, 3, 7, 7, 2, 10, 4, 3, 10, 9, 4, 3, 3, 1, 7, 8, 5, 2, 4, 10, 1, 1, 2, 3, 10, 6, 9, 5, 3, 3, 10, 7, 1, 5, 1, 8, 1, 8, 7, 3, 10, 3, 5, 2, 2, 7, 3, 9, 7, 6, 8, 8, 10, 2, 4, 2, 5, 5, 3, 8, 0, 8, 6, 0, 1, 2, 7, 3, 2, 4, 10, 8, 6, 6, 0, 2, 7, 10, 1, 7, 6, 9, 2, 5, 2, 0, 9, 4, 3, 2, 6, 7, 9, 1, 8, 8, 5, 2, 9, 4, 1, 1, 8, 4, 7, 1, 2, 7, 2, 5, 0, 7, 10, 5, 0, 5, 7, 3, 6, 4, 6, 4, 9, 5, 1, 8, 3, 7, 7, 4, 4, 6, 10, 8, 9, 8, 5, 6, 7, 4, 0, 5, 0, 9, 10, 5, 0, 3, 7, 3, 1, 8, 2, 2, 4, 4, 9, 3, 7, 9, 9, 9, 4, 0, 0, 5, 6, 9, 9, 7, 7, 6, 9, 1, 10, 10, 5, 5, 7, 3, 3, 5, 10, 9, 7, 2, 3, 1, 1, 0, 5, 4, 1, 2, 0, 1, 8, 8, 4, 8, 3, 8, 0, 3, 2, 2, 3, 7, 10, 10, 4, 10, 6, 6, 5, 0, 9, 8, 2, 1, 9, 9, 5, 9, 9, 1, 3, 5, 7, 9, 10, 1, 8, 1, 6, 3, 8, 2, 4, 10, 1, 1, 2, 8, 2, 4, 8, 2, 5, 9, 9, 0, 7, 6, 9, 2, 0, 2, 8, 6, 9, 3, 7, 2, 4, 3, 0, 1, 3, 9, 6, 3, 4, 6, 3, 3, 5, 0, 1, 7, 10, 4, 10, 2, 5, 5, 7, 5, 1, 4, 5, 0, 4, 5, 4, 9, 5, 9, 7, 7, 2, 0, 2, 4, 3, 2, 9, 1, 8, 9, 1, 8, 8, 2, 0, 9, 7, 6, 9, 6, 9, 0, 10, 8, 8, 4, 1, 7, 3, 2, 7, 9, 6, 7, 8, 9, 0, 8, 2, 10, 5, 2, 10, 8, 7, 9, 6, 8, 6, 6, 4, 7, 9, 7, 8, 4, 9, 3, 3, 7, 4, 1, 7, 5, 4, 0, 7, 8, 0, 7, 4, 5, 5, 4, 8, 6, 6, 1, 5, 3, 0, 1, 4, 7, 1, 9, 4, 6, 6, 10, 7, 1, 0, 3, 9, 1, 4, 3, 10, 7, 8, 9, 9, 4, 0, 2, 3, 7, 8, 6, 8, 1, 7, 4, 0, 2, 0, 8, 6, 7], 'label_to_index': {'down': 0, 'go': 1, 'left': 2, 'no': 3, 'off': 4, 'on': 5, 'right': 6, 'stop': 7, 'unknown': 8, 'up': 9, 'yes': 10}}\n",
      "Test Loss: 2.411655712712762, Test Accuracy: 0.07834101382488479\n"
     ]
    },
    {
     "name": "stderr",
     "output_type": "stream",
     "text": [
      "Some weights of the model checkpoint at superb/wav2vec2-base-superb-ks were not used when initializing Wav2Vec2ForSequenceClassification: ['wav2vec2.encoder.pos_conv_embed.conv.weight_g', 'wav2vec2.encoder.pos_conv_embed.conv.weight_v']\n",
      "- This IS expected if you are initializing Wav2Vec2ForSequenceClassification from the checkpoint of a model trained on another task or with another architecture (e.g. initializing a BertForSequenceClassification model from a BertForPreTraining model).\n",
      "- This IS NOT expected if you are initializing Wav2Vec2ForSequenceClassification from the checkpoint of a model that you expect to be exactly identical (initializing a BertForSequenceClassification model from a BertForSequenceClassification model).\n",
      "Some weights of Wav2Vec2ForSequenceClassification were not initialized from the model checkpoint at superb/wav2vec2-base-superb-ks and are newly initialized: ['wav2vec2.encoder.pos_conv_embed.conv.parametrizations.weight.original0', 'wav2vec2.encoder.pos_conv_embed.conv.parametrizations.weight.original1']\n",
      "You should probably TRAIN this model on a down-stream task to be able to use it for predictions and inference.\n"
     ]
    },
    {
     "data": {
      "application/vnd.jupyter.widget-view+json": {
       "model_id": "d0973fc36a3c4a5fa8d749e0b4c9f933",
       "version_major": 2,
       "version_minor": 0
      },
      "text/plain": [
       "Epoch 1/10:   0%|          | 0/6187 [00:00<?, ?it/s]"
      ]
     },
     "metadata": {},
     "output_type": "display_data"
    },
    {
     "name": "stdout",
     "output_type": "stream",
     "text": [
      "Epoch 1/10, Train Loss: 2.447567734942599\n"
     ]
    },
    {
     "data": {
      "application/vnd.jupyter.widget-view+json": {
       "model_id": "772d6ccf9641486cb980c9bd8c30adc3",
       "version_major": 2,
       "version_minor": 0
      },
      "text/plain": [
       "Validation:   0%|          | 0/163 [00:00<?, ?it/s]"
      ]
     },
     "metadata": {},
     "output_type": "display_data"
    },
    {
     "name": "stdout",
     "output_type": "stream",
     "text": [
      "Epoch 1/10, Validation Loss: 2.42777738103106, Validation Accuracy: 0.0967741935483871\n"
     ]
    },
    {
     "data": {
      "application/vnd.jupyter.widget-view+json": {
       "model_id": "b952d51ed7734840892b9607ef333902",
       "version_major": 2,
       "version_minor": 0
      },
      "text/plain": [
       "Epoch 2/10:   0%|          | 0/6187 [00:00<?, ?it/s]"
      ]
     },
     "metadata": {},
     "output_type": "display_data"
    },
    {
     "name": "stdout",
     "output_type": "stream",
     "text": [
      "Epoch 2/10, Train Loss: 2.434141949033514\n"
     ]
    },
    {
     "data": {
      "application/vnd.jupyter.widget-view+json": {
       "model_id": "75489bd547c549c8b59080984076f25a",
       "version_major": 2,
       "version_minor": 0
      },
      "text/plain": [
       "Validation:   0%|          | 0/163 [00:00<?, ?it/s]"
      ]
     },
     "metadata": {},
     "output_type": "display_data"
    },
    {
     "name": "stdout",
     "output_type": "stream",
     "text": [
      "Epoch 2/10, Validation Loss: 2.4886905561926906, Validation Accuracy: 0.08602150537634409\n"
     ]
    },
    {
     "data": {
      "application/vnd.jupyter.widget-view+json": {
       "model_id": "576998518a234dbb95bcdad1335279ad",
       "version_major": 2,
       "version_minor": 0
      },
      "text/plain": [
       "Epoch 3/10:   0%|          | 0/6187 [00:00<?, ?it/s]"
      ]
     },
     "metadata": {},
     "output_type": "display_data"
    },
    {
     "name": "stdout",
     "output_type": "stream",
     "text": [
      "Epoch 3/10, Train Loss: 2.4331433146069656\n"
     ]
    },
    {
     "data": {
      "application/vnd.jupyter.widget-view+json": {
       "model_id": "75b0ba176e764455a28e450b339678b5",
       "version_major": 2,
       "version_minor": 0
      },
      "text/plain": [
       "Validation:   0%|          | 0/163 [00:00<?, ?it/s]"
      ]
     },
     "metadata": {},
     "output_type": "display_data"
    },
    {
     "name": "stdout",
     "output_type": "stream",
     "text": [
      "Epoch 3/10, Validation Loss: 2.4178575723449147, Validation Accuracy: 0.12749615975422426\n"
     ]
    },
    {
     "data": {
      "application/vnd.jupyter.widget-view+json": {
       "model_id": "2c4c5cfaaac44c698de63927d500cb16",
       "version_major": 2,
       "version_minor": 0
      },
      "text/plain": [
       "Epoch 4/10:   0%|          | 0/6187 [00:00<?, ?it/s]"
      ]
     },
     "metadata": {},
     "output_type": "display_data"
    },
    {
     "name": "stdout",
     "output_type": "stream",
     "text": [
      "Epoch 4/10, Train Loss: 2.4300354504519754\n"
     ]
    },
    {
     "data": {
      "application/vnd.jupyter.widget-view+json": {
       "model_id": "26535b8bbb9d4874931833463f29df8a",
       "version_major": 2,
       "version_minor": 0
      },
      "text/plain": [
       "Validation:   0%|          | 0/163 [00:00<?, ?it/s]"
      ]
     },
     "metadata": {},
     "output_type": "display_data"
    },
    {
     "name": "stdout",
     "output_type": "stream",
     "text": [
      "Epoch 4/10, Validation Loss: 2.3980982610784425, Validation Accuracy: 0.0967741935483871\n"
     ]
    },
    {
     "data": {
      "application/vnd.jupyter.widget-view+json": {
       "model_id": "3b56cbfbba154720a6b6d94d00df1eac",
       "version_major": 2,
       "version_minor": 0
      },
      "text/plain": [
       "Epoch 5/10:   0%|          | 0/6187 [00:00<?, ?it/s]"
      ]
     },
     "metadata": {},
     "output_type": "display_data"
    },
    {
     "name": "stdout",
     "output_type": "stream",
     "text": [
      "Epoch 5/10, Train Loss: 2.4277590485676552\n"
     ]
    },
    {
     "data": {
      "application/vnd.jupyter.widget-view+json": {
       "model_id": "b4f2955a7dcc46c1a31d3438e9875d53",
       "version_major": 2,
       "version_minor": 0
      },
      "text/plain": [
       "Validation:   0%|          | 0/163 [00:00<?, ?it/s]"
      ]
     },
     "metadata": {},
     "output_type": "display_data"
    },
    {
     "name": "stdout",
     "output_type": "stream",
     "text": [
      "Epoch 5/10, Validation Loss: 2.46244661793387, Validation Accuracy: 0.0967741935483871\n"
     ]
    },
    {
     "data": {
      "application/vnd.jupyter.widget-view+json": {
       "model_id": "00ca8ecfc33442289b728dfcd1f58c22",
       "version_major": 2,
       "version_minor": 0
      },
      "text/plain": [
       "Epoch 6/10:   0%|          | 0/6187 [00:00<?, ?it/s]"
      ]
     },
     "metadata": {},
     "output_type": "display_data"
    },
    {
     "name": "stdout",
     "output_type": "stream",
     "text": [
      "Epoch 6/10, Train Loss: 2.427141750862704\n"
     ]
    },
    {
     "data": {
      "application/vnd.jupyter.widget-view+json": {
       "model_id": "8d1e64c1a98b453da01f4c8964f11ea2",
       "version_major": 2,
       "version_minor": 0
      },
      "text/plain": [
       "Validation:   0%|          | 0/163 [00:00<?, ?it/s]"
      ]
     },
     "metadata": {},
     "output_type": "display_data"
    },
    {
     "name": "stdout",
     "output_type": "stream",
     "text": [
      "Epoch 6/10, Validation Loss: 2.4544099679022477, Validation Accuracy: 0.08602150537634409\n"
     ]
    },
    {
     "data": {
      "application/vnd.jupyter.widget-view+json": {
       "model_id": "3a88f068927b48ac9d90e8a854f5d7dc",
       "version_major": 2,
       "version_minor": 0
      },
      "text/plain": [
       "Epoch 7/10:   0%|          | 0/6187 [00:00<?, ?it/s]"
      ]
     },
     "metadata": {},
     "output_type": "display_data"
    },
    {
     "name": "stdout",
     "output_type": "stream",
     "text": [
      "Epoch 7/10, Train Loss: 2.4290887083474706\n"
     ]
    },
    {
     "data": {
      "application/vnd.jupyter.widget-view+json": {
       "model_id": "3a9dd03e7e8a497f8c190a0646181872",
       "version_major": 2,
       "version_minor": 0
      },
      "text/plain": [
       "Validation:   0%|          | 0/163 [00:00<?, ?it/s]"
      ]
     },
     "metadata": {},
     "output_type": "display_data"
    },
    {
     "name": "stdout",
     "output_type": "stream",
     "text": [
      "Epoch 7/10, Validation Loss: 2.5050011646528185, Validation Accuracy: 0.0706605222734255\n"
     ]
    },
    {
     "data": {
      "application/vnd.jupyter.widget-view+json": {
       "model_id": "3490b2c8fab747a1981cb1a2583ff6d0",
       "version_major": 2,
       "version_minor": 0
      },
      "text/plain": [
       "Epoch 8/10:   0%|          | 0/6187 [00:00<?, ?it/s]"
      ]
     },
     "metadata": {},
     "output_type": "display_data"
    },
    {
     "name": "stdout",
     "output_type": "stream",
     "text": [
      "Epoch 8/10, Train Loss: 2.4263156386748914\n"
     ]
    },
    {
     "data": {
      "application/vnd.jupyter.widget-view+json": {
       "model_id": "204df39344dc41fe89dd633569d883ba",
       "version_major": 2,
       "version_minor": 0
      },
      "text/plain": [
       "Validation:   0%|          | 0/163 [00:00<?, ?it/s]"
      ]
     },
     "metadata": {},
     "output_type": "display_data"
    },
    {
     "name": "stdout",
     "output_type": "stream",
     "text": [
      "Epoch 8/10, Validation Loss: 2.4561904720002157, Validation Accuracy: 0.0706605222734255\n"
     ]
    },
    {
     "data": {
      "application/vnd.jupyter.widget-view+json": {
       "model_id": "bb9957cc28ef4d3f832d1069d8ed33b2",
       "version_major": 2,
       "version_minor": 0
      },
      "text/plain": [
       "Epoch 9/10:   0%|          | 0/6187 [00:00<?, ?it/s]"
      ]
     },
     "metadata": {},
     "output_type": "display_data"
    },
    {
     "name": "stdout",
     "output_type": "stream",
     "text": [
      "Epoch 9/10, Train Loss: 2.4261732796426543\n"
     ]
    },
    {
     "data": {
      "application/vnd.jupyter.widget-view+json": {
       "model_id": "b592fe15d3cd4faf8c50229f8e23688a",
       "version_major": 2,
       "version_minor": 0
      },
      "text/plain": [
       "Validation:   0%|          | 0/163 [00:00<?, ?it/s]"
      ]
     },
     "metadata": {},
     "output_type": "display_data"
    },
    {
     "name": "stdout",
     "output_type": "stream",
     "text": [
      "Epoch 9/10, Validation Loss: 2.430379614508225, Validation Accuracy: 0.0706605222734255\n"
     ]
    },
    {
     "data": {
      "application/vnd.jupyter.widget-view+json": {
       "model_id": "f50ebe88350440b59fd27c61517e25b4",
       "version_major": 2,
       "version_minor": 0
      },
      "text/plain": [
       "Epoch 10/10:   0%|          | 0/6187 [00:00<?, ?it/s]"
      ]
     },
     "metadata": {},
     "output_type": "display_data"
    },
    {
     "name": "stdout",
     "output_type": "stream",
     "text": [
      "Epoch 10/10, Train Loss: 2.4259227847790936\n"
     ]
    },
    {
     "data": {
      "application/vnd.jupyter.widget-view+json": {
       "model_id": "187ec3a1eb454ccbb9970194f39d2144",
       "version_major": 2,
       "version_minor": 0
      },
      "text/plain": [
       "Validation:   0%|          | 0/163 [00:00<?, ?it/s]"
      ]
     },
     "metadata": {},
     "output_type": "display_data"
    },
    {
     "name": "stdout",
     "output_type": "stream",
     "text": [
      "Epoch 10/10, Validation Loss: 2.4552745906853235, Validation Accuracy: 0.10445468509984639\n"
     ]
    },
    {
     "data": {
      "application/vnd.jupyter.widget-view+json": {
       "model_id": "81b48d337fb2411cadd8b3ba92a5ef4c",
       "version_major": 2,
       "version_minor": 0
      },
      "text/plain": [
       "Testing:   0%|          | 0/163 [00:00<?, ?it/s]"
      ]
     },
     "metadata": {},
     "output_type": "display_data"
    },
    {
     "name": "stdout",
     "output_type": "stream",
     "text": [
      "{'val_acc': [0.0967741935483871, 0.08602150537634409, 0.12749615975422426, 0.0967741935483871, 0.0967741935483871, 0.08602150537634409, 0.0706605222734255, 0.0706605222734255, 0.0706605222734255, 0.10445468509984639], 'val_loss': [2.42777738103106, 2.4886905561926906, 2.4178575723449147, 2.3980982610784425, 2.46244661793387, 2.4544099679022477, 2.5050011646528185, 2.4561904720002157, 2.430379614508225, 2.4552745906853235], 'train_loss': [2.447567734942599, 2.434141949033514, 2.4331433146069656, 2.4300354504519754, 2.4277590485676552, 2.427141750862704, 2.4290887083474706, 2.4263156386748914, 2.4261732796426543, 2.4259227847790936], 'test_correct_in_batch': [0.0, 0.0, 1.0, 1.0, 0.0, 0.0, 0.0, 0.0, 0.0, 1.0, 0.0, 0.0, 0.0, 0.0, 0.0, 0.0, 0.0, 0.0, 0.0, 0.0, 0.0, 0.0, 1.0, 0.0, 0.0, 0.0, 0.0, 0.0, 1.0, 3.0, 0.0, 0.0, 1.0, 0.0, 1.0, 0.0, 0.0, 0.0, 1.0, 0.0, 0.0, 0.0, 2.0, 0.0, 1.0, 0.0, 0.0, 1.0, 1.0, 0.0, 0.0, 0.0, 0.0, 0.0, 0.0, 1.0, 1.0, 1.0, 0.0, 0.0, 0.0, 0.0, 0.0, 0.0, 0.0, 0.0, 0.0, 0.0, 0.0, 0.0, 0.0, 0.0, 1.0, 1.0, 0.0, 0.0, 1.0, 0.0, 0.0, 1.0, 0.0, 0.0, 0.0, 0.0, 0.0, 1.0, 1.0, 0.0, 0.0, 0.0, 0.0, 0.0, 1.0, 1.0, 1.0, 0.0, 0.0, 0.0, 2.0, 0.0, 0.0, 0.0, 0.0, 0.0, 0.0, 1.0, 1.0, 0.0, 1.0, 0.0, 0.0, 1.0, 0.0, 0.0, 0.0, 0.0, 0.0, 0.0, 0.0, 0.0, 1.0, 1.0, 0.0, 0.0, 1.0, 0.0, 0.0, 1.0, 0.0, 0.0, 1.0, 0.0, 0.0, 1.0, 0.0, 0.0, 1.0, 0.0, 1.0, 0.0, 0.0, 1.0, 0.0, 0.0, 0.0, 0.0, 0.0, 0.0, 0.0, 2.0, 0.0, 0.0, 1.0, 0.0, 0.0, 1.0, 0.0, 0.0, 1.0, 0.0, 0.0, 2.0, 0.0], 'test_losses': [2.4531893730163574, 2.444319725036621, 2.2794132232666016, 2.489875316619873, 2.604933023452759, 2.3447303771972656, 2.4302051067352295, 2.507892608642578, 2.728245496749878, 2.145338773727417, 2.471952438354492, 2.650907516479492, 2.6402535438537598, 2.690286159515381, 2.449798822402954, 2.446338653564453, 2.3965632915496826, 2.6168227195739746, 2.616823196411133, 2.5385866165161133, 2.8306760787963867, 2.4210691452026367, 2.217780590057373, 2.4359443187713623, 2.535623073577881, 2.4082143306732178, 2.529428482055664, 2.453188896179199, 2.514143466949463, 1.7958229780197144, 2.5177829265594482, 2.584728956222534, 2.3601362705230713, 2.373058319091797, 2.3358688354492188, 2.743279218673706, 2.6053593158721924, 2.460226535797119, 2.0762665271759033, 2.428682804107666, 2.375425100326538, 2.565535068511963, 2.0512678623199463, 2.4069581031799316, 2.269522190093994, 2.8197860717773438, 2.6402549743652344, 2.507568597793579, 2.3067188262939453, 2.6901233196258545, 2.4836983680725098, 2.602295398712158, 2.703737735748291, 2.505108118057251, 2.3689253330230713, 2.514143466949463, 2.3706276416778564, 2.3260560035705566, 2.790823459625244, 2.4404940605163574, 2.854107141494751, 2.4869236946105957, 2.4360342025756836, 2.590038776397705, 2.703737735748291, 2.607196092605591, 2.445575714111328, 2.540083408355713, 2.7078123092651367, 2.797320604324341, 2.298501968383789, 2.5538079738616943, 2.3675642013549805, 2.2589471340179443, 2.7736682891845703, 2.358346939086914, 2.3915958404541016, 2.4740684032440186, 2.591766834259033, 2.482609748840332, 2.647043228149414, 2.378465414047241, 2.5848166942596436, 2.504166841506958, 2.626924991607666, 2.211193084716797, 2.3047749996185303, 2.7039034366607666, 2.536114454269409, 2.699516773223877, 2.4181926250457764, 2.409160614013672, 2.360138177871704, 2.2005393505096436, 2.4760239124298096, 2.641016960144043, 2.577549457550049, 2.7866711616516113, 2.1111133098602295, 2.5876903533935547, 2.6641969680786133, 2.2765116691589355, 2.84751558303833, 2.4666411876678467, 2.7081263065338135, 2.280668258666992, 2.269521713256836, 2.542450428009033, 2.4162650108337402, 2.6313881874084473, 2.307370185852051, 2.332242488861084, 2.5249688625335693, 2.604769706726074, 2.700774908065796, 2.3826892375946045, 2.6304402351379395, 2.4360334873199463, 2.5184688568115234, 2.462505340576172, 2.4151740074157715, 2.3809423446655273, 2.5385851860046387, 2.7422118186950684, 2.6059203147888184, 2.720982551574707, 2.8197851181030273, 2.2356977462768555, 2.4115288257598877, 2.5295279026031494, 2.273404359817505, 2.5116097927093506, 2.674774646759033, 2.4761123657226562, 2.524970531463623, 2.4336671829223633, 2.408675193786621, 2.625814437866211, 2.060131311416626, 2.7180166244506836, 2.6470437049865723, 2.3173718452453613, 2.351682186126709, 2.417536735534668, 2.5280096530914307, 2.615586757659912, 2.534860134124756, 2.8647589683532715, 2.5467700958251953, 2.0619239807128906, 2.5222623348236084, 2.4900527000427246, 2.4346725940704346, 2.5712759494781494, 2.5878548622131348, 2.235698699951172, 2.7073636054992676, 2.5400843620300293, 2.366562604904175, 2.6823666095733643, 2.5250463485717773, 2.1046156883239746, 2.520998001098633], 'test_loss': 2.49130692584383, 'test_batch_lens': [4, 4, 4, 4, 4, 4, 4, 4, 4, 4, 4, 4, 4, 4, 4, 4, 4, 4, 4, 4, 4, 4, 4, 4, 4, 4, 4, 4, 4, 4, 4, 4, 4, 4, 4, 4, 4, 4, 4, 4, 4, 4, 4, 4, 4, 4, 4, 4, 4, 4, 4, 4, 4, 4, 4, 4, 4, 4, 4, 4, 4, 4, 4, 4, 4, 4, 4, 4, 4, 4, 4, 4, 4, 4, 4, 4, 4, 4, 4, 4, 4, 4, 4, 4, 4, 4, 4, 4, 4, 4, 4, 4, 4, 4, 4, 4, 4, 4, 4, 4, 4, 4, 4, 4, 4, 4, 4, 4, 4, 4, 4, 4, 4, 4, 4, 4, 4, 4, 4, 4, 4, 4, 4, 4, 4, 4, 4, 4, 4, 4, 4, 4, 4, 4, 4, 4, 4, 4, 4, 4, 4, 4, 4, 4, 4, 4, 4, 4, 4, 4, 4, 4, 4, 4, 4, 4, 4, 4, 4, 4, 4, 4, 3], 'test_accuracy': 0.07680491551459294, 'predictions': [0, 0, 0, 0, 0, 0, 0, 0, 0, 0, 0, 0, 0, 0, 0, 0, 0, 0, 0, 0, 0, 0, 0, 0, 0, 0, 0, 0, 0, 0, 0, 0, 0, 0, 0, 0, 0, 0, 0, 0, 0, 0, 0, 0, 0, 0, 0, 0, 0, 0, 0, 0, 0, 0, 0, 0, 0, 0, 0, 0, 0, 0, 0, 0, 0, 0, 0, 0, 0, 0, 0, 0, 0, 0, 0, 0, 0, 0, 0, 0, 0, 0, 0, 0, 0, 0, 0, 0, 0, 0, 0, 0, 0, 0, 0, 0, 0, 0, 0, 0, 0, 0, 0, 0, 0, 0, 0, 0, 0, 0, 0, 0, 0, 0, 0, 0, 0, 0, 0, 0, 0, 0, 0, 0, 0, 0, 0, 0, 0, 0, 0, 0, 0, 0, 0, 0, 0, 0, 0, 0, 0, 0, 0, 0, 0, 0, 0, 0, 0, 0, 0, 0, 0, 0, 0, 0, 0, 0, 0, 0, 0, 0, 0, 0, 0, 0, 0, 0, 0, 0, 0, 0, 0, 0, 0, 0, 0, 0, 0, 0, 0, 0, 0, 0, 0, 0, 0, 0, 0, 0, 0, 0, 0, 0, 0, 0, 0, 0, 0, 0, 0, 0, 0, 0, 0, 0, 0, 0, 0, 0, 0, 0, 0, 0, 0, 0, 0, 0, 0, 0, 0, 0, 0, 0, 0, 0, 0, 0, 0, 0, 0, 0, 0, 0, 0, 0, 0, 0, 0, 0, 0, 0, 0, 0, 0, 0, 0, 0, 0, 0, 0, 0, 0, 0, 0, 0, 0, 0, 0, 0, 0, 0, 0, 0, 0, 0, 0, 0, 0, 0, 0, 0, 0, 0, 0, 0, 0, 0, 0, 0, 0, 0, 0, 0, 0, 0, 0, 0, 0, 0, 0, 0, 0, 0, 0, 0, 0, 0, 0, 0, 0, 0, 0, 0, 0, 0, 0, 0, 0, 0, 0, 0, 0, 0, 0, 0, 0, 0, 0, 0, 0, 0, 0, 0, 0, 0, 0, 0, 0, 0, 0, 0, 0, 0, 0, 0, 0, 0, 0, 0, 0, 0, 0, 0, 0, 0, 0, 0, 0, 0, 0, 0, 0, 0, 0, 0, 0, 0, 0, 0, 0, 0, 0, 0, 0, 0, 0, 0, 0, 0, 0, 0, 0, 0, 0, 0, 0, 0, 0, 0, 0, 0, 0, 0, 0, 0, 0, 0, 0, 0, 0, 0, 0, 0, 0, 0, 0, 0, 0, 0, 0, 0, 0, 0, 0, 0, 0, 0, 0, 0, 0, 0, 0, 0, 0, 0, 0, 0, 0, 0, 0, 0, 0, 0, 0, 0, 0, 0, 0, 0, 0, 0, 0, 0, 0, 0, 0, 0, 0, 0, 0, 0, 0, 0, 0, 0, 0, 0, 0, 0, 0, 0, 0, 0, 0, 0, 0, 0, 0, 0, 0, 0, 0, 0, 0, 0, 0, 0, 0, 0, 0, 0, 0, 0, 0, 0, 0, 0, 0, 0, 0, 0, 0, 0, 0, 0, 0, 0, 0, 0, 0, 0, 0, 0, 0, 0, 0, 0, 0, 0, 0, 0, 0, 0, 0, 0, 0, 0, 0, 0, 0, 0, 0, 0, 0, 0, 0, 0, 0, 0, 0, 0, 0, 0, 0, 0, 0, 0, 0, 0, 0, 0, 0, 0, 0, 0, 0, 0, 0, 0, 0, 0, 0, 0, 0, 0, 0, 0, 0, 0, 0, 0, 0, 0, 0, 0, 0, 0, 0, 0, 0, 0, 0, 0, 0, 0, 0, 0, 0, 0, 0, 0, 0, 0, 0, 0, 0, 0, 0, 0, 0, 0, 0, 0, 0, 0, 0, 0, 0, 0, 0, 0, 0, 0, 0, 0, 0, 0, 0, 0, 0, 0, 0, 0, 0, 0, 0, 0, 0, 0, 0, 0, 0, 0, 0, 0, 0, 0, 0, 0, 0, 0, 0, 0, 0, 0, 0, 0, 0, 0, 0, 0, 0, 0, 0, 0, 0, 0, 0, 0, 0, 0, 0, 0, 0, 0, 0, 0, 0, 0, 0], 'real_labels': [7, 4, 1, 10, 7, 1, 8, 8, 0, 8, 4, 7, 1, 9, 3, 0, 9, 6, 4, 9, 8, 10, 1, 4, 6, 8, 8, 6, 6, 8, 2, 1, 1, 9, 6, 3, 10, 5, 5, 0, 10, 3, 2, 10, 7, 8, 4, 3, 3, 8, 9, 4, 3, 4, 6, 1, 1, 9, 1, 10, 10, 6, 1, 6, 5, 5, 8, 5, 8, 1, 3, 1, 1, 3, 1, 8, 6, 8, 9, 2, 3, 1, 3, 1, 5, 5, 1, 8, 0, 4, 9, 10, 10, 7, 1, 5, 1, 8, 2, 7, 5, 1, 10, 6, 10, 8, 3, 9, 10, 4, 7, 1, 0, 3, 7, 6, 0, 8, 0, 0, 4, 8, 7, 6, 5, 1, 7, 9, 6, 7, 4, 0, 10, 10, 7, 9, 4, 1, 9, 0, 10, 3, 3, 9, 4, 7, 4, 7, 2, 10, 2, 4, 10, 10, 1, 0, 10, 5, 4, 7, 8, 9, 10, 4, 2, 3, 10, 5, 8, 0, 9, 0, 10, 7, 6, 8, 0, 8, 1, 2, 6, 3, 5, 3, 9, 3, 4, 8, 3, 2, 0, 2, 0, 9, 9, 8, 1, 3, 5, 9, 8, 1, 6, 1, 4, 3, 4, 8, 3, 9, 5, 6, 2, 5, 4, 5, 2, 10, 8, 4, 7, 3, 0, 6, 7, 0, 5, 7, 1, 0, 1, 6, 3, 7, 7, 2, 10, 4, 3, 10, 9, 4, 3, 3, 1, 7, 8, 5, 2, 4, 10, 1, 1, 2, 3, 10, 6, 9, 5, 3, 3, 10, 7, 1, 5, 1, 8, 1, 8, 7, 3, 10, 3, 5, 2, 2, 7, 3, 9, 7, 6, 8, 8, 10, 2, 4, 2, 5, 5, 3, 8, 0, 8, 6, 0, 1, 2, 7, 3, 2, 4, 10, 8, 6, 6, 0, 2, 7, 10, 1, 7, 6, 9, 2, 5, 2, 0, 9, 4, 3, 2, 6, 7, 9, 1, 8, 8, 5, 2, 9, 4, 1, 1, 8, 4, 7, 1, 2, 7, 2, 5, 0, 7, 10, 5, 0, 5, 7, 3, 6, 4, 6, 4, 9, 5, 1, 8, 3, 7, 7, 4, 4, 6, 10, 8, 9, 8, 5, 6, 7, 4, 0, 5, 0, 9, 10, 5, 0, 3, 7, 3, 1, 8, 2, 2, 4, 4, 9, 3, 7, 9, 9, 9, 4, 0, 0, 5, 6, 9, 9, 7, 7, 6, 9, 1, 10, 10, 5, 5, 7, 3, 3, 5, 10, 9, 7, 2, 3, 1, 1, 0, 5, 4, 1, 2, 0, 1, 8, 8, 4, 8, 3, 8, 0, 3, 2, 2, 3, 7, 10, 10, 4, 10, 6, 6, 5, 0, 9, 8, 2, 1, 9, 9, 5, 9, 9, 1, 3, 5, 7, 9, 10, 1, 8, 1, 6, 3, 8, 2, 4, 10, 1, 1, 2, 8, 2, 4, 8, 2, 5, 9, 9, 0, 7, 6, 9, 2, 0, 2, 8, 6, 9, 3, 7, 2, 4, 3, 0, 1, 3, 9, 6, 3, 4, 6, 3, 3, 5, 0, 1, 7, 10, 4, 10, 2, 5, 5, 7, 5, 1, 4, 5, 0, 4, 5, 4, 9, 5, 9, 7, 7, 2, 0, 2, 4, 3, 2, 9, 1, 8, 9, 1, 8, 8, 2, 0, 9, 7, 6, 9, 6, 9, 0, 10, 8, 8, 4, 1, 7, 3, 2, 7, 9, 6, 7, 8, 9, 0, 8, 2, 10, 5, 2, 10, 8, 7, 9, 6, 8, 6, 6, 4, 7, 9, 7, 8, 4, 9, 3, 3, 7, 4, 1, 7, 5, 4, 0, 7, 8, 0, 7, 4, 5, 5, 4, 8, 6, 6, 1, 5, 3, 0, 1, 4, 7, 1, 9, 4, 6, 6, 10, 7, 1, 0, 3, 9, 1, 4, 3, 10, 7, 8, 9, 9, 4, 0, 2, 3, 7, 8, 6, 8, 1, 7, 4, 0, 2, 0, 8, 6, 7], 'label_to_index': {'down': 0, 'go': 1, 'left': 2, 'no': 3, 'off': 4, 'on': 5, 'right': 6, 'stop': 7, 'unknown': 8, 'up': 9, 'yes': 10}}\n",
      "Test Loss: 2.49130692584383, Test Accuracy: 0.07680491551459294\n"
     ]
    },
    {
     "name": "stderr",
     "output_type": "stream",
     "text": [
      "Some weights of the model checkpoint at superb/wav2vec2-base-superb-ks were not used when initializing Wav2Vec2ForSequenceClassification: ['wav2vec2.encoder.pos_conv_embed.conv.weight_g', 'wav2vec2.encoder.pos_conv_embed.conv.weight_v']\n",
      "- This IS expected if you are initializing Wav2Vec2ForSequenceClassification from the checkpoint of a model trained on another task or with another architecture (e.g. initializing a BertForSequenceClassification model from a BertForPreTraining model).\n",
      "- This IS NOT expected if you are initializing Wav2Vec2ForSequenceClassification from the checkpoint of a model that you expect to be exactly identical (initializing a BertForSequenceClassification model from a BertForSequenceClassification model).\n",
      "Some weights of Wav2Vec2ForSequenceClassification were not initialized from the model checkpoint at superb/wav2vec2-base-superb-ks and are newly initialized: ['wav2vec2.encoder.pos_conv_embed.conv.parametrizations.weight.original0', 'wav2vec2.encoder.pos_conv_embed.conv.parametrizations.weight.original1']\n",
      "You should probably TRAIN this model on a down-stream task to be able to use it for predictions and inference.\n"
     ]
    },
    {
     "data": {
      "application/vnd.jupyter.widget-view+json": {
       "model_id": "93e1ac32ab8f4a77ba1f9aea4ad316c0",
       "version_major": 2,
       "version_minor": 0
      },
      "text/plain": [
       "Epoch 1/10:   0%|          | 0/6187 [00:00<?, ?it/s]"
      ]
     },
     "metadata": {},
     "output_type": "display_data"
    },
    {
     "name": "stdout",
     "output_type": "stream",
     "text": [
      "Epoch 1/10, Train Loss: 2.392906019177829\n"
     ]
    },
    {
     "data": {
      "application/vnd.jupyter.widget-view+json": {
       "model_id": "63240f6b78bb49c0b9a0a9407f0b7185",
       "version_major": 2,
       "version_minor": 0
      },
      "text/plain": [
       "Validation:   0%|          | 0/163 [00:00<?, ?it/s]"
      ]
     },
     "metadata": {},
     "output_type": "display_data"
    },
    {
     "name": "stdout",
     "output_type": "stream",
     "text": [
      "Epoch 1/10, Validation Loss: 2.0771770206697147, Validation Accuracy: 0.21505376344086022\n"
     ]
    },
    {
     "data": {
      "application/vnd.jupyter.widget-view+json": {
       "model_id": "52d7080d48d141aba1d544288c2eeb53",
       "version_major": 2,
       "version_minor": 0
      },
      "text/plain": [
       "Epoch 2/10:   0%|          | 0/6187 [00:00<?, ?it/s]"
      ]
     },
     "metadata": {},
     "output_type": "display_data"
    },
    {
     "name": "stdout",
     "output_type": "stream",
     "text": [
      "Epoch 2/10, Train Loss: 1.9320802887345008\n"
     ]
    },
    {
     "data": {
      "application/vnd.jupyter.widget-view+json": {
       "model_id": "95584938c81c416eaca1514884a07802",
       "version_major": 2,
       "version_minor": 0
      },
      "text/plain": [
       "Validation:   0%|          | 0/163 [00:00<?, ?it/s]"
      ]
     },
     "metadata": {},
     "output_type": "display_data"
    },
    {
     "name": "stdout",
     "output_type": "stream",
     "text": [
      "Epoch 2/10, Validation Loss: 1.4373040181910333, Validation Accuracy: 0.4823348694316436\n"
     ]
    },
    {
     "data": {
      "application/vnd.jupyter.widget-view+json": {
       "model_id": "cbe26c4bb0764ece9641a7f94bac8417",
       "version_major": 2,
       "version_minor": 0
      },
      "text/plain": [
       "Epoch 3/10:   0%|          | 0/6187 [00:00<?, ?it/s]"
      ]
     },
     "metadata": {},
     "output_type": "display_data"
    },
    {
     "name": "stdout",
     "output_type": "stream",
     "text": [
      "Epoch 3/10, Train Loss: 1.1241334014799802\n"
     ]
    },
    {
     "data": {
      "application/vnd.jupyter.widget-view+json": {
       "model_id": "b25cdb40033b478fa84bedfa4df21fcd",
       "version_major": 2,
       "version_minor": 0
      },
      "text/plain": [
       "Validation:   0%|          | 0/163 [00:00<?, ?it/s]"
      ]
     },
     "metadata": {},
     "output_type": "display_data"
    },
    {
     "name": "stdout",
     "output_type": "stream",
     "text": [
      "Epoch 3/10, Validation Loss: 0.6352180996281238, Validation Accuracy: 0.7741935483870968\n"
     ]
    },
    {
     "data": {
      "application/vnd.jupyter.widget-view+json": {
       "model_id": "69a20c301fc74aeb90001c4ab974449c",
       "version_major": 2,
       "version_minor": 0
      },
      "text/plain": [
       "Epoch 4/10:   0%|          | 0/6187 [00:00<?, ?it/s]"
      ]
     },
     "metadata": {},
     "output_type": "display_data"
    },
    {
     "name": "stdout",
     "output_type": "stream",
     "text": [
      "Epoch 4/10, Train Loss: 0.6658499296872952\n"
     ]
    },
    {
     "data": {
      "application/vnd.jupyter.widget-view+json": {
       "model_id": "d1115b2746b14906ae3f9c45a00c95ed",
       "version_major": 2,
       "version_minor": 0
      },
      "text/plain": [
       "Validation:   0%|          | 0/163 [00:00<?, ?it/s]"
      ]
     },
     "metadata": {},
     "output_type": "display_data"
    },
    {
     "name": "stdout",
     "output_type": "stream",
     "text": [
      "Epoch 4/10, Validation Loss: 0.5680323654422936, Validation Accuracy: 0.8095238095238095\n"
     ]
    },
    {
     "data": {
      "application/vnd.jupyter.widget-view+json": {
       "model_id": "9adf192cff354f90aed4ed8ec2e4dba3",
       "version_major": 2,
       "version_minor": 0
      },
      "text/plain": [
       "Epoch 5/10:   0%|          | 0/6187 [00:00<?, ?it/s]"
      ]
     },
     "metadata": {},
     "output_type": "display_data"
    },
    {
     "name": "stdout",
     "output_type": "stream",
     "text": [
      "Epoch 5/10, Train Loss: 0.5232619446547699\n"
     ]
    },
    {
     "data": {
      "application/vnd.jupyter.widget-view+json": {
       "model_id": "f85e8b68b01244199f99040a1ca76efe",
       "version_major": 2,
       "version_minor": 0
      },
      "text/plain": [
       "Validation:   0%|          | 0/163 [00:00<?, ?it/s]"
      ]
     },
     "metadata": {},
     "output_type": "display_data"
    },
    {
     "name": "stdout",
     "output_type": "stream",
     "text": [
      "Epoch 5/10, Validation Loss: 0.4380540464746914, Validation Accuracy: 0.858678955453149\n"
     ]
    },
    {
     "data": {
      "application/vnd.jupyter.widget-view+json": {
       "model_id": "c0b50b7ba4ee4d8988165729d185b91b",
       "version_major": 2,
       "version_minor": 0
      },
      "text/plain": [
       "Epoch 6/10:   0%|          | 0/6187 [00:00<?, ?it/s]"
      ]
     },
     "metadata": {},
     "output_type": "display_data"
    },
    {
     "name": "stdout",
     "output_type": "stream",
     "text": [
      "Epoch 6/10, Train Loss: 0.42649611289498895\n"
     ]
    },
    {
     "data": {
      "application/vnd.jupyter.widget-view+json": {
       "model_id": "5206b357be6a43d9af08b76e2f46aac6",
       "version_major": 2,
       "version_minor": 0
      },
      "text/plain": [
       "Validation:   0%|          | 0/163 [00:00<?, ?it/s]"
      ]
     },
     "metadata": {},
     "output_type": "display_data"
    },
    {
     "name": "stdout",
     "output_type": "stream",
     "text": [
      "Epoch 6/10, Validation Loss: 0.49257165886987747, Validation Accuracy: 0.8310291858678955\n"
     ]
    },
    {
     "data": {
      "application/vnd.jupyter.widget-view+json": {
       "model_id": "a6b3d12f06f34e30a3ed730207c23624",
       "version_major": 2,
       "version_minor": 0
      },
      "text/plain": [
       "Epoch 7/10:   0%|          | 0/6187 [00:00<?, ?it/s]"
      ]
     },
     "metadata": {},
     "output_type": "display_data"
    },
    {
     "name": "stdout",
     "output_type": "stream",
     "text": [
      "Epoch 7/10, Train Loss: 0.42987521837335807\n"
     ]
    },
    {
     "data": {
      "application/vnd.jupyter.widget-view+json": {
       "model_id": "7429623c358b424baea9c5711c4fab20",
       "version_major": 2,
       "version_minor": 0
      },
      "text/plain": [
       "Validation:   0%|          | 0/163 [00:00<?, ?it/s]"
      ]
     },
     "metadata": {},
     "output_type": "display_data"
    },
    {
     "name": "stdout",
     "output_type": "stream",
     "text": [
      "Epoch 7/10, Validation Loss: 0.39539015719019294, Validation Accuracy: 0.8740399385560675\n"
     ]
    },
    {
     "data": {
      "application/vnd.jupyter.widget-view+json": {
       "model_id": "5509c8a7ff9b42c4a3502763fdf0b56b",
       "version_major": 2,
       "version_minor": 0
      },
      "text/plain": [
       "Epoch 8/10:   0%|          | 0/6187 [00:00<?, ?it/s]"
      ]
     },
     "metadata": {},
     "output_type": "display_data"
    },
    {
     "name": "stdout",
     "output_type": "stream",
     "text": [
      "Epoch 8/10, Train Loss: 0.3252676123239108\n"
     ]
    },
    {
     "data": {
      "application/vnd.jupyter.widget-view+json": {
       "model_id": "c6ee8cefe9ac44ee8c0096f0653369ca",
       "version_major": 2,
       "version_minor": 0
      },
      "text/plain": [
       "Validation:   0%|          | 0/163 [00:00<?, ?it/s]"
      ]
     },
     "metadata": {},
     "output_type": "display_data"
    },
    {
     "name": "stdout",
     "output_type": "stream",
     "text": [
      "Epoch 8/10, Validation Loss: 0.398624662653568, Validation Accuracy: 0.8648233486943164\n"
     ]
    },
    {
     "data": {
      "application/vnd.jupyter.widget-view+json": {
       "model_id": "5d3e9722cc424dacaee6e2d5fa0435bc",
       "version_major": 2,
       "version_minor": 0
      },
      "text/plain": [
       "Epoch 9/10:   0%|          | 0/6187 [00:00<?, ?it/s]"
      ]
     },
     "metadata": {},
     "output_type": "display_data"
    },
    {
     "name": "stdout",
     "output_type": "stream",
     "text": [
      "Epoch 9/10, Train Loss: 0.28266866289472\n"
     ]
    },
    {
     "data": {
      "application/vnd.jupyter.widget-view+json": {
       "model_id": "ee49965f5ad94d22a4eb57e6bb139df8",
       "version_major": 2,
       "version_minor": 0
      },
      "text/plain": [
       "Validation:   0%|          | 0/163 [00:00<?, ?it/s]"
      ]
     },
     "metadata": {},
     "output_type": "display_data"
    },
    {
     "name": "stdout",
     "output_type": "stream",
     "text": [
      "Epoch 9/10, Validation Loss: 0.46164613155194156, Validation Accuracy: 0.869431643625192\n"
     ]
    },
    {
     "data": {
      "application/vnd.jupyter.widget-view+json": {
       "model_id": "e4a74d0bb38c4c68a74e81be2fb4e9a8",
       "version_major": 2,
       "version_minor": 0
      },
      "text/plain": [
       "Epoch 10/10:   0%|          | 0/6187 [00:00<?, ?it/s]"
      ]
     },
     "metadata": {},
     "output_type": "display_data"
    },
    {
     "name": "stdout",
     "output_type": "stream",
     "text": [
      "Epoch 10/10, Train Loss: 0.24345161724567146\n"
     ]
    },
    {
     "data": {
      "application/vnd.jupyter.widget-view+json": {
       "model_id": "e615972ffc6b4c11a5a33529c491a25b",
       "version_major": 2,
       "version_minor": 0
      },
      "text/plain": [
       "Validation:   0%|          | 0/163 [00:00<?, ?it/s]"
      ]
     },
     "metadata": {},
     "output_type": "display_data"
    },
    {
     "name": "stdout",
     "output_type": "stream",
     "text": [
      "Epoch 10/10, Validation Loss: 0.3475355086285034, Validation Accuracy: 0.9047619047619048\n"
     ]
    },
    {
     "data": {
      "application/vnd.jupyter.widget-view+json": {
       "model_id": "0e32ce52b7c4428fa41beea57b1cba6d",
       "version_major": 2,
       "version_minor": 0
      },
      "text/plain": [
       "Testing:   0%|          | 0/163 [00:00<?, ?it/s]"
      ]
     },
     "metadata": {},
     "output_type": "display_data"
    },
    {
     "name": "stdout",
     "output_type": "stream",
     "text": [
      "{'val_acc': [0.21505376344086022, 0.4823348694316436, 0.7741935483870968, 0.8095238095238095, 0.858678955453149, 0.8310291858678955, 0.8740399385560675, 0.8648233486943164, 0.869431643625192, 0.9047619047619048], 'val_loss': [2.0771770206697147, 1.4373040181910333, 0.6352180996281238, 0.5680323654422936, 0.4380540464746914, 0.49257165886987747, 0.39539015719019294, 0.398624662653568, 0.46164613155194156, 0.3475355086285034], 'train_loss': [2.392906019177829, 1.9320802887345008, 1.1241334014799802, 0.6658499296872952, 0.5232619446547699, 0.42649611289498895, 0.42987521837335807, 0.3252676123239108, 0.28266866289472, 0.24345161724567146], 'test_correct_in_batch': [3.0, 3.0, 3.0, 3.0, 4.0, 4.0, 2.0, 3.0, 3.0, 3.0, 4.0, 4.0, 3.0, 4.0, 4.0, 3.0, 3.0, 4.0, 3.0, 4.0, 3.0, 4.0, 2.0, 4.0, 4.0, 4.0, 4.0, 3.0, 4.0, 4.0, 3.0, 4.0, 4.0, 4.0, 4.0, 4.0, 4.0, 4.0, 3.0, 2.0, 3.0, 4.0, 2.0, 4.0, 4.0, 3.0, 4.0, 3.0, 2.0, 3.0, 3.0, 0.0, 3.0, 3.0, 4.0, 4.0, 4.0, 4.0, 4.0, 4.0, 3.0, 4.0, 4.0, 4.0, 3.0, 4.0, 4.0, 2.0, 4.0, 3.0, 1.0, 4.0, 3.0, 3.0, 4.0, 4.0, 3.0, 4.0, 3.0, 3.0, 3.0, 4.0, 4.0, 3.0, 3.0, 3.0, 4.0, 4.0, 4.0, 3.0, 4.0, 3.0, 4.0, 3.0, 4.0, 4.0, 4.0, 2.0, 4.0, 4.0, 4.0, 4.0, 4.0, 3.0, 4.0, 3.0, 3.0, 4.0, 4.0, 4.0, 4.0, 3.0, 4.0, 2.0, 4.0, 3.0, 3.0, 4.0, 4.0, 2.0, 3.0, 4.0, 3.0, 4.0, 3.0, 4.0, 4.0, 4.0, 4.0, 3.0, 3.0, 4.0, 4.0, 3.0, 4.0, 3.0, 4.0, 3.0, 4.0, 2.0, 4.0, 3.0, 3.0, 3.0, 4.0, 3.0, 3.0, 3.0, 4.0, 4.0, 3.0, 3.0, 3.0, 2.0, 4.0, 4.0, 4.0, 4.0, 4.0, 4.0, 4.0, 4.0, 3.0], 'test_losses': [0.6395331621170044, 0.209317147731781, 0.9305381774902344, 0.6554248929023743, 0.0028104197699576616, 0.03317900002002716, 1.628428339958191, 0.9865182638168335, 1.8163456916809082, 1.1882665157318115, 0.005960907321423292, 0.03643769025802612, 0.7141895890235901, 0.005727630108594894, 0.031202998012304306, 1.2104814052581787, 1.0602866411209106, 0.1889694333076477, 1.2486755847930908, 0.17799577116966248, 0.5519885420799255, 0.14766384661197662, 1.1868866682052612, 0.027165913954377174, 0.12327656149864197, 0.0006097086006775498, 0.022628573700785637, 1.2924391031265259, 0.0012393411016091704, 0.154855877161026, 0.407335102558136, 0.01080550067126751, 0.00522620091214776, 0.008310784585773945, 0.002368680201470852, 0.00038518881774507463, 0.005496867932379246, 0.003910674247890711, 0.43424075841903687, 1.153194785118103, 0.8771690726280212, 0.08326742798089981, 0.8507257699966431, 0.02145797573029995, 0.060075823217630386, 0.3082142174243927, 0.12600360810756683, 0.6985868811607361, 0.9200682640075684, 0.4192355275154114, 1.4499518871307373, 2.865072250366211, 0.6890921592712402, 0.4259023070335388, 0.08608163148164749, 0.0057470486499369144, 0.026784418150782585, 0.016578299924731255, 0.052719853818416595, 0.015582089312374592, 0.1873273104429245, 0.027746116742491722, 0.01585458032786846, 0.09076061844825745, 0.42639216780662537, 0.2703428566455841, 0.008848978206515312, 1.230142593383789, 0.17121173441410065, 0.760874330997467, 2.1599373817443848, 0.0018780481768772006, 0.29267534613609314, 0.5807320475578308, 0.0051692184060812, 0.004667037166655064, 0.20037810504436493, 0.0003355224325787276, 0.2054005265235901, 0.5247714519500732, 0.25513893365859985, 0.07336083799600601, 0.00807694811373949, 0.26501280069351196, 0.5020895600318909, 0.9054439663887024, 0.0019358535064384341, 0.012217365205287933, 0.01002797856926918, 0.3194677233695984, 0.09555541723966599, 0.32424670457839966, 0.26415592432022095, 0.3000609576702118, 0.006956750061362982, 0.037072665989398956, 0.20263247191905975, 1.6529572010040283, 0.024656886234879494, 0.1931285262107849, 0.2852513790130615, 0.024733878672122955, 0.001127734431065619, 1.1183183193206787, 0.03167615085840225, 0.4974088668823242, 0.5669808983802795, 0.003204543376341462, 0.008140821009874344, 0.0006708114524371922, 0.0024818992242217064, 0.3802012801170349, 0.0752505511045456, 1.6359013319015503, 0.1866632103919983, 1.0633773803710938, 0.3405033349990845, 0.017539557069540024, 0.017019568011164665, 0.5714014768600464, 0.49418699741363525, 0.4467815160751343, 0.64423006772995, 0.1638505905866623, 1.0415523052215576, 0.011620515026152134, 0.0864197388291359, 0.22836267948150635, 0.17604568600654602, 0.49518299102783203, 0.5519465804100037, 0.029282815754413605, 0.003799614030867815, 0.4518492817878723, 0.06066874414682388, 0.5478299260139465, 0.0034456970170140266, 1.5973594188690186, 0.2031160295009613, 1.41889488697052, 0.005850217305123806, 0.583373486995697, 1.3583528995513916, 0.31673306226730347, 0.06277088075876236, 0.8288516998291016, 0.6901171207427979, 0.3842693865299225, 0.018169911578297615, 0.07545017451047897, 0.4533221423625946, 0.4145400822162628, 0.3336021304130554, 0.44222891330718994, 0.39671579003334045, 0.16210681200027466, 0.079465851187706, 0.09166459739208221, 0.017075054347515106, 0.023548629134893417, 0.002179411007091403, 0.07780065387487411, 0.05248912796378136], 'test_loss': 0.38824069331274397, 'test_batch_lens': [4, 4, 4, 4, 4, 4, 4, 4, 4, 4, 4, 4, 4, 4, 4, 4, 4, 4, 4, 4, 4, 4, 4, 4, 4, 4, 4, 4, 4, 4, 4, 4, 4, 4, 4, 4, 4, 4, 4, 4, 4, 4, 4, 4, 4, 4, 4, 4, 4, 4, 4, 4, 4, 4, 4, 4, 4, 4, 4, 4, 4, 4, 4, 4, 4, 4, 4, 4, 4, 4, 4, 4, 4, 4, 4, 4, 4, 4, 4, 4, 4, 4, 4, 4, 4, 4, 4, 4, 4, 4, 4, 4, 4, 4, 4, 4, 4, 4, 4, 4, 4, 4, 4, 4, 4, 4, 4, 4, 4, 4, 4, 4, 4, 4, 4, 4, 4, 4, 4, 4, 4, 4, 4, 4, 4, 4, 4, 4, 4, 4, 4, 4, 4, 4, 4, 4, 4, 4, 4, 4, 4, 4, 4, 4, 4, 4, 4, 4, 4, 4, 4, 4, 4, 4, 4, 4, 4, 4, 4, 4, 4, 4, 3], 'test_accuracy': 0.8632872503840245, 'predictions': [7, 4, 1, 2, 7, 1, 8, 6, 0, 2, 4, 7, 1, 9, 3, 1, 9, 6, 4, 9, 8, 10, 1, 4, 6, 6, 4, 6, 6, 8, 2, 8, 1, 0, 6, 3, 2, 5, 5, 0, 10, 3, 2, 10, 7, 8, 4, 3, 3, 8, 1, 4, 3, 4, 6, 1, 1, 9, 1, 10, 10, 6, 2, 6, 5, 3, 8, 5, 8, 1, 3, 1, 5, 3, 1, 8, 6, 8, 9, 2, 3, 1, 1, 1, 5, 5, 1, 8, 8, 5, 9, 10, 10, 7, 1, 5, 1, 8, 2, 7, 5, 1, 10, 6, 10, 8, 3, 9, 10, 4, 7, 6, 0, 3, 7, 6, 0, 8, 0, 0, 4, 3, 7, 6, 5, 1, 7, 9, 6, 7, 4, 0, 10, 10, 7, 9, 4, 1, 9, 0, 10, 3, 3, 9, 4, 7, 4, 7, 2, 10, 2, 4, 10, 3, 1, 0, 2, 4, 4, 7, 8, 9, 3, 4, 2, 3, 10, 5, 8, 0, 2, 3, 10, 7, 6, 8, 0, 8, 1, 2, 6, 8, 5, 3, 9, 3, 4, 8, 3, 2, 3, 2, 0, 4, 9, 6, 1, 8, 5, 9, 4, 1, 6, 1, 2, 4, 9, 9, 3, 9, 5, 1, 6, 5, 4, 5, 2, 10, 8, 4, 7, 3, 0, 6, 7, 0, 5, 7, 1, 0, 1, 6, 3, 7, 7, 2, 10, 4, 3, 10, 9, 9, 3, 3, 1, 7, 8, 5, 2, 4, 10, 1, 1, 2, 3, 10, 6, 9, 5, 1, 3, 10, 7, 1, 5, 1, 8, 1, 3, 7, 2, 10, 3, 5, 2, 2, 7, 2, 9, 7, 4, 3, 6, 10, 2, 4, 2, 5, 5, 3, 5, 0, 8, 2, 0, 1, 2, 7, 3, 2, 4, 10, 8, 6, 6, 5, 2, 7, 10, 1, 7, 6, 9, 2, 6, 2, 0, 9, 4, 10, 6, 6, 7, 9, 1, 8, 8, 5, 2, 9, 4, 1, 3, 8, 4, 7, 3, 2, 7, 2, 5, 0, 4, 10, 5, 0, 5, 7, 3, 6, 4, 6, 4, 9, 5, 1, 8, 3, 7, 8, 4, 4, 6, 10, 8, 9, 10, 5, 6, 7, 4, 0, 5, 0, 1, 10, 5, 0, 3, 7, 3, 1, 8, 2, 2, 4, 4, 9, 3, 7, 8, 2, 9, 4, 0, 0, 5, 6, 9, 9, 7, 7, 6, 9, 1, 10, 10, 5, 5, 7, 3, 3, 5, 10, 4, 7, 2, 3, 1, 1, 0, 5, 4, 0, 2, 0, 1, 7, 8, 4, 8, 3, 8, 0, 3, 2, 2, 3, 7, 10, 10, 4, 10, 6, 6, 5, 0, 6, 8, 2, 1, 9, 4, 5, 9, 4, 1, 3, 5, 7, 9, 10, 3, 8, 1, 6, 3, 4, 2, 4, 10, 1, 1, 2, 8, 2, 4, 3, 2, 8, 4, 9, 0, 7, 6, 9, 2, 0, 2, 1, 6, 9, 3, 7, 2, 4, 2, 0, 1, 3, 9, 6, 3, 4, 6, 3, 3, 5, 0, 1, 7, 10, 4, 10, 2, 5, 5, 7, 5, 3, 6, 5, 0, 4, 5, 4, 9, 5, 9, 7, 7, 2, 1, 2, 4, 3, 2, 9, 1, 8, 9, 1, 6, 8, 2, 0, 9, 7, 6, 7, 6, 9, 0, 10, 8, 8, 6, 3, 7, 3, 2, 7, 9, 6, 4, 8, 9, 0, 8, 2, 7, 5, 2, 10, 10, 7, 9, 6, 8, 6, 6, 2, 7, 9, 7, 3, 4, 9, 3, 3, 7, 5, 1, 7, 5, 4, 0, 7, 8, 0, 7, 4, 5, 4, 4, 6, 6, 6, 1, 5, 8, 0, 1, 2, 7, 3, 9, 4, 6, 6, 10, 7, 1, 0, 3, 9, 1, 4, 3, 10, 7, 8, 9, 9, 4, 0, 2, 3, 7, 8, 6, 8, 1, 7, 4, 0, 2, 0, 8, 6, 7], 'real_labels': [7, 4, 1, 10, 7, 1, 8, 8, 0, 8, 4, 7, 1, 9, 3, 0, 9, 6, 4, 9, 8, 10, 1, 4, 6, 8, 8, 6, 6, 8, 2, 1, 1, 9, 6, 3, 10, 5, 5, 0, 10, 3, 2, 10, 7, 8, 4, 3, 3, 8, 9, 4, 3, 4, 6, 1, 1, 9, 1, 10, 10, 6, 1, 6, 5, 5, 8, 5, 8, 1, 3, 1, 1, 3, 1, 8, 6, 8, 9, 2, 3, 1, 3, 1, 5, 5, 1, 8, 0, 4, 9, 10, 10, 7, 1, 5, 1, 8, 2, 7, 5, 1, 10, 6, 10, 8, 3, 9, 10, 4, 7, 1, 0, 3, 7, 6, 0, 8, 0, 0, 4, 8, 7, 6, 5, 1, 7, 9, 6, 7, 4, 0, 10, 10, 7, 9, 4, 1, 9, 0, 10, 3, 3, 9, 4, 7, 4, 7, 2, 10, 2, 4, 10, 10, 1, 0, 10, 5, 4, 7, 8, 9, 10, 4, 2, 3, 10, 5, 8, 0, 9, 0, 10, 7, 6, 8, 0, 8, 1, 2, 6, 3, 5, 3, 9, 3, 4, 8, 3, 2, 0, 2, 0, 9, 9, 8, 1, 3, 5, 9, 8, 1, 6, 1, 4, 3, 4, 8, 3, 9, 5, 6, 2, 5, 4, 5, 2, 10, 8, 4, 7, 3, 0, 6, 7, 0, 5, 7, 1, 0, 1, 6, 3, 7, 7, 2, 10, 4, 3, 10, 9, 4, 3, 3, 1, 7, 8, 5, 2, 4, 10, 1, 1, 2, 3, 10, 6, 9, 5, 3, 3, 10, 7, 1, 5, 1, 8, 1, 8, 7, 3, 10, 3, 5, 2, 2, 7, 3, 9, 7, 6, 8, 8, 10, 2, 4, 2, 5, 5, 3, 8, 0, 8, 6, 0, 1, 2, 7, 3, 2, 4, 10, 8, 6, 6, 0, 2, 7, 10, 1, 7, 6, 9, 2, 5, 2, 0, 9, 4, 3, 2, 6, 7, 9, 1, 8, 8, 5, 2, 9, 4, 1, 1, 8, 4, 7, 1, 2, 7, 2, 5, 0, 7, 10, 5, 0, 5, 7, 3, 6, 4, 6, 4, 9, 5, 1, 8, 3, 7, 7, 4, 4, 6, 10, 8, 9, 8, 5, 6, 7, 4, 0, 5, 0, 9, 10, 5, 0, 3, 7, 3, 1, 8, 2, 2, 4, 4, 9, 3, 7, 9, 9, 9, 4, 0, 0, 5, 6, 9, 9, 7, 7, 6, 9, 1, 10, 10, 5, 5, 7, 3, 3, 5, 10, 9, 7, 2, 3, 1, 1, 0, 5, 4, 1, 2, 0, 1, 8, 8, 4, 8, 3, 8, 0, 3, 2, 2, 3, 7, 10, 10, 4, 10, 6, 6, 5, 0, 9, 8, 2, 1, 9, 9, 5, 9, 9, 1, 3, 5, 7, 9, 10, 1, 8, 1, 6, 3, 8, 2, 4, 10, 1, 1, 2, 8, 2, 4, 8, 2, 5, 9, 9, 0, 7, 6, 9, 2, 0, 2, 8, 6, 9, 3, 7, 2, 4, 3, 0, 1, 3, 9, 6, 3, 4, 6, 3, 3, 5, 0, 1, 7, 10, 4, 10, 2, 5, 5, 7, 5, 1, 4, 5, 0, 4, 5, 4, 9, 5, 9, 7, 7, 2, 0, 2, 4, 3, 2, 9, 1, 8, 9, 1, 8, 8, 2, 0, 9, 7, 6, 9, 6, 9, 0, 10, 8, 8, 4, 1, 7, 3, 2, 7, 9, 6, 7, 8, 9, 0, 8, 2, 10, 5, 2, 10, 8, 7, 9, 6, 8, 6, 6, 4, 7, 9, 7, 8, 4, 9, 3, 3, 7, 4, 1, 7, 5, 4, 0, 7, 8, 0, 7, 4, 5, 5, 4, 8, 6, 6, 1, 5, 3, 0, 1, 4, 7, 1, 9, 4, 6, 6, 10, 7, 1, 0, 3, 9, 1, 4, 3, 10, 7, 8, 9, 9, 4, 0, 2, 3, 7, 8, 6, 8, 1, 7, 4, 0, 2, 0, 8, 6, 7], 'label_to_index': {'down': 0, 'go': 1, 'left': 2, 'no': 3, 'off': 4, 'on': 5, 'right': 6, 'stop': 7, 'unknown': 8, 'up': 9, 'yes': 10}}\n",
      "Test Loss: 0.38824069331274397, Test Accuracy: 0.8632872503840245\n"
     ]
    },
    {
     "name": "stderr",
     "output_type": "stream",
     "text": [
      "Some weights of the model checkpoint at superb/wav2vec2-base-superb-ks were not used when initializing Wav2Vec2ForSequenceClassification: ['wav2vec2.encoder.pos_conv_embed.conv.weight_g', 'wav2vec2.encoder.pos_conv_embed.conv.weight_v']\n",
      "- This IS expected if you are initializing Wav2Vec2ForSequenceClassification from the checkpoint of a model trained on another task or with another architecture (e.g. initializing a BertForSequenceClassification model from a BertForPreTraining model).\n",
      "- This IS NOT expected if you are initializing Wav2Vec2ForSequenceClassification from the checkpoint of a model that you expect to be exactly identical (initializing a BertForSequenceClassification model from a BertForSequenceClassification model).\n",
      "Some weights of Wav2Vec2ForSequenceClassification were not initialized from the model checkpoint at superb/wav2vec2-base-superb-ks and are newly initialized: ['wav2vec2.encoder.pos_conv_embed.conv.parametrizations.weight.original0', 'wav2vec2.encoder.pos_conv_embed.conv.parametrizations.weight.original1']\n",
      "You should probably TRAIN this model on a down-stream task to be able to use it for predictions and inference.\n"
     ]
    },
    {
     "data": {
      "application/vnd.jupyter.widget-view+json": {
       "model_id": "0c7a629c5e64451098a8abd17bf55ef7",
       "version_major": 2,
       "version_minor": 0
      },
      "text/plain": [
       "Epoch 1/10:   0%|          | 0/6187 [00:00<?, ?it/s]"
      ]
     },
     "metadata": {},
     "output_type": "display_data"
    },
    {
     "name": "stdout",
     "output_type": "stream",
     "text": [
      "Epoch 1/10, Train Loss: 2.4359213644224704\n"
     ]
    },
    {
     "data": {
      "application/vnd.jupyter.widget-view+json": {
       "model_id": "b807918909574854aad5e6daf5aca25a",
       "version_major": 2,
       "version_minor": 0
      },
      "text/plain": [
       "Validation:   0%|          | 0/163 [00:00<?, ?it/s]"
      ]
     },
     "metadata": {},
     "output_type": "display_data"
    },
    {
     "name": "stdout",
     "output_type": "stream",
     "text": [
      "Epoch 1/10, Validation Loss: 2.4128670356024995, Validation Accuracy: 0.0706605222734255\n"
     ]
    },
    {
     "data": {
      "application/vnd.jupyter.widget-view+json": {
       "model_id": "62e79692b7734089b3887c7ab7a3c728",
       "version_major": 2,
       "version_minor": 0
      },
      "text/plain": [
       "Epoch 2/10:   0%|          | 0/6187 [00:00<?, ?it/s]"
      ]
     },
     "metadata": {},
     "output_type": "display_data"
    },
    {
     "name": "stdout",
     "output_type": "stream",
     "text": [
      "Epoch 2/10, Train Loss: 2.430028529492414\n"
     ]
    },
    {
     "data": {
      "application/vnd.jupyter.widget-view+json": {
       "model_id": "1f76b2e7cc4c4b4a9b15b5bf95680b44",
       "version_major": 2,
       "version_minor": 0
      },
      "text/plain": [
       "Validation:   0%|          | 0/163 [00:00<?, ?it/s]"
      ]
     },
     "metadata": {},
     "output_type": "display_data"
    },
    {
     "name": "stdout",
     "output_type": "stream",
     "text": [
      "Epoch 2/10, Validation Loss: 2.4252234807043718, Validation Accuracy: 0.0967741935483871\n"
     ]
    },
    {
     "data": {
      "application/vnd.jupyter.widget-view+json": {
       "model_id": "a4f8dde116f3443cb317ccdb628afd6d",
       "version_major": 2,
       "version_minor": 0
      },
      "text/plain": [
       "Epoch 3/10:   0%|          | 0/6187 [00:00<?, ?it/s]"
      ]
     },
     "metadata": {},
     "output_type": "display_data"
    },
    {
     "name": "stdout",
     "output_type": "stream",
     "text": [
      "Epoch 3/10, Train Loss: 2.4296473750818404\n"
     ]
    },
    {
     "data": {
      "application/vnd.jupyter.widget-view+json": {
       "model_id": "da6231db0e13471e833f237d41ddeda7",
       "version_major": 2,
       "version_minor": 0
      },
      "text/plain": [
       "Validation:   0%|          | 0/163 [00:00<?, ?it/s]"
      ]
     },
     "metadata": {},
     "output_type": "display_data"
    },
    {
     "name": "stdout",
     "output_type": "stream",
     "text": [
      "Epoch 3/10, Validation Loss: 2.426145258125352, Validation Accuracy: 0.0706605222734255\n"
     ]
    },
    {
     "data": {
      "application/vnd.jupyter.widget-view+json": {
       "model_id": "acc79dd3ccff4bae82fe1cc29f30cf1b",
       "version_major": 2,
       "version_minor": 0
      },
      "text/plain": [
       "Epoch 4/10:   0%|          | 0/6187 [00:00<?, ?it/s]"
      ]
     },
     "metadata": {},
     "output_type": "display_data"
    },
    {
     "name": "stdout",
     "output_type": "stream",
     "text": [
      "Epoch 4/10, Train Loss: 2.4260790595064954\n"
     ]
    },
    {
     "data": {
      "application/vnd.jupyter.widget-view+json": {
       "model_id": "80f3215ed45146c48ef949c16faaa602",
       "version_major": 2,
       "version_minor": 0
      },
      "text/plain": [
       "Validation:   0%|          | 0/163 [00:00<?, ?it/s]"
      ]
     },
     "metadata": {},
     "output_type": "display_data"
    },
    {
     "name": "stdout",
     "output_type": "stream",
     "text": [
      "Epoch 4/10, Validation Loss: 2.3954258345387465, Validation Accuracy: 0.0967741935483871\n"
     ]
    },
    {
     "data": {
      "application/vnd.jupyter.widget-view+json": {
       "model_id": "c86cf534c7d645719b203931b0d1b963",
       "version_major": 2,
       "version_minor": 0
      },
      "text/plain": [
       "Epoch 5/10:   0%|          | 0/6187 [00:00<?, ?it/s]"
      ]
     },
     "metadata": {},
     "output_type": "display_data"
    },
    {
     "name": "stdout",
     "output_type": "stream",
     "text": [
      "Epoch 5/10, Train Loss: 2.425878930770081\n"
     ]
    },
    {
     "data": {
      "application/vnd.jupyter.widget-view+json": {
       "model_id": "7803072cac1e4cc3b9c97922315bf9b6",
       "version_major": 2,
       "version_minor": 0
      },
      "text/plain": [
       "Validation:   0%|          | 0/163 [00:00<?, ?it/s]"
      ]
     },
     "metadata": {},
     "output_type": "display_data"
    },
    {
     "name": "stdout",
     "output_type": "stream",
     "text": [
      "Epoch 5/10, Validation Loss: 2.4078426843771905, Validation Accuracy: 0.12749615975422426\n"
     ]
    },
    {
     "data": {
      "application/vnd.jupyter.widget-view+json": {
       "model_id": "ec140c7afe8946b9b222f4b47c630026",
       "version_major": 2,
       "version_minor": 0
      },
      "text/plain": [
       "Epoch 6/10:   0%|          | 0/6187 [00:00<?, ?it/s]"
      ]
     },
     "metadata": {},
     "output_type": "display_data"
    },
    {
     "name": "stdout",
     "output_type": "stream",
     "text": [
      "Epoch 6/10, Train Loss: 2.425044550752339\n"
     ]
    },
    {
     "data": {
      "application/vnd.jupyter.widget-view+json": {
       "model_id": "5ccd1ce1b42e46f196bb59af6010d5b2",
       "version_major": 2,
       "version_minor": 0
      },
      "text/plain": [
       "Validation:   0%|          | 0/163 [00:00<?, ?it/s]"
      ]
     },
     "metadata": {},
     "output_type": "display_data"
    },
    {
     "name": "stdout",
     "output_type": "stream",
     "text": [
      "Epoch 6/10, Validation Loss: 2.4289516481153806, Validation Accuracy: 0.0967741935483871\n"
     ]
    },
    {
     "data": {
      "application/vnd.jupyter.widget-view+json": {
       "model_id": "3780e46e47864908935166b3def4e5e4",
       "version_major": 2,
       "version_minor": 0
      },
      "text/plain": [
       "Epoch 7/10:   0%|          | 0/6187 [00:00<?, ?it/s]"
      ]
     },
     "metadata": {},
     "output_type": "display_data"
    },
    {
     "name": "stdout",
     "output_type": "stream",
     "text": [
      "Epoch 7/10, Train Loss: 2.425820353171042\n"
     ]
    },
    {
     "data": {
      "application/vnd.jupyter.widget-view+json": {
       "model_id": "0b8f659045124a5994678b1699c6a981",
       "version_major": 2,
       "version_minor": 0
      },
      "text/plain": [
       "Validation:   0%|          | 0/163 [00:00<?, ?it/s]"
      ]
     },
     "metadata": {},
     "output_type": "display_data"
    },
    {
     "name": "stdout",
     "output_type": "stream",
     "text": [
      "Epoch 7/10, Validation Loss: 2.387937605746685, Validation Accuracy: 0.12749615975422426\n"
     ]
    },
    {
     "data": {
      "application/vnd.jupyter.widget-view+json": {
       "model_id": "210490f801df4646acd210d802d2f67d",
       "version_major": 2,
       "version_minor": 0
      },
      "text/plain": [
       "Epoch 8/10:   0%|          | 0/6187 [00:00<?, ?it/s]"
      ]
     },
     "metadata": {},
     "output_type": "display_data"
    },
    {
     "name": "stdout",
     "output_type": "stream",
     "text": [
      "Epoch 8/10, Train Loss: 2.4247486945479526\n"
     ]
    },
    {
     "data": {
      "application/vnd.jupyter.widget-view+json": {
       "model_id": "a9e90bfa399049c3a915e4a080610c37",
       "version_major": 2,
       "version_minor": 0
      },
      "text/plain": [
       "Validation:   0%|          | 0/163 [00:00<?, ?it/s]"
      ]
     },
     "metadata": {},
     "output_type": "display_data"
    },
    {
     "name": "stdout",
     "output_type": "stream",
     "text": [
      "Epoch 8/10, Validation Loss: 2.412071374296411, Validation Accuracy: 0.10445468509984639\n"
     ]
    },
    {
     "data": {
      "application/vnd.jupyter.widget-view+json": {
       "model_id": "09e6b4c04f5344d9948550fdaea824b5",
       "version_major": 2,
       "version_minor": 0
      },
      "text/plain": [
       "Epoch 9/10:   0%|          | 0/6187 [00:00<?, ?it/s]"
      ]
     },
     "metadata": {},
     "output_type": "display_data"
    },
    {
     "name": "stdout",
     "output_type": "stream",
     "text": [
      "Epoch 9/10, Train Loss: 2.424205027933708\n"
     ]
    },
    {
     "data": {
      "application/vnd.jupyter.widget-view+json": {
       "model_id": "e370febb154c48b9a78b0e66c1d2b017",
       "version_major": 2,
       "version_minor": 0
      },
      "text/plain": [
       "Validation:   0%|          | 0/163 [00:00<?, ?it/s]"
      ]
     },
     "metadata": {},
     "output_type": "display_data"
    },
    {
     "name": "stdout",
     "output_type": "stream",
     "text": [
      "Epoch 9/10, Validation Loss: 2.4297029752672814, Validation Accuracy: 0.0967741935483871\n"
     ]
    },
    {
     "data": {
      "application/vnd.jupyter.widget-view+json": {
       "model_id": "4f11e7bad0614aca8e8b35db02df1d87",
       "version_major": 2,
       "version_minor": 0
      },
      "text/plain": [
       "Epoch 10/10:   0%|          | 0/6187 [00:00<?, ?it/s]"
      ]
     },
     "metadata": {},
     "output_type": "display_data"
    },
    {
     "name": "stdout",
     "output_type": "stream",
     "text": [
      "Epoch 10/10, Train Loss: 2.424645858452974\n"
     ]
    },
    {
     "data": {
      "application/vnd.jupyter.widget-view+json": {
       "model_id": "c1b6146b51ab48489571739c31314035",
       "version_major": 2,
       "version_minor": 0
      },
      "text/plain": [
       "Validation:   0%|          | 0/163 [00:00<?, ?it/s]"
      ]
     },
     "metadata": {},
     "output_type": "display_data"
    },
    {
     "name": "stdout",
     "output_type": "stream",
     "text": [
      "Epoch 10/10, Validation Loss: 2.40981125831604, Validation Accuracy: 0.0967741935483871\n"
     ]
    },
    {
     "data": {
      "application/vnd.jupyter.widget-view+json": {
       "model_id": "ac084cf067354e6da9dab8eae5388c10",
       "version_major": 2,
       "version_minor": 0
      },
      "text/plain": [
       "Testing:   0%|          | 0/163 [00:00<?, ?it/s]"
      ]
     },
     "metadata": {},
     "output_type": "display_data"
    },
    {
     "name": "stdout",
     "output_type": "stream",
     "text": [
      "{'val_acc': [0.0706605222734255, 0.0967741935483871, 0.0706605222734255, 0.0967741935483871, 0.12749615975422426, 0.0967741935483871, 0.12749615975422426, 0.10445468509984639, 0.0967741935483871, 0.0967741935483871], 'val_loss': [2.4128670356024995, 2.4252234807043718, 2.426145258125352, 2.3954258345387465, 2.4078426843771905, 2.4289516481153806, 2.387937605746685, 2.412071374296411, 2.4297029752672814, 2.40981125831604], 'train_loss': [2.4359213644224704, 2.430028529492414, 2.4296473750818404, 2.4260790595064954, 2.425878930770081, 2.425044550752339, 2.425820353171042, 2.4247486945479526, 2.424205027933708, 2.424645858452974], 'test_correct_in_batch': [1.0, 0.0, 0.0, 0.0, 0.0, 1.0, 0.0, 0.0, 0.0, 1.0, 2.0, 0.0, 0.0, 0.0, 1.0, 1.0, 0.0, 0.0, 0.0, 0.0, 0.0, 0.0, 1.0, 1.0, 0.0, 1.0, 1.0, 1.0, 0.0, 0.0, 0.0, 0.0, 0.0, 2.0, 0.0, 1.0, 0.0, 1.0, 2.0, 1.0, 1.0, 1.0, 0.0, 1.0, 0.0, 0.0, 0.0, 0.0, 0.0, 0.0, 0.0, 0.0, 0.0, 0.0, 1.0, 0.0, 0.0, 0.0, 0.0, 2.0, 0.0, 0.0, 1.0, 1.0, 0.0, 1.0, 0.0, 1.0, 0.0, 0.0, 1.0, 0.0, 0.0, 0.0, 0.0, 1.0, 0.0, 1.0, 0.0, 0.0, 0.0, 0.0, 0.0, 0.0, 0.0, 1.0, 0.0, 0.0, 0.0, 0.0, 1.0, 0.0, 0.0, 1.0, 0.0, 0.0, 0.0, 0.0, 0.0, 0.0, 0.0, 2.0, 0.0, 1.0, 0.0, 0.0, 0.0, 0.0, 0.0, 1.0, 2.0, 0.0, 0.0, 0.0, 0.0, 1.0, 0.0, 1.0, 0.0, 0.0, 0.0, 0.0, 0.0, 0.0, 0.0, 0.0, 0.0, 1.0, 1.0, 0.0, 0.0, 0.0, 0.0, 0.0, 0.0, 0.0, 0.0, 0.0, 1.0, 0.0, 0.0, 0.0, 1.0, 1.0, 0.0, 0.0, 0.0, 0.0, 0.0, 0.0, 0.0, 0.0, 0.0, 0.0, 0.0, 1.0, 0.0, 1.0, 0.0, 0.0, 0.0, 0.0, 0.0], 'test_losses': [2.41231107711792, 2.6227293014526367, 2.4920670986175537, 2.4088075160980225, 2.411916732788086, 2.5208096504211426, 2.5634512901306152, 2.527595043182373, 2.403515338897705, 2.385159492492676, 2.200503349304199, 2.437807083129883, 2.45462703704834, 2.4334819316864014, 2.471552610397339, 2.3954544067382812, 2.557901382446289, 2.569436550140381, 2.5694363117218018, 2.4552063941955566, 2.4269349575042725, 2.6028168201446533, 2.3601808547973633, 2.4098172187805176, 2.512629270553589, 2.4247822761535645, 2.3676319122314453, 2.41231107711792, 2.3177437782287598, 2.4857943058013916, 2.4867749214172363, 2.466845750808716, 2.398533344268799, 2.2529280185699463, 2.4895968437194824, 2.225130319595337, 2.4100983142852783, 2.319899797439575, 2.3455734252929688, 2.3673958778381348, 2.4484217166900635, 2.2850043773651123, 2.4823572635650635, 2.3997795581817627, 2.5328874588012695, 2.307776927947998, 2.4546265602111816, 2.2995753288269043, 2.4789204597473145, 2.432842969894409, 2.6184048652648926, 2.4845943450927734, 2.3585991859436035, 2.450295925140381, 2.429999351501465, 2.317744016647339, 2.381074905395508, 2.530162811279297, 2.2809197902679443, 2.248891830444336, 2.3121259212493896, 2.5585243701934814, 2.4107093811035156, 2.3299198150634766, 2.3585996627807617, 2.331521511077881, 2.6477320194244385, 2.3508119583129883, 2.323610782623291, 2.299342155456543, 2.5082778930664062, 2.4044008255004883, 2.4555695056915283, 2.5494532585144043, 2.279318332672119, 2.446566581726074, 2.3501453399658203, 2.3804893493652344, 2.374434232711792, 2.3663856983184814, 2.346708059310913, 2.6670219898223877, 2.467738151550293, 2.5610177516937256, 2.40252947807312, 2.3408663272857666, 2.4253673553466797, 2.359239101409912, 2.5136327743530273, 2.391019821166992, 2.384855270385742, 2.5946342945098877, 2.398533344268799, 2.3576865196228027, 2.347071886062622, 2.4786272048950195, 2.42531681060791, 2.316162109375, 2.4206459522247314, 2.4094228744506836, 2.3483099937438965, 2.3696088790893555, 2.2928123474121094, 2.3374295234680176, 2.459336280822754, 2.5170695781707764, 2.532886505126953, 2.5463056564331055, 2.4096758365631104, 2.2407116889953613, 2.2978596687316895, 2.4128596782684326, 2.529449701309204, 2.411278009414673, 2.4160232543945312, 2.490842819213867, 2.4951930046081543, 2.4107093811035156, 2.5110278129577637, 2.5145010948181152, 2.370422124862671, 2.3669655323028564, 2.4552061557769775, 2.3277063369750977, 2.3579840660095215, 2.361093759536743, 2.307776927947998, 2.38578200340271, 2.3657946586608887, 2.494318723678589, 2.4746482372283936, 2.468717575073242, 2.3317432403564453, 2.347963809967041, 2.529449462890625, 2.6395492553710938, 2.3520002365112305, 2.3800954818725586, 2.5135698318481445, 2.4185173511505127, 2.346708059310913, 2.4621005058288574, 2.4275057315826416, 2.3832128047943115, 2.471773386001587, 2.39509654045105, 2.4886300563812256, 2.2953054904937744, 2.496812343597412, 2.4655373096466064, 2.451897144317627, 2.501739978790283, 2.436279535293579, 2.5417275428771973, 2.410061836242676, 2.3857815265655518, 2.4353368282318115, 2.350811719894409, 2.4172091484069824, 2.389418125152588, 2.52919602394104, 2.402223825454712, 2.481142282485962], 'test_loss': 2.4233423756675485, 'test_batch_lens': [4, 4, 4, 4, 4, 4, 4, 4, 4, 4, 4, 4, 4, 4, 4, 4, 4, 4, 4, 4, 4, 4, 4, 4, 4, 4, 4, 4, 4, 4, 4, 4, 4, 4, 4, 4, 4, 4, 4, 4, 4, 4, 4, 4, 4, 4, 4, 4, 4, 4, 4, 4, 4, 4, 4, 4, 4, 4, 4, 4, 4, 4, 4, 4, 4, 4, 4, 4, 4, 4, 4, 4, 4, 4, 4, 4, 4, 4, 4, 4, 4, 4, 4, 4, 4, 4, 4, 4, 4, 4, 4, 4, 4, 4, 4, 4, 4, 4, 4, 4, 4, 4, 4, 4, 4, 4, 4, 4, 4, 4, 4, 4, 4, 4, 4, 4, 4, 4, 4, 4, 4, 4, 4, 4, 4, 4, 4, 4, 4, 4, 4, 4, 4, 4, 4, 4, 4, 4, 4, 4, 4, 4, 4, 4, 4, 4, 4, 4, 4, 4, 4, 4, 4, 4, 4, 4, 4, 4, 4, 4, 4, 4, 3], 'test_accuracy': 0.07680491551459294, 'predictions': [10, 10, 10, 10, 10, 10, 10, 10, 10, 10, 10, 10, 10, 10, 10, 10, 10, 10, 10, 10, 10, 10, 10, 10, 10, 10, 10, 10, 10, 10, 10, 10, 10, 10, 10, 10, 10, 10, 10, 10, 10, 10, 10, 10, 10, 10, 10, 10, 10, 10, 10, 10, 10, 10, 10, 10, 10, 10, 10, 10, 10, 10, 10, 10, 10, 10, 10, 10, 10, 10, 10, 10, 10, 10, 10, 10, 10, 10, 10, 10, 10, 10, 10, 10, 10, 10, 10, 10, 10, 10, 10, 10, 10, 10, 10, 10, 10, 10, 10, 10, 10, 10, 10, 10, 10, 10, 10, 10, 10, 10, 10, 10, 10, 10, 10, 10, 10, 10, 10, 10, 10, 10, 10, 10, 10, 10, 10, 10, 10, 10, 10, 10, 10, 10, 10, 10, 10, 10, 10, 10, 10, 10, 10, 10, 10, 10, 10, 10, 10, 10, 10, 10, 10, 10, 10, 10, 10, 10, 10, 10, 10, 10, 10, 10, 10, 10, 10, 10, 10, 10, 10, 10, 10, 10, 10, 10, 10, 10, 10, 10, 10, 10, 10, 10, 10, 10, 10, 10, 10, 10, 10, 10, 10, 10, 10, 10, 10, 10, 10, 10, 10, 10, 10, 10, 10, 10, 10, 10, 10, 10, 10, 10, 10, 10, 10, 10, 10, 10, 10, 10, 10, 10, 10, 10, 10, 10, 10, 10, 10, 10, 10, 10, 10, 10, 10, 10, 10, 10, 10, 10, 10, 10, 10, 10, 10, 10, 10, 10, 10, 10, 10, 10, 10, 10, 10, 10, 10, 10, 10, 10, 10, 10, 10, 10, 10, 10, 10, 10, 10, 10, 10, 10, 10, 10, 10, 10, 10, 10, 10, 10, 10, 10, 10, 10, 10, 10, 10, 10, 10, 10, 10, 10, 10, 10, 10, 10, 10, 10, 10, 10, 10, 10, 10, 10, 10, 10, 10, 10, 10, 10, 10, 10, 10, 10, 10, 10, 10, 10, 10, 10, 10, 10, 10, 10, 10, 10, 10, 10, 10, 10, 10, 10, 10, 10, 10, 10, 10, 10, 10, 10, 10, 10, 10, 10, 10, 10, 10, 10, 10, 10, 10, 10, 10, 10, 10, 10, 10, 10, 10, 10, 10, 10, 10, 10, 10, 10, 10, 10, 10, 10, 10, 10, 10, 10, 10, 10, 10, 10, 10, 10, 10, 10, 10, 10, 10, 10, 10, 10, 10, 10, 10, 10, 10, 10, 10, 10, 10, 10, 10, 10, 10, 10, 10, 10, 10, 10, 10, 10, 10, 10, 10, 10, 10, 10, 10, 10, 10, 10, 10, 10, 10, 10, 10, 10, 10, 10, 10, 10, 10, 10, 10, 10, 10, 10, 10, 10, 10, 10, 10, 10, 10, 10, 10, 10, 10, 10, 10, 10, 10, 10, 10, 10, 10, 10, 10, 10, 10, 10, 10, 10, 10, 10, 10, 10, 10, 10, 10, 10, 10, 10, 10, 10, 10, 10, 10, 10, 10, 10, 10, 10, 10, 10, 10, 10, 10, 10, 10, 10, 10, 10, 10, 10, 10, 10, 10, 10, 10, 10, 10, 10, 10, 10, 10, 10, 10, 10, 10, 10, 10, 10, 10, 10, 10, 10, 10, 10, 10, 10, 10, 10, 10, 10, 10, 10, 10, 10, 10, 10, 10, 10, 10, 10, 10, 10, 10, 10, 10, 10, 10, 10, 10, 10, 10, 10, 10, 10, 10, 10, 10, 10, 10, 10, 10, 10, 10, 10, 10, 10, 10, 10, 10, 10, 10, 10, 10, 10, 10, 10, 10, 10, 10, 10, 10, 10, 10, 10, 10, 10, 10, 10, 10, 10, 10, 10, 10, 10, 10, 10, 10, 10, 10, 10, 10, 10, 10, 10, 10, 10, 10, 10, 10, 10, 10, 10, 10, 10, 10, 10, 10, 10, 10, 10, 10, 10, 10, 10, 10, 10, 10, 10, 10, 10, 10, 10, 10, 10, 10, 10, 10, 10, 10, 10, 10, 10, 10, 10, 10, 10, 10, 10, 10, 10, 10, 10, 10, 10, 10, 10, 10, 10, 10], 'real_labels': [7, 4, 1, 10, 7, 1, 8, 8, 0, 8, 4, 7, 1, 9, 3, 0, 9, 6, 4, 9, 8, 10, 1, 4, 6, 8, 8, 6, 6, 8, 2, 1, 1, 9, 6, 3, 10, 5, 5, 0, 10, 3, 2, 10, 7, 8, 4, 3, 3, 8, 9, 4, 3, 4, 6, 1, 1, 9, 1, 10, 10, 6, 1, 6, 5, 5, 8, 5, 8, 1, 3, 1, 1, 3, 1, 8, 6, 8, 9, 2, 3, 1, 3, 1, 5, 5, 1, 8, 0, 4, 9, 10, 10, 7, 1, 5, 1, 8, 2, 7, 5, 1, 10, 6, 10, 8, 3, 9, 10, 4, 7, 1, 0, 3, 7, 6, 0, 8, 0, 0, 4, 8, 7, 6, 5, 1, 7, 9, 6, 7, 4, 0, 10, 10, 7, 9, 4, 1, 9, 0, 10, 3, 3, 9, 4, 7, 4, 7, 2, 10, 2, 4, 10, 10, 1, 0, 10, 5, 4, 7, 8, 9, 10, 4, 2, 3, 10, 5, 8, 0, 9, 0, 10, 7, 6, 8, 0, 8, 1, 2, 6, 3, 5, 3, 9, 3, 4, 8, 3, 2, 0, 2, 0, 9, 9, 8, 1, 3, 5, 9, 8, 1, 6, 1, 4, 3, 4, 8, 3, 9, 5, 6, 2, 5, 4, 5, 2, 10, 8, 4, 7, 3, 0, 6, 7, 0, 5, 7, 1, 0, 1, 6, 3, 7, 7, 2, 10, 4, 3, 10, 9, 4, 3, 3, 1, 7, 8, 5, 2, 4, 10, 1, 1, 2, 3, 10, 6, 9, 5, 3, 3, 10, 7, 1, 5, 1, 8, 1, 8, 7, 3, 10, 3, 5, 2, 2, 7, 3, 9, 7, 6, 8, 8, 10, 2, 4, 2, 5, 5, 3, 8, 0, 8, 6, 0, 1, 2, 7, 3, 2, 4, 10, 8, 6, 6, 0, 2, 7, 10, 1, 7, 6, 9, 2, 5, 2, 0, 9, 4, 3, 2, 6, 7, 9, 1, 8, 8, 5, 2, 9, 4, 1, 1, 8, 4, 7, 1, 2, 7, 2, 5, 0, 7, 10, 5, 0, 5, 7, 3, 6, 4, 6, 4, 9, 5, 1, 8, 3, 7, 7, 4, 4, 6, 10, 8, 9, 8, 5, 6, 7, 4, 0, 5, 0, 9, 10, 5, 0, 3, 7, 3, 1, 8, 2, 2, 4, 4, 9, 3, 7, 9, 9, 9, 4, 0, 0, 5, 6, 9, 9, 7, 7, 6, 9, 1, 10, 10, 5, 5, 7, 3, 3, 5, 10, 9, 7, 2, 3, 1, 1, 0, 5, 4, 1, 2, 0, 1, 8, 8, 4, 8, 3, 8, 0, 3, 2, 2, 3, 7, 10, 10, 4, 10, 6, 6, 5, 0, 9, 8, 2, 1, 9, 9, 5, 9, 9, 1, 3, 5, 7, 9, 10, 1, 8, 1, 6, 3, 8, 2, 4, 10, 1, 1, 2, 8, 2, 4, 8, 2, 5, 9, 9, 0, 7, 6, 9, 2, 0, 2, 8, 6, 9, 3, 7, 2, 4, 3, 0, 1, 3, 9, 6, 3, 4, 6, 3, 3, 5, 0, 1, 7, 10, 4, 10, 2, 5, 5, 7, 5, 1, 4, 5, 0, 4, 5, 4, 9, 5, 9, 7, 7, 2, 0, 2, 4, 3, 2, 9, 1, 8, 9, 1, 8, 8, 2, 0, 9, 7, 6, 9, 6, 9, 0, 10, 8, 8, 4, 1, 7, 3, 2, 7, 9, 6, 7, 8, 9, 0, 8, 2, 10, 5, 2, 10, 8, 7, 9, 6, 8, 6, 6, 4, 7, 9, 7, 8, 4, 9, 3, 3, 7, 4, 1, 7, 5, 4, 0, 7, 8, 0, 7, 4, 5, 5, 4, 8, 6, 6, 1, 5, 3, 0, 1, 4, 7, 1, 9, 4, 6, 6, 10, 7, 1, 0, 3, 9, 1, 4, 3, 10, 7, 8, 9, 9, 4, 0, 2, 3, 7, 8, 6, 8, 1, 7, 4, 0, 2, 0, 8, 6, 7], 'label_to_index': {'down': 0, 'go': 1, 'left': 2, 'no': 3, 'off': 4, 'on': 5, 'right': 6, 'stop': 7, 'unknown': 8, 'up': 9, 'yes': 10}}\n",
      "Test Loss: 2.4233423756675485, Test Accuracy: 0.07680491551459294\n"
     ]
    },
    {
     "data": {
      "application/vnd.jupyter.widget-view+json": {
       "model_id": "6a657304eef64ad8ac0600565d450b9b",
       "version_major": 2,
       "version_minor": 0
      },
      "text/plain": [
       "Learninig Rates:   0%|          | 0/3 [00:00<?, ?it/s]"
      ]
     },
     "metadata": {},
     "output_type": "display_data"
    },
    {
     "data": {
      "application/vnd.jupyter.widget-view+json": {
       "model_id": "fbea9a4f866b450c90d25f20973539bb",
       "version_major": 2,
       "version_minor": 0
      },
      "text/plain": [
       "Training loop (5 times):   0%|          | 0/5 [00:00<?, ?it/s]"
      ]
     },
     "metadata": {},
     "output_type": "display_data"
    },
    {
     "name": "stderr",
     "output_type": "stream",
     "text": [
      "Some weights of the model checkpoint at superb/wav2vec2-base-superb-ks were not used when initializing Wav2Vec2ForSequenceClassification: ['wav2vec2.encoder.pos_conv_embed.conv.weight_g', 'wav2vec2.encoder.pos_conv_embed.conv.weight_v']\n",
      "- This IS expected if you are initializing Wav2Vec2ForSequenceClassification from the checkpoint of a model trained on another task or with another architecture (e.g. initializing a BertForSequenceClassification model from a BertForPreTraining model).\n",
      "- This IS NOT expected if you are initializing Wav2Vec2ForSequenceClassification from the checkpoint of a model that you expect to be exactly identical (initializing a BertForSequenceClassification model from a BertForSequenceClassification model).\n",
      "Some weights of Wav2Vec2ForSequenceClassification were not initialized from the model checkpoint at superb/wav2vec2-base-superb-ks and are newly initialized: ['wav2vec2.encoder.pos_conv_embed.conv.parametrizations.weight.original0', 'wav2vec2.encoder.pos_conv_embed.conv.parametrizations.weight.original1']\n",
      "You should probably TRAIN this model on a down-stream task to be able to use it for predictions and inference.\n"
     ]
    },
    {
     "data": {
      "application/vnd.jupyter.widget-view+json": {
       "model_id": "2a97fbe37dac45629dc529ab083691df",
       "version_major": 2,
       "version_minor": 0
      },
      "text/plain": [
       "Epoch 1/10:   0%|          | 0/6187 [00:00<?, ?it/s]"
      ]
     },
     "metadata": {},
     "output_type": "display_data"
    },
    {
     "name": "stdout",
     "output_type": "stream",
     "text": [
      "Epoch 1/10, Train Loss: 2.3881302954635384\n"
     ]
    },
    {
     "data": {
      "application/vnd.jupyter.widget-view+json": {
       "model_id": "9b5e24a791e347eba2c28209258084b4",
       "version_major": 2,
       "version_minor": 0
      },
      "text/plain": [
       "Validation:   0%|          | 0/163 [00:00<?, ?it/s]"
      ]
     },
     "metadata": {},
     "output_type": "display_data"
    },
    {
     "name": "stdout",
     "output_type": "stream",
     "text": [
      "Epoch 1/10, Validation Loss: 2.36278556022176, Validation Accuracy: 0.09062980030721966\n"
     ]
    },
    {
     "data": {
      "application/vnd.jupyter.widget-view+json": {
       "model_id": "7a55ec4a0d594a08875e8a1583a2e8fd",
       "version_major": 2,
       "version_minor": 0
      },
      "text/plain": [
       "Epoch 2/10:   0%|          | 0/6187 [00:00<?, ?it/s]"
      ]
     },
     "metadata": {},
     "output_type": "display_data"
    },
    {
     "name": "stdout",
     "output_type": "stream",
     "text": [
      "Epoch 2/10, Train Loss: 2.3375185629229795\n"
     ]
    },
    {
     "data": {
      "application/vnd.jupyter.widget-view+json": {
       "model_id": "60908b44a8ce4e94a1e981808dfaaae7",
       "version_major": 2,
       "version_minor": 0
      },
      "text/plain": [
       "Validation:   0%|          | 0/163 [00:00<?, ?it/s]"
      ]
     },
     "metadata": {},
     "output_type": "display_data"
    },
    {
     "name": "stdout",
     "output_type": "stream",
     "text": [
      "Epoch 2/10, Validation Loss: 2.2965007793683947, Validation Accuracy: 0.1966205837173579\n"
     ]
    },
    {
     "data": {
      "application/vnd.jupyter.widget-view+json": {
       "model_id": "954d4e77aded41119dba6d38f83039b1",
       "version_major": 2,
       "version_minor": 0
      },
      "text/plain": [
       "Epoch 3/10:   0%|          | 0/6187 [00:00<?, ?it/s]"
      ]
     },
     "metadata": {},
     "output_type": "display_data"
    },
    {
     "name": "stdout",
     "output_type": "stream",
     "text": [
      "Epoch 3/10, Train Loss: 2.2649442351883673\n"
     ]
    },
    {
     "data": {
      "application/vnd.jupyter.widget-view+json": {
       "model_id": "7b1a259567ea47ddaa44db7cc6dd7321",
       "version_major": 2,
       "version_minor": 0
      },
      "text/plain": [
       "Validation:   0%|          | 0/163 [00:00<?, ?it/s]"
      ]
     },
     "metadata": {},
     "output_type": "display_data"
    },
    {
     "name": "stdout",
     "output_type": "stream",
     "text": [
      "Epoch 3/10, Validation Loss: 2.2364871911475994, Validation Accuracy: 0.32872503840245776\n"
     ]
    },
    {
     "data": {
      "application/vnd.jupyter.widget-view+json": {
       "model_id": "286573323ad1421b9e168445a9485aa9",
       "version_major": 2,
       "version_minor": 0
      },
      "text/plain": [
       "Epoch 4/10:   0%|          | 0/6187 [00:00<?, ?it/s]"
      ]
     },
     "metadata": {},
     "output_type": "display_data"
    },
    {
     "name": "stdout",
     "output_type": "stream",
     "text": [
      "Epoch 4/10, Train Loss: 2.20217019208745\n"
     ]
    },
    {
     "data": {
      "application/vnd.jupyter.widget-view+json": {
       "model_id": "e38438cd6cf64f7db381214943eb5356",
       "version_major": 2,
       "version_minor": 0
      },
      "text/plain": [
       "Validation:   0%|          | 0/163 [00:00<?, ?it/s]"
      ]
     },
     "metadata": {},
     "output_type": "display_data"
    },
    {
     "name": "stdout",
     "output_type": "stream",
     "text": [
      "Epoch 4/10, Validation Loss: 2.172122329290659, Validation Accuracy: 0.423963133640553\n"
     ]
    },
    {
     "data": {
      "application/vnd.jupyter.widget-view+json": {
       "model_id": "82308ae1b8bb477f95020d0befd9568c",
       "version_major": 2,
       "version_minor": 0
      },
      "text/plain": [
       "Epoch 5/10:   0%|          | 0/6187 [00:00<?, ?it/s]"
      ]
     },
     "metadata": {},
     "output_type": "display_data"
    },
    {
     "name": "stdout",
     "output_type": "stream",
     "text": [
      "Epoch 5/10, Train Loss: 2.1362104781979947\n"
     ]
    },
    {
     "data": {
      "application/vnd.jupyter.widget-view+json": {
       "model_id": "c8214ca89a1c4033988c6e848f97a458",
       "version_major": 2,
       "version_minor": 0
      },
      "text/plain": [
       "Validation:   0%|          | 0/163 [00:00<?, ?it/s]"
      ]
     },
     "metadata": {},
     "output_type": "display_data"
    },
    {
     "name": "stdout",
     "output_type": "stream",
     "text": [
      "Epoch 5/10, Validation Loss: 2.1012199853826887, Validation Accuracy: 0.5038402457757296\n"
     ]
    },
    {
     "data": {
      "application/vnd.jupyter.widget-view+json": {
       "model_id": "4ce5da9255ea4cd982ef7304500f71a9",
       "version_major": 2,
       "version_minor": 0
      },
      "text/plain": [
       "Epoch 6/10:   0%|          | 0/6187 [00:00<?, ?it/s]"
      ]
     },
     "metadata": {},
     "output_type": "display_data"
    },
    {
     "name": "stdout",
     "output_type": "stream",
     "text": [
      "Epoch 6/10, Train Loss: 2.0638393346146193\n"
     ]
    },
    {
     "data": {
      "application/vnd.jupyter.widget-view+json": {
       "model_id": "4ca164b64ff4492fb5df1959fcbf6c9e",
       "version_major": 2,
       "version_minor": 0
      },
      "text/plain": [
       "Validation:   0%|          | 0/163 [00:00<?, ?it/s]"
      ]
     },
     "metadata": {},
     "output_type": "display_data"
    },
    {
     "name": "stdout",
     "output_type": "stream",
     "text": [
      "Epoch 6/10, Validation Loss: 2.028120644984801, Validation Accuracy: 0.5360983102918587\n"
     ]
    },
    {
     "data": {
      "application/vnd.jupyter.widget-view+json": {
       "model_id": "0bb7a0271cb64cfeae26bcc38cd81e8f",
       "version_major": 2,
       "version_minor": 0
      },
      "text/plain": [
       "Epoch 7/10:   0%|          | 0/6187 [00:00<?, ?it/s]"
      ]
     },
     "metadata": {},
     "output_type": "display_data"
    },
    {
     "name": "stdout",
     "output_type": "stream",
     "text": [
      "Epoch 7/10, Train Loss: 1.9856378563737107\n"
     ]
    },
    {
     "data": {
      "application/vnd.jupyter.widget-view+json": {
       "model_id": "f4c371bc79e44ec0a584ea20eed78664",
       "version_major": 2,
       "version_minor": 0
      },
      "text/plain": [
       "Validation:   0%|          | 0/163 [00:00<?, ?it/s]"
      ]
     },
     "metadata": {},
     "output_type": "display_data"
    },
    {
     "name": "stdout",
     "output_type": "stream",
     "text": [
      "Epoch 7/10, Validation Loss: 1.9392467686003703, Validation Accuracy: 0.5668202764976958\n"
     ]
    },
    {
     "data": {
      "application/vnd.jupyter.widget-view+json": {
       "model_id": "3fabf04ac4e7496aaa67e269a28c6911",
       "version_major": 2,
       "version_minor": 0
      },
      "text/plain": [
       "Epoch 8/10:   0%|          | 0/6187 [00:00<?, ?it/s]"
      ]
     },
     "metadata": {},
     "output_type": "display_data"
    },
    {
     "name": "stdout",
     "output_type": "stream",
     "text": [
      "Epoch 8/10, Train Loss: 1.9052870583029426\n"
     ]
    },
    {
     "data": {
      "application/vnd.jupyter.widget-view+json": {
       "model_id": "ba26b08f219e45f7bacae44d4d8e8fb8",
       "version_major": 2,
       "version_minor": 0
      },
      "text/plain": [
       "Validation:   0%|          | 0/163 [00:00<?, ?it/s]"
      ]
     },
     "metadata": {},
     "output_type": "display_data"
    },
    {
     "name": "stdout",
     "output_type": "stream",
     "text": [
      "Epoch 8/10, Validation Loss: 1.8577269615571192, Validation Accuracy: 0.5944700460829493\n"
     ]
    },
    {
     "data": {
      "application/vnd.jupyter.widget-view+json": {
       "model_id": "86edd4ff4d5d4fe0827b4f75c352fbc3",
       "version_major": 2,
       "version_minor": 0
      },
      "text/plain": [
       "Epoch 9/10:   0%|          | 0/6187 [00:00<?, ?it/s]"
      ]
     },
     "metadata": {},
     "output_type": "display_data"
    },
    {
     "name": "stdout",
     "output_type": "stream",
     "text": [
      "Epoch 9/10, Train Loss: 1.825929908330864\n"
     ]
    },
    {
     "data": {
      "application/vnd.jupyter.widget-view+json": {
       "model_id": "9918832651734e449f49bdd761f425be",
       "version_major": 2,
       "version_minor": 0
      },
      "text/plain": [
       "Validation:   0%|          | 0/163 [00:00<?, ?it/s]"
      ]
     },
     "metadata": {},
     "output_type": "display_data"
    },
    {
     "name": "stdout",
     "output_type": "stream",
     "text": [
      "Epoch 9/10, Validation Loss: 1.7799053791841846, Validation Accuracy: 0.5913978494623656\n"
     ]
    },
    {
     "data": {
      "application/vnd.jupyter.widget-view+json": {
       "model_id": "252b1bae2c5c4c3c9a33ef3b54ce17e0",
       "version_major": 2,
       "version_minor": 0
      },
      "text/plain": [
       "Epoch 10/10:   0%|          | 0/6187 [00:00<?, ?it/s]"
      ]
     },
     "metadata": {},
     "output_type": "display_data"
    },
    {
     "name": "stdout",
     "output_type": "stream",
     "text": [
      "Epoch 10/10, Train Loss: 1.748370085853896\n"
     ]
    },
    {
     "data": {
      "application/vnd.jupyter.widget-view+json": {
       "model_id": "a0c444efafb54fb4a9f21d8790d24cba",
       "version_major": 2,
       "version_minor": 0
      },
      "text/plain": [
       "Validation:   0%|          | 0/163 [00:00<?, ?it/s]"
      ]
     },
     "metadata": {},
     "output_type": "display_data"
    },
    {
     "name": "stdout",
     "output_type": "stream",
     "text": [
      "Epoch 10/10, Validation Loss: 1.7045239648935986, Validation Accuracy: 0.6159754224270353\n"
     ]
    },
    {
     "data": {
      "application/vnd.jupyter.widget-view+json": {
       "model_id": "f56e92c07da744319d2e75de0d204953",
       "version_major": 2,
       "version_minor": 0
      },
      "text/plain": [
       "Testing:   0%|          | 0/163 [00:00<?, ?it/s]"
      ]
     },
     "metadata": {},
     "output_type": "display_data"
    },
    {
     "name": "stdout",
     "output_type": "stream",
     "text": [
      "{'val_acc': [0.09062980030721966, 0.1966205837173579, 0.32872503840245776, 0.423963133640553, 0.5038402457757296, 0.5360983102918587, 0.5668202764976958, 0.5944700460829493, 0.5913978494623656, 0.6159754224270353], 'val_loss': [2.36278556022176, 2.2965007793683947, 2.2364871911475994, 2.172122329290659, 2.1012199853826887, 2.028120644984801, 1.9392467686003703, 1.8577269615571192, 1.7799053791841846, 1.7045239648935986], 'train_loss': [2.3881302954635384, 2.3375185629229795, 2.2649442351883673, 2.20217019208745, 2.1362104781979947, 2.0638393346146193, 1.9856378563737107, 1.9052870583029426, 1.825929908330864, 1.748370085853896], 'test_correct_in_batch': [2.0, 2.0, 3.0, 1.0, 4.0, 2.0, 2.0, 2.0, 2.0, 2.0, 2.0, 1.0, 1.0, 3.0, 2.0, 3.0, 0.0, 1.0, 2.0, 2.0, 1.0, 1.0, 2.0, 3.0, 1.0, 2.0, 3.0, 3.0, 3.0, 3.0, 2.0, 2.0, 4.0, 4.0, 3.0, 3.0, 3.0, 4.0, 3.0, 3.0, 2.0, 2.0, 1.0, 3.0, 1.0, 3.0, 2.0, 2.0, 3.0, 1.0, 1.0, 1.0, 2.0, 2.0, 2.0, 3.0, 3.0, 4.0, 4.0, 4.0, 2.0, 1.0, 1.0, 2.0, 2.0, 3.0, 1.0, 3.0, 2.0, 3.0, 1.0, 3.0, 2.0, 1.0, 2.0, 3.0, 3.0, 3.0, 2.0, 3.0, 4.0, 1.0, 2.0, 2.0, 1.0, 3.0, 1.0, 3.0, 2.0, 0.0, 3.0, 1.0, 1.0, 2.0, 3.0, 2.0, 4.0, 2.0, 4.0, 3.0, 0.0, 2.0, 2.0, 2.0, 3.0, 1.0, 1.0, 2.0, 2.0, 4.0, 4.0, 2.0, 2.0, 2.0, 2.0, 2.0, 1.0, 2.0, 2.0, 2.0, 2.0, 1.0, 2.0, 4.0, 4.0, 4.0, 3.0, 3.0, 2.0, 3.0, 3.0, 2.0, 4.0, 0.0, 1.0, 1.0, 4.0, 4.0, 1.0, 2.0, 4.0, 2.0, 2.0, 2.0, 3.0, 2.0, 3.0, 3.0, 1.0, 2.0, 1.0, 2.0, 1.0, 3.0, 1.0, 2.0, 3.0, 1.0, 2.0, 2.0, 2.0, 3.0, 2.0], 'test_losses': [1.681560754776001, 2.064148187637329, 1.6676249504089355, 2.152287244796753, 1.5641955137252808, 1.7334107160568237, 1.664252519607544, 1.9388935565948486, 1.8112962245941162, 1.4991044998168945, 1.6665441989898682, 1.822293758392334, 2.1290647983551025, 1.613671898841858, 1.683776617050171, 1.390307903289795, 2.2055413722991943, 1.9693381786346436, 2.131107807159424, 2.13317608833313, 1.8794360160827637, 1.9352301359176636, 1.874607801437378, 1.5995659828186035, 1.976305365562439, 1.4172425270080566, 1.7270467281341553, 1.6715106964111328, 1.6475048065185547, 1.8223936557769775, 2.1663711071014404, 1.7768393754959106, 1.4304726123809814, 1.289750099182129, 1.6995477676391602, 1.9526610374450684, 1.4188182353973389, 1.4534262418746948, 1.5322840213775635, 1.5274786949157715, 1.8340888023376465, 1.5419089794158936, 2.124037504196167, 1.4661858081817627, 1.9010262489318848, 1.5565886497497559, 1.9053878784179688, 2.180720329284668, 1.8257637023925781, 1.8630152940750122, 1.7520557641983032, 2.1305456161499023, 1.7431219816207886, 2.066751718521118, 1.7284854650497437, 1.4611605405807495, 1.4525072574615479, 1.5442607402801514, 1.5070879459381104, 1.4236197471618652, 1.730922818183899, 1.881490707397461, 1.7373079061508179, 1.5895990133285522, 1.7103277444839478, 1.6856014728546143, 1.9505207538604736, 1.8536126613616943, 1.783090591430664, 1.7251123189926147, 2.358553171157837, 1.775343656539917, 1.9597407579421997, 1.936689019203186, 1.7199656963348389, 1.5162105560302734, 1.4651844501495361, 1.3245707750320435, 1.797290563583374, 1.8077620267868042, 1.4502257108688354, 2.2070870399475098, 1.7458446025848389, 1.8671363592147827, 2.0508477687835693, 1.782770037651062, 1.8244391679763794, 1.5006554126739502, 1.7506389617919922, 2.481062650680542, 1.5249128341674805, 2.002246856689453, 2.546868085861206, 1.569736361503601, 1.5793904066085815, 1.895499587059021, 1.6997759342193604, 1.965863823890686, 1.62446129322052, 1.5387930870056152, 2.3056540489196777, 1.4279208183288574, 1.9765653610229492, 1.6283197402954102, 1.830460548400879, 1.9456534385681152, 1.8557476997375488, 1.9405137300491333, 1.8811450004577637, 1.4691871404647827, 1.1744205951690674, 1.7469546794891357, 1.8133074045181274, 1.7359693050384521, 1.7931450605392456, 1.7912828922271729, 1.8728615045547485, 1.4743565320968628, 1.7942330837249756, 2.0384230613708496, 1.6203795671463013, 1.6921783685684204, 1.7788352966308594, 1.6954212188720703, 1.7993264198303223, 1.4909247159957886, 1.7851438522338867, 1.5179386138916016, 1.5219717025756836, 1.61326265335083, 1.794510841369629, 1.6874732971191406, 1.5264904499053955, 1.9793076515197754, 2.191462516784668, 2.038752317428589, 1.4604519605636597, 1.4603934288024902, 2.047971248626709, 1.8740473985671997, 1.542237639427185, 1.8876296281814575, 2.161667585372925, 1.606990098953247, 1.6410577297210693, 1.7464301586151123, 1.7691289186477661, 1.7765181064605713, 1.869769811630249, 1.7880589962005615, 2.077859878540039, 1.866863489151001, 1.75680410861969, 1.7143373489379883, 1.8028361797332764, 1.7654536962509155, 1.7336324453353882, 1.9884135723114014, 1.9226717948913574, 2.101837635040283, 1.5555485486984253, 1.6984481811523438, 1.5602854490280151], 'test_loss': 1.770873671660394, 'test_batch_lens': [4, 4, 4, 4, 4, 4, 4, 4, 4, 4, 4, 4, 4, 4, 4, 4, 4, 4, 4, 4, 4, 4, 4, 4, 4, 4, 4, 4, 4, 4, 4, 4, 4, 4, 4, 4, 4, 4, 4, 4, 4, 4, 4, 4, 4, 4, 4, 4, 4, 4, 4, 4, 4, 4, 4, 4, 4, 4, 4, 4, 4, 4, 4, 4, 4, 4, 4, 4, 4, 4, 4, 4, 4, 4, 4, 4, 4, 4, 4, 4, 4, 4, 4, 4, 4, 4, 4, 4, 4, 4, 4, 4, 4, 4, 4, 4, 4, 4, 4, 4, 4, 4, 4, 4, 4, 4, 4, 4, 4, 4, 4, 4, 4, 4, 4, 4, 4, 4, 4, 4, 4, 4, 4, 4, 4, 4, 4, 4, 4, 4, 4, 4, 4, 4, 4, 4, 4, 4, 4, 4, 4, 4, 4, 4, 4, 4, 4, 4, 4, 4, 4, 4, 4, 4, 4, 4, 4, 4, 4, 4, 4, 4, 3], 'test_accuracy': 0.5591397849462365, 'predictions': [7, 4, 9, 2, 7, 1, 10, 5, 0, 0, 4, 7, 5, 5, 6, 0, 9, 6, 4, 9, 6, 10, 3, 4, 6, 6, 4, 6, 6, 10, 2, 0, 9, 2, 6, 3, 10, 4, 9, 0, 10, 4, 1, 10, 7, 7, 5, 0, 0, 6, 0, 4, 3, 4, 6, 3, 3, 9, 9, 10, 10, 6, 0, 6, 4, 0, 10, 4, 6, 3, 3, 9, 7, 3, 1, 6, 6, 5, 9, 9, 0, 1, 1, 3, 5, 9, 3, 0, 3, 3, 9, 10, 10, 7, 3, 5, 3, 6, 0, 7, 4, 3, 10, 6, 10, 7, 3, 9, 10, 4, 7, 10, 0, 9, 7, 6, 0, 10, 0, 0, 4, 0, 3, 6, 5, 9, 10, 9, 6, 7, 4, 0, 10, 10, 7, 9, 4, 3, 9, 0, 10, 3, 2, 9, 4, 7, 5, 7, 2, 10, 2, 4, 10, 10, 9, 0, 10, 4, 4, 7, 7, 9, 2, 4, 10, 9, 10, 5, 0, 0, 10, 3, 10, 7, 6, 10, 3, 6, 9, 2, 6, 1, 5, 3, 5, 3, 4, 10, 3, 4, 0, 6, 0, 9, 9, 4, 3, 0, 4, 9, 9, 3, 6, 3, 4, 0, 9, 0, 9, 9, 9, 6, 9, 4, 4, 5, 0, 10, 5, 4, 7, 9, 0, 6, 7, 0, 4, 7, 1, 0, 1, 6, 3, 7, 7, 2, 10, 4, 3, 10, 9, 5, 0, 3, 9, 7, 6, 4, 10, 0, 10, 5, 9, 2, 0, 10, 6, 9, 4, 9, 3, 10, 7, 0, 4, 3, 0, 1, 3, 7, 3, 10, 3, 4, 0, 2, 7, 10, 9, 7, 0, 0, 5, 10, 0, 4, 2, 5, 4, 3, 6, 0, 4, 6, 2, 9, 0, 7, 9, 2, 4, 10, 0, 6, 6, 0, 10, 7, 10, 3, 7, 6, 4, 2, 4, 2, 0, 9, 4, 0, 2, 6, 7, 9, 1, 2, 7, 0, 10, 9, 4, 5, 3, 6, 4, 7, 9, 0, 0, 2, 5, 0, 4, 10, 4, 3, 9, 7, 3, 6, 5, 6, 5, 9, 5, 9, 1, 0, 0, 4, 4, 2, 6, 10, 7, 9, 10, 4, 4, 9, 4, 9, 4, 0, 5, 10, 5, 0, 0, 7, 3, 3, 6, 2, 2, 4, 4, 9, 3, 7, 5, 10, 9, 4, 0, 0, 4, 6, 9, 9, 2, 4, 10, 0, 3, 10, 10, 4, 4, 4, 3, 3, 4, 10, 9, 2, 2, 3, 0, 1, 3, 4, 4, 3, 10, 0, 3, 10, 7, 4, 7, 3, 7, 0, 1, 2, 2, 3, 7, 10, 10, 4, 10, 6, 6, 4, 0, 10, 7, 2, 3, 9, 5, 4, 9, 9, 9, 0, 5, 7, 9, 10, 3, 10, 0, 6, 0, 4, 10, 4, 10, 3, 9, 2, 6, 2, 4, 0, 2, 0, 5, 5, 0, 7, 6, 4, 10, 3, 2, 2, 6, 5, 3, 7, 2, 4, 3, 0, 1, 3, 9, 6, 3, 4, 6, 3, 3, 4, 0, 0, 7, 10, 4, 10, 0, 4, 5, 7, 5, 3, 4, 5, 7, 4, 4, 4, 5, 5, 9, 7, 7, 2, 3, 10, 5, 0, 2, 2, 3, 6, 5, 1, 5, 4, 2, 0, 9, 7, 6, 9, 6, 9, 2, 10, 10, 4, 0, 9, 7, 3, 2, 7, 9, 6, 10, 0, 9, 0, 6, 2, 1, 5, 10, 10, 7, 7, 9, 6, 10, 6, 6, 7, 7, 5, 7, 0, 4, 9, 3, 0, 7, 4, 3, 2, 5, 5, 0, 7, 6, 2, 4, 4, 0, 4, 4, 6, 4, 6, 9, 4, 0, 0, 3, 4, 7, 1, 4, 5, 6, 0, 10, 7, 9, 5, 3, 9, 3, 4, 9, 10, 0, 0, 9, 5, 4, 3, 2, 3, 4, 6, 6, 10, 9, 7, 4, 3, 2, 0, 2, 6, 7], 'real_labels': [7, 4, 1, 10, 7, 1, 8, 8, 0, 8, 4, 7, 1, 9, 3, 0, 9, 6, 4, 9, 8, 10, 1, 4, 6, 8, 8, 6, 6, 8, 2, 1, 1, 9, 6, 3, 10, 5, 5, 0, 10, 3, 2, 10, 7, 8, 4, 3, 3, 8, 9, 4, 3, 4, 6, 1, 1, 9, 1, 10, 10, 6, 1, 6, 5, 5, 8, 5, 8, 1, 3, 1, 1, 3, 1, 8, 6, 8, 9, 2, 3, 1, 3, 1, 5, 5, 1, 8, 0, 4, 9, 10, 10, 7, 1, 5, 1, 8, 2, 7, 5, 1, 10, 6, 10, 8, 3, 9, 10, 4, 7, 1, 0, 3, 7, 6, 0, 8, 0, 0, 4, 8, 7, 6, 5, 1, 7, 9, 6, 7, 4, 0, 10, 10, 7, 9, 4, 1, 9, 0, 10, 3, 3, 9, 4, 7, 4, 7, 2, 10, 2, 4, 10, 10, 1, 0, 10, 5, 4, 7, 8, 9, 10, 4, 2, 3, 10, 5, 8, 0, 9, 0, 10, 7, 6, 8, 0, 8, 1, 2, 6, 3, 5, 3, 9, 3, 4, 8, 3, 2, 0, 2, 0, 9, 9, 8, 1, 3, 5, 9, 8, 1, 6, 1, 4, 3, 4, 8, 3, 9, 5, 6, 2, 5, 4, 5, 2, 10, 8, 4, 7, 3, 0, 6, 7, 0, 5, 7, 1, 0, 1, 6, 3, 7, 7, 2, 10, 4, 3, 10, 9, 4, 3, 3, 1, 7, 8, 5, 2, 4, 10, 1, 1, 2, 3, 10, 6, 9, 5, 3, 3, 10, 7, 1, 5, 1, 8, 1, 8, 7, 3, 10, 3, 5, 2, 2, 7, 3, 9, 7, 6, 8, 8, 10, 2, 4, 2, 5, 5, 3, 8, 0, 8, 6, 0, 1, 2, 7, 3, 2, 4, 10, 8, 6, 6, 0, 2, 7, 10, 1, 7, 6, 9, 2, 5, 2, 0, 9, 4, 3, 2, 6, 7, 9, 1, 8, 8, 5, 2, 9, 4, 1, 1, 8, 4, 7, 1, 2, 7, 2, 5, 0, 7, 10, 5, 0, 5, 7, 3, 6, 4, 6, 4, 9, 5, 1, 8, 3, 7, 7, 4, 4, 6, 10, 8, 9, 8, 5, 6, 7, 4, 0, 5, 0, 9, 10, 5, 0, 3, 7, 3, 1, 8, 2, 2, 4, 4, 9, 3, 7, 9, 9, 9, 4, 0, 0, 5, 6, 9, 9, 7, 7, 6, 9, 1, 10, 10, 5, 5, 7, 3, 3, 5, 10, 9, 7, 2, 3, 1, 1, 0, 5, 4, 1, 2, 0, 1, 8, 8, 4, 8, 3, 8, 0, 3, 2, 2, 3, 7, 10, 10, 4, 10, 6, 6, 5, 0, 9, 8, 2, 1, 9, 9, 5, 9, 9, 1, 3, 5, 7, 9, 10, 1, 8, 1, 6, 3, 8, 2, 4, 10, 1, 1, 2, 8, 2, 4, 8, 2, 5, 9, 9, 0, 7, 6, 9, 2, 0, 2, 8, 6, 9, 3, 7, 2, 4, 3, 0, 1, 3, 9, 6, 3, 4, 6, 3, 3, 5, 0, 1, 7, 10, 4, 10, 2, 5, 5, 7, 5, 1, 4, 5, 0, 4, 5, 4, 9, 5, 9, 7, 7, 2, 0, 2, 4, 3, 2, 9, 1, 8, 9, 1, 8, 8, 2, 0, 9, 7, 6, 9, 6, 9, 0, 10, 8, 8, 4, 1, 7, 3, 2, 7, 9, 6, 7, 8, 9, 0, 8, 2, 10, 5, 2, 10, 8, 7, 9, 6, 8, 6, 6, 4, 7, 9, 7, 8, 4, 9, 3, 3, 7, 4, 1, 7, 5, 4, 0, 7, 8, 0, 7, 4, 5, 5, 4, 8, 6, 6, 1, 5, 3, 0, 1, 4, 7, 1, 9, 4, 6, 6, 10, 7, 1, 0, 3, 9, 1, 4, 3, 10, 7, 8, 9, 9, 4, 0, 2, 3, 7, 8, 6, 8, 1, 7, 4, 0, 2, 0, 8, 6, 7], 'label_to_index': {'down': 0, 'go': 1, 'left': 2, 'no': 3, 'off': 4, 'on': 5, 'right': 6, 'stop': 7, 'unknown': 8, 'up': 9, 'yes': 10}}\n",
      "Test Loss: 1.770873671660394, Test Accuracy: 0.5591397849462365\n"
     ]
    },
    {
     "name": "stderr",
     "output_type": "stream",
     "text": [
      "Some weights of the model checkpoint at superb/wav2vec2-base-superb-ks were not used when initializing Wav2Vec2ForSequenceClassification: ['wav2vec2.encoder.pos_conv_embed.conv.weight_g', 'wav2vec2.encoder.pos_conv_embed.conv.weight_v']\n",
      "- This IS expected if you are initializing Wav2Vec2ForSequenceClassification from the checkpoint of a model trained on another task or with another architecture (e.g. initializing a BertForSequenceClassification model from a BertForPreTraining model).\n",
      "- This IS NOT expected if you are initializing Wav2Vec2ForSequenceClassification from the checkpoint of a model that you expect to be exactly identical (initializing a BertForSequenceClassification model from a BertForSequenceClassification model).\n",
      "Some weights of Wav2Vec2ForSequenceClassification were not initialized from the model checkpoint at superb/wav2vec2-base-superb-ks and are newly initialized: ['wav2vec2.encoder.pos_conv_embed.conv.parametrizations.weight.original0', 'wav2vec2.encoder.pos_conv_embed.conv.parametrizations.weight.original1']\n",
      "You should probably TRAIN this model on a down-stream task to be able to use it for predictions and inference.\n"
     ]
    },
    {
     "data": {
      "application/vnd.jupyter.widget-view+json": {
       "model_id": "cd7ab6ea0986407da2fff01bc2cbb931",
       "version_major": 2,
       "version_minor": 0
      },
      "text/plain": [
       "Epoch 1/10:   0%|          | 0/6187 [00:00<?, ?it/s]"
      ]
     },
     "metadata": {},
     "output_type": "display_data"
    },
    {
     "name": "stdout",
     "output_type": "stream",
     "text": [
      "Epoch 1/10, Train Loss: 2.3806613721272587\n"
     ]
    },
    {
     "data": {
      "application/vnd.jupyter.widget-view+json": {
       "model_id": "f41276f14de3406b835003e95fb35e55",
       "version_major": 2,
       "version_minor": 0
      },
      "text/plain": [
       "Validation:   0%|          | 0/163 [00:00<?, ?it/s]"
      ]
     },
     "metadata": {},
     "output_type": "display_data"
    },
    {
     "name": "stdout",
     "output_type": "stream",
     "text": [
      "Epoch 1/10, Validation Loss: 2.3626201138174605, Validation Accuracy: 0.1259600614439324\n"
     ]
    },
    {
     "data": {
      "application/vnd.jupyter.widget-view+json": {
       "model_id": "22ef89cb542c4a34af31f28c9240bc36",
       "version_major": 2,
       "version_minor": 0
      },
      "text/plain": [
       "Epoch 2/10:   0%|          | 0/6187 [00:00<?, ?it/s]"
      ]
     },
     "metadata": {},
     "output_type": "display_data"
    },
    {
     "name": "stdout",
     "output_type": "stream",
     "text": [
      "Epoch 2/10, Train Loss: 2.336069132912924\n"
     ]
    },
    {
     "data": {
      "application/vnd.jupyter.widget-view+json": {
       "model_id": "ee92cbcb4c044c6ab54b2af364e839ab",
       "version_major": 2,
       "version_minor": 0
      },
      "text/plain": [
       "Validation:   0%|          | 0/163 [00:00<?, ?it/s]"
      ]
     },
     "metadata": {},
     "output_type": "display_data"
    },
    {
     "name": "stdout",
     "output_type": "stream",
     "text": [
      "Epoch 2/10, Validation Loss: 2.3275206586334605, Validation Accuracy: 0.16897081413210446\n"
     ]
    },
    {
     "data": {
      "application/vnd.jupyter.widget-view+json": {
       "model_id": "efd8e0e721984418952df70ed161692b",
       "version_major": 2,
       "version_minor": 0
      },
      "text/plain": [
       "Epoch 3/10:   0%|          | 0/6187 [00:00<?, ?it/s]"
      ]
     },
     "metadata": {},
     "output_type": "display_data"
    },
    {
     "name": "stdout",
     "output_type": "stream",
     "text": [
      "Epoch 3/10, Train Loss: 2.290473439031798\n"
     ]
    },
    {
     "data": {
      "application/vnd.jupyter.widget-view+json": {
       "model_id": "ed545a1b1af34d00b0ba84dcf811affb",
       "version_major": 2,
       "version_minor": 0
      },
      "text/plain": [
       "Validation:   0%|          | 0/163 [00:00<?, ?it/s]"
      ]
     },
     "metadata": {},
     "output_type": "display_data"
    },
    {
     "name": "stdout",
     "output_type": "stream",
     "text": [
      "Epoch 3/10, Validation Loss: 2.2705231049309478, Validation Accuracy: 0.20890937019969277\n"
     ]
    },
    {
     "data": {
      "application/vnd.jupyter.widget-view+json": {
       "model_id": "dea9cbd859ff44628dba836f3cae55bc",
       "version_major": 2,
       "version_minor": 0
      },
      "text/plain": [
       "Epoch 4/10:   0%|          | 0/6187 [00:00<?, ?it/s]"
      ]
     },
     "metadata": {},
     "output_type": "display_data"
    },
    {
     "name": "stdout",
     "output_type": "stream",
     "text": [
      "Epoch 4/10, Train Loss: 2.2314815979426252\n"
     ]
    },
    {
     "data": {
      "application/vnd.jupyter.widget-view+json": {
       "model_id": "4691e8195e6240d9abbb2335531dbb42",
       "version_major": 2,
       "version_minor": 0
      },
      "text/plain": [
       "Validation:   0%|          | 0/163 [00:00<?, ?it/s]"
      ]
     },
     "metadata": {},
     "output_type": "display_data"
    },
    {
     "name": "stdout",
     "output_type": "stream",
     "text": [
      "Epoch 4/10, Validation Loss: 2.2009232358698463, Validation Accuracy: 0.26881720430107525\n"
     ]
    },
    {
     "data": {
      "application/vnd.jupyter.widget-view+json": {
       "model_id": "bff9cc99364d4679bc570621b5f9bfce",
       "version_major": 2,
       "version_minor": 0
      },
      "text/plain": [
       "Epoch 5/10:   0%|          | 0/6187 [00:00<?, ?it/s]"
      ]
     },
     "metadata": {},
     "output_type": "display_data"
    },
    {
     "name": "stdout",
     "output_type": "stream",
     "text": [
      "Epoch 5/10, Train Loss: 2.163496100326453\n"
     ]
    },
    {
     "data": {
      "application/vnd.jupyter.widget-view+json": {
       "model_id": "a784e94f1f7a4dfea72708e0ba1ef2f1",
       "version_major": 2,
       "version_minor": 0
      },
      "text/plain": [
       "Validation:   0%|          | 0/163 [00:00<?, ?it/s]"
      ]
     },
     "metadata": {},
     "output_type": "display_data"
    },
    {
     "name": "stdout",
     "output_type": "stream",
     "text": [
      "Epoch 5/10, Validation Loss: 2.1337374075790123, Validation Accuracy: 0.2887864823348694\n"
     ]
    },
    {
     "data": {
      "application/vnd.jupyter.widget-view+json": {
       "model_id": "4d55703c08994f21899b1a4ea1286c32",
       "version_major": 2,
       "version_minor": 0
      },
      "text/plain": [
       "Epoch 6/10:   0%|          | 0/6187 [00:00<?, ?it/s]"
      ]
     },
     "metadata": {},
     "output_type": "display_data"
    },
    {
     "name": "stdout",
     "output_type": "stream",
     "text": [
      "Epoch 6/10, Train Loss: 2.093010888975195\n"
     ]
    },
    {
     "data": {
      "application/vnd.jupyter.widget-view+json": {
       "model_id": "4d5a01d896814f9cbd5876ad33d1a480",
       "version_major": 2,
       "version_minor": 0
      },
      "text/plain": [
       "Validation:   0%|          | 0/163 [00:00<?, ?it/s]"
      ]
     },
     "metadata": {},
     "output_type": "display_data"
    },
    {
     "name": "stdout",
     "output_type": "stream",
     "text": [
      "Epoch 6/10, Validation Loss: 2.0669233082262286, Validation Accuracy: 0.3456221198156682\n"
     ]
    },
    {
     "data": {
      "application/vnd.jupyter.widget-view+json": {
       "model_id": "d04149038f8e47478f5233527bccb585",
       "version_major": 2,
       "version_minor": 0
      },
      "text/plain": [
       "Epoch 7/10:   0%|          | 0/6187 [00:00<?, ?it/s]"
      ]
     },
     "metadata": {},
     "output_type": "display_data"
    },
    {
     "name": "stdout",
     "output_type": "stream",
     "text": [
      "Epoch 7/10, Train Loss: 2.01797636167595\n"
     ]
    },
    {
     "data": {
      "application/vnd.jupyter.widget-view+json": {
       "model_id": "d0647811128440e5a40df72c8b0d9c95",
       "version_major": 2,
       "version_minor": 0
      },
      "text/plain": [
       "Validation:   0%|          | 0/163 [00:00<?, ?it/s]"
      ]
     },
     "metadata": {},
     "output_type": "display_data"
    },
    {
     "name": "stdout",
     "output_type": "stream",
     "text": [
      "Epoch 7/10, Validation Loss: 1.9857184843051654, Validation Accuracy: 0.39938556067588327\n"
     ]
    },
    {
     "data": {
      "application/vnd.jupyter.widget-view+json": {
       "model_id": "cdcce84db9c3438689933e828e476b0a",
       "version_major": 2,
       "version_minor": 0
      },
      "text/plain": [
       "Epoch 8/10:   0%|          | 0/6187 [00:00<?, ?it/s]"
      ]
     },
     "metadata": {},
     "output_type": "display_data"
    },
    {
     "name": "stdout",
     "output_type": "stream",
     "text": [
      "Epoch 8/10, Train Loss: 1.9420515210404619\n"
     ]
    },
    {
     "data": {
      "application/vnd.jupyter.widget-view+json": {
       "model_id": "ad82ec65392b499b952ed6fbbd4df146",
       "version_major": 2,
       "version_minor": 0
      },
      "text/plain": [
       "Validation:   0%|          | 0/163 [00:00<?, ?it/s]"
      ]
     },
     "metadata": {},
     "output_type": "display_data"
    },
    {
     "name": "stdout",
     "output_type": "stream",
     "text": [
      "Epoch 8/10, Validation Loss: 1.9126599749173123, Validation Accuracy: 0.4577572964669739\n"
     ]
    },
    {
     "data": {
      "application/vnd.jupyter.widget-view+json": {
       "model_id": "da40539efd644140a8cc3d8a004e1aa1",
       "version_major": 2,
       "version_minor": 0
      },
      "text/plain": [
       "Epoch 9/10:   0%|          | 0/6187 [00:00<?, ?it/s]"
      ]
     },
     "metadata": {},
     "output_type": "display_data"
    },
    {
     "name": "stdout",
     "output_type": "stream",
     "text": [
      "Epoch 9/10, Train Loss: 1.8673055529382476\n"
     ]
    },
    {
     "data": {
      "application/vnd.jupyter.widget-view+json": {
       "model_id": "84f840915d9943dabf1a2b4a8b868494",
       "version_major": 2,
       "version_minor": 0
      },
      "text/plain": [
       "Validation:   0%|          | 0/163 [00:00<?, ?it/s]"
      ]
     },
     "metadata": {},
     "output_type": "display_data"
    },
    {
     "name": "stdout",
     "output_type": "stream",
     "text": [
      "Epoch 9/10, Validation Loss: 1.8310936433405964, Validation Accuracy: 0.5069124423963134\n"
     ]
    },
    {
     "data": {
      "application/vnd.jupyter.widget-view+json": {
       "model_id": "c20342697ae84a8a9b06b2286cf1431b",
       "version_major": 2,
       "version_minor": 0
      },
      "text/plain": [
       "Epoch 10/10:   0%|          | 0/6187 [00:00<?, ?it/s]"
      ]
     },
     "metadata": {},
     "output_type": "display_data"
    },
    {
     "name": "stdout",
     "output_type": "stream",
     "text": [
      "Epoch 10/10, Train Loss: 1.7952179273303537\n"
     ]
    },
    {
     "data": {
      "application/vnd.jupyter.widget-view+json": {
       "model_id": "0c093d00ae654beeaab3c0f2ed6d544b",
       "version_major": 2,
       "version_minor": 0
      },
      "text/plain": [
       "Validation:   0%|          | 0/163 [00:00<?, ?it/s]"
      ]
     },
     "metadata": {},
     "output_type": "display_data"
    },
    {
     "name": "stdout",
     "output_type": "stream",
     "text": [
      "Epoch 10/10, Validation Loss: 1.7508595157986038, Validation Accuracy: 0.5468509984639017\n"
     ]
    },
    {
     "data": {
      "application/vnd.jupyter.widget-view+json": {
       "model_id": "08c3c590cfbf48319157881ff8e48b7b",
       "version_major": 2,
       "version_minor": 0
      },
      "text/plain": [
       "Testing:   0%|          | 0/163 [00:00<?, ?it/s]"
      ]
     },
     "metadata": {},
     "output_type": "display_data"
    },
    {
     "name": "stdout",
     "output_type": "stream",
     "text": [
      "{'val_acc': [0.1259600614439324, 0.16897081413210446, 0.20890937019969277, 0.26881720430107525, 0.2887864823348694, 0.3456221198156682, 0.39938556067588327, 0.4577572964669739, 0.5069124423963134, 0.5468509984639017], 'val_loss': [2.3626201138174605, 2.3275206586334605, 2.2705231049309478, 2.2009232358698463, 2.1337374075790123, 2.0669233082262286, 1.9857184843051654, 1.9126599749173123, 1.8310936433405964, 1.7508595157986038], 'train_loss': [2.3806613721272587, 2.336069132912924, 2.290473439031798, 2.2314815979426252, 2.163496100326453, 2.093010888975195, 2.01797636167595, 1.9420515210404619, 1.8673055529382476, 1.7952179273303537], 'test_correct_in_batch': [2.0, 0.0, 1.0, 4.0, 3.0, 4.0, 0.0, 1.0, 0.0, 3.0, 2.0, 4.0, 2.0, 3.0, 4.0, 1.0, 2.0, 2.0, 1.0, 2.0, 1.0, 2.0, 2.0, 2.0, 2.0, 3.0, 2.0, 3.0, 2.0, 2.0, 1.0, 4.0, 2.0, 4.0, 2.0, 3.0, 3.0, 4.0, 2.0, 3.0, 2.0, 2.0, 1.0, 3.0, 3.0, 1.0, 3.0, 0.0, 3.0, 4.0, 2.0, 1.0, 1.0, 1.0, 3.0, 2.0, 2.0, 2.0, 2.0, 2.0, 2.0, 3.0, 4.0, 4.0, 1.0, 1.0, 1.0, 0.0, 2.0, 3.0, 0.0, 3.0, 3.0, 2.0, 2.0, 2.0, 1.0, 2.0, 4.0, 2.0, 3.0, 1.0, 3.0, 1.0, 2.0, 2.0, 1.0, 1.0, 3.0, 1.0, 2.0, 2.0, 1.0, 3.0, 2.0, 4.0, 3.0, 1.0, 3.0, 3.0, 1.0, 3.0, 2.0, 2.0, 2.0, 3.0, 3.0, 3.0, 3.0, 1.0, 3.0, 2.0, 3.0, 3.0, 3.0, 2.0, 1.0, 4.0, 3.0, 2.0, 3.0, 0.0, 2.0, 4.0, 2.0, 2.0, 0.0, 3.0, 3.0, 2.0, 3.0, 2.0, 3.0, 3.0, 4.0, 2.0, 4.0, 2.0, 1.0, 3.0, 2.0, 3.0, 2.0, 2.0, 1.0, 2.0, 2.0, 2.0, 2.0, 3.0, 1.0, 1.0, 3.0, 3.0, 2.0, 1.0, 4.0, 2.0, 2.0, 2.0, 2.0, 2.0, 1.0], 'test_losses': [1.6079120635986328, 1.9922109842300415, 1.597866177558899, 1.4020880460739136, 1.3816592693328857, 1.5821257829666138, 2.3889551162719727, 2.205047369003296, 2.001646041870117, 1.6115139722824097, 1.860425591468811, 1.7949836254119873, 2.0142884254455566, 1.630845546722412, 1.537485957145691, 2.2217612266540527, 1.9903372526168823, 1.8657684326171875, 2.0611181259155273, 1.7487210035324097, 1.889589786529541, 1.8919384479522705, 1.9965797662734985, 1.7300195693969727, 1.8480006456375122, 1.6402006149291992, 1.6789658069610596, 1.9363558292388916, 1.7175354957580566, 1.8680588006973267, 2.182356357574463, 1.524601936340332, 1.617466926574707, 1.3805772066116333, 1.5743436813354492, 1.5501067638397217, 1.4785690307617188, 1.6418566703796387, 1.9911823272705078, 1.602198839187622, 1.7758363485336304, 1.9160833358764648, 1.9133963584899902, 1.8219521045684814, 1.5882543325424194, 1.8701006174087524, 1.730023980140686, 2.2286295890808105, 1.5785486698150635, 1.4617434740066528, 2.0103588104248047, 1.9500083923339844, 1.965043306350708, 1.829142451286316, 1.8259928226470947, 1.8119471073150635, 1.534202218055725, 1.6831412315368652, 1.6754608154296875, 1.72449791431427, 1.4063084125518799, 1.6314266920089722, 1.5577034950256348, 1.6555030345916748, 1.7719054222106934, 1.8820724487304688, 1.7532527446746826, 2.062856674194336, 2.008511781692505, 1.6912885904312134, 2.339365243911743, 1.7205190658569336, 1.7926738262176514, 2.057687520980835, 1.9261022806167603, 1.8214986324310303, 1.941446304321289, 1.7288968563079834, 1.628318428993225, 1.4641973972320557, 1.6704497337341309, 2.083347797393799, 1.515541434288025, 1.6931884288787842, 1.804327368736267, 1.6814714670181274, 1.6397318840026855, 1.925405502319336, 1.3274269104003906, 2.3913824558258057, 1.718806505203247, 1.720340609550476, 1.883580207824707, 1.6732879877090454, 1.648433804512024, 1.6749933958053589, 1.4971778392791748, 2.3999178409576416, 1.3878122568130493, 1.414236068725586, 2.1344375610351562, 1.6650512218475342, 1.850238561630249, 1.5921070575714111, 1.7515017986297607, 1.7095675468444824, 1.7789306640625, 1.7427573204040527, 1.9192030429840088, 1.9180654287338257, 1.7025240659713745, 1.9685471057891846, 1.451719045639038, 1.2751569747924805, 1.6298757791519165, 1.7437751293182373, 2.061218500137329, 1.5118110179901123, 1.7615342140197754, 1.901620864868164, 1.3319270610809326, 1.9714860916137695, 1.890188217163086, 1.5812374353408813, 1.8446296453475952, 1.7287461757659912, 2.0442137718200684, 1.6150779724121094, 1.7375035285949707, 1.646244764328003, 1.5341178178787231, 1.5734080076217651, 1.5376365184783936, 1.8429418802261353, 1.7580620050430298, 1.9176480770111084, 1.471572995185852, 1.9186474084854126, 2.2361063957214355, 1.9479320049285889, 1.7397223711013794, 1.5923655033111572, 2.173748016357422, 1.8762598037719727, 1.9142159223556519, 1.7874925136566162, 1.767391562461853, 1.5125516653060913, 1.8933868408203125, 1.5711171627044678, 1.7187947034835815, 1.923903226852417, 1.6870088577270508, 1.5467281341552734, 1.813990831375122, 1.721306562423706, 1.3554896116256714, 1.8033900260925293, 1.4255237579345703, 1.7942330837249756, 1.6484380960464478, 2.1379668712615967, 1.882726788520813], 'test_loss': 1.7681640818075168, 'test_batch_lens': [4, 4, 4, 4, 4, 4, 4, 4, 4, 4, 4, 4, 4, 4, 4, 4, 4, 4, 4, 4, 4, 4, 4, 4, 4, 4, 4, 4, 4, 4, 4, 4, 4, 4, 4, 4, 4, 4, 4, 4, 4, 4, 4, 4, 4, 4, 4, 4, 4, 4, 4, 4, 4, 4, 4, 4, 4, 4, 4, 4, 4, 4, 4, 4, 4, 4, 4, 4, 4, 4, 4, 4, 4, 4, 4, 4, 4, 4, 4, 4, 4, 4, 4, 4, 4, 4, 4, 4, 4, 4, 4, 4, 4, 4, 4, 4, 4, 4, 4, 4, 4, 4, 4, 4, 4, 4, 4, 4, 4, 4, 4, 4, 4, 4, 4, 4, 4, 4, 4, 4, 4, 4, 4, 4, 4, 4, 4, 4, 4, 4, 4, 4, 4, 4, 4, 4, 4, 4, 4, 4, 4, 4, 4, 4, 4, 4, 4, 4, 4, 4, 4, 4, 4, 4, 4, 4, 4, 4, 4, 4, 4, 4, 3], 'test_accuracy': 0.5499231950844854, 'predictions': [4, 4, 1, 2, 9, 0, 10, 1, 1, 3, 4, 4, 1, 9, 3, 0, 9, 2, 4, 9, 8, 10, 1, 4, 8, 7, 4, 0, 2, 10, 2, 2, 0, 3, 0, 0, 10, 1, 5, 0, 10, 1, 9, 10, 7, 8, 4, 3, 0, 8, 8, 4, 3, 4, 8, 1, 1, 9, 1, 10, 2, 2, 7, 6, 5, 2, 10, 5, 8, 0, 2, 1, 9, 1, 1, 3, 2, 0, 9, 2, 1, 1, 1, 3, 5, 3, 1, 0, 0, 0, 9, 2, 10, 7, 0, 1, 1, 0, 6, 7, 5, 1, 10, 2, 2, 3, 3, 9, 10, 4, 7, 7, 0, 0, 7, 3, 0, 10, 0, 1, 4, 2, 1, 8, 5, 1, 7, 9, 0, 7, 4, 3, 10, 10, 7, 9, 4, 4, 9, 1, 2, 3, 3, 9, 4, 7, 9, 7, 2, 10, 2, 4, 2, 8, 1, 0, 2, 5, 4, 7, 4, 9, 2, 4, 2, 2, 10, 1, 1, 0, 7, 1, 10, 7, 8, 8, 0, 3, 1, 2, 8, 1, 1, 3, 9, 3, 4, 10, 1, 7, 1, 9, 0, 9, 9, 1, 1, 3, 5, 9, 4, 1, 2, 1, 4, 1, 9, 2, 9, 9, 1, 1, 6, 4, 4, 3, 2, 10, 1, 4, 7, 1, 0, 1, 4, 0, 1, 7, 1, 1, 1, 0, 1, 7, 9, 2, 10, 9, 1, 10, 9, 9, 3, 0, 1, 7, 2, 5, 2, 4, 10, 1, 1, 2, 3, 10, 5, 9, 4, 1, 0, 2, 7, 6, 1, 0, 0, 1, 1, 9, 0, 2, 0, 5, 0, 2, 7, 10, 9, 7, 1, 1, 1, 2, 2, 4, 2, 1, 5, 3, 1, 0, 1, 2, 0, 1, 5, 7, 0, 2, 4, 10, 3, 2, 2, 3, 2, 4, 10, 1, 9, 8, 9, 2, 5, 2, 1, 9, 4, 0, 9, 6, 7, 9, 1, 7, 1, 1, 2, 7, 4, 1, 0, 3, 7, 7, 1, 8, 9, 2, 5, 3, 4, 10, 1, 1, 1, 7, 3, 2, 9, 2, 4, 9, 1, 1, 1, 3, 0, 4, 4, 7, 2, 10, 7, 9, 10, 5, 5, 9, 4, 5, 5, 0, 4, 10, 1, 0, 0, 7, 3, 1, 8, 2, 10, 4, 4, 9, 1, 9, 1, 9, 9, 4, 3, 0, 5, 8, 9, 9, 7, 4, 10, 0, 1, 10, 10, 1, 5, 4, 2, 3, 4, 10, 9, 9, 6, 1, 1, 1, 1, 5, 4, 1, 2, 0, 1, 10, 8, 4, 8, 0, 8, 0, 1, 2, 2, 1, 9, 7, 10, 4, 10, 8, 2, 5, 0, 2, 3, 2, 1, 9, 9, 1, 9, 9, 1, 3, 1, 7, 9, 10, 3, 10, 3, 8, 3, 5, 2, 4, 10, 1, 1, 2, 10, 2, 4, 0, 2, 0, 9, 9, 1, 7, 2, 4, 7, 1, 5, 8, 8, 9, 3, 7, 2, 4, 2, 0, 1, 1, 4, 2, 3, 4, 0, 0, 1, 0, 3, 1, 7, 10, 4, 10, 2, 4, 4, 7, 1, 1, 4, 1, 0, 4, 5, 4, 4, 1, 9, 7, 4, 2, 0, 2, 1, 3, 2, 9, 1, 8, 9, 1, 0, 5, 2, 0, 9, 7, 1, 9, 2, 9, 2, 10, 10, 1, 10, 1, 7, 3, 2, 2, 9, 2, 7, 3, 9, 0, 8, 2, 4, 1, 10, 10, 7, 7, 9, 1, 10, 2, 2, 7, 7, 9, 7, 9, 7, 9, 0, 0, 7, 4, 1, 9, 3, 4, 0, 7, 3, 0, 4, 4, 3, 4, 4, 2, 1, 3, 1, 5, 8, 0, 1, 7, 7, 1, 9, 4, 2, 9, 2, 7, 5, 1, 3, 9, 1, 4, 3, 10, 4, 0, 9, 4, 4, 1, 2, 3, 4, 0, 0, 3, 1, 7, 4, 5, 2, 2, 2, 2, 7], 'real_labels': [7, 4, 1, 10, 7, 1, 8, 8, 0, 8, 4, 7, 1, 9, 3, 0, 9, 6, 4, 9, 8, 10, 1, 4, 6, 8, 8, 6, 6, 8, 2, 1, 1, 9, 6, 3, 10, 5, 5, 0, 10, 3, 2, 10, 7, 8, 4, 3, 3, 8, 9, 4, 3, 4, 6, 1, 1, 9, 1, 10, 10, 6, 1, 6, 5, 5, 8, 5, 8, 1, 3, 1, 1, 3, 1, 8, 6, 8, 9, 2, 3, 1, 3, 1, 5, 5, 1, 8, 0, 4, 9, 10, 10, 7, 1, 5, 1, 8, 2, 7, 5, 1, 10, 6, 10, 8, 3, 9, 10, 4, 7, 1, 0, 3, 7, 6, 0, 8, 0, 0, 4, 8, 7, 6, 5, 1, 7, 9, 6, 7, 4, 0, 10, 10, 7, 9, 4, 1, 9, 0, 10, 3, 3, 9, 4, 7, 4, 7, 2, 10, 2, 4, 10, 10, 1, 0, 10, 5, 4, 7, 8, 9, 10, 4, 2, 3, 10, 5, 8, 0, 9, 0, 10, 7, 6, 8, 0, 8, 1, 2, 6, 3, 5, 3, 9, 3, 4, 8, 3, 2, 0, 2, 0, 9, 9, 8, 1, 3, 5, 9, 8, 1, 6, 1, 4, 3, 4, 8, 3, 9, 5, 6, 2, 5, 4, 5, 2, 10, 8, 4, 7, 3, 0, 6, 7, 0, 5, 7, 1, 0, 1, 6, 3, 7, 7, 2, 10, 4, 3, 10, 9, 4, 3, 3, 1, 7, 8, 5, 2, 4, 10, 1, 1, 2, 3, 10, 6, 9, 5, 3, 3, 10, 7, 1, 5, 1, 8, 1, 8, 7, 3, 10, 3, 5, 2, 2, 7, 3, 9, 7, 6, 8, 8, 10, 2, 4, 2, 5, 5, 3, 8, 0, 8, 6, 0, 1, 2, 7, 3, 2, 4, 10, 8, 6, 6, 0, 2, 7, 10, 1, 7, 6, 9, 2, 5, 2, 0, 9, 4, 3, 2, 6, 7, 9, 1, 8, 8, 5, 2, 9, 4, 1, 1, 8, 4, 7, 1, 2, 7, 2, 5, 0, 7, 10, 5, 0, 5, 7, 3, 6, 4, 6, 4, 9, 5, 1, 8, 3, 7, 7, 4, 4, 6, 10, 8, 9, 8, 5, 6, 7, 4, 0, 5, 0, 9, 10, 5, 0, 3, 7, 3, 1, 8, 2, 2, 4, 4, 9, 3, 7, 9, 9, 9, 4, 0, 0, 5, 6, 9, 9, 7, 7, 6, 9, 1, 10, 10, 5, 5, 7, 3, 3, 5, 10, 9, 7, 2, 3, 1, 1, 0, 5, 4, 1, 2, 0, 1, 8, 8, 4, 8, 3, 8, 0, 3, 2, 2, 3, 7, 10, 10, 4, 10, 6, 6, 5, 0, 9, 8, 2, 1, 9, 9, 5, 9, 9, 1, 3, 5, 7, 9, 10, 1, 8, 1, 6, 3, 8, 2, 4, 10, 1, 1, 2, 8, 2, 4, 8, 2, 5, 9, 9, 0, 7, 6, 9, 2, 0, 2, 8, 6, 9, 3, 7, 2, 4, 3, 0, 1, 3, 9, 6, 3, 4, 6, 3, 3, 5, 0, 1, 7, 10, 4, 10, 2, 5, 5, 7, 5, 1, 4, 5, 0, 4, 5, 4, 9, 5, 9, 7, 7, 2, 0, 2, 4, 3, 2, 9, 1, 8, 9, 1, 8, 8, 2, 0, 9, 7, 6, 9, 6, 9, 0, 10, 8, 8, 4, 1, 7, 3, 2, 7, 9, 6, 7, 8, 9, 0, 8, 2, 10, 5, 2, 10, 8, 7, 9, 6, 8, 6, 6, 4, 7, 9, 7, 8, 4, 9, 3, 3, 7, 4, 1, 7, 5, 4, 0, 7, 8, 0, 7, 4, 5, 5, 4, 8, 6, 6, 1, 5, 3, 0, 1, 4, 7, 1, 9, 4, 6, 6, 10, 7, 1, 0, 3, 9, 1, 4, 3, 10, 7, 8, 9, 9, 4, 0, 2, 3, 7, 8, 6, 8, 1, 7, 4, 0, 2, 0, 8, 6, 7], 'label_to_index': {'down': 0, 'go': 1, 'left': 2, 'no': 3, 'off': 4, 'on': 5, 'right': 6, 'stop': 7, 'unknown': 8, 'up': 9, 'yes': 10}}\n",
      "Test Loss: 1.7681640818075168, Test Accuracy: 0.5499231950844854\n"
     ]
    },
    {
     "name": "stderr",
     "output_type": "stream",
     "text": [
      "Some weights of the model checkpoint at superb/wav2vec2-base-superb-ks were not used when initializing Wav2Vec2ForSequenceClassification: ['wav2vec2.encoder.pos_conv_embed.conv.weight_g', 'wav2vec2.encoder.pos_conv_embed.conv.weight_v']\n",
      "- This IS expected if you are initializing Wav2Vec2ForSequenceClassification from the checkpoint of a model trained on another task or with another architecture (e.g. initializing a BertForSequenceClassification model from a BertForPreTraining model).\n",
      "- This IS NOT expected if you are initializing Wav2Vec2ForSequenceClassification from the checkpoint of a model that you expect to be exactly identical (initializing a BertForSequenceClassification model from a BertForSequenceClassification model).\n",
      "Some weights of Wav2Vec2ForSequenceClassification were not initialized from the model checkpoint at superb/wav2vec2-base-superb-ks and are newly initialized: ['wav2vec2.encoder.pos_conv_embed.conv.parametrizations.weight.original0', 'wav2vec2.encoder.pos_conv_embed.conv.parametrizations.weight.original1']\n",
      "You should probably TRAIN this model on a down-stream task to be able to use it for predictions and inference.\n"
     ]
    },
    {
     "data": {
      "application/vnd.jupyter.widget-view+json": {
       "model_id": "e2022c89fb9f46b38877a095c5c73cce",
       "version_major": 2,
       "version_minor": 0
      },
      "text/plain": [
       "Epoch 1/10:   0%|          | 0/6187 [00:00<?, ?it/s]"
      ]
     },
     "metadata": {},
     "output_type": "display_data"
    },
    {
     "name": "stdout",
     "output_type": "stream",
     "text": [
      "Epoch 1/10, Train Loss: 2.3653123011125854\n"
     ]
    },
    {
     "data": {
      "application/vnd.jupyter.widget-view+json": {
       "model_id": "e07177ef48a94e74bf584acdb2ce2cb8",
       "version_major": 2,
       "version_minor": 0
      },
      "text/plain": [
       "Validation:   0%|          | 0/163 [00:00<?, ?it/s]"
      ]
     },
     "metadata": {},
     "output_type": "display_data"
    },
    {
     "name": "stdout",
     "output_type": "stream",
     "text": [
      "Epoch 1/10, Validation Loss: 2.3468470280887157, Validation Accuracy: 0.11367127496159754\n"
     ]
    },
    {
     "data": {
      "application/vnd.jupyter.widget-view+json": {
       "model_id": "1aa8c035e788474fb9eacd0a1430d30f",
       "version_major": 2,
       "version_minor": 0
      },
      "text/plain": [
       "Epoch 2/10:   0%|          | 0/6187 [00:00<?, ?it/s]"
      ]
     },
     "metadata": {},
     "output_type": "display_data"
    },
    {
     "name": "stdout",
     "output_type": "stream",
     "text": [
      "Epoch 2/10, Train Loss: 2.285547466275764\n"
     ]
    },
    {
     "data": {
      "application/vnd.jupyter.widget-view+json": {
       "model_id": "f2ff5150174a4ec698589c43fa972ecb",
       "version_major": 2,
       "version_minor": 0
      },
      "text/plain": [
       "Validation:   0%|          | 0/163 [00:00<?, ?it/s]"
      ]
     },
     "metadata": {},
     "output_type": "display_data"
    },
    {
     "name": "stdout",
     "output_type": "stream",
     "text": [
      "Epoch 2/10, Validation Loss: 2.257787681064723, Validation Accuracy: 0.23195084485407066\n"
     ]
    },
    {
     "data": {
      "application/vnd.jupyter.widget-view+json": {
       "model_id": "32f8cd73325e4dc78ae28cc44fcb3355",
       "version_major": 2,
       "version_minor": 0
      },
      "text/plain": [
       "Epoch 3/10:   0%|          | 0/6187 [00:00<?, ?it/s]"
      ]
     },
     "metadata": {},
     "output_type": "display_data"
    },
    {
     "name": "stdout",
     "output_type": "stream",
     "text": [
      "Epoch 3/10, Train Loss: 2.1745383404213374\n"
     ]
    },
    {
     "data": {
      "application/vnd.jupyter.widget-view+json": {
       "model_id": "ce1d2e3ba40044c9a6666050ac2d4508",
       "version_major": 2,
       "version_minor": 0
      },
      "text/plain": [
       "Validation:   0%|          | 0/163 [00:00<?, ?it/s]"
      ]
     },
     "metadata": {},
     "output_type": "display_data"
    },
    {
     "name": "stdout",
     "output_type": "stream",
     "text": [
      "Epoch 3/10, Validation Loss: 2.1391843316013825, Validation Accuracy: 0.38556067588325654\n"
     ]
    },
    {
     "data": {
      "application/vnd.jupyter.widget-view+json": {
       "model_id": "33d6bd77f4a14a7ea022ba20085c0a8e",
       "version_major": 2,
       "version_minor": 0
      },
      "text/plain": [
       "Epoch 4/10:   0%|          | 0/6187 [00:00<?, ?it/s]"
      ]
     },
     "metadata": {},
     "output_type": "display_data"
    },
    {
     "name": "stdout",
     "output_type": "stream",
     "text": [
      "Epoch 4/10, Train Loss: 2.063090108565026\n"
     ]
    },
    {
     "data": {
      "application/vnd.jupyter.widget-view+json": {
       "model_id": "9547b7e920d34b7ba40616a29aec1f30",
       "version_major": 2,
       "version_minor": 0
      },
      "text/plain": [
       "Validation:   0%|          | 0/163 [00:00<?, ?it/s]"
      ]
     },
     "metadata": {},
     "output_type": "display_data"
    },
    {
     "name": "stdout",
     "output_type": "stream",
     "text": [
      "Epoch 4/10, Validation Loss: 2.0330084686630343, Validation Accuracy: 0.4823348694316436\n"
     ]
    },
    {
     "data": {
      "application/vnd.jupyter.widget-view+json": {
       "model_id": "1dc0536d0ab84271b4c963896badfc44",
       "version_major": 2,
       "version_minor": 0
      },
      "text/plain": [
       "Epoch 5/10:   0%|          | 0/6187 [00:00<?, ?it/s]"
      ]
     },
     "metadata": {},
     "output_type": "display_data"
    },
    {
     "name": "stdout",
     "output_type": "stream",
     "text": [
      "Epoch 5/10, Train Loss: 1.9615831494196485\n"
     ]
    },
    {
     "data": {
      "application/vnd.jupyter.widget-view+json": {
       "model_id": "dc66ab4577554a8bbac171b9e0f0e838",
       "version_major": 2,
       "version_minor": 0
      },
      "text/plain": [
       "Validation:   0%|          | 0/163 [00:00<?, ?it/s]"
      ]
     },
     "metadata": {},
     "output_type": "display_data"
    },
    {
     "name": "stdout",
     "output_type": "stream",
     "text": [
      "Epoch 5/10, Validation Loss: 1.9368154278562113, Validation Accuracy: 0.5299539170506913\n"
     ]
    },
    {
     "data": {
      "application/vnd.jupyter.widget-view+json": {
       "model_id": "492f12ddd7af43b2b27b1ced211e2182",
       "version_major": 2,
       "version_minor": 0
      },
      "text/plain": [
       "Epoch 6/10:   0%|          | 0/6187 [00:00<?, ?it/s]"
      ]
     },
     "metadata": {},
     "output_type": "display_data"
    },
    {
     "name": "stdout",
     "output_type": "stream",
     "text": [
      "Epoch 6/10, Train Loss: 1.867225388265184\n"
     ]
    },
    {
     "data": {
      "application/vnd.jupyter.widget-view+json": {
       "model_id": "3fec0127fa8a49408d1fe2848ef8a6ef",
       "version_major": 2,
       "version_minor": 0
      },
      "text/plain": [
       "Validation:   0%|          | 0/163 [00:00<?, ?it/s]"
      ]
     },
     "metadata": {},
     "output_type": "display_data"
    },
    {
     "name": "stdout",
     "output_type": "stream",
     "text": [
      "Epoch 6/10, Validation Loss: 1.8375814560732227, Validation Accuracy: 0.5821812596006144\n"
     ]
    },
    {
     "data": {
      "application/vnd.jupyter.widget-view+json": {
       "model_id": "7faffe0c20e846339cacda262b3278cf",
       "version_major": 2,
       "version_minor": 0
      },
      "text/plain": [
       "Epoch 7/10:   0%|          | 0/6187 [00:00<?, ?it/s]"
      ]
     },
     "metadata": {},
     "output_type": "display_data"
    },
    {
     "name": "stdout",
     "output_type": "stream",
     "text": [
      "Epoch 7/10, Train Loss: 1.773256942010839\n"
     ]
    },
    {
     "data": {
      "application/vnd.jupyter.widget-view+json": {
       "model_id": "dd06a21c79304c58be75f4e03a150d25",
       "version_major": 2,
       "version_minor": 0
      },
      "text/plain": [
       "Validation:   0%|          | 0/163 [00:00<?, ?it/s]"
      ]
     },
     "metadata": {},
     "output_type": "display_data"
    },
    {
     "name": "stdout",
     "output_type": "stream",
     "text": [
      "Epoch 7/10, Validation Loss: 1.7473507337043621, Validation Accuracy: 0.642089093701997\n"
     ]
    },
    {
     "data": {
      "application/vnd.jupyter.widget-view+json": {
       "model_id": "b9691d0d5932490fbd8e3dbe8af4463f",
       "version_major": 2,
       "version_minor": 0
      },
      "text/plain": [
       "Epoch 8/10:   0%|          | 0/6187 [00:00<?, ?it/s]"
      ]
     },
     "metadata": {},
     "output_type": "display_data"
    },
    {
     "name": "stdout",
     "output_type": "stream",
     "text": [
      "Epoch 8/10, Train Loss: 1.6804030785676984\n"
     ]
    },
    {
     "data": {
      "application/vnd.jupyter.widget-view+json": {
       "model_id": "d945ad9a5cb64b61b3747e0c80a99da3",
       "version_major": 2,
       "version_minor": 0
      },
      "text/plain": [
       "Validation:   0%|          | 0/163 [00:00<?, ?it/s]"
      ]
     },
     "metadata": {},
     "output_type": "display_data"
    },
    {
     "name": "stdout",
     "output_type": "stream",
     "text": [
      "Epoch 8/10, Validation Loss: 1.651632658543031, Validation Accuracy: 0.6728110599078341\n"
     ]
    },
    {
     "data": {
      "application/vnd.jupyter.widget-view+json": {
       "model_id": "a2d04f13bb5e4ac2a1f58e865d003dc3",
       "version_major": 2,
       "version_minor": 0
      },
      "text/plain": [
       "Epoch 9/10:   0%|          | 0/6187 [00:00<?, ?it/s]"
      ]
     },
     "metadata": {},
     "output_type": "display_data"
    },
    {
     "name": "stdout",
     "output_type": "stream",
     "text": [
      "Epoch 9/10, Train Loss: 1.589404472727488\n"
     ]
    },
    {
     "data": {
      "application/vnd.jupyter.widget-view+json": {
       "model_id": "6b0100a96b714a13b1393a4339b2ecfd",
       "version_major": 2,
       "version_minor": 0
      },
      "text/plain": [
       "Validation:   0%|          | 0/163 [00:00<?, ?it/s]"
      ]
     },
     "metadata": {},
     "output_type": "display_data"
    },
    {
     "name": "stdout",
     "output_type": "stream",
     "text": [
      "Epoch 9/10, Validation Loss: 1.5610485420636604, Validation Accuracy: 0.7188940092165899\n"
     ]
    },
    {
     "data": {
      "application/vnd.jupyter.widget-view+json": {
       "model_id": "703b443866a9420ab1a052a669cc7ffd",
       "version_major": 2,
       "version_minor": 0
      },
      "text/plain": [
       "Epoch 10/10:   0%|          | 0/6187 [00:00<?, ?it/s]"
      ]
     },
     "metadata": {},
     "output_type": "display_data"
    },
    {
     "name": "stdout",
     "output_type": "stream",
     "text": [
      "Epoch 10/10, Train Loss: 1.5004113533008614\n"
     ]
    },
    {
     "data": {
      "application/vnd.jupyter.widget-view+json": {
       "model_id": "8005f60d662548ce80ec3f3f99232f57",
       "version_major": 2,
       "version_minor": 0
      },
      "text/plain": [
       "Validation:   0%|          | 0/163 [00:00<?, ?it/s]"
      ]
     },
     "metadata": {},
     "output_type": "display_data"
    },
    {
     "name": "stdout",
     "output_type": "stream",
     "text": [
      "Epoch 10/10, Validation Loss: 1.4686300118276678, Validation Accuracy: 0.7634408602150538\n"
     ]
    },
    {
     "data": {
      "application/vnd.jupyter.widget-view+json": {
       "model_id": "8840b60f37de4e9ca9542391f57fdbc1",
       "version_major": 2,
       "version_minor": 0
      },
      "text/plain": [
       "Testing:   0%|          | 0/163 [00:00<?, ?it/s]"
      ]
     },
     "metadata": {},
     "output_type": "display_data"
    },
    {
     "name": "stdout",
     "output_type": "stream",
     "text": [
      "{'val_acc': [0.11367127496159754, 0.23195084485407066, 0.38556067588325654, 0.4823348694316436, 0.5299539170506913, 0.5821812596006144, 0.642089093701997, 0.6728110599078341, 0.7188940092165899, 0.7634408602150538], 'val_loss': [2.3468470280887157, 2.257787681064723, 2.1391843316013825, 2.0330084686630343, 1.9368154278562113, 1.8375814560732227, 1.7473507337043621, 1.651632658543031, 1.5610485420636604, 1.4686300118276678], 'train_loss': [2.3653123011125854, 2.285547466275764, 2.1745383404213374, 2.063090108565026, 1.9615831494196485, 1.867225388265184, 1.773256942010839, 1.6804030785676984, 1.589404472727488, 1.5004113533008614], 'test_correct_in_batch': [3.0, 2.0, 3.0, 3.0, 4.0, 2.0, 2.0, 3.0, 2.0, 4.0, 4.0, 3.0, 1.0, 4.0, 4.0, 3.0, 2.0, 3.0, 1.0, 3.0, 2.0, 3.0, 2.0, 3.0, 2.0, 4.0, 3.0, 3.0, 3.0, 3.0, 2.0, 4.0, 4.0, 4.0, 3.0, 4.0, 4.0, 4.0, 4.0, 3.0, 3.0, 2.0, 2.0, 4.0, 1.0, 3.0, 3.0, 2.0, 2.0, 4.0, 3.0, 1.0, 4.0, 3.0, 3.0, 3.0, 4.0, 4.0, 3.0, 2.0, 4.0, 3.0, 3.0, 4.0, 2.0, 2.0, 4.0, 1.0, 3.0, 3.0, 1.0, 4.0, 3.0, 2.0, 4.0, 3.0, 2.0, 4.0, 3.0, 4.0, 3.0, 3.0, 4.0, 3.0, 3.0, 3.0, 3.0, 3.0, 4.0, 2.0, 3.0, 2.0, 1.0, 4.0, 4.0, 3.0, 3.0, 3.0, 4.0, 4.0, 2.0, 3.0, 3.0, 3.0, 3.0, 3.0, 2.0, 3.0, 2.0, 4.0, 3.0, 3.0, 3.0, 4.0, 2.0, 3.0, 3.0, 4.0, 3.0, 3.0, 4.0, 2.0, 2.0, 3.0, 3.0, 4.0, 3.0, 3.0, 3.0, 3.0, 4.0, 4.0, 4.0, 3.0, 2.0, 2.0, 4.0, 4.0, 1.0, 3.0, 4.0, 2.0, 2.0, 2.0, 3.0, 3.0, 3.0, 3.0, 3.0, 3.0, 2.0, 3.0, 3.0, 4.0, 3.0, 4.0, 4.0, 1.0, 4.0, 1.0, 3.0, 2.0, 3.0], 'test_losses': [1.4113984107971191, 1.8524386882781982, 1.5717699527740479, 1.5255639553070068, 1.0463708639144897, 1.5356100797653198, 1.8002597093582153, 1.5158851146697998, 1.541163682937622, 1.3537064790725708, 1.2133368253707886, 1.6068885326385498, 2.164074420928955, 1.3791124820709229, 1.2048096656799316, 1.478803038597107, 1.8982477188110352, 1.5540815591812134, 1.7598786354064941, 1.43618643283844, 1.6428296566009521, 1.5195136070251465, 1.6285704374313354, 1.4938678741455078, 1.5926049947738647, 1.1628100872039795, 1.353871464729309, 1.4766091108322144, 1.652637243270874, 1.804051399230957, 1.705869436264038, 1.2574472427368164, 1.3840396404266357, 0.937095046043396, 1.4635789394378662, 1.3738741874694824, 1.3471064567565918, 1.158462643623352, 1.4697202444076538, 1.2578516006469727, 1.4224743843078613, 1.309536099433899, 1.832532286643982, 1.449718713760376, 1.7003790140151978, 1.2329683303833008, 1.6352838277816772, 1.68490469455719, 1.3801159858703613, 1.265627384185791, 1.5728000402450562, 2.050438642501831, 1.3583366870880127, 1.621964931488037, 1.4941033124923706, 1.3598027229309082, 1.2560482025146484, 1.2716710567474365, 1.2549285888671875, 1.3667887449264526, 1.2393035888671875, 1.537861704826355, 1.2997784614562988, 1.1627840995788574, 1.4332338571548462, 1.6659576892852783, 1.4723562002182007, 1.6972839832305908, 1.6857600212097168, 1.3410708904266357, 2.363187789916992, 1.173550009727478, 1.4936001300811768, 1.6717803478240967, 1.3229990005493164, 1.4126144647598267, 1.4735020399093628, 1.1812970638275146, 1.3844598531723022, 1.410301685333252, 1.4232203960418701, 1.7972609996795654, 1.2186343669891357, 1.4981186389923096, 1.3738244771957397, 1.498117446899414, 1.6139883995056152, 1.3080029487609863, 1.2776771783828735, 1.7336848974227905, 1.4033006429672241, 1.6914222240447998, 1.5671501159667969, 1.3691399097442627, 1.3953640460968018, 1.5896377563476562, 1.509163737297058, 1.8437339067459106, 1.4276835918426514, 1.0459455251693726, 1.8646366596221924, 1.2039648294448853, 1.5206365585327148, 1.3009637594223022, 1.5281671285629272, 1.5660786628723145, 1.5431783199310303, 1.6713335514068604, 1.6431629657745361, 1.2270246744155884, 1.0909172296524048, 1.4902238845825195, 1.3191213607788086, 0.894635796546936, 1.760257363319397, 1.3481111526489258, 1.7775969505310059, 1.1877622604370117, 1.331802248954773, 1.6564491987228394, 1.2540607452392578, 1.8058266639709473, 1.2248262166976929, 1.5551087856292725, 1.7975375652313232, 1.285027027130127, 1.4990538358688354, 1.3759422302246094, 1.3056443929672241, 1.4560885429382324, 1.4002618789672852, 1.216261386871338, 1.2004694938659668, 1.8219441175460815, 1.7205097675323486, 1.8419030904769897, 1.156569480895996, 1.001676321029663, 1.9229984283447266, 1.8900426626205444, 1.1463706493377686, 1.8789470195770264, 1.932491660118103, 1.4776414632797241, 1.2758939266204834, 1.3322858810424805, 1.5056184530258179, 1.5399556159973145, 1.5632511377334595, 1.608338713645935, 1.6507080793380737, 1.4110746383666992, 1.4992419481277466, 1.3120579719543457, 1.5451905727386475, 1.443821907043457, 1.2624030113220215, 1.7148406505584717, 1.288451910018921, 1.4994466304779053, 1.3315043449401855, 1.5521020889282227, 1.3611856698989868], 'test_loss': 1.477612125361624, 'test_batch_lens': [4, 4, 4, 4, 4, 4, 4, 4, 4, 4, 4, 4, 4, 4, 4, 4, 4, 4, 4, 4, 4, 4, 4, 4, 4, 4, 4, 4, 4, 4, 4, 4, 4, 4, 4, 4, 4, 4, 4, 4, 4, 4, 4, 4, 4, 4, 4, 4, 4, 4, 4, 4, 4, 4, 4, 4, 4, 4, 4, 4, 4, 4, 4, 4, 4, 4, 4, 4, 4, 4, 4, 4, 4, 4, 4, 4, 4, 4, 4, 4, 4, 4, 4, 4, 4, 4, 4, 4, 4, 4, 4, 4, 4, 4, 4, 4, 4, 4, 4, 4, 4, 4, 4, 4, 4, 4, 4, 4, 4, 4, 4, 4, 4, 4, 4, 4, 4, 4, 4, 4, 4, 4, 4, 4, 4, 4, 4, 4, 4, 4, 4, 4, 4, 4, 4, 4, 4, 4, 4, 4, 4, 4, 4, 4, 4, 4, 4, 4, 4, 4, 4, 4, 4, 4, 4, 4, 4, 4, 4, 4, 4, 4, 3], 'test_accuracy': 0.7403993855606759, 'predictions': [7, 4, 1, 6, 7, 1, 10, 2, 0, 1, 4, 7, 1, 9, 6, 0, 9, 6, 4, 9, 6, 10, 9, 4, 6, 0, 5, 6, 6, 10, 2, 1, 1, 1, 6, 1, 10, 5, 5, 0, 10, 3, 2, 10, 7, 1, 4, 3, 6, 1, 8, 4, 3, 4, 6, 1, 1, 9, 1, 10, 10, 6, 4, 6, 5, 9, 10, 5, 2, 1, 3, 1, 8, 1, 1, 6, 6, 6, 9, 2, 1, 1, 1, 1, 5, 5, 1, 2, 1, 5, 9, 10, 10, 7, 0, 5, 1, 6, 2, 9, 5, 1, 10, 6, 10, 2, 3, 9, 10, 4, 7, 9, 0, 3, 7, 2, 0, 10, 0, 0, 4, 1, 9, 6, 5, 1, 7, 9, 6, 7, 4, 0, 10, 10, 7, 9, 4, 1, 9, 1, 10, 3, 3, 9, 4, 7, 4, 7, 2, 10, 2, 4, 10, 10, 1, 0, 10, 5, 9, 7, 7, 9, 10, 4, 6, 1, 10, 5, 6, 0, 9, 9, 10, 7, 6, 8, 1, 6, 1, 6, 6, 1, 5, 3, 9, 3, 4, 10, 1, 2, 1, 2, 1, 9, 9, 6, 1, 3, 5, 9, 4, 1, 6, 1, 4, 4, 9, 2, 3, 9, 5, 6, 2, 5, 4, 9, 2, 10, 1, 4, 7, 3, 5, 6, 7, 0, 5, 7, 1, 0, 1, 6, 1, 7, 7, 2, 10, 9, 1, 10, 9, 4, 3, 3, 1, 7, 2, 5, 6, 4, 10, 1, 1, 2, 3, 10, 6, 9, 4, 1, 3, 6, 7, 9, 5, 1, 8, 1, 1, 9, 1, 10, 3, 5, 1, 2, 7, 9, 9, 7, 7, 1, 3, 10, 2, 4, 2, 5, 5, 3, 6, 0, 6, 6, 1, 1, 2, 7, 3, 2, 4, 10, 6, 6, 6, 5, 6, 7, 10, 1, 7, 6, 9, 2, 5, 6, 0, 9, 4, 3, 9, 6, 7, 9, 1, 7, 8, 5, 2, 9, 4, 1, 1, 3, 4, 7, 1, 2, 9, 2, 5, 0, 4, 10, 5, 1, 5, 7, 3, 6, 9, 6, 4, 9, 5, 1, 1, 3, 0, 7, 4, 7, 6, 10, 7, 9, 10, 5, 2, 9, 4, 9, 5, 0, 9, 10, 5, 0, 3, 7, 1, 1, 8, 2, 2, 7, 4, 9, 3, 7, 5, 9, 9, 4, 0, 0, 5, 6, 9, 9, 7, 7, 8, 3, 1, 10, 10, 4, 5, 7, 1, 3, 5, 10, 9, 9, 2, 1, 1, 1, 5, 5, 4, 1, 6, 0, 1, 7, 3, 4, 8, 3, 1, 0, 1, 2, 2, 3, 7, 10, 10, 5, 10, 6, 6, 5, 0, 4, 10, 2, 1, 9, 9, 5, 9, 9, 8, 1, 5, 7, 9, 10, 1, 10, 1, 6, 3, 4, 2, 4, 10, 1, 1, 2, 10, 2, 4, 2, 2, 5, 9, 9, 0, 7, 6, 4, 9, 0, 6, 1, 6, 9, 1, 7, 2, 4, 8, 0, 1, 3, 9, 6, 3, 4, 6, 1, 3, 5, 1, 1, 7, 10, 9, 10, 2, 5, 4, 7, 5, 1, 4, 5, 0, 4, 5, 4, 9, 5, 9, 7, 7, 2, 1, 2, 4, 3, 2, 0, 1, 6, 9, 1, 6, 9, 2, 0, 9, 7, 6, 9, 6, 9, 5, 10, 10, 1, 8, 1, 7, 3, 2, 7, 9, 6, 2, 6, 9, 0, 10, 2, 8, 5, 6, 10, 7, 7, 9, 6, 10, 6, 6, 9, 7, 9, 7, 9, 4, 9, 3, 3, 7, 9, 1, 9, 5, 4, 0, 7, 6, 0, 4, 4, 5, 4, 4, 6, 6, 6, 1, 5, 8, 0, 1, 4, 7, 1, 9, 4, 6, 0, 10, 7, 1, 0, 3, 9, 1, 4, 3, 3, 9, 2, 9, 9, 4, 0, 2, 1, 9, 6, 6, 1, 1, 7, 4, 9, 6, 0, 8, 6, 7], 'real_labels': [7, 4, 1, 10, 7, 1, 8, 8, 0, 8, 4, 7, 1, 9, 3, 0, 9, 6, 4, 9, 8, 10, 1, 4, 6, 8, 8, 6, 6, 8, 2, 1, 1, 9, 6, 3, 10, 5, 5, 0, 10, 3, 2, 10, 7, 8, 4, 3, 3, 8, 9, 4, 3, 4, 6, 1, 1, 9, 1, 10, 10, 6, 1, 6, 5, 5, 8, 5, 8, 1, 3, 1, 1, 3, 1, 8, 6, 8, 9, 2, 3, 1, 3, 1, 5, 5, 1, 8, 0, 4, 9, 10, 10, 7, 1, 5, 1, 8, 2, 7, 5, 1, 10, 6, 10, 8, 3, 9, 10, 4, 7, 1, 0, 3, 7, 6, 0, 8, 0, 0, 4, 8, 7, 6, 5, 1, 7, 9, 6, 7, 4, 0, 10, 10, 7, 9, 4, 1, 9, 0, 10, 3, 3, 9, 4, 7, 4, 7, 2, 10, 2, 4, 10, 10, 1, 0, 10, 5, 4, 7, 8, 9, 10, 4, 2, 3, 10, 5, 8, 0, 9, 0, 10, 7, 6, 8, 0, 8, 1, 2, 6, 3, 5, 3, 9, 3, 4, 8, 3, 2, 0, 2, 0, 9, 9, 8, 1, 3, 5, 9, 8, 1, 6, 1, 4, 3, 4, 8, 3, 9, 5, 6, 2, 5, 4, 5, 2, 10, 8, 4, 7, 3, 0, 6, 7, 0, 5, 7, 1, 0, 1, 6, 3, 7, 7, 2, 10, 4, 3, 10, 9, 4, 3, 3, 1, 7, 8, 5, 2, 4, 10, 1, 1, 2, 3, 10, 6, 9, 5, 3, 3, 10, 7, 1, 5, 1, 8, 1, 8, 7, 3, 10, 3, 5, 2, 2, 7, 3, 9, 7, 6, 8, 8, 10, 2, 4, 2, 5, 5, 3, 8, 0, 8, 6, 0, 1, 2, 7, 3, 2, 4, 10, 8, 6, 6, 0, 2, 7, 10, 1, 7, 6, 9, 2, 5, 2, 0, 9, 4, 3, 2, 6, 7, 9, 1, 8, 8, 5, 2, 9, 4, 1, 1, 8, 4, 7, 1, 2, 7, 2, 5, 0, 7, 10, 5, 0, 5, 7, 3, 6, 4, 6, 4, 9, 5, 1, 8, 3, 7, 7, 4, 4, 6, 10, 8, 9, 8, 5, 6, 7, 4, 0, 5, 0, 9, 10, 5, 0, 3, 7, 3, 1, 8, 2, 2, 4, 4, 9, 3, 7, 9, 9, 9, 4, 0, 0, 5, 6, 9, 9, 7, 7, 6, 9, 1, 10, 10, 5, 5, 7, 3, 3, 5, 10, 9, 7, 2, 3, 1, 1, 0, 5, 4, 1, 2, 0, 1, 8, 8, 4, 8, 3, 8, 0, 3, 2, 2, 3, 7, 10, 10, 4, 10, 6, 6, 5, 0, 9, 8, 2, 1, 9, 9, 5, 9, 9, 1, 3, 5, 7, 9, 10, 1, 8, 1, 6, 3, 8, 2, 4, 10, 1, 1, 2, 8, 2, 4, 8, 2, 5, 9, 9, 0, 7, 6, 9, 2, 0, 2, 8, 6, 9, 3, 7, 2, 4, 3, 0, 1, 3, 9, 6, 3, 4, 6, 3, 3, 5, 0, 1, 7, 10, 4, 10, 2, 5, 5, 7, 5, 1, 4, 5, 0, 4, 5, 4, 9, 5, 9, 7, 7, 2, 0, 2, 4, 3, 2, 9, 1, 8, 9, 1, 8, 8, 2, 0, 9, 7, 6, 9, 6, 9, 0, 10, 8, 8, 4, 1, 7, 3, 2, 7, 9, 6, 7, 8, 9, 0, 8, 2, 10, 5, 2, 10, 8, 7, 9, 6, 8, 6, 6, 4, 7, 9, 7, 8, 4, 9, 3, 3, 7, 4, 1, 7, 5, 4, 0, 7, 8, 0, 7, 4, 5, 5, 4, 8, 6, 6, 1, 5, 3, 0, 1, 4, 7, 1, 9, 4, 6, 6, 10, 7, 1, 0, 3, 9, 1, 4, 3, 10, 7, 8, 9, 9, 4, 0, 2, 3, 7, 8, 6, 8, 1, 7, 4, 0, 2, 0, 8, 6, 7], 'label_to_index': {'down': 0, 'go': 1, 'left': 2, 'no': 3, 'off': 4, 'on': 5, 'right': 6, 'stop': 7, 'unknown': 8, 'up': 9, 'yes': 10}}\n",
      "Test Loss: 1.477612125361624, Test Accuracy: 0.7403993855606759\n"
     ]
    },
    {
     "name": "stderr",
     "output_type": "stream",
     "text": [
      "Some weights of the model checkpoint at superb/wav2vec2-base-superb-ks were not used when initializing Wav2Vec2ForSequenceClassification: ['wav2vec2.encoder.pos_conv_embed.conv.weight_g', 'wav2vec2.encoder.pos_conv_embed.conv.weight_v']\n",
      "- This IS expected if you are initializing Wav2Vec2ForSequenceClassification from the checkpoint of a model trained on another task or with another architecture (e.g. initializing a BertForSequenceClassification model from a BertForPreTraining model).\n",
      "- This IS NOT expected if you are initializing Wav2Vec2ForSequenceClassification from the checkpoint of a model that you expect to be exactly identical (initializing a BertForSequenceClassification model from a BertForSequenceClassification model).\n",
      "Some weights of Wav2Vec2ForSequenceClassification were not initialized from the model checkpoint at superb/wav2vec2-base-superb-ks and are newly initialized: ['wav2vec2.encoder.pos_conv_embed.conv.parametrizations.weight.original0', 'wav2vec2.encoder.pos_conv_embed.conv.parametrizations.weight.original1']\n",
      "You should probably TRAIN this model on a down-stream task to be able to use it for predictions and inference.\n"
     ]
    },
    {
     "data": {
      "application/vnd.jupyter.widget-view+json": {
       "model_id": "543deacf9b1f4563866aa18c3f124afe",
       "version_major": 2,
       "version_minor": 0
      },
      "text/plain": [
       "Epoch 1/10:   0%|          | 0/6187 [00:00<?, ?it/s]"
      ]
     },
     "metadata": {},
     "output_type": "display_data"
    },
    {
     "name": "stdout",
     "output_type": "stream",
     "text": [
      "Epoch 1/10, Train Loss: 2.3755464931865378\n"
     ]
    },
    {
     "data": {
      "application/vnd.jupyter.widget-view+json": {
       "model_id": "0d4006bbd02648b7b6dd6ee385f01c35",
       "version_major": 2,
       "version_minor": 0
      },
      "text/plain": [
       "Validation:   0%|          | 0/163 [00:00<?, ?it/s]"
      ]
     },
     "metadata": {},
     "output_type": "display_data"
    },
    {
     "name": "stdout",
     "output_type": "stream",
     "text": [
      "Epoch 1/10, Validation Loss: 2.350759539867471, Validation Accuracy: 0.1490015360983103\n"
     ]
    },
    {
     "data": {
      "application/vnd.jupyter.widget-view+json": {
       "model_id": "68b49e57a82b4eb881ab204314b7f18d",
       "version_major": 2,
       "version_minor": 0
      },
      "text/plain": [
       "Epoch 2/10:   0%|          | 0/6187 [00:00<?, ?it/s]"
      ]
     },
     "metadata": {},
     "output_type": "display_data"
    },
    {
     "name": "stdout",
     "output_type": "stream",
     "text": [
      "Epoch 2/10, Train Loss: 2.3246695587818853\n"
     ]
    },
    {
     "data": {
      "application/vnd.jupyter.widget-view+json": {
       "model_id": "80ca26bfee7b44d6ac702ccf8cb5cea8",
       "version_major": 2,
       "version_minor": 0
      },
      "text/plain": [
       "Validation:   0%|          | 0/163 [00:00<?, ?it/s]"
      ]
     },
     "metadata": {},
     "output_type": "display_data"
    },
    {
     "name": "stdout",
     "output_type": "stream",
     "text": [
      "Epoch 2/10, Validation Loss: 2.297165300948488, Validation Accuracy: 0.21658986175115208\n"
     ]
    },
    {
     "data": {
      "application/vnd.jupyter.widget-view+json": {
       "model_id": "3eba7e61bf1d4da881d43ba1c9509916",
       "version_major": 2,
       "version_minor": 0
      },
      "text/plain": [
       "Epoch 3/10:   0%|          | 0/6187 [00:00<?, ?it/s]"
      ]
     },
     "metadata": {},
     "output_type": "display_data"
    },
    {
     "name": "stdout",
     "output_type": "stream",
     "text": [
      "Epoch 3/10, Train Loss: 2.272662921909063\n"
     ]
    },
    {
     "data": {
      "application/vnd.jupyter.widget-view+json": {
       "model_id": "a85b6407ccb344579109a8103a566f7c",
       "version_major": 2,
       "version_minor": 0
      },
      "text/plain": [
       "Validation:   0%|          | 0/163 [00:00<?, ?it/s]"
      ]
     },
     "metadata": {},
     "output_type": "display_data"
    },
    {
     "name": "stdout",
     "output_type": "stream",
     "text": [
      "Epoch 3/10, Validation Loss: 2.2402392267449502, Validation Accuracy: 0.27342549923195086\n"
     ]
    },
    {
     "data": {
      "application/vnd.jupyter.widget-view+json": {
       "model_id": "597e7d3dc8624a5aa374627363085f9c",
       "version_major": 2,
       "version_minor": 0
      },
      "text/plain": [
       "Epoch 4/10:   0%|          | 0/6187 [00:00<?, ?it/s]"
      ]
     },
     "metadata": {},
     "output_type": "display_data"
    },
    {
     "name": "stdout",
     "output_type": "stream",
     "text": [
      "Epoch 4/10, Train Loss: 2.2117411582982847\n"
     ]
    },
    {
     "data": {
      "application/vnd.jupyter.widget-view+json": {
       "model_id": "b9f6c4304d3344be907c46e4bfae530c",
       "version_major": 2,
       "version_minor": 0
      },
      "text/plain": [
       "Validation:   0%|          | 0/163 [00:00<?, ?it/s]"
      ]
     },
     "metadata": {},
     "output_type": "display_data"
    },
    {
     "name": "stdout",
     "output_type": "stream",
     "text": [
      "Epoch 4/10, Validation Loss: 2.1844389226539005, Validation Accuracy: 0.30721966205837176\n"
     ]
    },
    {
     "data": {
      "application/vnd.jupyter.widget-view+json": {
       "model_id": "45036121b5a7420d9040336af69668ae",
       "version_major": 2,
       "version_minor": 0
      },
      "text/plain": [
       "Epoch 5/10:   0%|          | 0/6187 [00:00<?, ?it/s]"
      ]
     },
     "metadata": {},
     "output_type": "display_data"
    },
    {
     "name": "stdout",
     "output_type": "stream",
     "text": [
      "Epoch 5/10, Train Loss: 2.14244242446265\n"
     ]
    },
    {
     "data": {
      "application/vnd.jupyter.widget-view+json": {
       "model_id": "1e569464d3df4a6c9204d89d56073bc8",
       "version_major": 2,
       "version_minor": 0
      },
      "text/plain": [
       "Validation:   0%|          | 0/163 [00:00<?, ?it/s]"
      ]
     },
     "metadata": {},
     "output_type": "display_data"
    },
    {
     "name": "stdout",
     "output_type": "stream",
     "text": [
      "Epoch 5/10, Validation Loss: 2.104364701575297, Validation Accuracy: 0.3317972350230415\n"
     ]
    },
    {
     "data": {
      "application/vnd.jupyter.widget-view+json": {
       "model_id": "729862e3ade44cd4a33d870158564fb6",
       "version_major": 2,
       "version_minor": 0
      },
      "text/plain": [
       "Epoch 6/10:   0%|          | 0/6187 [00:00<?, ?it/s]"
      ]
     },
     "metadata": {},
     "output_type": "display_data"
    },
    {
     "name": "stdout",
     "output_type": "stream",
     "text": [
      "Epoch 6/10, Train Loss: 2.067009850158741\n"
     ]
    },
    {
     "data": {
      "application/vnd.jupyter.widget-view+json": {
       "model_id": "414e057c264d4d6ba8da563f077421f6",
       "version_major": 2,
       "version_minor": 0
      },
      "text/plain": [
       "Validation:   0%|          | 0/163 [00:00<?, ?it/s]"
      ]
     },
     "metadata": {},
     "output_type": "display_data"
    },
    {
     "name": "stdout",
     "output_type": "stream",
     "text": [
      "Epoch 6/10, Validation Loss: 2.024522577326722, Validation Accuracy: 0.3763440860215054\n"
     ]
    },
    {
     "data": {
      "application/vnd.jupyter.widget-view+json": {
       "model_id": "07bad9413f4f4d90937eb486596a4859",
       "version_major": 2,
       "version_minor": 0
      },
      "text/plain": [
       "Epoch 7/10:   0%|          | 0/6187 [00:00<?, ?it/s]"
      ]
     },
     "metadata": {},
     "output_type": "display_data"
    },
    {
     "name": "stdout",
     "output_type": "stream",
     "text": [
      "Epoch 7/10, Train Loss: 1.9905406333565114\n"
     ]
    },
    {
     "data": {
      "application/vnd.jupyter.widget-view+json": {
       "model_id": "5fe38af967354a50aac82ebd07b50f1b",
       "version_major": 2,
       "version_minor": 0
      },
      "text/plain": [
       "Validation:   0%|          | 0/163 [00:00<?, ?it/s]"
      ]
     },
     "metadata": {},
     "output_type": "display_data"
    },
    {
     "name": "stdout",
     "output_type": "stream",
     "text": [
      "Epoch 7/10, Validation Loss: 1.9387139184343303, Validation Accuracy: 0.41935483870967744\n"
     ]
    },
    {
     "data": {
      "application/vnd.jupyter.widget-view+json": {
       "model_id": "e2cadd22155d4fa7a60545d3912f6096",
       "version_major": 2,
       "version_minor": 0
      },
      "text/plain": [
       "Epoch 8/10:   0%|          | 0/6187 [00:00<?, ?it/s]"
      ]
     },
     "metadata": {},
     "output_type": "display_data"
    },
    {
     "name": "stdout",
     "output_type": "stream",
     "text": [
      "Epoch 8/10, Train Loss: 1.9135431959726554\n"
     ]
    },
    {
     "data": {
      "application/vnd.jupyter.widget-view+json": {
       "model_id": "ede1c2948ce948368f01103d8aa41405",
       "version_major": 2,
       "version_minor": 0
      },
      "text/plain": [
       "Validation:   0%|          | 0/163 [00:00<?, ?it/s]"
      ]
     },
     "metadata": {},
     "output_type": "display_data"
    },
    {
     "name": "stdout",
     "output_type": "stream",
     "text": [
      "Epoch 8/10, Validation Loss: 1.861482465194047, Validation Accuracy: 0.4807987711213518\n"
     ]
    },
    {
     "data": {
      "application/vnd.jupyter.widget-view+json": {
       "model_id": "5e501fc5f98a47f38c79a4aede6aa8a1",
       "version_major": 2,
       "version_minor": 0
      },
      "text/plain": [
       "Epoch 9/10:   0%|          | 0/6187 [00:00<?, ?it/s]"
      ]
     },
     "metadata": {},
     "output_type": "display_data"
    },
    {
     "name": "stdout",
     "output_type": "stream",
     "text": [
      "Epoch 9/10, Train Loss: 1.8334798024624408\n"
     ]
    },
    {
     "data": {
      "application/vnd.jupyter.widget-view+json": {
       "model_id": "9c07a8f7c79e4a0d8b0e740ed4dfe9eb",
       "version_major": 2,
       "version_minor": 0
      },
      "text/plain": [
       "Validation:   0%|          | 0/163 [00:00<?, ?it/s]"
      ]
     },
     "metadata": {},
     "output_type": "display_data"
    },
    {
     "name": "stdout",
     "output_type": "stream",
     "text": [
      "Epoch 9/10, Validation Loss: 1.7908631446171392, Validation Accuracy: 0.5130568356374808\n"
     ]
    },
    {
     "data": {
      "application/vnd.jupyter.widget-view+json": {
       "model_id": "cc25b441cbe64f73aaa9d48089aebb9f",
       "version_major": 2,
       "version_minor": 0
      },
      "text/plain": [
       "Epoch 10/10:   0%|          | 0/6187 [00:00<?, ?it/s]"
      ]
     },
     "metadata": {},
     "output_type": "display_data"
    },
    {
     "name": "stdout",
     "output_type": "stream",
     "text": [
      "Epoch 10/10, Train Loss: 1.7500557633773448\n"
     ]
    },
    {
     "data": {
      "application/vnd.jupyter.widget-view+json": {
       "model_id": "72f11166a64442baaaaa89c86fb21db8",
       "version_major": 2,
       "version_minor": 0
      },
      "text/plain": [
       "Validation:   0%|          | 0/163 [00:00<?, ?it/s]"
      ]
     },
     "metadata": {},
     "output_type": "display_data"
    },
    {
     "name": "stdout",
     "output_type": "stream",
     "text": [
      "Epoch 10/10, Validation Loss: 1.693892745152573, Validation Accuracy: 0.565284178187404\n"
     ]
    },
    {
     "data": {
      "application/vnd.jupyter.widget-view+json": {
       "model_id": "a37dd3e15f614e6da35f42cace6dbf44",
       "version_major": 2,
       "version_minor": 0
      },
      "text/plain": [
       "Testing:   0%|          | 0/163 [00:00<?, ?it/s]"
      ]
     },
     "metadata": {},
     "output_type": "display_data"
    },
    {
     "name": "stdout",
     "output_type": "stream",
     "text": [
      "{'val_acc': [0.1490015360983103, 0.21658986175115208, 0.27342549923195086, 0.30721966205837176, 0.3317972350230415, 0.3763440860215054, 0.41935483870967744, 0.4807987711213518, 0.5130568356374808, 0.565284178187404], 'val_loss': [2.350759539867471, 2.297165300948488, 2.2402392267449502, 2.1844389226539005, 2.104364701575297, 2.024522577326722, 1.9387139184343303, 1.861482465194047, 1.7908631446171392, 1.693892745152573], 'train_loss': [2.3755464931865378, 2.3246695587818853, 2.272662921909063, 2.2117411582982847, 2.14244242446265, 2.067009850158741, 1.9905406333565114, 1.9135431959726554, 1.8334798024624408, 1.7500557633773448], 'test_correct_in_batch': [3.0, 1.0, 3.0, 2.0, 4.0, 3.0, 3.0, 1.0, 3.0, 3.0, 2.0, 1.0, 0.0, 4.0, 3.0, 2.0, 2.0, 1.0, 1.0, 1.0, 3.0, 2.0, 3.0, 2.0, 3.0, 3.0, 3.0, 3.0, 3.0, 3.0, 0.0, 4.0, 2.0, 4.0, 2.0, 3.0, 4.0, 2.0, 3.0, 3.0, 3.0, 1.0, 1.0, 2.0, 2.0, 3.0, 1.0, 1.0, 2.0, 2.0, 3.0, 1.0, 1.0, 2.0, 3.0, 3.0, 3.0, 4.0, 2.0, 3.0, 4.0, 2.0, 1.0, 3.0, 3.0, 3.0, 2.0, 1.0, 1.0, 3.0, 0.0, 2.0, 2.0, 2.0, 1.0, 2.0, 2.0, 3.0, 0.0, 3.0, 3.0, 0.0, 2.0, 2.0, 2.0, 3.0, 2.0, 2.0, 2.0, 1.0, 2.0, 2.0, 1.0, 3.0, 3.0, 1.0, 3.0, 0.0, 4.0, 4.0, 2.0, 3.0, 1.0, 2.0, 1.0, 2.0, 2.0, 2.0, 1.0, 1.0, 3.0, 2.0, 3.0, 3.0, 1.0, 2.0, 1.0, 3.0, 2.0, 1.0, 4.0, 1.0, 2.0, 1.0, 1.0, 3.0, 1.0, 4.0, 3.0, 2.0, 3.0, 3.0, 1.0, 1.0, 1.0, 2.0, 4.0, 1.0, 1.0, 2.0, 2.0, 3.0, 0.0, 2.0, 3.0, 3.0, 2.0, 1.0, 0.0, 2.0, 4.0, 2.0, 3.0, 1.0, 1.0, 4.0, 3.0, 2.0, 3.0, 0.0, 2.0, 1.0, 2.0], 'test_losses': [1.3800289630889893, 1.904422402381897, 1.4438793659210205, 1.555229902267456, 1.3566170930862427, 1.6995534896850586, 2.174816370010376, 2.217243194580078, 1.6491703987121582, 1.6297719478607178, 2.0110321044921875, 1.6251789331436157, 2.2528350353240967, 1.470019817352295, 1.5861064195632935, 2.1325430870056152, 1.860978603363037, 1.6460816860198975, 1.8469939231872559, 1.9186222553253174, 1.6662036180496216, 1.5638673305511475, 2.1625418663024902, 1.5969860553741455, 1.6413671970367432, 1.7196698188781738, 1.6986262798309326, 1.7690086364746094, 1.3863235712051392, 1.5892480611801147, 2.1914095878601074, 1.3782341480255127, 1.4109671115875244, 1.3893070220947266, 1.743565320968628, 1.4898278713226318, 1.22388756275177, 1.9450626373291016, 2.0530622005462646, 1.5569181442260742, 1.8441046476364136, 1.8274378776550293, 1.7183167934417725, 1.9357142448425293, 1.784101963043213, 1.4070919752120972, 1.979360580444336, 1.9612878561019897, 1.5702201128005981, 1.5656801462173462, 1.6372374296188354, 1.842558741569519, 1.9644798040390015, 1.8450480699539185, 1.81410813331604, 1.4156684875488281, 1.1098371744155884, 1.3938624858856201, 1.60015869140625, 1.7811689376831055, 1.259544849395752, 1.5214896202087402, 1.8631865978240967, 1.5795847177505493, 1.5776077508926392, 1.563319444656372, 1.6020889282226562, 1.8616260290145874, 2.003549337387085, 1.5328086614608765, 2.1915175914764404, 1.9495710134506226, 1.6365052461624146, 1.9591012001037598, 1.8166292905807495, 1.8503093719482422, 1.7346614599227905, 1.623538613319397, 2.1061618328094482, 1.4231455326080322, 1.4611194133758545, 2.1705007553100586, 1.6066597700119019, 1.4828282594680786, 1.653721570968628, 1.635823130607605, 1.5979499816894531, 1.8463114500045776, 1.4249186515808105, 2.4834790229797363, 1.7746117115020752, 1.9059802293777466, 2.0089528560638428, 1.5244865417480469, 1.4846222400665283, 1.7169297933578491, 1.4531757831573486, 2.2125234603881836, 1.4956958293914795, 1.4110934734344482, 1.975769281387329, 1.843689203262329, 1.734805941581726, 1.95380699634552, 1.6375104188919067, 1.642531394958496, 1.8622353076934814, 2.0978496074676514, 1.7714040279388428, 1.7040302753448486, 1.719834566116333, 1.7030599117279053, 1.6306465864181519, 1.1713083982467651, 1.4111114740371704, 1.6695709228515625, 1.8813319206237793, 1.576049566268921, 2.056601047515869, 1.641327142715454, 1.258882761001587, 1.9706664085388184, 1.8780683279037476, 1.8992141485214233, 1.772780179977417, 1.6439155340194702, 1.5855712890625, 1.5414519309997559, 1.8031386137008667, 1.5380088090896606, 1.547253966331482, 1.4076424837112427, 1.5317296981811523, 2.10727596282959, 1.877413034439087, 1.6134973764419556, 1.4144002199172974, 2.229719638824463, 2.0880138874053955, 1.8531475067138672, 1.543547511100769, 1.3300018310546875, 2.2437663078308105, 1.8834161758422852, 1.926542043685913, 1.4217631816864014, 1.6506962776184082, 1.7388064861297607, 1.723625898361206, 1.5161798000335693, 1.3212990760803223, 1.7824584245681763, 1.7442610263824463, 1.6321395635604858, 1.9281854629516602, 1.3940342664718628, 1.3105870485305786, 1.782484531402588, 1.5121653079986572, 1.8518942594528198, 1.5471776723861694, 1.8201916217803955, 1.578689694404602], 'test_loss': 1.7114856652686932, 'test_batch_lens': [4, 4, 4, 4, 4, 4, 4, 4, 4, 4, 4, 4, 4, 4, 4, 4, 4, 4, 4, 4, 4, 4, 4, 4, 4, 4, 4, 4, 4, 4, 4, 4, 4, 4, 4, 4, 4, 4, 4, 4, 4, 4, 4, 4, 4, 4, 4, 4, 4, 4, 4, 4, 4, 4, 4, 4, 4, 4, 4, 4, 4, 4, 4, 4, 4, 4, 4, 4, 4, 4, 4, 4, 4, 4, 4, 4, 4, 4, 4, 4, 4, 4, 4, 4, 4, 4, 4, 4, 4, 4, 4, 4, 4, 4, 4, 4, 4, 4, 4, 4, 4, 4, 4, 4, 4, 4, 4, 4, 4, 4, 4, 4, 4, 4, 4, 4, 4, 4, 4, 4, 4, 4, 4, 4, 4, 4, 4, 4, 4, 4, 4, 4, 4, 4, 4, 4, 4, 4, 4, 4, 4, 4, 4, 4, 4, 4, 4, 4, 4, 4, 4, 4, 4, 4, 4, 4, 4, 4, 4, 4, 4, 4, 3], 'test_accuracy': 0.5345622119815668, 'predictions': [7, 7, 1, 10, 7, 3, 10, 0, 0, 0, 4, 7, 1, 9, 0, 5, 9, 6, 4, 9, 5, 10, 1, 4, 6, 7, 8, 6, 8, 10, 2, 10, 3, 9, 6, 3, 10, 5, 0, 0, 10, 0, 9, 10, 7, 6, 9, 1, 0, 0, 0, 7, 3, 4, 6, 1, 1, 9, 3, 10, 10, 6, 5, 5, 5, 4, 10, 5, 5, 3, 1, 1, 10, 1, 1, 0, 0, 0, 9, 1, 3, 1, 1, 1, 5, 0, 1, 0, 0, 0, 9, 10, 10, 7, 3, 0, 1, 5, 2, 7, 5, 3, 10, 6, 10, 1, 3, 9, 10, 4, 7, 4, 5, 3, 7, 6, 0, 10, 0, 0, 9, 10, 1, 0, 5, 1, 7, 9, 5, 7, 7, 0, 10, 10, 7, 9, 4, 9, 9, 3, 2, 3, 3, 9, 4, 7, 4, 7, 10, 10, 10, 4, 10, 0, 1, 0, 10, 2, 4, 7, 7, 9, 10, 4, 10, 1, 10, 0, 0, 0, 4, 5, 10, 7, 5, 6, 3, 0, 1, 2, 8, 3, 5, 3, 9, 5, 7, 10, 1, 10, 0, 9, 0, 1, 9, 0, 3, 3, 4, 9, 0, 1, 6, 1, 4, 1, 9, 5, 1, 9, 3, 0, 0, 5, 4, 0, 2, 10, 0, 4, 7, 3, 0, 5, 7, 5, 5, 7, 1, 0, 1, 6, 3, 7, 9, 10, 10, 9, 3, 10, 9, 4, 3, 3, 1, 7, 5, 0, 10, 10, 10, 3, 1, 10, 3, 10, 10, 9, 5, 3, 3, 10, 7, 0, 5, 3, 5, 1, 0, 9, 1, 10, 3, 0, 3, 10, 7, 4, 9, 7, 0, 1, 0, 2, 1, 4, 10, 5, 5, 1, 0, 0, 3, 2, 0, 1, 7, 7, 1, 10, 4, 10, 5, 7, 10, 0, 10, 7, 10, 1, 9, 6, 7, 10, 0, 0, 0, 9, 4, 0, 10, 6, 7, 9, 2, 10, 6, 0, 10, 7, 4, 1, 1, 6, 7, 7, 1, 10, 7, 10, 5, 0, 4, 10, 5, 3, 0, 7, 3, 6, 9, 10, 7, 9, 0, 1, 3, 0, 0, 7, 4, 10, 5, 10, 7, 9, 10, 5, 1, 9, 4, 3, 5, 5, 9, 10, 0, 0, 3, 7, 1, 1, 5, 10, 10, 4, 4, 9, 1, 9, 0, 4, 9, 4, 0, 0, 5, 6, 9, 9, 7, 7, 10, 0, 1, 10, 10, 3, 5, 4, 0, 0, 5, 10, 10, 9, 5, 1, 3, 1, 0, 5, 5, 3, 10, 0, 1, 7, 6, 4, 6, 3, 2, 0, 1, 10, 10, 1, 9, 10, 10, 4, 10, 0, 6, 5, 5, 10, 8, 10, 1, 9, 9, 0, 9, 9, 3, 1, 0, 7, 9, 10, 3, 10, 3, 5, 3, 10, 10, 4, 10, 1, 1, 0, 8, 10, 4, 0, 10, 0, 9, 9, 0, 7, 5, 4, 9, 0, 1, 0, 6, 9, 0, 10, 10, 4, 2, 0, 3, 0, 9, 10, 3, 4, 5, 3, 1, 0, 0, 1, 7, 10, 4, 10, 8, 5, 5, 7, 0, 3, 4, 5, 5, 4, 5, 4, 9, 0, 1, 7, 9, 10, 0, 10, 1, 0, 10, 1, 1, 6, 9, 1, 0, 0, 2, 0, 9, 7, 5, 1, 6, 10, 5, 10, 10, 1, 10, 1, 7, 10, 10, 7, 9, 2, 7, 0, 9, 0, 5, 10, 9, 0, 10, 10, 7, 7, 9, 6, 10, 6, 6, 10, 7, 9, 7, 9, 10, 9, 3, 0, 10, 9, 3, 9, 0, 2, 5, 7, 3, 0, 7, 4, 5, 5, 4, 2, 5, 6, 1, 5, 5, 0, 3, 7, 7, 3, 9, 9, 10, 5, 10, 7, 1, 0, 1, 9, 1, 4, 1, 10, 7, 0, 9, 9, 4, 3, 8, 1, 9, 0, 5, 6, 1, 7, 4, 5, 10, 9, 2, 6, 7], 'real_labels': [7, 4, 1, 10, 7, 1, 8, 8, 0, 8, 4, 7, 1, 9, 3, 0, 9, 6, 4, 9, 8, 10, 1, 4, 6, 8, 8, 6, 6, 8, 2, 1, 1, 9, 6, 3, 10, 5, 5, 0, 10, 3, 2, 10, 7, 8, 4, 3, 3, 8, 9, 4, 3, 4, 6, 1, 1, 9, 1, 10, 10, 6, 1, 6, 5, 5, 8, 5, 8, 1, 3, 1, 1, 3, 1, 8, 6, 8, 9, 2, 3, 1, 3, 1, 5, 5, 1, 8, 0, 4, 9, 10, 10, 7, 1, 5, 1, 8, 2, 7, 5, 1, 10, 6, 10, 8, 3, 9, 10, 4, 7, 1, 0, 3, 7, 6, 0, 8, 0, 0, 4, 8, 7, 6, 5, 1, 7, 9, 6, 7, 4, 0, 10, 10, 7, 9, 4, 1, 9, 0, 10, 3, 3, 9, 4, 7, 4, 7, 2, 10, 2, 4, 10, 10, 1, 0, 10, 5, 4, 7, 8, 9, 10, 4, 2, 3, 10, 5, 8, 0, 9, 0, 10, 7, 6, 8, 0, 8, 1, 2, 6, 3, 5, 3, 9, 3, 4, 8, 3, 2, 0, 2, 0, 9, 9, 8, 1, 3, 5, 9, 8, 1, 6, 1, 4, 3, 4, 8, 3, 9, 5, 6, 2, 5, 4, 5, 2, 10, 8, 4, 7, 3, 0, 6, 7, 0, 5, 7, 1, 0, 1, 6, 3, 7, 7, 2, 10, 4, 3, 10, 9, 4, 3, 3, 1, 7, 8, 5, 2, 4, 10, 1, 1, 2, 3, 10, 6, 9, 5, 3, 3, 10, 7, 1, 5, 1, 8, 1, 8, 7, 3, 10, 3, 5, 2, 2, 7, 3, 9, 7, 6, 8, 8, 10, 2, 4, 2, 5, 5, 3, 8, 0, 8, 6, 0, 1, 2, 7, 3, 2, 4, 10, 8, 6, 6, 0, 2, 7, 10, 1, 7, 6, 9, 2, 5, 2, 0, 9, 4, 3, 2, 6, 7, 9, 1, 8, 8, 5, 2, 9, 4, 1, 1, 8, 4, 7, 1, 2, 7, 2, 5, 0, 7, 10, 5, 0, 5, 7, 3, 6, 4, 6, 4, 9, 5, 1, 8, 3, 7, 7, 4, 4, 6, 10, 8, 9, 8, 5, 6, 7, 4, 0, 5, 0, 9, 10, 5, 0, 3, 7, 3, 1, 8, 2, 2, 4, 4, 9, 3, 7, 9, 9, 9, 4, 0, 0, 5, 6, 9, 9, 7, 7, 6, 9, 1, 10, 10, 5, 5, 7, 3, 3, 5, 10, 9, 7, 2, 3, 1, 1, 0, 5, 4, 1, 2, 0, 1, 8, 8, 4, 8, 3, 8, 0, 3, 2, 2, 3, 7, 10, 10, 4, 10, 6, 6, 5, 0, 9, 8, 2, 1, 9, 9, 5, 9, 9, 1, 3, 5, 7, 9, 10, 1, 8, 1, 6, 3, 8, 2, 4, 10, 1, 1, 2, 8, 2, 4, 8, 2, 5, 9, 9, 0, 7, 6, 9, 2, 0, 2, 8, 6, 9, 3, 7, 2, 4, 3, 0, 1, 3, 9, 6, 3, 4, 6, 3, 3, 5, 0, 1, 7, 10, 4, 10, 2, 5, 5, 7, 5, 1, 4, 5, 0, 4, 5, 4, 9, 5, 9, 7, 7, 2, 0, 2, 4, 3, 2, 9, 1, 8, 9, 1, 8, 8, 2, 0, 9, 7, 6, 9, 6, 9, 0, 10, 8, 8, 4, 1, 7, 3, 2, 7, 9, 6, 7, 8, 9, 0, 8, 2, 10, 5, 2, 10, 8, 7, 9, 6, 8, 6, 6, 4, 7, 9, 7, 8, 4, 9, 3, 3, 7, 4, 1, 7, 5, 4, 0, 7, 8, 0, 7, 4, 5, 5, 4, 8, 6, 6, 1, 5, 3, 0, 1, 4, 7, 1, 9, 4, 6, 6, 10, 7, 1, 0, 3, 9, 1, 4, 3, 10, 7, 8, 9, 9, 4, 0, 2, 3, 7, 8, 6, 8, 1, 7, 4, 0, 2, 0, 8, 6, 7], 'label_to_index': {'down': 0, 'go': 1, 'left': 2, 'no': 3, 'off': 4, 'on': 5, 'right': 6, 'stop': 7, 'unknown': 8, 'up': 9, 'yes': 10}}\n",
      "Test Loss: 1.7114856652686932, Test Accuracy: 0.5345622119815668\n"
     ]
    },
    {
     "name": "stderr",
     "output_type": "stream",
     "text": [
      "Some weights of the model checkpoint at superb/wav2vec2-base-superb-ks were not used when initializing Wav2Vec2ForSequenceClassification: ['wav2vec2.encoder.pos_conv_embed.conv.weight_g', 'wav2vec2.encoder.pos_conv_embed.conv.weight_v']\n",
      "- This IS expected if you are initializing Wav2Vec2ForSequenceClassification from the checkpoint of a model trained on another task or with another architecture (e.g. initializing a BertForSequenceClassification model from a BertForPreTraining model).\n",
      "- This IS NOT expected if you are initializing Wav2Vec2ForSequenceClassification from the checkpoint of a model that you expect to be exactly identical (initializing a BertForSequenceClassification model from a BertForSequenceClassification model).\n",
      "Some weights of Wav2Vec2ForSequenceClassification were not initialized from the model checkpoint at superb/wav2vec2-base-superb-ks and are newly initialized: ['wav2vec2.encoder.pos_conv_embed.conv.parametrizations.weight.original0', 'wav2vec2.encoder.pos_conv_embed.conv.parametrizations.weight.original1']\n",
      "You should probably TRAIN this model on a down-stream task to be able to use it for predictions and inference.\n"
     ]
    },
    {
     "data": {
      "application/vnd.jupyter.widget-view+json": {
       "model_id": "1db233d6905347fc8d7466784e939f2c",
       "version_major": 2,
       "version_minor": 0
      },
      "text/plain": [
       "Epoch 1/10:   0%|          | 0/6187 [00:00<?, ?it/s]"
      ]
     },
     "metadata": {},
     "output_type": "display_data"
    },
    {
     "name": "stdout",
     "output_type": "stream",
     "text": [
      "Epoch 1/10, Train Loss: 2.381472232404579\n"
     ]
    },
    {
     "data": {
      "application/vnd.jupyter.widget-view+json": {
       "model_id": "91ef1d20729e41b990f531289a6204db",
       "version_major": 2,
       "version_minor": 0
      },
      "text/plain": [
       "Validation:   0%|          | 0/163 [00:00<?, ?it/s]"
      ]
     },
     "metadata": {},
     "output_type": "display_data"
    },
    {
     "name": "stdout",
     "output_type": "stream",
     "text": [
      "Epoch 1/10, Validation Loss: 2.3553015015607963, Validation Accuracy: 0.1259600614439324\n"
     ]
    },
    {
     "data": {
      "application/vnd.jupyter.widget-view+json": {
       "model_id": "4d9dfa60b3e74d709babc40e046ca861",
       "version_major": 2,
       "version_minor": 0
      },
      "text/plain": [
       "Epoch 2/10:   0%|          | 0/6187 [00:00<?, ?it/s]"
      ]
     },
     "metadata": {},
     "output_type": "display_data"
    },
    {
     "name": "stdout",
     "output_type": "stream",
     "text": [
      "Epoch 2/10, Train Loss: 2.333907917337\n"
     ]
    },
    {
     "data": {
      "application/vnd.jupyter.widget-view+json": {
       "model_id": "6fa23a48b97b4240b7db4eefab8e2b86",
       "version_major": 2,
       "version_minor": 0
      },
      "text/plain": [
       "Validation:   0%|          | 0/163 [00:00<?, ?it/s]"
      ]
     },
     "metadata": {},
     "output_type": "display_data"
    },
    {
     "name": "stdout",
     "output_type": "stream",
     "text": [
      "Epoch 2/10, Validation Loss: 2.3086466116407895, Validation Accuracy: 0.1889400921658986\n"
     ]
    },
    {
     "data": {
      "application/vnd.jupyter.widget-view+json": {
       "model_id": "7fffae8582914ac599ae53d08b5d1594",
       "version_major": 2,
       "version_minor": 0
      },
      "text/plain": [
       "Epoch 3/10:   0%|          | 0/6187 [00:00<?, ?it/s]"
      ]
     },
     "metadata": {},
     "output_type": "display_data"
    },
    {
     "name": "stdout",
     "output_type": "stream",
     "text": [
      "Epoch 3/10, Train Loss: 2.292363114458728\n"
     ]
    },
    {
     "data": {
      "application/vnd.jupyter.widget-view+json": {
       "model_id": "b0ac64945d704a858cfec7ac699911fe",
       "version_major": 2,
       "version_minor": 0
      },
      "text/plain": [
       "Validation:   0%|          | 0/163 [00:00<?, ?it/s]"
      ]
     },
     "metadata": {},
     "output_type": "display_data"
    },
    {
     "name": "stdout",
     "output_type": "stream",
     "text": [
      "Epoch 3/10, Validation Loss: 2.2666739583746787, Validation Accuracy: 0.2196620583717358\n"
     ]
    },
    {
     "data": {
      "application/vnd.jupyter.widget-view+json": {
       "model_id": "2018cd468f8f40279172548c52bf31c6",
       "version_major": 2,
       "version_minor": 0
      },
      "text/plain": [
       "Epoch 4/10:   0%|          | 0/6187 [00:00<?, ?it/s]"
      ]
     },
     "metadata": {},
     "output_type": "display_data"
    },
    {
     "name": "stdout",
     "output_type": "stream",
     "text": [
      "Epoch 4/10, Train Loss: 2.2485916636690333\n"
     ]
    },
    {
     "data": {
      "application/vnd.jupyter.widget-view+json": {
       "model_id": "a8ec7286f889497fa582058d1ef11219",
       "version_major": 2,
       "version_minor": 0
      },
      "text/plain": [
       "Validation:   0%|          | 0/163 [00:00<?, ?it/s]"
      ]
     },
     "metadata": {},
     "output_type": "display_data"
    },
    {
     "name": "stdout",
     "output_type": "stream",
     "text": [
      "Epoch 4/10, Validation Loss: 2.2185515004433007, Validation Accuracy: 0.2457757296466974\n"
     ]
    },
    {
     "data": {
      "application/vnd.jupyter.widget-view+json": {
       "model_id": "ac2af82862b444daa9e3009f2560eea4",
       "version_major": 2,
       "version_minor": 0
      },
      "text/plain": [
       "Epoch 5/10:   0%|          | 0/6187 [00:00<?, ?it/s]"
      ]
     },
     "metadata": {},
     "output_type": "display_data"
    },
    {
     "name": "stdout",
     "output_type": "stream",
     "text": [
      "Epoch 5/10, Train Loss: 2.200923891835901\n"
     ]
    },
    {
     "data": {
      "application/vnd.jupyter.widget-view+json": {
       "model_id": "317b3f7d35dd45bb91757cef720714d1",
       "version_major": 2,
       "version_minor": 0
      },
      "text/plain": [
       "Validation:   0%|          | 0/163 [00:00<?, ?it/s]"
      ]
     },
     "metadata": {},
     "output_type": "display_data"
    },
    {
     "name": "stdout",
     "output_type": "stream",
     "text": [
      "Epoch 5/10, Validation Loss: 2.1709755066713674, Validation Accuracy: 0.30721966205837176\n"
     ]
    },
    {
     "data": {
      "application/vnd.jupyter.widget-view+json": {
       "model_id": "f34eeac3a4bf4c878eca56001f4ec6bc",
       "version_major": 2,
       "version_minor": 0
      },
      "text/plain": [
       "Epoch 6/10:   0%|          | 0/6187 [00:00<?, ?it/s]"
      ]
     },
     "metadata": {},
     "output_type": "display_data"
    },
    {
     "name": "stdout",
     "output_type": "stream",
     "text": [
      "Epoch 6/10, Train Loss: 2.1472090072117003\n"
     ]
    },
    {
     "data": {
      "application/vnd.jupyter.widget-view+json": {
       "model_id": "9cea85ff76964f37a6caef2a0eefb573",
       "version_major": 2,
       "version_minor": 0
      },
      "text/plain": [
       "Validation:   0%|          | 0/163 [00:00<?, ?it/s]"
      ]
     },
     "metadata": {},
     "output_type": "display_data"
    },
    {
     "name": "stdout",
     "output_type": "stream",
     "text": [
      "Epoch 6/10, Validation Loss: 2.1031681277269234, Validation Accuracy: 0.3778801843317972\n"
     ]
    },
    {
     "data": {
      "application/vnd.jupyter.widget-view+json": {
       "model_id": "5d0fed7024b5498281f51b2d6efe4804",
       "version_major": 2,
       "version_minor": 0
      },
      "text/plain": [
       "Epoch 7/10:   0%|          | 0/6187 [00:00<?, ?it/s]"
      ]
     },
     "metadata": {},
     "output_type": "display_data"
    },
    {
     "name": "stdout",
     "output_type": "stream",
     "text": [
      "Epoch 7/10, Train Loss: 2.087376982999653\n"
     ]
    },
    {
     "data": {
      "application/vnd.jupyter.widget-view+json": {
       "model_id": "e7068be3a68b42c493e8e1fa6818dc4d",
       "version_major": 2,
       "version_minor": 0
      },
      "text/plain": [
       "Validation:   0%|          | 0/163 [00:00<?, ?it/s]"
      ]
     },
     "metadata": {},
     "output_type": "display_data"
    },
    {
     "name": "stdout",
     "output_type": "stream",
     "text": [
      "Epoch 7/10, Validation Loss: 2.0406983110802304, Validation Accuracy: 0.402457757296467\n"
     ]
    },
    {
     "data": {
      "application/vnd.jupyter.widget-view+json": {
       "model_id": "03f6410061744224b288f129e53e2704",
       "version_major": 2,
       "version_minor": 0
      },
      "text/plain": [
       "Epoch 8/10:   0%|          | 0/6187 [00:00<?, ?it/s]"
      ]
     },
     "metadata": {},
     "output_type": "display_data"
    },
    {
     "name": "stdout",
     "output_type": "stream",
     "text": [
      "Epoch 8/10, Train Loss: 2.0231860663175234\n"
     ]
    },
    {
     "data": {
      "application/vnd.jupyter.widget-view+json": {
       "model_id": "196f81402f344ebdb6f57ceb644975ab",
       "version_major": 2,
       "version_minor": 0
      },
      "text/plain": [
       "Validation:   0%|          | 0/163 [00:00<?, ?it/s]"
      ]
     },
     "metadata": {},
     "output_type": "display_data"
    },
    {
     "name": "stdout",
     "output_type": "stream",
     "text": [
      "Epoch 8/10, Validation Loss: 1.9749294029423063, Validation Accuracy: 0.4377880184331797\n"
     ]
    },
    {
     "data": {
      "application/vnd.jupyter.widget-view+json": {
       "model_id": "6743166f6a0447528a3498417ccb9c00",
       "version_major": 2,
       "version_minor": 0
      },
      "text/plain": [
       "Epoch 9/10:   0%|          | 0/6187 [00:00<?, ?it/s]"
      ]
     },
     "metadata": {},
     "output_type": "display_data"
    },
    {
     "name": "stdout",
     "output_type": "stream",
     "text": [
      "Epoch 9/10, Train Loss: 1.9594400854859846\n"
     ]
    },
    {
     "data": {
      "application/vnd.jupyter.widget-view+json": {
       "model_id": "e893fc0c722343eb861f30b41627f8a5",
       "version_major": 2,
       "version_minor": 0
      },
      "text/plain": [
       "Validation:   0%|          | 0/163 [00:00<?, ?it/s]"
      ]
     },
     "metadata": {},
     "output_type": "display_data"
    },
    {
     "name": "stdout",
     "output_type": "stream",
     "text": [
      "Epoch 9/10, Validation Loss: 1.9083336145599927, Validation Accuracy: 0.46543778801843316\n"
     ]
    },
    {
     "data": {
      "application/vnd.jupyter.widget-view+json": {
       "model_id": "93cdad25212d467fb203e31e215dc2b8",
       "version_major": 2,
       "version_minor": 0
      },
      "text/plain": [
       "Epoch 10/10:   0%|          | 0/6187 [00:00<?, ?it/s]"
      ]
     },
     "metadata": {},
     "output_type": "display_data"
    },
    {
     "name": "stdout",
     "output_type": "stream",
     "text": [
      "Epoch 10/10, Train Loss: 1.886536799707223\n"
     ]
    },
    {
     "data": {
      "application/vnd.jupyter.widget-view+json": {
       "model_id": "c6292d3085dc4db7ba46b41c1bbfbd9d",
       "version_major": 2,
       "version_minor": 0
      },
      "text/plain": [
       "Validation:   0%|          | 0/163 [00:00<?, ?it/s]"
      ]
     },
     "metadata": {},
     "output_type": "display_data"
    },
    {
     "name": "stdout",
     "output_type": "stream",
     "text": [
      "Epoch 10/10, Validation Loss: 1.8521473612522055, Validation Accuracy: 0.4930875576036866\n"
     ]
    },
    {
     "data": {
      "application/vnd.jupyter.widget-view+json": {
       "model_id": "96c4d68f1d9949cd9eb6a776176dbcda",
       "version_major": 2,
       "version_minor": 0
      },
      "text/plain": [
       "Testing:   0%|          | 0/163 [00:00<?, ?it/s]"
      ]
     },
     "metadata": {},
     "output_type": "display_data"
    },
    {
     "name": "stdout",
     "output_type": "stream",
     "text": [
      "{'val_acc': [0.1259600614439324, 0.1889400921658986, 0.2196620583717358, 0.2457757296466974, 0.30721966205837176, 0.3778801843317972, 0.402457757296467, 0.4377880184331797, 0.46543778801843316, 0.4930875576036866], 'val_loss': [2.3553015015607963, 2.3086466116407895, 2.2666739583746787, 2.2185515004433007, 2.1709755066713674, 2.1031681277269234, 2.0406983110802304, 1.9749294029423063, 1.9083336145599927, 1.8521473612522055], 'train_loss': [2.381472232404579, 2.333907917337, 2.292363114458728, 2.2485916636690333, 2.200923891835901, 2.1472090072117003, 2.087376982999653, 2.0231860663175234, 1.9594400854859846, 1.886536799707223], 'test_correct_in_batch': [1.0, 2.0, 1.0, 2.0, 3.0, 2.0, 1.0, 2.0, 4.0, 3.0, 3.0, 2.0, 1.0, 3.0, 4.0, 3.0, 2.0, 2.0, 2.0, 2.0, 1.0, 2.0, 2.0, 2.0, 1.0, 3.0, 3.0, 2.0, 4.0, 2.0, 0.0, 3.0, 1.0, 4.0, 2.0, 4.0, 2.0, 1.0, 2.0, 3.0, 2.0, 1.0, 2.0, 3.0, 1.0, 3.0, 2.0, 2.0, 2.0, 3.0, 3.0, 1.0, 1.0, 0.0, 1.0, 3.0, 3.0, 4.0, 2.0, 3.0, 2.0, 3.0, 1.0, 3.0, 2.0, 2.0, 2.0, 3.0, 2.0, 3.0, 0.0, 1.0, 1.0, 1.0, 1.0, 1.0, 1.0, 3.0, 1.0, 1.0, 2.0, 2.0, 1.0, 1.0, 1.0, 2.0, 1.0, 2.0, 1.0, 1.0, 2.0, 2.0, 0.0, 4.0, 2.0, 2.0, 2.0, 2.0, 2.0, 4.0, 0.0, 4.0, 3.0, 3.0, 2.0, 1.0, 2.0, 1.0, 2.0, 2.0, 3.0, 2.0, 3.0, 3.0, 2.0, 2.0, 1.0, 1.0, 1.0, 0.0, 3.0, 2.0, 2.0, 1.0, 4.0, 2.0, 2.0, 4.0, 2.0, 1.0, 2.0, 2.0, 3.0, 0.0, 0.0, 2.0, 3.0, 2.0, 1.0, 1.0, 2.0, 2.0, 0.0, 2.0, 3.0, 3.0, 2.0, 2.0, 1.0, 3.0, 0.0, 1.0, 2.0, 2.0, 1.0, 2.0, 3.0, 2.0, 2.0, 1.0, 3.0, 0.0, 2.0], 'test_losses': [1.9652326107025146, 2.1170692443847656, 1.9667489528656006, 1.757738709449768, 1.712775468826294, 1.8854793310165405, 2.121333599090576, 1.931755542755127, 1.6476702690124512, 1.5770756006240845, 1.7429296970367432, 1.8885002136230469, 2.1822352409362793, 1.6098542213439941, 1.7019426822662354, 2.0368049144744873, 1.8925830125808716, 1.9507319927215576, 1.9970552921295166, 2.1405725479125977, 1.91647469997406, 1.8223272562026978, 2.0538525581359863, 1.8946244716644287, 2.089425563812256, 1.4993541240692139, 1.721484899520874, 2.065883159637451, 1.5878019332885742, 1.7425647974014282, 2.4166040420532227, 1.6655457019805908, 1.8478790521621704, 1.5665788650512695, 1.8577014207839966, 1.555600643157959, 1.797957420349121, 1.903005599975586, 1.847448706626892, 1.6803438663482666, 2.000211238861084, 1.771155595779419, 1.9098169803619385, 1.8638427257537842, 1.8510024547576904, 1.4150625467300415, 1.8902637958526611, 1.908326268196106, 1.8992822170257568, 1.8183910846710205, 1.7836591005325317, 2.015612840652466, 2.0320253372192383, 2.1707093715667725, 1.9916212558746338, 1.7792351245880127, 1.6207116842269897, 1.5840411186218262, 1.7290558815002441, 1.565578579902649, 1.5476151704788208, 1.7491968870162964, 1.8587868213653564, 1.5818816423416138, 1.8122968673706055, 1.8307667970657349, 1.8053752183914185, 1.8499622344970703, 1.877766728401184, 2.1136040687561035, 2.3620409965515137, 2.0847153663635254, 1.8351435661315918, 1.928863525390625, 1.967803716659546, 1.964461326599121, 1.9983258247375488, 1.7234325408935547, 2.1255383491516113, 1.7231611013412476, 1.8038748502731323, 1.9150534868240356, 1.8519721031188965, 2.028470039367676, 2.0627593994140625, 1.6493700742721558, 1.859013319015503, 1.5724432468414307, 1.7014052867889404, 2.3036813735961914, 1.835408329963684, 1.9997293949127197, 2.0696890354156494, 1.6805267333984375, 1.6232402324676514, 1.8749198913574219, 1.8639930486679077, 2.2808992862701416, 1.6938055753707886, 1.6596920490264893, 2.176464557647705, 1.5189580917358398, 1.9127882719039917, 1.754220724105835, 1.671873927116394, 2.09224796295166, 1.8445861339569092, 1.9025342464447021, 1.918158769607544, 1.7518417835235596, 1.6597119569778442, 1.6324152946472168, 1.7973321676254272, 1.6961661577224731, 1.9563465118408203, 1.843665599822998, 1.9483492374420166, 1.9259085655212402, 2.0719199180603027, 2.2303764820098877, 1.6588108539581299, 1.8806320428848267, 1.8510422706604004, 1.8470677137374878, 1.60643470287323, 1.747317910194397, 1.9727222919464111, 1.6449875831604004, 2.1149120330810547, 1.8000271320343018, 1.6749616861343384, 1.681556224822998, 1.8676223754882812, 2.132272243499756, 2.0995020866394043, 1.996302843093872, 1.8129098415374756, 1.9251470565795898, 2.3180508613586426, 2.1791019439697266, 1.9163968563079834, 2.1202852725982666, 2.2395336627960205, 1.9061028957366943, 1.8289613723754883, 1.8025541305541992, 1.9461084604263306, 1.9407787322998047, 2.041351079940796, 1.6727166175842285, 2.080836296081543, 1.9797168970108032, 1.7305717468261719, 1.7999160289764404, 1.9378695487976074, 1.8967312574386597, 1.6642804145812988, 1.8487697839736938, 1.7473368644714355, 1.9410839080810547, 1.6991454362869263, 2.028500556945801, 1.8368563652038574], 'test_loss': 1.8696471833012587, 'test_batch_lens': [4, 4, 4, 4, 4, 4, 4, 4, 4, 4, 4, 4, 4, 4, 4, 4, 4, 4, 4, 4, 4, 4, 4, 4, 4, 4, 4, 4, 4, 4, 4, 4, 4, 4, 4, 4, 4, 4, 4, 4, 4, 4, 4, 4, 4, 4, 4, 4, 4, 4, 4, 4, 4, 4, 4, 4, 4, 4, 4, 4, 4, 4, 4, 4, 4, 4, 4, 4, 4, 4, 4, 4, 4, 4, 4, 4, 4, 4, 4, 4, 4, 4, 4, 4, 4, 4, 4, 4, 4, 4, 4, 4, 4, 4, 4, 4, 4, 4, 4, 4, 4, 4, 4, 4, 4, 4, 4, 4, 4, 4, 4, 4, 4, 4, 4, 4, 4, 4, 4, 4, 4, 4, 4, 4, 4, 4, 4, 4, 4, 4, 4, 4, 4, 4, 4, 4, 4, 4, 4, 4, 4, 4, 4, 4, 4, 4, 4, 4, 4, 4, 4, 4, 4, 4, 4, 4, 4, 4, 4, 4, 4, 4, 3], 'test_accuracy': 0.49001536098310294, 'predictions': [7, 9, 3, 3, 7, 1, 10, 3, 3, 0, 9, 7, 3, 9, 3, 6, 9, 6, 9, 9, 6, 10, 3, 4, 6, 7, 7, 3, 6, 6, 2, 5, 1, 9, 6, 3, 10, 5, 5, 3, 10, 3, 9, 10, 7, 6, 9, 3, 3, 6, 0, 9, 3, 9, 6, 1, 1, 9, 1, 10, 10, 6, 7, 6, 5, 10, 10, 5, 6, 0, 3, 1, 10, 3, 1, 0, 6, 3, 9, 1, 1, 1, 1, 3, 5, 3, 1, 3, 3, 0, 9, 10, 10, 7, 0, 3, 3, 3, 5, 7, 5, 3, 10, 6, 10, 6, 3, 9, 10, 9, 7, 7, 0, 3, 7, 6, 0, 10, 0, 3, 9, 10, 3, 0, 5, 3, 7, 9, 3, 7, 9, 3, 10, 10, 7, 9, 7, 3, 9, 0, 10, 3, 3, 9, 9, 7, 9, 7, 10, 10, 6, 9, 10, 0, 3, 0, 10, 5, 9, 7, 7, 9, 10, 9, 10, 5, 10, 3, 3, 0, 9, 3, 10, 7, 6, 6, 3, 0, 1, 6, 6, 3, 3, 3, 9, 3, 9, 10, 3, 2, 3, 1, 3, 9, 9, 3, 3, 3, 5, 9, 9, 1, 6, 1, 9, 3, 9, 10, 5, 9, 3, 3, 3, 7, 7, 0, 6, 10, 1, 9, 7, 3, 0, 5, 7, 0, 3, 7, 1, 0, 1, 6, 3, 7, 9, 6, 10, 9, 3, 10, 9, 9, 0, 3, 1, 7, 6, 5, 10, 7, 10, 3, 1, 6, 3, 10, 1, 7, 5, 3, 3, 3, 7, 0, 5, 0, 3, 1, 3, 7, 3, 10, 3, 5, 3, 6, 7, 7, 9, 7, 3, 1, 3, 0, 3, 9, 9, 5, 7, 3, 6, 3, 3, 6, 3, 3, 5, 7, 0, 10, 9, 10, 0, 10, 6, 3, 10, 6, 10, 1, 9, 6, 9, 10, 7, 0, 3, 9, 9, 0, 10, 1, 7, 9, 1, 7, 6, 5, 10, 9, 9, 5, 0, 0, 7, 7, 6, 3, 7, 6, 5, 3, 9, 10, 3, 3, 3, 7, 3, 6, 9, 10, 9, 9, 3, 3, 1, 3, 0, 9, 9, 7, 6, 10, 7, 9, 10, 5, 5, 9, 9, 5, 5, 0, 9, 10, 5, 3, 0, 7, 3, 3, 6, 2, 10, 4, 9, 9, 3, 9, 3, 9, 9, 9, 3, 0, 5, 6, 9, 9, 9, 9, 10, 0, 1, 10, 10, 5, 5, 7, 4, 3, 5, 10, 9, 9, 0, 3, 3, 1, 3, 5, 5, 3, 6, 0, 1, 7, 6, 9, 6, 3, 6, 0, 3, 6, 10, 3, 9, 10, 10, 9, 10, 6, 6, 5, 3, 7, 0, 2, 1, 9, 9, 3, 9, 9, 3, 0, 5, 7, 9, 10, 3, 10, 3, 6, 0, 5, 6, 9, 10, 3, 1, 3, 0, 6, 9, 0, 6, 3, 9, 9, 3, 7, 6, 9, 7, 3, 9, 3, 6, 9, 0, 7, 6, 9, 3, 0, 1, 3, 1, 6, 3, 9, 0, 3, 3, 3, 0, 1, 7, 10, 5, 10, 0, 5, 5, 9, 3, 3, 9, 5, 0, 9, 5, 9, 9, 3, 9, 7, 7, 6, 3, 10, 3, 0, 5, 6, 3, 6, 9, 1, 3, 5, 6, 0, 9, 7, 0, 4, 6, 9, 9, 10, 10, 3, 10, 3, 7, 0, 10, 7, 9, 0, 10, 3, 9, 0, 6, 10, 9, 3, 10, 10, 7, 7, 9, 6, 10, 6, 6, 7, 7, 9, 7, 9, 9, 9, 3, 0, 7, 5, 3, 9, 3, 4, 0, 7, 0, 0, 9, 9, 6, 9, 7, 6, 5, 6, 1, 5, 0, 3, 3, 7, 7, 1, 9, 9, 2, 10, 10, 9, 1, 3, 3, 9, 1, 9, 3, 10, 9, 3, 9, 9, 9, 3, 3, 3, 9, 0, 6, 6, 1, 7, 9, 3, 10, 2, 6, 6, 7], 'real_labels': [7, 4, 1, 10, 7, 1, 8, 8, 0, 8, 4, 7, 1, 9, 3, 0, 9, 6, 4, 9, 8, 10, 1, 4, 6, 8, 8, 6, 6, 8, 2, 1, 1, 9, 6, 3, 10, 5, 5, 0, 10, 3, 2, 10, 7, 8, 4, 3, 3, 8, 9, 4, 3, 4, 6, 1, 1, 9, 1, 10, 10, 6, 1, 6, 5, 5, 8, 5, 8, 1, 3, 1, 1, 3, 1, 8, 6, 8, 9, 2, 3, 1, 3, 1, 5, 5, 1, 8, 0, 4, 9, 10, 10, 7, 1, 5, 1, 8, 2, 7, 5, 1, 10, 6, 10, 8, 3, 9, 10, 4, 7, 1, 0, 3, 7, 6, 0, 8, 0, 0, 4, 8, 7, 6, 5, 1, 7, 9, 6, 7, 4, 0, 10, 10, 7, 9, 4, 1, 9, 0, 10, 3, 3, 9, 4, 7, 4, 7, 2, 10, 2, 4, 10, 10, 1, 0, 10, 5, 4, 7, 8, 9, 10, 4, 2, 3, 10, 5, 8, 0, 9, 0, 10, 7, 6, 8, 0, 8, 1, 2, 6, 3, 5, 3, 9, 3, 4, 8, 3, 2, 0, 2, 0, 9, 9, 8, 1, 3, 5, 9, 8, 1, 6, 1, 4, 3, 4, 8, 3, 9, 5, 6, 2, 5, 4, 5, 2, 10, 8, 4, 7, 3, 0, 6, 7, 0, 5, 7, 1, 0, 1, 6, 3, 7, 7, 2, 10, 4, 3, 10, 9, 4, 3, 3, 1, 7, 8, 5, 2, 4, 10, 1, 1, 2, 3, 10, 6, 9, 5, 3, 3, 10, 7, 1, 5, 1, 8, 1, 8, 7, 3, 10, 3, 5, 2, 2, 7, 3, 9, 7, 6, 8, 8, 10, 2, 4, 2, 5, 5, 3, 8, 0, 8, 6, 0, 1, 2, 7, 3, 2, 4, 10, 8, 6, 6, 0, 2, 7, 10, 1, 7, 6, 9, 2, 5, 2, 0, 9, 4, 3, 2, 6, 7, 9, 1, 8, 8, 5, 2, 9, 4, 1, 1, 8, 4, 7, 1, 2, 7, 2, 5, 0, 7, 10, 5, 0, 5, 7, 3, 6, 4, 6, 4, 9, 5, 1, 8, 3, 7, 7, 4, 4, 6, 10, 8, 9, 8, 5, 6, 7, 4, 0, 5, 0, 9, 10, 5, 0, 3, 7, 3, 1, 8, 2, 2, 4, 4, 9, 3, 7, 9, 9, 9, 4, 0, 0, 5, 6, 9, 9, 7, 7, 6, 9, 1, 10, 10, 5, 5, 7, 3, 3, 5, 10, 9, 7, 2, 3, 1, 1, 0, 5, 4, 1, 2, 0, 1, 8, 8, 4, 8, 3, 8, 0, 3, 2, 2, 3, 7, 10, 10, 4, 10, 6, 6, 5, 0, 9, 8, 2, 1, 9, 9, 5, 9, 9, 1, 3, 5, 7, 9, 10, 1, 8, 1, 6, 3, 8, 2, 4, 10, 1, 1, 2, 8, 2, 4, 8, 2, 5, 9, 9, 0, 7, 6, 9, 2, 0, 2, 8, 6, 9, 3, 7, 2, 4, 3, 0, 1, 3, 9, 6, 3, 4, 6, 3, 3, 5, 0, 1, 7, 10, 4, 10, 2, 5, 5, 7, 5, 1, 4, 5, 0, 4, 5, 4, 9, 5, 9, 7, 7, 2, 0, 2, 4, 3, 2, 9, 1, 8, 9, 1, 8, 8, 2, 0, 9, 7, 6, 9, 6, 9, 0, 10, 8, 8, 4, 1, 7, 3, 2, 7, 9, 6, 7, 8, 9, 0, 8, 2, 10, 5, 2, 10, 8, 7, 9, 6, 8, 6, 6, 4, 7, 9, 7, 8, 4, 9, 3, 3, 7, 4, 1, 7, 5, 4, 0, 7, 8, 0, 7, 4, 5, 5, 4, 8, 6, 6, 1, 5, 3, 0, 1, 4, 7, 1, 9, 4, 6, 6, 10, 7, 1, 0, 3, 9, 1, 4, 3, 10, 7, 8, 9, 9, 4, 0, 2, 3, 7, 8, 6, 8, 1, 7, 4, 0, 2, 0, 8, 6, 7], 'label_to_index': {'down': 0, 'go': 1, 'left': 2, 'no': 3, 'off': 4, 'on': 5, 'right': 6, 'stop': 7, 'unknown': 8, 'up': 9, 'yes': 10}}\n",
      "Test Loss: 1.8696471833012587, Test Accuracy: 0.49001536098310294\n"
     ]
    },
    {
     "data": {
      "application/vnd.jupyter.widget-view+json": {
       "model_id": "8439838523394330bd49bdfda10f21f3",
       "version_major": 2,
       "version_minor": 0
      },
      "text/plain": [
       "Training loop (5 times):   0%|          | 0/5 [00:00<?, ?it/s]"
      ]
     },
     "metadata": {},
     "output_type": "display_data"
    },
    {
     "name": "stderr",
     "output_type": "stream",
     "text": [
      "Some weights of the model checkpoint at superb/wav2vec2-base-superb-ks were not used when initializing Wav2Vec2ForSequenceClassification: ['wav2vec2.encoder.pos_conv_embed.conv.weight_g', 'wav2vec2.encoder.pos_conv_embed.conv.weight_v']\n",
      "- This IS expected if you are initializing Wav2Vec2ForSequenceClassification from the checkpoint of a model trained on another task or with another architecture (e.g. initializing a BertForSequenceClassification model from a BertForPreTraining model).\n",
      "- This IS NOT expected if you are initializing Wav2Vec2ForSequenceClassification from the checkpoint of a model that you expect to be exactly identical (initializing a BertForSequenceClassification model from a BertForSequenceClassification model).\n",
      "Some weights of Wav2Vec2ForSequenceClassification were not initialized from the model checkpoint at superb/wav2vec2-base-superb-ks and are newly initialized: ['wav2vec2.encoder.pos_conv_embed.conv.parametrizations.weight.original0', 'wav2vec2.encoder.pos_conv_embed.conv.parametrizations.weight.original1']\n",
      "You should probably TRAIN this model on a down-stream task to be able to use it for predictions and inference.\n"
     ]
    },
    {
     "data": {
      "application/vnd.jupyter.widget-view+json": {
       "model_id": "fa3887d0b48549568d20447a6eb5c83f",
       "version_major": 2,
       "version_minor": 0
      },
      "text/plain": [
       "Epoch 1/10:   0%|          | 0/6187 [00:00<?, ?it/s]"
      ]
     },
     "metadata": {},
     "output_type": "display_data"
    },
    {
     "name": "stdout",
     "output_type": "stream",
     "text": [
      "Epoch 1/10, Train Loss: 2.205971899798677\n"
     ]
    },
    {
     "data": {
      "application/vnd.jupyter.widget-view+json": {
       "model_id": "46480eabe9c74709845d2d02e3946bb8",
       "version_major": 2,
       "version_minor": 0
      },
      "text/plain": [
       "Validation:   0%|          | 0/163 [00:00<?, ?it/s]"
      ]
     },
     "metadata": {},
     "output_type": "display_data"
    },
    {
     "name": "stdout",
     "output_type": "stream",
     "text": [
      "Epoch 1/10, Validation Loss: 1.9369981032939045, Validation Accuracy: 0.4715821812596006\n"
     ]
    },
    {
     "data": {
      "application/vnd.jupyter.widget-view+json": {
       "model_id": "03fcc19ff71d4f9da1ee532557399a77",
       "version_major": 2,
       "version_minor": 0
      },
      "text/plain": [
       "Epoch 2/10:   0%|          | 0/6187 [00:00<?, ?it/s]"
      ]
     },
     "metadata": {},
     "output_type": "display_data"
    },
    {
     "name": "stdout",
     "output_type": "stream",
     "text": [
      "Epoch 2/10, Train Loss: 1.656254380146598\n"
     ]
    },
    {
     "data": {
      "application/vnd.jupyter.widget-view+json": {
       "model_id": "a5df196efcc543d39c8c771de275e90a",
       "version_major": 2,
       "version_minor": 0
      },
      "text/plain": [
       "Validation:   0%|          | 0/163 [00:00<?, ?it/s]"
      ]
     },
     "metadata": {},
     "output_type": "display_data"
    },
    {
     "name": "stdout",
     "output_type": "stream",
     "text": [
      "Epoch 2/10, Validation Loss: 1.338407755263744, Validation Accuracy: 0.6912442396313364\n"
     ]
    },
    {
     "data": {
      "application/vnd.jupyter.widget-view+json": {
       "model_id": "4370c0fa03f8461aacc60d4a4502ccab",
       "version_major": 2,
       "version_minor": 0
      },
      "text/plain": [
       "Epoch 3/10:   0%|          | 0/6187 [00:00<?, ?it/s]"
      ]
     },
     "metadata": {},
     "output_type": "display_data"
    },
    {
     "name": "stdout",
     "output_type": "stream",
     "text": [
      "Epoch 3/10, Train Loss: 1.0999979634402122\n"
     ]
    },
    {
     "data": {
      "application/vnd.jupyter.widget-view+json": {
       "model_id": "585f019f352548799ba0bc8e762982e0",
       "version_major": 2,
       "version_minor": 0
      },
      "text/plain": [
       "Validation:   0%|          | 0/163 [00:00<?, ?it/s]"
      ]
     },
     "metadata": {},
     "output_type": "display_data"
    },
    {
     "name": "stdout",
     "output_type": "stream",
     "text": [
      "Epoch 3/10, Validation Loss: 0.8710057550778418, Validation Accuracy: 0.8218125960061444\n"
     ]
    },
    {
     "data": {
      "application/vnd.jupyter.widget-view+json": {
       "model_id": "074382a996a04dadb3a9d739f5f37428",
       "version_major": 2,
       "version_minor": 0
      },
      "text/plain": [
       "Epoch 4/10:   0%|          | 0/6187 [00:00<?, ?it/s]"
      ]
     },
     "metadata": {},
     "output_type": "display_data"
    },
    {
     "name": "stdout",
     "output_type": "stream",
     "text": [
      "Epoch 4/10, Train Loss: 0.7371002848783795\n"
     ]
    },
    {
     "data": {
      "application/vnd.jupyter.widget-view+json": {
       "model_id": "6af16f3ea75744ba92205abe1bfa9d5f",
       "version_major": 2,
       "version_minor": 0
      },
      "text/plain": [
       "Validation:   0%|          | 0/163 [00:00<?, ?it/s]"
      ]
     },
     "metadata": {},
     "output_type": "display_data"
    },
    {
     "ename": "KeyboardInterrupt",
     "evalue": "",
     "output_type": "error",
     "traceback": [
      "\u001b[1;31m---------------------------------------------------------------------------\u001b[0m",
      "\u001b[1;31mKeyboardInterrupt\u001b[0m                         Traceback (most recent call last)",
      "Cell \u001b[1;32mIn[18], line 59\u001b[0m\n\u001b[0;32m     57\u001b[0m name \u001b[38;5;241m=\u001b[39m data_dir\u001b[38;5;241m.\u001b[39msplit(\u001b[38;5;124m\"\u001b[39m\u001b[38;5;124m/\u001b[39m\u001b[38;5;124m\"\u001b[39m)[\u001b[38;5;241m-\u001b[39m\u001b[38;5;241m2\u001b[39m]\n\u001b[0;32m     58\u001b[0m \u001b[38;5;66;03m# print(name)\u001b[39;00m\n\u001b[1;32m---> 59\u001b[0m log_dir \u001b[38;5;241m=\u001b[39m \u001b[43mtrain\u001b[49m\u001b[43m(\u001b[49m\u001b[43mmodel\u001b[49m\u001b[43m,\u001b[49m\u001b[43m \u001b[49m\u001b[43mtrain_loader\u001b[49m\u001b[43m,\u001b[49m\u001b[43m \u001b[49m\u001b[43mval_loader\u001b[49m\u001b[43m,\u001b[49m\u001b[43m \u001b[49m\u001b[43mnum_epochs\u001b[49m\u001b[43m,\u001b[49m\u001b[43m \u001b[49m\u001b[43moptimizer\u001b[49m\u001b[43m,\u001b[49m\u001b[43m \u001b[49m\u001b[43mcriterion\u001b[49m\u001b[43m,\u001b[49m\u001b[43m \u001b[49m\u001b[43mdevice\u001b[49m\u001b[43m,\u001b[49m\u001b[43m \u001b[49m\u001b[43mlabel_to_index\u001b[49m\u001b[43m,\u001b[49m\u001b[43m \u001b[49m\u001b[43monly_name\u001b[49m\u001b[43m,\u001b[49m\u001b[43m \u001b[49m\u001b[43mlog\u001b[49m\u001b[38;5;241;43m=\u001b[39;49m\u001b[38;5;28;43;01mTrue\u001b[39;49;00m\u001b[43m,\u001b[49m\u001b[43m \u001b[49m\u001b[43mdescription\u001b[49m\u001b[38;5;241;43m=\u001b[39;49m\u001b[38;5;124;43mf\u001b[39;49m\u001b[38;5;124;43m\"\u001b[39;49m\u001b[38;5;124;43mtest_\u001b[39;49m\u001b[38;5;132;43;01m{\u001b[39;49;00m\u001b[43mname\u001b[49m\u001b[38;5;132;43;01m}\u001b[39;49;00m\u001b[38;5;124;43m_opt_\u001b[39;49m\u001b[38;5;132;43;01m{\u001b[39;49;00m\u001b[43mopt\u001b[49m\u001b[38;5;132;43;01m}\u001b[39;49;00m\u001b[38;5;124;43m_lr_\u001b[39;49m\u001b[38;5;132;43;01m{\u001b[39;49;00m\u001b[43mlr\u001b[49m\u001b[38;5;132;43;01m}\u001b[39;49;00m\u001b[38;5;124;43m_\u001b[39;49m\u001b[38;5;132;43;01m{\u001b[39;49;00m\u001b[43mi\u001b[49m\u001b[38;5;132;43;01m}\u001b[39;49;00m\u001b[38;5;124;43m\"\u001b[39;49m\u001b[43m)\u001b[49m\n\u001b[0;32m     60\u001b[0m test(model, test_loader, criterion, device, label_to_index, only_name, log_dir)\n",
      "File \u001b[1;32md:\\Dokumenty\\AAA_PW\\Sem8\\2024L_DeepLearning_P2\\src\\utils.py:114\u001b[0m, in \u001b[0;36mtrain\u001b[1;34m(model, train_loader, val_loader, num_epochs, optimizer, criterion, device, label_to_index, only_name, log, description)\u001b[0m\n\u001b[0;32m    112\u001b[0m val_losses \u001b[38;5;241m=\u001b[39m []\n\u001b[0;32m    113\u001b[0m val_accuracies \u001b[38;5;241m=\u001b[39m []\n\u001b[1;32m--> 114\u001b[0m \u001b[38;5;28;01mfor\u001b[39;00m waveforms, sr, labels \u001b[38;5;129;01min\u001b[39;00m tqdm(val_loader, total\u001b[38;5;241m=\u001b[39m\u001b[38;5;28mlen\u001b[39m(val_loader), desc\u001b[38;5;241m=\u001b[39m\u001b[38;5;124mf\u001b[39m\u001b[38;5;124m\"\u001b[39m\u001b[38;5;124mValidation\u001b[39m\u001b[38;5;124m\"\u001b[39m):\n\u001b[0;32m    115\u001b[0m     waveforms \u001b[38;5;241m=\u001b[39m waveforms\u001b[38;5;241m.\u001b[39mto(device)\n\u001b[0;32m    116\u001b[0m     outputs \u001b[38;5;241m=\u001b[39m model(waveforms\u001b[38;5;241m.\u001b[39msqueeze(\u001b[38;5;241m1\u001b[39m))\n",
      "File \u001b[1;32mc:\\Users\\adamm\\miniconda3\\envs\\torchenv\\lib\\site-packages\\tqdm\\notebook.py:250\u001b[0m, in \u001b[0;36mtqdm_notebook.__iter__\u001b[1;34m(self)\u001b[0m\n\u001b[0;32m    248\u001b[0m \u001b[38;5;28;01mtry\u001b[39;00m:\n\u001b[0;32m    249\u001b[0m     it \u001b[38;5;241m=\u001b[39m \u001b[38;5;28msuper\u001b[39m(tqdm_notebook, \u001b[38;5;28mself\u001b[39m)\u001b[38;5;241m.\u001b[39m\u001b[38;5;21m__iter__\u001b[39m()\n\u001b[1;32m--> 250\u001b[0m     \u001b[38;5;28;01mfor\u001b[39;00m obj \u001b[38;5;129;01min\u001b[39;00m it:\n\u001b[0;32m    251\u001b[0m         \u001b[38;5;66;03m# return super(tqdm...) will not catch exception\u001b[39;00m\n\u001b[0;32m    252\u001b[0m         \u001b[38;5;28;01myield\u001b[39;00m obj\n\u001b[0;32m    253\u001b[0m \u001b[38;5;66;03m# NB: except ... [ as ...] breaks IPython async KeyboardInterrupt\u001b[39;00m\n",
      "File \u001b[1;32mc:\\Users\\adamm\\miniconda3\\envs\\torchenv\\lib\\site-packages\\tqdm\\std.py:1181\u001b[0m, in \u001b[0;36mtqdm.__iter__\u001b[1;34m(self)\u001b[0m\n\u001b[0;32m   1178\u001b[0m time \u001b[38;5;241m=\u001b[39m \u001b[38;5;28mself\u001b[39m\u001b[38;5;241m.\u001b[39m_time\n\u001b[0;32m   1180\u001b[0m \u001b[38;5;28;01mtry\u001b[39;00m:\n\u001b[1;32m-> 1181\u001b[0m     \u001b[38;5;28;01mfor\u001b[39;00m obj \u001b[38;5;129;01min\u001b[39;00m iterable:\n\u001b[0;32m   1182\u001b[0m         \u001b[38;5;28;01myield\u001b[39;00m obj\n\u001b[0;32m   1183\u001b[0m         \u001b[38;5;66;03m# Update and possibly print the progressbar.\u001b[39;00m\n\u001b[0;32m   1184\u001b[0m         \u001b[38;5;66;03m# Note: does not call self.update(1) for speed optimisation.\u001b[39;00m\n",
      "File \u001b[1;32mc:\\Users\\adamm\\miniconda3\\envs\\torchenv\\lib\\site-packages\\torch\\utils\\data\\dataloader.py:627\u001b[0m, in \u001b[0;36m_BaseDataLoaderIter.__next__\u001b[1;34m(self)\u001b[0m\n\u001b[0;32m    626\u001b[0m \u001b[38;5;28;01mdef\u001b[39;00m \u001b[38;5;21m__next__\u001b[39m(\u001b[38;5;28mself\u001b[39m) \u001b[38;5;241m-\u001b[39m\u001b[38;5;241m>\u001b[39m Any:\n\u001b[1;32m--> 627\u001b[0m     \u001b[38;5;28;01mwith\u001b[39;00m torch\u001b[38;5;241m.\u001b[39mautograd\u001b[38;5;241m.\u001b[39mprofiler\u001b[38;5;241m.\u001b[39mrecord_function(\u001b[38;5;28mself\u001b[39m\u001b[38;5;241m.\u001b[39m_profile_name):\n\u001b[0;32m    628\u001b[0m         \u001b[38;5;28;01mif\u001b[39;00m \u001b[38;5;28mself\u001b[39m\u001b[38;5;241m.\u001b[39m_sampler_iter \u001b[38;5;129;01mis\u001b[39;00m \u001b[38;5;28;01mNone\u001b[39;00m:\n\u001b[0;32m    629\u001b[0m             \u001b[38;5;66;03m# TODO(https://github.com/pytorch/pytorch/issues/76750)\u001b[39;00m\n\u001b[0;32m    630\u001b[0m             \u001b[38;5;28mself\u001b[39m\u001b[38;5;241m.\u001b[39m_reset()  \u001b[38;5;66;03m# type: ignore[call-arg]\u001b[39;00m\n",
      "File \u001b[1;32mc:\\Users\\adamm\\miniconda3\\envs\\torchenv\\lib\\site-packages\\torch\\autograd\\profiler.py:605\u001b[0m, in \u001b[0;36mrecord_function.__enter__\u001b[1;34m(self)\u001b[0m\n\u001b[0;32m    604\u001b[0m \u001b[38;5;28;01mdef\u001b[39;00m \u001b[38;5;21m__enter__\u001b[39m(\u001b[38;5;28mself\u001b[39m):\n\u001b[1;32m--> 605\u001b[0m     \u001b[38;5;28mself\u001b[39m\u001b[38;5;241m.\u001b[39mrecord \u001b[38;5;241m=\u001b[39m \u001b[43mtorch\u001b[49m\u001b[38;5;241;43m.\u001b[39;49m\u001b[43mops\u001b[49m\u001b[38;5;241;43m.\u001b[39;49m\u001b[43mprofiler\u001b[49m\u001b[38;5;241;43m.\u001b[39;49m\u001b[43m_record_function_enter_new\u001b[49m\u001b[43m(\u001b[49m\n\u001b[0;32m    606\u001b[0m \u001b[43m        \u001b[49m\u001b[38;5;28;43mself\u001b[39;49m\u001b[38;5;241;43m.\u001b[39;49m\u001b[43mname\u001b[49m\u001b[43m,\u001b[49m\u001b[43m \u001b[49m\u001b[38;5;28;43mself\u001b[39;49m\u001b[38;5;241;43m.\u001b[39;49m\u001b[43margs\u001b[49m\n\u001b[0;32m    607\u001b[0m \u001b[43m    \u001b[49m\u001b[43m)\u001b[49m\n\u001b[0;32m    608\u001b[0m     \u001b[38;5;28;01mreturn\u001b[39;00m \u001b[38;5;28mself\u001b[39m\n",
      "File \u001b[1;32mc:\\Users\\adamm\\miniconda3\\envs\\torchenv\\lib\\site-packages\\torch\\_ops.py:854\u001b[0m, in \u001b[0;36mOpOverloadPacket.__call__\u001b[1;34m(self_, *args, **kwargs)\u001b[0m\n\u001b[0;32m    846\u001b[0m \u001b[38;5;28;01mdef\u001b[39;00m \u001b[38;5;21m__call__\u001b[39m(self_, \u001b[38;5;241m*\u001b[39margs, \u001b[38;5;241m*\u001b[39m\u001b[38;5;241m*\u001b[39mkwargs):  \u001b[38;5;66;03m# noqa: B902\u001b[39;00m\n\u001b[0;32m    847\u001b[0m     \u001b[38;5;66;03m# use `self_` to avoid naming collide with aten ops arguments that\u001b[39;00m\n\u001b[0;32m    848\u001b[0m     \u001b[38;5;66;03m# named \"self\". This way, all the aten ops can be called by kwargs.\u001b[39;00m\n\u001b[1;32m   (...)\u001b[0m\n\u001b[0;32m    852\u001b[0m     \u001b[38;5;66;03m# We save the function ptr as the `op` attribute on\u001b[39;00m\n\u001b[0;32m    853\u001b[0m     \u001b[38;5;66;03m# OpOverloadPacket to access it here.\u001b[39;00m\n\u001b[1;32m--> 854\u001b[0m     \u001b[38;5;28;01mreturn\u001b[39;00m self_\u001b[38;5;241m.\u001b[39m_op(\u001b[38;5;241m*\u001b[39margs, \u001b[38;5;241m*\u001b[39m\u001b[38;5;241m*\u001b[39m(kwargs \u001b[38;5;129;01mor\u001b[39;00m {}))\n",
      "\u001b[1;31mKeyboardInterrupt\u001b[0m: "
     ]
    }
   ],
   "source": [
    "import random\n",
    "import numpy as np\n",
    "\n",
    "for opt in tqdm(optimizers, desc='Optimizers'):\n",
    "    for lr in tqdm(learning_rates, desc=\"Learninig Rates\"):\n",
    "        if opt == 'adam':\n",
    "            continue\n",
    "        if opt == 'sgd' and lr == 0.0001:\n",
    "            continue\n",
    "\n",
    "        for i in tqdm(np.arange (0, 5, 1), desc='Training loop (5 times)'):\n",
    "        \n",
    "            random.seed(int(i))\n",
    "            torch.manual_seed(i)\n",
    "            torch.cuda.manual_seed(i)\n",
    "            torch.cuda.manual_seed_all(i)\n",
    "\n",
    "            \n",
    "        \n",
    "            model = Wav2Vec2ForSequenceClassification.from_pretrained(model_name)\n",
    "\n",
    "            only_name = model_name.split(\"/\")[-1]   \n",
    "\n",
    "            if opt == 'adam':\n",
    "                optimizer = torch.optim.Adam(model.parameters(), lr=lr)\n",
    "            else:\n",
    "                optimizer = torch.optim.SGD(model.parameters(), lr=lr)\n",
    "\n",
    "\n",
    "          \n",
    "            criterion = torch.nn.CrossEntropyLoss()\n",
    "\n",
    "            device = torch.device('cuda')\n",
    "            # Assuming your model is named ast_model\n",
    "            freeze_layers_except_last_n(model.wav2vec2.encoder.layers, 4)\n",
    "\n",
    "            # set number of features to 11\n",
    "            model.classifier = torch.nn.Linear(in_features=256, out_features=num_features, bias=True)\n",
    "\n",
    "            model.to(device)\n",
    "\n",
    "            train_dataset = CustomAudioDataset(data_dir, fixed_length=16000, transform=feature_extractor)\n",
    "                                            \n",
    "\n",
    "\n",
    "            n_train = len(train_dataset)\n",
    "            n_val = int(perc * n_train)\n",
    "            n_test = n_val//2\n",
    "            n_train = n_train - n_val\n",
    "\n",
    "            train_dataset, val_dataset = torch.utils.data.random_split(train_dataset, [n_train, n_val], generator=torch.Generator().manual_seed(42))\n",
    "            val_dataset, test_dataset = torch.utils.data.random_split(val_dataset, [n_val-n_test, n_test], generator=torch.Generator().manual_seed(42))\n",
    "\n",
    "            train_loader = DataLoader(train_dataset, batch_size=batch_size, shuffle=True)\n",
    "            val_loader = DataLoader(val_dataset, batch_size=batch_size, shuffle=False)\n",
    "            test_loader = DataLoader(test_dataset, batch_size=batch_size, shuffle=False)\n",
    "            \n",
    "\n",
    "            labels = set(train_dataset.dataset.labels)\n",
    "            label_to_index = dict((label, i) for i, label in enumerate(sorted(labels)))\n",
    "            name = data_dir.split(\"/\")[-2]\n",
    "            # print(name)\n",
    "            log_dir = train(model, train_loader, val_loader, num_epochs, optimizer, criterion, device, label_to_index, only_name, log=True, description=f\"test_{name}_opt_{opt}_lr_{lr}_{i}\")\n",
    "            test(model, test_loader, criterion, device, label_to_index, only_name, log_dir)\n",
    "\n"
   ]
  },
  {
   "cell_type": "code",
   "execution_count": null,
   "metadata": {},
   "outputs": [],
   "source": []
  }
 ],
 "metadata": {
  "kernelspec": {
   "display_name": "py310",
   "language": "python",
   "name": "python3"
  },
  "language_info": {
   "codemirror_mode": {
    "name": "ipython",
    "version": 3
   },
   "file_extension": ".py",
   "mimetype": "text/x-python",
   "name": "python",
   "nbconvert_exporter": "python",
   "pygments_lexer": "ipython3",
   "version": "3.9.19"
  }
 },
 "nbformat": 4,
 "nbformat_minor": 2
}
