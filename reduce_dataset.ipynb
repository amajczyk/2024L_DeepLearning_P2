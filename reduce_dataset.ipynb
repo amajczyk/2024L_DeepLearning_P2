{
 "cells": [
  {
   "cell_type": "code",
   "execution_count": 51,
   "metadata": {},
   "outputs": [],
   "source": [
    "## since i copied 10 classes by hand, we only need to pick random 23682//10 = 2368 files from the other classes\n",
    "\n",
    "import os\n",
    "import random\n",
    "from tqdm.notebook import tqdm\n",
    "import shutil\n",
    "\n",
    "classes = os.listdir('data/train/audio')\n",
    "\n",
    "classes10 = ['down', 'go', 'left', 'no', 'off', 'on', 'right', 'stop', 'up', 'yes'] \n",
    "\n",
    "classes = [c for c in classes if c not in classes10]"
   ]
  },
  {
   "cell_type": "code",
   "execution_count": 52,
   "metadata": {},
   "outputs": [
    {
     "data": {
      "text/plain": [
       "41039"
      ]
     },
     "execution_count": 52,
     "metadata": {},
     "output_type": "execute_result"
    }
   ],
   "source": [
    "# get all file paths\n",
    "files = []\n",
    "for c in classes:\n",
    "    files += [os.path.join('data/train/audio', c, f) for f in os.listdir(os.path.join('data/train/audio', c))]\n",
    "len(files)"
   ]
  },
  {
   "cell_type": "code",
   "execution_count": 53,
   "metadata": {},
   "outputs": [],
   "source": [
    "os.mkdir('data\\\\train\\\\audio_small\\\\unknown')"
   ]
  },
  {
   "cell_type": "code",
   "execution_count": 54,
   "metadata": {},
   "outputs": [
    {
     "data": {
      "application/vnd.jupyter.widget-view+json": {
       "model_id": "dc5dad81d629465e92212ede11b3bb8e",
       "version_major": 2,
       "version_minor": 0
      },
      "text/plain": [
       "  0%|          | 0/2368 [00:00<?, ?it/s]"
      ]
     },
     "metadata": {},
     "output_type": "display_data"
    }
   ],
   "source": [
    "# copy 2368 files randomly to a new folder\n",
    "random.shuffle(files)\n",
    "files_ = files[:2368]\n",
    "\n",
    "for f in tqdm(files_):\n",
    "    shutil.copy(f, \"data\\\\train\\\\audio_small\\\\unknown\\\\\" + f.split(\"\\\\\")[-1])"
   ]
  },
  {
   "cell_type": "code",
   "execution_count": 55,
   "metadata": {},
   "outputs": [
    {
     "data": {
      "text/plain": [
       "1856"
      ]
     },
     "execution_count": 55,
     "metadata": {},
     "output_type": "execute_result"
    }
   ],
   "source": [
    "# check if we have 2368 files\n",
    "len(os.listdir('data/train/audio_small\\\\unknown'))"
   ]
  },
  {
   "cell_type": "code",
   "execution_count": 56,
   "metadata": {},
   "outputs": [],
   "source": [
    "# we have too few files, so we need to copy more files\n",
    "# clear the folder\n",
    "for f in os.listdir('data/train/audio_small\\\\unknown'):\n",
    "    os.remove('data/train/audio_small\\\\unknown/' + f)"
   ]
  },
  {
   "cell_type": "code",
   "execution_count": 57,
   "metadata": {},
   "outputs": [
    {
     "data": {
      "application/vnd.jupyter.widget-view+json": {
       "model_id": "532d70b20ac444999ef64bd47541ff49",
       "version_major": 2,
       "version_minor": 0
      },
      "text/plain": [
       "  0%|          | 0/3500 [00:00<?, ?it/s]"
      ]
     },
     "metadata": {},
     "output_type": "display_data"
    }
   ],
   "source": [
    "# copy 3500 files randomly to a new folder\n",
    "random.shuffle(files)\n",
    "files_ = files[:3500]\n",
    "\n",
    "for f in tqdm(files_):\n",
    "    shutil.copy(f, 'data\\\\train\\\\audio_small\\\\unknown\\\\' + f.split('\\\\')[-1])"
   ]
  },
  {
   "cell_type": "code",
   "execution_count": 58,
   "metadata": {},
   "outputs": [
    {
     "data": {
      "text/plain": [
       "2403"
      ]
     },
     "execution_count": 58,
     "metadata": {},
     "output_type": "execute_result"
    }
   ],
   "source": [
    "# check if we have 3500 files\n",
    "len(os.listdir('data/train/audio_small\\\\unknown'))\n"
   ]
  },
  {
   "cell_type": "code",
   "execution_count": 59,
   "metadata": {},
   "outputs": [
    {
     "data": {
      "text/plain": [
       "2368"
      ]
     },
     "execution_count": 59,
     "metadata": {},
     "output_type": "execute_result"
    }
   ],
   "source": [
    "# now we have too many - remove some to get 2368\n",
    "\n",
    "files = os.listdir('data/train/audio_small\\\\unknown')\n",
    "random.shuffle(files)\n",
    "files_ = files[:len(files) - 2368]\n",
    "\n",
    "for f in files_:\n",
    "    os.remove('data/train/audio_small\\\\unknown/' + f)\n",
    "\n",
    "# check if we have 2368 files\n",
    "len(os.listdir('data/train/audio_small\\\\unknown'))\n"
   ]
  }
 ],
 "metadata": {
  "kernelspec": {
   "display_name": "torchenv",
   "language": "python",
   "name": "python3"
  },
  "language_info": {
   "codemirror_mode": {
    "name": "ipython",
    "version": 3
   },
   "file_extension": ".py",
   "mimetype": "text/x-python",
   "name": "python",
   "nbconvert_exporter": "python",
   "pygments_lexer": "ipython3",
   "version": "3.9.19"
  }
 },
 "nbformat": 4,
 "nbformat_minor": 2
}
