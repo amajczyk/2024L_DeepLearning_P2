{
 "cells": [
  {
   "cell_type": "code",
   "execution_count": 1,
   "metadata": {},
   "outputs": [],
   "source": [
    "from src.utils import *"
   ]
  },
  {
   "cell_type": "code",
   "execution_count": 2,
   "metadata": {},
   "outputs": [],
   "source": [
    "# delete 75% of files in the directory\n",
    "import os\n",
    "import random\n",
    "\n",
    "def delete_files(directory, percentage=0.75):\n",
    "    files = os.listdir(directory)\n",
    "    files = random.sample(files, int(len(files) * percentage))\n",
    "    for file in files:\n",
    "        os.remove(os.path.join(directory, file))\n",
    "\n",
    "# delete_files('data/train/audio_yes_no/no', 0.5)\n",
    "# delete_files('data/train/audio_yes_no/yes', 0.5)"
   ]
  },
  {
   "cell_type": "code",
   "execution_count": 3,
   "metadata": {},
   "outputs": [],
   "source": [
    "import torch\n",
    "from transformers import AutoFeatureExtractor, Wav2Vec2ForSequenceClassification\n",
    "\n",
    "model_name = 'superb/wav2vec2-base-superb-ks'\n",
    "feature_extractor = AutoFeatureExtractor.from_pretrained(model_name)"
   ]
  },
  {
   "cell_type": "code",
   "execution_count": 4,
   "metadata": {},
   "outputs": [],
   "source": [
    "import torch\n",
    "import torchaudio\n",
    "from torch.utils.data import Dataset, DataLoader\n",
    "import os\n",
    "\n",
    "class CustomAudioDataset(Dataset):\n",
    "    def __init__(self, data_dir, transform=None, fixed_length=None):\n",
    "        self.data_dir = data_dir\n",
    "        self.file_list, self.labels = self._get_file_list_and_labels()\n",
    "        self.transform = transform\n",
    "        self.fixed_length = fixed_length\n",
    "\n",
    "    def _get_file_list_and_labels(self):\n",
    "        file_list = []\n",
    "        labels = []\n",
    "        for root, dirs, files in os.walk(self.data_dir):\n",
    "            for file in files:\n",
    "                if file.endswith(\".wav\"):  # Adjust file extension if needed\n",
    "                    file_list.append(root + \"/\" + file)\n",
    "                    labels.append(os.path.basename(root))  # Extract label from directory name\n",
    "        return file_list, labels\n",
    "\n",
    "    def __len__(self):\n",
    "        return len(self.file_list)\n",
    "\n",
    "    def __getitem__(self, idx):\n",
    "        file_path = self.file_list[idx]\n",
    "        waveform, sample_rate = torchaudio.load(file_path)\n",
    "        \n",
    "        \n",
    "        \n",
    "        if self.fixed_length:\n",
    "            waveform = self._pad_waveform(waveform, self.fixed_length)\n",
    "\n",
    "        label = self.labels[idx]\n",
    "\n",
    "        \n",
    "\n",
    "        if self.transform:\n",
    "            waveform = self.transform(waveform, sampling_rate=sample_rate)['input_values'][0]\n",
    "\n",
    "        return waveform, sample_rate, label\n",
    "\n",
    "    def _pad_waveform(self, waveform, target_length):\n",
    "        length_diff = target_length - waveform.size(1)\n",
    "        if length_diff > 0:\n",
    "            padding = torch.zeros((1, length_diff))\n",
    "            waveform = torch.cat([waveform, padding], dim=1)\n",
    "        return waveform.squeeze(0)\n",
    "\n",
    "# Example usage\n",
    "data_dir = \"data/train/audio_small/\"\n",
    "# data_dir = \"data/train/audio_yes_no/\"\n",
    "transform = feature_extractor  # You can define transformations if needed\n",
    "fixed_length = 16000  # Assuming you want to fix the length to 16000 samples\n",
    "sampling_rate = fixed_length  # Assuming you want to fix the sampling rate to 16000 Hz\n",
    "\n",
    "\n",
    "\n",
    "batch_size = 4"
   ]
  },
  {
   "cell_type": "code",
   "execution_count": 5,
   "metadata": {},
   "outputs": [],
   "source": [
    "def count_trainable_parameters(model):\n",
    "    return sum(p.numel() for p in model.parameters() if p.requires_grad)\n",
    "\n",
    "\n",
    "def freeze_layers_except_last_n(model, n):\n",
    "    # Get all parameters\n",
    "    parameters = list(model.parameters())\n",
    "    total_layers = len(parameters)\n",
    "\n",
    "    # Freeze all layers except the last n\n",
    "    for i, param in enumerate(parameters):\n",
    "        if i < total_layers - n:\n",
    "            param.requires_grad = False\n",
    "\n",
    "\n"
   ]
  },
  {
   "cell_type": "code",
   "execution_count": 6,
   "metadata": {},
   "outputs": [],
   "source": [
    "num_epochs = 10\n",
    "perc = 0.05"
   ]
  },
  {
   "cell_type": "code",
   "execution_count": 7,
   "metadata": {},
   "outputs": [
    {
     "data": {
      "application/vnd.jupyter.widget-view+json": {
       "model_id": "ceda8ceb80ff4891bd4c978cf371c2f8",
       "version_major": 2,
       "version_minor": 0
      },
      "text/plain": [
       "Training loop (5 times):   0%|          | 0/5 [00:00<?, ?it/s]"
      ]
     },
     "metadata": {},
     "output_type": "display_data"
    },
    {
     "name": "stderr",
     "output_type": "stream",
     "text": [
      "c:\\Users\\adamm\\miniconda3\\envs\\torchenv\\lib\\site-packages\\transformers\\configuration_utils.py:363: UserWarning: Passing `gradient_checkpointing` to a config initialization is deprecated and will be removed in v5 Transformers. Using `model.gradient_checkpointing_enable()` instead, or if you are using the `Trainer` API, pass `gradient_checkpointing=True` in your `TrainingArguments`.\n",
      "  warnings.warn(\n",
      "Some weights of the model checkpoint at superb/wav2vec2-base-superb-ks were not used when initializing Wav2Vec2ForSequenceClassification: ['wav2vec2.encoder.pos_conv_embed.conv.weight_g', 'wav2vec2.encoder.pos_conv_embed.conv.weight_v']\n",
      "- This IS expected if you are initializing Wav2Vec2ForSequenceClassification from the checkpoint of a model trained on another task or with another architecture (e.g. initializing a BertForSequenceClassification model from a BertForPreTraining model).\n",
      "- This IS NOT expected if you are initializing Wav2Vec2ForSequenceClassification from the checkpoint of a model that you expect to be exactly identical (initializing a BertForSequenceClassification model from a BertForSequenceClassification model).\n",
      "Some weights of Wav2Vec2ForSequenceClassification were not initialized from the model checkpoint at superb/wav2vec2-base-superb-ks and are newly initialized: ['wav2vec2.encoder.pos_conv_embed.conv.parametrizations.weight.original0', 'wav2vec2.encoder.pos_conv_embed.conv.parametrizations.weight.original1']\n",
      "You should probably TRAIN this model on a down-stream task to be able to use it for predictions and inference.\n"
     ]
    },
    {
     "data": {
      "application/vnd.jupyter.widget-view+json": {
       "model_id": "41ff4b1022b645eb84d87d0d9e667ecb",
       "version_major": 2,
       "version_minor": 0
      },
      "text/plain": [
       "Epoch 1/10:   0%|          | 0/6187 [00:00<?, ?it/s]"
      ]
     },
     "metadata": {},
     "output_type": "display_data"
    },
    {
     "name": "stderr",
     "output_type": "stream",
     "text": [
      "c:\\Users\\adamm\\miniconda3\\envs\\torchenv\\lib\\site-packages\\torch\\nn\\modules\\conv.py:306: UserWarning: Plan failed with a cudnnException: CUDNN_BACKEND_EXECUTION_PLAN_DESCRIPTOR: cudnnFinalize Descriptor Failed cudnn_status: CUDNN_STATUS_NOT_SUPPORTED (Triggered internally at C:\\cb\\pytorch_1000000000000\\work\\aten\\src\\ATen\\native\\cudnn\\Conv_v8.cpp:919.)\n",
      "  return F.conv1d(input, weight, bias, self.stride,\n",
      "c:\\Users\\adamm\\miniconda3\\envs\\torchenv\\lib\\site-packages\\torch\\autograd\\graph.py:744: UserWarning: Plan failed with a cudnnException: CUDNN_BACKEND_EXECUTION_PLAN_DESCRIPTOR: cudnnFinalize Descriptor Failed cudnn_status: CUDNN_STATUS_NOT_SUPPORTED (Triggered internally at C:\\cb\\pytorch_1000000000000\\work\\aten\\src\\ATen\\native\\cudnn\\Conv_v8.cpp:919.)\n",
      "  return Variable._execution_engine.run_backward(  # Calls into the C++ engine to run the backward pass\n"
     ]
    },
    {
     "name": "stdout",
     "output_type": "stream",
     "text": [
      "Epoch 1/10, Train Loss: 1.7193095087116945\n"
     ]
    },
    {
     "data": {
      "application/vnd.jupyter.widget-view+json": {
       "model_id": "6a71a2673ef744f48e856b6dd6bd11f5",
       "version_major": 2,
       "version_minor": 0
      },
      "text/plain": [
       "Validation:   0%|          | 0/163 [00:00<?, ?it/s]"
      ]
     },
     "metadata": {},
     "output_type": "display_data"
    },
    {
     "name": "stdout",
     "output_type": "stream",
     "text": [
      "Epoch 1/10, Validation Loss: 1.8925006374991014, Validation Accuracy: 0.30261136712749614\n"
     ]
    },
    {
     "data": {
      "application/vnd.jupyter.widget-view+json": {
       "model_id": "7ef88f624b984655a945081d4c3e9e53",
       "version_major": 2,
       "version_minor": 0
      },
      "text/plain": [
       "Epoch 2/10:   0%|          | 0/6187 [00:00<?, ?it/s]"
      ]
     },
     "metadata": {},
     "output_type": "display_data"
    },
    {
     "name": "stdout",
     "output_type": "stream",
     "text": [
      "Epoch 2/10, Train Loss: 0.7077210728795297\n"
     ]
    },
    {
     "data": {
      "application/vnd.jupyter.widget-view+json": {
       "model_id": "11c308ce60b0457c98670a880d421000",
       "version_major": 2,
       "version_minor": 0
      },
      "text/plain": [
       "Validation:   0%|          | 0/163 [00:00<?, ?it/s]"
      ]
     },
     "metadata": {},
     "output_type": "display_data"
    },
    {
     "name": "stdout",
     "output_type": "stream",
     "text": [
      "Epoch 2/10, Validation Loss: 0.5098405720593202, Validation Accuracy: 0.8294930875576036\n"
     ]
    },
    {
     "data": {
      "application/vnd.jupyter.widget-view+json": {
       "model_id": "d3ff3340f78b4fdf947c3a870ff8bc72",
       "version_major": 2,
       "version_minor": 0
      },
      "text/plain": [
       "Epoch 3/10:   0%|          | 0/6187 [00:00<?, ?it/s]"
      ]
     },
     "metadata": {},
     "output_type": "display_data"
    },
    {
     "name": "stdout",
     "output_type": "stream",
     "text": [
      "Epoch 3/10, Train Loss: 0.4058034836059676\n"
     ]
    },
    {
     "data": {
      "application/vnd.jupyter.widget-view+json": {
       "model_id": "b36474dff6c94f3fb978918b76eefa19",
       "version_major": 2,
       "version_minor": 0
      },
      "text/plain": [
       "Validation:   0%|          | 0/163 [00:00<?, ?it/s]"
      ]
     },
     "metadata": {},
     "output_type": "display_data"
    },
    {
     "name": "stdout",
     "output_type": "stream",
     "text": [
      "Epoch 3/10, Validation Loss: 0.33598668325765263, Validation Accuracy: 0.8970814132104454\n"
     ]
    },
    {
     "data": {
      "application/vnd.jupyter.widget-view+json": {
       "model_id": "23d06e46924e4759956a24fe0c756f82",
       "version_major": 2,
       "version_minor": 0
      },
      "text/plain": [
       "Epoch 4/10:   0%|          | 0/6187 [00:00<?, ?it/s]"
      ]
     },
     "metadata": {},
     "output_type": "display_data"
    },
    {
     "name": "stdout",
     "output_type": "stream",
     "text": [
      "Epoch 4/10, Train Loss: 0.3095738233415258\n"
     ]
    },
    {
     "data": {
      "application/vnd.jupyter.widget-view+json": {
       "model_id": "f52303230db5480e968fa83f470ba83a",
       "version_major": 2,
       "version_minor": 0
      },
      "text/plain": [
       "Validation:   0%|          | 0/163 [00:00<?, ?it/s]"
      ]
     },
     "metadata": {},
     "output_type": "display_data"
    },
    {
     "name": "stdout",
     "output_type": "stream",
     "text": [
      "Epoch 4/10, Validation Loss: 0.2566093234157838, Validation Accuracy: 0.9262672811059908\n"
     ]
    },
    {
     "data": {
      "application/vnd.jupyter.widget-view+json": {
       "model_id": "a9394204c5ba438697fe7f7324c1fd11",
       "version_major": 2,
       "version_minor": 0
      },
      "text/plain": [
       "Epoch 5/10:   0%|          | 0/6187 [00:00<?, ?it/s]"
      ]
     },
     "metadata": {},
     "output_type": "display_data"
    },
    {
     "name": "stdout",
     "output_type": "stream",
     "text": [
      "Epoch 5/10, Train Loss: 0.25542832765111734\n"
     ]
    },
    {
     "data": {
      "application/vnd.jupyter.widget-view+json": {
       "model_id": "281999024c8c47ebab2e3f04897cfb34",
       "version_major": 2,
       "version_minor": 0
      },
      "text/plain": [
       "Validation:   0%|          | 0/163 [00:00<?, ?it/s]"
      ]
     },
     "metadata": {},
     "output_type": "display_data"
    },
    {
     "name": "stdout",
     "output_type": "stream",
     "text": [
      "Epoch 5/10, Validation Loss: 0.28146867248854346, Validation Accuracy: 0.9109062980030722\n"
     ]
    },
    {
     "data": {
      "application/vnd.jupyter.widget-view+json": {
       "model_id": "f000c98355a44989b7dfaca1dff7d55e",
       "version_major": 2,
       "version_minor": 0
      },
      "text/plain": [
       "Epoch 6/10:   0%|          | 0/6187 [00:00<?, ?it/s]"
      ]
     },
     "metadata": {},
     "output_type": "display_data"
    },
    {
     "name": "stdout",
     "output_type": "stream",
     "text": [
      "Epoch 6/10, Train Loss: 0.21466857760745928\n"
     ]
    },
    {
     "data": {
      "application/vnd.jupyter.widget-view+json": {
       "model_id": "a5da70d1a7174da6b04a2dcfca75ef7d",
       "version_major": 2,
       "version_minor": 0
      },
      "text/plain": [
       "Validation:   0%|          | 0/163 [00:00<?, ?it/s]"
      ]
     },
     "metadata": {},
     "output_type": "display_data"
    },
    {
     "name": "stdout",
     "output_type": "stream",
     "text": [
      "Epoch 6/10, Validation Loss: 0.22928551824887308, Validation Accuracy: 0.9278033794162827\n"
     ]
    },
    {
     "data": {
      "application/vnd.jupyter.widget-view+json": {
       "model_id": "f5e8a8c5d45f49579d2470f88158a197",
       "version_major": 2,
       "version_minor": 0
      },
      "text/plain": [
       "Epoch 7/10:   0%|          | 0/6187 [00:00<?, ?it/s]"
      ]
     },
     "metadata": {},
     "output_type": "display_data"
    },
    {
     "name": "stdout",
     "output_type": "stream",
     "text": [
      "Epoch 7/10, Train Loss: 0.18058738642483801\n"
     ]
    },
    {
     "data": {
      "application/vnd.jupyter.widget-view+json": {
       "model_id": "c5598e0afc2f4865bc0debfafc329f93",
       "version_major": 2,
       "version_minor": 0
      },
      "text/plain": [
       "Validation:   0%|          | 0/163 [00:00<?, ?it/s]"
      ]
     },
     "metadata": {},
     "output_type": "display_data"
    },
    {
     "name": "stdout",
     "output_type": "stream",
     "text": [
      "Epoch 7/10, Validation Loss: 0.23876078753416685, Validation Accuracy: 0.9324116743471582\n"
     ]
    },
    {
     "data": {
      "application/vnd.jupyter.widget-view+json": {
       "model_id": "13917611d1f3431abf74e4f59eb22c06",
       "version_major": 2,
       "version_minor": 0
      },
      "text/plain": [
       "Epoch 8/10:   0%|          | 0/6187 [00:00<?, ?it/s]"
      ]
     },
     "metadata": {},
     "output_type": "display_data"
    },
    {
     "name": "stdout",
     "output_type": "stream",
     "text": [
      "Epoch 8/10, Train Loss: 0.15381654200941364\n"
     ]
    },
    {
     "data": {
      "application/vnd.jupyter.widget-view+json": {
       "model_id": "bd5ebb13e75f4c1092197be494a9d859",
       "version_major": 2,
       "version_minor": 0
      },
      "text/plain": [
       "Validation:   0%|          | 0/163 [00:00<?, ?it/s]"
      ]
     },
     "metadata": {},
     "output_type": "display_data"
    },
    {
     "name": "stdout",
     "output_type": "stream",
     "text": [
      "Epoch 8/10, Validation Loss: 0.26429447277829615, Validation Accuracy: 0.9216589861751152\n"
     ]
    },
    {
     "data": {
      "application/vnd.jupyter.widget-view+json": {
       "model_id": "27c1b5ea3d9d48d387604e0f86c9e8e3",
       "version_major": 2,
       "version_minor": 0
      },
      "text/plain": [
       "Epoch 9/10:   0%|          | 0/6187 [00:00<?, ?it/s]"
      ]
     },
     "metadata": {},
     "output_type": "display_data"
    },
    {
     "name": "stdout",
     "output_type": "stream",
     "text": [
      "Epoch 9/10, Train Loss: 0.13283972297379745\n"
     ]
    },
    {
     "data": {
      "application/vnd.jupyter.widget-view+json": {
       "model_id": "a4cef7b68dde4110a1bd2fecde29843f",
       "version_major": 2,
       "version_minor": 0
      },
      "text/plain": [
       "Validation:   0%|          | 0/163 [00:00<?, ?it/s]"
      ]
     },
     "metadata": {},
     "output_type": "display_data"
    },
    {
     "name": "stdout",
     "output_type": "stream",
     "text": [
      "Epoch 9/10, Validation Loss: 0.2250313760851544, Validation Accuracy: 0.9324116743471582\n"
     ]
    },
    {
     "data": {
      "application/vnd.jupyter.widget-view+json": {
       "model_id": "ea3ff954e2404f53b8dfe025a8582e05",
       "version_major": 2,
       "version_minor": 0
      },
      "text/plain": [
       "Epoch 10/10:   0%|          | 0/6187 [00:00<?, ?it/s]"
      ]
     },
     "metadata": {},
     "output_type": "display_data"
    },
    {
     "name": "stdout",
     "output_type": "stream",
     "text": [
      "Epoch 10/10, Train Loss: 0.11406076872050466\n"
     ]
    },
    {
     "data": {
      "application/vnd.jupyter.widget-view+json": {
       "model_id": "681e1b164bfd42a19ef2fd1482fc9b4d",
       "version_major": 2,
       "version_minor": 0
      },
      "text/plain": [
       "Validation:   0%|          | 0/163 [00:00<?, ?it/s]"
      ]
     },
     "metadata": {},
     "output_type": "display_data"
    },
    {
     "name": "stdout",
     "output_type": "stream",
     "text": [
      "Epoch 10/10, Validation Loss: 0.20901326001556253, Validation Accuracy: 0.9308755760368663\n"
     ]
    },
    {
     "data": {
      "application/vnd.jupyter.widget-view+json": {
       "model_id": "5461b0d09a3e492da018d7b374e4fa5a",
       "version_major": 2,
       "version_minor": 0
      },
      "text/plain": [
       "Testing:   0%|          | 0/163 [00:00<?, ?it/s]"
      ]
     },
     "metadata": {},
     "output_type": "display_data"
    },
    {
     "name": "stdout",
     "output_type": "stream",
     "text": [
      "{'val_acc': [0.30261136712749614, 0.8294930875576036, 0.8970814132104454, 0.9262672811059908, 0.9109062980030722, 0.9278033794162827, 0.9324116743471582, 0.9216589861751152, 0.9324116743471582, 0.9308755760368663], 'val_loss': [1.8925006374991014, 0.5098405720593202, 0.33598668325765263, 0.2566093234157838, 0.28146867248854346, 0.22928551824887308, 0.23876078753416685, 0.26429447277829615, 0.2250313760851544, 0.20901326001556253], 'train_loss': [1.7193095087116945, 0.7077210728795297, 0.4058034836059676, 0.3095738233415258, 0.25542832765111734, 0.21466857760745928, 0.18058738642483801, 0.15381654200941364, 0.13283972297379745, 0.11406076872050466], 'test_correct_in_batch': [4.0, 4.0, 3.0, 2.0, 4.0, 4.0, 4.0, 3.0, 3.0, 4.0, 4.0, 4.0, 3.0, 4.0, 4.0, 3.0, 3.0, 4.0, 3.0, 4.0, 4.0, 4.0, 4.0, 4.0, 4.0, 4.0, 4.0, 3.0, 4.0, 4.0, 4.0, 4.0, 4.0, 4.0, 4.0, 4.0, 4.0, 4.0, 4.0, 4.0, 4.0, 4.0, 3.0, 4.0, 4.0, 4.0, 3.0, 4.0, 4.0, 4.0, 4.0, 2.0, 4.0, 3.0, 4.0, 4.0, 4.0, 4.0, 4.0, 4.0, 4.0, 4.0, 4.0, 4.0, 2.0, 3.0, 4.0, 3.0, 3.0, 3.0, 3.0, 4.0, 3.0, 4.0, 4.0, 4.0, 4.0, 4.0, 3.0, 4.0, 4.0, 4.0, 4.0, 4.0, 4.0, 3.0, 4.0, 4.0, 4.0, 3.0, 4.0, 4.0, 3.0, 4.0, 4.0, 4.0, 4.0, 2.0, 4.0, 4.0, 3.0, 4.0, 4.0, 3.0, 4.0, 4.0, 4.0, 4.0, 4.0, 4.0, 4.0, 3.0, 4.0, 4.0, 4.0, 4.0, 4.0, 4.0, 4.0, 2.0, 4.0, 3.0, 3.0, 4.0, 3.0, 3.0, 4.0, 4.0, 4.0, 4.0, 4.0, 3.0, 4.0, 4.0, 4.0, 4.0, 4.0, 3.0, 4.0, 2.0, 4.0, 3.0, 4.0, 4.0, 4.0, 3.0, 3.0, 4.0, 4.0, 4.0, 4.0, 3.0, 4.0, 4.0, 4.0, 4.0, 4.0, 4.0, 3.0, 4.0, 4.0, 4.0, 3.0], 'test_losses': [0.0032661352306604385, 0.003534112125635147, 1.5116329193115234, 1.388206124305725, 0.0007991206948645413, 0.008944223634898663, 0.1319616138935089, 1.1564775705337524, 1.5971839427947998, 0.0025499851908534765, 0.0002185649354942143, 0.001130746561102569, 0.823727011680603, 0.011749805882573128, 0.00036511276266537607, 1.7837198972702026, 1.3969146013259888, 0.01302795484662056, 2.7202868461608887, 0.0010763308964669704, 0.09569483250379562, 0.016933459788560867, 0.10437340289354324, 0.0005393498577177525, 0.07455763220787048, 2.3185501049738377e-05, 0.005862930789589882, 0.652854859828949, 0.06226840242743492, 0.0054757134057581425, 0.17154023051261902, 0.024002622812986374, 0.0017122256103903055, 0.0004355690616648644, 0.0006527791265398264, 0.0006370312185026705, 0.0004720993747469038, 0.04347209632396698, 0.00027805985882878304, 0.08935651928186417, 0.06380263715982437, 0.016155939549207687, 1.2524570226669312, 0.0018850350752472878, 0.09997101873159409, 0.002505202079191804, 0.7420708537101746, 0.08672089129686356, 0.09834390133619308, 0.0790419802069664, 0.008341602049767971, 1.0791776180267334, 0.030108891427516937, 0.2513859272003174, 0.11414026468992233, 0.00014902735711075366, 0.00021582713816314936, 2.9175294912420213e-05, 0.0002643072512000799, 0.011453058570623398, 0.0027226698584854603, 0.004537905566394329, 0.0007317770505324006, 0.00028656632639467716, 1.1225550174713135, 1.6675019264221191, 0.11912339925765991, 0.7750705480575562, 1.0286164283752441, 0.4684824049472809, 1.4249165058135986, 0.00042361224768683314, 0.6548469662666321, 0.20267325639724731, 0.0008741911733523011, 0.0058948271907866, 6.061098974896595e-05, 1.2069650438206736e-05, 0.36446112394332886, 0.15047352015972137, 0.11170452833175659, 0.003035719273611903, 0.009579844772815704, 0.002775060711428523, 0.0012904760660603642, 1.1768667697906494, 0.000864283530972898, 0.0027489815838634968, 0.0483245849609375, 0.3981338441371918, 0.00024169482639990747, 0.003576458664610982, 1.6956607103347778, 0.18631380796432495, 0.0003320584655739367, 0.002101459074765444, 0.10111632943153381, 2.4212868213653564, 0.05739016458392143, 0.057439301162958145, 0.5937340259552002, 0.002663486637175083, 0.00013889450929127634, 1.1826342344284058, 0.000334128737449646, 0.0018074957188218832, 0.011923590674996376, 0.00905654113739729, 0.0008937274105846882, 1.913273081299849e-05, 1.4423982065636665e-05, 0.44524338841438293, 0.004717348143458366, 0.08004130423069, 0.02358921989798546, 0.002193787833675742, 0.10179480910301208, 0.00028108543483540416, 0.006613084115087986, 1.012195110321045, 0.0985516831278801, 0.7441322207450867, 1.0980304479599, 0.0009655958856455982, 1.3892731666564941, 0.4289330244064331, 0.00815134309232235, 0.05984526127576828, 0.007696818560361862, 0.01768426224589348, 0.0712781548500061, 0.5119808316230774, 0.000526938762050122, 0.08711497485637665, 0.004214403219521046, 0.05396197736263275, 0.012166784144937992, 1.4442336559295654, 0.030005842447280884, 1.0038214921951294, 0.0008076135418377817, 0.23856854438781738, 0.326458215713501, 0.0003894022083841264, 0.006463401950895786, 0.8477872014045715, 1.4273452758789062, 0.00018385067232884467, 0.11431900411844254, 0.0007892230059951544, 0.006769705098122358, 0.2293495386838913, 0.010632473975419998, 0.07720264792442322, 0.07009240984916687, 0.008259497582912445, 0.07427021861076355, 0.12986412644386292, 0.5554470419883728, 0.0002682914200704545, 0.000467405014205724, 0.000301822874462232, 0.0008769510895945132], 'test_loss': 0.2871199729548674, 'test_batch_lens': [4, 4, 4, 4, 4, 4, 4, 4, 4, 4, 4, 4, 4, 4, 4, 4, 4, 4, 4, 4, 4, 4, 4, 4, 4, 4, 4, 4, 4, 4, 4, 4, 4, 4, 4, 4, 4, 4, 4, 4, 4, 4, 4, 4, 4, 4, 4, 4, 4, 4, 4, 4, 4, 4, 4, 4, 4, 4, 4, 4, 4, 4, 4, 4, 4, 4, 4, 4, 4, 4, 4, 4, 4, 4, 4, 4, 4, 4, 4, 4, 4, 4, 4, 4, 4, 4, 4, 4, 4, 4, 4, 4, 4, 4, 4, 4, 4, 4, 4, 4, 4, 4, 4, 4, 4, 4, 4, 4, 4, 4, 4, 4, 4, 4, 4, 4, 4, 4, 4, 4, 4, 4, 4, 4, 4, 4, 4, 4, 4, 4, 4, 4, 4, 4, 4, 4, 4, 4, 4, 4, 4, 4, 4, 4, 4, 4, 4, 4, 4, 4, 4, 4, 4, 4, 4, 4, 4, 4, 4, 4, 4, 4, 3], 'test_accuracy': 0.9278033794162827, 'predictions': [7, 4, 1, 10, 7, 1, 8, 8, 0, 0, 4, 7, 1, 9, 8, 1, 9, 6, 4, 9, 8, 10, 1, 4, 6, 8, 8, 6, 6, 8, 2, 0, 1, 0, 6, 3, 10, 5, 5, 0, 10, 3, 2, 10, 7, 8, 4, 3, 3, 8, 8, 4, 3, 4, 6, 1, 1, 9, 1, 10, 10, 6, 2, 6, 5, 0, 8, 5, 8, 1, 3, 1, 8, 3, 1, 8, 6, 8, 9, 2, 3, 1, 3, 1, 5, 5, 1, 8, 0, 4, 9, 10, 10, 7, 1, 5, 1, 8, 2, 7, 5, 1, 10, 6, 10, 8, 3, 9, 10, 4, 7, 5, 0, 3, 7, 6, 0, 8, 0, 0, 4, 8, 7, 6, 5, 1, 7, 9, 6, 7, 4, 0, 10, 10, 7, 9, 4, 1, 9, 0, 10, 3, 3, 9, 4, 7, 4, 7, 2, 10, 2, 4, 10, 10, 1, 0, 10, 5, 4, 7, 8, 9, 10, 4, 2, 3, 10, 5, 8, 0, 5, 0, 10, 7, 6, 8, 0, 8, 1, 2, 6, 3, 5, 3, 9, 2, 4, 8, 3, 2, 0, 2, 0, 9, 9, 8, 1, 3, 5, 9, 8, 1, 6, 1, 4, 0, 9, 8, 3, 9, 5, 6, 2, 5, 4, 4, 2, 10, 8, 4, 7, 3, 0, 6, 7, 0, 5, 7, 1, 0, 1, 6, 3, 7, 7, 2, 10, 4, 3, 10, 9, 4, 3, 3, 1, 7, 8, 5, 2, 4, 10, 1, 1, 2, 3, 10, 6, 2, 5, 1, 3, 10, 7, 3, 5, 1, 8, 1, 0, 7, 3, 10, 3, 5, 0, 2, 7, 0, 9, 7, 3, 8, 8, 10, 2, 4, 2, 5, 5, 3, 5, 0, 8, 6, 0, 1, 2, 7, 3, 2, 4, 10, 8, 6, 6, 0, 2, 7, 10, 1, 7, 6, 4, 2, 5, 2, 0, 9, 4, 3, 2, 6, 7, 9, 1, 8, 8, 5, 2, 9, 4, 1, 1, 8, 4, 7, 1, 2, 7, 2, 5, 0, 4, 10, 5, 0, 5, 7, 3, 6, 4, 6, 4, 9, 5, 1, 5, 3, 7, 7, 4, 4, 6, 10, 8, 9, 8, 5, 6, 9, 4, 0, 5, 0, 9, 10, 5, 0, 3, 7, 3, 1, 8, 2, 2, 4, 4, 9, 3, 7, 5, 5, 9, 4, 0, 0, 5, 6, 9, 9, 7, 7, 8, 9, 1, 10, 10, 5, 5, 7, 3, 3, 5, 10, 4, 7, 2, 3, 1, 1, 0, 5, 4, 1, 2, 0, 1, 8, 8, 4, 8, 3, 8, 0, 3, 2, 2, 3, 7, 10, 10, 4, 10, 6, 6, 5, 0, 6, 8, 2, 1, 9, 9, 5, 9, 9, 1, 3, 5, 7, 9, 10, 1, 8, 1, 6, 3, 8, 2, 4, 10, 1, 1, 2, 8, 2, 4, 0, 2, 8, 9, 9, 0, 7, 6, 9, 3, 0, 2, 1, 6, 9, 3, 7, 2, 4, 2, 0, 1, 3, 4, 6, 3, 4, 6, 3, 3, 5, 0, 1, 7, 10, 4, 10, 2, 5, 5, 7, 5, 1, 4, 5, 0, 4, 5, 4, 4, 5, 9, 7, 7, 2, 0, 2, 4, 3, 2, 9, 1, 8, 9, 1, 8, 8, 2, 0, 9, 7, 6, 1, 6, 9, 0, 10, 8, 8, 2, 3, 7, 3, 2, 7, 9, 6, 7, 8, 4, 0, 8, 2, 10, 5, 2, 10, 8, 7, 9, 6, 8, 6, 6, 1, 7, 9, 7, 3, 4, 9, 3, 3, 7, 4, 1, 7, 5, 4, 0, 7, 8, 0, 7, 4, 5, 5, 4, 6, 6, 6, 1, 5, 3, 0, 1, 4, 7, 1, 9, 4, 6, 6, 10, 7, 1, 0, 3, 9, 1, 4, 3, 10, 7, 8, 9, 9, 4, 1, 2, 3, 7, 8, 6, 8, 1, 7, 4, 0, 2, 0, 8, 6, 7], 'real_labels': [7, 4, 1, 10, 7, 1, 8, 8, 0, 8, 4, 7, 1, 9, 3, 0, 9, 6, 4, 9, 8, 10, 1, 4, 6, 8, 8, 6, 6, 8, 2, 1, 1, 9, 6, 3, 10, 5, 5, 0, 10, 3, 2, 10, 7, 8, 4, 3, 3, 8, 9, 4, 3, 4, 6, 1, 1, 9, 1, 10, 10, 6, 1, 6, 5, 5, 8, 5, 8, 1, 3, 1, 1, 3, 1, 8, 6, 8, 9, 2, 3, 1, 3, 1, 5, 5, 1, 8, 0, 4, 9, 10, 10, 7, 1, 5, 1, 8, 2, 7, 5, 1, 10, 6, 10, 8, 3, 9, 10, 4, 7, 1, 0, 3, 7, 6, 0, 8, 0, 0, 4, 8, 7, 6, 5, 1, 7, 9, 6, 7, 4, 0, 10, 10, 7, 9, 4, 1, 9, 0, 10, 3, 3, 9, 4, 7, 4, 7, 2, 10, 2, 4, 10, 10, 1, 0, 10, 5, 4, 7, 8, 9, 10, 4, 2, 3, 10, 5, 8, 0, 9, 0, 10, 7, 6, 8, 0, 8, 1, 2, 6, 3, 5, 3, 9, 3, 4, 8, 3, 2, 0, 2, 0, 9, 9, 8, 1, 3, 5, 9, 8, 1, 6, 1, 4, 3, 4, 8, 3, 9, 5, 6, 2, 5, 4, 5, 2, 10, 8, 4, 7, 3, 0, 6, 7, 0, 5, 7, 1, 0, 1, 6, 3, 7, 7, 2, 10, 4, 3, 10, 9, 4, 3, 3, 1, 7, 8, 5, 2, 4, 10, 1, 1, 2, 3, 10, 6, 9, 5, 3, 3, 10, 7, 1, 5, 1, 8, 1, 8, 7, 3, 10, 3, 5, 2, 2, 7, 3, 9, 7, 6, 8, 8, 10, 2, 4, 2, 5, 5, 3, 8, 0, 8, 6, 0, 1, 2, 7, 3, 2, 4, 10, 8, 6, 6, 0, 2, 7, 10, 1, 7, 6, 9, 2, 5, 2, 0, 9, 4, 3, 2, 6, 7, 9, 1, 8, 8, 5, 2, 9, 4, 1, 1, 8, 4, 7, 1, 2, 7, 2, 5, 0, 7, 10, 5, 0, 5, 7, 3, 6, 4, 6, 4, 9, 5, 1, 8, 3, 7, 7, 4, 4, 6, 10, 8, 9, 8, 5, 6, 7, 4, 0, 5, 0, 9, 10, 5, 0, 3, 7, 3, 1, 8, 2, 2, 4, 4, 9, 3, 7, 9, 9, 9, 4, 0, 0, 5, 6, 9, 9, 7, 7, 6, 9, 1, 10, 10, 5, 5, 7, 3, 3, 5, 10, 9, 7, 2, 3, 1, 1, 0, 5, 4, 1, 2, 0, 1, 8, 8, 4, 8, 3, 8, 0, 3, 2, 2, 3, 7, 10, 10, 4, 10, 6, 6, 5, 0, 9, 8, 2, 1, 9, 9, 5, 9, 9, 1, 3, 5, 7, 9, 10, 1, 8, 1, 6, 3, 8, 2, 4, 10, 1, 1, 2, 8, 2, 4, 8, 2, 5, 9, 9, 0, 7, 6, 9, 2, 0, 2, 8, 6, 9, 3, 7, 2, 4, 3, 0, 1, 3, 9, 6, 3, 4, 6, 3, 3, 5, 0, 1, 7, 10, 4, 10, 2, 5, 5, 7, 5, 1, 4, 5, 0, 4, 5, 4, 9, 5, 9, 7, 7, 2, 0, 2, 4, 3, 2, 9, 1, 8, 9, 1, 8, 8, 2, 0, 9, 7, 6, 9, 6, 9, 0, 10, 8, 8, 4, 1, 7, 3, 2, 7, 9, 6, 7, 8, 9, 0, 8, 2, 10, 5, 2, 10, 8, 7, 9, 6, 8, 6, 6, 4, 7, 9, 7, 8, 4, 9, 3, 3, 7, 4, 1, 7, 5, 4, 0, 7, 8, 0, 7, 4, 5, 5, 4, 8, 6, 6, 1, 5, 3, 0, 1, 4, 7, 1, 9, 4, 6, 6, 10, 7, 1, 0, 3, 9, 1, 4, 3, 10, 7, 8, 9, 9, 4, 0, 2, 3, 7, 8, 6, 8, 1, 7, 4, 0, 2, 0, 8, 6, 7], 'label_to_index': {'down': 0, 'go': 1, 'left': 2, 'no': 3, 'off': 4, 'on': 5, 'right': 6, 'stop': 7, 'unknown': 8, 'up': 9, 'yes': 10}}\n",
      "Test Loss: 0.2871199729548674, Test Accuracy: 0.9278033794162827\n"
     ]
    },
    {
     "name": "stderr",
     "output_type": "stream",
     "text": [
      "Some weights of the model checkpoint at superb/wav2vec2-base-superb-ks were not used when initializing Wav2Vec2ForSequenceClassification: ['wav2vec2.encoder.pos_conv_embed.conv.weight_g', 'wav2vec2.encoder.pos_conv_embed.conv.weight_v']\n",
      "- This IS expected if you are initializing Wav2Vec2ForSequenceClassification from the checkpoint of a model trained on another task or with another architecture (e.g. initializing a BertForSequenceClassification model from a BertForPreTraining model).\n",
      "- This IS NOT expected if you are initializing Wav2Vec2ForSequenceClassification from the checkpoint of a model that you expect to be exactly identical (initializing a BertForSequenceClassification model from a BertForSequenceClassification model).\n",
      "Some weights of Wav2Vec2ForSequenceClassification were not initialized from the model checkpoint at superb/wav2vec2-base-superb-ks and are newly initialized: ['wav2vec2.encoder.pos_conv_embed.conv.parametrizations.weight.original0', 'wav2vec2.encoder.pos_conv_embed.conv.parametrizations.weight.original1']\n",
      "You should probably TRAIN this model on a down-stream task to be able to use it for predictions and inference.\n"
     ]
    },
    {
     "data": {
      "application/vnd.jupyter.widget-view+json": {
       "model_id": "bcc323a5f51f44929fcc23a7c1073c5a",
       "version_major": 2,
       "version_minor": 0
      },
      "text/plain": [
       "Epoch 1/10:   0%|          | 0/6187 [00:00<?, ?it/s]"
      ]
     },
     "metadata": {},
     "output_type": "display_data"
    },
    {
     "name": "stdout",
     "output_type": "stream",
     "text": [
      "Epoch 1/10, Train Loss: 1.3894141282928716\n"
     ]
    },
    {
     "data": {
      "application/vnd.jupyter.widget-view+json": {
       "model_id": "fbfbbdc1e7e84d74982936c870795b64",
       "version_major": 2,
       "version_minor": 0
      },
      "text/plain": [
       "Validation:   0%|          | 0/163 [00:00<?, ?it/s]"
      ]
     },
     "metadata": {},
     "output_type": "display_data"
    },
    {
     "name": "stdout",
     "output_type": "stream",
     "text": [
      "Epoch 1/10, Validation Loss: 0.715272721908758, Validation Accuracy: 0.7603686635944701\n"
     ]
    },
    {
     "data": {
      "application/vnd.jupyter.widget-view+json": {
       "model_id": "7f9b2433f05e4542b01068938587caa7",
       "version_major": 2,
       "version_minor": 0
      },
      "text/plain": [
       "Epoch 2/10:   0%|          | 0/6187 [00:00<?, ?it/s]"
      ]
     },
     "metadata": {},
     "output_type": "display_data"
    },
    {
     "name": "stdout",
     "output_type": "stream",
     "text": [
      "Epoch 2/10, Train Loss: 0.48912475479302003\n"
     ]
    },
    {
     "data": {
      "application/vnd.jupyter.widget-view+json": {
       "model_id": "01ed5f485fc540a2ae83f225e733f372",
       "version_major": 2,
       "version_minor": 0
      },
      "text/plain": [
       "Validation:   0%|          | 0/163 [00:00<?, ?it/s]"
      ]
     },
     "metadata": {},
     "output_type": "display_data"
    },
    {
     "name": "stdout",
     "output_type": "stream",
     "text": [
      "Epoch 2/10, Validation Loss: 0.4483412707044509, Validation Accuracy: 0.8571428571428571\n"
     ]
    },
    {
     "data": {
      "application/vnd.jupyter.widget-view+json": {
       "model_id": "7e8d453c11ae45d681e9ae13fe30b663",
       "version_major": 2,
       "version_minor": 0
      },
      "text/plain": [
       "Epoch 3/10:   0%|          | 0/6187 [00:00<?, ?it/s]"
      ]
     },
     "metadata": {},
     "output_type": "display_data"
    },
    {
     "name": "stdout",
     "output_type": "stream",
     "text": [
      "Epoch 3/10, Train Loss: 0.32864192259162806\n"
     ]
    },
    {
     "data": {
      "application/vnd.jupyter.widget-view+json": {
       "model_id": "2836f480e10d4685abe314f19ce80c69",
       "version_major": 2,
       "version_minor": 0
      },
      "text/plain": [
       "Validation:   0%|          | 0/163 [00:00<?, ?it/s]"
      ]
     },
     "metadata": {},
     "output_type": "display_data"
    },
    {
     "name": "stdout",
     "output_type": "stream",
     "text": [
      "Epoch 3/10, Validation Loss: 0.2923681101253959, Validation Accuracy: 0.9001536098310292\n"
     ]
    },
    {
     "data": {
      "application/vnd.jupyter.widget-view+json": {
       "model_id": "135b32534c934e32a228048e9dd0db9d",
       "version_major": 2,
       "version_minor": 0
      },
      "text/plain": [
       "Epoch 4/10:   0%|          | 0/6187 [00:00<?, ?it/s]"
      ]
     },
     "metadata": {},
     "output_type": "display_data"
    },
    {
     "name": "stdout",
     "output_type": "stream",
     "text": [
      "Epoch 4/10, Train Loss: 0.2633632000661044\n"
     ]
    },
    {
     "data": {
      "application/vnd.jupyter.widget-view+json": {
       "model_id": "1465ab87674c4a53a6340fedf58ae70b",
       "version_major": 2,
       "version_minor": 0
      },
      "text/plain": [
       "Validation:   0%|          | 0/163 [00:00<?, ?it/s]"
      ]
     },
     "metadata": {},
     "output_type": "display_data"
    },
    {
     "name": "stdout",
     "output_type": "stream",
     "text": [
      "Epoch 4/10, Validation Loss: 0.20003168092810544, Validation Accuracy: 0.9416282642089093\n"
     ]
    },
    {
     "data": {
      "application/vnd.jupyter.widget-view+json": {
       "model_id": "9bdeb0b7da3348e88601314deaf70990",
       "version_major": 2,
       "version_minor": 0
      },
      "text/plain": [
       "Epoch 5/10:   0%|          | 0/6187 [00:00<?, ?it/s]"
      ]
     },
     "metadata": {},
     "output_type": "display_data"
    },
    {
     "name": "stdout",
     "output_type": "stream",
     "text": [
      "Epoch 5/10, Train Loss: 0.217193632302406\n"
     ]
    },
    {
     "data": {
      "application/vnd.jupyter.widget-view+json": {
       "model_id": "cfb51ae1b1ca44778870d742a3b4268b",
       "version_major": 2,
       "version_minor": 0
      },
      "text/plain": [
       "Validation:   0%|          | 0/163 [00:00<?, ?it/s]"
      ]
     },
     "metadata": {},
     "output_type": "display_data"
    },
    {
     "name": "stdout",
     "output_type": "stream",
     "text": [
      "Epoch 5/10, Validation Loss: 0.268715247043951, Validation Accuracy: 0.9201228878648233\n"
     ]
    },
    {
     "data": {
      "application/vnd.jupyter.widget-view+json": {
       "model_id": "eb850891387e42aab5fe75e35695b5ad",
       "version_major": 2,
       "version_minor": 0
      },
      "text/plain": [
       "Epoch 6/10:   0%|          | 0/6187 [00:00<?, ?it/s]"
      ]
     },
     "metadata": {},
     "output_type": "display_data"
    },
    {
     "name": "stdout",
     "output_type": "stream",
     "text": [
      "Epoch 6/10, Train Loss: 0.1858853724068795\n"
     ]
    },
    {
     "data": {
      "application/vnd.jupyter.widget-view+json": {
       "model_id": "9ed686ecea9f4f5b9da5790919372328",
       "version_major": 2,
       "version_minor": 0
      },
      "text/plain": [
       "Validation:   0%|          | 0/163 [00:00<?, ?it/s]"
      ]
     },
     "metadata": {},
     "output_type": "display_data"
    },
    {
     "name": "stdout",
     "output_type": "stream",
     "text": [
      "Epoch 6/10, Validation Loss: 0.20533810882055156, Validation Accuracy: 0.9416282642089093\n"
     ]
    },
    {
     "data": {
      "application/vnd.jupyter.widget-view+json": {
       "model_id": "725bb3367afd4f99ac1a8be2efc34bea",
       "version_major": 2,
       "version_minor": 0
      },
      "text/plain": [
       "Epoch 7/10:   0%|          | 0/6187 [00:00<?, ?it/s]"
      ]
     },
     "metadata": {},
     "output_type": "display_data"
    },
    {
     "name": "stdout",
     "output_type": "stream",
     "text": [
      "Epoch 7/10, Train Loss: 0.15788980194038313\n"
     ]
    },
    {
     "data": {
      "application/vnd.jupyter.widget-view+json": {
       "model_id": "d1b27ccf79bf4eb8bbbb3614d66d5152",
       "version_major": 2,
       "version_minor": 0
      },
      "text/plain": [
       "Validation:   0%|          | 0/163 [00:00<?, ?it/s]"
      ]
     },
     "metadata": {},
     "output_type": "display_data"
    },
    {
     "name": "stdout",
     "output_type": "stream",
     "text": [
      "Epoch 7/10, Validation Loss: 0.22748474035362704, Validation Accuracy: 0.9354838709677419\n"
     ]
    },
    {
     "data": {
      "application/vnd.jupyter.widget-view+json": {
       "model_id": "592b85cbc84740e4a04d1b94f0b0dcf3",
       "version_major": 2,
       "version_minor": 0
      },
      "text/plain": [
       "Epoch 8/10:   0%|          | 0/6187 [00:00<?, ?it/s]"
      ]
     },
     "metadata": {},
     "output_type": "display_data"
    },
    {
     "name": "stdout",
     "output_type": "stream",
     "text": [
      "Epoch 8/10, Train Loss: 0.13519847338706936\n"
     ]
    },
    {
     "data": {
      "application/vnd.jupyter.widget-view+json": {
       "model_id": "1d01862b9f6e40b28281ffea0823db97",
       "version_major": 2,
       "version_minor": 0
      },
      "text/plain": [
       "Validation:   0%|          | 0/163 [00:00<?, ?it/s]"
      ]
     },
     "metadata": {},
     "output_type": "display_data"
    },
    {
     "name": "stdout",
     "output_type": "stream",
     "text": [
      "Epoch 8/10, Validation Loss: 0.25749505785771176, Validation Accuracy: 0.9247311827956989\n"
     ]
    },
    {
     "data": {
      "application/vnd.jupyter.widget-view+json": {
       "model_id": "a2c5f6318d554fd98f671fb2892f68da",
       "version_major": 2,
       "version_minor": 0
      },
      "text/plain": [
       "Epoch 9/10:   0%|          | 0/6187 [00:00<?, ?it/s]"
      ]
     },
     "metadata": {},
     "output_type": "display_data"
    }
   ],
   "source": [
    "import random\n",
    "import numpy as np\n",
    "\n",
    "for i in tqdm(np.arange (0, 5, 1), desc='Training loop (5 times)'):\n",
    "   \n",
    "    random.seed(int(i))\n",
    "    torch.manual_seed(i)\n",
    "    torch.cuda.manual_seed(i)\n",
    "    torch.cuda.manual_seed_all(i)\n",
    "\n",
    "    \n",
    "   \n",
    "    model = Wav2Vec2ForSequenceClassification.from_pretrained(model_name)\n",
    "\n",
    "    only_name = model_name.split(\"/\")[-1]   \n",
    "\n",
    "\n",
    "    optimizer = torch.optim.Adam(model.parameters(), lr=0.001)\n",
    "    criterion = torch.nn.CrossEntropyLoss()\n",
    "\n",
    "    device = torch.device('cuda')\n",
    "    # Assuming your model is named ast_model\n",
    "    freeze_layers_except_last_n(model.wav2vec2.encoder.layers, 4)\n",
    "\n",
    "    model.to(device)\n",
    "\n",
    "    train_dataset = CustomAudioDataset(data_dir, fixed_length=16000, transform=feature_extractor)\n",
    "                                    \n",
    "\n",
    "\n",
    "    n_train = len(train_dataset)\n",
    "    n_val = int(perc * n_train)\n",
    "    n_test = n_val//2\n",
    "    n_train = n_train - n_val\n",
    "\n",
    "    train_dataset, val_dataset = torch.utils.data.random_split(train_dataset, [n_train, n_val], generator=torch.Generator().manual_seed(42))\n",
    "    val_dataset, test_dataset = torch.utils.data.random_split(val_dataset, [n_val-n_test, n_test], generator=torch.Generator().manual_seed(42))\n",
    "\n",
    "    train_loader = DataLoader(train_dataset, batch_size=batch_size, shuffle=True)\n",
    "    val_loader = DataLoader(val_dataset, batch_size=batch_size, shuffle=False)\n",
    "    test_loader = DataLoader(test_dataset, batch_size=batch_size, shuffle=False)\n",
    "    \n",
    "\n",
    "    labels = set(train_dataset.dataset.labels)\n",
    "    label_to_index = dict((label, i) for i, label in enumerate(sorted(labels)))\n",
    "    name = data_dir.split(\"/\")[-2]\n",
    "    # print(name)\n",
    "    log_dir = train(model, train_loader, val_loader, num_epochs, optimizer, criterion, device, label_to_index, only_name, log=True, description=f\"test_{name}_{i}\")\n",
    "    test(model, test_loader, criterion, device, label_to_index, only_name, log_dir)\n",
    "\n"
   ]
  },
  {
   "cell_type": "code",
   "execution_count": null,
   "metadata": {},
   "outputs": [],
   "source": []
  }
 ],
 "metadata": {
  "kernelspec": {
   "display_name": "py310",
   "language": "python",
   "name": "python3"
  },
  "language_info": {
   "codemirror_mode": {
    "name": "ipython",
    "version": 3
   },
   "file_extension": ".py",
   "mimetype": "text/x-python",
   "name": "python",
   "nbconvert_exporter": "python",
   "pygments_lexer": "ipython3",
   "version": "3.9.19"
  }
 },
 "nbformat": 4,
 "nbformat_minor": 2
}
